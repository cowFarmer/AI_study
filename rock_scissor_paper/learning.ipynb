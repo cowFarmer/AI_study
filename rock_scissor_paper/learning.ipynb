{
 "cells": [
  {
   "cell_type": "code",
   "execution_count": 1,
   "metadata": {},
   "outputs": [],
   "source": [
    "from PIL import Image\n",
    "import glob\n",
    "import os\n",
    "import numpy as np\n",
    "import matplotlib.pyplot as plt # for visualization\n",
    "import tensorflow as tf\n",
    "from tensorflow import keras"
   ]
  },
  {
   "cell_type": "markdown",
   "metadata": {
    "id": "Xaq3WAxDmQ7k"
   },
   "source": [
    "### Resize Data images"
   ]
  },
  {
   "cell_type": "code",
   "execution_count": 2,
   "metadata": {
    "id": "XMT4HI4BmQHR"
   },
   "outputs": [
    {
     "name": "stdout",
     "output_type": "stream",
     "text": [
      "900  images to be resized.\n",
      "900  images resized.\n",
      "가위 이미지 resize 완료!\n"
     ]
    }
   ],
   "source": [
    "def resize_images(img_path):\n",
    "\timages=glob.glob(img_path + \"/*.jpg\")  \n",
    "    \n",
    "\tprint(len(images), \" images to be resized.\")\n",
    "\n",
    "    # 파일마다 모두 28x28 -> 56x56 사이즈로 바꾸어 저장합니다.\n",
    "\ttarget_size=(56,56)\n",
    "\tfor img in images:\n",
    "\t\told_img=Image.open(img)\n",
    "\t\tnew_img=old_img.resize(target_size,Image.ANTIALIAS)\n",
    "\t\tnew_img.save(img, \"JPEG\")\n",
    "    \n",
    "\tprint(len(images), \" images resized.\")\n",
    "\t\n",
    "# 가위 이미지가 저장된 디렉토리 아래의 모든 jpg 파일을 읽어들여서\n",
    "image_dir_path = os.getenv(\"HOME\") + \"/aiffel/rock_scissor_paper/scissor\"\n",
    "resize_images(image_dir_path)\n",
    "\n",
    "print(\"가위 이미지 resize 완료!\")"
   ]
  },
  {
   "cell_type": "code",
   "execution_count": 3,
   "metadata": {
    "id": "WgVLPlv5mdGR"
   },
   "outputs": [
    {
     "name": "stdout",
     "output_type": "stream",
     "text": [
      "900  images to be resized.\n",
      "900  images resized.\n",
      "바위 이미지 resize 완료!\n"
     ]
    }
   ],
   "source": [
    "def resize_images(img_path):\n",
    "\timages=glob.glob(img_path + \"/*.jpg\")  \n",
    "    \n",
    "\tprint(len(images), \" images to be resized.\")\n",
    "\n",
    "    # 파일마다 모두 28x28 -> 56x56 사이즈로 바꾸어 저장합니다.\n",
    "\ttarget_size=(56,56)\n",
    "\tfor img in images:\n",
    "\t\told_img=Image.open(img)\n",
    "\t\tnew_img=old_img.resize(target_size,Image.ANTIALIAS)\n",
    "\t\tnew_img.save(img, \"JPEG\")\n",
    "    \n",
    "\tprint(len(images), \" images resized.\")\n",
    "    \n",
    "image_dir_path = os.getenv(\"HOME\") + \"/aiffel/rock_scissor_paper/rock\"\n",
    "resize_images(image_dir_path)\n",
    "\n",
    "print(\"바위 이미지 resize 완료!\")"
   ]
  },
  {
   "cell_type": "code",
   "execution_count": 4,
   "metadata": {
    "id": "RDZ2OnFSmdlO",
    "scrolled": false
   },
   "outputs": [
    {
     "name": "stdout",
     "output_type": "stream",
     "text": [
      "900  images to be resized.\n",
      "900  images resized.\n",
      "보 이미지 resize 완료!\n"
     ]
    }
   ],
   "source": [
    "def resize_images(img_path):\n",
    "\timages=glob.glob(img_path + \"/*.jpg\")  \n",
    "    \n",
    "\tprint(len(images), \" images to be resized.\")\n",
    "\n",
    "    # 파일마다 모두 28x28 -> 56x56 사이즈로 바꾸어 저장합니다.\n",
    "\ttarget_size=(56,56)\n",
    "\tfor img in images:\n",
    "\t\told_img=Image.open(img)\n",
    "\t\tnew_img=old_img.resize(target_size,Image.ANTIALIAS)\n",
    "\t\tnew_img.save(img, \"JPEG\")\n",
    "    \n",
    "\tprint(len(images), \" images resized.\")\n",
    "    \n",
    "image_dir_path = os.getenv(\"HOME\") + \"/aiffel/rock_scissor_paper/paper\"\n",
    "resize_images(image_dir_path)\n",
    "\n",
    "print(\"보 이미지 resize 완료!\")"
   ]
  },
  {
   "cell_type": "markdown",
   "metadata": {},
   "source": [
    "### Resize test Data images"
   ]
  },
  {
   "cell_type": "code",
   "execution_count": 13,
   "metadata": {},
   "outputs": [
    {
     "name": "stdout",
     "output_type": "stream",
     "text": [
      "100  images to be resized.\n",
      "100  images resized.\n",
      "가위 테스트 이미지 resize 완료!\n",
      "100  images to be resized.\n",
      "100  images resized.\n",
      "바위 테스트 이미지 resize 완료!\n",
      "100  images to be resized.\n",
      "100  images resized.\n",
      "보 테스트 이미지 resize 완료!\n"
     ]
    }
   ],
   "source": [
    "def resize_images(img_path):\n",
    "\timages=glob.glob(img_path + \"/*.jpg\")  \n",
    "    \n",
    "\tprint(len(images), \" images to be resized.\")\n",
    "\n",
    "    # 파일마다 모두 28x28 -> 56x56 사이즈로 바꾸어 저장합니다.\n",
    "\ttarget_size=(56,56)\n",
    "\tfor img in images:\n",
    "\t\told_img=Image.open(img)\n",
    "\t\tnew_img=old_img.resize(target_size,Image.ANTIALIAS)\n",
    "\t\tnew_img.save(img, \"JPEG\")\n",
    "    \n",
    "\tprint(len(images), \" images resized.\")\n",
    "\t\n",
    "# 테스트 가위, 바위, 보 이미지가 저장된 디렉토리 아래의 모든 jpg 파일을 읽어들여서\n",
    "image_dir_path = os.getenv(\"HOME\") + \"/aiffel/rock_scissor_paper/test/scissor\"\n",
    "resize_images(image_dir_path)\n",
    "print(\"가위 테스트 이미지 resize 완료!\")\n",
    "\n",
    "image_dir_path = os.getenv(\"HOME\") + \"/aiffel/rock_scissor_paper/test/rock\"\n",
    "resize_images(image_dir_path)\n",
    "print(\"바위 테스트 이미지 resize 완료!\")\n",
    "\n",
    "image_dir_path = os.getenv(\"HOME\") + \"/aiffel/rock_scissor_paper/test/paper\"\n",
    "resize_images(image_dir_path)\n",
    "\n",
    "print(\"보 테스트 이미지 resize 완료!\")"
   ]
  },
  {
   "cell_type": "markdown",
   "metadata": {
    "id": "EDDG4iFBnZAK"
   },
   "source": [
    "### Data labeling"
   ]
  },
  {
   "cell_type": "code",
   "execution_count": 5,
   "metadata": {
    "id": "JEsHNCiukTDc"
   },
   "outputs": [
    {
     "name": "stdout",
     "output_type": "stream",
     "text": [
      "학습데이터(x_train)의 이미지 개수는 2700 입니다.\n",
      "[[[[0.63529412 0.69411765 0.70588235]\n",
      "   [0.63529412 0.69411765 0.70588235]\n",
      "   [0.63137255 0.69019608 0.70196078]\n",
      "   ...\n",
      "   [0.30588235 0.32941176 0.32941176]\n",
      "   [0.29019608 0.31372549 0.30588235]\n",
      "   [0.28627451 0.30196078 0.29803922]]\n",
      "\n",
      "  [[0.65098039 0.70980392 0.72156863]\n",
      "   [0.64705882 0.70588235 0.71764706]\n",
      "   [0.64705882 0.70588235 0.71764706]\n",
      "   ...\n",
      "   [0.30588235 0.32941176 0.32941176]\n",
      "   [0.30196078 0.3254902  0.31764706]\n",
      "   [0.30588235 0.32156863 0.31764706]]\n",
      "\n",
      "  [[0.67058824 0.72941176 0.74117647]\n",
      "   [0.67058824 0.72941176 0.74117647]\n",
      "   [0.66666667 0.7254902  0.7372549 ]\n",
      "   ...\n",
      "   [0.29803922 0.32156863 0.32156863]\n",
      "   [0.31372549 0.3372549  0.32941176]\n",
      "   [0.3254902  0.34117647 0.3372549 ]]\n",
      "\n",
      "  ...\n",
      "\n",
      "  [[0.55686275 0.56078431 0.5372549 ]\n",
      "   [0.8        0.80392157 0.78039216]\n",
      "   [0.97647059 0.98039216 0.96078431]\n",
      "   ...\n",
      "   [0.44705882 0.40784314 0.4       ]\n",
      "   [0.36470588 0.32156863 0.31372549]\n",
      "   [0.22352941 0.16862745 0.16470588]]\n",
      "\n",
      "  [[0.58039216 0.58431373 0.56078431]\n",
      "   [0.78039216 0.78431373 0.76078431]\n",
      "   [0.9372549  0.94117647 0.92156863]\n",
      "   ...\n",
      "   [0.49019608 0.45098039 0.44313725]\n",
      "   [0.31372549 0.25882353 0.25490196]\n",
      "   [0.21960784 0.15686275 0.15686275]]\n",
      "\n",
      "  [[0.59607843 0.6        0.57647059]\n",
      "   [0.76470588 0.76862745 0.74509804]\n",
      "   [0.90980392 0.91372549 0.89411765]\n",
      "   ...\n",
      "   [0.51372549 0.47058824 0.4627451 ]\n",
      "   [0.25882353 0.20392157 0.2       ]\n",
      "   [0.20392157 0.14117647 0.14117647]]]\n",
      "\n",
      "\n",
      " [[[0.52941176 0.46666667 0.40392157]\n",
      "   [0.5254902  0.4627451  0.40392157]\n",
      "   [0.5254902  0.4627451  0.40392157]\n",
      "   ...\n",
      "   [0.52156863 0.46666667 0.43137255]\n",
      "   [0.52156863 0.46666667 0.43137255]\n",
      "   [0.51372549 0.45882353 0.41568627]]\n",
      "\n",
      "  [[0.52941176 0.46666667 0.40392157]\n",
      "   [0.52941176 0.46666667 0.40392157]\n",
      "   [0.5254902  0.4627451  0.40392157]\n",
      "   ...\n",
      "   [0.52156863 0.46666667 0.43137255]\n",
      "   [0.51764706 0.4627451  0.42745098]\n",
      "   [0.51372549 0.45882353 0.41568627]]\n",
      "\n",
      "  [[0.53333333 0.47058824 0.40784314]\n",
      "   [0.53333333 0.47058824 0.40784314]\n",
      "   [0.52941176 0.46666667 0.40784314]\n",
      "   ...\n",
      "   [0.52156863 0.46666667 0.43137255]\n",
      "   [0.51764706 0.4627451  0.42745098]\n",
      "   [0.50980392 0.45490196 0.41176471]]\n",
      "\n",
      "  ...\n",
      "\n",
      "  [[0.01176471 0.03529412 0.03529412]\n",
      "   [0.01176471 0.03529412 0.03529412]\n",
      "   [0.01568627 0.03137255 0.03529412]\n",
      "   ...\n",
      "   [0.46666667 0.34117647 0.19215686]\n",
      "   [0.64313725 0.51764706 0.36862745]\n",
      "   [0.52156863 0.39607843 0.24313725]]\n",
      "\n",
      "  [[0.01176471 0.03529412 0.03529412]\n",
      "   [0.01176471 0.03529412 0.03529412]\n",
      "   [0.01568627 0.03137255 0.03529412]\n",
      "   ...\n",
      "   [0.4745098  0.34901961 0.2       ]\n",
      "   [0.61960784 0.49411765 0.34509804]\n",
      "   [0.5372549  0.41176471 0.25882353]]\n",
      "\n",
      "  [[0.01176471 0.03529412 0.03529412]\n",
      "   [0.01176471 0.03529412 0.03529412]\n",
      "   [0.01568627 0.03137255 0.03529412]\n",
      "   ...\n",
      "   [0.4745098  0.34901961 0.2       ]\n",
      "   [0.58823529 0.4627451  0.31372549]\n",
      "   [0.5372549  0.41176471 0.25882353]]]\n",
      "\n",
      "\n",
      " [[[0.25098039 0.2745098  0.26666667]\n",
      "   [0.25098039 0.2745098  0.26666667]\n",
      "   [0.25490196 0.27843137 0.27058824]\n",
      "   ...\n",
      "   [0.71372549 0.70980392 0.69411765]\n",
      "   [0.24705882 0.24313725 0.22745098]\n",
      "   [0.2745098  0.27058824 0.25490196]]\n",
      "\n",
      "  [[0.24705882 0.27058824 0.2627451 ]\n",
      "   [0.25098039 0.2745098  0.26666667]\n",
      "   [0.25098039 0.2745098  0.26666667]\n",
      "   ...\n",
      "   [0.70196078 0.69803922 0.68235294]\n",
      "   [0.2627451  0.25882353 0.24313725]\n",
      "   [0.29019608 0.28627451 0.27058824]]\n",
      "\n",
      "  [[0.24705882 0.27058824 0.2627451 ]\n",
      "   [0.24705882 0.27058824 0.2627451 ]\n",
      "   [0.25098039 0.2745098  0.26666667]\n",
      "   ...\n",
      "   [0.57254902 0.56862745 0.55294118]\n",
      "   [0.23921569 0.23529412 0.21960784]\n",
      "   [0.27843137 0.2745098  0.25882353]]\n",
      "\n",
      "  ...\n",
      "\n",
      "  [[0.29803922 0.3254902  0.29803922]\n",
      "   [0.30196078 0.32941176 0.30196078]\n",
      "   [0.30196078 0.32156863 0.29803922]\n",
      "   ...\n",
      "   [0.37254902 0.37254902 0.34117647]\n",
      "   [0.3372549  0.3372549  0.30588235]\n",
      "   [0.30196078 0.30196078 0.27058824]]\n",
      "\n",
      "  [[0.30196078 0.32941176 0.30196078]\n",
      "   [0.30588235 0.33333333 0.30588235]\n",
      "   [0.30588235 0.3254902  0.30196078]\n",
      "   ...\n",
      "   [0.38039216 0.38039216 0.34901961]\n",
      "   [0.27843137 0.27843137 0.24705882]\n",
      "   [0.14509804 0.14509804 0.11372549]]\n",
      "\n",
      "  [[0.30588235 0.33333333 0.30588235]\n",
      "   [0.30980392 0.3372549  0.30980392]\n",
      "   [0.31372549 0.33333333 0.30980392]\n",
      "   ...\n",
      "   [0.38039216 0.38039216 0.34901961]\n",
      "   [0.21568627 0.21568627 0.18431373]\n",
      "   [0.01176471 0.01176471 0.        ]]]\n",
      "\n",
      "\n",
      " ...\n",
      "\n",
      "\n",
      " [[[0.38039216 0.40392157 0.39607843]\n",
      "   [0.38431373 0.40784314 0.39215686]\n",
      "   [0.4        0.42352941 0.40784314]\n",
      "   ...\n",
      "   [0.39607843 0.41960784 0.37254902]\n",
      "   [0.37647059 0.4        0.35294118]\n",
      "   [0.36078431 0.38431373 0.3372549 ]]\n",
      "\n",
      "  [[0.38039216 0.40392157 0.39607843]\n",
      "   [0.38431373 0.40784314 0.4       ]\n",
      "   [0.40392157 0.42745098 0.41176471]\n",
      "   ...\n",
      "   [0.38039216 0.40392157 0.35686275]\n",
      "   [0.35686275 0.38039216 0.33333333]\n",
      "   [0.3372549  0.36078431 0.31372549]]\n",
      "\n",
      "  [[0.38039216 0.40392157 0.39607843]\n",
      "   [0.38431373 0.40784314 0.4       ]\n",
      "   [0.40392157 0.42745098 0.41176471]\n",
      "   ...\n",
      "   [0.34117647 0.36470588 0.31764706]\n",
      "   [0.31764706 0.34117647 0.29411765]\n",
      "   [0.30588235 0.32941176 0.28235294]]\n",
      "\n",
      "  ...\n",
      "\n",
      "  [[0.44313725 0.49019608 0.55294118]\n",
      "   [0.42352941 0.49019608 0.56862745]\n",
      "   [0.29803922 0.4        0.49019608]\n",
      "   ...\n",
      "   [0.32941176 0.32941176 0.36862745]\n",
      "   [0.24313725 0.23921569 0.2627451 ]\n",
      "   [0.16862745 0.16078431 0.18039216]]\n",
      "\n",
      "  [[0.43529412 0.48235294 0.54509804]\n",
      "   [0.40784314 0.4745098  0.55294118]\n",
      "   [0.27843137 0.38039216 0.47058824]\n",
      "   ...\n",
      "   [0.36470588 0.37254902 0.41960784]\n",
      "   [0.26666667 0.26666667 0.30588235]\n",
      "   [0.17647059 0.17254902 0.20392157]]\n",
      "\n",
      "  [[0.43137255 0.47843137 0.54117647]\n",
      "   [0.39607843 0.4627451  0.54117647]\n",
      "   [0.26666667 0.36862745 0.45882353]\n",
      "   ...\n",
      "   [0.34901961 0.36470588 0.41176471]\n",
      "   [0.29803922 0.30980392 0.34509804]\n",
      "   [0.23137255 0.23137255 0.27058824]]]\n",
      "\n",
      "\n",
      " [[[0.45882353 0.45098039 0.45490196]\n",
      "   [0.41960784 0.41176471 0.41568627]\n",
      "   [0.38431373 0.37647059 0.38039216]\n",
      "   ...\n",
      "   [0.43529412 0.47058824 0.46666667]\n",
      "   [0.41960784 0.45490196 0.45098039]\n",
      "   [0.40784314 0.44313725 0.43921569]]\n",
      "\n",
      "  [[0.4627451  0.45490196 0.45882353]\n",
      "   [0.42745098 0.41960784 0.42352941]\n",
      "   [0.39215686 0.38431373 0.38823529]\n",
      "   ...\n",
      "   [0.45882353 0.49411765 0.49019608]\n",
      "   [0.44313725 0.47843137 0.4745098 ]\n",
      "   [0.43529412 0.47058824 0.46666667]]\n",
      "\n",
      "  [[0.46666667 0.45882353 0.4627451 ]\n",
      "   [0.43921569 0.43137255 0.43529412]\n",
      "   [0.40784314 0.4        0.40392157]\n",
      "   ...\n",
      "   [0.47843137 0.51372549 0.50980392]\n",
      "   [0.46666667 0.50196078 0.49803922]\n",
      "   [0.45490196 0.49019608 0.48627451]]\n",
      "\n",
      "  ...\n",
      "\n",
      "  [[0.45882353 0.43137255 0.40784314]\n",
      "   [0.48627451 0.4745098  0.45490196]\n",
      "   [0.94901961 0.96078431 0.93333333]\n",
      "   ...\n",
      "   [0.38431373 0.36078431 0.53333333]\n",
      "   [0.29019608 0.2627451  0.4627451 ]\n",
      "   [0.06666667 0.03921569 0.23921569]]\n",
      "\n",
      "  [[0.41568627 0.38039216 0.35294118]\n",
      "   [0.64313725 0.62745098 0.59215686]\n",
      "   [0.90196078 0.90588235 0.8745098 ]\n",
      "   ...\n",
      "   [0.4        0.37254902 0.53333333]\n",
      "   [0.23921569 0.21176471 0.38431373]\n",
      "   [0.00392157 0.         0.14901961]]\n",
      "\n",
      "  [[0.38823529 0.34509804 0.32156863]\n",
      "   [0.75294118 0.7254902  0.69411765]\n",
      "   [0.80392157 0.80392157 0.76470588]\n",
      "   ...\n",
      "   [0.83921569 0.81568627 0.96470588]\n",
      "   [0.47843137 0.45098039 0.61568627]\n",
      "   [0.0627451  0.03529412 0.2       ]]]\n",
      "\n",
      "\n",
      " [[[0.81176471 0.84705882 0.82745098]\n",
      "   [0.81960784 0.83921569 0.82352941]\n",
      "   [0.82352941 0.82352941 0.81568627]\n",
      "   ...\n",
      "   [0.50980392 0.50980392 0.50196078]\n",
      "   [0.4627451  0.4627451  0.45490196]\n",
      "   [0.4627451  0.4627451  0.45490196]]\n",
      "\n",
      "  [[0.81960784 0.85490196 0.83529412]\n",
      "   [0.82745098 0.84705882 0.83137255]\n",
      "   [0.83529412 0.83529412 0.82745098]\n",
      "   ...\n",
      "   [0.50980392 0.50980392 0.50196078]\n",
      "   [0.4627451  0.4627451  0.45490196]\n",
      "   [0.4627451  0.4627451  0.45490196]]\n",
      "\n",
      "  [[0.83137255 0.86666667 0.84705882]\n",
      "   [0.83921569 0.85882353 0.84313725]\n",
      "   [0.84705882 0.84705882 0.83921569]\n",
      "   ...\n",
      "   [0.50980392 0.50980392 0.50196078]\n",
      "   [0.45882353 0.45882353 0.45098039]\n",
      "   [0.4627451  0.4627451  0.45490196]]\n",
      "\n",
      "  ...\n",
      "\n",
      "  [[0.02352941 0.07058824 0.13333333]\n",
      "   [0.02352941 0.07058824 0.13333333]\n",
      "   [0.01960784 0.07058824 0.13333333]\n",
      "   ...\n",
      "   [0.58039216 0.56470588 0.55294118]\n",
      "   [0.39215686 0.37254902 0.35686275]\n",
      "   [0.4        0.37254902 0.34901961]]\n",
      "\n",
      "  [[0.01960784 0.06666667 0.12941176]\n",
      "   [0.02352941 0.07058824 0.13333333]\n",
      "   [0.01960784 0.07058824 0.13333333]\n",
      "   ...\n",
      "   [0.57647059 0.56078431 0.54901961]\n",
      "   [0.38823529 0.36862745 0.35294118]\n",
      "   [0.39215686 0.36470588 0.34117647]]\n",
      "\n",
      "  [[0.01960784 0.06666667 0.12941176]\n",
      "   [0.02352941 0.07058824 0.13333333]\n",
      "   [0.01960784 0.07058824 0.13333333]\n",
      "   ...\n",
      "   [0.57254902 0.55686275 0.54509804]\n",
      "   [0.38431373 0.36470588 0.34901961]\n",
      "   [0.39215686 0.36470588 0.34117647]]]]\n",
      "x_train shape: (2700, 56, 56, 3)\n",
      "y_train shape: (2700,)\n"
     ]
    }
   ],
   "source": [
    "def load_data(img_path, number_of_data=2700):  # 가위바위보 이미지 개수 총합에 주의하세요. 기존 300 -> 2700\n",
    "    # 가위 : 0, 바위 : 1, 보 : 2\n",
    "    img_size=56  # 28 -> 56\n",
    "    color=3\n",
    "    #이미지 데이터와 라벨(가위 : 0, 바위 : 1, 보 : 2) 데이터를 담을 행렬(matrix) 영역을 생성합니다.\n",
    "    imgs=np.zeros(number_of_data*img_size*img_size*color,dtype=np.int32).reshape(number_of_data,img_size,img_size,color)\n",
    "    labels=np.zeros(number_of_data,dtype=np.int32)\n",
    "\n",
    "    idx=0\n",
    "    for file in glob.iglob(img_path+'/scissor/*.jpg'):\n",
    "        img = np.array(Image.open(file),dtype=np.int32)\n",
    "        imgs[idx,:,:,:]=img    # 데이터 영역에 이미지 행렬을 복사\n",
    "        labels[idx]=0   # 가위 : 0\n",
    "        idx=idx+1\n",
    "\n",
    "    for file in glob.iglob(img_path+'/rock/*.jpg'):\n",
    "        img = np.array(Image.open(file),dtype=np.int32)\n",
    "        imgs[idx,:,:,:]=img    # 데이터 영역에 이미지 행렬을 복사\n",
    "        labels[idx]=1   # 바위 : 1\n",
    "        idx=idx+1  \n",
    "    \n",
    "    for file in glob.iglob(img_path+'/paper/*.jpg'):\n",
    "        img = np.array(Image.open(file),dtype=np.int32)\n",
    "        imgs[idx,:,:,:]=img    # 데이터 영역에 이미지 행렬을 복사\n",
    "        labels[idx]=2   # 보 : 2\n",
    "        idx=idx+1\n",
    "        \n",
    "    print(\"학습데이터(x_train)의 이미지 개수는\", idx,\"입니다.\")\n",
    "    return imgs, labels\n",
    "\n",
    "image_dir_path = os.getenv(\"HOME\") + \"/aiffel/rock_scissor_paper\"\n",
    "(x_train, y_train)=load_data(image_dir_path)\n",
    "x_train_norm = x_train/255.0   # 입력은 0~1 사이의 값으로 정규화\n",
    "print(x_train_norm)\n",
    "\n",
    "print(\"x_train shape: {}\".format(x_train.shape))\n",
    "print(\"y_train shape: {}\".format(y_train.shape))"
   ]
  },
  {
   "cell_type": "code",
   "execution_count": 6,
   "metadata": {
    "id": "loHyd7L2mIIM"
   },
   "outputs": [
    {
     "name": "stdout",
     "output_type": "stream",
     "text": [
      "라벨:  0\n"
     ]
    },
    {
     "data": {
      "image/png": "[encoded data removed]",
      "text/plain": [
       "<Figure size 432x288 with 1 Axes>"
      ]
     },
     "metadata": {
      "needs_background": "light"
     },
     "output_type": "display_data"
    }
   ],
   "source": [
    "# 이미지 불러오기\n",
    "plt.imshow(x_train[0])\n",
    "print('라벨: ', y_train[0])"
   ]
  },
  {
   "cell_type": "markdown",
   "metadata": {
    "id": "NWt235P-nutZ"
   },
   "source": [
    "### 딥러닝 네트워크 설계하기"
   ]
  },
  {
   "cell_type": "code",
   "execution_count": 95,
   "metadata": {
    "id": "2OVHfoKWnvL8"
   },
   "outputs": [
    {
     "name": "stdout",
     "output_type": "stream",
     "text": [
      "Model: \"sequential_33\"\n",
      "_________________________________________________________________\n",
      "Layer (type)                 Output Shape              Param #   \n",
      "=================================================================\n",
      "conv2d_98 (Conv2D)           (None, 54, 54, 16)        448       \n",
      "_________________________________________________________________\n",
      "max_pooling2d_98 (MaxPooling (None, 27, 27, 16)        0         \n",
      "_________________________________________________________________\n",
      "dropout_29 (Dropout)         (None, 27, 27, 16)        0         \n",
      "_________________________________________________________________\n",
      "conv2d_99 (Conv2D)           (None, 25, 25, 32)        4640      \n",
      "_________________________________________________________________\n",
      "max_pooling2d_99 (MaxPooling (None, 12, 12, 32)        0         \n",
      "_________________________________________________________________\n",
      "dropout_30 (Dropout)         (None, 12, 12, 32)        0         \n",
      "_________________________________________________________________\n",
      "conv2d_100 (Conv2D)          (None, 10, 10, 64)        18496     \n",
      "_________________________________________________________________\n",
      "max_pooling2d_100 (MaxPoolin (None, 5, 5, 64)          0         \n",
      "_________________________________________________________________\n",
      "dropout_31 (Dropout)         (None, 5, 5, 64)          0         \n",
      "_________________________________________________________________\n",
      "conv2d_101 (Conv2D)          (None, 3, 3, 128)         73856     \n",
      "_________________________________________________________________\n",
      "max_pooling2d_101 (MaxPoolin (None, 1, 1, 128)         0         \n",
      "_________________________________________________________________\n",
      "dropout_32 (Dropout)         (None, 1, 1, 128)         0         \n",
      "_________________________________________________________________\n",
      "flatten_32 (Flatten)         (None, 128)               0         \n",
      "_________________________________________________________________\n",
      "dense_63 (Dense)             (None, 256)               33024     \n",
      "_________________________________________________________________\n",
      "dense_64 (Dense)             (None, 3)                 771       \n",
      "=================================================================\n",
      "Total params: 131,235\n",
      "Trainable params: 131,235\n",
      "Non-trainable params: 0\n",
      "_________________________________________________________________\n"
     ]
    }
   ],
   "source": [
    "# model을 직접 만들어 보세요.\n",
    "# Hint! model의 입력/출력부에 특히 유의해 주세요. 가위바위보 데이터셋은 MNIST 데이터셋과 어떤 점이 달라졌나요?\n",
    "# [[YOUR CODE]]\n",
    "\n",
    "n_channel_1=16\n",
    "n_channel_2=32\n",
    "n_channel_3=64\n",
    "n_channel_4=128\n",
    "n_dense=256\n",
    "n_train_epoch=16\n",
    "\n",
    "model=keras.models.Sequential()\n",
    "model.add(keras.layers.Conv2D(n_channel_1, (3,3), activation='relu', input_shape=(56,56,3))) # rgb라 1 -> 3으로 바꿈\n",
    "model.add(keras.layers.MaxPool2D(2,2))\n",
    "model.add(keras.layers.Dropout(0.1))\n",
    "\n",
    "model.add(keras.layers.Conv2D(n_channel_2, (3,3), activation='relu'))\n",
    "model.add(keras.layers.MaxPooling2D((2,2)))\n",
    "model.add(keras.layers.Dropout(0.1))\n",
    "\n",
    "model.add(keras.layers.Conv2D(n_channel_3, (3,3), activation='relu'))\n",
    "model.add(keras.layers.MaxPooling2D((2,2)))\n",
    "model.add(keras.layers.Dropout(0.1))\n",
    "\n",
    "model.add(keras.layers.Conv2D(n_channel_4, (3,3), activation='relu'))\n",
    "model.add(keras.layers.MaxPooling2D((2,2)))\n",
    "model.add(keras.layers.Dropout(0.1))\n",
    "\n",
    "model.add(keras.layers.Flatten())\n",
    "model.add(keras.layers.Dense(n_dense, activation='relu'))\n",
    "model.add(keras.layers.Dense(3, activation='softmax')) # 최종 분류기의 Class수이다. 주먹, 가위, 보 3종류이므로 10 -> 3\n",
    "\n",
    "model.summary()"
   ]
  },
  {
   "cell_type": "markdown",
   "metadata": {
    "id": "BnvF_7xKn6UY"
   },
   "source": [
    "### 딥러닝 네트워크 학습시키기"
   ]
  },
  {
   "cell_type": "code",
   "execution_count": 96,
   "metadata": {
    "id": "oYgLXrjqn6Bk",
    "scrolled": true
   },
   "outputs": [
    {
     "name": "stdout",
     "output_type": "stream",
     "text": [
      "Epoch 1/16\n",
      "85/85 [==============================] - 1s 5ms/step - loss: 2.5210 - accuracy: 0.3719\n",
      "Epoch 2/16\n",
      "85/85 [==============================] - 0s 5ms/step - loss: 0.9649 - accuracy: 0.5007\n",
      "Epoch 3/16\n",
      "85/85 [==============================] - 0s 4ms/step - loss: 0.8167 - accuracy: 0.5804\n",
      "Epoch 4/16\n",
      "85/85 [==============================] - 0s 4ms/step - loss: 0.7304 - accuracy: 0.6307\n",
      "Epoch 5/16\n",
      "85/85 [==============================] - 0s 4ms/step - loss: 0.6495 - accuracy: 0.6967\n",
      "Epoch 6/16\n",
      "85/85 [==============================] - 0s 4ms/step - loss: 0.5502 - accuracy: 0.7481\n",
      "Epoch 7/16\n",
      "85/85 [==============================] - 0s 4ms/step - loss: 0.4859 - accuracy: 0.7833\n",
      "Epoch 8/16\n",
      "85/85 [==============================] - 0s 5ms/step - loss: 0.4255 - accuracy: 0.8141\n",
      "Epoch 9/16\n",
      "85/85 [==============================] - 0s 4ms/step - loss: 0.3645 - accuracy: 0.8381\n",
      "Epoch 10/16\n",
      "85/85 [==============================] - 0s 4ms/step - loss: 0.3296 - accuracy: 0.8585\n",
      "Epoch 11/16\n",
      "85/85 [==============================] - 0s 4ms/step - loss: 0.2803 - accuracy: 0.8830\n",
      "Epoch 12/16\n",
      "85/85 [==============================] - 0s 4ms/step - loss: 0.2778 - accuracy: 0.8819\n",
      "Epoch 13/16\n",
      "85/85 [==============================] - 0s 4ms/step - loss: 0.2415 - accuracy: 0.9063\n",
      "Epoch 14/16\n",
      "85/85 [==============================] - 0s 4ms/step - loss: 0.2427 - accuracy: 0.8996\n",
      "Epoch 15/16\n",
      "85/85 [==============================] - 0s 4ms/step - loss: 0.2014 - accuracy: 0.9144\n",
      "Epoch 16/16\n",
      "85/85 [==============================] - 0s 4ms/step - loss: 0.1903 - accuracy: 0.9256\n"
     ]
    },
    {
     "data": {
      "text/plain": [
       "<keras.callbacks.History at 0x7f18de1223d0>"
      ]
     },
     "execution_count": 96,
     "metadata": {},
     "output_type": "execute_result"
    }
   ],
   "source": [
    "# model을 학습시키는 코드를 직접 작성해 보세요.\n",
    "# Hint! model.compile()과 model.fit()을 사용해 봅시다.\n",
    "# [[YOUR CODE]]\n",
    "\n",
    "model.compile(optimizer='adam',\n",
    "             loss='sparse_categorical_crossentropy',\n",
    "             metrics=['accuracy'])\n",
    "\n",
    "model.fit(x_train, y_train, epochs=n_train_epoch)"
   ]
  },
  {
   "cell_type": "markdown",
   "metadata": {},
   "source": [
    "### load test Data"
   ]
  },
  {
   "cell_type": "code",
   "execution_count": 69,
   "metadata": {
    "id": "eLfLM2WloADc"
   },
   "outputs": [
    {
     "name": "stdout",
     "output_type": "stream",
     "text": [
      "학습데이터(x_test)의 이미지 개수는 300 입니다.\n",
      "x_test shape: (300, 56, 56, 3)\n",
      "y_test shape: (300,)\n"
     ]
    }
   ],
   "source": [
    "# x_test, y_test를 만드는 방법은 x_train, y_train을 만드는 방법과 아주 유사합니다.\n",
    "# [[YOUR CODE]]\n",
    "def load_data2(img_path, number_of_data=300):  # 가위바위보 이미지 개수 총합에 주의하세요.\n",
    "    # 가위 : 0, 바위 : 1, 보 : 2\n",
    "    img_size=56\n",
    "    color=3\n",
    "    #이미지 데이터와 라벨(가위 : 0, 바위 : 1, 보 : 2) 데이터를 담을 행렬(matrix) 영역을 생성합니다.\n",
    "    imgs=np.zeros(number_of_data*img_size*img_size*color,dtype=np.int32).reshape(number_of_data,img_size,img_size,color)\n",
    "    labels=np.zeros(number_of_data,dtype=np.int32)\n",
    "\n",
    "    idx=0\n",
    "    for file in glob.iglob(img_path+'/scissor/*.jpg'):\n",
    "        img = np.array(Image.open(file),dtype=np.int32)\n",
    "        imgs[idx,:,:,:]=img    # 데이터 영역에 이미지 행렬을 복사\n",
    "        labels[idx]=0   # 가위 : 0\n",
    "        idx=idx+1\n",
    "\n",
    "    for file in glob.iglob(img_path+'/rock/*.jpg'):\n",
    "        img = np.array(Image.open(file),dtype=np.int32)\n",
    "        imgs[idx,:,:,:]=img    # 데이터 영역에 이미지 행렬을 복사\n",
    "        labels[idx]=1   # 바위 : 1\n",
    "        idx=idx+1  \n",
    "    \n",
    "    for file in glob.iglob(img_path+'/paper/*.jpg'):\n",
    "        img = np.array(Image.open(file),dtype=np.int32)\n",
    "        imgs[idx,:,:,:]=img    # 데이터 영역에 이미지 행렬을 복사\n",
    "        labels[idx]=2   # 보 : 2\n",
    "        idx=idx+1\n",
    "        \n",
    "    print(\"학습데이터(x_test)의 이미지 개수는\", idx,\"입니다.\")\n",
    "    return imgs, labels\n",
    "\n",
    "image_dir_path = os.getenv(\"HOME\") + \"/aiffel/rock_scissor_paper/test\"\n",
    "(x_test, y_test)=load_data2(image_dir_path)\n",
    "x_test_norm = x_test/255.0   # 입력은 0~1 사이의 값으로 정규화\n",
    "\n",
    "print(\"x_test shape: {}\".format(x_test.shape))\n",
    "print(\"y_test shape: {}\".format(y_test.shape))"
   ]
  },
  {
   "cell_type": "markdown",
   "metadata": {
    "id": "Yk8PCxaeoAPt"
   },
   "source": [
    "### 모델 평가"
   ]
  },
  {
   "cell_type": "code",
   "execution_count": 97,
   "metadata": {
    "id": "KuyyikHSoPnf"
   },
   "outputs": [
    {
     "name": "stdout",
     "output_type": "stream",
     "text": [
      "10/10 - 0s - loss: 1.1024 - accuracy: 0.3333\n",
      "test_loss: 1.102402687072754 \n",
      "test_accuracy: 0.3333333432674408\n"
     ]
    }
   ],
   "source": [
    "test_loss, test_accuracy = model.evaluate(x_test_norm, y_test, verbose=2)\n",
    "print(\"test_loss: {} \".format(test_loss))\n",
    "print(\"test_accuracy: {}\".format(test_accuracy))"
   ]
  },
  {
   "cell_type": "code",
   "execution_count": null,
   "metadata": {},
   "outputs": [],
   "source": []
  }
 ],
 "metadata": {
  "colab": {
   "collapsed_sections": [
    "sH_a1Ymx3BLY",
    "oyDMnkig3IaD",
    "YtWKvsOL3Suj",
    "j6X-LEUvN-B9",
    "SI-sYOGbd3_D"
   ],
   "name": "220104_exp_1. 인공지능과 가위바위보",
   "provenance": []
  },
  "kernelspec": {
   "display_name": "Python 3 (ipykernel)",
   "language": "python",
   "name": "python3"
  },
  "language_info": {
   "codemirror_mode": {
    "name": "ipython",
    "version": 3
   },
   "file_extension": ".py",
   "mimetype": "text/x-python",
   "name": "python",
   "nbconvert_exporter": "python",
   "pygments_lexer": "ipython3",
   "version": "3.9.7"
  }
 },
 "nbformat": 4,
 "nbformat_minor": 1
}
