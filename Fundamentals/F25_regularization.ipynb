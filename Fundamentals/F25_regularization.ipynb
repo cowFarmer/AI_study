{
 "cells": [
  {
   "cell_type": "markdown",
   "id": "0a2beee5",
   "metadata": {},
   "source": [
    "# Regularization에 대해 알아보자"
   ]
  },
  {
   "cell_type": "markdown",
   "id": "426f6f8f",
   "metadata": {},
   "source": [
    "regularization을 구글 번역기를 돌리면 정규화, 혼공머 책에서는 규제, 그리고 이번 F25 노드에서는 정칙화라고 부른다."
   ]
  },
  {
   "cell_type": "markdown",
   "id": "aabdd437",
   "metadata": {},
   "source": [
    "# 1. Regularization, Normalization"
   ]
  },
  {
   "cell_type": "markdown",
   "id": "0a47c570",
   "metadata": {},
   "source": [
    "regularization과 norrmalization을 구글 번역기 돌렸을 때 정규화라고 나와서 개념이 헷갈릴 수 있으므로 정리해보자.   \n",
    "__regularization__ 오버피팅을 해결하기 위한 방법 중 하나이고, 그 외에 L1, L2 regularization, dropout, batch normalization 등이 있다. train set의 정답을 맞히지 못하도록 오버피팅을 방해하는 역할을 한다.   \n",
    "__normalization__ 데이터의 형태를 의미있거나 트레이닝에 적합하게 전처리하는 과정이다. 데이터를 z-score로 바꾸거나 minmax scaler를 사용해 0과 1사이의 값으로 분포를 조정한다. 피처 값들간의 범위 분포에 따라 왜곡되어 과의존성을 갖게 되는 경우가 있으므로, 모든 피처의 범위 분포를 동일하게 바꿔주는 전처리 과정이다.   \n",
    "\n",
    "[Iris dataset](https://scikit-learn.org/stable/datasets/toy_dataset.html#iris-plants-dataset) 회귀 문제를 통해 비교해보자."
   ]
  },
  {
   "cell_type": "code",
   "execution_count": 1,
   "id": "b3bd8864",
   "metadata": {},
   "outputs": [
    {
     "data": {
      "text/html": [
       "<div>\n",
       "<style scoped>\n",
       "    .dataframe tbody tr th:only-of-type {\n",
       "        vertical-align: middle;\n",
       "    }\n",
       "\n",
       "    .dataframe tbody tr th {\n",
       "        vertical-align: top;\n",
       "    }\n",
       "\n",
       "    .dataframe thead th {\n",
       "        text-align: right;\n",
       "    }\n",
       "</style>\n",
       "<table border=\"1\" class=\"dataframe\">\n",
       "  <thead>\n",
       "    <tr style=\"text-align: right;\">\n",
       "      <th></th>\n",
       "      <th>sepal length (cm)</th>\n",
       "      <th>sepal width (cm)</th>\n",
       "      <th>petal length (cm)</th>\n",
       "      <th>petal width (cm)</th>\n",
       "      <th>species</th>\n",
       "    </tr>\n",
       "  </thead>\n",
       "  <tbody>\n",
       "    <tr>\n",
       "      <th>0</th>\n",
       "      <td>5.1</td>\n",
       "      <td>3.5</td>\n",
       "      <td>1.4</td>\n",
       "      <td>0.2</td>\n",
       "      <td>setosa</td>\n",
       "    </tr>\n",
       "    <tr>\n",
       "      <th>1</th>\n",
       "      <td>4.9</td>\n",
       "      <td>3.0</td>\n",
       "      <td>1.4</td>\n",
       "      <td>0.2</td>\n",
       "      <td>setosa</td>\n",
       "    </tr>\n",
       "    <tr>\n",
       "      <th>2</th>\n",
       "      <td>4.7</td>\n",
       "      <td>3.2</td>\n",
       "      <td>1.3</td>\n",
       "      <td>0.2</td>\n",
       "      <td>setosa</td>\n",
       "    </tr>\n",
       "    <tr>\n",
       "      <th>3</th>\n",
       "      <td>4.6</td>\n",
       "      <td>3.1</td>\n",
       "      <td>1.5</td>\n",
       "      <td>0.2</td>\n",
       "      <td>setosa</td>\n",
       "    </tr>\n",
       "    <tr>\n",
       "      <th>4</th>\n",
       "      <td>5.0</td>\n",
       "      <td>3.6</td>\n",
       "      <td>1.4</td>\n",
       "      <td>0.2</td>\n",
       "      <td>setosa</td>\n",
       "    </tr>\n",
       "  </tbody>\n",
       "</table>\n",
       "</div>"
      ],
      "text/plain": [
       "   sepal length (cm)  sepal width (cm)  petal length (cm)  petal width (cm)  \\\n",
       "0                5.1               3.5                1.4               0.2   \n",
       "1                4.9               3.0                1.4               0.2   \n",
       "2                4.7               3.2                1.3               0.2   \n",
       "3                4.6               3.1                1.5               0.2   \n",
       "4                5.0               3.6                1.4               0.2   \n",
       "\n",
       "  species  \n",
       "0  setosa  \n",
       "1  setosa  \n",
       "2  setosa  \n",
       "3  setosa  \n",
       "4  setosa  "
      ]
     },
     "execution_count": 1,
     "metadata": {},
     "output_type": "execute_result"
    }
   ],
   "source": [
    "from sklearn.datasets import load_iris\n",
    "import pandas as pd \n",
    "import matplotlib.pyplot as plt\n",
    "\n",
    "iris = load_iris()\n",
    "iris_df = pd.DataFrame(data=iris.data, columns=iris.feature_names)\n",
    "target_df = pd.DataFrame(data=iris.target, columns=['species'])\n",
    "\n",
    "# 0, 1, 2로 되어있는 target 데이터를 \n",
    "# 알아보기 쉽게 'setosa', 'versicolor', 'virginica'로 바꿉니다 \n",
    "def converter(species):\n",
    "    if species == 0:\n",
    "        return 'setosa'\n",
    "    elif species == 1:\n",
    "        return 'versicolor'\n",
    "    else:\n",
    "        return 'virginica'\n",
    "\n",
    "target_df['species'] = target_df['species'].apply(converter)\n",
    "\n",
    "iris_df = pd.concat([iris_df, target_df], axis=1)\n",
    "iris_df.head()"
   ]
  },
  {
   "cell_type": "code",
   "execution_count": 2,
   "id": "602c43fc",
   "metadata": {},
   "outputs": [
    {
     "name": "stdout",
     "output_type": "stream",
     "text": [
      "[6.0, 5.1, 5.9, 5.6, 5.8, 6.6, 4.5, 6.3, 5.8, 6.1, 5.1, 5.3, 5.5, 5.0, 5.1, 5.3, 5.5, 6.7, 6.9, 5.0, 5.7, 4.9, 6.7, 4.9, 5.7, 6.0, 4.8, 4.9, 5.6, 5.8, 6.1, 6.4, 5.6, 5.1, 5.6, 6.1, 5.6, 5.5, 4.8, 5.4, 5.6, 5.1, 5.1, 5.9, 5.7, 5.2, 5.0, 5.2, 5.4, 5.1]\n",
      "[6.3, 5.8, 7.1, 6.3, 6.5, 7.6, 4.9, 7.3, 6.7, 7.2, 6.5, 6.4, 6.8, 5.7, 5.8, 6.4, 6.5, 7.7, 7.7, 6.0, 6.9, 5.6, 7.7, 6.3, 6.7, 7.2, 6.2, 6.1, 6.4, 7.2, 7.4, 7.9, 6.4, 6.3, 6.1, 7.7, 6.3, 6.4, 6.0, 6.9, 6.7, 6.9, 5.8, 6.8, 6.7, 6.7, 6.3, 6.5, 6.2, 5.9]\n"
     ]
    }
   ],
   "source": [
    "X = [iris_df['petal length (cm)'][a] for a in iris_df.index if iris_df['species'][a]=='virginica']\n",
    "Y = [iris_df['sepal length (cm)'][a] for a in iris_df.index if iris_df['species'][a]=='virginica']\n",
    "\n",
    "print(X)\n",
    "print(Y)"
   ]
  },
  {
   "cell_type": "markdown",
   "id": "8c9df073",
   "metadata": {},
   "source": [
    "virginica의 petal length(꽃잎 길이), sepal length(꽃받침의 길이)를 추출했다."
   ]
  },
  {
   "cell_type": "code",
   "execution_count": 3,
   "id": "b96720b8",
   "metadata": {},
   "outputs": [
    {
     "data": {
      "image/png": "[encoded data removed]",
      "text/plain": [
       "<Figure size 360x360 with 1 Axes>"
      ]
     },
     "metadata": {
      "needs_background": "light"
     },
     "output_type": "display_data"
    }
   ],
   "source": [
    "plt.figure(figsize=(5,5))\n",
    "plt.scatter(X,Y)\n",
    "plt.title('petal-sepal scatter before normalization') \n",
    "plt.xlabel('petal length (cm)')\n",
    "plt.ylabel('sepal length (cm)')\n",
    "plt.grid()\n",
    "plt.show()"
   ]
  },
  {
   "cell_type": "markdown",
   "id": "a060faf1",
   "metadata": {},
   "source": [
    "그래프를 봤을 때 cm의 분포가 그대로 나와있다. normalization을 하는 minmax_scale로 다시 재할당하고 확인해보자"
   ]
  },
  {
   "cell_type": "code",
   "execution_count": 4,
   "id": "830196ab",
   "metadata": {},
   "outputs": [
    {
     "data": {
      "image/png": "[encoded data removed]",
      "text/plain": [
       "<Figure size 360x360 with 1 Axes>"
      ]
     },
     "metadata": {
      "needs_background": "light"
     },
     "output_type": "display_data"
    }
   ],
   "source": [
    "from sklearn.preprocessing import minmax_scale\n",
    "\n",
    "X_scale = minmax_scale(X)\n",
    "Y_scale = minmax_scale(Y)\n",
    "\n",
    "plt.figure(figsize=(5,5))\n",
    "plt.scatter(X_scale,Y_scale)\n",
    "plt.title('petal-sepal scatter after normalization') \n",
    "plt.xlabel('petal length (cm)')\n",
    "plt.ylabel('sepal length (cm)')\n",
    "plt.grid()\n",
    "plt.show()"
   ]
  },
  {
   "cell_type": "markdown",
   "id": "1b9e444d",
   "metadata": {},
   "source": [
    "피처의 스케일이 0~1 사이로 변환되었으므로, 피처의 관계를 다루기 용이해졌다. regularization에 대해 알아보자."
   ]
  },
  {
   "cell_type": "code",
   "execution_count": 5,
   "id": "bce0855d",
   "metadata": {},
   "outputs": [
    {
     "name": "stdout",
     "output_type": "stream",
     "text": [
      "기울기 : 1.00, 절편 : 1.06\n"
     ]
    }
   ],
   "source": [
    "from sklearn.linear_model import LinearRegression\n",
    "import numpy as np \n",
    "\n",
    "X = np.array(X)\n",
    "Y = np.array(Y)\n",
    "\n",
    "# Iris Dataset을 Linear Regression으로 학습합니다. \n",
    "linear= LinearRegression()\n",
    "linear.fit(X.reshape(-1,1), Y)\n",
    "\n",
    "# Linear Regression의 기울기와 절편을 확인합니다. \n",
    "a, b=linear.coef_, linear.intercept_\n",
    "print(\"기울기 : %0.2f, 절편 : %0.2f\" %(a,b))"
   ]
  },
  {
   "cell_type": "code",
   "execution_count": 6,
   "id": "fb293354",
   "metadata": {},
   "outputs": [
    {
     "data": {
      "image/png": "[encoded data removed]",
      "text/plain": [
       "<Figure size 360x360 with 1 Axes>"
      ]
     },
     "metadata": {
      "needs_background": "light"
     },
     "output_type": "display_data"
    }
   ],
   "source": [
    "plt.figure(figsize=(5,5))\n",
    "plt.scatter(X,Y)\n",
    "plt.plot(X,linear.predict(X.reshape(-1,1)),'-b')\n",
    "plt.title('petal-sepal scatter with linear regression') \n",
    "plt.xlabel('petal length (cm)')\n",
    "plt.ylabel('sepal length (cm)')\n",
    "plt.grid()\n",
    "plt.show()"
   ]
  },
  {
   "cell_type": "markdown",
   "id": "92837ea7",
   "metadata": {},
   "source": [
    "L1 regularization인 Lasso와 L2 regularization인 Ridge를 이용해 regularization을 하고 결과물을 시각화해보자."
   ]
  },
  {
   "cell_type": "code",
   "execution_count": 7,
   "id": "9e47272b",
   "metadata": {},
   "outputs": [
    {
     "name": "stdout",
     "output_type": "stream",
     "text": [
      "기울기 : 0.00, 절편 : 6.59\n"
     ]
    },
    {
     "data": {
      "image/png": "[encoded data removed]",
      "text/plain": [
       "<Figure size 360x360 with 1 Axes>"
      ]
     },
     "metadata": {
      "needs_background": "light"
     },
     "output_type": "display_data"
    }
   ],
   "source": [
    "#L1 regularization은 Lasso로 import\n",
    "from sklearn.linear_model import Lasso\n",
    "\n",
    "L1 = Lasso()\n",
    "L1.fit(X.reshape(-1,1), Y)\n",
    "a, b=L1.coef_, L1.intercept_\n",
    "print(\"기울기 : %0.2f, 절편 : %0.2f\" %(a,b))\n",
    "\n",
    "plt.figure(figsize=(5,5))\n",
    "plt.scatter(X,Y)\n",
    "plt.plot(X,L1.predict(X.reshape(-1,1)),'-b')\n",
    "plt.title('petal-sepal scatter with L1 regularization(Lasso)') \n",
    "plt.xlabel('petal length (cm)')\n",
    "plt.ylabel('sepal length (cm)')\n",
    "plt.grid()\n",
    "plt.show()"
   ]
  },
  {
   "cell_type": "code",
   "execution_count": 8,
   "id": "ce9d39ec",
   "metadata": {},
   "outputs": [
    {
     "name": "stdout",
     "output_type": "stream",
     "text": [
      "기울기 : 0.93, 절편 : 1.41\n"
     ]
    },
    {
     "data": {
      "image/png": "[encoded data removed]",
      "text/plain": [
       "<Figure size 360x360 with 1 Axes>"
      ]
     },
     "metadata": {
      "needs_background": "light"
     },
     "output_type": "display_data"
    }
   ],
   "source": [
    "#L2 regularization은 Ridge로 import\n",
    "from sklearn.linear_model import Ridge\n",
    "\n",
    "L2 = Ridge()\n",
    "L2.fit(X.reshape(-1,1), Y)\n",
    "a, b = L2.coef_, L2.intercept_\n",
    "print(\"기울기 : %0.2f, 절편 : %0.2f\" %(a,b))\n",
    "\n",
    "plt.figure(figsize=(5,5))\n",
    "plt.scatter(X,Y)\n",
    "plt.plot(X,L2.predict(X.reshape(-1,1)),'-b')\n",
    "plt.title('petal-sepal scatter with L2 regularization(Ridge)') \n",
    "plt.xlabel('petal length (cm)')\n",
    "plt.ylabel('sepal length (cm)')\n",
    "plt.grid()\n",
    "plt.show()"
   ]
  },
  {
   "cell_type": "markdown",
   "id": "dbb128e3",
   "metadata": {},
   "source": [
    "Linear Regression이 L2 Norm과 관련이 있어 ridge를 적용했을 땐 처음 데이터와 큰 차이가 없어보인다. 왜 L1은 저렇게 나왔을까?"
   ]
  },
  {
   "cell_type": "markdown",
   "id": "a502d601",
   "metadata": {},
   "source": [
    "# 2. L1 Regularization"
   ]
  },
  {
   "cell_type": "markdown",
   "id": "6a7d8a97",
   "metadata": {},
   "source": [
    "L1 regularization을 사용할 때는 X가 2차원 이상인 여러 컬럼 값이 있는 데이터만 효과를 볼 수 있다. [wine dataset](https://scikit-learn.org/stable/modules/generated/sklearn.datasets.load_wine.html)으로 한번 구현해보자. 총 13개의 값을 갖는 데이터이다."
   ]
  },
  {
   "cell_type": "code",
   "execution_count": 9,
   "id": "0f02abeb",
   "metadata": {},
   "outputs": [],
   "source": [
    "from sklearn.datasets import load_wine\n",
    "\n",
    "wine = load_wine()\n",
    "wine_df = pd.DataFrame(data=wine.data, columns=wine.feature_names)\n",
    "target_df = pd.DataFrame(data=wine.target, columns=['Y'])"
   ]
  },
  {
   "cell_type": "code",
   "execution_count": 10,
   "id": "cc5e1724",
   "metadata": {},
   "outputs": [
    {
     "data": {
      "text/html": [
       "<div>\n",
       "<style scoped>\n",
       "    .dataframe tbody tr th:only-of-type {\n",
       "        vertical-align: middle;\n",
       "    }\n",
       "\n",
       "    .dataframe tbody tr th {\n",
       "        vertical-align: top;\n",
       "    }\n",
       "\n",
       "    .dataframe thead th {\n",
       "        text-align: right;\n",
       "    }\n",
       "</style>\n",
       "<table border=\"1\" class=\"dataframe\">\n",
       "  <thead>\n",
       "    <tr style=\"text-align: right;\">\n",
       "      <th></th>\n",
       "      <th>alcohol</th>\n",
       "      <th>malic_acid</th>\n",
       "      <th>ash</th>\n",
       "      <th>alcalinity_of_ash</th>\n",
       "      <th>magnesium</th>\n",
       "      <th>total_phenols</th>\n",
       "      <th>flavanoids</th>\n",
       "      <th>nonflavanoid_phenols</th>\n",
       "      <th>proanthocyanins</th>\n",
       "      <th>color_intensity</th>\n",
       "      <th>hue</th>\n",
       "      <th>od280/od315_of_diluted_wines</th>\n",
       "      <th>proline</th>\n",
       "    </tr>\n",
       "  </thead>\n",
       "  <tbody>\n",
       "    <tr>\n",
       "      <th>0</th>\n",
       "      <td>14.23</td>\n",
       "      <td>1.71</td>\n",
       "      <td>2.43</td>\n",
       "      <td>15.6</td>\n",
       "      <td>127.0</td>\n",
       "      <td>2.80</td>\n",
       "      <td>3.06</td>\n",
       "      <td>0.28</td>\n",
       "      <td>2.29</td>\n",
       "      <td>5.64</td>\n",
       "      <td>1.04</td>\n",
       "      <td>3.92</td>\n",
       "      <td>1065.0</td>\n",
       "    </tr>\n",
       "    <tr>\n",
       "      <th>1</th>\n",
       "      <td>13.20</td>\n",
       "      <td>1.78</td>\n",
       "      <td>2.14</td>\n",
       "      <td>11.2</td>\n",
       "      <td>100.0</td>\n",
       "      <td>2.65</td>\n",
       "      <td>2.76</td>\n",
       "      <td>0.26</td>\n",
       "      <td>1.28</td>\n",
       "      <td>4.38</td>\n",
       "      <td>1.05</td>\n",
       "      <td>3.40</td>\n",
       "      <td>1050.0</td>\n",
       "    </tr>\n",
       "    <tr>\n",
       "      <th>2</th>\n",
       "      <td>13.16</td>\n",
       "      <td>2.36</td>\n",
       "      <td>2.67</td>\n",
       "      <td>18.6</td>\n",
       "      <td>101.0</td>\n",
       "      <td>2.80</td>\n",
       "      <td>3.24</td>\n",
       "      <td>0.30</td>\n",
       "      <td>2.81</td>\n",
       "      <td>5.68</td>\n",
       "      <td>1.03</td>\n",
       "      <td>3.17</td>\n",
       "      <td>1185.0</td>\n",
       "    </tr>\n",
       "    <tr>\n",
       "      <th>3</th>\n",
       "      <td>14.37</td>\n",
       "      <td>1.95</td>\n",
       "      <td>2.50</td>\n",
       "      <td>16.8</td>\n",
       "      <td>113.0</td>\n",
       "      <td>3.85</td>\n",
       "      <td>3.49</td>\n",
       "      <td>0.24</td>\n",
       "      <td>2.18</td>\n",
       "      <td>7.80</td>\n",
       "      <td>0.86</td>\n",
       "      <td>3.45</td>\n",
       "      <td>1480.0</td>\n",
       "    </tr>\n",
       "    <tr>\n",
       "      <th>4</th>\n",
       "      <td>13.24</td>\n",
       "      <td>2.59</td>\n",
       "      <td>2.87</td>\n",
       "      <td>21.0</td>\n",
       "      <td>118.0</td>\n",
       "      <td>2.80</td>\n",
       "      <td>2.69</td>\n",
       "      <td>0.39</td>\n",
       "      <td>1.82</td>\n",
       "      <td>4.32</td>\n",
       "      <td>1.04</td>\n",
       "      <td>2.93</td>\n",
       "      <td>735.0</td>\n",
       "    </tr>\n",
       "  </tbody>\n",
       "</table>\n",
       "</div>"
      ],
      "text/plain": [
       "   alcohol  malic_acid   ash  alcalinity_of_ash  magnesium  total_phenols  \\\n",
       "0    14.23        1.71  2.43               15.6      127.0           2.80   \n",
       "1    13.20        1.78  2.14               11.2      100.0           2.65   \n",
       "2    13.16        2.36  2.67               18.6      101.0           2.80   \n",
       "3    14.37        1.95  2.50               16.8      113.0           3.85   \n",
       "4    13.24        2.59  2.87               21.0      118.0           2.80   \n",
       "\n",
       "   flavanoids  nonflavanoid_phenols  proanthocyanins  color_intensity   hue  \\\n",
       "0        3.06                  0.28             2.29             5.64  1.04   \n",
       "1        2.76                  0.26             1.28             4.38  1.05   \n",
       "2        3.24                  0.30             2.81             5.68  1.03   \n",
       "3        3.49                  0.24             2.18             7.80  0.86   \n",
       "4        2.69                  0.39             1.82             4.32  1.04   \n",
       "\n",
       "   od280/od315_of_diluted_wines  proline  \n",
       "0                          3.92   1065.0  \n",
       "1                          3.40   1050.0  \n",
       "2                          3.17   1185.0  \n",
       "3                          3.45   1480.0  \n",
       "4                          2.93    735.0  "
      ]
     },
     "execution_count": 10,
     "metadata": {},
     "output_type": "execute_result"
    }
   ],
   "source": [
    "wine_df.head(5)"
   ]
  },
  {
   "cell_type": "code",
   "execution_count": 11,
   "id": "b11117a5",
   "metadata": {},
   "outputs": [
    {
     "data": {
      "text/html": [
       "<div>\n",
       "<style scoped>\n",
       "    .dataframe tbody tr th:only-of-type {\n",
       "        vertical-align: middle;\n",
       "    }\n",
       "\n",
       "    .dataframe tbody tr th {\n",
       "        vertical-align: top;\n",
       "    }\n",
       "\n",
       "    .dataframe thead th {\n",
       "        text-align: right;\n",
       "    }\n",
       "</style>\n",
       "<table border=\"1\" class=\"dataframe\">\n",
       "  <thead>\n",
       "    <tr style=\"text-align: right;\">\n",
       "      <th></th>\n",
       "      <th>Y</th>\n",
       "    </tr>\n",
       "  </thead>\n",
       "  <tbody>\n",
       "    <tr>\n",
       "      <th>0</th>\n",
       "      <td>0</td>\n",
       "    </tr>\n",
       "    <tr>\n",
       "      <th>1</th>\n",
       "      <td>0</td>\n",
       "    </tr>\n",
       "    <tr>\n",
       "      <th>2</th>\n",
       "      <td>0</td>\n",
       "    </tr>\n",
       "    <tr>\n",
       "      <th>3</th>\n",
       "      <td>0</td>\n",
       "    </tr>\n",
       "    <tr>\n",
       "      <th>4</th>\n",
       "      <td>0</td>\n",
       "    </tr>\n",
       "  </tbody>\n",
       "</table>\n",
       "</div>"
      ],
      "text/plain": [
       "   Y\n",
       "0  0\n",
       "1  0\n",
       "2  0\n",
       "3  0\n",
       "4  0"
      ]
     },
     "execution_count": 11,
     "metadata": {},
     "output_type": "execute_result"
    }
   ],
   "source": [
    "target_df.head(5)"
   ]
  },
  {
   "cell_type": "code",
   "execution_count": 12,
   "id": "1e933a58",
   "metadata": {},
   "outputs": [
    {
     "name": "stdout",
     "output_type": "stream",
     "text": [
      "result of linear regression\n",
      "Mean Absolute Error: 0.25128973939722626\n",
      "Mean Squared Error: 0.1062458740952556\n",
      "Mean Root Squared Error: 0.32595379134971814\n",
      "\n",
      "\n",
      " coefficient linear regression\n",
      "[[-8.09017190e-02  4.34817880e-02 -1.18857931e-01  3.65705449e-02\n",
      "  -4.68014203e-04  1.41423581e-01 -4.54107854e-01 -5.13172664e-01\n",
      "   9.69318443e-02  5.34311136e-02 -1.27626604e-01 -2.91381844e-01\n",
      "  -5.72238959e-04]]\n"
     ]
    }
   ],
   "source": [
    "from sklearn.model_selection import train_test_split\n",
    "from sklearn.linear_model import LinearRegression\n",
    "from sklearn.metrics import mean_absolute_error, mean_squared_error\n",
    "\n",
    "X_train, X_test, y_train, y_test = train_test_split(wine_df, target_df, test_size=0.3, random_state=101)\n",
    "\n",
    "# 모델 훈련\n",
    "model = LinearRegression()\n",
    "model.fit(X_train, y_train)\n",
    "\n",
    "# 테스트\n",
    "model.predict(X_test)\n",
    "pred = model.predict(X_test)\n",
    "\n",
    "# 테스트 결과\n",
    "print(\"result of linear regression\")\n",
    "print('Mean Absolute Error:', mean_absolute_error(y_test, pred)) # 절대 오차\n",
    "print('Mean Squared Error:', mean_squared_error(y_test, pred)) # 제곱 오차\n",
    "print('Mean Root Squared Error:', np.sqrt(mean_squared_error(y_test, pred))) # 평균 제곱값 오차\n",
    "\n",
    "print(\"\\n\\n coefficient linear regression\")\n",
    "print(model.coef_)"
   ]
  },
  {
   "cell_type": "markdown",
   "id": "53b8788f",
   "metadata": {},
   "source": [
    "그리고 L1 lasso를 적용하고난 후 결과를 확인해보자."
   ]
  },
  {
   "cell_type": "code",
   "execution_count": 13,
   "id": "4028c50a",
   "metadata": {},
   "outputs": [
    {
     "name": "stdout",
     "output_type": "stream",
     "text": [
      "result of Lasso\n",
      "Mean Absolute Error: 0.24233731936122138\n",
      "Mean Squared Error: 0.0955956894578189\n",
      "Mean Root Squared Error: 0.3091855259513597\n",
      "\n",
      "\n",
      " coefficient of Lasso\n",
      "[-0.          0.01373795 -0.          0.03065716  0.00154719 -0.\n",
      " -0.34143614 -0.          0.          0.06755943 -0.         -0.14558153\n",
      " -0.00089635]\n"
     ]
    }
   ],
   "source": [
    "from sklearn.linear_model import Lasso\n",
    "from sklearn.metrics import mean_absolute_error, mean_squared_error\n",
    "\n",
    "# 모델 훈련\n",
    "L1 = Lasso(alpha=0.05)\n",
    "L1.fit(X_train, y_train)\n",
    "\n",
    "# 테스트\n",
    "pred = L1.predict(X_test)\n",
    "\n",
    "# 모델 성능\n",
    "print(\"result of Lasso\")\n",
    "print('Mean Absolute Error:', mean_absolute_error(y_test, pred))\n",
    "print('Mean Squared Error:', mean_squared_error(y_test, pred))\n",
    "print('Mean Root Squared Error:', np.sqrt(mean_squared_error(y_test, pred)))\n",
    "\n",
    "print(\"\\n\\n coefficient of Lasso\")\n",
    "print(L1.coef_)"
   ]
  },
  {
   "cell_type": "markdown",
   "id": "988e58e4",
   "metadata": {},
   "source": [
    "coeifficient 부분이 크게 두드러져있다. 그리고 13개중 6개의 값이 0으로 마감된걸 볼 수 있다.    \n",
    "__수식은 다음과 같다.__"
   ]
  },
  {
   "attachments": {
    "%E1%84%89%E1%85%B3%E1%84%8F%E1%85%B3%E1%84%85%E1%85%B5%E1%86%AB%E1%84%89%E1%85%A3%E1%86%BA%202022-02-18%20%E1%84%8B%E1%85%A9%E1%84%92%E1%85%AE%208.55.20.png": {
     "image/png": "[encoded data removed]"
    }
   },
   "cell_type": "markdown",
   "id": "9015b57e",
   "metadata": {},
   "source": [
    "![%E1%84%89%E1%85%B3%E1%84%8F%E1%85%B3%E1%84%85%E1%85%B5%E1%86%AB%E1%84%89%E1%85%A3%E1%86%BA%202022-02-18%20%E1%84%8B%E1%85%A9%E1%84%92%E1%85%AE%208.55.20.png](attachment:%E1%84%89%E1%85%B3%E1%84%8F%E1%85%B3%E1%84%85%E1%85%B5%E1%86%AB%E1%84%89%E1%85%A3%E1%86%BA%202022-02-18%20%E1%84%8B%E1%85%A9%E1%84%92%E1%85%AE%208.55.20.png)"
   ]
  },
  {
   "cell_type": "markdown",
   "id": "44cd74b2",
   "metadata": {},
   "source": [
    "# 3. L2 Regularization"
   ]
  },
  {
   "attachments": {
    "%E1%84%89%E1%85%B3%E1%84%8F%E1%85%B3%E1%84%85%E1%85%B5%E1%86%AB%E1%84%89%E1%85%A3%E1%86%BA%202022-02-18%20%E1%84%8B%E1%85%A9%E1%84%92%E1%85%AE%208.54.50.png": {
     "image/png": "[encoded data removed]"
    }
   },
   "cell_type": "markdown",
   "id": "42bee2e2",
   "metadata": {},
   "source": [
    "![%E1%84%89%E1%85%B3%E1%84%8F%E1%85%B3%E1%84%85%E1%85%B5%E1%86%AB%E1%84%89%E1%85%A3%E1%86%BA%202022-02-18%20%E1%84%8B%E1%85%A9%E1%84%92%E1%85%AE%208.54.50.png](attachment:%E1%84%89%E1%85%B3%E1%84%8F%E1%85%B3%E1%84%85%E1%85%B5%E1%86%AB%E1%84%89%E1%85%A3%E1%86%BA%202022-02-18%20%E1%84%8B%E1%85%A9%E1%84%92%E1%85%AE%208.54.50.png)"
   ]
  },
  {
   "cell_type": "markdown",
   "id": "4e978824",
   "metadata": {},
   "source": [
    "Lasso와 Ridge의 수식을 비교하면 끝부분 $B_j^2$ 부분이 크게 다르다. "
   ]
  },
  {
   "cell_type": "markdown",
   "id": "3e3d4fcd",
   "metadata": {},
   "source": [
    "![](https://upload.wikimedia.org/wikipedia/commons/thumb/f/f8/L1_and_L2_balls.svg/1024px-L1_and_L2_balls.svg.png)"
   ]
  },
  {
   "cell_type": "markdown",
   "id": "a4d36cb5",
   "metadata": {},
   "source": [
    "직관적으로 이해를 해보자면 L1은 마름모 형태의 제약 조건이 생긴다. 점선 부분과 제약된 부분을 나타내는 선이 만나는 지점이 해가 된다. 그래서 L1 식을 보면 몇 개의 축의 $B$값을 0으로 보낸다. L2는 L2의 식을 보면 $B^2$로 제곱 형태로 들어가 있어 0에 가깝게 감을 확인할 수 있고, 수렴이 빠르다는 장점이 있다."
   ]
  },
  {
   "cell_type": "code",
   "execution_count": 14,
   "id": "21901a1f",
   "metadata": {},
   "outputs": [
    {
     "name": "stdout",
     "output_type": "stream",
     "text": [
      "=3\n"
     ]
    }
   ],
   "source": [
    "from sklearn.datasets import load_wine\n",
    "import pandas as pd\n",
    "import numpy as np\n",
    "from sklearn.model_selection import train_test_split\n",
    "from sklearn.metrics import mean_absolute_error, mean_squared_error\n",
    "\n",
    "wine = load_wine()\n",
    "wine_df = pd.DataFrame(data=wine.data, columns=wine.feature_names)\n",
    "target_df = pd.DataFrame(data=wine.target, columns=['Y'])\n",
    "X_train, X_test, y_train, y_test = train_test_split(wine_df, target_df, test_size= 0.3, random_state=101)\n",
    "print('=3')"
   ]
  },
  {
   "cell_type": "markdown",
   "id": "69ea5279",
   "metadata": {},
   "source": [
    "L1과 L2를 iteration 5로 두고 값을 비교해보자."
   ]
  },
  {
   "cell_type": "code",
   "execution_count": 15,
   "id": "0ab95843",
   "metadata": {},
   "outputs": [
    {
     "name": "stdout",
     "output_type": "stream",
     "text": [
      "result of Lasso\n",
      "Mean Absolute Error: 0.24845768841769436\n",
      "Mean Squared Error: 0.10262989110341268\n",
      "Mean Root Squared Error: 0.32035900346862844\n",
      "\n",
      "\n",
      " coefficient of Lasso\n",
      "[-0.          0.         -0.          0.03295564  0.00109495  0.\n",
      " -0.4027847   0.          0.          0.06023131 -0.         -0.12001119\n",
      " -0.00078971]\n"
     ]
    },
    {
     "name": "stderr",
     "output_type": "stream",
     "text": [
      "/opt/conda/lib/python3.9/site-packages/sklearn/linear_model/_coordinate_descent.py:645: ConvergenceWarning: Objective did not converge. You might want to increase the number of iterations, check the scale of the features or consider increasing regularisation. Duality gap: 3.924e+00, tolerance: 7.480e-03\n",
      "  model = cd_fast.enet_coordinate_descent(\n"
     ]
    }
   ],
   "source": [
    "from sklearn.linear_model import Lasso\n",
    "\n",
    "L1 = Lasso(alpha=0.05, max_iter=5)\n",
    "L1.fit(X_train, y_train)\n",
    "pred = L1.predict(X_test)\n",
    "\n",
    "print(\"result of Lasso\")\n",
    "print('Mean Absolute Error:', mean_absolute_error(y_test, pred))\n",
    "print('Mean Squared Error:', mean_squared_error(y_test, pred))\n",
    "print('Mean Root Squared Error:', np.sqrt(mean_squared_error(y_test, pred)))\n",
    "\n",
    "print(\"\\n\\n coefficient of Lasso\")\n",
    "print(L1.coef_)"
   ]
  },
  {
   "cell_type": "code",
   "execution_count": 16,
   "id": "20cf84e4",
   "metadata": {},
   "outputs": [
    {
     "name": "stdout",
     "output_type": "stream",
     "text": [
      "result of Ridge\n",
      "Mean Absolute Error: 0.251146695993643\n",
      "Mean Squared Error: 0.10568076460795564\n",
      "Mean Root Squared Error: 0.3250857803841251\n",
      "\n",
      "\n",
      " coefficient of Ridge\n",
      "[[-8.12456257e-02  4.35541496e-02 -1.21661565e-01  3.65979773e-02\n",
      "  -3.94014013e-04  1.39168707e-01 -4.50691113e-01 -4.87216747e-01\n",
      "   9.54111059e-02  5.37077039e-02 -1.28602933e-01 -2.89832790e-01\n",
      "  -5.73136185e-04]]\n"
     ]
    }
   ],
   "source": [
    "from sklearn.linear_model import Ridge\n",
    "\n",
    "L2 = Ridge(alpha=0.05,max_iter=5)\n",
    "L2.fit(X_train, y_train)\n",
    "pred = L2.predict(X_test)\n",
    "\n",
    "print(\"result of Ridge\")\n",
    "print('Mean Absolute Error:', mean_absolute_error(y_test, pred))\n",
    "print('Mean Squared Error:', mean_squared_error(y_test, pred))\n",
    "print('Mean Root Squared Error:', np.sqrt(mean_squared_error(y_test, pred)))\n",
    "\n",
    "print(\"\\n\\n coefficient of Ridge\")\n",
    "print(L2.coef_)"
   ]
  },
  {
   "cell_type": "markdown",
   "id": "73bf7b66",
   "metadata": {},
   "source": [
    "L2는 Linear Regression과 같은 값이 나오지만 L1은 같은 값이 하나도 없다. 정리하면 L1은 가중치가 적은 벡터에 해당하는 계수를 0으로 보내면서 차원 축소와 비슷한 역할을 하고, L2는 0에 가깝게 보내지만 제곱이 있기 때문에 L1보다 수렴 속도가 빠르다. 예를들어 $A = [1,1,1,1,1]$, $B=[5,0,0,0,0]$의 경우 L1은 같은데 L2는 다르게 나온다."
   ]
  },
  {
   "cell_type": "markdown",
   "id": "03ec27dd",
   "metadata": {},
   "source": [
    "# 4. Extra : LP norm"
   ]
  },
  {
   "cell_type": "markdown",
   "id": "9b165315",
   "metadata": {},
   "source": [
    "norm의 개념은 벡터뿐만 아니라 함수, 행렬에 대해서 크기를 구하는 것이다. 딥러닝에서는 주로 벡터, 행렬의 norm만 알면 된다고 한다.\n",
    "### vector norm   \n",
    "$p$, $x$의 값을 바꾸면서 확인해보자."
   ]
  },
  {
   "cell_type": "code",
   "execution_count": 17,
   "id": "352f9ec1",
   "metadata": {},
   "outputs": [
    {
     "name": "stdout",
     "output_type": "stream",
     "text": [
      "result of numpy package norm function : 10.00008 \n",
      "result of making norm : 10.00008 \n"
     ]
    }
   ],
   "source": [
    "x=np.array([1,10,1,1,1])\n",
    "p=5\n",
    "norm_x=np.linalg.norm(x, ord=p)\n",
    "making_norm = (sum(x**p))**(1/p)\n",
    "print(\"result of numpy package norm function : %0.5f \"%norm_x) \n",
    "print(\"result of making norm : %0.5f \"%making_norm)"
   ]
  },
  {
   "cell_type": "markdown",
   "id": "50cb45cc",
   "metadata": {},
   "source": [
    "만약 $p$의 값이 자연수가 아닌 경우에는 어떻게 해야할까? $p = \\infty$인 경우 가장 큰 숫자를 출력한다."
   ]
  },
  {
   "cell_type": "code",
   "execution_count": 18,
   "id": "60fe6c43",
   "metadata": {},
   "outputs": [
    {
     "name": "stdout",
     "output_type": "stream",
     "text": [
      "result of infinite norm : 10.00000 \n"
     ]
    }
   ],
   "source": [
    "norm_x=np.linalg.norm(x, ord=np.inf)\n",
    "print(\"result of infinite norm : %0.5f \"%norm_x)"
   ]
  },
  {
   "cell_type": "markdown",
   "id": "cc09ef4b",
   "metadata": {},
   "source": [
    "### matrix norm   \n",
    "행렬의 norm은 $p = 1, \\infty$인 경우만 알면 된다. 1인 경우에는 컬럼의 합이 가장 큰 값이 출력되고, $p = \\infty$인 경우 로우의 합이 가장 큰 값이 출력된다."
   ]
  },
  {
   "cell_type": "code",
   "execution_count": 19,
   "id": "1d6026a1",
   "metadata": {},
   "outputs": [
    {
     "name": "stdout",
     "output_type": "stream",
     "text": [
      "result inf norm of A : 18.0\n",
      "result one norm of A : 14.0\n"
     ]
    }
   ],
   "source": [
    "A=np.array([[1,2,3],[1,2,3],[4,6,8]])\n",
    "inf_norm_A=np.linalg.norm(A, ord=np.inf)\n",
    "print(\"result inf norm of A :\", inf_norm_A)\n",
    "one_norm_A=np.linalg.norm(A, ord=1)\n",
    "print(\"result one norm of A :\", one_norm_A)"
   ]
  },
  {
   "cell_type": "markdown",
   "id": "0a38adda",
   "metadata": {},
   "source": [
    "# 5. Dropout"
   ]
  },
  {
   "cell_type": "markdown",
   "id": "aa2de12a",
   "metadata": {},
   "source": [
    "2014년에 나온 논문으로 [Dropout: A Simple Way to Prevent Neural Networks from Overfitting](https://jmlr.org/papers/v15/srivastava14a.html) 링크를 통해 논문을 확인할 수 있다.   \n",
    "\n",
    "dropout이 나오기 전 신경망은 FC architecture로 모든 뉴런들이 연결되어 있었다. 이름 그대로 모든 값을 뉴런과 연결하는게 아닌 확률적으로 버리면서 전달하는 기법이다. [Keras dropout](https://keras.io/api/layers/regularization_layers/dropout/)을 확인하면 간단하게 구현한걸 볼 수 있다.   \n",
    "\n",
    "[fashion mnist](https://keras.io/api/datasets/fashion_mnist/) 데이터셋으로 실습해보자."
   ]
  },
  {
   "cell_type": "code",
   "execution_count": 20,
   "id": "d2f516cf",
   "metadata": {},
   "outputs": [],
   "source": [
    "import tensorflow as tf\n",
    "from tensorflow import keras\n",
    "import numpy as np\n",
    "import matplotlib.pyplot as plt\n",
    "from sklearn.model_selection import train_test_split\n",
    "\n",
    "fashion_mnist = keras.datasets.fashion_mnist\n",
    "\n",
    "(train_images, train_labels), (test_images, test_labels) = fashion_mnist.load_data()\n",
    "class_names = ['T-shirt/top', 'Trouser', 'Pullover', 'Dress', 'Coat',\n",
    "               'Sandal', 'Shirt', 'Sneaker', 'Bag', 'Ankle boot']\n",
    "\n",
    "train_images = train_images / 255.0\n",
    "test_images = test_images / 255.0"
   ]
  },
  {
   "cell_type": "code",
   "execution_count": 21,
   "id": "d5382f4a",
   "metadata": {},
   "outputs": [
    {
     "name": "stdout",
     "output_type": "stream",
     "text": [
      "Epoch 1/5\n",
      "1875/1875 [==============================] - 4s 2ms/step - loss: 1.4080 - accuracy: 0.4529\n",
      "Epoch 2/5\n",
      "1875/1875 [==============================] - 3s 2ms/step - loss: 1.1825 - accuracy: 0.5228\n",
      "Epoch 3/5\n",
      "1875/1875 [==============================] - 3s 2ms/step - loss: 1.1232 - accuracy: 0.5453\n",
      "Epoch 4/5\n",
      "1875/1875 [==============================] - 3s 2ms/step - loss: 1.0901 - accuracy: 0.5564\n",
      "Epoch 5/5\n",
      "1875/1875 [==============================] - 3s 2ms/step - loss: 1.0724 - accuracy: 0.5620\n"
     ]
    }
   ],
   "source": [
    "model = keras.Sequential([\n",
    "    keras.layers.Flatten(input_shape=(28, 28)),\n",
    "    keras.layers.Dense(128, activation='relu'),\n",
    "    # dropout 0.9\n",
    "    keras.layers.Dropout(0.9),\n",
    "    keras.layers.Dense(10, activation='softmax')\n",
    "])\n",
    "\n",
    "model.compile(optimizer='adam',loss='sparse_categorical_crossentropy',\n",
    "              metrics=['accuracy'])\n",
    "\n",
    "history= model.fit(train_images, train_labels, epochs=5)"
   ]
  },
  {
   "cell_type": "code",
   "execution_count": 22,
   "id": "cefcd6ce",
   "metadata": {},
   "outputs": [
    {
     "name": "stdout",
     "output_type": "stream",
     "text": [
      "Epoch 1/5\n",
      "1875/1875 [==============================] - 3s 2ms/step - loss: 0.4993 - accuracy: 0.8242\n",
      "Epoch 2/5\n",
      "1875/1875 [==============================] - 3s 2ms/step - loss: 0.3749 - accuracy: 0.8647\n",
      "Epoch 3/5\n",
      "1875/1875 [==============================] - 3s 2ms/step - loss: 0.3389 - accuracy: 0.8753\n",
      "Epoch 4/5\n",
      "1875/1875 [==============================] - 3s 2ms/step - loss: 0.3172 - accuracy: 0.8840\n",
      "Epoch 5/5\n",
      "1875/1875 [==============================] - 3s 2ms/step - loss: 0.2961 - accuracy: 0.8917\n"
     ]
    }
   ],
   "source": [
    "model = keras.Sequential([\n",
    "    keras.layers.Flatten(input_shape=(28, 28)),\n",
    "    # dropout 레이어 삭제\n",
    "    keras.layers.Dense(128, activation='relu'),\n",
    "    keras.layers.Dense(10, activation='softmax')\n",
    "])\n",
    "\n",
    "model.compile(optimizer='adam',loss='sparse_categorical_crossentropy',\n",
    "              metrics=['accuracy'])\n",
    "\n",
    "history = model.fit(train_images, train_labels, epochs=5)"
   ]
  },
  {
   "cell_type": "markdown",
   "id": "bc908bb4",
   "metadata": {},
   "source": [
    "dropout을 주지 않고 학습을 진행한 결과를 보면 높은 결과물이 나왔음을 볼 수 있다. dropout layer를 넣음으로써 학습이 안된 것을 볼 수 있다.   \n",
    "이번에는 의도적으로 train set의 비율을 올려 overfitting이 되게 유도를하고 결과를 확인해보자."
   ]
  },
  {
   "cell_type": "code",
   "execution_count": 23,
   "id": "c3b451c8",
   "metadata": {},
   "outputs": [
    {
     "name": "stdout",
     "output_type": "stream",
     "text": [
      "Epoch 1/200\n",
      "117/117 [==============================] - 1s 4ms/step - loss: 2.0378 - accuracy: 0.5111 - val_loss: 1.6271 - val_accuracy: 0.6033\n",
      "Epoch 2/200\n",
      "117/117 [==============================] - 0s 3ms/step - loss: 1.3916 - accuracy: 0.6144 - val_loss: 1.1677 - val_accuracy: 0.6717\n",
      "Epoch 3/200\n",
      "117/117 [==============================] - 0s 3ms/step - loss: 1.0670 - accuracy: 0.6792 - val_loss: 0.9436 - val_accuracy: 0.7367\n",
      "Epoch 4/200\n",
      "117/117 [==============================] - 0s 3ms/step - loss: 0.8896 - accuracy: 0.7206 - val_loss: 0.8098 - val_accuracy: 0.7633\n",
      "Epoch 5/200\n",
      "117/117 [==============================] - 0s 3ms/step - loss: 0.7834 - accuracy: 0.7380 - val_loss: 0.7308 - val_accuracy: 0.7700\n",
      "Epoch 6/200\n",
      "117/117 [==============================] - 0s 3ms/step - loss: 0.7188 - accuracy: 0.7497 - val_loss: 0.6768 - val_accuracy: 0.7750\n",
      "Epoch 7/200\n",
      "117/117 [==============================] - 0s 2ms/step - loss: 0.6758 - accuracy: 0.7603 - val_loss: 0.6443 - val_accuracy: 0.7883\n",
      "Epoch 8/200\n",
      "117/117 [==============================] - 0s 3ms/step - loss: 0.6437 - accuracy: 0.7703 - val_loss: 0.6205 - val_accuracy: 0.7850\n",
      "Epoch 9/200\n",
      "117/117 [==============================] - 0s 3ms/step - loss: 0.6176 - accuracy: 0.7795 - val_loss: 0.5990 - val_accuracy: 0.7900\n",
      "Epoch 10/200\n",
      "117/117 [==============================] - 0s 3ms/step - loss: 0.5967 - accuracy: 0.7864 - val_loss: 0.5832 - val_accuracy: 0.8000\n",
      "Epoch 11/200\n",
      "117/117 [==============================] - 0s 3ms/step - loss: 0.5778 - accuracy: 0.7950 - val_loss: 0.5679 - val_accuracy: 0.7900\n",
      "Epoch 12/200\n",
      "117/117 [==============================] - 0s 3ms/step - loss: 0.5619 - accuracy: 0.8016 - val_loss: 0.5530 - val_accuracy: 0.7917\n",
      "Epoch 13/200\n",
      "117/117 [==============================] - 0s 3ms/step - loss: 0.5482 - accuracy: 0.8071 - val_loss: 0.5403 - val_accuracy: 0.7983\n",
      "Epoch 14/200\n",
      "117/117 [==============================] - 0s 3ms/step - loss: 0.5363 - accuracy: 0.8123 - val_loss: 0.5307 - val_accuracy: 0.8033\n",
      "Epoch 15/200\n",
      "117/117 [==============================] - 0s 3ms/step - loss: 0.5252 - accuracy: 0.8157 - val_loss: 0.5179 - val_accuracy: 0.8050\n",
      "Epoch 16/200\n",
      "117/117 [==============================] - 0s 3ms/step - loss: 0.5158 - accuracy: 0.8196 - val_loss: 0.5135 - val_accuracy: 0.8100\n",
      "Epoch 17/200\n",
      "117/117 [==============================] - 0s 2ms/step - loss: 0.5070 - accuracy: 0.8223 - val_loss: 0.5070 - val_accuracy: 0.8150\n",
      "Epoch 18/200\n",
      "117/117 [==============================] - 0s 3ms/step - loss: 0.4993 - accuracy: 0.8248 - val_loss: 0.5021 - val_accuracy: 0.8150\n",
      "Epoch 19/200\n",
      "117/117 [==============================] - 0s 3ms/step - loss: 0.4937 - accuracy: 0.8275 - val_loss: 0.4968 - val_accuracy: 0.8183\n",
      "Epoch 20/200\n",
      "117/117 [==============================] - 0s 2ms/step - loss: 0.4867 - accuracy: 0.8290 - val_loss: 0.4848 - val_accuracy: 0.8200\n",
      "Epoch 21/200\n",
      "117/117 [==============================] - 0s 3ms/step - loss: 0.4821 - accuracy: 0.8311 - val_loss: 0.4798 - val_accuracy: 0.8233\n",
      "Epoch 22/200\n",
      "117/117 [==============================] - 0s 3ms/step - loss: 0.4754 - accuracy: 0.8335 - val_loss: 0.4757 - val_accuracy: 0.8283\n",
      "Epoch 23/200\n",
      "117/117 [==============================] - 0s 3ms/step - loss: 0.4708 - accuracy: 0.8350 - val_loss: 0.4767 - val_accuracy: 0.8300\n",
      "Epoch 24/200\n",
      "117/117 [==============================] - 0s 3ms/step - loss: 0.4661 - accuracy: 0.8372 - val_loss: 0.4693 - val_accuracy: 0.8300\n",
      "Epoch 25/200\n",
      "117/117 [==============================] - 0s 3ms/step - loss: 0.4614 - accuracy: 0.8381 - val_loss: 0.4635 - val_accuracy: 0.8267\n",
      "Epoch 26/200\n",
      "117/117 [==============================] - 0s 3ms/step - loss: 0.4586 - accuracy: 0.8393 - val_loss: 0.4604 - val_accuracy: 0.8333\n",
      "Epoch 27/200\n",
      "117/117 [==============================] - 0s 3ms/step - loss: 0.4553 - accuracy: 0.8406 - val_loss: 0.4574 - val_accuracy: 0.8300\n",
      "Epoch 28/200\n",
      "117/117 [==============================] - 0s 3ms/step - loss: 0.4510 - accuracy: 0.8427 - val_loss: 0.4543 - val_accuracy: 0.8300\n",
      "Epoch 29/200\n",
      "117/117 [==============================] - 0s 3ms/step - loss: 0.4474 - accuracy: 0.8443 - val_loss: 0.4520 - val_accuracy: 0.8367\n",
      "Epoch 30/200\n",
      "117/117 [==============================] - 0s 3ms/step - loss: 0.4440 - accuracy: 0.8443 - val_loss: 0.4503 - val_accuracy: 0.8333\n",
      "Epoch 31/200\n",
      "117/117 [==============================] - 0s 3ms/step - loss: 0.4413 - accuracy: 0.8460 - val_loss: 0.4448 - val_accuracy: 0.8317\n",
      "Epoch 32/200\n",
      "117/117 [==============================] - 0s 3ms/step - loss: 0.4380 - accuracy: 0.8466 - val_loss: 0.4457 - val_accuracy: 0.8300\n",
      "Epoch 33/200\n",
      "117/117 [==============================] - 0s 3ms/step - loss: 0.4360 - accuracy: 0.8480 - val_loss: 0.4378 - val_accuracy: 0.8400\n",
      "Epoch 34/200\n",
      "117/117 [==============================] - 0s 3ms/step - loss: 0.4329 - accuracy: 0.8489 - val_loss: 0.4389 - val_accuracy: 0.8317\n",
      "Epoch 35/200\n",
      "117/117 [==============================] - 0s 3ms/step - loss: 0.4301 - accuracy: 0.8499 - val_loss: 0.4334 - val_accuracy: 0.8317\n",
      "Epoch 36/200\n",
      "117/117 [==============================] - 0s 3ms/step - loss: 0.4283 - accuracy: 0.8496 - val_loss: 0.4320 - val_accuracy: 0.8417\n",
      "Epoch 37/200\n",
      "117/117 [==============================] - 0s 3ms/step - loss: 0.4254 - accuracy: 0.8515 - val_loss: 0.4270 - val_accuracy: 0.8333\n",
      "Epoch 38/200\n",
      "117/117 [==============================] - 0s 3ms/step - loss: 0.4229 - accuracy: 0.8518 - val_loss: 0.4252 - val_accuracy: 0.8317\n",
      "Epoch 39/200\n",
      "117/117 [==============================] - 0s 3ms/step - loss: 0.4205 - accuracy: 0.8535 - val_loss: 0.4274 - val_accuracy: 0.8383\n",
      "Epoch 40/200\n",
      "117/117 [==============================] - 0s 2ms/step - loss: 0.4186 - accuracy: 0.8529 - val_loss: 0.4219 - val_accuracy: 0.8383\n",
      "Epoch 41/200\n",
      "117/117 [==============================] - 0s 3ms/step - loss: 0.4175 - accuracy: 0.8541 - val_loss: 0.4188 - val_accuracy: 0.8433\n",
      "Epoch 42/200\n",
      "117/117 [==============================] - 0s 3ms/step - loss: 0.4149 - accuracy: 0.8549 - val_loss: 0.4193 - val_accuracy: 0.8333\n",
      "Epoch 43/200\n",
      "117/117 [==============================] - 0s 3ms/step - loss: 0.4128 - accuracy: 0.8562 - val_loss: 0.4152 - val_accuracy: 0.8383\n",
      "Epoch 44/200\n",
      "117/117 [==============================] - 0s 3ms/step - loss: 0.4110 - accuracy: 0.8565 - val_loss: 0.4155 - val_accuracy: 0.8383\n",
      "Epoch 45/200\n",
      "117/117 [==============================] - 0s 3ms/step - loss: 0.4107 - accuracy: 0.8560 - val_loss: 0.4104 - val_accuracy: 0.8400\n",
      "Epoch 46/200\n",
      "117/117 [==============================] - 0s 3ms/step - loss: 0.4073 - accuracy: 0.8585 - val_loss: 0.4129 - val_accuracy: 0.8367\n",
      "Epoch 47/200\n",
      "117/117 [==============================] - 0s 3ms/step - loss: 0.4052 - accuracy: 0.8588 - val_loss: 0.4111 - val_accuracy: 0.8383\n",
      "Epoch 48/200\n",
      "117/117 [==============================] - 0s 3ms/step - loss: 0.4040 - accuracy: 0.8585 - val_loss: 0.4096 - val_accuracy: 0.8367\n",
      "Epoch 49/200\n",
      "117/117 [==============================] - 0s 3ms/step - loss: 0.4025 - accuracy: 0.8592 - val_loss: 0.4101 - val_accuracy: 0.8317\n",
      "Epoch 50/200\n",
      "117/117 [==============================] - 0s 3ms/step - loss: 0.4008 - accuracy: 0.8597 - val_loss: 0.4064 - val_accuracy: 0.8333\n",
      "Epoch 51/200\n",
      "117/117 [==============================] - 0s 3ms/step - loss: 0.3993 - accuracy: 0.8600 - val_loss: 0.4078 - val_accuracy: 0.8317\n",
      "Epoch 52/200\n",
      "117/117 [==============================] - 0s 3ms/step - loss: 0.3970 - accuracy: 0.8603 - val_loss: 0.4049 - val_accuracy: 0.8400\n",
      "Epoch 53/200\n",
      "117/117 [==============================] - 0s 3ms/step - loss: 0.3967 - accuracy: 0.8608 - val_loss: 0.4003 - val_accuracy: 0.8350\n",
      "Epoch 54/200\n",
      "117/117 [==============================] - 0s 3ms/step - loss: 0.3941 - accuracy: 0.8613 - val_loss: 0.4025 - val_accuracy: 0.8367\n",
      "Epoch 55/200\n",
      "117/117 [==============================] - 0s 2ms/step - loss: 0.3928 - accuracy: 0.8621 - val_loss: 0.3967 - val_accuracy: 0.8317\n",
      "Epoch 56/200\n",
      "117/117 [==============================] - 0s 3ms/step - loss: 0.3915 - accuracy: 0.8626 - val_loss: 0.3977 - val_accuracy: 0.8383\n",
      "Epoch 57/200\n",
      "117/117 [==============================] - 0s 3ms/step - loss: 0.3911 - accuracy: 0.8628 - val_loss: 0.3972 - val_accuracy: 0.8400\n"
     ]
    },
    {
     "name": "stdout",
     "output_type": "stream",
     "text": [
      "Epoch 58/200\n",
      "117/117 [==============================] - 0s 3ms/step - loss: 0.3898 - accuracy: 0.8631 - val_loss: 0.3929 - val_accuracy: 0.8350\n",
      "Epoch 59/200\n",
      "117/117 [==============================] - 0s 3ms/step - loss: 0.3877 - accuracy: 0.8640 - val_loss: 0.3919 - val_accuracy: 0.8433\n",
      "Epoch 60/200\n",
      "117/117 [==============================] - 0s 3ms/step - loss: 0.3860 - accuracy: 0.8645 - val_loss: 0.3902 - val_accuracy: 0.8400\n",
      "Epoch 61/200\n",
      "117/117 [==============================] - 0s 3ms/step - loss: 0.3845 - accuracy: 0.8652 - val_loss: 0.3904 - val_accuracy: 0.8417\n",
      "Epoch 62/200\n",
      "117/117 [==============================] - 0s 3ms/step - loss: 0.3829 - accuracy: 0.8656 - val_loss: 0.3899 - val_accuracy: 0.8400\n",
      "Epoch 63/200\n",
      "117/117 [==============================] - 0s 3ms/step - loss: 0.3818 - accuracy: 0.8652 - val_loss: 0.3899 - val_accuracy: 0.8367\n",
      "Epoch 64/200\n",
      "117/117 [==============================] - 0s 3ms/step - loss: 0.3814 - accuracy: 0.8664 - val_loss: 0.3841 - val_accuracy: 0.8400\n",
      "Epoch 65/200\n",
      "117/117 [==============================] - 0s 3ms/step - loss: 0.3789 - accuracy: 0.8668 - val_loss: 0.3843 - val_accuracy: 0.8383\n",
      "Epoch 66/200\n",
      "117/117 [==============================] - 0s 3ms/step - loss: 0.3787 - accuracy: 0.8667 - val_loss: 0.3881 - val_accuracy: 0.8483\n",
      "Epoch 67/200\n",
      "117/117 [==============================] - 0s 3ms/step - loss: 0.3773 - accuracy: 0.8670 - val_loss: 0.3840 - val_accuracy: 0.8367\n",
      "Epoch 68/200\n",
      "117/117 [==============================] - 0s 3ms/step - loss: 0.3752 - accuracy: 0.8691 - val_loss: 0.3873 - val_accuracy: 0.8383\n",
      "Epoch 69/200\n",
      "117/117 [==============================] - 0s 3ms/step - loss: 0.3749 - accuracy: 0.8686 - val_loss: 0.3838 - val_accuracy: 0.8450\n",
      "Epoch 70/200\n",
      "117/117 [==============================] - 0s 2ms/step - loss: 0.3746 - accuracy: 0.8682 - val_loss: 0.3816 - val_accuracy: 0.8350\n",
      "Epoch 71/200\n",
      "117/117 [==============================] - 0s 3ms/step - loss: 0.3719 - accuracy: 0.8698 - val_loss: 0.3808 - val_accuracy: 0.8500\n",
      "Epoch 72/200\n",
      "117/117 [==============================] - 0s 3ms/step - loss: 0.3713 - accuracy: 0.8702 - val_loss: 0.3775 - val_accuracy: 0.8433\n",
      "Epoch 73/200\n",
      "117/117 [==============================] - 0s 3ms/step - loss: 0.3699 - accuracy: 0.8696 - val_loss: 0.3826 - val_accuracy: 0.8400\n",
      "Epoch 74/200\n",
      "117/117 [==============================] - 0s 3ms/step - loss: 0.3702 - accuracy: 0.8700 - val_loss: 0.3791 - val_accuracy: 0.8483\n",
      "Epoch 75/200\n",
      "117/117 [==============================] - 0s 3ms/step - loss: 0.3675 - accuracy: 0.8710 - val_loss: 0.3758 - val_accuracy: 0.8467\n",
      "Epoch 76/200\n",
      "117/117 [==============================] - 0s 3ms/step - loss: 0.3676 - accuracy: 0.8717 - val_loss: 0.3797 - val_accuracy: 0.8517\n",
      "Epoch 77/200\n",
      "117/117 [==============================] - 0s 3ms/step - loss: 0.3671 - accuracy: 0.8713 - val_loss: 0.3732 - val_accuracy: 0.8500\n",
      "Epoch 78/200\n",
      "117/117 [==============================] - 0s 3ms/step - loss: 0.3649 - accuracy: 0.8719 - val_loss: 0.3722 - val_accuracy: 0.8500\n",
      "Epoch 79/200\n",
      "117/117 [==============================] - 0s 3ms/step - loss: 0.3642 - accuracy: 0.8724 - val_loss: 0.3696 - val_accuracy: 0.8450\n",
      "Epoch 80/200\n",
      "117/117 [==============================] - 0s 2ms/step - loss: 0.3628 - accuracy: 0.8726 - val_loss: 0.3687 - val_accuracy: 0.8467\n",
      "Epoch 81/200\n",
      "117/117 [==============================] - 0s 3ms/step - loss: 0.3623 - accuracy: 0.8728 - val_loss: 0.3706 - val_accuracy: 0.8517\n",
      "Epoch 82/200\n",
      "117/117 [==============================] - 0s 2ms/step - loss: 0.3626 - accuracy: 0.8723 - val_loss: 0.3729 - val_accuracy: 0.8533\n",
      "Epoch 83/200\n",
      "117/117 [==============================] - 0s 3ms/step - loss: 0.3592 - accuracy: 0.8738 - val_loss: 0.3715 - val_accuracy: 0.8533\n",
      "Epoch 84/200\n",
      "117/117 [==============================] - 0s 3ms/step - loss: 0.3586 - accuracy: 0.8749 - val_loss: 0.3691 - val_accuracy: 0.8467\n",
      "Epoch 85/200\n",
      "117/117 [==============================] - 0s 3ms/step - loss: 0.3580 - accuracy: 0.8746 - val_loss: 0.3689 - val_accuracy: 0.8550\n",
      "Epoch 86/200\n",
      "117/117 [==============================] - 0s 3ms/step - loss: 0.3568 - accuracy: 0.8745 - val_loss: 0.3646 - val_accuracy: 0.8433\n",
      "Epoch 87/200\n",
      "117/117 [==============================] - 0s 3ms/step - loss: 0.3566 - accuracy: 0.8752 - val_loss: 0.3659 - val_accuracy: 0.8500\n",
      "Epoch 88/200\n",
      "117/117 [==============================] - 0s 3ms/step - loss: 0.3555 - accuracy: 0.8754 - val_loss: 0.3631 - val_accuracy: 0.8550\n",
      "Epoch 89/200\n",
      "117/117 [==============================] - 0s 3ms/step - loss: 0.3540 - accuracy: 0.8753 - val_loss: 0.3645 - val_accuracy: 0.8550\n",
      "Epoch 90/200\n",
      "117/117 [==============================] - 0s 3ms/step - loss: 0.3539 - accuracy: 0.8756 - val_loss: 0.3632 - val_accuracy: 0.8550\n",
      "Epoch 91/200\n",
      "117/117 [==============================] - 0s 3ms/step - loss: 0.3527 - accuracy: 0.8763 - val_loss: 0.3709 - val_accuracy: 0.8600\n",
      "Epoch 92/200\n",
      "117/117 [==============================] - 0s 3ms/step - loss: 0.3516 - accuracy: 0.8768 - val_loss: 0.3633 - val_accuracy: 0.8517\n",
      "Epoch 93/200\n",
      "117/117 [==============================] - 0s 3ms/step - loss: 0.3505 - accuracy: 0.8762 - val_loss: 0.3633 - val_accuracy: 0.8567\n",
      "Epoch 94/200\n",
      "117/117 [==============================] - 0s 3ms/step - loss: 0.3514 - accuracy: 0.8774 - val_loss: 0.3633 - val_accuracy: 0.8600\n",
      "Epoch 95/200\n",
      "117/117 [==============================] - 0s 3ms/step - loss: 0.3491 - accuracy: 0.8768 - val_loss: 0.3609 - val_accuracy: 0.8583\n",
      "Epoch 96/200\n",
      "117/117 [==============================] - 0s 3ms/step - loss: 0.3480 - accuracy: 0.8779 - val_loss: 0.3632 - val_accuracy: 0.8550\n",
      "Epoch 97/200\n",
      "117/117 [==============================] - 0s 3ms/step - loss: 0.3477 - accuracy: 0.8775 - val_loss: 0.3599 - val_accuracy: 0.8433\n",
      "Epoch 98/200\n",
      "117/117 [==============================] - 0s 3ms/step - loss: 0.3468 - accuracy: 0.8780 - val_loss: 0.3573 - val_accuracy: 0.8517\n",
      "Epoch 99/200\n",
      "117/117 [==============================] - 0s 3ms/step - loss: 0.3455 - accuracy: 0.8783 - val_loss: 0.3580 - val_accuracy: 0.8567\n",
      "Epoch 100/200\n",
      "117/117 [==============================] - 0s 3ms/step - loss: 0.3451 - accuracy: 0.8779 - val_loss: 0.3588 - val_accuracy: 0.8633\n",
      "Epoch 101/200\n",
      "117/117 [==============================] - 0s 3ms/step - loss: 0.3446 - accuracy: 0.8786 - val_loss: 0.3539 - val_accuracy: 0.8567\n",
      "Epoch 102/200\n",
      "117/117 [==============================] - 0s 3ms/step - loss: 0.3428 - accuracy: 0.8794 - val_loss: 0.3544 - val_accuracy: 0.8633\n",
      "Epoch 103/200\n",
      "117/117 [==============================] - 0s 3ms/step - loss: 0.3424 - accuracy: 0.8796 - val_loss: 0.3516 - val_accuracy: 0.8517\n",
      "Epoch 104/200\n",
      "117/117 [==============================] - 0s 3ms/step - loss: 0.3415 - accuracy: 0.8799 - val_loss: 0.3571 - val_accuracy: 0.8600\n",
      "Epoch 105/200\n",
      "117/117 [==============================] - 0s 3ms/step - loss: 0.3411 - accuracy: 0.8799 - val_loss: 0.3580 - val_accuracy: 0.8633\n",
      "Epoch 106/200\n",
      "117/117 [==============================] - 0s 3ms/step - loss: 0.3408 - accuracy: 0.8794 - val_loss: 0.3540 - val_accuracy: 0.8617\n",
      "Epoch 107/200\n",
      "117/117 [==============================] - 0s 3ms/step - loss: 0.3405 - accuracy: 0.8807 - val_loss: 0.3539 - val_accuracy: 0.8583\n",
      "Epoch 108/200\n",
      "117/117 [==============================] - 0s 3ms/step - loss: 0.3379 - accuracy: 0.8811 - val_loss: 0.3580 - val_accuracy: 0.8567\n",
      "Epoch 109/200\n",
      "117/117 [==============================] - 0s 3ms/step - loss: 0.3383 - accuracy: 0.8803 - val_loss: 0.3521 - val_accuracy: 0.8500\n",
      "Epoch 110/200\n",
      "117/117 [==============================] - 0s 3ms/step - loss: 0.3373 - accuracy: 0.8813 - val_loss: 0.3481 - val_accuracy: 0.8617\n",
      "Epoch 111/200\n",
      "117/117 [==============================] - 0s 3ms/step - loss: 0.3366 - accuracy: 0.8814 - val_loss: 0.3508 - val_accuracy: 0.8600\n",
      "Epoch 112/200\n",
      "117/117 [==============================] - 0s 2ms/step - loss: 0.3347 - accuracy: 0.8824 - val_loss: 0.3522 - val_accuracy: 0.8600\n",
      "Epoch 113/200\n",
      "117/117 [==============================] - 0s 3ms/step - loss: 0.3344 - accuracy: 0.8823 - val_loss: 0.3517 - val_accuracy: 0.8550\n",
      "Epoch 114/200\n",
      "117/117 [==============================] - 0s 3ms/step - loss: 0.3337 - accuracy: 0.8824 - val_loss: 0.3479 - val_accuracy: 0.8600\n"
     ]
    },
    {
     "name": "stdout",
     "output_type": "stream",
     "text": [
      "Epoch 115/200\n",
      "117/117 [==============================] - 0s 3ms/step - loss: 0.3327 - accuracy: 0.8833 - val_loss: 0.3461 - val_accuracy: 0.8567\n",
      "Epoch 116/200\n",
      "117/117 [==============================] - 0s 3ms/step - loss: 0.3324 - accuracy: 0.8829 - val_loss: 0.3476 - val_accuracy: 0.8600\n",
      "Epoch 117/200\n",
      "117/117 [==============================] - 0s 3ms/step - loss: 0.3310 - accuracy: 0.8827 - val_loss: 0.3449 - val_accuracy: 0.8583\n",
      "Epoch 118/200\n",
      "117/117 [==============================] - 0s 3ms/step - loss: 0.3307 - accuracy: 0.8838 - val_loss: 0.3439 - val_accuracy: 0.8583\n",
      "Epoch 119/200\n",
      "117/117 [==============================] - 0s 2ms/step - loss: 0.3303 - accuracy: 0.8837 - val_loss: 0.3442 - val_accuracy: 0.8650\n",
      "Epoch 120/200\n",
      "117/117 [==============================] - 0s 3ms/step - loss: 0.3297 - accuracy: 0.8838 - val_loss: 0.3446 - val_accuracy: 0.8567\n",
      "Epoch 121/200\n",
      "117/117 [==============================] - 0s 3ms/step - loss: 0.3279 - accuracy: 0.8846 - val_loss: 0.3410 - val_accuracy: 0.8633\n",
      "Epoch 122/200\n",
      "117/117 [==============================] - 0s 3ms/step - loss: 0.3279 - accuracy: 0.8845 - val_loss: 0.3462 - val_accuracy: 0.8617\n",
      "Epoch 123/200\n",
      "117/117 [==============================] - 0s 3ms/step - loss: 0.3288 - accuracy: 0.8832 - val_loss: 0.3433 - val_accuracy: 0.8683\n",
      "Epoch 124/200\n",
      "117/117 [==============================] - 0s 3ms/step - loss: 0.3260 - accuracy: 0.8843 - val_loss: 0.3489 - val_accuracy: 0.8633\n",
      "Epoch 125/200\n",
      "117/117 [==============================] - 0s 3ms/step - loss: 0.3253 - accuracy: 0.8847 - val_loss: 0.3412 - val_accuracy: 0.8583\n",
      "Epoch 126/200\n",
      "117/117 [==============================] - 0s 3ms/step - loss: 0.3253 - accuracy: 0.8854 - val_loss: 0.3440 - val_accuracy: 0.8683\n",
      "Epoch 127/200\n",
      "117/117 [==============================] - 0s 3ms/step - loss: 0.3247 - accuracy: 0.8856 - val_loss: 0.3416 - val_accuracy: 0.8600\n",
      "Epoch 128/200\n",
      "117/117 [==============================] - 0s 3ms/step - loss: 0.3238 - accuracy: 0.8865 - val_loss: 0.3394 - val_accuracy: 0.8667\n",
      "Epoch 129/200\n",
      "117/117 [==============================] - 0s 3ms/step - loss: 0.3231 - accuracy: 0.8866 - val_loss: 0.3400 - val_accuracy: 0.8717\n",
      "Epoch 130/200\n",
      "117/117 [==============================] - 0s 3ms/step - loss: 0.3225 - accuracy: 0.8857 - val_loss: 0.3438 - val_accuracy: 0.8617\n",
      "Epoch 131/200\n",
      "117/117 [==============================] - 0s 3ms/step - loss: 0.3213 - accuracy: 0.8862 - val_loss: 0.3371 - val_accuracy: 0.8633\n",
      "Epoch 132/200\n",
      "117/117 [==============================] - 0s 3ms/step - loss: 0.3208 - accuracy: 0.8870 - val_loss: 0.3407 - val_accuracy: 0.8700\n",
      "Epoch 133/200\n",
      "117/117 [==============================] - 0s 3ms/step - loss: 0.3200 - accuracy: 0.8868 - val_loss: 0.3410 - val_accuracy: 0.8600\n",
      "Epoch 134/200\n",
      "117/117 [==============================] - 0s 3ms/step - loss: 0.3195 - accuracy: 0.8872 - val_loss: 0.3386 - val_accuracy: 0.8650\n",
      "Epoch 135/200\n",
      "117/117 [==============================] - 0s 3ms/step - loss: 0.3187 - accuracy: 0.8872 - val_loss: 0.3448 - val_accuracy: 0.8650\n",
      "Epoch 136/200\n",
      "117/117 [==============================] - 0s 3ms/step - loss: 0.3188 - accuracy: 0.8877 - val_loss: 0.3438 - val_accuracy: 0.8683\n",
      "Epoch 137/200\n",
      "117/117 [==============================] - 0s 3ms/step - loss: 0.3173 - accuracy: 0.8877 - val_loss: 0.3348 - val_accuracy: 0.8667\n",
      "Epoch 138/200\n",
      "117/117 [==============================] - 0s 3ms/step - loss: 0.3184 - accuracy: 0.8871 - val_loss: 0.3381 - val_accuracy: 0.8667\n",
      "Epoch 139/200\n",
      "117/117 [==============================] - 0s 3ms/step - loss: 0.3165 - accuracy: 0.8880 - val_loss: 0.3321 - val_accuracy: 0.8717\n",
      "Epoch 140/200\n",
      "117/117 [==============================] - 0s 3ms/step - loss: 0.3157 - accuracy: 0.8885 - val_loss: 0.3367 - val_accuracy: 0.8667\n",
      "Epoch 141/200\n",
      "117/117 [==============================] - 0s 3ms/step - loss: 0.3142 - accuracy: 0.8894 - val_loss: 0.3345 - val_accuracy: 0.8650\n",
      "Epoch 142/200\n",
      "117/117 [==============================] - 0s 3ms/step - loss: 0.3138 - accuracy: 0.8886 - val_loss: 0.3396 - val_accuracy: 0.8683\n",
      "Epoch 143/200\n",
      "117/117 [==============================] - 0s 3ms/step - loss: 0.3141 - accuracy: 0.8887 - val_loss: 0.3416 - val_accuracy: 0.8733\n",
      "Epoch 144/200\n",
      "117/117 [==============================] - 0s 3ms/step - loss: 0.3136 - accuracy: 0.8890 - val_loss: 0.3370 - val_accuracy: 0.8633\n",
      "Epoch 145/200\n",
      "117/117 [==============================] - 0s 3ms/step - loss: 0.3126 - accuracy: 0.8897 - val_loss: 0.3360 - val_accuracy: 0.8633\n",
      "Epoch 146/200\n",
      "117/117 [==============================] - 0s 3ms/step - loss: 0.3117 - accuracy: 0.8892 - val_loss: 0.3322 - val_accuracy: 0.8683\n",
      "Epoch 147/200\n",
      "117/117 [==============================] - 0s 3ms/step - loss: 0.3113 - accuracy: 0.8906 - val_loss: 0.3336 - val_accuracy: 0.8667\n",
      "Epoch 148/200\n",
      "117/117 [==============================] - 0s 3ms/step - loss: 0.3102 - accuracy: 0.8904 - val_loss: 0.3340 - val_accuracy: 0.8700\n",
      "Epoch 149/200\n",
      "117/117 [==============================] - 0s 2ms/step - loss: 0.3100 - accuracy: 0.8905 - val_loss: 0.3332 - val_accuracy: 0.8683\n",
      "Epoch 150/200\n",
      "117/117 [==============================] - 0s 3ms/step - loss: 0.3097 - accuracy: 0.8902 - val_loss: 0.3375 - val_accuracy: 0.8650\n",
      "Epoch 151/200\n",
      "117/117 [==============================] - 0s 3ms/step - loss: 0.3093 - accuracy: 0.8905 - val_loss: 0.3317 - val_accuracy: 0.8717\n",
      "Epoch 152/200\n",
      "117/117 [==============================] - 0s 2ms/step - loss: 0.3099 - accuracy: 0.8901 - val_loss: 0.3345 - val_accuracy: 0.8650\n",
      "Epoch 153/200\n",
      "117/117 [==============================] - 0s 3ms/step - loss: 0.3085 - accuracy: 0.8906 - val_loss: 0.3398 - val_accuracy: 0.8667\n",
      "Epoch 154/200\n",
      "117/117 [==============================] - 0s 3ms/step - loss: 0.3076 - accuracy: 0.8916 - val_loss: 0.3278 - val_accuracy: 0.8717\n",
      "Epoch 155/200\n",
      "117/117 [==============================] - 0s 3ms/step - loss: 0.3062 - accuracy: 0.8916 - val_loss: 0.3269 - val_accuracy: 0.8683\n",
      "Epoch 156/200\n",
      "117/117 [==============================] - 0s 2ms/step - loss: 0.3056 - accuracy: 0.8915 - val_loss: 0.3293 - val_accuracy: 0.8717\n",
      "Epoch 157/200\n",
      "117/117 [==============================] - 0s 3ms/step - loss: 0.3050 - accuracy: 0.8917 - val_loss: 0.3312 - val_accuracy: 0.8700\n",
      "Epoch 158/200\n",
      "117/117 [==============================] - 0s 3ms/step - loss: 0.3041 - accuracy: 0.8918 - val_loss: 0.3301 - val_accuracy: 0.8767\n",
      "Epoch 159/200\n",
      "117/117 [==============================] - 0s 3ms/step - loss: 0.3046 - accuracy: 0.8924 - val_loss: 0.3299 - val_accuracy: 0.8750\n",
      "Epoch 160/200\n",
      "117/117 [==============================] - 0s 3ms/step - loss: 0.3035 - accuracy: 0.8923 - val_loss: 0.3313 - val_accuracy: 0.8733\n",
      "Epoch 161/200\n",
      "117/117 [==============================] - 0s 3ms/step - loss: 0.3038 - accuracy: 0.8923 - val_loss: 0.3283 - val_accuracy: 0.8767\n",
      "Epoch 162/200\n",
      "117/117 [==============================] - 0s 3ms/step - loss: 0.3031 - accuracy: 0.8923 - val_loss: 0.3292 - val_accuracy: 0.8733\n",
      "Epoch 163/200\n",
      "117/117 [==============================] - 0s 3ms/step - loss: 0.3016 - accuracy: 0.8935 - val_loss: 0.3280 - val_accuracy: 0.8650\n",
      "Epoch 164/200\n",
      "117/117 [==============================] - 0s 3ms/step - loss: 0.3015 - accuracy: 0.8932 - val_loss: 0.3367 - val_accuracy: 0.8767\n",
      "Epoch 165/200\n",
      "117/117 [==============================] - 0s 3ms/step - loss: 0.3021 - accuracy: 0.8929 - val_loss: 0.3288 - val_accuracy: 0.8717\n",
      "Epoch 166/200\n",
      "117/117 [==============================] - 0s 2ms/step - loss: 0.3002 - accuracy: 0.8937 - val_loss: 0.3308 - val_accuracy: 0.8717\n",
      "Epoch 167/200\n",
      "117/117 [==============================] - 0s 3ms/step - loss: 0.2995 - accuracy: 0.8944 - val_loss: 0.3268 - val_accuracy: 0.8717\n",
      "Epoch 168/200\n",
      "117/117 [==============================] - 0s 2ms/step - loss: 0.2997 - accuracy: 0.8940 - val_loss: 0.3258 - val_accuracy: 0.8700\n",
      "Epoch 169/200\n",
      "117/117 [==============================] - 0s 3ms/step - loss: 0.2989 - accuracy: 0.8940 - val_loss: 0.3355 - val_accuracy: 0.8700\n",
      "Epoch 170/200\n",
      "117/117 [==============================] - 0s 3ms/step - loss: 0.3001 - accuracy: 0.8930 - val_loss: 0.3286 - val_accuracy: 0.8733\n",
      "Epoch 171/200\n"
     ]
    },
    {
     "name": "stdout",
     "output_type": "stream",
     "text": [
      "117/117 [==============================] - 0s 3ms/step - loss: 0.2981 - accuracy: 0.8945 - val_loss: 0.3216 - val_accuracy: 0.8783\n",
      "Epoch 172/200\n",
      "117/117 [==============================] - 0s 3ms/step - loss: 0.2977 - accuracy: 0.8949 - val_loss: 0.3253 - val_accuracy: 0.8733\n",
      "Epoch 173/200\n",
      "117/117 [==============================] - 0s 3ms/step - loss: 0.2962 - accuracy: 0.8950 - val_loss: 0.3324 - val_accuracy: 0.8700\n",
      "Epoch 174/200\n",
      "117/117 [==============================] - 0s 3ms/step - loss: 0.2978 - accuracy: 0.8947 - val_loss: 0.3218 - val_accuracy: 0.8683\n",
      "Epoch 175/200\n",
      "117/117 [==============================] - 0s 3ms/step - loss: 0.2966 - accuracy: 0.8942 - val_loss: 0.3186 - val_accuracy: 0.8750\n",
      "Epoch 176/200\n",
      "117/117 [==============================] - 0s 2ms/step - loss: 0.2950 - accuracy: 0.8955 - val_loss: 0.3255 - val_accuracy: 0.8700\n",
      "Epoch 177/200\n",
      "117/117 [==============================] - 0s 3ms/step - loss: 0.2950 - accuracy: 0.8950 - val_loss: 0.3252 - val_accuracy: 0.8800\n",
      "Epoch 178/200\n",
      "117/117 [==============================] - 0s 2ms/step - loss: 0.2939 - accuracy: 0.8958 - val_loss: 0.3272 - val_accuracy: 0.8800\n",
      "Epoch 179/200\n",
      "117/117 [==============================] - 0s 3ms/step - loss: 0.2932 - accuracy: 0.8961 - val_loss: 0.3262 - val_accuracy: 0.8833\n",
      "Epoch 180/200\n",
      "117/117 [==============================] - 0s 3ms/step - loss: 0.2936 - accuracy: 0.8958 - val_loss: 0.3223 - val_accuracy: 0.8717\n",
      "Epoch 181/200\n",
      "117/117 [==============================] - 0s 2ms/step - loss: 0.2940 - accuracy: 0.8944 - val_loss: 0.3262 - val_accuracy: 0.8833\n",
      "Epoch 182/200\n",
      "117/117 [==============================] - 0s 2ms/step - loss: 0.2960 - accuracy: 0.8946 - val_loss: 0.3189 - val_accuracy: 0.8717\n",
      "Epoch 183/200\n",
      "117/117 [==============================] - 0s 3ms/step - loss: 0.2921 - accuracy: 0.8959 - val_loss: 0.3215 - val_accuracy: 0.8783\n",
      "Epoch 184/200\n",
      "117/117 [==============================] - 0s 3ms/step - loss: 0.2909 - accuracy: 0.8963 - val_loss: 0.3227 - val_accuracy: 0.8817\n",
      "Epoch 185/200\n",
      "117/117 [==============================] - 0s 2ms/step - loss: 0.2909 - accuracy: 0.8966 - val_loss: 0.3182 - val_accuracy: 0.8767\n",
      "Epoch 186/200\n",
      "117/117 [==============================] - 0s 3ms/step - loss: 0.2900 - accuracy: 0.8964 - val_loss: 0.3281 - val_accuracy: 0.8783\n",
      "Epoch 187/200\n",
      "117/117 [==============================] - 0s 3ms/step - loss: 0.2906 - accuracy: 0.8961 - val_loss: 0.3332 - val_accuracy: 0.8750\n",
      "Epoch 188/200\n",
      "117/117 [==============================] - 0s 3ms/step - loss: 0.2927 - accuracy: 0.8954 - val_loss: 0.3243 - val_accuracy: 0.8783\n",
      "Epoch 189/200\n",
      "117/117 [==============================] - 0s 3ms/step - loss: 0.2901 - accuracy: 0.8961 - val_loss: 0.3233 - val_accuracy: 0.8750\n",
      "Epoch 190/200\n",
      "117/117 [==============================] - 0s 3ms/step - loss: 0.2891 - accuracy: 0.8973 - val_loss: 0.3208 - val_accuracy: 0.8800\n",
      "Epoch 191/200\n",
      "117/117 [==============================] - 0s 3ms/step - loss: 0.2882 - accuracy: 0.8968 - val_loss: 0.3237 - val_accuracy: 0.8850\n",
      "Epoch 192/200\n",
      "117/117 [==============================] - 0s 2ms/step - loss: 0.2868 - accuracy: 0.8978 - val_loss: 0.3223 - val_accuracy: 0.8767\n",
      "Epoch 193/200\n",
      "117/117 [==============================] - 0s 2ms/step - loss: 0.2879 - accuracy: 0.8972 - val_loss: 0.3153 - val_accuracy: 0.8800\n",
      "Epoch 194/200\n",
      "117/117 [==============================] - 0s 3ms/step - loss: 0.2862 - accuracy: 0.8981 - val_loss: 0.3181 - val_accuracy: 0.8783\n",
      "Epoch 195/200\n",
      "117/117 [==============================] - 0s 2ms/step - loss: 0.2854 - accuracy: 0.8978 - val_loss: 0.3245 - val_accuracy: 0.8817\n",
      "Epoch 196/200\n",
      "117/117 [==============================] - 0s 2ms/step - loss: 0.2859 - accuracy: 0.8980 - val_loss: 0.3205 - val_accuracy: 0.8817\n",
      "Epoch 197/200\n",
      "117/117 [==============================] - 0s 3ms/step - loss: 0.2849 - accuracy: 0.8984 - val_loss: 0.3195 - val_accuracy: 0.8767\n",
      "Epoch 198/200\n",
      "117/117 [==============================] - 0s 3ms/step - loss: 0.2843 - accuracy: 0.8990 - val_loss: 0.3183 - val_accuracy: 0.8717\n",
      "Epoch 199/200\n",
      "117/117 [==============================] - 0s 3ms/step - loss: 0.2850 - accuracy: 0.8980 - val_loss: 0.3230 - val_accuracy: 0.8850\n",
      "Epoch 200/200\n",
      "117/117 [==============================] - 0s 3ms/step - loss: 0.2838 - accuracy: 0.8987 - val_loss: 0.3202 - val_accuracy: 0.8750\n"
     ]
    }
   ],
   "source": [
    "X_train, X_valid, y_train, y_valid = train_test_split(train_images, train_labels, test_size=0.01, random_state=101)\n",
    "X_train = X_train / 255.0\n",
    "X_valid = X_valid / 255.0\n",
    "\n",
    "model = keras.Sequential([\n",
    "    keras.layers.Flatten(input_shape=(28, 28)),\n",
    "    keras.layers.Dense(256, activation='relu'),\n",
    "    keras.layers.Dense(10, activation='softmax')\n",
    "])\n",
    "\n",
    "model.compile(optimizer='adam',loss='sparse_categorical_crossentropy',\n",
    "              metrics=['accuracy'])\n",
    "\n",
    "history= model.fit(X_train, y_train, epochs=200, batch_size=512, validation_data=(X_valid, y_valid))"
   ]
  },
  {
   "cell_type": "code",
   "execution_count": 24,
   "id": "2db15d08",
   "metadata": {},
   "outputs": [
    {
     "data": {
      "image/png": "[encoded data removed]",
      "text/plain": [
       "<Figure size 432x288 with 1 Axes>"
      ]
     },
     "metadata": {
      "needs_background": "light"
     },
     "output_type": "display_data"
    }
   ],
   "source": [
    "# loss값 확인\n",
    "y_vloss = history.history['val_loss']\n",
    "y_loss = history.history['loss']\n",
    "x_len = np.arange(len(y_loss))\n",
    "\n",
    "plt.plot(x_len, y_vloss, marker='.', c='red', label=\"Validation-set Loss\")\n",
    "plt.plot(x_len, y_loss, marker='.', c='blue', label=\"Train-set Loss\")\n",
    "plt.legend(loc='upper right')\n",
    "plt.grid()\n",
    "plt.title('Loss graph without dropout layer') \n",
    "plt.ylim(0,1)\n",
    "plt.xlabel('epoch')\n",
    "plt.ylabel('loss')\n",
    "plt.show()"
   ]
  },
  {
   "cell_type": "code",
   "execution_count": 25,
   "id": "bdd67f29",
   "metadata": {},
   "outputs": [
    {
     "data": {
      "image/png": "[encoded data removed]",
      "text/plain": [
       "<Figure size 432x288 with 1 Axes>"
      ]
     },
     "metadata": {
      "needs_background": "light"
     },
     "output_type": "display_data"
    }
   ],
   "source": [
    "# accuracy값 확인\n",
    "y_vacc = history.history['val_accuracy']\n",
    "y_acc = history.history['accuracy']\n",
    "x_len = np.arange(len(y_acc))\n",
    "\n",
    "plt.plot(x_len, y_vacc, marker='.', c='red', label=\"Validation-set accuracy\")\n",
    "plt.plot(x_len, y_acc, marker='.', c='blue', label=\"Train-set accuracy\")\n",
    "plt.legend(loc='lower right')\n",
    "plt.grid()\n",
    "plt.ylim(0.5,1) \n",
    "plt.title('Accuracy graph without dropout layer') \n",
    "plt.xlabel('epoch')\n",
    "plt.ylabel('accuracy')\n",
    "plt.show()"
   ]
  },
  {
   "cell_type": "markdown",
   "id": "248475a7",
   "metadata": {},
   "source": [
    "---"
   ]
  },
  {
   "cell_type": "code",
   "execution_count": 26,
   "id": "a1ce57b6",
   "metadata": {},
   "outputs": [
    {
     "name": "stdout",
     "output_type": "stream",
     "text": [
      "Epoch 1/200\n",
      "117/117 [==============================] - 1s 3ms/step - loss: 2.0671 - accuracy: 0.4281 - val_loss: 1.6766 - val_accuracy: 0.5817\n",
      "Epoch 2/200\n",
      "117/117 [==============================] - 0s 3ms/step - loss: 1.4543 - accuracy: 0.5620 - val_loss: 1.2104 - val_accuracy: 0.6583\n",
      "Epoch 3/200\n",
      "117/117 [==============================] - 0s 3ms/step - loss: 1.1460 - accuracy: 0.6252 - val_loss: 0.9980 - val_accuracy: 0.6917\n",
      "Epoch 4/200\n",
      "117/117 [==============================] - 0s 3ms/step - loss: 0.9826 - accuracy: 0.6710 - val_loss: 0.8679 - val_accuracy: 0.7517\n",
      "Epoch 5/200\n",
      "117/117 [==============================] - 0s 3ms/step - loss: 0.8798 - accuracy: 0.6982 - val_loss: 0.7813 - val_accuracy: 0.7583\n",
      "Epoch 6/200\n",
      "117/117 [==============================] - 0s 3ms/step - loss: 0.8117 - accuracy: 0.7154 - val_loss: 0.7272 - val_accuracy: 0.7733\n",
      "Epoch 7/200\n",
      "117/117 [==============================] - 0s 3ms/step - loss: 0.7655 - accuracy: 0.7284 - val_loss: 0.6897 - val_accuracy: 0.7767\n",
      "Epoch 8/200\n",
      "117/117 [==============================] - 0s 3ms/step - loss: 0.7291 - accuracy: 0.7380 - val_loss: 0.6607 - val_accuracy: 0.7767\n",
      "Epoch 9/200\n",
      "117/117 [==============================] - 0s 3ms/step - loss: 0.7053 - accuracy: 0.7453 - val_loss: 0.6378 - val_accuracy: 0.7850\n",
      "Epoch 10/200\n",
      "117/117 [==============================] - 0s 3ms/step - loss: 0.6794 - accuracy: 0.7552 - val_loss: 0.6182 - val_accuracy: 0.7917\n",
      "Epoch 11/200\n",
      "117/117 [==============================] - 0s 3ms/step - loss: 0.6599 - accuracy: 0.7625 - val_loss: 0.6025 - val_accuracy: 0.7933\n",
      "Epoch 12/200\n",
      "117/117 [==============================] - 0s 3ms/step - loss: 0.6438 - accuracy: 0.7670 - val_loss: 0.5897 - val_accuracy: 0.7933\n",
      "Epoch 13/200\n",
      "117/117 [==============================] - 0s 3ms/step - loss: 0.6287 - accuracy: 0.7723 - val_loss: 0.5752 - val_accuracy: 0.7967\n",
      "Epoch 14/200\n",
      "117/117 [==============================] - 0s 3ms/step - loss: 0.6145 - accuracy: 0.7797 - val_loss: 0.5634 - val_accuracy: 0.7983\n",
      "Epoch 15/200\n",
      "117/117 [==============================] - 0s 3ms/step - loss: 0.6006 - accuracy: 0.7842 - val_loss: 0.5518 - val_accuracy: 0.8017\n",
      "Epoch 16/200\n",
      "117/117 [==============================] - 0s 3ms/step - loss: 0.5917 - accuracy: 0.7886 - val_loss: 0.5434 - val_accuracy: 0.8000\n",
      "Epoch 17/200\n",
      "117/117 [==============================] - 0s 3ms/step - loss: 0.5794 - accuracy: 0.7933 - val_loss: 0.5373 - val_accuracy: 0.8033\n",
      "Epoch 18/200\n",
      "117/117 [==============================] - 0s 3ms/step - loss: 0.5690 - accuracy: 0.7955 - val_loss: 0.5274 - val_accuracy: 0.8050\n",
      "Epoch 19/200\n",
      "117/117 [==============================] - 0s 3ms/step - loss: 0.5625 - accuracy: 0.8006 - val_loss: 0.5200 - val_accuracy: 0.8100\n",
      "Epoch 20/200\n",
      "117/117 [==============================] - 0s 3ms/step - loss: 0.5523 - accuracy: 0.8038 - val_loss: 0.5135 - val_accuracy: 0.8100\n",
      "Epoch 21/200\n",
      "117/117 [==============================] - 0s 3ms/step - loss: 0.5454 - accuracy: 0.8064 - val_loss: 0.5072 - val_accuracy: 0.8100\n",
      "Epoch 22/200\n",
      "117/117 [==============================] - 0s 3ms/step - loss: 0.5389 - accuracy: 0.8101 - val_loss: 0.5001 - val_accuracy: 0.8167\n",
      "Epoch 23/200\n",
      "117/117 [==============================] - 0s 3ms/step - loss: 0.5316 - accuracy: 0.8128 - val_loss: 0.4923 - val_accuracy: 0.8233\n",
      "Epoch 24/200\n",
      "117/117 [==============================] - 0s 3ms/step - loss: 0.5248 - accuracy: 0.8131 - val_loss: 0.4895 - val_accuracy: 0.8183\n",
      "Epoch 25/200\n",
      "117/117 [==============================] - 0s 3ms/step - loss: 0.5213 - accuracy: 0.8136 - val_loss: 0.4837 - val_accuracy: 0.8200\n",
      "Epoch 26/200\n",
      "117/117 [==============================] - 0s 3ms/step - loss: 0.5134 - accuracy: 0.8176 - val_loss: 0.4810 - val_accuracy: 0.8200\n",
      "Epoch 27/200\n",
      "117/117 [==============================] - 0s 3ms/step - loss: 0.5097 - accuracy: 0.8200 - val_loss: 0.4739 - val_accuracy: 0.8217\n",
      "Epoch 28/200\n",
      "117/117 [==============================] - 0s 3ms/step - loss: 0.5054 - accuracy: 0.8226 - val_loss: 0.4706 - val_accuracy: 0.8200\n",
      "Epoch 29/200\n",
      "117/117 [==============================] - 0s 3ms/step - loss: 0.4996 - accuracy: 0.8216 - val_loss: 0.4631 - val_accuracy: 0.8217\n",
      "Epoch 30/200\n",
      "117/117 [==============================] - 0s 3ms/step - loss: 0.4965 - accuracy: 0.8252 - val_loss: 0.4610 - val_accuracy: 0.8250\n",
      "Epoch 31/200\n",
      "117/117 [==============================] - 0s 3ms/step - loss: 0.4915 - accuracy: 0.8261 - val_loss: 0.4567 - val_accuracy: 0.8217\n",
      "Epoch 32/200\n",
      "117/117 [==============================] - 0s 3ms/step - loss: 0.4864 - accuracy: 0.8282 - val_loss: 0.4513 - val_accuracy: 0.8217\n",
      "Epoch 33/200\n",
      "117/117 [==============================] - 0s 3ms/step - loss: 0.4847 - accuracy: 0.8297 - val_loss: 0.4501 - val_accuracy: 0.8217\n",
      "Epoch 34/200\n",
      "117/117 [==============================] - 0s 3ms/step - loss: 0.4805 - accuracy: 0.8290 - val_loss: 0.4469 - val_accuracy: 0.8233\n",
      "Epoch 35/200\n",
      "117/117 [==============================] - 0s 3ms/step - loss: 0.4773 - accuracy: 0.8310 - val_loss: 0.4419 - val_accuracy: 0.8267\n",
      "Epoch 36/200\n",
      "117/117 [==============================] - 0s 3ms/step - loss: 0.4731 - accuracy: 0.8326 - val_loss: 0.4388 - val_accuracy: 0.8233\n",
      "Epoch 37/200\n",
      "117/117 [==============================] - 0s 3ms/step - loss: 0.4700 - accuracy: 0.8334 - val_loss: 0.4381 - val_accuracy: 0.8300\n",
      "Epoch 38/200\n",
      "117/117 [==============================] - 0s 3ms/step - loss: 0.4677 - accuracy: 0.8341 - val_loss: 0.4339 - val_accuracy: 0.8317\n",
      "Epoch 39/200\n",
      "117/117 [==============================] - 0s 3ms/step - loss: 0.4652 - accuracy: 0.8352 - val_loss: 0.4308 - val_accuracy: 0.8350\n",
      "Epoch 40/200\n",
      "117/117 [==============================] - 0s 3ms/step - loss: 0.4610 - accuracy: 0.8370 - val_loss: 0.4270 - val_accuracy: 0.8333\n",
      "Epoch 41/200\n",
      "117/117 [==============================] - 0s 3ms/step - loss: 0.4575 - accuracy: 0.8382 - val_loss: 0.4250 - val_accuracy: 0.8317\n",
      "Epoch 42/200\n",
      "117/117 [==============================] - 0s 3ms/step - loss: 0.4549 - accuracy: 0.8392 - val_loss: 0.4219 - val_accuracy: 0.8317\n",
      "Epoch 43/200\n",
      "117/117 [==============================] - 0s 3ms/step - loss: 0.4529 - accuracy: 0.8399 - val_loss: 0.4189 - val_accuracy: 0.8350\n",
      "Epoch 44/200\n",
      "117/117 [==============================] - 0s 3ms/step - loss: 0.4521 - accuracy: 0.8409 - val_loss: 0.4193 - val_accuracy: 0.8367\n",
      "Epoch 45/200\n",
      "117/117 [==============================] - 0s 3ms/step - loss: 0.4494 - accuracy: 0.8413 - val_loss: 0.4156 - val_accuracy: 0.8350\n",
      "Epoch 46/200\n",
      "117/117 [==============================] - 0s 3ms/step - loss: 0.4453 - accuracy: 0.8428 - val_loss: 0.4134 - val_accuracy: 0.8367\n",
      "Epoch 47/200\n",
      "117/117 [==============================] - 0s 3ms/step - loss: 0.4450 - accuracy: 0.8437 - val_loss: 0.4109 - val_accuracy: 0.8367\n",
      "Epoch 48/200\n",
      "117/117 [==============================] - 0s 3ms/step - loss: 0.4409 - accuracy: 0.8423 - val_loss: 0.4107 - val_accuracy: 0.8400\n",
      "Epoch 49/200\n",
      "117/117 [==============================] - 0s 3ms/step - loss: 0.4389 - accuracy: 0.8440 - val_loss: 0.4070 - val_accuracy: 0.8383\n",
      "Epoch 50/200\n",
      "117/117 [==============================] - 0s 3ms/step - loss: 0.4352 - accuracy: 0.8449 - val_loss: 0.4031 - val_accuracy: 0.8433\n",
      "Epoch 51/200\n",
      "117/117 [==============================] - 0s 3ms/step - loss: 0.4344 - accuracy: 0.8467 - val_loss: 0.3997 - val_accuracy: 0.8383\n",
      "Epoch 52/200\n",
      "117/117 [==============================] - 0s 3ms/step - loss: 0.4333 - accuracy: 0.8477 - val_loss: 0.4006 - val_accuracy: 0.8417\n",
      "Epoch 53/200\n",
      "117/117 [==============================] - 0s 3ms/step - loss: 0.4319 - accuracy: 0.8477 - val_loss: 0.4041 - val_accuracy: 0.8367\n",
      "Epoch 54/200\n",
      "117/117 [==============================] - 0s 3ms/step - loss: 0.4281 - accuracy: 0.8490 - val_loss: 0.3985 - val_accuracy: 0.8400\n",
      "Epoch 55/200\n",
      "117/117 [==============================] - 0s 3ms/step - loss: 0.4284 - accuracy: 0.8487 - val_loss: 0.3997 - val_accuracy: 0.8333\n",
      "Epoch 56/200\n",
      "117/117 [==============================] - 0s 3ms/step - loss: 0.4244 - accuracy: 0.8514 - val_loss: 0.3933 - val_accuracy: 0.8417\n",
      "Epoch 57/200\n",
      "117/117 [==============================] - 0s 3ms/step - loss: 0.4241 - accuracy: 0.8491 - val_loss: 0.3950 - val_accuracy: 0.8383\n"
     ]
    },
    {
     "name": "stdout",
     "output_type": "stream",
     "text": [
      "Epoch 58/200\n",
      "117/117 [==============================] - 0s 3ms/step - loss: 0.4225 - accuracy: 0.8505 - val_loss: 0.3901 - val_accuracy: 0.8417\n",
      "Epoch 59/200\n",
      "117/117 [==============================] - 0s 3ms/step - loss: 0.4191 - accuracy: 0.8514 - val_loss: 0.3908 - val_accuracy: 0.8400\n",
      "Epoch 60/200\n",
      "117/117 [==============================] - 0s 3ms/step - loss: 0.4178 - accuracy: 0.8521 - val_loss: 0.3908 - val_accuracy: 0.8333\n",
      "Epoch 61/200\n",
      "117/117 [==============================] - 0s 3ms/step - loss: 0.4158 - accuracy: 0.8523 - val_loss: 0.3871 - val_accuracy: 0.8467\n",
      "Epoch 62/200\n",
      "117/117 [==============================] - 0s 3ms/step - loss: 0.4150 - accuracy: 0.8537 - val_loss: 0.3846 - val_accuracy: 0.8400\n",
      "Epoch 63/200\n",
      "117/117 [==============================] - 0s 3ms/step - loss: 0.4112 - accuracy: 0.8548 - val_loss: 0.3860 - val_accuracy: 0.8450\n",
      "Epoch 64/200\n",
      "117/117 [==============================] - 0s 3ms/step - loss: 0.4131 - accuracy: 0.8554 - val_loss: 0.3815 - val_accuracy: 0.8450\n",
      "Epoch 65/200\n",
      "117/117 [==============================] - 0s 3ms/step - loss: 0.4094 - accuracy: 0.8558 - val_loss: 0.3823 - val_accuracy: 0.8433\n",
      "Epoch 66/200\n",
      "117/117 [==============================] - 0s 3ms/step - loss: 0.4097 - accuracy: 0.8559 - val_loss: 0.3827 - val_accuracy: 0.8417\n",
      "Epoch 67/200\n",
      "117/117 [==============================] - 0s 3ms/step - loss: 0.4064 - accuracy: 0.8552 - val_loss: 0.3776 - val_accuracy: 0.8483\n",
      "Epoch 68/200\n",
      "117/117 [==============================] - 0s 3ms/step - loss: 0.4049 - accuracy: 0.8568 - val_loss: 0.3790 - val_accuracy: 0.8467\n",
      "Epoch 69/200\n",
      "117/117 [==============================] - 0s 3ms/step - loss: 0.4074 - accuracy: 0.8565 - val_loss: 0.3786 - val_accuracy: 0.8483\n",
      "Epoch 70/200\n",
      "117/117 [==============================] - 0s 3ms/step - loss: 0.4032 - accuracy: 0.8579 - val_loss: 0.3757 - val_accuracy: 0.8483\n",
      "Epoch 71/200\n",
      "117/117 [==============================] - 0s 3ms/step - loss: 0.4022 - accuracy: 0.8573 - val_loss: 0.3733 - val_accuracy: 0.8483\n",
      "Epoch 72/200\n",
      "117/117 [==============================] - 0s 3ms/step - loss: 0.4006 - accuracy: 0.8573 - val_loss: 0.3754 - val_accuracy: 0.8483\n",
      "Epoch 73/200\n",
      "117/117 [==============================] - 0s 3ms/step - loss: 0.3991 - accuracy: 0.8588 - val_loss: 0.3704 - val_accuracy: 0.8567\n",
      "Epoch 74/200\n",
      "117/117 [==============================] - 0s 3ms/step - loss: 0.3999 - accuracy: 0.8600 - val_loss: 0.3757 - val_accuracy: 0.8517\n",
      "Epoch 75/200\n",
      "117/117 [==============================] - 0s 3ms/step - loss: 0.3997 - accuracy: 0.8591 - val_loss: 0.3715 - val_accuracy: 0.8483\n",
      "Epoch 76/200\n",
      "117/117 [==============================] - 0s 3ms/step - loss: 0.3954 - accuracy: 0.8604 - val_loss: 0.3704 - val_accuracy: 0.8533\n",
      "Epoch 77/200\n",
      "117/117 [==============================] - 0s 3ms/step - loss: 0.3957 - accuracy: 0.8596 - val_loss: 0.3705 - val_accuracy: 0.8467\n",
      "Epoch 78/200\n",
      "117/117 [==============================] - 0s 3ms/step - loss: 0.3929 - accuracy: 0.8602 - val_loss: 0.3690 - val_accuracy: 0.8500\n",
      "Epoch 79/200\n",
      "117/117 [==============================] - 0s 3ms/step - loss: 0.3924 - accuracy: 0.8617 - val_loss: 0.3700 - val_accuracy: 0.8450\n",
      "Epoch 80/200\n",
      "117/117 [==============================] - 0s 3ms/step - loss: 0.3904 - accuracy: 0.8608 - val_loss: 0.3653 - val_accuracy: 0.8483\n",
      "Epoch 81/200\n",
      "117/117 [==============================] - 0s 3ms/step - loss: 0.3899 - accuracy: 0.8616 - val_loss: 0.3645 - val_accuracy: 0.8533\n",
      "Epoch 82/200\n",
      "117/117 [==============================] - 0s 3ms/step - loss: 0.3892 - accuracy: 0.8627 - val_loss: 0.3641 - val_accuracy: 0.8533\n",
      "Epoch 83/200\n",
      "117/117 [==============================] - 0s 3ms/step - loss: 0.3880 - accuracy: 0.8629 - val_loss: 0.3598 - val_accuracy: 0.8500\n",
      "Epoch 84/200\n",
      "117/117 [==============================] - 0s 3ms/step - loss: 0.3863 - accuracy: 0.8636 - val_loss: 0.3619 - val_accuracy: 0.8500\n",
      "Epoch 85/200\n",
      "117/117 [==============================] - 0s 3ms/step - loss: 0.3858 - accuracy: 0.8639 - val_loss: 0.3602 - val_accuracy: 0.8500\n",
      "Epoch 86/200\n",
      "117/117 [==============================] - 0s 3ms/step - loss: 0.3838 - accuracy: 0.8645 - val_loss: 0.3639 - val_accuracy: 0.8517\n",
      "Epoch 87/200\n",
      "117/117 [==============================] - 0s 3ms/step - loss: 0.3831 - accuracy: 0.8636 - val_loss: 0.3611 - val_accuracy: 0.8450\n",
      "Epoch 88/200\n",
      "117/117 [==============================] - 0s 3ms/step - loss: 0.3819 - accuracy: 0.8648 - val_loss: 0.3583 - val_accuracy: 0.8467\n",
      "Epoch 89/200\n",
      "117/117 [==============================] - 0s 3ms/step - loss: 0.3812 - accuracy: 0.8656 - val_loss: 0.3574 - val_accuracy: 0.8517\n",
      "Epoch 90/200\n",
      "117/117 [==============================] - 0s 3ms/step - loss: 0.3819 - accuracy: 0.8658 - val_loss: 0.3592 - val_accuracy: 0.8467\n",
      "Epoch 91/200\n",
      "117/117 [==============================] - 0s 3ms/step - loss: 0.3805 - accuracy: 0.8641 - val_loss: 0.3557 - val_accuracy: 0.8517\n",
      "Epoch 92/200\n",
      "117/117 [==============================] - 0s 3ms/step - loss: 0.3777 - accuracy: 0.8665 - val_loss: 0.3565 - val_accuracy: 0.8467\n",
      "Epoch 93/200\n",
      "117/117 [==============================] - 0s 3ms/step - loss: 0.3796 - accuracy: 0.8663 - val_loss: 0.3610 - val_accuracy: 0.8483\n",
      "Epoch 94/200\n",
      "117/117 [==============================] - 0s 3ms/step - loss: 0.3757 - accuracy: 0.8674 - val_loss: 0.3556 - val_accuracy: 0.8517\n",
      "Epoch 95/200\n",
      "117/117 [==============================] - 0s 3ms/step - loss: 0.3770 - accuracy: 0.8672 - val_loss: 0.3535 - val_accuracy: 0.8483\n",
      "Epoch 96/200\n",
      "117/117 [==============================] - 0s 3ms/step - loss: 0.3764 - accuracy: 0.8666 - val_loss: 0.3500 - val_accuracy: 0.8550\n",
      "Epoch 97/200\n",
      "117/117 [==============================] - 0s 3ms/step - loss: 0.3750 - accuracy: 0.8676 - val_loss: 0.3530 - val_accuracy: 0.8533\n",
      "Epoch 98/200\n",
      "117/117 [==============================] - 0s 3ms/step - loss: 0.3730 - accuracy: 0.8684 - val_loss: 0.3506 - val_accuracy: 0.8533\n",
      "Epoch 99/200\n",
      "117/117 [==============================] - 0s 3ms/step - loss: 0.3742 - accuracy: 0.8680 - val_loss: 0.3509 - val_accuracy: 0.8583\n",
      "Epoch 100/200\n",
      "117/117 [==============================] - 0s 3ms/step - loss: 0.3724 - accuracy: 0.8676 - val_loss: 0.3513 - val_accuracy: 0.8500\n",
      "Epoch 101/200\n",
      "117/117 [==============================] - 0s 3ms/step - loss: 0.3692 - accuracy: 0.8699 - val_loss: 0.3472 - val_accuracy: 0.8483\n",
      "Epoch 102/200\n",
      "117/117 [==============================] - 0s 3ms/step - loss: 0.3694 - accuracy: 0.8691 - val_loss: 0.3464 - val_accuracy: 0.8583\n",
      "Epoch 103/200\n",
      "117/117 [==============================] - 0s 3ms/step - loss: 0.3704 - accuracy: 0.8689 - val_loss: 0.3454 - val_accuracy: 0.8600\n",
      "Epoch 104/200\n",
      "117/117 [==============================] - 0s 3ms/step - loss: 0.3700 - accuracy: 0.8699 - val_loss: 0.3486 - val_accuracy: 0.8550\n",
      "Epoch 105/200\n",
      "117/117 [==============================] - 0s 3ms/step - loss: 0.3673 - accuracy: 0.8698 - val_loss: 0.3481 - val_accuracy: 0.8483\n",
      "Epoch 106/200\n",
      "117/117 [==============================] - 0s 3ms/step - loss: 0.3674 - accuracy: 0.8706 - val_loss: 0.3424 - val_accuracy: 0.8533\n",
      "Epoch 107/200\n",
      "117/117 [==============================] - 0s 3ms/step - loss: 0.3637 - accuracy: 0.8719 - val_loss: 0.3422 - val_accuracy: 0.8583\n",
      "Epoch 108/200\n",
      "117/117 [==============================] - 0s 3ms/step - loss: 0.3646 - accuracy: 0.8718 - val_loss: 0.3477 - val_accuracy: 0.8567\n",
      "Epoch 109/200\n",
      "117/117 [==============================] - 0s 3ms/step - loss: 0.3639 - accuracy: 0.8702 - val_loss: 0.3421 - val_accuracy: 0.8500\n",
      "Epoch 110/200\n",
      "117/117 [==============================] - 0s 3ms/step - loss: 0.3620 - accuracy: 0.8721 - val_loss: 0.3407 - val_accuracy: 0.8583\n",
      "Epoch 111/200\n",
      "117/117 [==============================] - 0s 3ms/step - loss: 0.3633 - accuracy: 0.8712 - val_loss: 0.3424 - val_accuracy: 0.8533\n",
      "Epoch 112/200\n",
      "117/117 [==============================] - 0s 3ms/step - loss: 0.3626 - accuracy: 0.8724 - val_loss: 0.3401 - val_accuracy: 0.8600\n",
      "Epoch 113/200\n",
      "117/117 [==============================] - 0s 3ms/step - loss: 0.3603 - accuracy: 0.8725 - val_loss: 0.3388 - val_accuracy: 0.8583\n",
      "Epoch 114/200\n",
      "117/117 [==============================] - 0s 3ms/step - loss: 0.3598 - accuracy: 0.8730 - val_loss: 0.3421 - val_accuracy: 0.8533\n"
     ]
    },
    {
     "name": "stdout",
     "output_type": "stream",
     "text": [
      "Epoch 115/200\n",
      "117/117 [==============================] - 0s 3ms/step - loss: 0.3589 - accuracy: 0.8721 - val_loss: 0.3420 - val_accuracy: 0.8600\n",
      "Epoch 116/200\n",
      "117/117 [==============================] - 0s 3ms/step - loss: 0.3589 - accuracy: 0.8727 - val_loss: 0.3386 - val_accuracy: 0.8550\n",
      "Epoch 117/200\n",
      "117/117 [==============================] - 0s 3ms/step - loss: 0.3584 - accuracy: 0.8723 - val_loss: 0.3380 - val_accuracy: 0.8583\n",
      "Epoch 118/200\n",
      "117/117 [==============================] - 0s 3ms/step - loss: 0.3575 - accuracy: 0.8730 - val_loss: 0.3398 - val_accuracy: 0.8550\n",
      "Epoch 119/200\n",
      "117/117 [==============================] - 0s 3ms/step - loss: 0.3568 - accuracy: 0.8728 - val_loss: 0.3342 - val_accuracy: 0.8600\n",
      "Epoch 120/200\n",
      "117/117 [==============================] - 0s 3ms/step - loss: 0.3545 - accuracy: 0.8740 - val_loss: 0.3387 - val_accuracy: 0.8583\n",
      "Epoch 121/200\n",
      "117/117 [==============================] - 0s 3ms/step - loss: 0.3542 - accuracy: 0.8751 - val_loss: 0.3374 - val_accuracy: 0.8550\n",
      "Epoch 122/200\n",
      "117/117 [==============================] - 0s 3ms/step - loss: 0.3543 - accuracy: 0.8744 - val_loss: 0.3351 - val_accuracy: 0.8633\n",
      "Epoch 123/200\n",
      "117/117 [==============================] - 0s 3ms/step - loss: 0.3533 - accuracy: 0.8748 - val_loss: 0.3353 - val_accuracy: 0.8583\n",
      "Epoch 124/200\n",
      "117/117 [==============================] - 0s 3ms/step - loss: 0.3536 - accuracy: 0.8751 - val_loss: 0.3358 - val_accuracy: 0.8600\n",
      "Epoch 125/200\n",
      "117/117 [==============================] - 0s 3ms/step - loss: 0.3539 - accuracy: 0.8755 - val_loss: 0.3343 - val_accuracy: 0.8583\n",
      "Epoch 126/200\n",
      "117/117 [==============================] - 0s 3ms/step - loss: 0.3524 - accuracy: 0.8755 - val_loss: 0.3375 - val_accuracy: 0.8583\n",
      "Epoch 127/200\n",
      "117/117 [==============================] - 0s 3ms/step - loss: 0.3520 - accuracy: 0.8750 - val_loss: 0.3342 - val_accuracy: 0.8617\n",
      "Epoch 128/200\n",
      "117/117 [==============================] - 0s 3ms/step - loss: 0.3496 - accuracy: 0.8760 - val_loss: 0.3336 - val_accuracy: 0.8617\n",
      "Epoch 129/200\n",
      "117/117 [==============================] - 0s 3ms/step - loss: 0.3499 - accuracy: 0.8763 - val_loss: 0.3322 - val_accuracy: 0.8617\n",
      "Epoch 130/200\n",
      "117/117 [==============================] - 0s 3ms/step - loss: 0.3493 - accuracy: 0.8762 - val_loss: 0.3361 - val_accuracy: 0.8550\n",
      "Epoch 131/200\n",
      "117/117 [==============================] - 0s 3ms/step - loss: 0.3485 - accuracy: 0.8760 - val_loss: 0.3322 - val_accuracy: 0.8567\n",
      "Epoch 132/200\n",
      "117/117 [==============================] - 0s 3ms/step - loss: 0.3486 - accuracy: 0.8759 - val_loss: 0.3329 - val_accuracy: 0.8667\n",
      "Epoch 133/200\n",
      "117/117 [==============================] - 0s 3ms/step - loss: 0.3460 - accuracy: 0.8774 - val_loss: 0.3304 - val_accuracy: 0.8600\n",
      "Epoch 134/200\n",
      "117/117 [==============================] - 0s 3ms/step - loss: 0.3460 - accuracy: 0.8776 - val_loss: 0.3281 - val_accuracy: 0.8683\n",
      "Epoch 135/200\n",
      "117/117 [==============================] - 0s 3ms/step - loss: 0.3453 - accuracy: 0.8773 - val_loss: 0.3328 - val_accuracy: 0.8633\n",
      "Epoch 136/200\n",
      "117/117 [==============================] - 0s 3ms/step - loss: 0.3462 - accuracy: 0.8773 - val_loss: 0.3299 - val_accuracy: 0.8650\n",
      "Epoch 137/200\n",
      "117/117 [==============================] - 0s 3ms/step - loss: 0.3444 - accuracy: 0.8786 - val_loss: 0.3312 - val_accuracy: 0.8633\n",
      "Epoch 138/200\n",
      "117/117 [==============================] - 0s 3ms/step - loss: 0.3466 - accuracy: 0.8779 - val_loss: 0.3295 - val_accuracy: 0.8700\n",
      "Epoch 139/200\n",
      "117/117 [==============================] - 0s 3ms/step - loss: 0.3448 - accuracy: 0.8774 - val_loss: 0.3276 - val_accuracy: 0.8600\n",
      "Epoch 140/200\n",
      "117/117 [==============================] - 0s 3ms/step - loss: 0.3416 - accuracy: 0.8780 - val_loss: 0.3280 - val_accuracy: 0.8683\n",
      "Epoch 141/200\n",
      "117/117 [==============================] - 0s 3ms/step - loss: 0.3398 - accuracy: 0.8799 - val_loss: 0.3299 - val_accuracy: 0.8617\n",
      "Epoch 142/200\n",
      "117/117 [==============================] - 0s 3ms/step - loss: 0.3416 - accuracy: 0.8795 - val_loss: 0.3244 - val_accuracy: 0.8717\n",
      "Epoch 143/200\n",
      "117/117 [==============================] - 0s 3ms/step - loss: 0.3391 - accuracy: 0.8799 - val_loss: 0.3251 - val_accuracy: 0.8667\n",
      "Epoch 144/200\n",
      "117/117 [==============================] - 0s 3ms/step - loss: 0.3398 - accuracy: 0.8800 - val_loss: 0.3249 - val_accuracy: 0.8733\n",
      "Epoch 145/200\n",
      "117/117 [==============================] - 0s 3ms/step - loss: 0.3403 - accuracy: 0.8804 - val_loss: 0.3267 - val_accuracy: 0.8633\n",
      "Epoch 146/200\n",
      "117/117 [==============================] - 0s 3ms/step - loss: 0.3405 - accuracy: 0.8778 - val_loss: 0.3246 - val_accuracy: 0.8667\n",
      "Epoch 147/200\n",
      "117/117 [==============================] - 0s 3ms/step - loss: 0.3400 - accuracy: 0.8789 - val_loss: 0.3247 - val_accuracy: 0.8717\n",
      "Epoch 148/200\n",
      "117/117 [==============================] - 0s 3ms/step - loss: 0.3398 - accuracy: 0.8794 - val_loss: 0.3249 - val_accuracy: 0.8717\n",
      "Epoch 149/200\n",
      "117/117 [==============================] - 0s 3ms/step - loss: 0.3406 - accuracy: 0.8794 - val_loss: 0.3221 - val_accuracy: 0.8683\n",
      "Epoch 150/200\n",
      "117/117 [==============================] - 0s 3ms/step - loss: 0.3390 - accuracy: 0.8795 - val_loss: 0.3241 - val_accuracy: 0.8717\n",
      "Epoch 151/200\n",
      "117/117 [==============================] - 0s 3ms/step - loss: 0.3357 - accuracy: 0.8802 - val_loss: 0.3244 - val_accuracy: 0.8683\n",
      "Epoch 152/200\n",
      "117/117 [==============================] - 0s 3ms/step - loss: 0.3368 - accuracy: 0.8813 - val_loss: 0.3236 - val_accuracy: 0.8667\n",
      "Epoch 153/200\n",
      "117/117 [==============================] - 0s 3ms/step - loss: 0.3356 - accuracy: 0.8810 - val_loss: 0.3231 - val_accuracy: 0.8700\n",
      "Epoch 154/200\n",
      "117/117 [==============================] - 0s 3ms/step - loss: 0.3362 - accuracy: 0.8803 - val_loss: 0.3227 - val_accuracy: 0.8717\n",
      "Epoch 155/200\n",
      "117/117 [==============================] - 0s 3ms/step - loss: 0.3334 - accuracy: 0.8822 - val_loss: 0.3204 - val_accuracy: 0.8667\n",
      "Epoch 156/200\n",
      "117/117 [==============================] - 0s 3ms/step - loss: 0.3355 - accuracy: 0.8808 - val_loss: 0.3209 - val_accuracy: 0.8783\n",
      "Epoch 157/200\n",
      "117/117 [==============================] - 0s 3ms/step - loss: 0.3337 - accuracy: 0.8817 - val_loss: 0.3216 - val_accuracy: 0.8700\n",
      "Epoch 158/200\n",
      "117/117 [==============================] - 0s 3ms/step - loss: 0.3333 - accuracy: 0.8828 - val_loss: 0.3239 - val_accuracy: 0.8700\n",
      "Epoch 159/200\n",
      "117/117 [==============================] - 0s 3ms/step - loss: 0.3323 - accuracy: 0.8829 - val_loss: 0.3207 - val_accuracy: 0.8717\n",
      "Epoch 160/200\n",
      "117/117 [==============================] - 0s 3ms/step - loss: 0.3316 - accuracy: 0.8814 - val_loss: 0.3232 - val_accuracy: 0.8700\n",
      "Epoch 161/200\n",
      "117/117 [==============================] - 0s 3ms/step - loss: 0.3299 - accuracy: 0.8827 - val_loss: 0.3197 - val_accuracy: 0.8733\n",
      "Epoch 162/200\n",
      "117/117 [==============================] - 0s 3ms/step - loss: 0.3324 - accuracy: 0.8823 - val_loss: 0.3177 - val_accuracy: 0.8817\n",
      "Epoch 163/200\n",
      "117/117 [==============================] - 0s 3ms/step - loss: 0.3315 - accuracy: 0.8816 - val_loss: 0.3224 - val_accuracy: 0.8733\n",
      "Epoch 164/200\n",
      "117/117 [==============================] - 0s 3ms/step - loss: 0.3309 - accuracy: 0.8819 - val_loss: 0.3226 - val_accuracy: 0.8700\n",
      "Epoch 165/200\n",
      "117/117 [==============================] - 0s 3ms/step - loss: 0.3317 - accuracy: 0.8824 - val_loss: 0.3185 - val_accuracy: 0.8733\n",
      "Epoch 166/200\n",
      "117/117 [==============================] - 0s 3ms/step - loss: 0.3289 - accuracy: 0.8843 - val_loss: 0.3164 - val_accuracy: 0.8783\n",
      "Epoch 167/200\n",
      "117/117 [==============================] - 0s 3ms/step - loss: 0.3282 - accuracy: 0.8852 - val_loss: 0.3178 - val_accuracy: 0.8750\n",
      "Epoch 168/200\n",
      "117/117 [==============================] - 0s 3ms/step - loss: 0.3287 - accuracy: 0.8843 - val_loss: 0.3183 - val_accuracy: 0.8800\n",
      "Epoch 169/200\n",
      "117/117 [==============================] - 0s 3ms/step - loss: 0.3292 - accuracy: 0.8825 - val_loss: 0.3189 - val_accuracy: 0.8783\n",
      "Epoch 170/200\n",
      "117/117 [==============================] - 0s 3ms/step - loss: 0.3264 - accuracy: 0.8839 - val_loss: 0.3171 - val_accuracy: 0.8783\n",
      "Epoch 171/200\n"
     ]
    },
    {
     "name": "stdout",
     "output_type": "stream",
     "text": [
      "117/117 [==============================] - 0s 3ms/step - loss: 0.3282 - accuracy: 0.8840 - val_loss: 0.3168 - val_accuracy: 0.8733\n",
      "Epoch 172/200\n",
      "117/117 [==============================] - 0s 3ms/step - loss: 0.3283 - accuracy: 0.8833 - val_loss: 0.3160 - val_accuracy: 0.8800\n",
      "Epoch 173/200\n",
      "117/117 [==============================] - 0s 3ms/step - loss: 0.3279 - accuracy: 0.8834 - val_loss: 0.3169 - val_accuracy: 0.8783\n",
      "Epoch 174/200\n",
      "117/117 [==============================] - 0s 3ms/step - loss: 0.3271 - accuracy: 0.8835 - val_loss: 0.3166 - val_accuracy: 0.8750\n",
      "Epoch 175/200\n",
      "117/117 [==============================] - 0s 3ms/step - loss: 0.3268 - accuracy: 0.8848 - val_loss: 0.3166 - val_accuracy: 0.8850\n",
      "Epoch 176/200\n",
      "117/117 [==============================] - 0s 3ms/step - loss: 0.3240 - accuracy: 0.8856 - val_loss: 0.3164 - val_accuracy: 0.8800\n",
      "Epoch 177/200\n",
      "117/117 [==============================] - 0s 3ms/step - loss: 0.3257 - accuracy: 0.8844 - val_loss: 0.3176 - val_accuracy: 0.8733\n",
      "Epoch 178/200\n",
      "117/117 [==============================] - 0s 3ms/step - loss: 0.3250 - accuracy: 0.8845 - val_loss: 0.3156 - val_accuracy: 0.8717\n",
      "Epoch 179/200\n",
      "117/117 [==============================] - 0s 3ms/step - loss: 0.3226 - accuracy: 0.8849 - val_loss: 0.3139 - val_accuracy: 0.8750\n",
      "Epoch 180/200\n",
      "117/117 [==============================] - 0s 3ms/step - loss: 0.3251 - accuracy: 0.8848 - val_loss: 0.3138 - val_accuracy: 0.8750\n",
      "Epoch 181/200\n",
      "117/117 [==============================] - 0s 3ms/step - loss: 0.3232 - accuracy: 0.8850 - val_loss: 0.3150 - val_accuracy: 0.8817\n",
      "Epoch 182/200\n",
      "117/117 [==============================] - 0s 3ms/step - loss: 0.3232 - accuracy: 0.8848 - val_loss: 0.3172 - val_accuracy: 0.8700\n",
      "Epoch 183/200\n",
      "117/117 [==============================] - 0s 3ms/step - loss: 0.3211 - accuracy: 0.8862 - val_loss: 0.3133 - val_accuracy: 0.8800\n",
      "Epoch 184/200\n",
      "117/117 [==============================] - 0s 3ms/step - loss: 0.3212 - accuracy: 0.8860 - val_loss: 0.3118 - val_accuracy: 0.8833\n",
      "Epoch 185/200\n",
      "117/117 [==============================] - 0s 3ms/step - loss: 0.3193 - accuracy: 0.8871 - val_loss: 0.3142 - val_accuracy: 0.8733\n",
      "Epoch 186/200\n",
      "117/117 [==============================] - 0s 3ms/step - loss: 0.3184 - accuracy: 0.8873 - val_loss: 0.3123 - val_accuracy: 0.8750\n",
      "Epoch 187/200\n",
      "117/117 [==============================] - 0s 3ms/step - loss: 0.3195 - accuracy: 0.8862 - val_loss: 0.3121 - val_accuracy: 0.8750\n",
      "Epoch 188/200\n",
      "117/117 [==============================] - 0s 3ms/step - loss: 0.3213 - accuracy: 0.8859 - val_loss: 0.3134 - val_accuracy: 0.8783\n",
      "Epoch 189/200\n",
      "117/117 [==============================] - 0s 3ms/step - loss: 0.3181 - accuracy: 0.8860 - val_loss: 0.3101 - val_accuracy: 0.8717\n",
      "Epoch 190/200\n",
      "117/117 [==============================] - 0s 3ms/step - loss: 0.3183 - accuracy: 0.8862 - val_loss: 0.3126 - val_accuracy: 0.8683\n",
      "Epoch 191/200\n",
      "117/117 [==============================] - 0s 3ms/step - loss: 0.3223 - accuracy: 0.8862 - val_loss: 0.3138 - val_accuracy: 0.8733\n",
      "Epoch 192/200\n",
      "117/117 [==============================] - 0s 3ms/step - loss: 0.3200 - accuracy: 0.8845 - val_loss: 0.3109 - val_accuracy: 0.8733\n",
      "Epoch 193/200\n",
      "117/117 [==============================] - 0s 3ms/step - loss: 0.3195 - accuracy: 0.8869 - val_loss: 0.3088 - val_accuracy: 0.8817\n",
      "Epoch 194/200\n",
      "117/117 [==============================] - 0s 3ms/step - loss: 0.3156 - accuracy: 0.8869 - val_loss: 0.3123 - val_accuracy: 0.8733\n",
      "Epoch 195/200\n",
      "117/117 [==============================] - 0s 3ms/step - loss: 0.3157 - accuracy: 0.8868 - val_loss: 0.3121 - val_accuracy: 0.8717\n",
      "Epoch 196/200\n",
      "117/117 [==============================] - 0s 3ms/step - loss: 0.3161 - accuracy: 0.8872 - val_loss: 0.3102 - val_accuracy: 0.8817\n",
      "Epoch 197/200\n",
      "117/117 [==============================] - 0s 3ms/step - loss: 0.3148 - accuracy: 0.8870 - val_loss: 0.3128 - val_accuracy: 0.8717\n",
      "Epoch 198/200\n",
      "117/117 [==============================] - 0s 3ms/step - loss: 0.3151 - accuracy: 0.8879 - val_loss: 0.3077 - val_accuracy: 0.8833\n",
      "Epoch 199/200\n",
      "117/117 [==============================] - 0s 3ms/step - loss: 0.3135 - accuracy: 0.8877 - val_loss: 0.3083 - val_accuracy: 0.8850\n",
      "Epoch 200/200\n",
      "117/117 [==============================] - 0s 3ms/step - loss: 0.3167 - accuracy: 0.8885 - val_loss: 0.3110 - val_accuracy: 0.8767\n"
     ]
    }
   ],
   "source": [
    "model = keras.Sequential([\n",
    "    keras.layers.Flatten(input_shape=(28, 28)),\n",
    "    keras.layers.Dense(256, activation='relu'),\n",
    "    # dropout layer 추가\n",
    "    keras.layers.Dropout(0.5),\n",
    "    keras.layers.Dense(10, activation='softmax')\n",
    "])\n",
    "\n",
    "model.compile(optimizer='adam',loss='sparse_categorical_crossentropy',\n",
    "              metrics=['accuracy'])\n",
    "\n",
    "history= model.fit(X_train, y_train, epochs=200, batch_size=512, validation_data=(X_valid, y_valid))"
   ]
  },
  {
   "cell_type": "code",
   "execution_count": 27,
   "id": "1ba33aed",
   "metadata": {},
   "outputs": [
    {
     "data": {
      "image/png": "[encoded data removed]",
      "text/plain": [
       "<Figure size 432x288 with 1 Axes>"
      ]
     },
     "metadata": {
      "needs_background": "light"
     },
     "output_type": "display_data"
    }
   ],
   "source": [
    "# loss값 확인\n",
    "y_vloss = history.history['val_loss']\n",
    "y_loss = history.history['loss']\n",
    "x_len = np.arange(len(y_loss))\n",
    "\n",
    "plt.plot(x_len, y_vloss, marker='.', c='red', label=\"Validation-set Loss\")\n",
    "plt.plot(x_len, y_loss, marker='.', c='blue', label=\"Train-set Loss\")\n",
    "plt.legend(loc='upper right')\n",
    "plt.grid()\n",
    "plt.ylim(0,1)\n",
    "plt.title('Loss graph with dropout layer') \n",
    "plt.xlabel('epoch')\n",
    "plt.ylabel('loss')\n",
    "plt.show()"
   ]
  },
  {
   "cell_type": "code",
   "execution_count": 28,
   "id": "9c5165f7",
   "metadata": {},
   "outputs": [
    {
     "data": {
      "image/png": "[encoded data removed]",
      "text/plain": [
       "<Figure size 432x288 with 1 Axes>"
      ]
     },
     "metadata": {
      "needs_background": "light"
     },
     "output_type": "display_data"
    }
   ],
   "source": [
    "# accuracy값 확인\n",
    "y_vacc = history.history['val_accuracy']\n",
    "y_acc = history.history['accuracy']\n",
    "x_len = np.arange(len(y_acc))\n",
    "\n",
    "plt.plot(x_len, y_vacc, marker='.', c='red', label=\"Validation-set accuracy\")\n",
    "plt.plot(x_len, y_acc, marker='.', c='blue', label=\"Train-set accuracy\")\n",
    "plt.legend(loc='lower right')\n",
    "plt.grid()\n",
    "plt.ylim(0.5,1) \n",
    "plt.title('Accuracy graph with dropout layer') \n",
    "plt.xlabel('epoch')\n",
    "plt.ylabel('accuracy')\n",
    "plt.show()"
   ]
  },
  {
   "cell_type": "markdown",
   "id": "f261d58b",
   "metadata": {},
   "source": [
    "dropout layer 추가되면서 train-set의 accuracy가 더 높아지는 양상을 보여주고 있다."
   ]
  },
  {
   "cell_type": "markdown",
   "id": "372295f3",
   "metadata": {},
   "source": [
    "# 6. Batch Normalization"
   ]
  },
  {
   "cell_type": "markdown",
   "id": "19486f9f",
   "metadata": {},
   "source": [
    "batch normalization은 gradient vanishing, eplode 문제를 해결하는 방법이다. 2015년에 논문으로 나왔고 [Batch Normalization: Accelerating Deep Network Training by Reducing Internal Covariate Shift](https://arxiv.org/pdf/1502.03167.pdf)을 보면 확인할 수 있다.   \n",
    "적용할 수 있는 방법으로 mini-batch mean, mini-batch variance, normalize, scale and shift 방법이 있다. normalize의 경우 전처리 과정에서도 들어갔는데, 수식이 약간 다르다."
   ]
  },
  {
   "cell_type": "markdown",
   "id": "78c84993",
   "metadata": {},
   "source": [
    "아무것도 하지 않은 FC 레이어와 batch normarlization을 추가한 모델을 비교해보자. 정확도 비교와 속도를 위주로 확인해보자."
   ]
  },
  {
   "cell_type": "code",
   "execution_count": 29,
   "id": "42c68f3e",
   "metadata": {},
   "outputs": [
    {
     "name": "stdout",
     "output_type": "stream",
     "text": [
      "=3\n"
     ]
    }
   ],
   "source": [
    "import tensorflow as tf\n",
    "from tensorflow import keras\n",
    "import numpy as np\n",
    "import matplotlib.pyplot as plt\n",
    "\n",
    "fashion_mnist = keras.datasets.fashion_mnist\n",
    "print('=3')"
   ]
  },
  {
   "cell_type": "code",
   "execution_count": 30,
   "id": "7af53aa9",
   "metadata": {},
   "outputs": [],
   "source": [
    "(train_images, train_labels), (test_images, test_labels) = fashion_mnist.load_data()\n",
    "class_names = ['T-shirt/top', 'Trouser', 'Pullover', 'Dress', 'Coat',\n",
    "               'Sandal', 'Shirt', 'Sneaker', 'Bag', 'Ankle boot']\n",
    "\n",
    "train_images = train_images / 255.0\n",
    "test_images = test_images / 255.0"
   ]
  },
  {
   "cell_type": "code",
   "execution_count": 31,
   "id": "280dbd98",
   "metadata": {},
   "outputs": [
    {
     "name": "stdout",
     "output_type": "stream",
     "text": [
      "Epoch 1/20\n",
      "21/21 [==============================] - 1s 27ms/step - loss: 1.2212 - accuracy: 0.6162 - val_loss: 0.7392 - val_accuracy: 0.7417\n",
      "Epoch 2/20\n",
      "21/21 [==============================] - 0s 6ms/step - loss: 0.6491 - accuracy: 0.7786 - val_loss: 0.5934 - val_accuracy: 0.7993\n",
      "Epoch 3/20\n",
      "21/21 [==============================] - 0s 6ms/step - loss: 0.5515 - accuracy: 0.8142 - val_loss: 0.5276 - val_accuracy: 0.8229\n",
      "Epoch 4/20\n",
      "21/21 [==============================] - 0s 6ms/step - loss: 0.5052 - accuracy: 0.8298 - val_loss: 0.5062 - val_accuracy: 0.8268\n",
      "Epoch 5/20\n",
      "21/21 [==============================] - 0s 6ms/step - loss: 0.4793 - accuracy: 0.8356 - val_loss: 0.4767 - val_accuracy: 0.8364\n",
      "Epoch 6/20\n",
      "21/21 [==============================] - 0s 6ms/step - loss: 0.4555 - accuracy: 0.8455 - val_loss: 0.4607 - val_accuracy: 0.8408\n",
      "Epoch 7/20\n",
      "21/21 [==============================] - 0s 6ms/step - loss: 0.4394 - accuracy: 0.8501 - val_loss: 0.4458 - val_accuracy: 0.8467\n",
      "Epoch 8/20\n",
      "21/21 [==============================] - 0s 6ms/step - loss: 0.4269 - accuracy: 0.8544 - val_loss: 0.4340 - val_accuracy: 0.8512\n",
      "Epoch 9/20\n",
      "21/21 [==============================] - 0s 6ms/step - loss: 0.4108 - accuracy: 0.8600 - val_loss: 0.4212 - val_accuracy: 0.8552\n",
      "Epoch 10/20\n",
      "21/21 [==============================] - 0s 6ms/step - loss: 0.4012 - accuracy: 0.8626 - val_loss: 0.4182 - val_accuracy: 0.8540\n",
      "Epoch 11/20\n",
      "21/21 [==============================] - 0s 6ms/step - loss: 0.3935 - accuracy: 0.8645 - val_loss: 0.4096 - val_accuracy: 0.8583\n",
      "Epoch 12/20\n",
      "21/21 [==============================] - 0s 6ms/step - loss: 0.3825 - accuracy: 0.8682 - val_loss: 0.4005 - val_accuracy: 0.8611\n",
      "Epoch 13/20\n",
      "21/21 [==============================] - 0s 6ms/step - loss: 0.3740 - accuracy: 0.8713 - val_loss: 0.3992 - val_accuracy: 0.8604\n",
      "Epoch 14/20\n",
      "21/21 [==============================] - 0s 6ms/step - loss: 0.3694 - accuracy: 0.8722 - val_loss: 0.3943 - val_accuracy: 0.8627\n",
      "Epoch 15/20\n",
      "21/21 [==============================] - 0s 6ms/step - loss: 0.3626 - accuracy: 0.8738 - val_loss: 0.3847 - val_accuracy: 0.8656\n",
      "Epoch 16/20\n",
      "21/21 [==============================] - 0s 6ms/step - loss: 0.3554 - accuracy: 0.8755 - val_loss: 0.3801 - val_accuracy: 0.8666\n",
      "Epoch 17/20\n",
      "21/21 [==============================] - 0s 6ms/step - loss: 0.3509 - accuracy: 0.8783 - val_loss: 0.3792 - val_accuracy: 0.8664\n",
      "Epoch 18/20\n",
      "21/21 [==============================] - 0s 6ms/step - loss: 0.3434 - accuracy: 0.8813 - val_loss: 0.3741 - val_accuracy: 0.8686\n",
      "Epoch 19/20\n",
      "21/21 [==============================] - 0s 7ms/step - loss: 0.3394 - accuracy: 0.8817 - val_loss: 0.3737 - val_accuracy: 0.8673\n",
      "Epoch 20/20\n",
      "21/21 [==============================] - 0s 6ms/step - loss: 0.3344 - accuracy: 0.8839 - val_loss: 0.3708 - val_accuracy: 0.8696\n"
     ]
    }
   ],
   "source": [
    "from sklearn.model_selection import train_test_split\n",
    "\n",
    "X_train, X_valid, y_train, y_valid = train_test_split(train_images, train_labels, test_size=0.3, random_state=101)\n",
    "\n",
    "model = keras.Sequential([\n",
    "    keras.layers.Flatten(input_shape=(28, 28)),\n",
    "    keras.layers.Dense(128, activation='relu'),\n",
    "    keras.layers.Dense(10, activation='softmax')\n",
    "])\n",
    "\n",
    "model.compile(optimizer='adam',loss='sparse_categorical_crossentropy',\n",
    "              metrics=['accuracy'])\n",
    "\n",
    "history= model.fit(X_train, y_train, epochs=20, batch_size=2048, validation_data=(X_valid, y_valid))"
   ]
  },
  {
   "cell_type": "code",
   "execution_count": 32,
   "id": "dc685441",
   "metadata": {},
   "outputs": [
    {
     "data": {
      "image/png": "[encoded data removed]",
      "text/plain": [
       "<Figure size 432x288 with 1 Axes>"
      ]
     },
     "metadata": {
      "needs_background": "light"
     },
     "output_type": "display_data"
    }
   ],
   "source": [
    "# loss\n",
    "y_vloss = history.history['val_loss']\n",
    "y_loss = history.history['loss']\n",
    "x_len = np.arange(len(y_loss))\n",
    "\n",
    "plt.plot(x_len, y_vloss, marker='.', c='red', label=\"Validation-set Loss\")\n",
    "plt.plot(x_len, y_loss, marker='.', c='blue', label=\"Train-set Loss\")\n",
    "plt.legend(loc='upper right')\n",
    "plt.grid()\n",
    "plt.ylim(0,1)\n",
    "plt.title('Loss graph without batch normalization') \n",
    "plt.xlabel('epoch')\n",
    "plt.ylabel('loss')\n",
    "plt.show()"
   ]
  },
  {
   "cell_type": "code",
   "execution_count": 33,
   "id": "82ccaded",
   "metadata": {},
   "outputs": [
    {
     "data": {
      "image/png": "[encoded data removed]",
      "text/plain": [
       "<Figure size 432x288 with 1 Axes>"
      ]
     },
     "metadata": {
      "needs_background": "light"
     },
     "output_type": "display_data"
    }
   ],
   "source": [
    "# accuracy\n",
    "y_vacc = history.history['val_accuracy']\n",
    "y_acc = history.history['accuracy']\n",
    "x_len = np.arange(len(y_acc))\n",
    "\n",
    "plt.plot(x_len, y_vacc, marker='.', c='red', label=\"Validation-set accuracy\")\n",
    "plt.plot(x_len, y_acc, marker='.', c='blue', label=\"Train-set accuracy\")\n",
    "plt.legend(loc='lower right')\n",
    "plt.grid()\n",
    "plt.ylim(0.5,1)\n",
    "plt.title('Accuracy graph without batch normalization') \n",
    "plt.xlabel('epoch')\n",
    "plt.ylabel('accuracy')\n",
    "plt.show()"
   ]
  },
  {
   "cell_type": "markdown",
   "id": "132b722a",
   "metadata": {},
   "source": [
    "---"
   ]
  },
  {
   "cell_type": "code",
   "execution_count": 34,
   "id": "dcd7f891",
   "metadata": {},
   "outputs": [
    {
     "name": "stdout",
     "output_type": "stream",
     "text": [
      "Epoch 1/20\n",
      "21/21 [==============================] - 1s 18ms/step - loss: 0.9914 - accuracy: 0.6721 - val_loss: 1.1055 - val_accuracy: 0.6324\n",
      "Epoch 2/20\n",
      "21/21 [==============================] - 0s 6ms/step - loss: 0.5208 - accuracy: 0.8246 - val_loss: 0.8816 - val_accuracy: 0.7314\n",
      "Epoch 3/20\n",
      "21/21 [==============================] - 0s 7ms/step - loss: 0.4497 - accuracy: 0.8473 - val_loss: 0.7777 - val_accuracy: 0.7631\n",
      "Epoch 4/20\n",
      "21/21 [==============================] - 0s 7ms/step - loss: 0.4114 - accuracy: 0.8602 - val_loss: 0.6897 - val_accuracy: 0.8071\n",
      "Epoch 5/20\n",
      "21/21 [==============================] - 0s 6ms/step - loss: 0.3841 - accuracy: 0.8686 - val_loss: 0.6377 - val_accuracy: 0.8208\n",
      "Epoch 6/20\n",
      "21/21 [==============================] - 0s 7ms/step - loss: 0.3634 - accuracy: 0.8757 - val_loss: 0.6037 - val_accuracy: 0.8251\n",
      "Epoch 7/20\n",
      "21/21 [==============================] - 0s 7ms/step - loss: 0.3461 - accuracy: 0.8816 - val_loss: 0.5648 - val_accuracy: 0.8338\n",
      "Epoch 8/20\n",
      "21/21 [==============================] - 0s 7ms/step - loss: 0.3321 - accuracy: 0.8860 - val_loss: 0.5321 - val_accuracy: 0.8440\n",
      "Epoch 9/20\n",
      "21/21 [==============================] - 0s 6ms/step - loss: 0.3172 - accuracy: 0.8900 - val_loss: 0.4987 - val_accuracy: 0.8561\n",
      "Epoch 10/20\n",
      "21/21 [==============================] - 0s 7ms/step - loss: 0.3053 - accuracy: 0.8950 - val_loss: 0.4696 - val_accuracy: 0.8597\n",
      "Epoch 11/20\n",
      "21/21 [==============================] - 0s 8ms/step - loss: 0.2924 - accuracy: 0.8990 - val_loss: 0.4635 - val_accuracy: 0.8509\n",
      "Epoch 12/20\n",
      "21/21 [==============================] - 0s 7ms/step - loss: 0.2853 - accuracy: 0.9000 - val_loss: 0.4310 - val_accuracy: 0.8640\n",
      "Epoch 13/20\n",
      "21/21 [==============================] - 0s 7ms/step - loss: 0.2754 - accuracy: 0.9033 - val_loss: 0.4213 - val_accuracy: 0.8701\n",
      "Epoch 14/20\n",
      "21/21 [==============================] - 0s 7ms/step - loss: 0.2675 - accuracy: 0.9071 - val_loss: 0.4174 - val_accuracy: 0.8609\n",
      "Epoch 15/20\n",
      "21/21 [==============================] - 0s 6ms/step - loss: 0.2598 - accuracy: 0.9097 - val_loss: 0.3878 - val_accuracy: 0.8714\n",
      "Epoch 16/20\n",
      "21/21 [==============================] - 0s 6ms/step - loss: 0.2522 - accuracy: 0.9114 - val_loss: 0.3736 - val_accuracy: 0.8765\n",
      "Epoch 17/20\n",
      "21/21 [==============================] - 0s 7ms/step - loss: 0.2427 - accuracy: 0.9155 - val_loss: 0.3669 - val_accuracy: 0.8761\n",
      "Epoch 18/20\n",
      "21/21 [==============================] - 0s 6ms/step - loss: 0.2420 - accuracy: 0.9145 - val_loss: 0.3613 - val_accuracy: 0.8768\n",
      "Epoch 19/20\n",
      "21/21 [==============================] - 0s 7ms/step - loss: 0.2302 - accuracy: 0.9188 - val_loss: 0.3487 - val_accuracy: 0.8802\n",
      "Epoch 20/20\n",
      "21/21 [==============================] - 0s 6ms/step - loss: 0.2221 - accuracy: 0.9232 - val_loss: 0.3526 - val_accuracy: 0.8768\n"
     ]
    }
   ],
   "source": [
    "model = keras.Sequential([\n",
    "    keras.layers.Flatten(input_shape=(28, 28)),\n",
    "    keras.layers.Dense(128, activation='relu'),\n",
    "    # batchnormalization layer 추가\n",
    "    keras.layers.BatchNormalization(),\n",
    "    keras.layers.Dense(10, activation='softmax')\n",
    "])\n",
    "\n",
    "model.compile(optimizer='adam',loss='sparse_categorical_crossentropy',\n",
    "              metrics=['accuracy'])\n",
    "\n",
    "history= model.fit(X_train, y_train, epochs=20, batch_size=2048, validation_data=(X_valid, y_valid))"
   ]
  },
  {
   "cell_type": "code",
   "execution_count": 35,
   "id": "485fc890",
   "metadata": {},
   "outputs": [
    {
     "data": {
      "image/png": "[encoded data removed]",
      "text/plain": [
       "<Figure size 432x288 with 1 Axes>"
      ]
     },
     "metadata": {
      "needs_background": "light"
     },
     "output_type": "display_data"
    }
   ],
   "source": [
    "# loss\n",
    "y_vloss = history.history['val_loss']\n",
    "y_loss = history.history['loss']\n",
    "x_len = np.arange(len(y_loss))\n",
    "\n",
    "plt.plot(x_len, y_vloss, marker='.', c='red', label=\"Validation-set Loss\")\n",
    "plt.plot(x_len, y_loss, marker='.', c='blue', label=\"Train-set Loss\")\n",
    "plt.legend(loc='upper right')\n",
    "plt.grid()\n",
    "plt.ylim(0,1)\n",
    "plt.title('Loss graph with batch normalization') \n",
    "plt.xlabel('epoch')\n",
    "plt.ylabel('loss')\n",
    "plt.show()"
   ]
  },
  {
   "cell_type": "code",
   "execution_count": 36,
   "id": "3effd02d",
   "metadata": {
    "scrolled": true
   },
   "outputs": [
    {
     "data": {
      "image/png": "[encoded data removed]",
      "text/plain": [
       "<Figure size 432x288 with 1 Axes>"
      ]
     },
     "metadata": {
      "needs_background": "light"
     },
     "output_type": "display_data"
    }
   ],
   "source": [
    "# accuracy\n",
    "y_vacc = history.history['val_accuracy']\n",
    "y_acc = history.history['accuracy']\n",
    "x_len = np.arange(len(y_acc))\n",
    "\n",
    "plt.plot(x_len, y_vacc, marker='.', c='red', label=\"Validation-set accuracy\")\n",
    "plt.plot(x_len, y_acc, marker='.', c='blue', label=\"Train-set accuracy\")\n",
    "plt.legend(loc='lower right')\n",
    "plt.grid()\n",
    "plt.ylim(0.5,1) \n",
    "plt.title('Accurcy graph with batch normalization') \n",
    "plt.xlabel('epoch')\n",
    "plt.ylabel('accuracy')\n",
    "plt.show()"
   ]
  },
  {
   "cell_type": "markdown",
   "id": "a434f25e",
   "metadata": {},
   "source": [
    "더 빠르게 정확도 상승이 있음을 확인할 수 있다. 그리고 loss 값의 감소도 더 빨라졌다. batch normalization으로 이미지가 정규화되면서 고른 분포를 갖게되고, 안정적인 학습이 가능해진다."
   ]
  }
 ],
 "metadata": {
  "kernelspec": {
   "display_name": "Python 3 (ipykernel)",
   "language": "python",
   "name": "python3"
  },
  "language_info": {
   "codemirror_mode": {
    "name": "ipython",
    "version": 3
   },
   "file_extension": ".py",
   "mimetype": "text/x-python",
   "name": "python",
   "nbconvert_exporter": "python",
   "pygments_lexer": "ipython3",
   "version": "3.9.7"
  }
 },
 "nbformat": 4,
 "nbformat_minor": 5
}
