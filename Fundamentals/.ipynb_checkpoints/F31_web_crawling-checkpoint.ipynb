{
 "cells": [
  {
   "cell_type": "markdown",
   "id": "b5ae6960",
   "metadata": {},
   "source": [
    "# 31. 뉴스기사 크롤링 및 분류"
   ]
  },
  {
   "cell_type": "markdown",
   "id": "7e9ebbd9",
   "metadata": {},
   "source": [
    "__준비물__   \n",
    "\n",
    "1. 디렉토리 만들기\n",
    "```\n",
    "$ mkdir -p ~/aiffel/news_crawler\n",
    "```\n",
    "\n",
    "2. Mecab라는 형태소 분석기 설치하기\n",
    "```\n",
    "$ git clone https://github.com/SOMJANG/Mecab-ko-for-Google-Colab.git\n",
    "$ cd Mecab-ko-for-Google-Colab\n",
    "$ bash install_mecab-ko_on_colab190912.sh\n",
    "```\n",
    "\n",
    "3. pip 패키지 설치하기\n",
    "```\n",
    "$ pip install beautifulsoup4\n",
    "$ pip install newspaper3k\n",
    "$ pip install konlpy\n",
    "```"
   ]
  },
  {
   "cell_type": "markdown",
   "id": "12304dfa",
   "metadata": {},
   "source": [
    "# 31-2. 웹 이해하기 (1) HTML, tag"
   ]
  },
  {
   "cell_type": "markdown",
   "id": "410b142e",
   "metadata": {},
   "source": [
    "__crawling__ 이란 웹 페이지에서 데이터를 추출하는 행위를 말한다. 크롤링하는 소프트웨어는 crawler라고 부른다. 웹 사이트들은 HTML(HyperText Markup Language)라는 마크업 언어로 작성된 문서이다. "
   ]
  },
  {
   "cell_type": "markdown",
   "id": "6c7a80d5",
   "metadata": {},
   "source": [
    "```\n",
    "<!DOCTYPE html>\n",
    "<html>\n",
    "  <head>\n",
    "    <title> HTML 문서 </title>\n",
    "  </head>\n",
    "  <body>\n",
    "    <h1> 이것은 HTML 문서입니다! </h1>\n",
    "  </body>\n",
    "</html>\n",
    "```"
   ]
  },
  {
   "cell_type": "markdown",
   "id": "58c86b92",
   "metadata": {},
   "source": [
    "HTML 문서는 기본적으로 정해진 문법을 지키며 작성되어 있다. 네이버를 예시로 한번 봐보자."
   ]
  },
  {
   "cell_type": "markdown",
   "id": "286ecc8f",
   "metadata": {},
   "source": [
    "```\n",
    "<div class=\"direct_area\">\n",
    "    <a href=\"http://news.naver.com/\" class=\"link_news\" data-clk=\"newshome\">네이버뉴스</a>\n",
    "    <a href=\"http://entertain.naver.com/home\" class=\"link_direct\" data-clk=\"entertainment\">연예</a>\n",
    "    <a href=\"http://sports.news.naver.com/\" class=\"link_direct\" data-clk=\"sports\">스포츠</a>\n",
    "</div>\n",
    "```"
   ]
  },
  {
   "cell_type": "markdown",
   "id": "684c9f2c",
   "metadata": {},
   "source": [
    "수 많은 꺽쇠들의 조합으로 구성되어 있다. 이렇게 `<>`들로 이루어진 코드를 __태그__ 라고 한다. 태그의 일반적인 형식은 `<태그명> 컨텐츠 </태그명>` 인데, 간혹가다 닫히는 태그가 없는 경우도 있다. 이는 `<태그명/>`으로 표현된다."
   ]
  },
  {
   "cell_type": "markdown",
   "id": "91c6778c",
   "metadata": {},
   "source": [
    "# 31-3. 웹 이해하기 (2) 선택자"
   ]
  },
  {
   "cell_type": "markdown",
   "id": "af8f9bda",
   "metadata": {},
   "source": [
    "원활한 크롤링을 위해서 HTML 문서 내의 __선택자(selector)__ 를 이해해야 한다. 이는 특정 태그들에 그룹이나 번호를 주는 기능을 말한다.   \n",
    "```\n",
    "<html> \n",
    "    <head> \n",
    "    </head> \n",
    "    <body> \n",
    "        <h1> 장바구니\n",
    "            <p> 라운드티\n",
    "                <span> 25 </span> \n",
    "                <span> 29000 </span> \n",
    "                <span> 의류</span> \n",
    "                <a href = 'http://www.naver.com'> 이동 </a> \n",
    "            </p> \n",
    "            <p> 시계\n",
    "                <span> 28 </span>\n",
    "                <span> 32000 </span> \n",
    "                <span> 악세서리 </span> \n",
    "                <a href = 'http://www.facebook.com'> 이동 </a> \n",
    "            </p> \n",
    "        </h1> \n",
    "    </body> \n",
    "</html>\n",
    "```"
   ]
  },
  {
   "cell_type": "markdown",
   "id": "28a20a38",
   "metadata": {},
   "source": [
    "위 HTML 문서에서 `p, span, a` 태그를 보면 동일한 태그가 반복적으로 있다. 이렇게 같은 태그가 추가 정보 없이 반복되면 가독성도 안좋아지고 특정 태그만 선택해야하는 경우에도 일일이 찾아야 하는 번거로움이 있다. 그래서 다음과 같이 `id, class`라는 selector를 추가하면 보기 쉽게 관리할 수 있다.   \n",
    "\n",
    "```\n",
    "<html> \n",
    "    <head> \n",
    "    </head> \n",
    "    <body> \n",
    "        <h1> 장바구니\n",
    "            <p id='clothes' class='name' title='라운드티'> 라운드티\n",
    "                <span class = 'number'> 25 </span> \n",
    "                <span class = 'price'> 29000 </span> \n",
    "                <span class = 'menu'> 의류</span> \n",
    "                <a href = 'http://www.naver.com'> 바로가기 </a> \n",
    "            </p> \n",
    "            <p id='watch' class='name' title='시계'> 시계\n",
    "                <span class = 'number'> 28 </span>\n",
    "                <span class = 'price'> 32000 </span> \n",
    "                <span class = 'menu'> 악세서리 </span> \n",
    "                <a href = 'http://www.facebook.com'> 바로가기 </a> \n",
    "            </p> \n",
    "        </h1> \n",
    "    </body> \n",
    "</html>\n",
    "```"
   ]
  },
  {
   "cell_type": "markdown",
   "id": "914b1bf1",
   "metadata": {},
   "source": [
    "`id`, `class`를 기존의 코드에서 새롭게 추가했다. 이렇게 추가하면 가독성도 좋아지지만 CSS의 스타일을 적용할 때 매우 유용하다. 이러한 선택자의 개념을 이용해서 보다 용이하게 크롤링을 해보자."
   ]
  },
  {
   "cell_type": "markdown",
   "id": "a0aa1d76",
   "metadata": {},
   "source": [
    "# 31-4. BeautifulSoup 패키지"
   ]
  },
  {
   "cell_type": "markdown",
   "id": "0c867b9f",
   "metadata": {},
   "source": [
    "BeautifulSoup 파이썬 크롤링 패키지를 사용하면 손 쉽게 원하는 태그를 찾아 원하는 정보만 뽑아낼 수 있다. 이 패키지는 HTML, XML 문서로부터 원하는 정보를 추출해준다."
   ]
  },
  {
   "cell_type": "code",
   "execution_count": null,
   "id": "13cf89a3",
   "metadata": {},
   "outputs": [],
   "source": [
    "from bs4 import BeautifulSoup\n",
    "\n",
    "#- HTML 문서를 문자열 html로 저장합니다.\n",
    "html = '''\n",
    "<html> \n",
    "    <head> \n",
    "    </head> \n",
    "    <body> \n",
    "        <h1> 장바구니\n",
    "            <p id='clothes' class='name' title='라운드티'> 라운드티\n",
    "                <span class = 'number'> 25 </span> \n",
    "                <span class = 'price'> 29000 </span> \n",
    "                <span class = 'menu'> 의류</span> \n",
    "                <a href = 'http://www.naver.com'> 바로가기 </a> \n",
    "            </p> \n",
    "            <p id='watch' class='name' title='시계'> 시계\n",
    "                <span class = 'number'> 28 </span>\n",
    "                <span class = 'price'> 32000 </span> \n",
    "                <span class = 'menu'> 악세서리 </span> \n",
    "                <a href = 'http://www.facebook.com'> 바로가기 </a> \n",
    "            </p> \n",
    "        </h1> \n",
    "    </body> \n",
    "</html>\n",
    "'''\n",
    "\n",
    "#- BeautifulSoup 인스턴스를 생성합니다.\n",
    "#- 두번째 매개변수는 분석할 분석기(parser)의 종류입니다.\n",
    "soup = BeautifulSoup(html, 'html.parser')"
   ]
  },
  {
   "cell_type": "markdown",
   "id": "886e31f3",
   "metadata": {},
   "source": [
    "임의로 만든 HTML 문자열로 해당 문서를 분석해보는 예제를 살펴보자.   \n",
    "맨 아랫줄에 있는 `BeautifulSoup(입력 문자열, 'html.parser')` 의미는 HTML 문법을 기반으로 파싱하라는 의미이다. 이렇게 생성한 인스턴스를 `select()`로 정보를 가져올 수 있다.   \n",
    "[블로그](https://m.blog.naver.com/kiddwannabe/221177292446)를 살펴보면 `select()` 관련한 핸들링을 자세하게 볼 수 있다."
   ]
  },
  {
   "cell_type": "code",
   "execution_count": null,
   "id": "2c79ff86",
   "metadata": {},
   "outputs": [],
   "source": [
    "print(soup.select('body'))"
   ]
  },
  {
   "cell_type": "code",
   "execution_count": null,
   "id": "cbea4825",
   "metadata": {},
   "outputs": [],
   "source": [
    "print(soup.select('p'))"
   ]
  },
  {
   "cell_type": "code",
   "execution_count": null,
   "id": "7a09414d",
   "metadata": {},
   "outputs": [],
   "source": [
    "print(soup.select('h1 .name .menu'))"
   ]
  },
  {
   "cell_type": "code",
   "execution_count": null,
   "id": "fc5c3351",
   "metadata": {},
   "outputs": [],
   "source": [
    "# 잘못된 입력을 넣으면 아무런 정보도 출력되지 않는다.\n",
    "print(soup.select('html > h1'))"
   ]
  },
  {
   "cell_type": "markdown",
   "id": "f3ffe7fa",
   "metadata": {},
   "source": [
    "# 31-5. newspaper3k 패키지"
   ]
  },
  {
   "cell_type": "markdown",
   "id": "077c2ae3",
   "metadata": {},
   "source": [
    "newspaper3k 패키지는 뉴스 데이터를 크롤링하기 위해 만들어진 패키지이다. 뉴스 기사의 URL을 전달해주면 제목과 텍스트를 추출할 수 있다. "
   ]
  },
  {
   "cell_type": "code",
   "execution_count": null,
   "id": "eb4b770d",
   "metadata": {},
   "outputs": [],
   "source": [
    "from newspaper import Article\n",
    "\n",
    "#- 파싱할 뉴스 기사 주소입니다.\n",
    "url = 'https://news.naver.com/main/read.nhn?mode=LSD&mid=sec&sid1=101&oid=030&aid=0002881076'\n",
    "\n",
    "#- 언어가 한국어이므로 language='ko'로 설정해줍니다.\n",
    "article = Article(url, language='ko')\n",
    "article.download()\n",
    "article.parse()"
   ]
  },
  {
   "cell_type": "code",
   "execution_count": null,
   "id": "51d98f87",
   "metadata": {},
   "outputs": [],
   "source": [
    "#- 기사 제목을 출력합니다.\n",
    "print('기사 제목 :')\n",
    "print(article.title)\n",
    "print('')\n",
    "\n",
    "#- 기사 내용을 출력합니다.\n",
    "print('기사 내용 :')\n",
    "print(article.text)"
   ]
  },
  {
   "cell_type": "markdown",
   "id": "c156b5b5",
   "metadata": {},
   "source": [
    "Article에 기사 URL을 전달하면 title과 text로 기사를 쉽게 크롤링할 수 있다."
   ]
  },
  {
   "cell_type": "markdown",
   "id": "b2ca729c",
   "metadata": {},
   "source": [
    "# 31-6. 네이버 뉴스 기사 크롤링 (1) 뉴스 URL 페이지 이해하기"
   ]
  },
  {
   "cell_type": "markdown",
   "id": "29ff6d4a",
   "metadata": {},
   "source": [
    "네이버 메인 > 뉴스 > 속보에 위치한 페이지를 크롤링할 예정이다.   \n",
    "![](https://d3s0tskafalll9.cloudfront.net/media/images/Group_522.max-800x600.png)"
   ]
  },
  {
   "attachments": {
    "%E1%84%89%E1%85%B3%E1%84%8F%E1%85%B3%E1%84%85%E1%85%B5%E1%86%AB%E1%84%89%E1%85%A3%E1%86%BA%202022-03-04%20%E1%84%8B%E1%85%A9%E1%84%92%E1%85%AE%204.32.05.png": {
     "image/png": "[encoded data removed]"
    }
   },
   "cell_type": "markdown",
   "id": "55e5070a",
   "metadata": {},
   "source": [
    "❗️ LMS는 위처럼 나온다고 하는데 바뀐거같다. 실습하는 과정에서 나는 다르게 다음과 같이 나왔다.   \n",
    "![%E1%84%89%E1%85%B3%E1%84%8F%E1%85%B3%E1%84%85%E1%85%B5%E1%86%AB%E1%84%89%E1%85%A3%E1%86%BA%202022-03-04%20%E1%84%8B%E1%85%A9%E1%84%92%E1%85%AE%204.32.05.png](attachment:%E1%84%89%E1%85%B3%E1%84%8F%E1%85%B3%E1%84%85%E1%85%B5%E1%86%AB%E1%84%89%E1%85%A3%E1%86%BA%202022-03-04%20%E1%84%8B%E1%85%A9%E1%84%92%E1%85%AE%204.32.05.png)"
   ]
  },
  {
   "cell_type": "markdown",
   "id": "abf64f1e",
   "metadata": {},
   "source": [
    "`&sid1=`에 있는 카테고리의 번호는 일치하다.   \n",
    "100: 정치, 101: 경제, 102: 사회 ... 105: IT/과학, 110: 오피니언   \n",
    "하지만 `&oid, &aid`로 바뀌었다."
   ]
  },
  {
   "cell_type": "markdown",
   "id": "7bf225ce",
   "metadata": {},
   "source": [
    "# 31-7. 네이버 뉴스 기사 크롤링 (2) BeautifulSoup, newspaper3k를 통해 크롤러 만들기"
   ]
  },
  {
   "cell_type": "code",
   "execution_count": null,
   "id": "db620f7b",
   "metadata": {},
   "outputs": [],
   "source": [
    "# 크롤러를 만들기 전 필요한 도구들을 임포트합니다.\n",
    "import requests\n",
    "import pandas as pd\n",
    "from bs4 import BeautifulSoup\n",
    "\n",
    "# 페이지 수, 카테고리, 날짜를 입력값으로 받습니다.\n",
    "def make_urllist(page_num, code, date): \n",
    "  urllist= []\n",
    "  for i in range(1, page_num + 1):\n",
    "    url = 'https://news.naver.com/main/list.nhn?mode=LSD&mid=sec&sid1='+str(code)+'&date='+str(date)+'&page='+str(i)\n",
    "    headers = {'User-Agent': 'Mozilla/5.0 (X11; Linux x86_64) AppleWebKit/537.36 (KHTML, like Gecko) Chrome/54.0.2840.90 Safari/537.36'}\n",
    "    news = requests.get(url, headers=headers)\n",
    "\n",
    "    # BeautifulSoup의 인스턴스 생성합니다. 파서는 html.parser를 사용합니다.\n",
    "    soup = BeautifulSoup(news.content, 'html.parser')\n",
    "\n",
    "    # CASE 1\n",
    "    news_list = soup.select('.newsflash_body .type06_headline li dl')\n",
    "    # CASE 2\n",
    "    news_list.extend(soup.select('.newsflash_body .type06 li dl'))\n",
    "        \n",
    "    # 각 뉴스로부터 a 태그인 <a href ='주소'> 에서 '주소'만을 가져옵니다.\n",
    "    for line in news_list:\n",
    "        urllist.append(line.a.get('href'))\n",
    "  return urllist"
   ]
  },
  {
   "cell_type": "markdown",
   "id": "3942e9ed",
   "metadata": {},
   "source": [
    "`make_urllist()`는 beautifulsoup를 이용해서 URL 리스트를 리턴하는 함수이다. 원하는 페이지 수, 카테고리 번호, 날짜를 입력값으로 받고 있다.   \n",
    "101코드 경제 기사의 2020년05월06일 날짜의 2페이지까지 리스트를 받아오자."
   ]
  },
  {
   "cell_type": "code",
   "execution_count": null,
   "id": "231c47f4",
   "metadata": {},
   "outputs": [],
   "source": [
    "url_list = make_urllist(2, 101, 20200506)\n",
    "print('뉴스 기사의 개수: ',len(url_list))"
   ]
  },
  {
   "cell_type": "code",
   "execution_count": null,
   "id": "84af4952",
   "metadata": {},
   "outputs": [],
   "source": [
    "url_list[:5]"
   ]
  },
  {
   "cell_type": "markdown",
   "id": "45b4b317",
   "metadata": {},
   "source": [
    "위에서 BeautifulSoup으로 추출한 URL을 newspaper3k를 통해 데이터프레임을 만들자. 카테고리를 번호로 호출하고 있는데 결과를 확인할 때 코드로부터 어떤 카테고리인지 확인하기 쉽게 딕셔너리 형태로 만들어두자."
   ]
  },
  {
   "cell_type": "code",
   "execution_count": null,
   "id": "8cad4198",
   "metadata": {},
   "outputs": [],
   "source": [
    "idx2word = {'101' : '경제', '102' : '사회', '103' : '생활/문화', '105' : 'IT/과학'}"
   ]
  },
  {
   "cell_type": "code",
   "execution_count": null,
   "id": "36d9f7f1",
   "metadata": {},
   "outputs": [],
   "source": [
    "from newspaper import Article\n",
    "\n",
    "#- 데이터프레임을 생성하는 함수입니다.\n",
    "def make_data(urllist, code):\n",
    "  text_list = []\n",
    "  for url in urllist:\n",
    "    article = Article(url, language='ko')\n",
    "    article.download()\n",
    "    article.parse()\n",
    "    text_list.append(article.text)\n",
    "\n",
    "  #- 데이터프레임의 'news' 키 아래 파싱한 텍스트를 밸류로 붙여줍니다.\n",
    "  df = pd.DataFrame({'news': text_list})\n",
    "\n",
    "  #- 데이터프레임의 'code' 키 아래 한글 카테고리명을 붙여줍니다.\n",
    "  df['code'] = idx2word[str(code)]\n",
    "  return df"
   ]
  },
  {
   "cell_type": "code",
   "execution_count": null,
   "id": "0aec39a1",
   "metadata": {},
   "outputs": [],
   "source": [
    "data = make_data(url_list, 101)\n",
    "#- 상위 10개만 출력해봅니다.\n",
    "data[:10]"
   ]
  },
  {
   "cell_type": "markdown",
   "id": "0eafc630",
   "metadata": {},
   "source": [
    "40개의 경제 뉴스가 데이터프레임에 저장되었다."
   ]
  },
  {
   "cell_type": "markdown",
   "id": "359b3aa9",
   "metadata": {},
   "source": [
    "# 31-8. 네이버 뉴스 기사 크롤링 (3) 데이터 수집 및 전처리"
   ]
  },
  {
   "cell_type": "markdown",
   "id": "03ae9477",
   "metadata": {},
   "source": [
    "다른 카테고리 뉴스들도 데이터를 수집해보자. 카테고리 코드들을 저장한 리스트를 만들어 이를 사용해 크롤링할 수 있도록 만들자."
   ]
  },
  {
   "cell_type": "code",
   "execution_count": null,
   "id": "16df6025",
   "metadata": {},
   "outputs": [],
   "source": [
    "code_list = [102, 103, 105]\n",
    "\n",
    "code_list"
   ]
  },
  {
   "cell_type": "code",
   "execution_count": null,
   "id": "20bb1bbe",
   "metadata": {},
   "outputs": [],
   "source": [
    "from multiprocessing import Pool\n",
    "import random\n",
    "import time, os\n",
    "\n",
    "def make_total_data(page_num, code_list, date):\n",
    "  start = int(time.time())  \n",
    "  num_cores = 4  \n",
    "  df = None\n",
    "  for code in code_list:\n",
    "    pool = Pool(num_cores)\n",
    "    url_list = make_urllist(page_num, code, date)\n",
    "    df_temp = make_data(url_list, code)\n",
    "    print(str(code)+'번 코드에 대한 데이터를 만들었습니다.')\n",
    "    pool.close()\n",
    "    pool.join()\n",
    "    time.sleep(random.randint(0,1))\n",
    "    if df is not None:\n",
    "      df = pd.concat([df, df_temp])\n",
    "    else:\n",
    "      df = df_temp\n",
    "\n",
    "  print(\"***run time(sec) :\", int(time.time()) - start)\n",
    "  return df"
   ]
  },
  {
   "cell_type": "markdown",
   "id": "bdd7965a",
   "metadata": {},
   "source": [
    "2020년 05월 06일 기사의 1페이지에 있는 102, 103, 105번 카테고리 뉴스를 수집하자."
   ]
  },
  {
   "cell_type": "code",
   "execution_count": null,
   "id": "0dddcf9f",
   "metadata": {},
   "outputs": [],
   "source": [
    "df = make_total_data(1, code_list, 20200506)"
   ]
  },
  {
   "cell_type": "code",
   "execution_count": null,
   "id": "16b763d5",
   "metadata": {},
   "outputs": [],
   "source": [
    "print('뉴스 기사의 개수: ',len(df))"
   ]
  },
  {
   "cell_type": "code",
   "execution_count": null,
   "id": "a180f49f",
   "metadata": {},
   "outputs": [],
   "source": [
    "df.sample(10)"
   ]
  },
  {
   "cell_type": "markdown",
   "id": "36cb8f91",
   "metadata": {},
   "source": [
    "__크롤링__   \n",
    "좀 더 많은 데이터를 수집해보자. 이렇게 수집한 데이터로 머신 러닝 모델을 통해 카테고리를 예측하는 모델을 만들어보자. 3개의 카테고리에서 각 10개의 페이지를 크롤링해보자."
   ]
  },
  {
   "cell_type": "code",
   "execution_count": null,
   "id": "ddaf7775",
   "metadata": {},
   "outputs": [],
   "source": [
    "# 아래 주석처리된 코드의 주석을 해제하고 실행을 하면 대량 크롤링이 진행됩니다. \n",
    "# 위에서 수행했던 크롤링의 10배 분량이 수행될 것입니다. 한꺼번에 너무 많은 크롤링 요청이 서버에 전달되지 않도록 주의해 주세요. \n",
    "# 기사 일자를 바꿔보면서 데이터를 모으면 더욱 다양한 데이터를 얻을 수 있게 됩니다. \n",
    "\n",
    "df = make_total_data(10, code_list, 20200506)"
   ]
  },
  {
   "cell_type": "code",
   "execution_count": null,
   "id": "14ba47c7",
   "metadata": {},
   "outputs": [],
   "source": [
    "import os\n",
    "\n",
    "# 데이터프레임 파일을 csv 파일로 저장합니다.\n",
    "# 저장경로는 이번 프로젝트를 위해 만든 폴더로 지정해 주세요.\n",
    "csv_path = os.getenv(\"HOME\") + \"/aiffel/news_crawler/news_data.csv\"\n",
    "df.to_csv(csv_path, index=False)\n",
    "\n",
    "if os.path.exists(csv_path):\n",
    "  print('{} File Saved!'.format(csv_path))"
   ]
  },
  {
   "cell_type": "markdown",
   "id": "9c08c53a",
   "metadata": {},
   "source": [
    "# 31-9. 네이버 뉴스 기사 크롤링 (4) 데이터 전처리"
   ]
  },
  {
   "cell_type": "markdown",
   "id": "3bc3f7d7",
   "metadata": {},
   "source": [
    "# 31-10. 머신러닝 사용하기"
   ]
  },
  {
   "cell_type": "markdown",
   "id": "eee57a2a",
   "metadata": {},
   "source": [
    "# 31-11. 모델 성능 개선하기"
   ]
  },
  {
   "cell_type": "markdown",
   "id": "e4c96fa2",
   "metadata": {},
   "source": []
  }
 ],
 "metadata": {
  "kernelspec": {
   "display_name": "Python 3 (ipykernel)",
   "language": "python",
   "name": "python3"
  },
  "language_info": {
   "codemirror_mode": {
    "name": "ipython",
    "version": 3
   },
   "file_extension": ".py",
   "mimetype": "text/x-python",
   "name": "python",
   "nbconvert_exporter": "python",
   "pygments_lexer": "ipython3",
   "version": "3.9.7"
  }
 },
 "nbformat": 4,
 "nbformat_minor": 5
}
