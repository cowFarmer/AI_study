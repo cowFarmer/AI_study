{
 "cells": [
  {
   "cell_type": "markdown",
   "id": "7ec448a9",
   "metadata": {},
   "source": [
    "# 회귀(Regression)"
   ]
  },
  {
   "cell_type": "markdown",
   "id": "a20049ef",
   "metadata": {},
   "source": [
    "회귀분석은 분석 방법중 하나로 여러 데이터를 기반으로 연속형 변수의 관계를 모델링하고 이의 적합도를 측정하는 방식이다.   \n",
    "\n",
    "예를들어 부모의 키와 자식 키의 관계인데, 상호간 관련성을 갖고 있는 독립변수(independent variable; 혹은 설명 변수 explanatory variable)와 종속변수(dependent variable; 혹은 반응 변수 response variable)로 말할 수 있다.   \n",
    "\n",
    "부모의 키를 독립변수로 보면 자식의 키는 부모의 키에 비례하는 종속변수로 볼 수 있을까?   \n",
    "![](https://www.biostat.jhsph.edu/courses/bio653/misc/Regr_FigA2.gif)   \n",
    "Galton이 분석한 데이터이다. 아버지의 키 $x$와 자식의 키 $y$의 사이에 기울기가 1보다 작아 아버지의 키와 무관하게 자식의 키는 평균에 수렴하는 것을 보게 됐다. 이는 평균으로 회귀(regression)하는 개념이다. 그리고 이 그래프는 선형 회귀분석(Linear Regression)이라고 한다   \n",
    "\n",
    "오늘날 회귀분석은 두 개 이상의 변수 사이에 있는 함수 관계를 보는 통계적 방법을 의미한다. 간단하면서 실생활에 적용되는 경우가 많아 어느정도 틀만 맞으면 회귀 분석으로 문제를 해결할 만큼 보편적이다. 이 틀은 1) 선형성, 2) 독립성, 3) 등분산성, 4) 정규성 4가지의 조건을 본다.   \n",
    "[선형 회귀분석 기본가정](https://kkokkilkon.tistory.com/175)   \n",
    "\n",
    "지도학습은 대부분 데이터 $X$에 대한 정답 $y$가 주어지는 형태였는데, 크게 분류(classification), 회귀(regression) 문제로 나뉜다.\n",
    "- 분류: 데이터 x의 여러 feature 값들을 통해 클래스 y를 추론\n",
    "- 회귀: 데이터 x의 여러 feature 값들을 통해 연관된 다른 데이터 y의 정확한 값 추론   \n",
    "분류는 확률을 출력하고 회귀는 종속변수 값을 출력되는 형태이다."
   ]
  },
  {
   "cell_type": "markdown",
   "id": "d12f307b",
   "metadata": {},
   "source": [
    "# 선형 회귀 분석(Linear Regression)\n",
    "종속변수 Y와 한개 이상의 독립변수 X와의 상관관계를 선형으로 모델링하는 회귀 분석 기법이다.   \n",
    "하나의 독립변수 그리고 둘 이상의 종속변수를 갖고 있으면 다중 선형회귀라고 한다.   \n",
    "\n",
    "- 선형회귀모델 표기법 in 머신러닝   \n",
    "$H = Wx + b$   \n",
    "H는 가정(Hypothesis), W는 가중치(Weight), b는 편향(bias)이다. 주어진 데이터로 W, b의 값을 구하기 위해서 "
   ]
  },
  {
   "cell_type": "code",
   "execution_count": null,
   "id": "48045b2c",
   "metadata": {},
   "outputs": [],
   "source": []
  }
 ],
 "metadata": {
  "kernelspec": {
   "display_name": "Python 3 (ipykernel)",
   "language": "python",
   "name": "python3"
  },
  "language_info": {
   "codemirror_mode": {
    "name": "ipython",
    "version": 3
   },
   "file_extension": ".py",
   "mimetype": "text/x-python",
   "name": "python",
   "nbconvert_exporter": "python",
   "pygments_lexer": "ipython3",
   "version": "3.9.7"
  }
 },
 "nbformat": 4,
 "nbformat_minor": 5
}
