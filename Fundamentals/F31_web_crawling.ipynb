{
 "cells": [
  {
   "cell_type": "markdown",
   "id": "610c68d3",
   "metadata": {},
   "source": [
    "# 31. 뉴스기사 크롤링 및 분류"
   ]
  },
  {
   "cell_type": "markdown",
   "id": "4a9230db",
   "metadata": {},
   "source": [
    "__준비물__   \n",
    "\n",
    "1. 디렉토리 만들기\n",
    "```\n",
    "$ mkdir -p ~/aiffel/news_crawler\n",
    "```\n",
    "\n",
    "2. Mecab라는 형태소 분석기 설치하기\n",
    "```\n",
    "$ git clone https://github.com/SOMJANG/Mecab-ko-for-Google-Colab.git\n",
    "$ cd Mecab-ko-for-Google-Colab\n",
    "$ bash install_mecab-ko_on_colab190912.sh\n",
    "```\n",
    "\n",
    "3. pip 패키지 설치하기\n",
    "```\n",
    "$ pip install beautifulsoup4\n",
    "$ pip install newspaper3k\n",
    "$ pip install konlpy\n",
    "```"
   ]
  },
  {
   "cell_type": "markdown",
   "id": "05af11d1",
   "metadata": {},
   "source": [
    "# 31-2. 웹 이해하기 (1) HTML, tag"
   ]
  },
  {
   "cell_type": "markdown",
   "id": "081a85ce",
   "metadata": {},
   "source": [
    "__crawling__ 이란 웹 페이지에서 데이터를 추출하는 행위를 말한다. 크롤링하는 소프트웨어는 crawler라고 부른다. 웹 사이트들은 HTML(HyperText Markup Language)라는 마크업 언어로 작성된 문서이다. "
   ]
  },
  {
   "cell_type": "markdown",
   "id": "aa5e677b",
   "metadata": {},
   "source": [
    "```\n",
    "<!DOCTYPE html>\n",
    "<html>\n",
    "  <head>\n",
    "    <title> HTML 문서 </title>\n",
    "  </head>\n",
    "  <body>\n",
    "    <h1> 이것은 HTML 문서입니다! </h1>\n",
    "  </body>\n",
    "</html>\n",
    "```"
   ]
  },
  {
   "cell_type": "markdown",
   "id": "3f8b9f4b",
   "metadata": {},
   "source": [
    "HTML 문서는 기본적으로 정해진 문법을 지키며 작성되어 있다. 네이버를 예시로 한번 봐보자."
   ]
  },
  {
   "cell_type": "markdown",
   "id": "0182c99a",
   "metadata": {},
   "source": [
    "```\n",
    "<div class=\"direct_area\">\n",
    "    <a href=\"http://news.naver.com/\" class=\"link_news\" data-clk=\"newshome\">네이버뉴스</a>\n",
    "    <a href=\"http://entertain.naver.com/home\" class=\"link_direct\" data-clk=\"entertainment\">연예</a>\n",
    "    <a href=\"http://sports.news.naver.com/\" class=\"link_direct\" data-clk=\"sports\">스포츠</a>\n",
    "</div>\n",
    "```"
   ]
  },
  {
   "cell_type": "markdown",
   "id": "b6dc81f9",
   "metadata": {},
   "source": [
    "수 많은 꺽쇠들의 조합으로 구성되어 있다. 이렇게 `<>`들로 이루어진 코드를 __태그__ 라고 한다. 태그의 일반적인 형식은 `<태그명> 컨텐츠 </태그명>` 인데, 간혹가다 닫히는 태그가 없는 경우도 있다. 이는 `<태그명/>`으로 표현된다."
   ]
  },
  {
   "cell_type": "markdown",
   "id": "5015006d",
   "metadata": {},
   "source": [
    "# 31-3. 웹 이해하기 (2) 선택자"
   ]
  },
  {
   "cell_type": "markdown",
   "id": "15332ef1",
   "metadata": {},
   "source": [
    "원활한 크롤링을 위해서 HTML 문서 내의 __선택자(selector)__ 를 이해해야 한다. 이는 특정 태그들에 그룹이나 번호를 주는 기능을 말한다.   \n",
    "```\n",
    "<html> \n",
    "    <head> \n",
    "    </head> \n",
    "    <body> \n",
    "        <h1> 장바구니\n",
    "            <p> 라운드티\n",
    "                <span> 25 </span> \n",
    "                <span> 29000 </span> \n",
    "                <span> 의류</span> \n",
    "                <a href = 'http://www.naver.com'> 이동 </a> \n",
    "            </p> \n",
    "            <p> 시계\n",
    "                <span> 28 </span>\n",
    "                <span> 32000 </span> \n",
    "                <span> 악세서리 </span> \n",
    "                <a href = 'http://www.facebook.com'> 이동 </a> \n",
    "            </p> \n",
    "        </h1> \n",
    "    </body> \n",
    "</html>\n",
    "```"
   ]
  },
  {
   "cell_type": "markdown",
   "id": "7123c148",
   "metadata": {},
   "source": [
    "위 HTML 문서에서 `p, span, a` 태그를 보면 동일한 태그가 반복적으로 있다. 이렇게 같은 태그가 추가 정보 없이 반복되면 가독성도 안좋아지고 특정 태그만 선택해야하는 경우에도 일일이 찾아야 하는 번거로움이 있다. 그래서 다음과 같이 `id, class`라는 selector를 추가하면 보기 쉽게 관리할 수 있다.   \n",
    "\n",
    "```\n",
    "<html> \n",
    "    <head> \n",
    "    </head> \n",
    "    <body> \n",
    "        <h1> 장바구니\n",
    "            <p id='clothes' class='name' title='라운드티'> 라운드티\n",
    "                <span class = 'number'> 25 </span> \n",
    "                <span class = 'price'> 29000 </span> \n",
    "                <span class = 'menu'> 의류</span> \n",
    "                <a href = 'http://www.naver.com'> 바로가기 </a> \n",
    "            </p> \n",
    "            <p id='watch' class='name' title='시계'> 시계\n",
    "                <span class = 'number'> 28 </span>\n",
    "                <span class = 'price'> 32000 </span> \n",
    "                <span class = 'menu'> 악세서리 </span> \n",
    "                <a href = 'http://www.facebook.com'> 바로가기 </a> \n",
    "            </p> \n",
    "        </h1> \n",
    "    </body> \n",
    "</html>\n",
    "```"
   ]
  },
  {
   "cell_type": "markdown",
   "id": "5d404c4f",
   "metadata": {},
   "source": [
    "`id`, `class`를 기존의 코드에서 새롭게 추가했다. 이렇게 추가하면 가독성도 좋아지지만 CSS의 스타일을 적용할 때 매우 유용하다. 이러한 선택자의 개념을 이용해서 보다 용이하게 크롤링을 해보자."
   ]
  },
  {
   "cell_type": "markdown",
   "id": "4bf59ca9",
   "metadata": {},
   "source": [
    "# 31-4. BeautifulSoup 패키지"
   ]
  },
  {
   "cell_type": "markdown",
   "id": "d411f3ec",
   "metadata": {},
   "source": [
    "BeautifulSoup 파이썬 크롤링 패키지를 사용하면 손 쉽게 원하는 태그를 찾아 원하는 정보만 뽑아낼 수 있다. 이 패키지는 HTML, XML 문서로부터 원하는 정보를 추출해준다."
   ]
  },
  {
   "cell_type": "code",
   "execution_count": 1,
   "id": "27164847",
   "metadata": {},
   "outputs": [],
   "source": [
    "from bs4 import BeautifulSoup\n",
    "\n",
    "#- HTML 문서를 문자열 html로 저장합니다.\n",
    "html = '''\n",
    "<html> \n",
    "    <head> \n",
    "    </head> \n",
    "    <body> \n",
    "        <h1> 장바구니\n",
    "            <p id='clothes' class='name' title='라운드티'> 라운드티\n",
    "                <span class = 'number'> 25 </span> \n",
    "                <span class = 'price'> 29000 </span> \n",
    "                <span class = 'menu'> 의류</span> \n",
    "                <a href = 'http://www.naver.com'> 바로가기 </a> \n",
    "            </p> \n",
    "            <p id='watch' class='name' title='시계'> 시계\n",
    "                <span class = 'number'> 28 </span>\n",
    "                <span class = 'price'> 32000 </span> \n",
    "                <span class = 'menu'> 악세서리 </span> \n",
    "                <a href = 'http://www.facebook.com'> 바로가기 </a> \n",
    "            </p> \n",
    "        </h1> \n",
    "    </body> \n",
    "</html>\n",
    "'''\n",
    "\n",
    "#- BeautifulSoup 인스턴스를 생성합니다.\n",
    "#- 두번째 매개변수는 분석할 분석기(parser)의 종류입니다.\n",
    "soup = BeautifulSoup(html, 'html.parser')"
   ]
  },
  {
   "cell_type": "markdown",
   "id": "3f1d1914",
   "metadata": {},
   "source": [
    "임의로 만든 HTML 문자열로 해당 문서를 분석해보는 예제를 살펴보자.   \n",
    "맨 아랫줄에 있는 `BeautifulSoup(입력 문자열, 'html.parser')` 의미는 HTML 문법을 기반으로 파싱하라는 의미이다. 이렇게 생성한 인스턴스를 `select()`로 정보를 가져올 수 있다.   \n",
    "[블로그](https://m.blog.naver.com/kiddwannabe/221177292446)를 살펴보면 `select()` 관련한 핸들링을 자세하게 볼 수 있다."
   ]
  },
  {
   "cell_type": "code",
   "execution_count": 2,
   "id": "5e3bcb59",
   "metadata": {},
   "outputs": [
    {
     "name": "stdout",
     "output_type": "stream",
     "text": [
      "[<body>\n",
      "<h1> 장바구니\n",
      "            <p class=\"name\" id=\"clothes\" title=\"라운드티\"> 라운드티\n",
      "                <span class=\"number\"> 25 </span>\n",
      "<span class=\"price\"> 29000 </span>\n",
      "<span class=\"menu\"> 의류</span>\n",
      "<a href=\"http://www.naver.com\"> 바로가기 </a>\n",
      "</p>\n",
      "<p class=\"name\" id=\"watch\" title=\"시계\"> 시계\n",
      "                <span class=\"number\"> 28 </span>\n",
      "<span class=\"price\"> 32000 </span>\n",
      "<span class=\"menu\"> 악세서리 </span>\n",
      "<a href=\"http://www.facebook.com\"> 바로가기 </a>\n",
      "</p>\n",
      "</h1>\n",
      "</body>]\n"
     ]
    }
   ],
   "source": [
    "print(soup.select('body'))"
   ]
  },
  {
   "cell_type": "code",
   "execution_count": 3,
   "id": "bf79b0f7",
   "metadata": {},
   "outputs": [
    {
     "name": "stdout",
     "output_type": "stream",
     "text": [
      "[<p class=\"name\" id=\"clothes\" title=\"라운드티\"> 라운드티\n",
      "                <span class=\"number\"> 25 </span>\n",
      "<span class=\"price\"> 29000 </span>\n",
      "<span class=\"menu\"> 의류</span>\n",
      "<a href=\"http://www.naver.com\"> 바로가기 </a>\n",
      "</p>, <p class=\"name\" id=\"watch\" title=\"시계\"> 시계\n",
      "                <span class=\"number\"> 28 </span>\n",
      "<span class=\"price\"> 32000 </span>\n",
      "<span class=\"menu\"> 악세서리 </span>\n",
      "<a href=\"http://www.facebook.com\"> 바로가기 </a>\n",
      "</p>]\n"
     ]
    }
   ],
   "source": [
    "print(soup.select('p'))"
   ]
  },
  {
   "cell_type": "code",
   "execution_count": 4,
   "id": "a56cf544",
   "metadata": {},
   "outputs": [
    {
     "name": "stdout",
     "output_type": "stream",
     "text": [
      "[<span class=\"menu\"> 의류</span>, <span class=\"menu\"> 악세서리 </span>]\n"
     ]
    }
   ],
   "source": [
    "print(soup.select('h1 .name .menu'))"
   ]
  },
  {
   "cell_type": "code",
   "execution_count": 5,
   "id": "eb2f3655",
   "metadata": {},
   "outputs": [
    {
     "name": "stdout",
     "output_type": "stream",
     "text": [
      "[]\n"
     ]
    }
   ],
   "source": [
    "# 잘못된 입력을 넣으면 아무런 정보도 출력되지 않는다.\n",
    "print(soup.select('html > h1'))"
   ]
  },
  {
   "cell_type": "markdown",
   "id": "0cae7a76",
   "metadata": {},
   "source": [
    "# 31-5. newspaper3k 패키지"
   ]
  },
  {
   "cell_type": "markdown",
   "id": "6609150a",
   "metadata": {},
   "source": [
    "newspaper3k 패키지는 뉴스 데이터를 크롤링하기 위해 만들어진 패키지이다. 뉴스 기사의 URL을 전달해주면 제목과 텍스트를 추출할 수 있다. "
   ]
  },
  {
   "cell_type": "code",
   "execution_count": 6,
   "id": "93b340bd",
   "metadata": {},
   "outputs": [],
   "source": [
    "from newspaper import Article\n",
    "\n",
    "#- 파싱할 뉴스 기사 주소입니다.\n",
    "url = 'https://news.naver.com/main/read.nhn?mode=LSD&mid=sec&sid1=101&oid=030&aid=0002881076'\n",
    "\n",
    "#- 언어가 한국어이므로 language='ko'로 설정해줍니다.\n",
    "article = Article(url, language='ko')\n",
    "article.download()\n",
    "article.parse()"
   ]
  },
  {
   "cell_type": "code",
   "execution_count": 7,
   "id": "ec63cf27",
   "metadata": {},
   "outputs": [
    {
     "name": "stdout",
     "output_type": "stream",
     "text": [
      "기사 제목 :\n",
      "[AI 사피엔스 시대]자연어처리 기술, 컴퓨팅 파워 경쟁 시대로\n",
      "\n",
      "기사 내용 :\n",
      "[Copyright ⓒ 전자신문 & 전자신문인터넷, 무단전재 및 재배포 금지]\n",
      "\n",
      "주로 아이디어와 기술력으로 경쟁했던 자연어처리 인공지능(AI) 분야는 점차 컴퓨팅 파워 싸움으로 무게 추가 이동하고 있다. 모델이 대형화되면서 향상된 퍼포먼스 확보에 필요한 자금 규모도 커지고 있다. 자칫 대기업 자본력에 휘둘릴 수 있다는 우려도 함께 나온다.자연어처리(NLP)는 인간이 사용하는 언어 체계를 기계가 인식하도록 알고리즘을 디자인하는 기술이다. 흔히 말하는 컴퓨터 혹은 인간과 대화하는 컴퓨터 관련 기술이 포함된다.목적에 따라 세 가지 카테고리로 나뉜다. 인간이 제기한 질문에 자동으로 적절한 답을 찾아주는 '질의응답(QA)', 원하는 업무를 지시했을 때 작업을 수행하는 '테스크 컴플리션', 그리고 특별한 목적이 없는 대화를 의미하는 '오픈도메인 컨버세이션(비목적성 대화)'이 있다. 각기 발전해왔던 세 가지 기술은 지난 2018년 구글의 인공지능 언어모델 '버트(BERT)'의 등장으로 패러다임이 전환됐다. 압도적인 성능으로 대량의 프리트레이닝(사전학습)이 가능해지면서 굳이 셋을 구분할 필요가 없어진 것이다.기계학습 연구에서 모델을 학습할 때는 지도학습과 비지도학습, 강화학습 중 하나를 골라 활용한다. 지도학습은 사람이 적절한 입력과 출력을 부여하는 방식이다. 정답이 정해져 있고 기계의 정답률도 쉽게 측정할 수 있다. 반면에 비지도학습은 정답이 정해지지 않은 데이터에 대해서도 기계가 스스로 클러스터링 등을 통해 학습한다. 체계화되지 않은 대량의 데이터를 학습 가능하지만 학습이 맞게 됐는지 확인하기 어렵다.버트는 기존 AI 학습 방법을 혁신적으로 바꿔놨다는 평가를 받는다. 자연어처리를 교사 없이 양방향으로 사전 학습하는 최초의 시스템이다. 비지도학습 방식을 사용하면서도 기존 존재했던 어떤 기술보다 뛰어난 성능을 보여준다. 최근 1년 반 동안 버트를 필두로 AI 모델은 급격히 대형화되는 추세다.이는 기존의 빅데이터 개념을 훨씬 상회하는 초 대규모 데이터를 프리트레이닝 단계에서 학습 가능하게 만드는 결과로 이어졌다. 성능도 비약적으로 상승했다. 가장 최근 구글이 선보인 제너레이션 모델은 제시된 문장에 대해 인간의 80~90% 수준으로 답변 문장을 만들어 낸다.문제는 모델이 대형화되면서 기술을 구성하는 요소 중 알고리즘 대비 대량의 데이터셋과 컴퓨팅 파워 중요성이 더 커졌다는 점이다. 버트 자체는 '파인튜닝' 방식으로 다양한 분야에 확대 적용이 가능하지만 버트 성능에 준하는 최신 대형 모델을 만들어내려면 현존 최신 텐서처리장치(TPU)로도 학습에 수십 일이 걸린다.국내 한 AI 스타트업 대표는 “국내 상황은 데이터셋·인력·자금 인프라 모두 중국이나 영어권에 비해 떨어지는 게 사실이다. 자연어처리 모델 하나 만드는 데 10억~20억원씩 비용이 들어 고민이 많다”면서 “지금 글로벌 시장에서 격차가 나기 시작하면 이후에는 따라잡기 어려워진다. 정부 차원의 관심과 지원이 필요하다”고 말했다.이형두기자 dudu@etnews.com\n"
     ]
    }
   ],
   "source": [
    "#- 기사 제목을 출력합니다.\n",
    "print('기사 제목 :')\n",
    "print(article.title)\n",
    "print('')\n",
    "\n",
    "#- 기사 내용을 출력합니다.\n",
    "print('기사 내용 :')\n",
    "print(article.text)"
   ]
  },
  {
   "cell_type": "markdown",
   "id": "cf7e5c64",
   "metadata": {},
   "source": [
    "Article에 기사 URL을 전달하면 title과 text로 기사를 쉽게 크롤링할 수 있다."
   ]
  },
  {
   "cell_type": "markdown",
   "id": "cb87bbef",
   "metadata": {},
   "source": [
    "# 31-6. 네이버 뉴스 기사 크롤링 (1) 뉴스 URL 페이지 이해하기"
   ]
  },
  {
   "cell_type": "markdown",
   "id": "258a1c86",
   "metadata": {},
   "source": [
    "네이버 메인 > 뉴스 > 속보에 위치한 페이지를 크롤링할 예정이다.   \n",
    "![](https://d3s0tskafalll9.cloudfront.net/media/images/Group_522.max-800x600.png)"
   ]
  },
  {
   "attachments": {
    "%E1%84%89%E1%85%B3%E1%84%8F%E1%85%B3%E1%84%85%E1%85%B5%E1%86%AB%E1%84%89%E1%85%A3%E1%86%BA%202022-03-04%20%E1%84%8B%E1%85%A9%E1%84%92%E1%85%AE%204.32.05.png": {
     "image/png": "[encoded data removed]"
    }
   },
   "cell_type": "markdown",
   "id": "88f87e3e",
   "metadata": {},
   "source": [
    "❗️ LMS는 위처럼 나온다고 하는데 바뀐거같다. 실습하는 과정에서 나는 다르게 다음과 같이 나왔다.   \n",
    "![%E1%84%89%E1%85%B3%E1%84%8F%E1%85%B3%E1%84%85%E1%85%B5%E1%86%AB%E1%84%89%E1%85%A3%E1%86%BA%202022-03-04%20%E1%84%8B%E1%85%A9%E1%84%92%E1%85%AE%204.32.05.png](attachment:%E1%84%89%E1%85%B3%E1%84%8F%E1%85%B3%E1%84%85%E1%85%B5%E1%86%AB%E1%84%89%E1%85%A3%E1%86%BA%202022-03-04%20%E1%84%8B%E1%85%A9%E1%84%92%E1%85%AE%204.32.05.png)"
   ]
  },
  {
   "cell_type": "markdown",
   "id": "e0410557",
   "metadata": {},
   "source": [
    "`&sid1=`에 있는 카테고리의 번호는 일치하다.   \n",
    "100: 정치, 101: 경제, 102: 사회 ... 105: IT/과학, 110: 오피니언   \n",
    "하지만 `&oid, &aid`로 바뀌었다."
   ]
  },
  {
   "cell_type": "markdown",
   "id": "4f6af174",
   "metadata": {},
   "source": [
    "# 31-7. 네이버 뉴스 기사 크롤링 (2) BeautifulSoup, newspaper3k를 통해 크롤러 만들기"
   ]
  },
  {
   "cell_type": "code",
   "execution_count": 8,
   "id": "5da53d52",
   "metadata": {},
   "outputs": [],
   "source": [
    "# 크롤러를 만들기 전 필요한 도구들을 임포트합니다.\n",
    "import requests\n",
    "import pandas as pd\n",
    "from bs4 import BeautifulSoup\n",
    "\n",
    "# 페이지 수, 카테고리, 날짜를 입력값으로 받습니다.\n",
    "def make_urllist(page_num, code, date): \n",
    "  urllist= []\n",
    "  for i in range(1, page_num + 1):\n",
    "    url = 'https://news.naver.com/main/list.nhn?mode=LSD&mid=sec&sid1='+str(code)+'&date='+str(date)+'&page='+str(i)\n",
    "    headers = {'User-Agent': 'Mozilla/5.0 (X11; Linux x86_64) AppleWebKit/537.36 (KHTML, like Gecko) Chrome/54.0.2840.90 Safari/537.36'}\n",
    "    news = requests.get(url, headers=headers)\n",
    "\n",
    "    # BeautifulSoup의 인스턴스 생성합니다. 파서는 html.parser를 사용합니다.\n",
    "    soup = BeautifulSoup(news.content, 'html.parser')\n",
    "\n",
    "    # CASE 1\n",
    "    news_list = soup.select('.newsflash_body .type06_headline li dl')\n",
    "    # CASE 2\n",
    "    news_list.extend(soup.select('.newsflash_body .type06 li dl'))\n",
    "        \n",
    "    # 각 뉴스로부터 a 태그인 <a href ='주소'> 에서 '주소'만을 가져옵니다.\n",
    "    for line in news_list:\n",
    "        urllist.append(line.a.get('href'))\n",
    "  return urllist"
   ]
  },
  {
   "cell_type": "markdown",
   "id": "8301f19a",
   "metadata": {},
   "source": [
    "`make_urllist()`는 beautifulsoup를 이용해서 URL 리스트를 리턴하는 함수이다. 원하는 페이지 수, 카테고리 번호, 날짜를 입력값으로 받고 있다.   \n",
    "101코드 경제 기사의 2020년05월06일 날짜의 2페이지까지 리스트를 받아오자."
   ]
  },
  {
   "cell_type": "code",
   "execution_count": 9,
   "id": "1682a006",
   "metadata": {},
   "outputs": [
    {
     "name": "stdout",
     "output_type": "stream",
     "text": [
      "뉴스 기사의 개수:  40\n"
     ]
    }
   ],
   "source": [
    "url_list = make_urllist(2, 101, 20200506)\n",
    "print('뉴스 기사의 개수: ',len(url_list))"
   ]
  },
  {
   "cell_type": "code",
   "execution_count": 10,
   "id": "093038a6",
   "metadata": {},
   "outputs": [
    {
     "data": {
      "text/plain": [
       "['https://news.naver.com/main/read.naver?mode=LSD&mid=sec&sid1=101&oid=057&aid=0001451723',\n",
       " 'https://news.naver.com/main/read.naver?mode=LSD&mid=sec&sid1=101&oid=057&aid=0001451721',\n",
       " 'https://news.naver.com/main/read.naver?mode=LSD&mid=sec&sid1=101&oid=057&aid=0001451718',\n",
       " 'https://news.naver.com/main/read.naver?mode=LSD&mid=sec&sid1=101&oid=003&aid=0009849190',\n",
       " 'https://news.naver.com/main/read.naver?mode=LSD&mid=sec&sid1=101&oid=057&aid=0001451717']"
      ]
     },
     "execution_count": 10,
     "metadata": {},
     "output_type": "execute_result"
    }
   ],
   "source": [
    "url_list[:5]"
   ]
  },
  {
   "cell_type": "markdown",
   "id": "d31532b7",
   "metadata": {},
   "source": [
    "위에서 BeautifulSoup으로 추출한 URL을 newspaper3k를 통해 데이터프레임을 만들자. 카테고리를 번호로 호출하고 있는데 결과를 확인할 때 코드로부터 어떤 카테고리인지 확인하기 쉽게 딕셔너리 형태로 만들어두자."
   ]
  },
  {
   "cell_type": "code",
   "execution_count": 11,
   "id": "7f874dfc",
   "metadata": {},
   "outputs": [],
   "source": [
    "idx2word = {'101' : '경제', '102' : '사회', '103' : '생활/문화', '105' : 'IT/과학'}"
   ]
  },
  {
   "cell_type": "code",
   "execution_count": 12,
   "id": "f4802c81",
   "metadata": {},
   "outputs": [],
   "source": [
    "from newspaper import Article\n",
    "\n",
    "#- 데이터프레임을 생성하는 함수입니다.\n",
    "def make_data(urllist, code):\n",
    "  text_list = []\n",
    "  for url in urllist:\n",
    "    article = Article(url, language='ko')\n",
    "    article.download()\n",
    "    article.parse()\n",
    "    text_list.append(article.text)\n",
    "\n",
    "  #- 데이터프레임의 'news' 키 아래 파싱한 텍스트를 밸류로 붙여줍니다.\n",
    "  df = pd.DataFrame({'news': text_list})\n",
    "\n",
    "  #- 데이터프레임의 'code' 키 아래 한글 카테고리명을 붙여줍니다.\n",
    "  df['code'] = idx2word[str(code)]\n",
    "  return df"
   ]
  },
  {
   "cell_type": "code",
   "execution_count": 13,
   "id": "dc180d75",
   "metadata": {},
   "outputs": [
    {
     "data": {
      "text/html": [
       "<div>\n",
       "<style scoped>\n",
       "    .dataframe tbody tr th:only-of-type {\n",
       "        vertical-align: middle;\n",
       "    }\n",
       "\n",
       "    .dataframe tbody tr th {\n",
       "        vertical-align: top;\n",
       "    }\n",
       "\n",
       "    .dataframe thead th {\n",
       "        text-align: right;\n",
       "    }\n",
       "</style>\n",
       "<table border=\"1\" class=\"dataframe\">\n",
       "  <thead>\n",
       "    <tr style=\"text-align: right;\">\n",
       "      <th></th>\n",
       "      <th>news</th>\n",
       "      <th>code</th>\n",
       "    </tr>\n",
       "  </thead>\n",
       "  <tbody>\n",
       "    <tr>\n",
       "      <th>0</th>\n",
       "      <td>고려은단이 5월을 맞아 응원 메시지를 공유하는 ‘5월 5글자로 응원 부탁해!’ 이벤...</td>\n",
       "      <td>경제</td>\n",
       "    </tr>\n",
       "    <tr>\n",
       "      <th>1</th>\n",
       "      <td>코리아나화장품의 민감성 피부를 위한 저자극 스킨케어 브랜드 '프리엔제'가 마르고 건...</td>\n",
       "      <td>경제</td>\n",
       "    </tr>\n",
       "    <tr>\n",
       "      <th>2</th>\n",
       "      <td>서울장수주식회사가 부드럽고 달콤한 맛으로 인기를 모으고 있는 생막걸리 ‘인생막걸리’...</td>\n",
       "      <td>경제</td>\n",
       "    </tr>\n",
       "    <tr>\n",
       "      <th>3</th>\n",
       "      <td>[서울=뉴시스] 오동현 기자 = 모바일 게임 기업 컴투스는 3D 모바일 야구 게임 ...</td>\n",
       "      <td>경제</td>\n",
       "    </tr>\n",
       "    <tr>\n",
       "      <th>4</th>\n",
       "      <td>대원제약이 2020년 상반기 신입과 경력 정기 공채를 실시합니다.정기 공채 모집분야...</td>\n",
       "      <td>경제</td>\n",
       "    </tr>\n",
       "    <tr>\n",
       "      <th>5</th>\n",
       "      <td>[AFP=연합뉴스] [AFP=연합뉴스]\\n\\n\"요즘은 잔인한 날\"…리프트도 앞서 9...</td>\n",
       "      <td>경제</td>\n",
       "    </tr>\n",
       "    <tr>\n",
       "      <th>6</th>\n",
       "      <td>이재용 삼성전자 부회장이 6일 삼성전자 서울 서초사옥에서 대국민 사과 회견을 하기 ...</td>\n",
       "      <td>경제</td>\n",
       "    </tr>\n",
       "    <tr>\n",
       "      <th>7</th>\n",
       "      <td>JW중외제약이 A형 혈우병 예방요법제 ‘헴리브라피하주사를 출시하고 본격적인 마케팅 ...</td>\n",
       "      <td>경제</td>\n",
       "    </tr>\n",
       "    <tr>\n",
       "      <th>8</th>\n",
       "      <td>옵티팜과 휴벳바이오가 공동 개발중인 백신 후보 물질에 대해 마우스, 기니피그, 미니...</td>\n",
       "      <td>경제</td>\n",
       "    </tr>\n",
       "    <tr>\n",
       "      <th>9</th>\n",
       "      <td>[한국경제TV 신동호 기자]\\n\\n전남 나주시와 충북 청주시가 방사광 가속기 구축사...</td>\n",
       "      <td>경제</td>\n",
       "    </tr>\n",
       "  </tbody>\n",
       "</table>\n",
       "</div>"
      ],
      "text/plain": [
       "                                                news code\n",
       "0  고려은단이 5월을 맞아 응원 메시지를 공유하는 ‘5월 5글자로 응원 부탁해!’ 이벤...   경제\n",
       "1  코리아나화장품의 민감성 피부를 위한 저자극 스킨케어 브랜드 '프리엔제'가 마르고 건...   경제\n",
       "2  서울장수주식회사가 부드럽고 달콤한 맛으로 인기를 모으고 있는 생막걸리 ‘인생막걸리’...   경제\n",
       "3  [서울=뉴시스] 오동현 기자 = 모바일 게임 기업 컴투스는 3D 모바일 야구 게임 ...   경제\n",
       "4  대원제약이 2020년 상반기 신입과 경력 정기 공채를 실시합니다.정기 공채 모집분야...   경제\n",
       "5  [AFP=연합뉴스] [AFP=연합뉴스]\\n\\n\"요즘은 잔인한 날\"…리프트도 앞서 9...   경제\n",
       "6  이재용 삼성전자 부회장이 6일 삼성전자 서울 서초사옥에서 대국민 사과 회견을 하기 ...   경제\n",
       "7  JW중외제약이 A형 혈우병 예방요법제 ‘헴리브라피하주사를 출시하고 본격적인 마케팅 ...   경제\n",
       "8  옵티팜과 휴벳바이오가 공동 개발중인 백신 후보 물질에 대해 마우스, 기니피그, 미니...   경제\n",
       "9  [한국경제TV 신동호 기자]\\n\\n전남 나주시와 충북 청주시가 방사광 가속기 구축사...   경제"
      ]
     },
     "execution_count": 13,
     "metadata": {},
     "output_type": "execute_result"
    }
   ],
   "source": [
    "data = make_data(url_list, 101)\n",
    "#- 상위 10개만 출력해봅니다.\n",
    "data[:10]"
   ]
  },
  {
   "cell_type": "markdown",
   "id": "d49f332e",
   "metadata": {},
   "source": [
    "40개의 경제 뉴스가 데이터프레임에 저장되었다."
   ]
  },
  {
   "cell_type": "markdown",
   "id": "d7ea45e0",
   "metadata": {},
   "source": [
    "# 31-8. 네이버 뉴스 기사 크롤링 (3) 데이터 수집 및 전처리"
   ]
  },
  {
   "cell_type": "markdown",
   "id": "609745d1",
   "metadata": {},
   "source": [
    "다른 카테고리 뉴스들도 데이터를 수집해보자. 카테고리 코드들을 저장한 리스트를 만들어 이를 사용해 크롤링할 수 있도록 만들자."
   ]
  },
  {
   "cell_type": "code",
   "execution_count": 14,
   "id": "1026406b",
   "metadata": {},
   "outputs": [
    {
     "data": {
      "text/plain": [
       "[102, 103, 105]"
      ]
     },
     "execution_count": 14,
     "metadata": {},
     "output_type": "execute_result"
    }
   ],
   "source": [
    "code_list = [102, 103, 105]\n",
    "\n",
    "code_list"
   ]
  },
  {
   "cell_type": "code",
   "execution_count": 15,
   "id": "9576e2f5",
   "metadata": {},
   "outputs": [],
   "source": [
    "from multiprocessing import Pool\n",
    "import random\n",
    "import time, os\n",
    "\n",
    "def make_total_data(page_num, code_list, date):\n",
    "  start = int(time.time())  \n",
    "  num_cores = 4  \n",
    "  df = None\n",
    "  for code in code_list:\n",
    "    pool = Pool(num_cores)\n",
    "    url_list = make_urllist(page_num, code, date)\n",
    "    df_temp = make_data(url_list, code)\n",
    "    print(str(code)+'번 코드에 대한 데이터를 만들었습니다.')\n",
    "    pool.close()\n",
    "    pool.join()\n",
    "    time.sleep(random.randint(0,1))\n",
    "    if df is not None:\n",
    "      df = pd.concat([df, df_temp])\n",
    "    else:\n",
    "      df = df_temp\n",
    "\n",
    "  print(\"***run time(sec) :\", int(time.time()) - start)\n",
    "  return df"
   ]
  },
  {
   "cell_type": "markdown",
   "id": "f6998c2a",
   "metadata": {},
   "source": [
    "2020년 05월 06일 기사의 1페이지에 있는 102, 103, 105번 카테고리 뉴스를 수집하자."
   ]
  },
  {
   "cell_type": "code",
   "execution_count": 16,
   "id": "0fff7e46",
   "metadata": {},
   "outputs": [
    {
     "name": "stdout",
     "output_type": "stream",
     "text": [
      "102번 코드에 대한 데이터를 만들었습니다.\n",
      "103번 코드에 대한 데이터를 만들었습니다.\n",
      "105번 코드에 대한 데이터를 만들었습니다.\n",
      "***run time(sec) : 45\n"
     ]
    }
   ],
   "source": [
    "df = make_total_data(1, code_list, 20200506)"
   ]
  },
  {
   "cell_type": "code",
   "execution_count": 17,
   "id": "b36329ce",
   "metadata": {},
   "outputs": [
    {
     "name": "stdout",
     "output_type": "stream",
     "text": [
      "뉴스 기사의 개수:  60\n"
     ]
    }
   ],
   "source": [
    "print('뉴스 기사의 개수: ',len(df))"
   ]
  },
  {
   "cell_type": "code",
   "execution_count": 18,
   "id": "6db193d4",
   "metadata": {},
   "outputs": [
    {
     "data": {
      "text/html": [
       "<div>\n",
       "<style scoped>\n",
       "    .dataframe tbody tr th:only-of-type {\n",
       "        vertical-align: middle;\n",
       "    }\n",
       "\n",
       "    .dataframe tbody tr th {\n",
       "        vertical-align: top;\n",
       "    }\n",
       "\n",
       "    .dataframe thead th {\n",
       "        text-align: right;\n",
       "    }\n",
       "</style>\n",
       "<table border=\"1\" class=\"dataframe\">\n",
       "  <thead>\n",
       "    <tr style=\"text-align: right;\">\n",
       "      <th></th>\n",
       "      <th>news</th>\n",
       "      <th>code</th>\n",
       "    </tr>\n",
       "  </thead>\n",
       "  <tbody>\n",
       "    <tr>\n",
       "      <th>7</th>\n",
       "      <td>1977년 메이저리그 LA 다저스의 시즌 마지막 경기였다. 신인 타자 더스티 베이커...</td>\n",
       "      <td>사회</td>\n",
       "    </tr>\n",
       "    <tr>\n",
       "      <th>5</th>\n",
       "      <td>나주 방사광 가속기 조감도. 전남도 제공 나주 방사광 가속기 조감도. 전남도 제공\\...</td>\n",
       "      <td>IT/과학</td>\n",
       "    </tr>\n",
       "    <tr>\n",
       "      <th>18</th>\n",
       "      <td>2017년 EBS TV ‘까칠남녀’에 출연한 방송인 정영진. EBS 방송 캡처 20...</td>\n",
       "      <td>생활/문화</td>\n",
       "    </tr>\n",
       "    <tr>\n",
       "      <th>14</th>\n",
       "      <td>동영상 뉴스\\n\\n[앵커]코로나19 신규 확진자가 2명 발생해 78일 만에 최저치를...</td>\n",
       "      <td>사회</td>\n",
       "    </tr>\n",
       "    <tr>\n",
       "      <th>6</th>\n",
       "      <td>기사 섹션 분류 안내\\n\\n기사의 섹션 정보는 해당 언론사의 분류를 따르고 있습니다...</td>\n",
       "      <td>생활/문화</td>\n",
       "    </tr>\n",
       "    <tr>\n",
       "      <th>5</th>\n",
       "      <td>질서정연 코로나19 확산 방지를 위한 ‘물리적 거리 두기’가 ‘생활 속 거리 두기’...</td>\n",
       "      <td>사회</td>\n",
       "    </tr>\n",
       "    <tr>\n",
       "      <th>8</th>\n",
       "      <td>6일 등교수업을 앞둔 경북 한 학교의 보건실에는 손소독제, 마스크 등 방역물품이 상...</td>\n",
       "      <td>사회</td>\n",
       "    </tr>\n",
       "    <tr>\n",
       "      <th>0</th>\n",
       "      <td>파주시청. 사진제공=파주시 파주시청. 사진제공=파주시\\n\\n[파주=파이낸셜뉴스 강근...</td>\n",
       "      <td>사회</td>\n",
       "    </tr>\n",
       "    <tr>\n",
       "      <th>15</th>\n",
       "      <td>©나스(NARS) ©나스(NARS)\\n\\n모던 메이크업 아티스트 브랜드 나스(NAR...</td>\n",
       "      <td>생활/문화</td>\n",
       "    </tr>\n",
       "    <tr>\n",
       "      <th>6</th>\n",
       "      <td>[서울=뉴시스] 오동현 기자 = 펍지주식회사가 올해 첫 '플레이어언노운스 배틀그라운...</td>\n",
       "      <td>IT/과학</td>\n",
       "    </tr>\n",
       "  </tbody>\n",
       "</table>\n",
       "</div>"
      ],
      "text/plain": [
       "                                                 news   code\n",
       "7   1977년 메이저리그 LA 다저스의 시즌 마지막 경기였다. 신인 타자 더스티 베이커...     사회\n",
       "5   나주 방사광 가속기 조감도. 전남도 제공 나주 방사광 가속기 조감도. 전남도 제공\\...  IT/과학\n",
       "18  2017년 EBS TV ‘까칠남녀’에 출연한 방송인 정영진. EBS 방송 캡처 20...  생활/문화\n",
       "14  동영상 뉴스\\n\\n[앵커]코로나19 신규 확진자가 2명 발생해 78일 만에 최저치를...     사회\n",
       "6   기사 섹션 분류 안내\\n\\n기사의 섹션 정보는 해당 언론사의 분류를 따르고 있습니다...  생활/문화\n",
       "5   질서정연 코로나19 확산 방지를 위한 ‘물리적 거리 두기’가 ‘생활 속 거리 두기’...     사회\n",
       "8   6일 등교수업을 앞둔 경북 한 학교의 보건실에는 손소독제, 마스크 등 방역물품이 상...     사회\n",
       "0   파주시청. 사진제공=파주시 파주시청. 사진제공=파주시\\n\\n[파주=파이낸셜뉴스 강근...     사회\n",
       "15  ©나스(NARS) ©나스(NARS)\\n\\n모던 메이크업 아티스트 브랜드 나스(NAR...  생활/문화\n",
       "6   [서울=뉴시스] 오동현 기자 = 펍지주식회사가 올해 첫 '플레이어언노운스 배틀그라운...  IT/과학"
      ]
     },
     "execution_count": 18,
     "metadata": {},
     "output_type": "execute_result"
    }
   ],
   "source": [
    "df.sample(10)"
   ]
  },
  {
   "cell_type": "markdown",
   "id": "e6408a42",
   "metadata": {},
   "source": [
    "__크롤링__   \n",
    "좀 더 많은 데이터를 수집해보자. 이렇게 수집한 데이터로 머신 러닝 모델을 통해 카테고리를 예측하는 모델을 만들어보자. 3개의 카테고리에서 각 10개의 페이지를 크롤링해보자."
   ]
  },
  {
   "cell_type": "code",
   "execution_count": 19,
   "id": "2803de1e",
   "metadata": {},
   "outputs": [
    {
     "name": "stdout",
     "output_type": "stream",
     "text": [
      "102번 코드에 대한 데이터를 만들었습니다.\n",
      "103번 코드에 대한 데이터를 만들었습니다.\n",
      "105번 코드에 대한 데이터를 만들었습니다.\n",
      "***run time(sec) : 429\n"
     ]
    }
   ],
   "source": [
    "# 아래 주석처리된 코드의 주석을 해제하고 실행을 하면 대량 크롤링이 진행됩니다. \n",
    "# 위에서 수행했던 크롤링의 10배 분량이 수행될 것입니다. 한꺼번에 너무 많은 크롤링 요청이 서버에 전달되지 않도록 주의해 주세요. \n",
    "# 기사 일자를 바꿔보면서 데이터를 모으면 더욱 다양한 데이터를 얻을 수 있게 됩니다. \n",
    "\n",
    "df = make_total_data(10, code_list, 20200506)"
   ]
  },
  {
   "cell_type": "code",
   "execution_count": 20,
   "id": "25509214",
   "metadata": {},
   "outputs": [
    {
     "name": "stdout",
     "output_type": "stream",
     "text": [
      "/aiffel/aiffel/news_crawler/news_data.csv File Saved!\n"
     ]
    }
   ],
   "source": [
    "import os\n",
    "\n",
    "# 데이터프레임 파일을 csv 파일로 저장합니다.\n",
    "# 저장경로는 이번 프로젝트를 위해 만든 폴더로 지정해 주세요.\n",
    "csv_path = os.getenv(\"HOME\") + \"/aiffel/news_crawler/news_data.csv\"\n",
    "df.to_csv(csv_path, index=False)\n",
    "\n",
    "if os.path.exists(csv_path):\n",
    "  print('{} File Saved!'.format(csv_path))"
   ]
  },
  {
   "cell_type": "markdown",
   "id": "a405d832",
   "metadata": {},
   "source": [
    "# 31-9. 네이버 뉴스 기사 크롤링 (4) 데이터 전처리"
   ]
  },
  {
   "cell_type": "markdown",
   "id": "bb6a8dab",
   "metadata": {},
   "source": [
    "이렇게 얻은 데이터를 머신 러닝 모델의 훈련에 사용하기 위해 데이터를 정제하고 컴퓨터가 좋아하는 숫자의 형태로 바꾸는 작업을 해줘야한다."
   ]
  },
  {
   "cell_type": "markdown",
   "id": "86363aea",
   "metadata": {},
   "source": [
    "__데이터 정제__   \n",
    "뉴스 데이터는 각종 숫자, 영어, \\n 같은 HTML 태그들이 섞여있다. 한글 외에 전부 제거하도록 정규표현식을 이용해여 전처리를 진행해보자."
   ]
  },
  {
   "cell_type": "code",
   "execution_count": 21,
   "id": "7ccbb77b",
   "metadata": {},
   "outputs": [
    {
     "data": {
      "text/html": [
       "<div>\n",
       "<style scoped>\n",
       "    .dataframe tbody tr th:only-of-type {\n",
       "        vertical-align: middle;\n",
       "    }\n",
       "\n",
       "    .dataframe tbody tr th {\n",
       "        vertical-align: top;\n",
       "    }\n",
       "\n",
       "    .dataframe thead th {\n",
       "        text-align: right;\n",
       "    }\n",
       "</style>\n",
       "<table border=\"1\" class=\"dataframe\">\n",
       "  <thead>\n",
       "    <tr style=\"text-align: right;\">\n",
       "      <th></th>\n",
       "      <th>news</th>\n",
       "      <th>code</th>\n",
       "    </tr>\n",
       "  </thead>\n",
       "  <tbody>\n",
       "    <tr>\n",
       "      <th>0</th>\n",
       "      <td>파주시청. 사진제공=파주시 파주시청. 사진제공=파주시\\n\\n[파주=파이낸셜뉴스 강근...</td>\n",
       "      <td>사회</td>\n",
       "    </tr>\n",
       "    <tr>\n",
       "      <th>1</th>\n",
       "      <td>동영상 뉴스\\n\\n이천 물류창고 화재 발화지점으로 지목된 지하 2층에서 산소절단기의...</td>\n",
       "      <td>사회</td>\n",
       "    </tr>\n",
       "    <tr>\n",
       "      <th>2</th>\n",
       "      <td>황범순 의정부시 부시장 을지대학교 의정부캠퍼스 및 부속병원 공사현장 안전점검. 사진...</td>\n",
       "      <td>사회</td>\n",
       "    </tr>\n",
       "    <tr>\n",
       "      <th>3</th>\n",
       "      <td>귀갓길 여성을 쫓아가 성범죄를 시도한 20대 남성이 구속됐습니다.서울 강남경찰서는 ...</td>\n",
       "      <td>사회</td>\n",
       "    </tr>\n",
       "    <tr>\n",
       "      <th>4</th>\n",
       "      <td>(서울=연합뉴스) 대한약사회가 6일부터 코로나바이러스 감염증 대응 체계를 '사회적 ...</td>\n",
       "      <td>사회</td>\n",
       "    </tr>\n",
       "  </tbody>\n",
       "</table>\n",
       "</div>"
      ],
      "text/plain": [
       "                                                news code\n",
       "0  파주시청. 사진제공=파주시 파주시청. 사진제공=파주시\\n\\n[파주=파이낸셜뉴스 강근...   사회\n",
       "1  동영상 뉴스\\n\\n이천 물류창고 화재 발화지점으로 지목된 지하 2층에서 산소절단기의...   사회\n",
       "2  황범순 의정부시 부시장 을지대학교 의정부캠퍼스 및 부속병원 공사현장 안전점검. 사진...   사회\n",
       "3  귀갓길 여성을 쫓아가 성범죄를 시도한 20대 남성이 구속됐습니다.서울 강남경찰서는 ...   사회\n",
       "4  (서울=연합뉴스) 대한약사회가 6일부터 코로나바이러스 감염증 대응 체계를 '사회적 ...   사회"
      ]
     },
     "execution_count": 21,
     "metadata": {},
     "output_type": "execute_result"
    }
   ],
   "source": [
    "csv_path = os.getenv(\"HOME\") + \"/aiffel/news_crawler/news_data.csv\"\n",
    "df = pd.read_table(csv_path, sep=',')\n",
    "df.head()"
   ]
  },
  {
   "cell_type": "code",
   "execution_count": 22,
   "id": "e858a72b",
   "metadata": {},
   "outputs": [
    {
     "name": "stderr",
     "output_type": "stream",
     "text": [
      "/tmp/ipykernel_56/3649439000.py:2: FutureWarning: The default value of regex will change from True to False in a future version.\n",
      "  df['news'] = df['news'].str.replace(\"[^ㄱ-ㅎㅏ-ㅣ가-힣 ]\",\"\")\n"
     ]
    },
    {
     "data": {
      "text/plain": [
       "0      파주시청 사진제공파주시 파주시청 사진제공파주시파주파이낸셜뉴스 강근주 기자 파주시는 ...\n",
       "1      동영상 뉴스이천 물류창고 화재 발화지점으로 지목된 지하 층에서 산소절단기의 산소 공...\n",
       "2      황범순 의정부시 부시장 을지대학교 의정부캠퍼스 및 부속병원 공사현장 안전점검 사진제...\n",
       "3      귀갓길 여성을 쫓아가 성범죄를 시도한 대 남성이 구속됐습니다서울 강남경찰서는 강간상...\n",
       "4      서울연합뉴스 대한약사회가 일부터 코로나바이러스 감염증 대응 체계를 사회적 거리두기에...\n",
       "                             ...                        \n",
       "595    지디넷코리아이도원 기자스마일게이트알피지대표 지원길는 블록버스터 핵앤슬래시 다중접속역...\n",
       "596    모두의셔틀 로고 모두의셔틀 제공  뉴스 모두의셔틀 로고 모두의셔틀 제공  뉴스서울뉴...\n",
       "597    휴온스의 신종 코로나바이러스 감염증코로나 관련 방역용품이 미국 수출길에 오른다휴온스...\n",
       "598    코로나 치료제백신 개발 범정부 지원단은 오늘일부터 이틀 동안 관련 기업들을 대상으로...\n",
       "599      전자신문  전자신문인터넷 무단전재 및 재배포 금지이재용 삼성전자 부회장이 세 경...\n",
       "Name: news, Length: 600, dtype: object"
      ]
     },
     "execution_count": 22,
     "metadata": {},
     "output_type": "execute_result"
    }
   ],
   "source": [
    "# 정규 표현식을 이용해서 한글 외의 문자는 전부 제거합니다.\n",
    "df['news'] = df['news'].str.replace(\"[^ㄱ-ㅎㅏ-ㅣ가-힣 ]\",\"\")\n",
    "df['news']"
   ]
  },
  {
   "cell_type": "code",
   "execution_count": 23,
   "id": "e225e6a2",
   "metadata": {},
   "outputs": [
    {
     "name": "stdout",
     "output_type": "stream",
     "text": [
      "news    0\n",
      "code    0\n",
      "dtype: int64\n"
     ]
    }
   ],
   "source": [
    "print(df.isnull().sum())"
   ]
  },
  {
   "cell_type": "code",
   "execution_count": 24,
   "id": "63addcbc",
   "metadata": {},
   "outputs": [
    {
     "name": "stdout",
     "output_type": "stream",
     "text": [
      "뉴스 기사의 개수:  552\n"
     ]
    }
   ],
   "source": [
    "# 중복된 샘플들을 제거합니다.\n",
    "df.drop_duplicates(subset=['news'], inplace=True)\n",
    "\n",
    "print('뉴스 기사의 개수: ',len(df))"
   ]
  },
  {
   "cell_type": "markdown",
   "id": "02633ee6",
   "metadata": {},
   "source": [
    "__데이터 탐색__   \n",
    "카테고리별 샘플의 분포를 확인해보자. 환경에 따라 matplotlib에 한글 폰트가 적용되지 않을 수 있어 다음과 같은 작업이 필요할 수 있다.   \n",
    "```\n",
    "# 폰트 설치(nanum 이라는 단어가 포함된 글꼴 패키지 모두 설치) \n",
    "\n",
    "$ sudo apt-get install fonts-nanum* \n",
    "\n",
    "\n",
    "\n",
    "# 폰트 캐시 삭제 \n",
    "\n",
    "$ sudo fc-cache -fv \n",
    "\n",
    "\n",
    "\n",
    "\n",
    "# matplotlib 패키지 폰트 추가 \n",
    "\n",
    "$ sudo cp /usr/share/fonts/truetype/nanum/Nanum* /usr/local/lib/python3.4/dist-packages/matplotlib/mpl-data/fonts/ttf/ \n",
    "\n",
    "$ rm -rf /home/ubuntu/.cache/matplotlib/* \n",
    "```"
   ]
  },
  {
   "cell_type": "code",
   "execution_count": 25,
   "id": "de3169eb",
   "metadata": {},
   "outputs": [
    {
     "data": {
      "text/plain": [
       "<AxesSubplot:>"
      ]
     },
     "execution_count": 25,
     "metadata": {},
     "output_type": "execute_result"
    },
    {
     "data": {
      "image/png": "[encoded data removed]",
      "text/plain": [
       "<Figure size 432x288 with 1 Axes>"
      ]
     },
     "metadata": {
      "needs_background": "light"
     },
     "output_type": "display_data"
    }
   ],
   "source": [
    "import matplotlib.pyplot as plt\n",
    "plt.rcParams[\"font.family\"] = \"NanumGothic\"\n",
    "\n",
    "df['code'].value_counts().plot(kind = 'bar')"
   ]
  },
  {
   "cell_type": "code",
   "execution_count": 26,
   "id": "477f0c36",
   "metadata": {},
   "outputs": [
    {
     "name": "stdout",
     "output_type": "stream",
     "text": [
      "    code  count\n",
      "0  IT/과학    179\n",
      "1     사회    192\n",
      "2  생활/문화    181\n"
     ]
    }
   ],
   "source": [
    "print(df.groupby('code').size().reset_index(name = 'count'))"
   ]
  },
  {
   "cell_type": "markdown",
   "id": "6716a75e",
   "metadata": {},
   "source": [
    "__토큰화__   \n",
    "자연어 처리에서 대부분 문자열은 특정 단위로 나누어져야한다. 이 특정 단위를 token이라고 하고 해당 과정을 토큰화라고 한다. 영어의 경우 일반적으로 띄어쓰기를 기준으로 진행해도 모델은 어느정도 동작한다. 하지만 한국어는 띄어쓰기만으로는 토큰화에 한계가 있다. 왜냐하면 교착어이기 때문이다.   \n",
    "\n",
    "교착어는 조사, 어미 등을 붙여 말을 만드는 언어를 의미한다. '나' 단어 하나에도 '나는', '나에게', '나를', '나와' 등 다양한 조사가 '나' 글자 뒤에 띄어쓰기 없이 붙게 된다. 그래서 같은 '나' 라는 의미를 가진 단어임에도 조사에 따라 다른 단어로 인식될 수 있게된다.   \n",
    "\n",
    "위와 같은 한국어의 교착어 문제를 해결하기 위해 형태소를 기준으로 토큰화하는 형태소 분석기를 사용한다. 대표적인 한국어 형태로 분석기는 `KoNLPy`, `kakao/khaiii`, `Mecab` 등이 있다. 오늘은 C/C++로 개발되고 동작이 빠른 Mecab을 사용해보자."
   ]
  },
  {
   "cell_type": "code",
   "execution_count": 27,
   "id": "88bb3421",
   "metadata": {},
   "outputs": [
    {
     "name": "stdout",
     "output_type": "stream",
     "text": [
      "['밤', '에', '귀가', '하', '던', '여성', '에게', '범죄', '를', '시도', '한', '대', '남성', '이', '구속', '됐', '다', '서울', '제주', '경찰서', '는', '상해', '혐의', '로', '씨', '를', '구속', '해', '수사', '하', '고', '있', '다고', '일', '밝혔', '다', '씨', '는', '지난달', '일', '피해', '여성', '을', '인근', '지하철', '역', '에서부터', '따라가', '폭행', '을', '시도', '하', '려다가', '도망간', '혐의', '를', '받', '는다', '피해', '여성', '이', '저항', '하', '자', '놀란', '씨', '는', '도망갔으며', '신고', '를', '받', '고', '주변', '을', '수색', '하', '던', '경찰', '에', '체포', '됐', '다', '피해', '여성', '은', '이', '과정', '에서', '경미', '한', '부상', '을', '입', '은', '것', '으로', '전해졌', '다']\n"
     ]
    }
   ],
   "source": [
    "from konlpy.tag import Mecab\n",
    "tokenizer = Mecab()\n",
    "\n",
    "kor_text = '밤에 귀가하던 여성에게 범죄를 시도한 대 남성이 구속됐다서울 제주경찰서는 \\\n",
    "            상해 혐의로 씨를 구속해 수사하고 있다고 일 밝혔다씨는 지난달 일 피해 여성을 \\\n",
    "            인근 지하철 역에서부터 따라가 폭행을 시도하려다가 도망간 혐의를 받는다피해 \\\n",
    "            여성이 저항하자 놀란 씨는 도망갔으며 신고를 받고 주변을 수색하던 경찰에 \\\n",
    "            체포됐다피해 여성은 이 과정에서 경미한 부상을 입은 것으로 전해졌다'\n",
    "\n",
    "#- 형태소 분석, 즉 토큰화(tokenization)를 합니다.\n",
    "print(tokenizer.morphs(kor_text))"
   ]
  },
  {
   "cell_type": "markdown",
   "id": "6513b302",
   "metadata": {},
   "source": [
    "__불용어(stopwords) 제거__   \n",
    "토큰화한 단어 중 불필요한 토큰들을 제거하는 불용어 제거를 하자. 이는 데이터 전체에서 꽤 많이 등장하지만 자연어 처리에 큰 영향을 주지 않는 중요하지 않은 단어들이다. 한국어에서 주소 ~가, ~은, ~는 과 같은 조사나 접사에 불용어가 많이 있다.   \n",
    "불용어는 토큰화 과정을 거친 결과를 지속적으로 확인하며 계속해서 추가하는 것이 일반적이다."
   ]
  },
  {
   "cell_type": "code",
   "execution_count": 28,
   "id": "77cf6d37",
   "metadata": {},
   "outputs": [],
   "source": [
    "stopwords = ['에','는','은','을','했','에게','있','이','의','하','한','다','과','때문','할','수','무단','따른','및','금지','전재','경향신문','기자','는데','가','등','들','파이낸셜','저작','등','뉴스']"
   ]
  },
  {
   "cell_type": "code",
   "execution_count": 29,
   "id": "c1e7be8e",
   "metadata": {},
   "outputs": [],
   "source": [
    "# 토큰화 및 토큰화 과정에서 불용어를 제거하는 함수입니다.\n",
    "def preprocessing(data):\n",
    "  text_data = []\n",
    "\n",
    "  for sentence in data:\n",
    "    temp_data = []\n",
    "    #- 토큰화\n",
    "    temp_data = tokenizer.morphs(sentence) \n",
    "    #- 불용어 제거\n",
    "    temp_data = [word for word in temp_data if not word in stopwords] \n",
    "    text_data.append(temp_data)\n",
    "\n",
    "  text_data = list(map(' '.join, text_data))\n",
    "\n",
    "  return text_data"
   ]
  },
  {
   "cell_type": "markdown",
   "id": "54d46d3d",
   "metadata": {},
   "source": [
    "데이터 전처리한 결과를 살펴보자."
   ]
  },
  {
   "cell_type": "code",
   "execution_count": 30,
   "id": "7a801c02",
   "metadata": {},
   "outputs": [
    {
     "name": "stdout",
     "output_type": "stream",
     "text": [
      "파주 시청 사진제 공파 주시 파주 시청 사진 제공 파주시 파주 강근주 파 주 시 일 관내 취약 계층 만 가구 대해 정부 긴급 재난 지원금 입금 완료 다파 주 시민 받 긴급 재난 지원금 인 이상 가구 기준 으로 만 원 받 게 되 며 인 가구 만 원 인 가구 만 원 인 가구 만 원 정부 발표 긴급 재난 지원금 파주 시민 지급 금액 다른 이유 국비 지방비 부담 비율 다파 주 시 이미 모든 시민 경기도 파주시 재난 기본 소득 인 당 각 만 원 지급 고 어 시민 국비 지원금 만 지급 며 인 가구 기준 으로 총 지원 금액 파주시 재난 기본소득 만 원 경기도 재난 기본소득 만 원 정부 긴급 재난 지원금 만 원 총 만 원 받 게 된다 취약 계층 아닌 시민 오 월일 부터 소지 고 신용 체크카드 사 홈페이지 에서 긴급 재난 지원금 지원 신청 세대주 가족 지원금 일괄 신청 해야 한다 한편 파 주 시 일 김정기 부시장 단장 으로 긴급 재난 지원금 추진 태 스 크 포스 를 구성 해 긴급 재난 지원금 원활 게 지급 될 도록 지원 한다 권 자 재 배포\n"
     ]
    }
   ],
   "source": [
    "text_data = preprocessing(df['news'])\n",
    "print(text_data[0])"
   ]
  },
  {
   "cell_type": "markdown",
   "id": "a5e64525",
   "metadata": {},
   "source": [
    "# 31-10. 머신러닝 사용하기"
   ]
  },
  {
   "cell_type": "markdown",
   "id": "ece42518",
   "metadata": {},
   "source": [
    "나이브 베이즈 분류기 모델을 사용해서 머신러닝 모델을 학습시켜보자.   \n",
    "[나이브 베이즈 분류기 영상](https://youtu.be/3JWLIV3NaoQ)"
   ]
  },
  {
   "cell_type": "code",
   "execution_count": 31,
   "id": "837dcb02",
   "metadata": {},
   "outputs": [],
   "source": [
    "from sklearn.model_selection import train_test_split\n",
    "from sklearn.feature_extraction.text import CountVectorizer\n",
    "from sklearn.feature_extraction.text import TfidfTransformer\n",
    "from sklearn.naive_bayes import MultinomialNB\n",
    "from sklearn import metrics"
   ]
  },
  {
   "cell_type": "code",
   "execution_count": 32,
   "id": "739c8ae9",
   "metadata": {},
   "outputs": [],
   "source": [
    "# 훈련 데이터와 테스트 데이터를 분리합니다.\n",
    "X_train, X_test, y_train, y_test = train_test_split(text_data, df['code'], random_state = 0)"
   ]
  },
  {
   "cell_type": "code",
   "execution_count": 33,
   "id": "19ba359d",
   "metadata": {},
   "outputs": [
    {
     "name": "stdout",
     "output_type": "stream",
     "text": [
      "훈련용 뉴스 기사의 개수 : 414\n",
      "테스트용 뉴스 기사의 개수 :  138\n",
      "훈련용 레이블의 개수 :  414\n",
      "테스트용 레이블의 개수 :  138\n"
     ]
    }
   ],
   "source": [
    "print('훈련용 뉴스 기사의 개수 :', len(X_train))\n",
    "print('테스트용 뉴스 기사의 개수 : ', len(X_test))\n",
    "print('훈련용 레이블의 개수 : ', len(y_train))\n",
    "print('테스트용 레이블의 개수 : ', len(y_test))"
   ]
  },
  {
   "cell_type": "markdown",
   "id": "34e17673",
   "metadata": {},
   "source": [
    "기계는 텍스트보다 숫자를 더 잘 처리한다. 나이브 베이즈 분류기 머신러닝 모델을 사용하기 위해 텍스트 데이터를 벡터로 전처리하는 TF-IDF 방법을 사용하자.   \n",
    "[TF-IDF 동영상](https://youtu.be/meEchvkdB1U)   \n",
    "TF는 문서에서 단어가 몇 번 출현하는지 확률 score를 통해 중요도를 확인하는 가설이다. 불용어가 자주 위치해 중요도에 크게 위치하는걸 방지하기 위해 IDF를 사용한다. 여러 문서 혹은 문장에서 출현하는 회수를 파악하는 것인데, A, B 문장에서 둘 다 등장하면 `Log(2/2)=0`의 값을 갖게 되는 것이고, A 문장에서만 등장하면 `Log(2/1)=0.3`을 갖게 된다.   \n",
    "이렇게 얻은 TF값과 IDF값을 곱하여 문서 혹은 문장에 있는 단어별로 연관성(중요도)를 수치로 알아낼 수 있다.   \n",
    "\n",
    "`fit_transform()` 함수는 fit과 transform을 연이어 수행하는 함수이고, `CountVectorizer.fit_transform()`은 단어 데이터를 학습하고 문서 데이터를 document-form matrix로 변환하는 두 가지 작업을 해준다."
   ]
  },
  {
   "cell_type": "code",
   "execution_count": 34,
   "id": "87c38bd0",
   "metadata": {},
   "outputs": [],
   "source": [
    "#- 단어의 수를 카운트하는 사이킷런의 카운트벡터라이저입니다.\n",
    "count_vect = CountVectorizer()\n",
    "X_train_counts = count_vect.fit_transform(X_train)\n",
    "\n",
    "#- 카운트벡터라이저의 결과로부터 TF-IDF 결과를 얻습니다.\n",
    "tfidf_transformer = TfidfTransformer()\n",
    "X_train_tfidf = tfidf_transformer.fit_transform(X_train_counts)\n",
    "\n",
    "#- 나이브 베이즈 분류기를 수행합니다.\n",
    "#- X_train은 TF-IDF 벡터, y_train은 레이블입니다.\n",
    "clf = MultinomialNB().fit(X_train_tfidf, y_train)"
   ]
  },
  {
   "cell_type": "markdown",
   "id": "138a6397",
   "metadata": {},
   "source": [
    "학습된걸 텍스트를 TF-IDF 벡터로 바꾸는 함수로 만들고 테스트해보자."
   ]
  },
  {
   "cell_type": "code",
   "execution_count": 35,
   "id": "1ff0d5ed",
   "metadata": {},
   "outputs": [],
   "source": [
    "def tfidf_vectorizer(data):\n",
    "  data_counts = count_vect.transform(data)\n",
    "  data_tfidf = tfidf_transformer.transform(data_counts)\n",
    "  return data_tfidf"
   ]
  },
  {
   "cell_type": "code",
   "execution_count": 36,
   "id": "c1777023",
   "metadata": {},
   "outputs": [
    {
     "name": "stdout",
     "output_type": "stream",
     "text": [
      "['IT/과학']\n"
     ]
    }
   ],
   "source": [
    "new_sent = preprocessing([\"민주당 일각에서 법사위의 체계·자구 심사 기능을 없애야 한다는 \\\n",
    "                           주장이 나오는 데 대해 “체계·자구 심사가 법안 지연의 수단으로 \\\n",
    "                          쓰이는 것은 바람직하지 않다”면서도 “국회를 통과하는 법안 중 위헌\\\n",
    "                          법률이 1년에 10건 넘게 나온다. 그런데 체계·자구 심사까지 없애면 매우 위험하다”고 반박했다.\"])\n",
    "print(clf.predict(tfidf_vectorizer(new_sent)))"
   ]
  },
  {
   "cell_type": "code",
   "execution_count": 37,
   "id": "7db84fa8",
   "metadata": {},
   "outputs": [
    {
     "name": "stdout",
     "output_type": "stream",
     "text": [
      "['생활/문화']\n"
     ]
    }
   ],
   "source": [
    "new_sent = preprocessing([\"인도 로맨틱 코미디 영화 <까립까립 싱글>(2017)을 봤을 때 나는 두 눈을 의심했다. \\\n",
    "                          저 사람이 남자 주인공이라고? 노안에 가까운 이목구비와 기름때로 뭉친 파마머리와, \\\n",
    "                          대충 툭툭 던지는 말투 등 전혀 로맨틱하지 않은 외모였다. 반감이 일면서 \\\n",
    "                          ‘난 외모지상주의자가 아니다’라고 자부했던 나에 대해 회의가 들었다.\\\n",
    "                           티브이를 꺼버릴까? 다른 걸 볼까? 그런데, 이상하다. 왜 이렇게 매력 있지? 개구리와\\\n",
    "                            같이 툭 불거진 눈망울 안에는 어떤 인도 배우에게서도 느끼지 못한 \\\n",
    "                            부드러움과 선량함, 무엇보다 슬픔이 있었다. 2시간 뒤 영화가 끝나고 나는 완전히 이 배우에게 빠졌다\"])\n",
    "print(clf.predict(tfidf_vectorizer(new_sent)))"
   ]
  },
  {
   "cell_type": "code",
   "execution_count": 38,
   "id": "ffbdcccf",
   "metadata": {},
   "outputs": [
    {
     "name": "stdout",
     "output_type": "stream",
     "text": [
      "['IT/과학']\n"
     ]
    }
   ],
   "source": [
    "new_sent = preprocessing([\"20분기 연속으로 적자에 시달리는 LG전자가 브랜드 이름부터 성능, 디자인까지 대대적인 변화를 \\\n",
    "                          적용한 LG 벨벳은 등장 전부터 온라인 커뮤니티를 뜨겁게 달궜다. 사용자들은 “디자인이 예쁘다”, \\\n",
    "                          “슬림하다”는 반응을 보이며 LG 벨벳에 대한 기대감을 드러냈다.\"])\n",
    "print(clf.predict(tfidf_vectorizer(new_sent)))"
   ]
  },
  {
   "cell_type": "code",
   "execution_count": 39,
   "id": "81e8b4e6",
   "metadata": {},
   "outputs": [
    {
     "name": "stdout",
     "output_type": "stream",
     "text": [
      "              precision    recall  f1-score   support\n",
      "\n",
      "       IT/과학       0.78      0.84      0.81        51\n",
      "          사회       0.80      0.93      0.86        42\n",
      "       생활/문화       0.85      0.64      0.73        45\n",
      "\n",
      "    accuracy                           0.80       138\n",
      "   macro avg       0.81      0.81      0.80       138\n",
      "weighted avg       0.81      0.80      0.80       138\n",
      "\n"
     ]
    }
   ],
   "source": [
    "y_pred = clf.predict(tfidf_vectorizer(X_test))\n",
    "print(metrics.classification_report(y_test, y_pred))"
   ]
  },
  {
   "cell_type": "markdown",
   "id": "f2a9a042",
   "metadata": {},
   "source": [
    "# 31-11. 모델 성능 개선하기"
   ]
  },
  {
   "cell_type": "markdown",
   "id": "2d7d9723",
   "metadata": {},
   "source": [
    "모델의 성능을 개선하기 위해 여러가지 고민을 해보자. 어떻게 하면 개선할 수 있을까?   \n",
    "\n",
    "__1. 형태소 분석기 변경하기__   \n",
    "형태소 분석기의 종류는 한국어 자연어 처리 성능에 영향을 준다. 이번에 설치한 konlpy 패키지 안에 있는 Mecab을 사용했는데 이 외에 Hannannum, Kkma, Komoran, Okt 라는 형태소 분석기가 존재한다.    \n",
    "\n",
    "__2. 불용어 추가하기__   \n",
    "머신 러닝의 전처리는 끝이 없는 작업일 수도 있다. 불용어 추가도 마찬가지이다. 불용어를 50개 정도까지 추가하고 전, 후의 모델 성능을 비교하면 어떻게 나올까?   \n",
    "\n",
    "__3. 다른 날짜 데이터 추가하기__   \n",
    "크롤링을 했을 때 동일한 날짜에 그 날의 특정한 사건이 있을 가능성이 많다. 다양한 가능성을 주기 위해 다른 날짜 데이터를 수집해서 넣으면 더 좋은 결과가 나올 가능성이 크다."
   ]
  }
 ],
 "metadata": {
  "kernelspec": {
   "display_name": "Python 3 (ipykernel)",
   "language": "python",
   "name": "python3"
  },
  "language_info": {
   "codemirror_mode": {
    "name": "ipython",
    "version": 3
   },
   "file_extension": ".py",
   "mimetype": "text/x-python",
   "name": "python",
   "nbconvert_exporter": "python",
   "pygments_lexer": "ipython3",
   "version": "3.9.7"
  }
 },
 "nbformat": 4,
 "nbformat_minor": 5
}
