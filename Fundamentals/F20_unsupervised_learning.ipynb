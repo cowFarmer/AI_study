{
 "cells": [
  {
   "cell_type": "markdown",
   "id": "1cf1ff58",
   "metadata": {},
   "source": [
    "# 비지도학습에 대해 알아보자"
   ]
  },
  {
   "cell_type": "markdown",
   "id": "3e3823e3",
   "metadata": {},
   "source": []
  }
 ],
 "metadata": {
  "kernelspec": {
   "display_name": "Python 3 (ipykernel)",
   "language": "python",
   "name": "python3"
  },
  "language_info": {
   "codemirror_mode": {
    "name": "ipython",
    "version": 3
   },
   "file_extension": ".py",
   "mimetype": "text/x-python",
   "name": "python",
   "nbconvert_exporter": "python",
   "pygments_lexer": "ipython3",
   "version": "3.9.7"
  }
 },
 "nbformat": 4,
 "nbformat_minor": 5
}
