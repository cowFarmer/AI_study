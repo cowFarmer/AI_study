{
 "cells": [
  {
   "cell_type": "code",
   "execution_count": null,
   "id": "90879aad",
   "metadata": {},
   "outputs": [],
   "source": []
  }
 ],
 "metadata": {
  "kernelspec": {
   "display_name": "Python 3 (ipykernel)",
   "language": "python",
   "name": "python3"
  }
 },
 "nbformat": 4,
 "nbformat_minor": 5
}
