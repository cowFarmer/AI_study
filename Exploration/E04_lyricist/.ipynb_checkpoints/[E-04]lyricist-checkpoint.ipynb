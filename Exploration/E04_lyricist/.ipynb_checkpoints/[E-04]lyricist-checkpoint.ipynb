{
 "cells": [
  {
   "cell_type": "markdown",
   "id": "a71b598f",
   "metadata": {},
   "source": [
    "### EXP4. 작사가 인공지능 만들기"
   ]
  },
  {
   "cell_type": "code",
   "execution_count": 1,
   "id": "4734bc42",
   "metadata": {
    "scrolled": true
   },
   "outputs": [
    {
     "name": "stdout",
     "output_type": "stream",
     "text": [
      "데이터 크기: 187088\n",
      "Examples:\n",
      " [\"I'll undress you, 'cause you're tired\", 'Cover you as you desire', 'When you fall asleep inside my arms']\n"
     ]
    }
   ],
   "source": [
    "import os, re \n",
    "import numpy as np\n",
    "import tensorflow as tf\n",
    "import glob\n",
    "\n",
    "txt_file_path = os.getenv('HOME')+'/aiffel/AI_study/lyricist/data/lyrics/*'\n",
    "\n",
    "txt_list = glob.glob(txt_file_path)\n",
    "\n",
    "raw_corpus = []\n",
    "\n",
    "# 여러개의 txt 파일을 모두 읽어서 raw_corpus 에 담습니다.\n",
    "for txt_file in txt_list:\n",
    "    with open(txt_file, \"r\") as f:\n",
    "        raw = f.read().splitlines()\n",
    "        raw_corpus.extend(raw)\n",
    "\n",
    "print(\"데이터 크기:\", len(raw_corpus))\n",
    "print(\"Examples:\\n\", raw_corpus[:3])"
   ]
  },
  {
   "cell_type": "markdown",
   "id": "eb17ae6f",
   "metadata": {},
   "source": [
    "### 데이터 전처리하기\n",
    "지나치게 긴 문장은 다른 데이터들이 과도한 Padding을 갖게 하므로,   \n",
    "문장을 토큰화 했을 때 토큰의 개수가 15개 넘어가면 데이터에서 제외하기"
   ]
  },
  {
   "cell_type": "code",
   "execution_count": 2,
   "id": "54a327ab",
   "metadata": {},
   "outputs": [
    {
     "name": "stdout",
     "output_type": "stream",
     "text": [
      "I'll undress you, 'cause you're tired\n",
      "Cover you as you desire\n",
      "When you fall asleep inside my arms\n",
      "May not have the fancy things\n",
      "But I'll give you everything\n",
      "You could ever want, it's in my arms So baby tell me yes\n",
      "And I will give you everything\n",
      "So baby tell me yes\n",
      "And I will be all yours tonight\n",
      "So baby tell me yes\n"
     ]
    }
   ],
   "source": [
    "for idx, sentence in enumerate(raw_corpus):\n",
    "    if len(sentence) == 0: continue   # 길이가 0인 문장은 건너뜁니다.\n",
    "    if sentence[-1] == \":\": continue  # 문장의 끝이 : 인 문장은 건너뜁니다.\n",
    "\n",
    "    if idx > 9: break   # 일단 문장 10개만 확인해 볼 겁니다.\n",
    "        \n",
    "    print(sentence)"
   ]
  },
  {
   "cell_type": "code",
   "execution_count": 3,
   "id": "f759d258",
   "metadata": {},
   "outputs": [
    {
     "name": "stdout",
     "output_type": "stream",
     "text": [
      "<start> this is sample sentence . <end>\n"
     ]
    }
   ],
   "source": [
    "# 입력된 문장을\n",
    "#     1. 소문자로 바꾸고, 양쪽 공백을 지웁니다\n",
    "#     2. 특수문자 양쪽에 공백을 넣고\n",
    "#     3. 여러개의 공백은 하나의 공백으로 바꿉니다\n",
    "#     4. a-zA-Z?.!,¿가 아닌 모든 문자를 하나의 공백으로 바꿉니다\n",
    "#     5. 다시 양쪽 공백을 지웁니다\n",
    "#     6. 문장 시작에는 <start>, 끝에는 <end>를 추가합니다\n",
    "# 이 순서로 처리해주면 문제가 되는 상황을 방지할 수 있겠네요!\n",
    "def preprocess_sentence(sentence):\n",
    "    sentence = sentence.lower().strip() # 1\n",
    "    sentence = re.sub(r\"([?.!,¿])\", r\" \\1 \", sentence) # 2\n",
    "    sentence = re.sub(r'[\" \"]+', \" \", sentence) # 3\n",
    "    sentence = re.sub(r\"[^a-zA-Z?.!,¿]+\", \" \", sentence) # 4\n",
    "    sentence = sentence.strip() # 5\n",
    "    sentence = '<start> ' + sentence + ' <end>' # 6\n",
    "    return sentence\n",
    "\n",
    "# 이 문장이 어떻게 필터링되는지 확인해 보세요.\n",
    "print(preprocess_sentence(\"This @_is ;;;sample        sentence.\"))"
   ]
  },
  {
   "cell_type": "code",
   "execution_count": 4,
   "id": "a8172381",
   "metadata": {},
   "outputs": [
    {
     "name": "stdout",
     "output_type": "stream",
     "text": [
      "162813\n"
     ]
    },
    {
     "data": {
      "text/plain": [
       "['<start> i ll undress you , cause you re tired <end>',\n",
       " '<start> cover you as you desire <end>',\n",
       " '<start> when you fall asleep inside my arms <end>',\n",
       " '<start> may not have the fancy things <end>',\n",
       " '<start> but i ll give you everything <end>',\n",
       " '<start> you could ever want , it s in my arms so baby tell me yes <end>',\n",
       " '<start> and i will give you everything <end>',\n",
       " '<start> so baby tell me yes <end>',\n",
       " '<start> and i will be all yours tonight <end>',\n",
       " '<start> so baby tell me yes <end>']"
      ]
     },
     "execution_count": 4,
     "metadata": {},
     "output_type": "execute_result"
    }
   ],
   "source": [
    "# 여기에 정제된 문장을 모을겁니다\n",
    "corpus = []\n",
    "\n",
    "for sentence in raw_corpus:\n",
    "    # 우리가 원하지 않는 문장은 건너뜁니다\n",
    "    if len(sentence) == 0: continue\n",
    "    if sentence[-1] == \":\": continue\n",
    "    if len(sentence.split(' ')) > 13 : continue\n",
    "    \n",
    "    # 정제를 하고 담아주세요\n",
    "    preprocessed_sentence = preprocess_sentence(sentence)\n",
    "    corpus.append(preprocessed_sentence)\n",
    "\n",
    "# 정제된 결과를 10개만 확인해보죠\n",
    "print(len(corpus))\n",
    "corpus[:10]"
   ]
  },
  {
   "cell_type": "code",
   "execution_count": 5,
   "id": "f05d9429",
   "metadata": {},
   "outputs": [
    {
     "name": "stdout",
     "output_type": "stream",
     "text": [
      "162813\n",
      "[[   2    5   61 ...    0    0    0]\n",
      " [   2 1108    7 ...    0    0    0]\n",
      " [   2   47    7 ...    0    0    0]\n",
      " ...\n",
      " [   2    7  455 ...    0    0    0]\n",
      " [   2   30  122 ...    0    0    0]\n",
      " [   2    5  348 ...    0    0    0]] <keras_preprocessing.text.Tokenizer object at 0x7f208d64f880>\n"
     ]
    }
   ],
   "source": [
    "# 토큰화 할 때 텐서플로우의 Tokenizer와 pad_sequences를 사용합니다\n",
    "# 더 잘 알기 위해 아래 문서들을 참고하면 좋습니다\n",
    "# https://www.tensorflow.org/api_docs/python/tf/keras/preprocessing/text/Tokenizer\n",
    "# https://www.tensorflow.org/api_docs/python/tf/keras/preprocessing/sequence/pad_sequences\n",
    "def tokenize(corpus):\n",
    "    # 12000단어를 기억할 수 있는 tokenizer를 만들겁니다\n",
    "    # 우리는 이미 문장을 정제했으니 filters가 필요없어요\n",
    "    # 12000단어에 포함되지 못한 단어는 '<unk>'로 바꿀거에요\n",
    "    tokenizer = tf.keras.preprocessing.text.Tokenizer(\n",
    "        num_words=12000, \n",
    "        filters=' ',\n",
    "        oov_token=\"<unk>\"\n",
    "    )\n",
    "    # corpus를 이용해 tokenizer 내부의 단어장을 완성합니다\n",
    "    tokenizer.fit_on_texts(corpus)\n",
    "    # 준비한 tokenizer를 이용해 corpus를 Tensor로 변환합니다\n",
    "    tensor = tokenizer.texts_to_sequences(corpus)\n",
    "    # 입력 데이터의 시퀀스 길이를 일정하게 맞춰줍니다\n",
    "    # 만약 시퀀스가 짧다면 문장 뒤에 패딩을 붙여 길이를 맞춰줍니다.\n",
    "    # 문장 앞에 패딩을 붙여 길이를 맞추고 싶다면 padding='pre'를 사용합니다\n",
    "    tensor = tf.keras.preprocessing.sequence.pad_sequences(tensor, padding='post', maxlen=15)  \n",
    "    print(len(tensor))\n",
    "    print(tensor,tokenizer)\n",
    "    return tensor, tokenizer\n",
    "\n",
    "tensor, tokenizer = tokenize(corpus)"
   ]
  },
  {
   "cell_type": "code",
   "execution_count": 6,
   "id": "84d547d6",
   "metadata": {
    "scrolled": true
   },
   "outputs": [
    {
     "name": "stdout",
     "output_type": "stream",
     "text": [
      "[[   2    5   61 2839    7    4   66    7   52  644    3    0    0    0\n",
      "     0]\n",
      " [   2 1108    7   83    7 1149    3    0    0    0    0    0    0    0\n",
      "     0]\n",
      " [   2   47    7  293 1579  278   13  458    3    0    0    0    0    0\n",
      "     0]]\n"
     ]
    }
   ],
   "source": [
    "print(tensor[:3, :])"
   ]
  },
  {
   "cell_type": "code",
   "execution_count": 7,
   "id": "a56dfe7f",
   "metadata": {},
   "outputs": [
    {
     "name": "stdout",
     "output_type": "stream",
     "text": [
      "1 : <unk>\n",
      "2 : <start>\n",
      "3 : <end>\n",
      "4 : ,\n",
      "5 : i\n",
      "6 : the\n",
      "7 : you\n",
      "8 : and\n",
      "9 : a\n",
      "10 : to\n"
     ]
    }
   ],
   "source": [
    "for idx in tokenizer.index_word:\n",
    "    print(idx, \":\", tokenizer.index_word[idx])\n",
    "\n",
    "    if idx >= 10: break"
   ]
  },
  {
   "cell_type": "code",
   "execution_count": 8,
   "id": "9b6b58a7",
   "metadata": {},
   "outputs": [
    {
     "name": "stdout",
     "output_type": "stream",
     "text": [
      "[   2    5   61 2839    7    4   66    7   52  644    3    0    0    0]\n",
      "[   5   61 2839    7    4   66    7   52  644    3    0    0    0    0]\n"
     ]
    }
   ],
   "source": [
    "# tensor에서 마지막 토큰을 잘라내서 소스 문장을 생성합니다\n",
    "# 마지막 토큰은 <end>가 아니라 <pad>일 가능성이 높습니다.\n",
    "src_input = tensor[:, :-1]  \n",
    "# tensor에서 <start>를 잘라내서 타겟 문장을 생성합니다.\n",
    "tgt_input = tensor[:, 1:]    \n",
    "\n",
    "print(src_input[0])\n",
    "print(tgt_input[0])"
   ]
  },
  {
   "cell_type": "code",
   "execution_count": 9,
   "id": "f8d708c7",
   "metadata": {},
   "outputs": [
    {
     "name": "stdout",
     "output_type": "stream",
     "text": [
      "635\n"
     ]
    },
    {
     "data": {
      "text/plain": [
       "<BatchDataset shapes: ((256, 14), (256, 14)), types: (tf.int32, tf.int32)>"
      ]
     },
     "execution_count": 9,
     "metadata": {},
     "output_type": "execute_result"
    }
   ],
   "source": [
    "BUFFER_SIZE = len(src_input)\n",
    "BATCH_SIZE = 256\n",
    "steps_per_epoch = len(src_input) // BATCH_SIZE\n",
    "\n",
    " # tokenizer가 구축한 단어사전 내 7000개와, 여기 포함되지 않은 0:<pad>를 포함하여 7001개\n",
    "VOCAB_SIZE = tokenizer.num_words + 1   \n",
    "\n",
    "# 준비한 데이터 소스로부터 데이터셋을 만듭니다\n",
    "# 데이터셋에 대해서는 아래 문서를 참고하세요\n",
    "# 자세히 알아둘수록 도움이 많이 되는 중요한 문서입니다\n",
    "# https://www.tensorflow.org/api_docs/python/tf/data/Dataset\n",
    "dataset = tf.data.Dataset.from_tensor_slices((src_input, tgt_input))\n",
    "dataset = dataset.shuffle(BUFFER_SIZE)\n",
    "dataset = dataset.batch(BATCH_SIZE, drop_remainder=True)\n",
    "print(len(dataset))\n",
    "dataset"
   ]
  },
  {
   "cell_type": "markdown",
   "id": "209757fd",
   "metadata": {},
   "source": [
    "### 데이터셋 분리하기\n",
    "사이킷런의 train_test_split() 이용해서 훈련 데이터와 평가 데이터 분리하기   \n",
    "단어장의 크기는 12,000 이상, 총 데이터의 20%를 평가 데이터로 하기"
   ]
  },
  {
   "cell_type": "code",
   "execution_count": 10,
   "id": "58e5feab",
   "metadata": {},
   "outputs": [
    {
     "name": "stdout",
     "output_type": "stream",
     "text": [
      "Source Train: (130250, 14)\n",
      "Source val: (32563, 14)\n",
      "Target Train: (130250, 14)\n",
      "Target val: (32563, 14)\n"
     ]
    }
   ],
   "source": [
    "from sklearn.model_selection import train_test_split\n",
    "# BUFFER_SIZE = len(src_input)\n",
    "# BATCH_SIZE = 256\n",
    "# steps_per_epoch = len(src_input) // BATCH_SIZE\n",
    "\n",
    "# tokenizer가 구축한 단어사전 내 7000개와, 여기 포함되지 않은 0:<pad>를 포함하여 12001개\n",
    "# VOCAB_SIZE = tokenizer.num_words + 1   \n",
    "\n",
    "enc_train, enc_val, dec_train, dec_val = train_test_split(src_input, tgt_input, test_size=0.2, random_state=7)\n",
    "\n",
    "print(\"Source Train:\", enc_train.shape)\n",
    "print(\"Source val:\", enc_val.shape)\n",
    "print(\"Target Train:\", dec_train.shape)\n",
    "print(\"Target val:\", dec_val.shape)"
   ]
  },
  {
   "cell_type": "markdown",
   "id": "f0851ba9",
   "metadata": {},
   "source": [
    "### 인공지능 만들기\n",
    "Embedding size와 Hidden size를 조절하여   \n",
    "10 Epoch안에 val_loss 값을 2.2 수준을 목표로 모델 설계하기"
   ]
  },
  {
   "cell_type": "code",
   "execution_count": 11,
   "id": "53c41b19",
   "metadata": {},
   "outputs": [],
   "source": [
    "class TextGenerator(tf.keras.Model):\n",
    "    def __init__(self, vocab_size, embedding_size, hidden_size):\n",
    "        super().__init__()\n",
    "        \n",
    "        self.embedding = tf.keras.layers.Embedding(vocab_size, embedding_size)\n",
    "        self.rnn_1 = tf.keras.layers.LSTM(hidden_size, return_sequences=True)\n",
    "        self.rnn_2 = tf.keras.layers.LSTM(hidden_size, return_sequences=True)\n",
    "        self.linear = tf.keras.layers.Dense(vocab_size)\n",
    "\n",
    "    def call(self, x):\n",
    "        out = self.embedding(x)\n",
    "        out = self.rnn_1(out)\n",
    "        out = self.rnn_2(out)\n",
    "        out = self.linear(out)\n",
    "\n",
    "        return out\n",
    "\n",
    "embedding_size = 256\n",
    "hidden_size = 1024\n",
    "model = TextGenerator(tokenizer.num_words + 1, embedding_size , hidden_size)"
   ]
  },
  {
   "cell_type": "code",
   "execution_count": 12,
   "id": "2bdb4954",
   "metadata": {},
   "outputs": [
    {
     "data": {
      "text/plain": [
       "<tf.Tensor: shape=(256, 14, 12001), dtype=float32, numpy=\n",
       "array([[[-3.0227020e-05,  5.6835092e-05, -2.4579413e-04, ...,\n",
       "          5.9979058e-05, -1.9626389e-04, -5.8214282e-05],\n",
       "        [-2.7545591e-04,  1.1805018e-04, -5.3624628e-04, ...,\n",
       "         -2.7901506e-06, -4.0213793e-04,  9.2801616e-05],\n",
       "        [-6.0318474e-04,  7.0366266e-05, -5.7754363e-04, ...,\n",
       "         -2.5916076e-04, -6.3087820e-04,  1.2652687e-04],\n",
       "        ...,\n",
       "        [-8.3530910e-04, -5.0374563e-04, -1.0701595e-03, ...,\n",
       "         -6.5769121e-04, -1.8182097e-03,  1.2505852e-03],\n",
       "        [-7.6403614e-04, -5.3475180e-04, -1.0293559e-03, ...,\n",
       "         -5.6607829e-04, -2.0043696e-03,  1.4051079e-03],\n",
       "        [-4.3865090e-04, -4.3662518e-04, -9.6763327e-04, ...,\n",
       "         -4.3106062e-04, -1.9524440e-03,  1.4741145e-03]],\n",
       "\n",
       "       [[ 3.7636983e-05,  1.5292567e-04, -3.2377109e-05, ...,\n",
       "         -2.9658669e-04, -1.2614940e-04,  1.5877520e-05],\n",
       "        [-4.6237386e-05,  4.3518521e-04, -4.3804664e-04, ...,\n",
       "         -2.3044601e-04, -3.2723506e-04,  2.5535972e-04],\n",
       "        [ 1.4705681e-05,  5.6310563e-04, -5.9756223e-04, ...,\n",
       "         -4.3964022e-04, -4.1892641e-04,  2.6836855e-04],\n",
       "        ...,\n",
       "        [-9.1153115e-04,  1.7031005e-03, -1.3198418e-03, ...,\n",
       "         -8.0695312e-04, -1.1867395e-03, -5.9814024e-04],\n",
       "        [-1.2077123e-03,  2.2148255e-03, -1.6297008e-03, ...,\n",
       "         -7.5489888e-04, -1.5512008e-03, -4.5575536e-04],\n",
       "        [-1.4257012e-03,  2.6731330e-03, -1.9104830e-03, ...,\n",
       "         -6.7716866e-04, -1.8610825e-03, -3.0476425e-04]],\n",
       "\n",
       "       [[ 3.7636983e-05,  1.5292567e-04, -3.2377109e-05, ...,\n",
       "         -2.9658669e-04, -1.2614940e-04,  1.5877520e-05],\n",
       "        [-1.0358982e-04,  3.9663640e-04, -7.7496334e-05, ...,\n",
       "         -3.9868784e-04, -4.7672953e-04,  2.0310939e-04],\n",
       "        [-1.2866690e-04,  4.7572757e-04, -2.2464407e-04, ...,\n",
       "         -3.6426526e-04, -3.9292290e-04,  3.0366908e-04],\n",
       "        ...,\n",
       "        [-1.2368859e-03,  2.2686333e-03, -2.3924867e-03, ...,\n",
       "         -4.7699173e-04, -1.8852556e-03,  8.5824891e-04],\n",
       "        [-1.3585838e-03,  2.5987795e-03, -2.5067378e-03, ...,\n",
       "         -4.0718034e-04, -2.1192066e-03,  8.6914084e-04],\n",
       "        [-1.4380581e-03,  2.8681757e-03, -2.6126632e-03, ...,\n",
       "         -3.4454625e-04, -2.3132698e-03,  8.8265439e-04]],\n",
       "\n",
       "       ...,\n",
       "\n",
       "       [[ 3.7636983e-05,  1.5292567e-04, -3.2377109e-05, ...,\n",
       "         -2.9658669e-04, -1.2614940e-04,  1.5877520e-05],\n",
       "        [ 1.4944334e-04,  4.3342580e-04,  2.3656079e-05, ...,\n",
       "         -3.9271667e-04, -1.2967091e-04,  1.7117560e-04],\n",
       "        [ 2.0993686e-04,  4.9065909e-04,  7.8924168e-05, ...,\n",
       "         -3.5962617e-04, -1.0130919e-05,  4.9129466e-04],\n",
       "        ...,\n",
       "        [ 8.2580262e-04,  7.9954375e-04,  4.5360259e-05, ...,\n",
       "         -1.5654744e-03, -7.6844408e-05,  2.9369959e-04],\n",
       "        [ 3.9720125e-04,  1.2360105e-03, -2.8763711e-04, ...,\n",
       "         -1.5453000e-03, -4.5121566e-04,  3.0444557e-04],\n",
       "        [-7.8258000e-07,  1.7373880e-03, -6.2532420e-04, ...,\n",
       "         -1.4663996e-03, -8.3411502e-04,  3.3251755e-04]],\n",
       "\n",
       "       [[ 3.7636983e-05,  1.5292567e-04, -3.2377109e-05, ...,\n",
       "         -2.9658669e-04, -1.2614940e-04,  1.5877520e-05],\n",
       "        [ 2.2944812e-04,  8.6383363e-05, -3.4939454e-05, ...,\n",
       "         -4.4192202e-04,  8.3898238e-05, -2.8570374e-05],\n",
       "        [ 3.7475635e-04, -2.2294858e-05, -3.3504246e-05, ...,\n",
       "         -4.7927495e-04,  2.7667504e-04,  2.0475456e-04],\n",
       "        ...,\n",
       "        [-1.1767856e-03,  3.0379510e-03, -2.1035885e-03, ...,\n",
       "         -4.0109694e-04, -2.3754972e-03,  6.6704483e-04],\n",
       "        [-1.2678162e-03,  3.2988710e-03, -2.3101720e-03, ...,\n",
       "         -3.2712880e-04, -2.5225915e-03,  7.2327827e-04],\n",
       "        [-1.3327834e-03,  3.4902643e-03, -2.4939757e-03, ...,\n",
       "         -2.6372497e-04, -2.6370736e-03,  7.6316058e-04]],\n",
       "\n",
       "       [[ 3.7636983e-05,  1.5292567e-04, -3.2377109e-05, ...,\n",
       "         -2.9658669e-04, -1.2614940e-04,  1.5877520e-05],\n",
       "        [-9.3010487e-05,  2.6978427e-04,  1.8830708e-04, ...,\n",
       "         -4.0241412e-04, -3.7091048e-04, -6.1120954e-05],\n",
       "        [-1.7471302e-04,  2.7250327e-04,  3.1665969e-04, ...,\n",
       "         -3.7017834e-04, -6.6694507e-04, -8.7657128e-05],\n",
       "        ...,\n",
       "        [-1.8683107e-03,  2.6321919e-03, -1.7338686e-03, ...,\n",
       "         -1.2919075e-03, -2.1077415e-03,  8.0716010e-04],\n",
       "        [-1.9225308e-03,  2.9676028e-03, -1.9636371e-03, ...,\n",
       "         -1.1722362e-03, -2.2675432e-03,  8.4276154e-04],\n",
       "        [-1.9408537e-03,  3.2266898e-03, -2.1672081e-03, ...,\n",
       "         -1.0500953e-03, -2.4012513e-03,  8.6294132e-04]]], dtype=float32)>"
      ]
     },
     "execution_count": 12,
     "metadata": {},
     "output_type": "execute_result"
    }
   ],
   "source": [
    "# 데이터셋에서 데이터 한 배치만 불러오는 방법입니다.\n",
    "# 지금은 동작 원리에 너무 빠져들지 마세요~\n",
    "for src_sample, tgt_sample in dataset.take(1): break\n",
    "\n",
    "# 한 배치만 불러온 데이터를 모델에 넣어봅니다\n",
    "model(src_sample)"
   ]
  },
  {
   "cell_type": "code",
   "execution_count": 13,
   "id": "0c7e4a5b",
   "metadata": {},
   "outputs": [
    {
     "name": "stdout",
     "output_type": "stream",
     "text": [
      "Model: \"text_generator\"\n",
      "_________________________________________________________________\n",
      "Layer (type)                 Output Shape              Param #   \n",
      "=================================================================\n",
      "embedding (Embedding)        multiple                  3072256   \n",
      "_________________________________________________________________\n",
      "lstm (LSTM)                  multiple                  5246976   \n",
      "_________________________________________________________________\n",
      "lstm_1 (LSTM)                multiple                  8392704   \n",
      "_________________________________________________________________\n",
      "dense (Dense)                multiple                  12301025  \n",
      "=================================================================\n",
      "Total params: 29,012,961\n",
      "Trainable params: 29,012,961\n",
      "Non-trainable params: 0\n",
      "_________________________________________________________________\n"
     ]
    }
   ],
   "source": [
    "model.summary()"
   ]
  },
  {
   "cell_type": "code",
   "execution_count": 14,
   "id": "26cf09b4",
   "metadata": {},
   "outputs": [
    {
     "name": "stdout",
     "output_type": "stream",
     "text": [
      "Epoch 1/10\n",
      "635/635 [==============================] - 107s 164ms/step - loss: 3.5104\n",
      "Epoch 2/10\n",
      "635/635 [==============================] - 106s 167ms/step - loss: 3.0458\n",
      "Epoch 3/10\n",
      "635/635 [==============================] - 106s 167ms/step - loss: 2.8626\n",
      "Epoch 4/10\n",
      "635/635 [==============================] - 106s 167ms/step - loss: 2.7257\n",
      "Epoch 5/10\n",
      "635/635 [==============================] - 106s 166ms/step - loss: 2.6087\n",
      "Epoch 6/10\n",
      "635/635 [==============================] - 106s 167ms/step - loss: 2.5044\n",
      "Epoch 7/10\n",
      "635/635 [==============================] - 106s 167ms/step - loss: 2.4084\n",
      "Epoch 8/10\n",
      "635/635 [==============================] - 106s 167ms/step - loss: 2.3239\n",
      "Epoch 9/10\n",
      "635/635 [==============================] - 106s 167ms/step - loss: 2.2384\n",
      "Epoch 10/10\n",
      "635/635 [==============================] - 106s 167ms/step - loss: 2.1614\n"
     ]
    },
    {
     "data": {
      "text/plain": [
       "<keras.callbacks.History at 0x7f1f32b90bb0>"
      ]
     },
     "execution_count": 14,
     "metadata": {},
     "output_type": "execute_result"
    }
   ],
   "source": [
    "# optimizer와 loss등은 차차 배웁니다\n",
    "# 혹시 미리 알고 싶다면 아래 문서를 참고하세요\n",
    "# https://www.tensorflow.org/api_docs/python/tf/keras/optimizers\n",
    "# https://www.tensorflow.org/api_docs/python/tf/keras/losses\n",
    "# 양이 상당히 많은 편이니 지금 보는 것은 추천하지 않습니다\n",
    "optimizer = tf.keras.optimizers.Adam()\n",
    "loss = tf.keras.losses.SparseCategoricalCrossentropy(\n",
    "    from_logits=True,\n",
    "    reduction='none'\n",
    ")\n",
    "\n",
    "model.compile(loss=loss, optimizer=optimizer)\n",
    "model.fit(dataset, epochs=10)"
   ]
  },
  {
   "cell_type": "code",
   "execution_count": 15,
   "id": "467738c8",
   "metadata": {},
   "outputs": [],
   "source": [
    "#Loss\n",
    "loss = tf.keras.losses.SparseCategoricalCrossentropy(\n",
    "    from_logits=True, reduction='none')"
   ]
  },
  {
   "cell_type": "code",
   "execution_count": 16,
   "id": "b221f552",
   "metadata": {},
   "outputs": [],
   "source": [
    "def generate_text(model, tokenizer, init_sentence=\"<start>\", max_len=20):\n",
    "    # 테스트를 위해서 입력받은 init_sentence도 텐서로 변환합니다\n",
    "    test_input = tokenizer.texts_to_sequences([init_sentence])\n",
    "    test_tensor = tf.convert_to_tensor(test_input, dtype=tf.int64)\n",
    "    end_token = tokenizer.word_index[\"<end>\"]\n",
    "\n",
    "    # 단어 하나씩 예측해 문장을 만듭니다\n",
    "    #    1. 입력받은 문장의 텐서를 입력합니다\n",
    "    #    2. 예측된 값 중 가장 높은 확률인 word index를 뽑아냅니다\n",
    "    #    3. 2에서 예측된 word index를 문장 뒤에 붙입니다\n",
    "    #    4. 모델이 <end>를 예측했거나, max_len에 도달했다면 문장 생성을 마칩니다\n",
    "    while True:\n",
    "        # 1\n",
    "        predict = model(test_tensor) \n",
    "        # 2\n",
    "        predict_word = tf.argmax(tf.nn.softmax(predict, axis=-1), axis=-1)[:, -1] \n",
    "        # 3 \n",
    "        test_tensor = tf.concat([test_tensor, tf.expand_dims(predict_word, axis=0)], axis=-1)\n",
    "        # 4\n",
    "        if predict_word.numpy()[0] == end_token: break\n",
    "        if test_tensor.shape[1] >= max_len: break\n",
    "\n",
    "    generated = \"\"\n",
    "    # tokenizer를 이용해 word index를 단어로 하나씩 변환합니다 \n",
    "    for word_index in test_tensor[0].numpy():\n",
    "        generated += tokenizer.index_word[word_index] + \" \"\n",
    "\n",
    "    return generated"
   ]
  },
  {
   "cell_type": "code",
   "execution_count": 17,
   "id": "54559f7f",
   "metadata": {},
   "outputs": [
    {
     "data": {
      "text/plain": [
       "'<start> i love you , i love you <end> '"
      ]
     },
     "execution_count": 17,
     "metadata": {},
     "output_type": "execute_result"
    }
   ],
   "source": [
    "generate_text(model, tokenizer, init_sentence=\"<start> i love\", max_len=20)"
   ]
  },
  {
   "cell_type": "markdown",
   "id": "c37d0f35",
   "metadata": {},
   "source": [
    "### 최종\n",
    "모델이 생성한 가사 한 줄은?"
   ]
  },
  {
   "cell_type": "code",
   "execution_count": 18,
   "id": "d34d1e24",
   "metadata": {},
   "outputs": [
    {
     "data": {
      "text/plain": [
       "'<start> i love you , i love you <end> '"
      ]
     },
     "execution_count": 18,
     "metadata": {},
     "output_type": "execute_result"
    }
   ],
   "source": [
    "'<start> i love you , i love you <end> '"
   ]
  }
 ],
 "metadata": {
  "kernelspec": {
   "display_name": "Python 3 (ipykernel)",
   "language": "python",
   "name": "python3"
  },
  "language_info": {
   "codemirror_mode": {
    "name": "ipython",
    "version": 3
   },
   "file_extension": ".py",
   "mimetype": "text/x-python",
   "name": "python",
   "nbconvert_exporter": "python",
   "pygments_lexer": "ipython3",
   "version": "3.9.7"
  }
 },
 "nbformat": 4,
 "nbformat_minor": 5
}
