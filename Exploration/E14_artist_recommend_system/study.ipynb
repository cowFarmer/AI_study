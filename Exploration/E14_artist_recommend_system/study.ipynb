{
 "cells": [
  {
   "cell_type": "markdown",
   "id": "0a28a4a1",
   "metadata": {},
   "source": [
    "# 14. 아이유 팬이 좋아할 만한 다른 아티스트 찾기"
   ]
  },
  {
   "cell_type": "markdown",
   "id": "9efd2c16",
   "metadata": {},
   "source": [
    "머신러닝 애플리케이션 중 가장 상업적인 성공을 거둔 추천 시스템에 대해 알아보자. 추천 시스템의 원리를 한 문장으로 줄인다면 나와 비슷한 다른 사용자들이 좋아하는 것과 비슷한 것을 내게 추천해준다. 어떻게 비슷한지 알 수 있을까? 그리고 상품이나 정보가 서로 유사한지는 어떻게 알 수 있을까? 추천 시스템의 기본 원리를 파악하고 만들어보자."
   ]
  },
  {
   "cell_type": "markdown",
   "id": "63d24e68",
   "metadata": {},
   "source": [
    "# 14-2. 추천 시스템이란 게 뭔가요?"
   ]
  },
  {
   "cell_type": "markdown",
   "id": "8f8700df",
   "metadata": {},
   "source": [
    "온라인 콘텐츠 서비스에서 데이터 분석 + AI 기술을 접복한 추천 시스템은 선택이 아닌 필수가 됐다. 음원 서비스를 예로 들면 유튜브 뮤직, 스포티파이, 애플 뮤직 등 추천 시스템을 통한 개인화 서비스가 없는 곳을 찾기 힘들어졌다. 음원 차트로 유명한 멜론도 2020년 업데이트 하면서 개인 맞춤 서비스를 메인에 배치했다.   \n",
    "음원 서비스 제공자들은 수많은 유저들이 어떤 아티스트의 노래를 들었는지 광범위한 데이터를 축적하고 있다. 이런 빅데이터가 정확한 추천의 원동력이 되고 있다. 그렇다면 추천의 원리가 어떤건지 구체적으로 알아보자. [콘텐츠 추천 알고리즘의 진화 기사](http://www.kocca.kr/insight/vol05/vol05_04.pdf)   \n",
    "\n",
    "기사를 확인해 보면 협업 필터링과 콘텐츠 기반 필터링이 나온다. 협업 필터링은 사용자간의 유사성 혹은 아이템간의 유사성을 파악해서 추천해주는 것이고, 콘텐츠 기반 필터링은 아이템의 "
   ]
  },
  {
   "cell_type": "markdown",
   "id": "14e02224",
   "metadata": {},
   "source": [
    "# 14-3. 데이터 탐색하기와 전처리"
   ]
  },
  {
   "cell_type": "markdown",
   "id": "7a17fb18",
   "metadata": {},
   "source": [
    "# 14-4. 사용자의 명시적 / 암묵적 평가"
   ]
  },
  {
   "cell_type": "markdown",
   "id": "d0a379e2",
   "metadata": {},
   "source": [
    "# 14-5. Matrix Factorization(MF)"
   ]
  },
  {
   "cell_type": "markdown",
   "id": "67dd97a6",
   "metadata": {},
   "source": [
    "# 14-6. CSR(Compressed Sparse Row) Matrix"
   ]
  },
  {
   "cell_type": "markdown",
   "id": "8caa31dd",
   "metadata": {},
   "source": [
    "# 14-7. MF 모델 학습하기"
   ]
  },
  {
   "cell_type": "markdown",
   "id": "5f8ad77d",
   "metadata": {},
   "source": [
    "# 14-8. 비슷한 아티스트 찾기 + 유저에게 추천하기"
   ]
  },
  {
   "cell_type": "markdown",
   "id": "f20f0f0f",
   "metadata": {},
   "source": [
    "# 14-9. 프로젝트 "
   ]
  }
 ],
 "metadata": {
  "kernelspec": {
   "display_name": "Python 3 (ipykernel)",
   "language": "python",
   "name": "python3"
  },
  "language_info": {
   "codemirror_mode": {
    "name": "ipython",
    "version": 3
   },
   "file_extension": ".py",
   "mimetype": "text/x-python",
   "name": "python",
   "nbconvert_exporter": "python",
   "pygments_lexer": "ipython3",
   "version": "3.9.7"
  }
 },
 "nbformat": 4,
 "nbformat_minor": 5
}
