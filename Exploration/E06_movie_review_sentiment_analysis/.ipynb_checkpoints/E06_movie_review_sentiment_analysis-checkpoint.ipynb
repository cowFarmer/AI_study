{
 "cells": [
  {
   "cell_type": "markdown",
   "id": "0e33eabb",
   "metadata": {},
   "source": [
    "# 6. 영화 리뷰 텍스트 감성 분석하기\n",
    "네이버 영화 리뷰 감성 분석 도전하기   \n",
    "데이터셋 [Naver sentiment movie corpus](https://github.com/e9t/nsmc)   "
   ]
  },
  {
   "cell_type": "markdown",
   "id": "b32441c9",
   "metadata": {},
   "source": [
    "## 데이터 가져오기"
   ]
  },
  {
   "cell_type": "code",
   "execution_count": 1,
   "id": "e756232c",
   "metadata": {},
   "outputs": [],
   "source": [
    "import pandas as pd\n",
    "from tensorflow import keras\n",
    "from konlpy.tag import Mecab\n",
    "import numpy as np\n",
    "from collections import Counter\n",
    "\n",
    "import numpy as np\n",
    "import tensorflow as tf\n",
    "import os\n",
    "\n",
    "import matplotlib.pyplot as plt"
   ]
  },
  {
   "cell_type": "code",
   "execution_count": 2,
   "id": "ecdaf672",
   "metadata": {},
   "outputs": [
    {
     "name": "stdout",
     "output_type": "stream",
     "text": [
      "train_data: 150000, test_data: 50000\n"
     ]
    },
    {
     "data": {
      "text/html": [
       "<div>\n",
       "<style scoped>\n",
       "    .dataframe tbody tr th:only-of-type {\n",
       "        vertical-align: middle;\n",
       "    }\n",
       "\n",
       "    .dataframe tbody tr th {\n",
       "        vertical-align: top;\n",
       "    }\n",
       "\n",
       "    .dataframe thead th {\n",
       "        text-align: right;\n",
       "    }\n",
       "</style>\n",
       "<table border=\"1\" class=\"dataframe\">\n",
       "  <thead>\n",
       "    <tr style=\"text-align: right;\">\n",
       "      <th></th>\n",
       "      <th>id</th>\n",
       "      <th>document</th>\n",
       "      <th>label</th>\n",
       "    </tr>\n",
       "  </thead>\n",
       "  <tbody>\n",
       "    <tr>\n",
       "      <th>0</th>\n",
       "      <td>9976970</td>\n",
       "      <td>아 더빙.. 진짜 짜증나네요 목소리</td>\n",
       "      <td>0</td>\n",
       "    </tr>\n",
       "    <tr>\n",
       "      <th>1</th>\n",
       "      <td>3819312</td>\n",
       "      <td>흠...포스터보고 초딩영화줄....오버연기조차 가볍지 않구나</td>\n",
       "      <td>1</td>\n",
       "    </tr>\n",
       "    <tr>\n",
       "      <th>2</th>\n",
       "      <td>10265843</td>\n",
       "      <td>너무재밓었다그래서보는것을추천한다</td>\n",
       "      <td>0</td>\n",
       "    </tr>\n",
       "    <tr>\n",
       "      <th>3</th>\n",
       "      <td>9045019</td>\n",
       "      <td>교도소 이야기구먼 ..솔직히 재미는 없다..평점 조정</td>\n",
       "      <td>0</td>\n",
       "    </tr>\n",
       "    <tr>\n",
       "      <th>4</th>\n",
       "      <td>6483659</td>\n",
       "      <td>사이몬페그의 익살스런 연기가 돋보였던 영화!스파이더맨에서 늙어보이기만 했던 커스틴 ...</td>\n",
       "      <td>1</td>\n",
       "    </tr>\n",
       "  </tbody>\n",
       "</table>\n",
       "</div>"
      ],
      "text/plain": [
       "         id                                           document  label\n",
       "0   9976970                                아 더빙.. 진짜 짜증나네요 목소리      0\n",
       "1   3819312                  흠...포스터보고 초딩영화줄....오버연기조차 가볍지 않구나      1\n",
       "2  10265843                                  너무재밓었다그래서보는것을추천한다      0\n",
       "3   9045019                      교도소 이야기구먼 ..솔직히 재미는 없다..평점 조정      0\n",
       "4   6483659  사이몬페그의 익살스런 연기가 돋보였던 영화!스파이더맨에서 늙어보이기만 했던 커스틴 ...      1"
      ]
     },
     "execution_count": 2,
     "metadata": {},
     "output_type": "execute_result"
    }
   ],
   "source": [
    "train_data = pd.read_table('~/aiffel/sentiment_classification/data/ratings_train.txt')\n",
    "test_data = pd.read_table('~/aiffel/sentiment_classification/data/ratings_test.txt')\n",
    "\n",
    "print(\"train_data: {}, test_data: {}\".format(len(train_data), len(test_data)))\n",
    "train_data[:5]"
   ]
  },
  {
   "cell_type": "markdown",
   "id": "c94d51d7",
   "metadata": {},
   "source": [
    "## 데이터 전처리\n",
    "\n",
    "- 데이터 중복 제거\n",
    "- NaN 결측치 제거\n",
    "- 한국어 토큰화\n",
    "- stopwords 제거\n",
    "- 사전 `word_to_index` 구성\n",
    "- 텍스트 스트링을 사전 인덱스 스트링으로 변환\n",
    "- `X_train, y_train, X_test, y_test, word_to_index` 리턴"
   ]
  },
  {
   "cell_type": "code",
   "execution_count": 3,
   "id": "6a672e22",
   "metadata": {},
   "outputs": [],
   "source": [
    "tokenizer = Mecab()\n",
    "stopwords = ['의','가','이','은','들','는','좀','잘','걍','과','도','를','으로','자','에','와','한','하다']\n",
    "\n",
    "def load_data(train_data, test_data, num_words=10000):\n",
    "    # 중복 데이터 삭제\n",
    "    train_data.drop_duplicates(subset=['document'], inplace=True) \n",
    "    train_data = train_data.dropna(how = 'any') \n",
    "    test_data.drop_duplicates(subset=['document'], inplace=True) \n",
    "    test_data = test_data.dropna(how = 'any') \n",
    "    \n",
    "    # 토큰화 하면서 stopwords에 해당하는 word 지우기\n",
    "    X_train = []\n",
    "    for sentence in train_data['document']:\n",
    "        temp_X = tokenizer.morphs(sentence)\n",
    "        temp_X = [word for word in temp_X if not word in stopwords]\n",
    "        X_train.append(temp_X)\n",
    "\n",
    "    X_test = []\n",
    "    for sentence in test_data['document']:\n",
    "        temp_X = tokenizer.morphs(sentence)\n",
    "        temp_X = [word for word in temp_X if not word in stopwords]\n",
    "        X_test.append(temp_X)\n",
    "    \n",
    "    \n",
    "    words = np.concatenate(X_train).tolist()\n",
    "    counter = Counter(words)\n",
    "    counter = counter.most_common(10000-4)\n",
    "    vocab = ['<PAD>', '<BOS>', '<UNK>', ''] + [key for key, _ in counter]\n",
    "    word_to_index = {word:index for index, word in enumerate(vocab)} # 많이 쓰이는 단어 딕셔너리 형태 단어사전으로 만들기\n",
    "        \n",
    "    \n",
    "    def wordlist_to_indexlist(wordlist):\n",
    "        return [word_to_index[word] if word in word_to_index else word_to_index[''] for word in wordlist]\n",
    "        \n",
    "    X_train = list(map(wordlist_to_indexlist, X_train))\n",
    "    X_test = list(map(wordlist_to_indexlist, X_test))\n",
    "        \n",
    "    return X_train, np.array(list(train_data['label'])), X_test, np.array(list(test_data['label'])), word_to_index\n",
    "    \n",
    "X_train, y_train, X_test, y_test, word_to_index = load_data(train_data, test_data) "
   ]
  },
  {
   "cell_type": "markdown",
   "id": "d27337c0",
   "metadata": {},
   "source": [
    "> vocab에 PAD, BOS, UNK를 추가했는데 또 어떤걸 추가해야할지 모르겠다."
   ]
  },
  {
   "cell_type": "code",
   "execution_count": 4,
   "id": "224861a9",
   "metadata": {},
   "outputs": [
    {
     "name": "stdout",
     "output_type": "stream",
     "text": [
      "train data: 146183, test data: 49158\n",
      "[32, 74, 919, 4, 4, 39, 228, 20, 33, 748]\n",
      "[832, 130]\n",
      "146182 49157\n"
     ]
    }
   ],
   "source": [
    "print('train data: {}, test data: {}'.format(len(train_data), len(test_data)))\n",
    "print(X_train[0])\n",
    "print(X_test[0])\n",
    "print(len(X_train), len(X_test))\n",
    "# 단어 토큰화 및 정규화가 제대로 되었음을 볼 수 있다."
   ]
  },
  {
   "cell_type": "code",
   "execution_count": 5,
   "id": "fcd242bd",
   "metadata": {},
   "outputs": [
    {
     "data": {
      "text/plain": [
       "{0: '<PAD>',\n",
       " 1: '<BOS>',\n",
       " 2: '<UNK>',\n",
       " 3: '',\n",
       " 4: '.',\n",
       " 5: '영화',\n",
       " 6: '다',\n",
       " 7: '고',\n",
       " 8: '하',\n",
       " 9: '을'}"
      ]
     },
     "execution_count": 5,
     "metadata": {},
     "output_type": "execute_result"
    }
   ],
   "source": [
    "index_to_word = {index:word for word, index in word_to_index.items()}\n",
    "dict(list(index_to_word.items())[:10])"
   ]
  },
  {
   "cell_type": "code",
   "execution_count": 6,
   "id": "5faaeef1",
   "metadata": {},
   "outputs": [],
   "source": [
    "# 문장을 리스트의 숫자로 매핑하는 함수, 모든 문장은 <BOS>로 시작한다.\n",
    "def get_encoded_sentence(sentence, word_to_index):\n",
    "    return [word_to_index['<BOS>']]+[word_to_index[word] if word in word_to_index else word_to_index['<UNK>'] for word in sentence.split()]\n",
    "\n",
    "# 여러 문장을 리스트의 숫자로 매핑하는 함수\n",
    "def get_encoded_sentences(sentences, word_to_index):\n",
    "    return [get_encoded_sentence(sentence, word_to_index) for sentence in sentences]\n",
    "\n",
    "# 숫자로 매핑한 인코딩 문장을 디코딩해서 원래 문장으로 바꾼다. \n",
    "def get_decoded_sentence(encoded_sentence, index_to_word):\n",
    "    return ' '.join(index_to_word[index] if index in index_to_word else '<UNK>' for index in encoded_sentence[1:])\n",
    "\n",
    "# 인코딩한 여러 문장을 디코딩해서 문장으로 바꾼다\n",
    "def get_decoded_sentences(encoded_sentences, index_to_word):\n",
    "    return [get_decoded_sentence(encoded_sentence, index_to_word) for encoded_sentence in encoded_sentences]"
   ]
  },
  {
   "cell_type": "code",
   "execution_count": 7,
   "id": "b0a88b9e",
   "metadata": {},
   "outputs": [
    {
     "name": "stdout",
     "output_type": "stream",
     "text": [
      "0 번째 X_train is \n",
      "더 빙 . . 진짜 짜증 나 네요 목소리, \n",
      "y_train is \n",
      "0\n",
      "\n",
      "1 번째 X_train is \n",
      ". .. 포스터 보고 초딩 영화 줄 . ... 오버 연기 조차 가볍 지 않 구나, \n",
      "y_train is \n",
      "1\n",
      "\n",
      "2 번째 X_train is \n",
      "재 , \n",
      "y_train is \n",
      "0\n",
      "\n",
      "3 번째 X_train is \n",
      "이야기 구먼 . . 솔직히 재미 없 다 . . 평점 조정, \n",
      "y_train is \n",
      "0\n",
      "\n",
      "4 번째 X_train is \n",
      "익살 스런 연기 돋보였 던 영화 ! 스파이더맨 에서 늙 어 보이 기 만 했 던   너무나 이뻐 보였 다, \n",
      "y_train is \n",
      "1\n",
      "\n"
     ]
    },
    {
     "data": {
      "text/html": [
       "<div>\n",
       "<style scoped>\n",
       "    .dataframe tbody tr th:only-of-type {\n",
       "        vertical-align: middle;\n",
       "    }\n",
       "\n",
       "    .dataframe tbody tr th {\n",
       "        vertical-align: top;\n",
       "    }\n",
       "\n",
       "    .dataframe thead th {\n",
       "        text-align: right;\n",
       "    }\n",
       "</style>\n",
       "<table border=\"1\" class=\"dataframe\">\n",
       "  <thead>\n",
       "    <tr style=\"text-align: right;\">\n",
       "      <th></th>\n",
       "      <th>id</th>\n",
       "      <th>document</th>\n",
       "      <th>label</th>\n",
       "    </tr>\n",
       "  </thead>\n",
       "  <tbody>\n",
       "    <tr>\n",
       "      <th>0</th>\n",
       "      <td>9976970</td>\n",
       "      <td>아 더빙.. 진짜 짜증나네요 목소리</td>\n",
       "      <td>0</td>\n",
       "    </tr>\n",
       "    <tr>\n",
       "      <th>1</th>\n",
       "      <td>3819312</td>\n",
       "      <td>흠...포스터보고 초딩영화줄....오버연기조차 가볍지 않구나</td>\n",
       "      <td>1</td>\n",
       "    </tr>\n",
       "    <tr>\n",
       "      <th>2</th>\n",
       "      <td>10265843</td>\n",
       "      <td>너무재밓었다그래서보는것을추천한다</td>\n",
       "      <td>0</td>\n",
       "    </tr>\n",
       "    <tr>\n",
       "      <th>3</th>\n",
       "      <td>9045019</td>\n",
       "      <td>교도소 이야기구먼 ..솔직히 재미는 없다..평점 조정</td>\n",
       "      <td>0</td>\n",
       "    </tr>\n",
       "    <tr>\n",
       "      <th>4</th>\n",
       "      <td>6483659</td>\n",
       "      <td>사이몬페그의 익살스런 연기가 돋보였던 영화!스파이더맨에서 늙어보이기만 했던 커스틴 ...</td>\n",
       "      <td>1</td>\n",
       "    </tr>\n",
       "  </tbody>\n",
       "</table>\n",
       "</div>"
      ],
      "text/plain": [
       "         id                                           document  label\n",
       "0   9976970                                아 더빙.. 진짜 짜증나네요 목소리      0\n",
       "1   3819312                  흠...포스터보고 초딩영화줄....오버연기조차 가볍지 않구나      1\n",
       "2  10265843                                  너무재밓었다그래서보는것을추천한다      0\n",
       "3   9045019                      교도소 이야기구먼 ..솔직히 재미는 없다..평점 조정      0\n",
       "4   6483659  사이몬페그의 익살스런 연기가 돋보였던 영화!스파이더맨에서 늙어보이기만 했던 커스틴 ...      1"
      ]
     },
     "execution_count": 7,
     "metadata": {},
     "output_type": "execute_result"
    }
   ],
   "source": [
    "i = 0\n",
    "while i < 5:\n",
    "    print('{} 번째 X_train is \\n{}, \\ny_train is \\n{}\\n'.format(i, get_decoded_sentence(X_train[i], index_to_word), y_train[i]))\n",
    "    i += 1\n",
    "train_data[:5]"
   ]
  },
  {
   "cell_type": "code",
   "execution_count": 8,
   "id": "ab570e4f",
   "metadata": {},
   "outputs": [
    {
     "name": "stdout",
     "output_type": "stream",
     "text": [
      "0 번째 X_test is \n",
      "ㅋ, \n",
      "y_test is \n",
      "1\n",
      "\n",
      "1 번째 X_test is \n",
      ", \n",
      "y_test is \n",
      "0\n",
      "\n",
      "2 번째 X_test is \n",
      "야 평점 . ... 나쁘 진 않 지만 10 점 짜리 더더욱 아니 잖아, \n",
      "y_test is \n",
      "0\n",
      "\n",
      "3 번째 X_test is \n",
      "하 지 않 은데 완전 막장 임 . .. 돈 주 고 보 기 . ..., \n",
      "y_test is \n",
      "0\n",
      "\n",
      "4 번째 X_test is \n",
      "D 만 아니 었 어도 별 다섯 개 줬 을 텐데 . . 왜 3 D 로 나와서 제  불편 하 게 하 죠 ? ?, \n",
      "y_test is \n",
      "0\n",
      "\n"
     ]
    },
    {
     "data": {
      "text/html": [
       "<div>\n",
       "<style scoped>\n",
       "    .dataframe tbody tr th:only-of-type {\n",
       "        vertical-align: middle;\n",
       "    }\n",
       "\n",
       "    .dataframe tbody tr th {\n",
       "        vertical-align: top;\n",
       "    }\n",
       "\n",
       "    .dataframe thead th {\n",
       "        text-align: right;\n",
       "    }\n",
       "</style>\n",
       "<table border=\"1\" class=\"dataframe\">\n",
       "  <thead>\n",
       "    <tr style=\"text-align: right;\">\n",
       "      <th></th>\n",
       "      <th>id</th>\n",
       "      <th>document</th>\n",
       "      <th>label</th>\n",
       "    </tr>\n",
       "  </thead>\n",
       "  <tbody>\n",
       "    <tr>\n",
       "      <th>0</th>\n",
       "      <td>6270596</td>\n",
       "      <td>굳 ㅋ</td>\n",
       "      <td>1</td>\n",
       "    </tr>\n",
       "    <tr>\n",
       "      <th>1</th>\n",
       "      <td>9274899</td>\n",
       "      <td>GDNTOPCLASSINTHECLUB</td>\n",
       "      <td>0</td>\n",
       "    </tr>\n",
       "    <tr>\n",
       "      <th>2</th>\n",
       "      <td>8544678</td>\n",
       "      <td>뭐야 이 평점들은.... 나쁘진 않지만 10점 짜리는 더더욱 아니잖아</td>\n",
       "      <td>0</td>\n",
       "    </tr>\n",
       "    <tr>\n",
       "      <th>3</th>\n",
       "      <td>6825595</td>\n",
       "      <td>지루하지는 않은데 완전 막장임... 돈주고 보기에는....</td>\n",
       "      <td>0</td>\n",
       "    </tr>\n",
       "    <tr>\n",
       "      <th>4</th>\n",
       "      <td>6723715</td>\n",
       "      <td>3D만 아니었어도 별 다섯 개 줬을텐데.. 왜 3D로 나와서 제 심기를 불편하게 하죠??</td>\n",
       "      <td>0</td>\n",
       "    </tr>\n",
       "  </tbody>\n",
       "</table>\n",
       "</div>"
      ],
      "text/plain": [
       "        id                                           document  label\n",
       "0  6270596                                                굳 ㅋ      1\n",
       "1  9274899                               GDNTOPCLASSINTHECLUB      0\n",
       "2  8544678             뭐야 이 평점들은.... 나쁘진 않지만 10점 짜리는 더더욱 아니잖아      0\n",
       "3  6825595                   지루하지는 않은데 완전 막장임... 돈주고 보기에는....      0\n",
       "4  6723715  3D만 아니었어도 별 다섯 개 줬을텐데.. 왜 3D로 나와서 제 심기를 불편하게 하죠??      0"
      ]
     },
     "execution_count": 8,
     "metadata": {},
     "output_type": "execute_result"
    }
   ],
   "source": [
    "i = 0\n",
    "while i < 5:\n",
    "    print('{} 번째 X_test is \\n{}, \\ny_test is \\n{}\\n'.format(i, get_decoded_sentence(X_test[i], index_to_word), y_test[i]))\n",
    "    i += 1\n",
    "test_data[:5]"
   ]
  },
  {
   "cell_type": "markdown",
   "id": "550867d0",
   "metadata": {},
   "source": [
    "매핑이 제대로 되었는지 확인하는 과정에서 첫번째 단어와 stopwords에 해당하는 단어들을 자르면서 해석하기 어려운 문장들이 많이 생겼다. 나중에 이런 문장들도 빼거나 새롭게 토큰화, 전처리 하는 과정을 고려해야겠다."
   ]
  },
  {
   "cell_type": "markdown",
   "id": "46ad4c71",
   "metadata": {},
   "source": [
    "## 데이터 분석 및 가공\n",
    "- 데이터셋 내 문장 길이 분포 확인\n",
    "- 적절한 최대 문장 길이 지정\n",
    "- `keras.preprocessing.sequence.pad_sequences` 활용해서 패딩 추가"
   ]
  },
  {
   "cell_type": "code",
   "execution_count": 9,
   "id": "685492a7",
   "metadata": {},
   "outputs": [
    {
     "name": "stdout",
     "output_type": "stream",
     "text": [
      "문장길이 평균 :  15.96940191154864\n",
      "문장길이 최대 :  116\n",
      "문장길이 표준편차 :  12.843571191092\n",
      "pad_sequences maxlen :  41\n",
      "전체 문장의 0.9342988343341575%가 maxlen 설정값 이내에 포함됩니다. \n"
     ]
    }
   ],
   "source": [
    "# 텍스트데이터 문장길이의 리스트를 생성한 후\n",
    "total_data_text = list(X_train) + list(X_test)\n",
    "\n",
    "num_tokens = [len(tokens) for tokens in total_data_text]\n",
    "num_tokens = np.array(num_tokens)\n",
    "\n",
    "# 문장길이의 평균값, 최대값, 표준편차를 계산해 본다. \n",
    "print('문장길이 평균 : ', np.mean(num_tokens))\n",
    "print('문장길이 최대 : ', np.max(num_tokens))\n",
    "print('문장길이 표준편차 : ', np.std(num_tokens))\n",
    "\n",
    "# 최대 길이를 평균 + 2 * 표준편차로 진행한다\n",
    "max_tokens = np.mean(num_tokens) + 2 * np.std(num_tokens)\n",
    "maxlen = int(max_tokens)\n",
    "print('pad_sequences maxlen : ', maxlen)\n",
    "print('전체 문장의 {}%가 maxlen 설정값 이내에 포함됩니다. '.format(np.sum(num_tokens < max_tokens) / len(num_tokens)))"
   ]
  },
  {
   "cell_type": "markdown",
   "id": "d04b1ce6",
   "metadata": {},
   "source": [
    "maxlen을 기준으로 보다 짧은 문장들은 앞에 `<PAD>`를 padding 해준다."
   ]
  },
  {
   "cell_type": "code",
   "execution_count": 10,
   "id": "0627afbd",
   "metadata": {},
   "outputs": [
    {
     "name": "stdout",
     "output_type": "stream",
     "text": [
      "(146182, 41) (49157, 41)\n"
     ]
    }
   ],
   "source": [
    "X_train = tf.keras.preprocessing.sequence.pad_sequences(X_train,\n",
    "                                                       value=word_to_index['<PAD>'],\n",
    "                                                       padding='pre',\n",
    "                                                       maxlen=maxlen)\n",
    "\n",
    "X_test = tf.keras.preprocessing.sequence.pad_sequences(X_test,\n",
    "                                                       value=word_to_index['<PAD>'],\n",
    "                                                       padding='pre',\n",
    "                                                       maxlen=maxlen)\n",
    "\n",
    "print(X_train.shape, X_test.shape)"
   ]
  },
  {
   "cell_type": "markdown",
   "id": "622f327d",
   "metadata": {},
   "source": [
    "## 모델과 validation set 구성\n",
    "__3가지 이상 다양하게 구성해보기__"
   ]
  },
  {
   "cell_type": "code",
   "execution_count": 11,
   "id": "9b2d0b5a",
   "metadata": {},
   "outputs": [
    {
     "name": "stdout",
     "output_type": "stream",
     "text": [
      "Model: \"sequential\"\n",
      "_________________________________________________________________\n",
      "Layer (type)                 Output Shape              Param #   \n",
      "=================================================================\n",
      "embedding (Embedding)        (None, None, 16)          160000    \n",
      "_________________________________________________________________\n",
      "lstm (LSTM)                  (None, 8)                 800       \n",
      "_________________________________________________________________\n",
      "dense (Dense)                (None, 8)                 72        \n",
      "_________________________________________________________________\n",
      "dense_1 (Dense)              (None, 1)                 9         \n",
      "=================================================================\n",
      "Total params: 160,881\n",
      "Trainable params: 160,881\n",
      "Non-trainable params: 0\n",
      "_________________________________________________________________\n"
     ]
    }
   ],
   "source": [
    "# RNN 모델 설계\n",
    "vocab_size = 10000\n",
    "word_vector_dim = 16  # 단어 하나를 표현하는 임베딩 벡터의 차원수이다.\n",
    "\n",
    "model_RNN = tf.keras.Sequential()\n",
    "model_RNN.add(tf.keras.layers.Embedding(vocab_size, word_vector_dim, input_shape=(None,)))\n",
    "model_RNN.add(tf.keras.layers.LSTM(8))   # 가장 널리 쓰이는 RNN인 LSTM 레이어를 사용했다.\n",
    "model_RNN.add(tf.keras.layers.Dense(8, activation='relu'))\n",
    "model_RNN.add(tf.keras.layers.Dense(1, activation='sigmoid'))  # 최종 출력은 긍정/부정을 1dim이다.\n",
    "\n",
    "model_RNN.summary()"
   ]
  },
  {
   "cell_type": "code",
   "execution_count": 12,
   "id": "735a94d8",
   "metadata": {},
   "outputs": [
    {
     "name": "stdout",
     "output_type": "stream",
     "text": [
      "Model: \"sequential_1\"\n",
      "_________________________________________________________________\n",
      "Layer (type)                 Output Shape              Param #   \n",
      "=================================================================\n",
      "embedding_1 (Embedding)      (None, None, 16)          160000    \n",
      "_________________________________________________________________\n",
      "conv1d (Conv1D)              (None, None, 16)          1808      \n",
      "_________________________________________________________________\n",
      "max_pooling1d (MaxPooling1D) (None, None, 16)          0         \n",
      "_________________________________________________________________\n",
      "conv1d_1 (Conv1D)            (None, None, 16)          1808      \n",
      "_________________________________________________________________\n",
      "global_max_pooling1d (Global (None, 16)                0         \n",
      "_________________________________________________________________\n",
      "dense_2 (Dense)              (None, 8)                 136       \n",
      "_________________________________________________________________\n",
      "dense_3 (Dense)              (None, 1)                 9         \n",
      "=================================================================\n",
      "Total params: 163,761\n",
      "Trainable params: 163,761\n",
      "Non-trainable params: 0\n",
      "_________________________________________________________________\n"
     ]
    }
   ],
   "source": [
    "# CNN\n",
    "vocab_size = 10000\n",
    "word_vector_dim = 16  # 단어 하나를 표현하는 임베딩 벡터의 차원수이다.\n",
    "\n",
    "model_CNN = tf.keras.Sequential()\n",
    "model_CNN.add(tf.keras.layers.Embedding(vocab_size, word_vector_dim, input_shape=(None,)))\n",
    "model_CNN.add(tf.keras.layers.Conv1D(16, 7, activation='relu'))\n",
    "model_CNN.add(tf.keras.layers.MaxPooling1D(5))\n",
    "model_CNN.add(tf.keras.layers.Conv1D(16, 7, activation='relu'))\n",
    "model_CNN.add(tf.keras.layers.GlobalMaxPooling1D())\n",
    "model_CNN.add(tf.keras.layers.Dense(8, activation='relu'))\n",
    "model_CNN.add(tf.keras.layers.Dense(1, activation='sigmoid'))  # 최종 출력은 긍정/부정을 1dim이다.\n",
    "\n",
    "model_CNN.summary()"
   ]
  },
  {
   "cell_type": "code",
   "execution_count": 13,
   "id": "973f4dd4",
   "metadata": {},
   "outputs": [
    {
     "name": "stdout",
     "output_type": "stream",
     "text": [
      "Model: \"sequential_2\"\n",
      "_________________________________________________________________\n",
      "Layer (type)                 Output Shape              Param #   \n",
      "=================================================================\n",
      "embedding_2 (Embedding)      (None, None, 16)          160000    \n",
      "_________________________________________________________________\n",
      "global_max_pooling1d_1 (Glob (None, 16)                0         \n",
      "_________________________________________________________________\n",
      "dense_4 (Dense)              (None, 8)                 136       \n",
      "_________________________________________________________________\n",
      "dense_5 (Dense)              (None, 1)                 9         \n",
      "=================================================================\n",
      "Total params: 160,145\n",
      "Trainable params: 160,145\n",
      "Non-trainable params: 0\n",
      "_________________________________________________________________\n"
     ]
    }
   ],
   "source": [
    "# 하나의 GlobalMaxPooling\n",
    "# 문장중 중요한 단어만 피처로 추출하여 평가하는 방식\n",
    "vocab_size = 10000\n",
    "word_vector_dim = 16  # 단어 하나를 표현하는 임베딩 벡터의 차원수이다.\n",
    "\n",
    "model_GMP = tf.keras.Sequential()\n",
    "model_GMP.add(tf.keras.layers.Embedding(vocab_size, word_vector_dim, input_shape=(None,)))\n",
    "model_GMP.add(tf.keras.layers.GlobalMaxPooling1D())\n",
    "model_GMP.add(tf.keras.layers.Dense(8, activation='relu'))\n",
    "model_GMP.add(tf.keras.layers.Dense(1, activation='sigmoid'))  # 최종 출력은 긍정/부정을 1dim이다.\n",
    "\n",
    "model_GMP.summary()"
   ]
  },
  {
   "cell_type": "code",
   "execution_count": 14,
   "id": "44b81855",
   "metadata": {},
   "outputs": [],
   "source": [
    "from sklearn.model_selection import train_test_split\n",
    "\n",
    "train_input, train_target, test_input, test_target = train_test_split(X_train, y_train, test_size=0.2, random_state=5)"
   ]
  },
  {
   "cell_type": "markdown",
   "id": "2bde2d67",
   "metadata": {},
   "source": [
    "## 모델 훈련"
   ]
  },
  {
   "cell_type": "code",
   "execution_count": 15,
   "id": "ccec5a29",
   "metadata": {},
   "outputs": [
    {
     "name": "stdout",
     "output_type": "stream",
     "text": [
      "Epoch 1/20\n",
      "229/229 [==============================] - 5s 8ms/step - loss: 0.5090 - accuracy: 0.7692 - val_loss: 0.3795 - val_accuracy: 0.8373\n",
      "Epoch 2/20\n",
      "229/229 [==============================] - 1s 6ms/step - loss: 0.3448 - accuracy: 0.8556 - val_loss: 0.3576 - val_accuracy: 0.8430\n",
      "Epoch 3/20\n",
      "229/229 [==============================] - 1s 5ms/step - loss: 0.3188 - accuracy: 0.8679 - val_loss: 0.3606 - val_accuracy: 0.8435\n",
      "Epoch 4/20\n",
      "229/229 [==============================] - 1s 6ms/step - loss: 0.3044 - accuracy: 0.8742 - val_loss: 0.3546 - val_accuracy: 0.8450\n",
      "Epoch 5/20\n",
      "229/229 [==============================] - 1s 5ms/step - loss: 0.2945 - accuracy: 0.8787 - val_loss: 0.3572 - val_accuracy: 0.8465\n",
      "Epoch 6/20\n",
      "229/229 [==============================] - 1s 6ms/step - loss: 0.2858 - accuracy: 0.8819 - val_loss: 0.3552 - val_accuracy: 0.8462\n",
      "Epoch 7/20\n",
      "229/229 [==============================] - 1s 5ms/step - loss: 0.2768 - accuracy: 0.8848 - val_loss: 0.3575 - val_accuracy: 0.8456\n",
      "Epoch 8/20\n",
      "229/229 [==============================] - 1s 5ms/step - loss: 0.2676 - accuracy: 0.8889 - val_loss: 0.3634 - val_accuracy: 0.8465\n",
      "Epoch 9/20\n",
      "229/229 [==============================] - 1s 5ms/step - loss: 0.2584 - accuracy: 0.8916 - val_loss: 0.3899 - val_accuracy: 0.8454\n",
      "Epoch 10/20\n",
      "229/229 [==============================] - 1s 6ms/step - loss: 0.2496 - accuracy: 0.8952 - val_loss: 0.4015 - val_accuracy: 0.8462\n",
      "Epoch 11/20\n",
      "229/229 [==============================] - 1s 5ms/step - loss: 0.2417 - accuracy: 0.8974 - val_loss: 0.3963 - val_accuracy: 0.8455\n",
      "Epoch 12/20\n",
      "229/229 [==============================] - 1s 5ms/step - loss: 0.2335 - accuracy: 0.9008 - val_loss: 0.4247 - val_accuracy: 0.8451\n",
      "Epoch 13/20\n",
      "229/229 [==============================] - 1s 5ms/step - loss: 0.2263 - accuracy: 0.9040 - val_loss: 0.4146 - val_accuracy: 0.8447\n",
      "Epoch 14/20\n",
      "229/229 [==============================] - 1s 5ms/step - loss: 0.2189 - accuracy: 0.9078 - val_loss: 0.4296 - val_accuracy: 0.8446\n",
      "Epoch 15/20\n",
      "229/229 [==============================] - 1s 5ms/step - loss: 0.2142 - accuracy: 0.9091 - val_loss: 0.4581 - val_accuracy: 0.8438\n",
      "Epoch 16/20\n",
      "229/229 [==============================] - 1s 5ms/step - loss: 0.2063 - accuracy: 0.9121 - val_loss: 0.4664 - val_accuracy: 0.8436\n",
      "Epoch 17/20\n",
      "229/229 [==============================] - 1s 5ms/step - loss: 0.1999 - accuracy: 0.9154 - val_loss: 0.4868 - val_accuracy: 0.8430\n",
      "Epoch 18/20\n",
      "229/229 [==============================] - 1s 6ms/step - loss: 0.1949 - accuracy: 0.9170 - val_loss: 0.4692 - val_accuracy: 0.8413\n",
      "Epoch 19/20\n",
      "229/229 [==============================] - 1s 5ms/step - loss: 0.1891 - accuracy: 0.9200 - val_loss: 0.5160 - val_accuracy: 0.8417\n",
      "Epoch 20/20\n",
      "229/229 [==============================] - 1s 5ms/step - loss: 0.1850 - accuracy: 0.9221 - val_loss: 0.5244 - val_accuracy: 0.8427\n"
     ]
    }
   ],
   "source": [
    "model_RNN.compile(optimizer='adam',\n",
    "              loss='binary_crossentropy',\n",
    "              metrics=['accuracy'])\n",
    "              \n",
    "epochs=20\n",
    "\n",
    "history_RNN = model_RNN.fit(train_input,\n",
    "                    test_input,\n",
    "                    epochs=epochs,\n",
    "                    batch_size=512,\n",
    "                    validation_data=(train_target, test_target),\n",
    "                    verbose=1)"
   ]
  },
  {
   "cell_type": "code",
   "execution_count": 16,
   "id": "31718e0e",
   "metadata": {},
   "outputs": [
    {
     "name": "stdout",
     "output_type": "stream",
     "text": [
      "1537/1537 - 3s - loss: 0.5058 - accuracy: 0.8417\n",
      "[0.5058302879333496, 0.8416502475738525]\n"
     ]
    }
   ],
   "source": [
    "results_RNN = model_RNN.evaluate(X_test, y_test, verbose=2)\n",
    "\n",
    "print(results_RNN)"
   ]
  },
  {
   "cell_type": "code",
   "execution_count": 17,
   "id": "14716000",
   "metadata": {},
   "outputs": [
    {
     "name": "stdout",
     "output_type": "stream",
     "text": [
      "Epoch 1/20\n",
      "229/229 [==============================] - 3s 6ms/step - loss: 0.5464 - accuracy: 0.7226 - val_loss: 0.3801 - val_accuracy: 0.8336\n",
      "Epoch 2/20\n",
      "229/229 [==============================] - 1s 5ms/step - loss: 0.3353 - accuracy: 0.8575 - val_loss: 0.3513 - val_accuracy: 0.8478\n",
      "Epoch 3/20\n",
      "229/229 [==============================] - 1s 5ms/step - loss: 0.2966 - accuracy: 0.8772 - val_loss: 0.3481 - val_accuracy: 0.8509\n",
      "Epoch 4/20\n",
      "229/229 [==============================] - 1s 5ms/step - loss: 0.2689 - accuracy: 0.8905 - val_loss: 0.3524 - val_accuracy: 0.8504\n",
      "Epoch 5/20\n",
      "229/229 [==============================] - 1s 5ms/step - loss: 0.2405 - accuracy: 0.9038 - val_loss: 0.3635 - val_accuracy: 0.8509\n",
      "Epoch 6/20\n",
      "229/229 [==============================] - 1s 5ms/step - loss: 0.2112 - accuracy: 0.9183 - val_loss: 0.3857 - val_accuracy: 0.8491\n",
      "Epoch 7/20\n",
      "229/229 [==============================] - 1s 5ms/step - loss: 0.1813 - accuracy: 0.9322 - val_loss: 0.4168 - val_accuracy: 0.8441\n",
      "Epoch 8/20\n",
      "229/229 [==============================] - 1s 5ms/step - loss: 0.1529 - accuracy: 0.9454 - val_loss: 0.4531 - val_accuracy: 0.8403\n",
      "Epoch 9/20\n",
      "229/229 [==============================] - 1s 5ms/step - loss: 0.1286 - accuracy: 0.9560 - val_loss: 0.5061 - val_accuracy: 0.8382\n",
      "Epoch 10/20\n",
      "229/229 [==============================] - 1s 5ms/step - loss: 0.1091 - accuracy: 0.9635 - val_loss: 0.5439 - val_accuracy: 0.8344\n",
      "Epoch 11/20\n",
      "229/229 [==============================] - 1s 5ms/step - loss: 0.0920 - accuracy: 0.9703 - val_loss: 0.5939 - val_accuracy: 0.8322\n",
      "Epoch 12/20\n",
      "229/229 [==============================] - 1s 5ms/step - loss: 0.0791 - accuracy: 0.9753 - val_loss: 0.6513 - val_accuracy: 0.8305\n",
      "Epoch 13/20\n",
      "229/229 [==============================] - 1s 5ms/step - loss: 0.0687 - accuracy: 0.9797 - val_loss: 0.6953 - val_accuracy: 0.8292\n",
      "Epoch 14/20\n",
      "229/229 [==============================] - 1s 5ms/step - loss: 0.0603 - accuracy: 0.9827 - val_loss: 0.7496 - val_accuracy: 0.8258\n",
      "Epoch 15/20\n",
      "229/229 [==============================] - 1s 5ms/step - loss: 0.0539 - accuracy: 0.9847 - val_loss: 0.8127 - val_accuracy: 0.8240\n",
      "Epoch 16/20\n",
      "229/229 [==============================] - 1s 5ms/step - loss: 0.0506 - accuracy: 0.9857 - val_loss: 0.8392 - val_accuracy: 0.8239\n",
      "Epoch 17/20\n",
      "229/229 [==============================] - 1s 5ms/step - loss: 0.0472 - accuracy: 0.9866 - val_loss: 0.9380 - val_accuracy: 0.8210\n",
      "Epoch 18/20\n",
      "229/229 [==============================] - 1s 5ms/step - loss: 0.0441 - accuracy: 0.9878 - val_loss: 0.9498 - val_accuracy: 0.8206\n",
      "Epoch 19/20\n",
      "229/229 [==============================] - 1s 5ms/step - loss: 0.0410 - accuracy: 0.9888 - val_loss: 0.9712 - val_accuracy: 0.8186\n",
      "Epoch 20/20\n",
      "229/229 [==============================] - 1s 5ms/step - loss: 0.0395 - accuracy: 0.9891 - val_loss: 0.9902 - val_accuracy: 0.8217\n"
     ]
    }
   ],
   "source": [
    "model_CNN.compile(optimizer='adam',\n",
    "              loss='binary_crossentropy',\n",
    "              metrics=['accuracy'])\n",
    "              \n",
    "epochs=20\n",
    "\n",
    "history_CNN = model_CNN.fit(train_input,\n",
    "                    test_input,\n",
    "                    epochs=epochs,\n",
    "                    batch_size=512,\n",
    "                    validation_data=(train_target, test_target),\n",
    "                    verbose=1)"
   ]
  },
  {
   "cell_type": "code",
   "execution_count": 18,
   "id": "771d10de",
   "metadata": {},
   "outputs": [
    {
     "name": "stdout",
     "output_type": "stream",
     "text": [
      "1537/1537 - 2s - loss: 0.9688 - accuracy: 0.8213\n",
      "[0.9687602519989014, 0.8213072419166565]\n"
     ]
    }
   ],
   "source": [
    "results_CNN = model_CNN.evaluate(X_test, y_test, verbose=2)\n",
    "\n",
    "print(results_CNN)"
   ]
  },
  {
   "cell_type": "code",
   "execution_count": 19,
   "id": "507741b3",
   "metadata": {},
   "outputs": [
    {
     "name": "stdout",
     "output_type": "stream",
     "text": [
      "Epoch 1/20\n",
      "229/229 [==============================] - 1s 4ms/step - loss: 0.5763 - accuracy: 0.7549 - val_loss: 0.4293 - val_accuracy: 0.8152\n",
      "Epoch 2/20\n",
      "229/229 [==============================] - 1s 3ms/step - loss: 0.3725 - accuracy: 0.8413 - val_loss: 0.3716 - val_accuracy: 0.8354\n",
      "Epoch 3/20\n",
      "229/229 [==============================] - 1s 3ms/step - loss: 0.3237 - accuracy: 0.8619 - val_loss: 0.3641 - val_accuracy: 0.8411\n",
      "Epoch 4/20\n",
      "229/229 [==============================] - 1s 3ms/step - loss: 0.2969 - accuracy: 0.8758 - val_loss: 0.3656 - val_accuracy: 0.8412\n",
      "Epoch 5/20\n",
      "229/229 [==============================] - 1s 3ms/step - loss: 0.2773 - accuracy: 0.8848 - val_loss: 0.3701 - val_accuracy: 0.8414\n",
      "Epoch 6/20\n",
      "229/229 [==============================] - 1s 3ms/step - loss: 0.2611 - accuracy: 0.8938 - val_loss: 0.3779 - val_accuracy: 0.8414\n",
      "Epoch 7/20\n",
      "229/229 [==============================] - 1s 4ms/step - loss: 0.2474 - accuracy: 0.9001 - val_loss: 0.3871 - val_accuracy: 0.8396\n",
      "Epoch 8/20\n",
      "229/229 [==============================] - 1s 3ms/step - loss: 0.2354 - accuracy: 0.9062 - val_loss: 0.3973 - val_accuracy: 0.8384\n",
      "Epoch 9/20\n",
      "229/229 [==============================] - 1s 3ms/step - loss: 0.2248 - accuracy: 0.9112 - val_loss: 0.4072 - val_accuracy: 0.8373\n",
      "Epoch 10/20\n",
      "229/229 [==============================] - 1s 4ms/step - loss: 0.2154 - accuracy: 0.9160 - val_loss: 0.4195 - val_accuracy: 0.8360\n",
      "Epoch 11/20\n",
      "229/229 [==============================] - 1s 3ms/step - loss: 0.2066 - accuracy: 0.9199 - val_loss: 0.4304 - val_accuracy: 0.8345\n",
      "Epoch 12/20\n",
      "229/229 [==============================] - 1s 3ms/step - loss: 0.1983 - accuracy: 0.9236 - val_loss: 0.4449 - val_accuracy: 0.8326\n",
      "Epoch 13/20\n",
      "229/229 [==============================] - 1s 3ms/step - loss: 0.1910 - accuracy: 0.9270 - val_loss: 0.4564 - val_accuracy: 0.8316\n",
      "Epoch 14/20\n",
      "229/229 [==============================] - 1s 3ms/step - loss: 0.1846 - accuracy: 0.9302 - val_loss: 0.4681 - val_accuracy: 0.8309\n",
      "Epoch 15/20\n",
      "229/229 [==============================] - 1s 3ms/step - loss: 0.1781 - accuracy: 0.9340 - val_loss: 0.4816 - val_accuracy: 0.8283\n",
      "Epoch 16/20\n",
      "229/229 [==============================] - 1s 4ms/step - loss: 0.1724 - accuracy: 0.9361 - val_loss: 0.4946 - val_accuracy: 0.8291\n",
      "Epoch 17/20\n",
      "229/229 [==============================] - 1s 3ms/step - loss: 0.1671 - accuracy: 0.9384 - val_loss: 0.5082 - val_accuracy: 0.8260\n",
      "Epoch 18/20\n",
      "229/229 [==============================] - 1s 3ms/step - loss: 0.1623 - accuracy: 0.9402 - val_loss: 0.5193 - val_accuracy: 0.8244\n",
      "Epoch 19/20\n",
      "229/229 [==============================] - 1s 3ms/step - loss: 0.1575 - accuracy: 0.9424 - val_loss: 0.5336 - val_accuracy: 0.8233\n",
      "Epoch 20/20\n",
      "229/229 [==============================] - 1s 4ms/step - loss: 0.1536 - accuracy: 0.9439 - val_loss: 0.5447 - val_accuracy: 0.8229\n"
     ]
    }
   ],
   "source": [
    "model_GMP.compile(optimizer='adam',\n",
    "              loss='binary_crossentropy',\n",
    "              metrics=['accuracy'])\n",
    "              \n",
    "epochs=20\n",
    "\n",
    "history_GMP = model_GMP.fit(train_input,\n",
    "                    test_input,\n",
    "                    epochs=epochs,\n",
    "                    batch_size=512,\n",
    "                    validation_data=(train_target, test_target),\n",
    "                    verbose=1)"
   ]
  },
  {
   "cell_type": "code",
   "execution_count": 20,
   "id": "7cdef461",
   "metadata": {},
   "outputs": [
    {
     "name": "stdout",
     "output_type": "stream",
     "text": [
      "1537/1537 - 2s - loss: 0.5321 - accuracy: 0.8245\n",
      "[0.5321441888809204, 0.8245417475700378]\n"
     ]
    }
   ],
   "source": [
    "results_GMP = model_GMP.evaluate(X_test, y_test, verbose=2)\n",
    "\n",
    "print(results_GMP)"
   ]
  },
  {
   "cell_type": "code",
   "execution_count": 21,
   "id": "2d57e715",
   "metadata": {},
   "outputs": [
    {
     "name": "stdout",
     "output_type": "stream",
     "text": [
      "dict_keys(['loss', 'accuracy', 'val_loss', 'val_accuracy'])\n",
      "dict_keys(['loss', 'accuracy', 'val_loss', 'val_accuracy'])\n",
      "dict_keys(['loss', 'accuracy', 'val_loss', 'val_accuracy'])\n"
     ]
    }
   ],
   "source": [
    "print(history_RNN.history.keys())\n",
    "print(history_CNN.history.keys())\n",
    "print(history_GMP.history.keys())"
   ]
  },
  {
   "cell_type": "markdown",
   "id": "8d4f0b77",
   "metadata": {},
   "source": [
    "## Loss, Accuracy 결과 시각화"
   ]
  },
  {
   "cell_type": "code",
   "execution_count": 22,
   "id": "df34c3fb",
   "metadata": {},
   "outputs": [],
   "source": [
    "def plot_result(history_model):\n",
    "    h = history_model\n",
    "    plt.subplot(2, 1, 1)\n",
    "    plt.plot(h.history['loss'])\n",
    "    plt.plot(h.history['val_loss'])\n",
    "\n",
    "    plt.xlabel('epoch')\n",
    "    plt.ylabel('loss')\n",
    "    plt.legend(['train', 'val'])\n",
    "\n",
    "    plt.subplot(2, 1, 2)\n",
    "    plt.plot(h.history['accuracy'])\n",
    "    plt.plot(h.history['val_accuracy'])\n",
    "\n",
    "    plt.xlabel('epoch')\n",
    "    plt.ylabel('accuracy')\n",
    "    plt.legend(['train', 'val'])\n",
    "\n",
    "    plt.show()"
   ]
  },
  {
   "cell_type": "code",
   "execution_count": 23,
   "id": "1de7ac65",
   "metadata": {},
   "outputs": [
    {
     "data": {
      "image/png": "[encoded data removed]",
      "text/plain": [
       "<Figure size 432x288 with 2 Axes>"
      ]
     },
     "metadata": {
      "needs_background": "light"
     },
     "output_type": "display_data"
    }
   ],
   "source": [
    "plot_result(history_RNN)"
   ]
  },
  {
   "cell_type": "code",
   "execution_count": 24,
   "id": "4323539a",
   "metadata": {},
   "outputs": [
    {
     "data": {
      "image/png": "[encoded data removed]",
      "text/plain": [
       "<Figure size 432x288 with 2 Axes>"
      ]
     },
     "metadata": {
      "needs_background": "light"
     },
     "output_type": "display_data"
    }
   ],
   "source": [
    "plot_result(history_CNN)"
   ]
  },
  {
   "cell_type": "code",
   "execution_count": 25,
   "id": "3cb112ed",
   "metadata": {},
   "outputs": [
    {
     "data": {
      "image/png": "[encoded data removed]",
      "text/plain": [
       "<Figure size 432x288 with 2 Axes>"
      ]
     },
     "metadata": {
      "needs_background": "light"
     },
     "output_type": "display_data"
    }
   ],
   "source": [
    "plot_result(history_GMP)"
   ]
  },
  {
   "cell_type": "markdown",
   "id": "35d60a5a",
   "metadata": {},
   "source": [
    "세 모델 다 1~2 에포크만에 loss값이 올라간다. 오버피팅이 심하게 되어있다. dropout같은 규제 레이어를 추가해서 오버피팅을 막는게 좋아보인다."
   ]
  },
  {
   "cell_type": "markdown",
   "id": "9249bce7",
   "metadata": {},
   "source": [
    "## Embedding 레이어 분석\n",
    "accuracy가 가장 높은 `model_RNN` 레이어를 분석해보자"
   ]
  },
  {
   "cell_type": "code",
   "execution_count": 26,
   "id": "4c54f92a",
   "metadata": {},
   "outputs": [
    {
     "name": "stdout",
     "output_type": "stream",
     "text": [
      "(10000, 16)\n"
     ]
    }
   ],
   "source": [
    "embedding_layer = model_RNN.layers[0]\n",
    "weights = embedding_layer.get_weights()[0]\n",
    "print(weights.shape)    # shape: (vocab_size, embedding_dim)"
   ]
  },
  {
   "cell_type": "code",
   "execution_count": 27,
   "id": "99bde276",
   "metadata": {},
   "outputs": [],
   "source": [
    "# 학습한 Embedding 파라미터를 파일에 저장 \n",
    "word2vec_file_path = os.getenv('HOME')+'/aiffel/sentiment_classification/data/word2vec_ex.txt'\n",
    "f = open(word2vec_file_path, 'w')\n",
    "f.write('{} {}\\n'.format(vocab_size-4, word_vector_dim))  # 몇개의 벡터를 얼마 사이즈로 기재할지 타이틀을 씁니다.\n",
    "\n",
    "# 단어 개수(에서 특수문자 4개는 제외하고)만큼의 워드 벡터를 파일에 기록한다 \n",
    "vectors = model_RNN.get_weights()[0]\n",
    "for i in range(4,vocab_size):\n",
    "    f.write('{} {}\\n'.format(index_to_word[i], ' '.join(map(str, list(vectors[i, :])))))\n",
    "f.close()"
   ]
  },
  {
   "cell_type": "code",
   "execution_count": 28,
   "id": "7689d57a",
   "metadata": {},
   "outputs": [
    {
     "data": {
      "text/plain": [
       "array([ 0.29975075, -0.23446909,  0.03349094,  0.14570643,  0.04382025,\n",
       "        0.11682716, -0.13700877, -0.1186693 ,  0.14202648, -0.04267547,\n",
       "        0.02351303,  0.0129877 ,  0.28356996,  0.05788055,  0.24863358,\n",
       "        0.04961135], dtype=float32)"
      ]
     },
     "execution_count": 28,
     "metadata": {},
     "output_type": "execute_result"
    }
   ],
   "source": [
    "from gensim.models.keyedvectors import Word2VecKeyedVectors\n",
    "\n",
    "word_vectors = Word2VecKeyedVectors.load_word2vec_format(word2vec_file_path, binary=False)\n",
    "vector = word_vectors['행복']\n",
    "vector"
   ]
  },
  {
   "cell_type": "markdown",
   "id": "4d1bc8e0",
   "metadata": {},
   "source": [
    "'행복'이라는 단어가 백터로 저장되어 있음을 볼 수 있다."
   ]
  },
  {
   "cell_type": "code",
   "execution_count": 29,
   "id": "6d33d86b",
   "metadata": {},
   "outputs": [
    {
     "data": {
      "text/plain": [
       "[('롤', 0.9682767391204834),\n",
       " ('내린', 0.9663150310516357),\n",
       " ('달콤', 0.9651921987533569),\n",
       " ('클래식', 0.9608426094055176),\n",
       " ('충이', 0.9606127738952637),\n",
       " ('잊', 0.9599027633666992),\n",
       " ('조디포스터', 0.9512983560562134),\n",
       " ('굳', 0.950629472732544),\n",
       " ('명언', 0.9503839015960693),\n",
       " ('일요일', 0.9470185041427612)]"
      ]
     },
     "execution_count": 29,
     "metadata": {},
     "output_type": "execute_result"
    }
   ],
   "source": [
    "word_vectors.similar_by_word('행복')"
   ]
  },
  {
   "cell_type": "markdown",
   "id": "0f9ec6b5",
   "metadata": {},
   "source": [
    "'행복' 단어와 similar한 결과값을 가진 근처 벡터들을 보여주는 함수다. 그런데 결과가 연관성이 없다. 그래서 한국어가 많이 임베딩된 Word2Vec을 가져와서 테스트해보자."
   ]
  },
  {
   "cell_type": "markdown",
   "id": "67eb67df",
   "metadata": {},
   "source": [
    "## 한국어 Word2Vec 임베딩 활용해서 성능 개선해보기\n",
    "[Pre-trained word vectors of 30+ languages](https://github.com/Kyubyong/wordvectors)   \n",
    "`ko.bin` 이용하기, `gensim` 버전을 3.x.x으로 낮춰야 오류 발생하지 않음"
   ]
  },
  {
   "cell_type": "code",
   "execution_count": 30,
   "id": "84baa5cd",
   "metadata": {},
   "outputs": [
    {
     "name": "stdout",
     "output_type": "stream",
     "text": [
      "gensim                        3.8.1\r\n"
     ]
    }
   ],
   "source": [
    "!pip list | grep gensim"
   ]
  },
  {
   "cell_type": "code",
   "execution_count": 31,
   "id": "21746a4b",
   "metadata": {},
   "outputs": [
    {
     "name": "stdout",
     "output_type": "stream",
     "text": [
      "Requirement already satisfied: gensim==3.8.1 in /opt/conda/lib/python3.9/site-packages (3.8.1)\n",
      "Requirement already satisfied: smart-open>=1.8.1 in /opt/conda/lib/python3.9/site-packages (from gensim==3.8.1) (5.2.1)\n",
      "Requirement already satisfied: scipy>=0.18.1 in /opt/conda/lib/python3.9/site-packages (from gensim==3.8.1) (1.7.1)\n",
      "Requirement already satisfied: six>=1.5.0 in /opt/conda/lib/python3.9/site-packages (from gensim==3.8.1) (1.16.0)\n",
      "Requirement already satisfied: numpy>=1.11.3 in /opt/conda/lib/python3.9/site-packages (from gensim==3.8.1) (1.21.4)\n",
      "\u001b[33mWARNING: Running pip as the 'root' user can result in broken permissions and conflicting behaviour with the system package manager. It is recommended to use a virtual environment instead: https://pip.pypa.io/warnings/venv\u001b[0m\n"
     ]
    }
   ],
   "source": [
    "!pip install --upgrade gensim==3.8.1"
   ]
  },
  {
   "cell_type": "code",
   "execution_count": 32,
   "id": "552b472e",
   "metadata": {},
   "outputs": [
    {
     "name": "stdout",
     "output_type": "stream",
     "text": [
      "gensim                        3.8.1\r\n"
     ]
    }
   ],
   "source": [
    "!pip list | grep gensim"
   ]
  },
  {
   "cell_type": "code",
   "execution_count": 33,
   "id": "d3c9dd77",
   "metadata": {},
   "outputs": [],
   "source": [
    "import gensim"
   ]
  },
  {
   "cell_type": "code",
   "execution_count": 34,
   "id": "c2f80cf1",
   "metadata": {},
   "outputs": [
    {
     "name": "stderr",
     "output_type": "stream",
     "text": [
      "/tmp/ipykernel_1222/2872938653.py:4: DeprecationWarning: Call to deprecated `__getitem__` (Method will be removed in 4.0.0, use self.wv.__getitem__() instead).\n",
      "  vector = word2vec['행복']\n"
     ]
    },
    {
     "data": {
      "text/plain": [
       "array([-9.37647521e-01,  3.84321630e-01,  2.66711020e+00, -4.90441829e-01,\n",
       "       -1.87378454e+00,  7.46136725e-01,  2.06848055e-01,  1.17018402e+00,\n",
       "        1.76071718e-01,  3.52754295e-01,  3.27339917e-01,  6.24713361e-01,\n",
       "        4.98253882e-01, -2.54079252e-01,  1.86370641e-01,  5.02261400e-01,\n",
       "        5.70066161e-02,  1.03963447e+00,  4.08005528e-02,  8.49552810e-01,\n",
       "       -1.51971027e-01,  1.52919903e-01,  4.23378617e-01,  1.98788300e-01,\n",
       "        1.94235623e+00, -2.86525309e-01,  4.72732335e-01, -2.14849854e+00,\n",
       "       -1.26080573e+00, -1.48370254e+00, -7.26968274e-02, -5.65377235e-01,\n",
       "       -1.09561288e+00, -8.93630147e-01,  8.22069585e-01, -4.43008691e-01,\n",
       "        6.42822444e-01, -1.16659820e+00,  1.46968305e+00,  3.69109273e+00,\n",
       "       -3.84803802e-01,  1.05108881e+00,  2.13611469e-01, -1.45143092e+00,\n",
       "        5.02505243e-01,  7.05544576e-02,  1.83592427e+00, -6.79975271e-01,\n",
       "        3.81043881e-01,  2.86220014e-01, -3.55438769e-01,  4.01191115e-02,\n",
       "       -2.18128219e-01,  3.57237577e-01, -1.05672097e+00, -8.56383026e-01,\n",
       "        5.01443893e-02, -2.10841298e+00, -6.82635069e-01,  1.37372768e+00,\n",
       "        1.74011505e+00,  1.65592742e+00,  7.43449867e-01,  4.73941445e-01,\n",
       "       -2.09605321e-01,  5.07387042e-01, -2.66904473e-01,  2.30762553e+00,\n",
       "        9.43911314e-01, -1.79484308e-01, -4.74636853e-01,  7.43123651e-01,\n",
       "       -9.69141006e-01,  1.07185638e+00,  3.04059267e-01, -1.41069520e+00,\n",
       "        1.43436384e+00, -2.18488291e-01,  6.40276611e-01, -3.76534551e-01,\n",
       "       -6.39843464e-01, -2.19815850e+00,  8.00515041e-02,  2.39617094e-01,\n",
       "       -1.59744668e+00, -8.24819148e-01, -7.78260410e-01, -6.11576736e-01,\n",
       "       -1.71091521e+00, -7.09024251e-01, -7.56663457e-02, -2.93283558e+00,\n",
       "        1.12008333e+00, -8.73616338e-01, -7.98623204e-01,  1.20740056e+00,\n",
       "       -1.33505988e+00, -5.31908154e-01,  7.32603371e-01, -2.94772536e-01,\n",
       "       -7.41957307e-01,  2.66695172e-01, -2.54117668e-01, -3.16498488e-01,\n",
       "       -2.53271103e+00,  1.23276532e+00, -4.65467095e-01,  1.95745409e-01,\n",
       "       -3.06052828e+00, -1.72411609e+00, -8.69291723e-02, -1.01631391e+00,\n",
       "        1.35540202e-01, -4.10389930e-01,  5.17696977e-01, -9.21352744e-01,\n",
       "       -1.43972948e-01,  7.12622166e-01, -4.84758556e-01, -7.36877918e-01,\n",
       "        1.28522015e+00,  5.96004665e-01, -6.96237683e-01, -2.06515026e+00,\n",
       "        2.99054921e-01,  2.57981348e+00,  1.24758929e-01, -1.16612986e-01,\n",
       "        1.17532516e+00,  6.59984529e-01,  8.64598632e-01, -9.77743983e-01,\n",
       "        1.24154842e+00,  1.51769269e+00,  1.87096596e+00, -1.69182909e+00,\n",
       "        3.77366602e-01, -3.15761328e-01,  1.07878089e+00, -8.38944614e-01,\n",
       "        1.57406020e+00,  1.26247287e+00,  1.60818672e+00,  4.89655405e-01,\n",
       "       -9.56196666e-01, -1.16354994e-01, -1.04483902e+00, -1.01968300e+00,\n",
       "        4.62032884e-01,  2.91770607e-01, -1.56372988e+00, -2.25391793e+00,\n",
       "       -1.67305291e+00,  6.22754216e-01, -4.63402152e-01, -1.44247961e+00,\n",
       "        7.61960328e-01,  1.52420437e+00, -1.10674810e+00,  1.06103754e+00,\n",
       "        1.15935969e+00, -6.28344715e-02, -6.44562304e-01, -1.30466968e-01,\n",
       "        7.17003405e-01, -9.34351981e-01,  1.57684311e-01,  1.39414191e+00,\n",
       "       -1.55128384e+00,  1.29093862e+00, -1.00338387e+00, -3.34369874e+00,\n",
       "        9.63430882e-01,  3.26154470e-01, -3.66838351e-02, -1.54386711e+00,\n",
       "        6.11291051e-01, -3.62257898e-01,  1.09795833e+00,  1.64526093e+00,\n",
       "        2.73817778e-03, -3.38081606e-02,  1.24219441e+00, -2.27695346e+00,\n",
       "       -5.41662872e-01, -2.55753994e-01,  8.37883353e-01,  5.52775204e-01,\n",
       "        4.60804224e-01,  5.69246531e-01,  6.04159832e-01,  2.69762248e-01,\n",
       "        5.95691264e-01, -1.32518134e-03,  6.06130838e-01, -5.87025225e-01,\n",
       "        7.52696276e-01, -9.91011381e-01,  7.38178864e-02, -4.04879102e-04],\n",
       "      dtype=float32)"
      ]
     },
     "execution_count": 34,
     "metadata": {},
     "output_type": "execute_result"
    }
   ],
   "source": [
    "word2vec_path = os.getenv('HOME')+'/aiffel/sentiment_classification/data/ko.bin'\n",
    "word2vec = gensim.models.Word2Vec.load(word2vec_path)\n",
    "# word2vec = KeyedVectors.load_word2vec_format(word2vec_path, binary=True, limit=1000000)\n",
    "vector = word2vec['행복']\n",
    "vector"
   ]
  },
  {
   "cell_type": "code",
   "execution_count": 35,
   "id": "7c00e417",
   "metadata": {},
   "outputs": [
    {
     "name": "stderr",
     "output_type": "stream",
     "text": [
      "/tmp/ipykernel_1222/898241355.py:1: DeprecationWarning: Call to deprecated `similar_by_word` (Method will be removed in 4.0.0, use self.wv.similar_by_word() instead).\n",
      "  word2vec.similar_by_word(\"행복\")\n"
     ]
    },
    {
     "data": {
      "text/plain": [
       "[('사랑', 0.6759077310562134),\n",
       " ('기쁨', 0.6493781805038452),\n",
       " ('즐거움', 0.6396492719650269),\n",
       " ('삶', 0.6299898028373718),\n",
       " ('젊음', 0.6187379360198975),\n",
       " ('즐겁', 0.6027448177337646),\n",
       " ('인생', 0.6002243161201477),\n",
       " ('존엄', 0.5952589511871338),\n",
       " ('고독', 0.5938762426376343),\n",
       " ('불행', 0.5894461870193481)]"
      ]
     },
     "execution_count": 35,
     "metadata": {},
     "output_type": "execute_result"
    }
   ],
   "source": [
    "word2vec.similar_by_word(\"행복\")"
   ]
  },
  {
   "cell_type": "markdown",
   "id": "1c07723d",
   "metadata": {},
   "source": [
    "similar한 데이터들만 나와서 단어 데이터셋의 가공 및 학습의 중요성을 다시 한번 느꼈다."
   ]
  },
  {
   "cell_type": "code",
   "execution_count": 36,
   "id": "d4d40ef2",
   "metadata": {},
   "outputs": [
    {
     "data": {
      "text/plain": [
       "(200,)"
      ]
     },
     "execution_count": 36,
     "metadata": {},
     "output_type": "execute_result"
    }
   ],
   "source": [
    "vector.shape"
   ]
  },
  {
   "cell_type": "code",
   "execution_count": 37,
   "id": "2656c3a5",
   "metadata": {},
   "outputs": [
    {
     "name": "stderr",
     "output_type": "stream",
     "text": [
      "/tmp/ipykernel_1222/330436182.py:7: DeprecationWarning: Call to deprecated `__contains__` (Method will be removed in 4.0.0, use self.wv.__contains__() instead).\n",
      "  if index_to_word[i] in word2vec:\n",
      "/tmp/ipykernel_1222/330436182.py:8: DeprecationWarning: Call to deprecated `__getitem__` (Method will be removed in 4.0.0, use self.wv.__getitem__() instead).\n",
      "  embedding_matrix[i] = word2vec[index_to_word[i]]\n"
     ]
    }
   ],
   "source": [
    "vocab_size = 10000    # 어휘 사전 크기\n",
    "word_vector_dim = 200  # 워드 벡터의 차원수\n",
    "embedding_matrix = np.random.rand(vocab_size, word_vector_dim)\n",
    "\n",
    "# embedding_matrix에 Word2Vec 워드 벡터를 단어 하나씩마다 차례차례 카피한다.\n",
    "for i in range(4,vocab_size):\n",
    "    if index_to_word[i] in word2vec:\n",
    "        embedding_matrix[i] = word2vec[index_to_word[i]]"
   ]
  },
  {
   "cell_type": "code",
   "execution_count": 38,
   "id": "a1c3ab02",
   "metadata": {},
   "outputs": [
    {
     "data": {
      "text/plain": [
       "(10000, 200)"
      ]
     },
     "execution_count": 38,
     "metadata": {},
     "output_type": "execute_result"
    }
   ],
   "source": [
    "embedding_matrix.shape"
   ]
  },
  {
   "cell_type": "markdown",
   "id": "507a4f4c",
   "metadata": {},
   "source": [
    "# 새로운 임베딩 데이터로 모델 학습 및 결과\n",
    "\n",
    "임베딩의 차이를 보기 위해 레이어를 전에 진행했던 `model_RNN`, `model_CNN`, `model_GMP`와 동일하게 구성해서 학습해보고 결과를 봐보자"
   ]
  },
  {
   "cell_type": "code",
   "execution_count": 39,
   "id": "e5e0409b",
   "metadata": {},
   "outputs": [],
   "source": [
    "from tensorflow.keras.initializers import Constant\n",
    "\n",
    "\n",
    "vocab_size = 10000\n",
    "word_vector_dim = 200  # 단어 하나를 표현하는 임베딩 벡터의 차원수이다."
   ]
  },
  {
   "cell_type": "code",
   "execution_count": 40,
   "id": "534fde91",
   "metadata": {},
   "outputs": [
    {
     "name": "stdout",
     "output_type": "stream",
     "text": [
      "Model: \"sequential_3\"\n",
      "_________________________________________________________________\n",
      "Layer (type)                 Output Shape              Param #   \n",
      "=================================================================\n",
      "embedding_3 (Embedding)      (None, 41, 200)           2000000   \n",
      "_________________________________________________________________\n",
      "lstm_1 (LSTM)                (None, 8)                 6688      \n",
      "_________________________________________________________________\n",
      "dense_6 (Dense)              (None, 8)                 72        \n",
      "_________________________________________________________________\n",
      "dense_7 (Dense)              (None, 1)                 9         \n",
      "=================================================================\n",
      "Total params: 2,006,769\n",
      "Trainable params: 2,006,769\n",
      "Non-trainable params: 0\n",
      "_________________________________________________________________\n"
     ]
    }
   ],
   "source": [
    "# new embedding RNN\n",
    "model_new_RNN = tf.keras.Sequential()\n",
    "model_new_RNN.add(tf.keras.layers.Embedding(vocab_size, \n",
    "                                 word_vector_dim, \n",
    "                                 embeddings_initializer=Constant(embedding_matrix),  # 카피한 임베딩을 여기서 활용\n",
    "                                 input_length=maxlen, \n",
    "                                 trainable=True))   # trainable을 True로 주면 Fine-tuning\n",
    "model_new_RNN.add(tf.keras.layers.LSTM(8))   # 가장 널리 쓰이는 RNN인 LSTM 레이어를 사용했다.\n",
    "model_new_RNN.add(tf.keras.layers.Dense(8, activation='relu'))\n",
    "model_new_RNN.add(tf.keras.layers.Dense(1, activation='sigmoid'))  # 최종 출력은 긍정/부정을 1dim이다.\n",
    "\n",
    "model_new_RNN.summary()"
   ]
  },
  {
   "cell_type": "code",
   "execution_count": 41,
   "id": "56b7d431",
   "metadata": {},
   "outputs": [
    {
     "name": "stdout",
     "output_type": "stream",
     "text": [
      "Model: \"sequential_4\"\n",
      "_________________________________________________________________\n",
      "Layer (type)                 Output Shape              Param #   \n",
      "=================================================================\n",
      "embedding_4 (Embedding)      (None, 41, 200)           2000000   \n",
      "_________________________________________________________________\n",
      "conv1d_2 (Conv1D)            (None, 35, 16)            22416     \n",
      "_________________________________________________________________\n",
      "max_pooling1d_1 (MaxPooling1 (None, 7, 16)             0         \n",
      "_________________________________________________________________\n",
      "conv1d_3 (Conv1D)            (None, 1, 16)             1808      \n",
      "_________________________________________________________________\n",
      "global_max_pooling1d_2 (Glob (None, 16)                0         \n",
      "_________________________________________________________________\n",
      "dense_8 (Dense)              (None, 8)                 136       \n",
      "_________________________________________________________________\n",
      "dense_9 (Dense)              (None, 1)                 9         \n",
      "=================================================================\n",
      "Total params: 2,024,369\n",
      "Trainable params: 2,024,369\n",
      "Non-trainable params: 0\n",
      "_________________________________________________________________\n"
     ]
    }
   ],
   "source": [
    "# new embedding CNN\n",
    "model_new_CNN = tf.keras.Sequential()\n",
    "model_new_CNN.add(tf.keras.layers.Embedding(vocab_size, \n",
    "                                 word_vector_dim, \n",
    "                                 embeddings_initializer=Constant(embedding_matrix),  # 카피한 임베딩을 여기서 활용\n",
    "                                 input_length=maxlen, \n",
    "                                 trainable=True))   # trainable을 True로 주면 Fine-tuning\n",
    "model_new_CNN.add(tf.keras.layers.Conv1D(16, 7, activation='relu'))\n",
    "model_new_CNN.add(tf.keras.layers.MaxPooling1D(5))\n",
    "model_new_CNN.add(tf.keras.layers.Conv1D(16, 7, activation='relu'))\n",
    "model_new_CNN.add(tf.keras.layers.GlobalMaxPooling1D())\n",
    "model_new_CNN.add(tf.keras.layers.Dense(8, activation='relu'))\n",
    "model_new_CNN.add(tf.keras.layers.Dense(1, activation='sigmoid'))  # 최종 출력은 긍정/부정을 1dim이다.\n",
    "\n",
    "model_new_CNN.summary()"
   ]
  },
  {
   "cell_type": "code",
   "execution_count": 42,
   "id": "3bb48d8c",
   "metadata": {},
   "outputs": [
    {
     "name": "stdout",
     "output_type": "stream",
     "text": [
      "Model: \"sequential_5\"\n",
      "_________________________________________________________________\n",
      "Layer (type)                 Output Shape              Param #   \n",
      "=================================================================\n",
      "embedding_5 (Embedding)      (None, 41, 200)           2000000   \n",
      "_________________________________________________________________\n",
      "global_max_pooling1d_3 (Glob (None, 200)               0         \n",
      "_________________________________________________________________\n",
      "dense_10 (Dense)             (None, 8)                 1608      \n",
      "_________________________________________________________________\n",
      "dense_11 (Dense)             (None, 1)                 9         \n",
      "=================================================================\n",
      "Total params: 2,001,617\n",
      "Trainable params: 2,001,617\n",
      "Non-trainable params: 0\n",
      "_________________________________________________________________\n"
     ]
    }
   ],
   "source": [
    "# new embedding GMP\n",
    "model_new_GMP = tf.keras.Sequential()\n",
    "model_new_GMP.add(tf.keras.layers.Embedding(vocab_size, \n",
    "                                 word_vector_dim, \n",
    "                                 embeddings_initializer=Constant(embedding_matrix),  # 카피한 임베딩을 여기서 활용\n",
    "                                 input_length=maxlen, \n",
    "                                 trainable=True))   # trainable을 True로 주면 Fine-tuning\n",
    "model_new_GMP.add(tf.keras.layers.GlobalMaxPooling1D())\n",
    "model_new_GMP.add(tf.keras.layers.Dense(8, activation='relu'))\n",
    "model_new_GMP.add(tf.keras.layers.Dense(1, activation='sigmoid'))  # 최종 출력은 긍정/부정을 1dim이다.\n",
    "\n",
    "model_new_GMP.summary()"
   ]
  },
  {
   "cell_type": "code",
   "execution_count": 43,
   "id": "8dd94322",
   "metadata": {},
   "outputs": [
    {
     "name": "stdout",
     "output_type": "stream",
     "text": [
      "Epoch 1/20\n",
      "229/229 [==============================] - 3s 8ms/step - loss: 0.5285 - accuracy: 0.7327 - val_loss: 0.4131 - val_accuracy: 0.8165\n",
      "Epoch 2/20\n",
      "229/229 [==============================] - 2s 7ms/step - loss: 0.3680 - accuracy: 0.8428 - val_loss: 0.3786 - val_accuracy: 0.8333\n",
      "Epoch 3/20\n",
      "229/229 [==============================] - 2s 7ms/step - loss: 0.3263 - accuracy: 0.8647 - val_loss: 0.3612 - val_accuracy: 0.8451\n",
      "Epoch 4/20\n",
      "229/229 [==============================] - 2s 7ms/step - loss: 0.3027 - accuracy: 0.8754 - val_loss: 0.3628 - val_accuracy: 0.8427\n",
      "Epoch 5/20\n",
      "229/229 [==============================] - 1s 7ms/step - loss: 0.2862 - accuracy: 0.8844 - val_loss: 0.3666 - val_accuracy: 0.8448\n",
      "Epoch 6/20\n",
      "229/229 [==============================] - 2s 7ms/step - loss: 0.2726 - accuracy: 0.8907 - val_loss: 0.3653 - val_accuracy: 0.8448\n"
     ]
    }
   ],
   "source": [
    "model_new_RNN.compile(optimizer='adam',\n",
    "              loss='binary_crossentropy',\n",
    "              metrics=['accuracy'])\n",
    "early_stopping_cb = keras.callbacks.EarlyStopping(patience=3, restore_best_weights=True)\n",
    "\n",
    "epochs=20\n",
    "\n",
    "history_new_RNN = model_new_RNN.fit(train_input,\n",
    "                    test_input,\n",
    "                    epochs=epochs,\n",
    "                    batch_size=512,\n",
    "                    validation_data=(train_target, test_target),\n",
    "                    verbose=1,\n",
    "                    callbacks=[early_stopping_cb])"
   ]
  },
  {
   "cell_type": "code",
   "execution_count": 44,
   "id": "be2e2f76",
   "metadata": {},
   "outputs": [
    {
     "name": "stdout",
     "output_type": "stream",
     "text": [
      "1537/1537 - 3s - loss: 0.3611 - accuracy: 0.8458\n",
      "[0.3611469864845276, 0.8458002209663391]\n"
     ]
    }
   ],
   "source": [
    "results_new_RNN = model_new_RNN.evaluate(X_test, y_test, verbose=2)\n",
    "\n",
    "print(results_new_RNN)"
   ]
  },
  {
   "cell_type": "code",
   "execution_count": 45,
   "id": "9f5787d5",
   "metadata": {},
   "outputs": [
    {
     "name": "stdout",
     "output_type": "stream",
     "text": [
      "Epoch 1/20\n",
      "229/229 [==============================] - 3s 8ms/step - loss: 0.5370 - accuracy: 0.7196 - val_loss: 0.4469 - val_accuracy: 0.7914\n",
      "Epoch 2/20\n",
      "229/229 [==============================] - 1s 6ms/step - loss: 0.3906 - accuracy: 0.8260 - val_loss: 0.3862 - val_accuracy: 0.8288\n",
      "Epoch 3/20\n",
      "229/229 [==============================] - 1s 6ms/step - loss: 0.3304 - accuracy: 0.8588 - val_loss: 0.3672 - val_accuracy: 0.8413\n",
      "Epoch 4/20\n",
      "229/229 [==============================] - 1s 6ms/step - loss: 0.2933 - accuracy: 0.8793 - val_loss: 0.3650 - val_accuracy: 0.8430\n",
      "Epoch 5/20\n",
      "229/229 [==============================] - 1s 6ms/step - loss: 0.2658 - accuracy: 0.8917 - val_loss: 0.3696 - val_accuracy: 0.8445\n",
      "Epoch 6/20\n",
      "229/229 [==============================] - 1s 6ms/step - loss: 0.2402 - accuracy: 0.9044 - val_loss: 0.3776 - val_accuracy: 0.8426\n",
      "Epoch 7/20\n",
      "229/229 [==============================] - 1s 6ms/step - loss: 0.2174 - accuracy: 0.9153 - val_loss: 0.4003 - val_accuracy: 0.8370\n"
     ]
    }
   ],
   "source": [
    "model_new_CNN.compile(optimizer='adam',\n",
    "              loss='binary_crossentropy',\n",
    "              metrics=['accuracy'])\n",
    "early_stopping_cb = keras.callbacks.EarlyStopping(patience=3, restore_best_weights=True)\n",
    "              \n",
    "epochs=20\n",
    "\n",
    "history_new_CNN = model_new_CNN.fit(train_input,\n",
    "                    test_input,\n",
    "                    epochs=epochs,\n",
    "                    batch_size=512,\n",
    "                    validation_data=(train_target, test_target),\n",
    "                    verbose=1,\n",
    "                    callbacks=[early_stopping_cb])"
   ]
  },
  {
   "cell_type": "code",
   "execution_count": 46,
   "id": "d51c85cd",
   "metadata": {},
   "outputs": [
    {
     "name": "stdout",
     "output_type": "stream",
     "text": [
      "1537/1537 - 3s - loss: 0.3683 - accuracy: 0.8408\n",
      "[0.36828574538230896, 0.8408365249633789]\n"
     ]
    }
   ],
   "source": [
    "results_new_CNN = model_new_CNN.evaluate(X_test, y_test, verbose=2)\n",
    "\n",
    "print(results_new_CNN)"
   ]
  },
  {
   "cell_type": "code",
   "execution_count": 47,
   "id": "a72cd7ef",
   "metadata": {},
   "outputs": [
    {
     "name": "stdout",
     "output_type": "stream",
     "text": [
      "Epoch 1/20\n",
      "229/229 [==============================] - 1s 6ms/step - loss: 0.1792 - accuracy: 0.9241 - val_loss: 0.5506 - val_accuracy: 0.8408\n",
      "Epoch 2/20\n",
      "229/229 [==============================] - 1s 6ms/step - loss: 0.1749 - accuracy: 0.9265 - val_loss: 0.5788 - val_accuracy: 0.8416\n",
      "Epoch 3/20\n",
      "229/229 [==============================] - 1s 6ms/step - loss: 0.1708 - accuracy: 0.9283 - val_loss: 0.5802 - val_accuracy: 0.8388\n",
      "Epoch 4/20\n",
      "229/229 [==============================] - 1s 5ms/step - loss: 0.1663 - accuracy: 0.9310 - val_loss: 0.5837 - val_accuracy: 0.8377\n"
     ]
    }
   ],
   "source": [
    "model_new_GMP.compile(optimizer='adam',\n",
    "              loss='binary_crossentropy',\n",
    "              metrics=['accuracy'])\n",
    "early_stopping_cb = keras.callbacks.EarlyStopping(patience=3, restore_best_weights=True)\n",
    "\n",
    "\n",
    "epochs=20\n",
    "\n",
    "history_new_GMP = model_RNN.fit(train_input,\n",
    "                    test_input,\n",
    "                    epochs=epochs,\n",
    "                    batch_size=512,\n",
    "                    validation_data=(train_target, test_target),\n",
    "                    verbose=1,\n",
    "                    callbacks=[early_stopping_cb])"
   ]
  },
  {
   "cell_type": "code",
   "execution_count": 48,
   "id": "b60d21c4",
   "metadata": {},
   "outputs": [
    {
     "name": "stdout",
     "output_type": "stream",
     "text": [
      "1537/1537 - 2s - loss: 0.8567 - accuracy: 0.5141\n",
      "[0.8567456603050232, 0.5141485333442688]\n"
     ]
    }
   ],
   "source": [
    "results_new_GMP = model_new_GMP.evaluate(X_test, y_test, verbose=2)\n",
    "\n",
    "print(results_new_GMP)"
   ]
  },
  {
   "cell_type": "markdown",
   "id": "c4fe655c",
   "metadata": {},
   "source": [
    "# 하이퍼 파라미터 세팅하기\n",
    "정확도가 85% 이상이 되는게 목표이므로 `model_new_RNN`의 하이퍼 파라미터를 튜닝해보자"
   ]
  },
  {
   "cell_type": "code",
   "execution_count": 49,
   "id": "1990b57a",
   "metadata": {},
   "outputs": [
    {
     "name": "stdout",
     "output_type": "stream",
     "text": [
      "Model: \"sequential_6\"\n",
      "_________________________________________________________________\n",
      "Layer (type)                 Output Shape              Param #   \n",
      "=================================================================\n",
      "embedding_6 (Embedding)      (None, 41, 200)           2000000   \n",
      "_________________________________________________________________\n",
      "lstm_2 (LSTM)                (None, 64)                67840     \n",
      "_________________________________________________________________\n",
      "dropout (Dropout)            (None, 64)                0         \n",
      "_________________________________________________________________\n",
      "dense_12 (Dense)             (None, 8)                 520       \n",
      "_________________________________________________________________\n",
      "dense_13 (Dense)             (None, 1)                 9         \n",
      "=================================================================\n",
      "Total params: 2,068,369\n",
      "Trainable params: 2,068,369\n",
      "Non-trainable params: 0\n",
      "_________________________________________________________________\n"
     ]
    }
   ],
   "source": [
    "# new embedding RNN\n",
    "model_new_RNN = tf.keras.Sequential()\n",
    "model_new_RNN.add(tf.keras.layers.Embedding(vocab_size, \n",
    "                                 word_vector_dim, \n",
    "                                 embeddings_initializer=Constant(embedding_matrix),  # 카피한 임베딩을 여기서 활용\n",
    "                                 input_length=maxlen, \n",
    "                                 trainable=True))   # trainable을 True로 주면 Fine-tuning\n",
    "model_new_RNN.add(tf.keras.layers.LSTM(64))   # 가장 널리 쓰이는 RNN인 LSTM 레이어를 사용했다.\n",
    "model_new_RNN.add(tf.keras.layers.Dropout(0.3))\n",
    "model_new_RNN.add(tf.keras.layers.Dense(8, activation='relu'))\n",
    "model_new_RNN.add(tf.keras.layers.Dense(1, activation='sigmoid'))  # 최종 출력은 긍정/부정을 1dim이다.\n",
    "\n",
    "\n",
    "model_new_RNN.summary()"
   ]
  },
  {
   "cell_type": "code",
   "execution_count": 50,
   "id": "4c53c646",
   "metadata": {},
   "outputs": [
    {
     "name": "stdout",
     "output_type": "stream",
     "text": [
      "Epoch 1/20\n",
      "229/229 [==============================] - 4s 10ms/step - loss: 0.4879 - accuracy: 0.7564 - val_loss: 0.3789 - val_accuracy: 0.8326\n",
      "Epoch 2/20\n",
      "229/229 [==============================] - 2s 9ms/step - loss: 0.3457 - accuracy: 0.8507 - val_loss: 0.3445 - val_accuracy: 0.8506\n",
      "Epoch 3/20\n",
      "229/229 [==============================] - 2s 9ms/step - loss: 0.3039 - accuracy: 0.8719 - val_loss: 0.3301 - val_accuracy: 0.8576\n",
      "Epoch 4/20\n",
      "229/229 [==============================] - 2s 8ms/step - loss: 0.2772 - accuracy: 0.8849 - val_loss: 0.3292 - val_accuracy: 0.8581\n",
      "Epoch 5/20\n",
      "229/229 [==============================] - 2s 9ms/step - loss: 0.2577 - accuracy: 0.8945 - val_loss: 0.3303 - val_accuracy: 0.8581\n",
      "Epoch 6/20\n",
      "229/229 [==============================] - 2s 8ms/step - loss: 0.2397 - accuracy: 0.9025 - val_loss: 0.3362 - val_accuracy: 0.8595\n",
      "Epoch 7/20\n",
      "229/229 [==============================] - 2s 9ms/step - loss: 0.2235 - accuracy: 0.9101 - val_loss: 0.3429 - val_accuracy: 0.8590\n"
     ]
    }
   ],
   "source": [
    "model_new_RNN.compile(optimizer='adam',\n",
    "              loss='binary_crossentropy',\n",
    "              metrics=['accuracy'])\n",
    "early_stopping_cb = keras.callbacks.EarlyStopping(patience=3, restore_best_weights=True)\n",
    "\n",
    "epochs=20\n",
    "\n",
    "history_new_RNN = model_new_RNN.fit(train_input,\n",
    "                    test_input,\n",
    "                    epochs=epochs,\n",
    "                    batch_size=512,\n",
    "                    validation_data=(train_target, test_target),\n",
    "                    verbose=1,\n",
    "                    callbacks=[early_stopping_cb])"
   ]
  },
  {
   "cell_type": "code",
   "execution_count": 51,
   "id": "789ac316",
   "metadata": {},
   "outputs": [
    {
     "name": "stdout",
     "output_type": "stream",
     "text": [
      "1537/1537 - 3s - loss: 0.3306 - accuracy: 0.8568\n",
      "[0.3306002616882324, 0.8568057417869568]\n"
     ]
    }
   ],
   "source": [
    "results_new_RNN = model_new_RNN.evaluate(X_test, y_test, verbose=2)\n",
    "\n",
    "print(results_new_RNN)"
   ]
  },
  {
   "cell_type": "markdown",
   "id": "4a7ee1db",
   "metadata": {},
   "source": [
    "### dropout 추가, LSTM(8) -> LSTM(64)로 목표치  accuracy 0.85 이상 달성했다!"
   ]
  },
  {
   "cell_type": "markdown",
   "id": "cb5bc29e",
   "metadata": {},
   "source": [
    "# 회고\n"
   ]
  },
  {
   "cell_type": "markdown",
   "id": "1dc2f199",
   "metadata": {},
   "source": [
    "텍스트 데이터 토큰화랑 벡터로 정의하기, 전처리 과정이 꽤나 복잡하고 어려웠다.   \n",
    "특히 load_data 클래스를 선언하는 과정에서 `vocab = ['<PAD>', '<BOS>', '<UNK>', '']` 이부분이 아이펠 코드 예시를 보면 아예 다 `''` 만 있고 빈칸으로 4번이던데, 이렇게 선언해도 괜찮을지 모르겠다.   \n",
    "\n",
    "그리고 직접 임베딩한 결과물로 모델을 학습시킨것과 깃헙으로 공유된 임베딩이 크게 다른걸 보면 NLP는 임베딩 과정의 중요도가 5할정도는 되는거 같다.   \n",
    "> 데이터 받아오기 -> ⭐️전처리(토큰화, 데이터 가공)⭐️ -> 모델 훈련, 학습 -> 결과 과정\n",
    "\n"
   ]
  }
 ],
 "metadata": {
  "kernelspec": {
   "display_name": "Python 3 (ipykernel)",
   "language": "python",
   "name": "python3"
  },
  "language_info": {
   "codemirror_mode": {
    "name": "ipython",
    "version": 3
   },
   "file_extension": ".py",
   "mimetype": "text/x-python",
   "name": "python",
   "nbconvert_exporter": "python",
   "pygments_lexer": "ipython3",
   "version": "3.9.7"
  }
 },
 "nbformat": 4,
 "nbformat_minor": 5
}
