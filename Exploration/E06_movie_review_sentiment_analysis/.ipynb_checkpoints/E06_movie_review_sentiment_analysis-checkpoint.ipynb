{
 "cells": [
  {
   "cell_type": "markdown",
   "id": "1de87364",
   "metadata": {},
   "source": [
    "# 6. 영화 리뷰 텍스트 감성 분석하기\n",
    "네이버 영화 리뷰 감성 분석 도전하기   \n",
    "데이터셋 [Naver sentiment movie corpus](https://github.com/e9t/nsmc)   "
   ]
  },
  {
   "cell_type": "markdown",
   "id": "b64422ae",
   "metadata": {},
   "source": [
    "## 데이터 가져오기"
   ]
  },
  {
   "cell_type": "code",
   "execution_count": 1,
   "id": "69a869b6",
   "metadata": {},
   "outputs": [],
   "source": [
    "import pandas as pd\n",
    "from tensorflow import keras\n",
    "from konlpy.tag import Mecab\n",
    "import numpy as np\n",
    "from collections import Counter\n",
    "\n",
    "import numpy as np\n",
    "import tensorflow as tf\n",
    "import os\n",
    "\n",
    "import matplotlib.pyplot as plt"
   ]
  },
  {
   "cell_type": "code",
   "execution_count": 2,
   "id": "e379b670",
   "metadata": {},
   "outputs": [
    {
     "name": "stdout",
     "output_type": "stream",
     "text": [
      "train_data: 150000, test_data: 50000\n"
     ]
    },
    {
     "data": {
      "text/html": [
       "<div>\n",
       "<style scoped>\n",
       "    .dataframe tbody tr th:only-of-type {\n",
       "        vertical-align: middle;\n",
       "    }\n",
       "\n",
       "    .dataframe tbody tr th {\n",
       "        vertical-align: top;\n",
       "    }\n",
       "\n",
       "    .dataframe thead th {\n",
       "        text-align: right;\n",
       "    }\n",
       "</style>\n",
       "<table border=\"1\" class=\"dataframe\">\n",
       "  <thead>\n",
       "    <tr style=\"text-align: right;\">\n",
       "      <th></th>\n",
       "      <th>id</th>\n",
       "      <th>document</th>\n",
       "      <th>label</th>\n",
       "    </tr>\n",
       "  </thead>\n",
       "  <tbody>\n",
       "    <tr>\n",
       "      <th>0</th>\n",
       "      <td>9976970</td>\n",
       "      <td>아 더빙.. 진짜 짜증나네요 목소리</td>\n",
       "      <td>0</td>\n",
       "    </tr>\n",
       "    <tr>\n",
       "      <th>1</th>\n",
       "      <td>3819312</td>\n",
       "      <td>흠...포스터보고 초딩영화줄....오버연기조차 가볍지 않구나</td>\n",
       "      <td>1</td>\n",
       "    </tr>\n",
       "    <tr>\n",
       "      <th>2</th>\n",
       "      <td>10265843</td>\n",
       "      <td>너무재밓었다그래서보는것을추천한다</td>\n",
       "      <td>0</td>\n",
       "    </tr>\n",
       "    <tr>\n",
       "      <th>3</th>\n",
       "      <td>9045019</td>\n",
       "      <td>교도소 이야기구먼 ..솔직히 재미는 없다..평점 조정</td>\n",
       "      <td>0</td>\n",
       "    </tr>\n",
       "    <tr>\n",
       "      <th>4</th>\n",
       "      <td>6483659</td>\n",
       "      <td>사이몬페그의 익살스런 연기가 돋보였던 영화!스파이더맨에서 늙어보이기만 했던 커스틴 ...</td>\n",
       "      <td>1</td>\n",
       "    </tr>\n",
       "  </tbody>\n",
       "</table>\n",
       "</div>"
      ],
      "text/plain": [
       "         id                                           document  label\n",
       "0   9976970                                아 더빙.. 진짜 짜증나네요 목소리      0\n",
       "1   3819312                  흠...포스터보고 초딩영화줄....오버연기조차 가볍지 않구나      1\n",
       "2  10265843                                  너무재밓었다그래서보는것을추천한다      0\n",
       "3   9045019                      교도소 이야기구먼 ..솔직히 재미는 없다..평점 조정      0\n",
       "4   6483659  사이몬페그의 익살스런 연기가 돋보였던 영화!스파이더맨에서 늙어보이기만 했던 커스틴 ...      1"
      ]
     },
     "execution_count": 2,
     "metadata": {},
     "output_type": "execute_result"
    }
   ],
   "source": [
    "train_data = pd.read_table('~/aiffel/sentiment_classification/data/ratings_train.txt')\n",
    "test_data = pd.read_table('~/aiffel/sentiment_classification/data/ratings_test.txt')\n",
    "\n",
    "print(\"train_data: {}, test_data: {}\".format(len(train_data), len(test_data)))\n",
    "train_data[:5]"
   ]
  },
  {
   "cell_type": "markdown",
   "id": "0de5878e",
   "metadata": {},
   "source": [
    "## 데이터 전처리\n",
    "\n",
    "- 데이터 중복 제거\n",
    "- NaN 결측치 제거\n",
    "- 한국어 토큰화\n",
    "- stopwords 제거\n",
    "- 사전 `word_to_index` 구성\n",
    "- 텍스트 스트링을 사전 인덱스 스트링으로 변환\n",
    "- `X_train, y_train, X_test, y_test, word_to_index` 리턴"
   ]
  },
  {
   "cell_type": "code",
   "execution_count": 3,
   "id": "6d38e626",
   "metadata": {},
   "outputs": [],
   "source": [
    "tokenizer = Mecab()\n",
    "stopwords = ['의','가','이','은','들','는','좀','잘','걍','과','도','를','으로','자','에','와','한','하다']\n",
    "\n",
    "def load_data(train_data, test_data, num_words=10000):\n",
    "    # 중복 데이터 삭제\n",
    "    train_data.drop_duplicates(subset=['document'], inplace=True) \n",
    "    train_data = train_data.dropna(how = 'any') \n",
    "    test_data.drop_duplicates(subset=['document'], inplace=True) \n",
    "    test_data = test_data.dropna(how = 'any') \n",
    "    \n",
    "    # 토큰화 하면서 stopwords에 해당하는 word 지우기\n",
    "    X_train = []\n",
    "    for sentence in train_data['document']:\n",
    "        temp_X = tokenizer.morphs(sentence)\n",
    "        temp_X = [word for word in temp_X if not word in stopwords]\n",
    "        X_train.append(temp_X)\n",
    "\n",
    "    X_test = []\n",
    "    for sentence in test_data['document']:\n",
    "        temp_X = tokenizer.morphs(sentence)\n",
    "        temp_X = [word for word in temp_X if not word in stopwords]\n",
    "        X_test.append(temp_X)\n",
    "    \n",
    "    \n",
    "    words = np.concatenate(X_train).tolist()\n",
    "    counter = Counter(words)\n",
    "    counter = counter.most_common(10000-4)\n",
    "    vocab = ['<PAD>', '<BOS>', '<UNK>', ''] + [key for key, _ in counter]\n",
    "    word_to_index = {word:index for index, word in enumerate(vocab)} # 많이 쓰이는 단어 딕셔너리 형태 단어사전으로 만들기\n",
    "        \n",
    "    \n",
    "    def wordlist_to_indexlist(wordlist):\n",
    "        return [word_to_index[word] if word in word_to_index else word_to_index[''] for word in wordlist]\n",
    "        \n",
    "    X_train = list(map(wordlist_to_indexlist, X_train))\n",
    "    X_test = list(map(wordlist_to_indexlist, X_test))\n",
    "        \n",
    "    return X_train, np.array(list(train_data['label'])), X_test, np.array(list(test_data['label'])), word_to_index\n",
    "    \n",
    "X_train, y_train, X_test, y_test, word_to_index = load_data(train_data, test_data) "
   ]
  },
  {
   "cell_type": "markdown",
   "id": "41b9ef49",
   "metadata": {},
   "source": [
    "> vocab에 PAD, BOS, UNK를 추가했는데 또 어떤걸 추가해야할지 모르겠다."
   ]
  },
  {
   "cell_type": "code",
   "execution_count": 4,
   "id": "abb238a7",
   "metadata": {},
   "outputs": [
    {
     "name": "stdout",
     "output_type": "stream",
     "text": [
      "train data: 146183, test data: 49158\n",
      "[32, 74, 919, 4, 4, 39, 228, 20, 33, 748]\n",
      "[832, 130]\n",
      "146182 49157\n"
     ]
    }
   ],
   "source": [
    "print('train data: {}, test data: {}'.format(len(train_data), len(test_data)))\n",
    "print(X_train[0])\n",
    "print(X_test[0])\n",
    "print(len(X_train), len(X_test))\n",
    "# 단어 토큰화 및 정규화가 제대로 되었음을 볼 수 있다."
   ]
  },
  {
   "cell_type": "code",
   "execution_count": 5,
   "id": "1995e14f",
   "metadata": {},
   "outputs": [
    {
     "data": {
      "text/plain": [
       "{0: '<PAD>',\n",
       " 1: '<BOS>',\n",
       " 2: '<UNK>',\n",
       " 3: '',\n",
       " 4: '.',\n",
       " 5: '영화',\n",
       " 6: '다',\n",
       " 7: '고',\n",
       " 8: '하',\n",
       " 9: '을'}"
      ]
     },
     "execution_count": 5,
     "metadata": {},
     "output_type": "execute_result"
    }
   ],
   "source": [
    "index_to_word = {index:word for word, index in word_to_index.items()}\n",
    "dict(list(index_to_word.items())[:10])"
   ]
  },
  {
   "cell_type": "code",
   "execution_count": 6,
   "id": "bb5e72f7",
   "metadata": {},
   "outputs": [],
   "source": [
    "# 문장을 리스트의 숫자로 매핑하는 함수, 모든 문장은 <BOS>로 시작한다.\n",
    "def get_encoded_sentence(sentence, word_to_index):\n",
    "    return [word_to_index['<BOS>']]+[word_to_index[word] if word in word_to_index else word_to_index['<UNK>'] for word in sentence.split()]\n",
    "\n",
    "# 여러 문장을 리스트의 숫자로 매핑하는 함수\n",
    "def get_encoded_sentences(sentences, word_to_index):\n",
    "    return [get_encoded_sentence(sentence, word_to_index) for sentence in sentences]\n",
    "\n",
    "# 숫자로 매핑한 인코딩 문장을 디코딩해서 원래 문장으로 바꾼다. \n",
    "def get_decoded_sentence(encoded_sentence, index_to_word):\n",
    "    return ' '.join(index_to_word[index] if index in index_to_word else '<UNK>' for index in encoded_sentence[1:])\n",
    "\n",
    "# 인코딩한 여러 문장을 디코딩해서 문장으로 바꾼다\n",
    "def get_decoded_sentences(encoded_sentences, index_to_word):\n",
    "    return [get_decoded_sentence(encoded_sentence, index_to_word) for encoded_sentence in encoded_sentences]"
   ]
  },
  {
   "cell_type": "code",
   "execution_count": 7,
   "id": "8a2711c1",
   "metadata": {},
   "outputs": [
    {
     "name": "stdout",
     "output_type": "stream",
     "text": [
      "0 번째 X_train is \n",
      "더 빙 . . 진짜 짜증 나 네요 목소리, \n",
      "y_train is \n",
      "0\n",
      "\n",
      "1 번째 X_train is \n",
      ". .. 포스터 보고 초딩 영화 줄 . ... 오버 연기 조차 가볍 지 않 구나, \n",
      "y_train is \n",
      "1\n",
      "\n",
      "2 번째 X_train is \n",
      "재 , \n",
      "y_train is \n",
      "0\n",
      "\n",
      "3 번째 X_train is \n",
      "이야기 구먼 . . 솔직히 재미 없 다 . . 평점 조정, \n",
      "y_train is \n",
      "0\n",
      "\n",
      "4 번째 X_train is \n",
      "익살 스런 연기 돋보였 던 영화 ! 스파이더맨 에서 늙 어 보이 기 만 했 던   너무나 이뻐 보였 다, \n",
      "y_train is \n",
      "1\n",
      "\n"
     ]
    },
    {
     "data": {
      "text/html": [
       "<div>\n",
       "<style scoped>\n",
       "    .dataframe tbody tr th:only-of-type {\n",
       "        vertical-align: middle;\n",
       "    }\n",
       "\n",
       "    .dataframe tbody tr th {\n",
       "        vertical-align: top;\n",
       "    }\n",
       "\n",
       "    .dataframe thead th {\n",
       "        text-align: right;\n",
       "    }\n",
       "</style>\n",
       "<table border=\"1\" class=\"dataframe\">\n",
       "  <thead>\n",
       "    <tr style=\"text-align: right;\">\n",
       "      <th></th>\n",
       "      <th>id</th>\n",
       "      <th>document</th>\n",
       "      <th>label</th>\n",
       "    </tr>\n",
       "  </thead>\n",
       "  <tbody>\n",
       "    <tr>\n",
       "      <th>0</th>\n",
       "      <td>9976970</td>\n",
       "      <td>아 더빙.. 진짜 짜증나네요 목소리</td>\n",
       "      <td>0</td>\n",
       "    </tr>\n",
       "    <tr>\n",
       "      <th>1</th>\n",
       "      <td>3819312</td>\n",
       "      <td>흠...포스터보고 초딩영화줄....오버연기조차 가볍지 않구나</td>\n",
       "      <td>1</td>\n",
       "    </tr>\n",
       "    <tr>\n",
       "      <th>2</th>\n",
       "      <td>10265843</td>\n",
       "      <td>너무재밓었다그래서보는것을추천한다</td>\n",
       "      <td>0</td>\n",
       "    </tr>\n",
       "    <tr>\n",
       "      <th>3</th>\n",
       "      <td>9045019</td>\n",
       "      <td>교도소 이야기구먼 ..솔직히 재미는 없다..평점 조정</td>\n",
       "      <td>0</td>\n",
       "    </tr>\n",
       "    <tr>\n",
       "      <th>4</th>\n",
       "      <td>6483659</td>\n",
       "      <td>사이몬페그의 익살스런 연기가 돋보였던 영화!스파이더맨에서 늙어보이기만 했던 커스틴 ...</td>\n",
       "      <td>1</td>\n",
       "    </tr>\n",
       "  </tbody>\n",
       "</table>\n",
       "</div>"
      ],
      "text/plain": [
       "         id                                           document  label\n",
       "0   9976970                                아 더빙.. 진짜 짜증나네요 목소리      0\n",
       "1   3819312                  흠...포스터보고 초딩영화줄....오버연기조차 가볍지 않구나      1\n",
       "2  10265843                                  너무재밓었다그래서보는것을추천한다      0\n",
       "3   9045019                      교도소 이야기구먼 ..솔직히 재미는 없다..평점 조정      0\n",
       "4   6483659  사이몬페그의 익살스런 연기가 돋보였던 영화!스파이더맨에서 늙어보이기만 했던 커스틴 ...      1"
      ]
     },
     "execution_count": 7,
     "metadata": {},
     "output_type": "execute_result"
    }
   ],
   "source": [
    "i = 0\n",
    "while i < 5:\n",
    "    print('{} 번째 X_train is \\n{}, \\ny_train is \\n{}\\n'.format(i, get_decoded_sentence(X_train[i], index_to_word), y_train[i]))\n",
    "    i += 1\n",
    "train_data[:5]"
   ]
  },
  {
   "cell_type": "code",
   "execution_count": 8,
   "id": "9b7fff30",
   "metadata": {},
   "outputs": [
    {
     "name": "stdout",
     "output_type": "stream",
     "text": [
      "0 번째 X_test is \n",
      "ㅋ, \n",
      "y_test is \n",
      "1\n",
      "\n",
      "1 번째 X_test is \n",
      ", \n",
      "y_test is \n",
      "0\n",
      "\n",
      "2 번째 X_test is \n",
      "야 평점 . ... 나쁘 진 않 지만 10 점 짜리 더더욱 아니 잖아, \n",
      "y_test is \n",
      "0\n",
      "\n",
      "3 번째 X_test is \n",
      "하 지 않 은데 완전 막장 임 . .. 돈 주 고 보 기 . ..., \n",
      "y_test is \n",
      "0\n",
      "\n",
      "4 번째 X_test is \n",
      "D 만 아니 었 어도 별 다섯 개 줬 을 텐데 . . 왜 3 D 로 나와서 제  불편 하 게 하 죠 ? ?, \n",
      "y_test is \n",
      "0\n",
      "\n"
     ]
    },
    {
     "data": {
      "text/html": [
       "<div>\n",
       "<style scoped>\n",
       "    .dataframe tbody tr th:only-of-type {\n",
       "        vertical-align: middle;\n",
       "    }\n",
       "\n",
       "    .dataframe tbody tr th {\n",
       "        vertical-align: top;\n",
       "    }\n",
       "\n",
       "    .dataframe thead th {\n",
       "        text-align: right;\n",
       "    }\n",
       "</style>\n",
       "<table border=\"1\" class=\"dataframe\">\n",
       "  <thead>\n",
       "    <tr style=\"text-align: right;\">\n",
       "      <th></th>\n",
       "      <th>id</th>\n",
       "      <th>document</th>\n",
       "      <th>label</th>\n",
       "    </tr>\n",
       "  </thead>\n",
       "  <tbody>\n",
       "    <tr>\n",
       "      <th>0</th>\n",
       "      <td>6270596</td>\n",
       "      <td>굳 ㅋ</td>\n",
       "      <td>1</td>\n",
       "    </tr>\n",
       "    <tr>\n",
       "      <th>1</th>\n",
       "      <td>9274899</td>\n",
       "      <td>GDNTOPCLASSINTHECLUB</td>\n",
       "      <td>0</td>\n",
       "    </tr>\n",
       "    <tr>\n",
       "      <th>2</th>\n",
       "      <td>8544678</td>\n",
       "      <td>뭐야 이 평점들은.... 나쁘진 않지만 10점 짜리는 더더욱 아니잖아</td>\n",
       "      <td>0</td>\n",
       "    </tr>\n",
       "    <tr>\n",
       "      <th>3</th>\n",
       "      <td>6825595</td>\n",
       "      <td>지루하지는 않은데 완전 막장임... 돈주고 보기에는....</td>\n",
       "      <td>0</td>\n",
       "    </tr>\n",
       "    <tr>\n",
       "      <th>4</th>\n",
       "      <td>6723715</td>\n",
       "      <td>3D만 아니었어도 별 다섯 개 줬을텐데.. 왜 3D로 나와서 제 심기를 불편하게 하죠??</td>\n",
       "      <td>0</td>\n",
       "    </tr>\n",
       "  </tbody>\n",
       "</table>\n",
       "</div>"
      ],
      "text/plain": [
       "        id                                           document  label\n",
       "0  6270596                                                굳 ㅋ      1\n",
       "1  9274899                               GDNTOPCLASSINTHECLUB      0\n",
       "2  8544678             뭐야 이 평점들은.... 나쁘진 않지만 10점 짜리는 더더욱 아니잖아      0\n",
       "3  6825595                   지루하지는 않은데 완전 막장임... 돈주고 보기에는....      0\n",
       "4  6723715  3D만 아니었어도 별 다섯 개 줬을텐데.. 왜 3D로 나와서 제 심기를 불편하게 하죠??      0"
      ]
     },
     "execution_count": 8,
     "metadata": {},
     "output_type": "execute_result"
    }
   ],
   "source": [
    "i = 0\n",
    "while i < 5:\n",
    "    print('{} 번째 X_test is \\n{}, \\ny_test is \\n{}\\n'.format(i, get_decoded_sentence(X_test[i], index_to_word), y_test[i]))\n",
    "    i += 1\n",
    "test_data[:5]"
   ]
  },
  {
   "cell_type": "markdown",
   "id": "cc8d2027",
   "metadata": {},
   "source": [
    "매핑이 제대로 되었는지 확인하는 과정에서 첫번째 단어와 stopwords에 해당하는 단어들을 자르면서 해석하기 어려운 문장들이 많이 생겼다. 나중에 이런 문장들도 빼거나 새롭게 토큰화, 전처리 하는 과정을 고려해야겠다."
   ]
  },
  {
   "cell_type": "markdown",
   "id": "4ba2b183",
   "metadata": {},
   "source": [
    "## 데이터 분석 및 가공\n",
    "- 데이터셋 내 문장 길이 분포 확인\n",
    "- 적절한 최대 문장 길이 지정\n",
    "- `keras.preprocessing.sequence.pad_sequences` 활용해서 패딩 추가"
   ]
  },
  {
   "cell_type": "code",
   "execution_count": 9,
   "id": "d49ed27b",
   "metadata": {},
   "outputs": [
    {
     "name": "stdout",
     "output_type": "stream",
     "text": [
      "문장길이 평균 :  15.96940191154864\n",
      "문장길이 최대 :  116\n",
      "문장길이 표준편차 :  12.843571191092\n",
      "pad_sequences maxlen :  41\n",
      "전체 문장의 0.9342988343341575%가 maxlen 설정값 이내에 포함됩니다. \n"
     ]
    }
   ],
   "source": [
    "# 텍스트데이터 문장길이의 리스트를 생성한 후\n",
    "total_data_text = list(X_train) + list(X_test)\n",
    "\n",
    "num_tokens = [len(tokens) for tokens in total_data_text]\n",
    "num_tokens = np.array(num_tokens)\n",
    "\n",
    "# 문장길이의 평균값, 최대값, 표준편차를 계산해 본다. \n",
    "print('문장길이 평균 : ', np.mean(num_tokens))\n",
    "print('문장길이 최대 : ', np.max(num_tokens))\n",
    "print('문장길이 표준편차 : ', np.std(num_tokens))\n",
    "\n",
    "# 최대 길이를 평균 + 2 * 표준편차로 진행한다\n",
    "max_tokens = np.mean(num_tokens) + 2 * np.std(num_tokens)\n",
    "maxlen = int(max_tokens)\n",
    "print('pad_sequences maxlen : ', maxlen)\n",
    "print('전체 문장의 {}%가 maxlen 설정값 이내에 포함됩니다. '.format(np.sum(num_tokens < max_tokens) / len(num_tokens)))"
   ]
  },
  {
   "cell_type": "markdown",
   "id": "eb5be552",
   "metadata": {},
   "source": [
    "maxlen을 기준으로 보다 짧은 문장들은 앞에 `<PAD>`를 padding 해준다."
   ]
  },
  {
   "cell_type": "code",
   "execution_count": 10,
   "id": "26693a30",
   "metadata": {},
   "outputs": [
    {
     "name": "stdout",
     "output_type": "stream",
     "text": [
      "(146182, 41) (49157, 41)\n"
     ]
    }
   ],
   "source": [
    "X_train = tf.keras.preprocessing.sequence.pad_sequences(X_train,\n",
    "                                                       value=word_to_index['<PAD>'],\n",
    "                                                       padding='pre',\n",
    "                                                       maxlen=maxlen)\n",
    "\n",
    "X_test = tf.keras.preprocessing.sequence.pad_sequences(X_test,\n",
    "                                                       value=word_to_index['<PAD>'],\n",
    "                                                       padding='pre',\n",
    "                                                       maxlen=maxlen)\n",
    "\n",
    "print(X_train.shape, X_test.shape)"
   ]
  },
  {
   "cell_type": "markdown",
   "id": "c6af51ae",
   "metadata": {},
   "source": [
    "## 모델과 validation set 구성\n",
    "__3가지 이상 다양하게 구성해보기__"
   ]
  },
  {
   "cell_type": "code",
   "execution_count": 11,
   "id": "f5b34c25",
   "metadata": {},
   "outputs": [
    {
     "name": "stdout",
     "output_type": "stream",
     "text": [
      "Model: \"sequential\"\n",
      "_________________________________________________________________\n",
      "Layer (type)                 Output Shape              Param #   \n",
      "=================================================================\n",
      "embedding (Embedding)        (None, None, 16)          160000    \n",
      "_________________________________________________________________\n",
      "lstm (LSTM)                  (None, 8)                 800       \n",
      "_________________________________________________________________\n",
      "dense (Dense)                (None, 8)                 72        \n",
      "_________________________________________________________________\n",
      "dense_1 (Dense)              (None, 1)                 9         \n",
      "=================================================================\n",
      "Total params: 160,881\n",
      "Trainable params: 160,881\n",
      "Non-trainable params: 0\n",
      "_________________________________________________________________\n"
     ]
    }
   ],
   "source": [
    "# RNN 모델 설계\n",
    "vocab_size = 10000\n",
    "word_vector_dim = 16  # 단어 하나를 표현하는 임베딩 벡터의 차원수이다.\n",
    "\n",
    "model_RNN = tf.keras.Sequential()\n",
    "model_RNN.add(tf.keras.layers.Embedding(vocab_size, word_vector_dim, input_shape=(None,)))\n",
    "model_RNN.add(tf.keras.layers.LSTM(8))   # 가장 널리 쓰이는 RNN인 LSTM 레이어를 사용했다.\n",
    "model_RNN.add(tf.keras.layers.Dense(8, activation='relu'))\n",
    "model_RNN.add(tf.keras.layers.Dense(1, activation='sigmoid'))  # 최종 출력은 긍정/부정을 1dim이다.\n",
    "\n",
    "model_RNN.summary()"
   ]
  },
  {
   "cell_type": "code",
   "execution_count": 12,
   "id": "32dc853f",
   "metadata": {},
   "outputs": [
    {
     "name": "stdout",
     "output_type": "stream",
     "text": [
      "Model: \"sequential_1\"\n",
      "_________________________________________________________________\n",
      "Layer (type)                 Output Shape              Param #   \n",
      "=================================================================\n",
      "embedding_1 (Embedding)      (None, None, 16)          160000    \n",
      "_________________________________________________________________\n",
      "conv1d (Conv1D)              (None, None, 16)          1808      \n",
      "_________________________________________________________________\n",
      "max_pooling1d (MaxPooling1D) (None, None, 16)          0         \n",
      "_________________________________________________________________\n",
      "conv1d_1 (Conv1D)            (None, None, 16)          1808      \n",
      "_________________________________________________________________\n",
      "global_max_pooling1d (Global (None, 16)                0         \n",
      "_________________________________________________________________\n",
      "dense_2 (Dense)              (None, 8)                 136       \n",
      "_________________________________________________________________\n",
      "dense_3 (Dense)              (None, 1)                 9         \n",
      "=================================================================\n",
      "Total params: 163,761\n",
      "Trainable params: 163,761\n",
      "Non-trainable params: 0\n",
      "_________________________________________________________________\n"
     ]
    }
   ],
   "source": [
    "# CNN\n",
    "vocab_size = 10000\n",
    "word_vector_dim = 16  # 단어 하나를 표현하는 임베딩 벡터의 차원수이다.\n",
    "\n",
    "model_CNN = tf.keras.Sequential()\n",
    "model_CNN.add(tf.keras.layers.Embedding(vocab_size, word_vector_dim, input_shape=(None,)))\n",
    "model_CNN.add(tf.keras.layers.Conv1D(16, 7, activation='relu'))\n",
    "model_CNN.add(tf.keras.layers.MaxPooling1D(5))\n",
    "model_CNN.add(tf.keras.layers.Conv1D(16, 7, activation='relu'))\n",
    "model_CNN.add(tf.keras.layers.GlobalMaxPooling1D())\n",
    "model_CNN.add(tf.keras.layers.Dense(8, activation='relu'))\n",
    "model_CNN.add(tf.keras.layers.Dense(1, activation='sigmoid'))  # 최종 출력은 긍정/부정을 1dim이다.\n",
    "\n",
    "model_CNN.summary()"
   ]
  },
  {
   "cell_type": "code",
   "execution_count": 13,
   "id": "811184d0",
   "metadata": {},
   "outputs": [
    {
     "name": "stdout",
     "output_type": "stream",
     "text": [
      "Model: \"sequential_2\"\n",
      "_________________________________________________________________\n",
      "Layer (type)                 Output Shape              Param #   \n",
      "=================================================================\n",
      "embedding_2 (Embedding)      (None, None, 16)          160000    \n",
      "_________________________________________________________________\n",
      "global_max_pooling1d_1 (Glob (None, 16)                0         \n",
      "_________________________________________________________________\n",
      "dense_4 (Dense)              (None, 8)                 136       \n",
      "_________________________________________________________________\n",
      "dense_5 (Dense)              (None, 1)                 9         \n",
      "=================================================================\n",
      "Total params: 160,145\n",
      "Trainable params: 160,145\n",
      "Non-trainable params: 0\n",
      "_________________________________________________________________\n"
     ]
    }
   ],
   "source": [
    "# 하나의 GlobalMaxPooling\n",
    "# 문장중 중요한 단어만 피처로 추출하여 평가하는 방식\n",
    "vocab_size = 10000\n",
    "word_vector_dim = 16  # 단어 하나를 표현하는 임베딩 벡터의 차원수이다.\n",
    "\n",
    "model_GMP = tf.keras.Sequential()\n",
    "model_GMP.add(tf.keras.layers.Embedding(vocab_size, word_vector_dim, input_shape=(None,)))\n",
    "model_GMP.add(tf.keras.layers.GlobalMaxPooling1D())\n",
    "model_GMP.add(tf.keras.layers.Dense(8, activation='relu'))\n",
    "model_GMP.add(tf.keras.layers.Dense(1, activation='sigmoid'))  # 최종 출력은 긍정/부정을 1dim이다.\n",
    "\n",
    "model_GMP.summary()"
   ]
  },
  {
   "cell_type": "code",
   "execution_count": 14,
   "id": "d711ffd6",
   "metadata": {},
   "outputs": [],
   "source": [
    "from sklearn.model_selection import train_test_split\n",
    "\n",
    "train_input, train_target, test_input, test_target = train_test_split(X_train, y_train, test_size=0.2, random_state=5)"
   ]
  },
  {
   "cell_type": "markdown",
   "id": "31a849d0",
   "metadata": {},
   "source": [
    "## 모델 훈련"
   ]
  },
  {
   "cell_type": "code",
   "execution_count": 15,
   "id": "5beecc07",
   "metadata": {},
   "outputs": [
    {
     "name": "stdout",
     "output_type": "stream",
     "text": [
      "Epoch 1/20\n",
      "229/229 [==============================] - 5s 8ms/step - loss: 0.5199 - accuracy: 0.7783 - val_loss: 0.3803 - val_accuracy: 0.8354\n",
      "Epoch 2/20\n",
      "229/229 [==============================] - 1s 6ms/step - loss: 0.3420 - accuracy: 0.8567 - val_loss: 0.3540 - val_accuracy: 0.8464\n",
      "Epoch 3/20\n",
      "229/229 [==============================] - 1s 6ms/step - loss: 0.3138 - accuracy: 0.8706 - val_loss: 0.3512 - val_accuracy: 0.8471\n",
      "Epoch 4/20\n",
      "229/229 [==============================] - 1s 6ms/step - loss: 0.2980 - accuracy: 0.8775 - val_loss: 0.3500 - val_accuracy: 0.8483\n",
      "Epoch 5/20\n",
      "229/229 [==============================] - 1s 6ms/step - loss: 0.2859 - accuracy: 0.8829 - val_loss: 0.3546 - val_accuracy: 0.8481\n",
      "Epoch 6/20\n",
      "229/229 [==============================] - 1s 6ms/step - loss: 0.2745 - accuracy: 0.8882 - val_loss: 0.3563 - val_accuracy: 0.8482\n",
      "Epoch 7/20\n",
      "229/229 [==============================] - 1s 6ms/step - loss: 0.2630 - accuracy: 0.8936 - val_loss: 0.3571 - val_accuracy: 0.8497\n",
      "Epoch 8/20\n",
      "229/229 [==============================] - 1s 6ms/step - loss: 0.2522 - accuracy: 0.8980 - val_loss: 0.3658 - val_accuracy: 0.8476\n",
      "Epoch 9/20\n",
      "229/229 [==============================] - 1s 6ms/step - loss: 0.2419 - accuracy: 0.9028 - val_loss: 0.3738 - val_accuracy: 0.8467\n",
      "Epoch 10/20\n",
      "229/229 [==============================] - 1s 5ms/step - loss: 0.2323 - accuracy: 0.9075 - val_loss: 0.3864 - val_accuracy: 0.8472\n",
      "Epoch 11/20\n",
      "229/229 [==============================] - 1s 6ms/step - loss: 0.2233 - accuracy: 0.9117 - val_loss: 0.3919 - val_accuracy: 0.8448\n",
      "Epoch 12/20\n",
      "229/229 [==============================] - 1s 6ms/step - loss: 0.2156 - accuracy: 0.9157 - val_loss: 0.4112 - val_accuracy: 0.8439\n",
      "Epoch 13/20\n",
      "229/229 [==============================] - 1s 6ms/step - loss: 0.2071 - accuracy: 0.9199 - val_loss: 0.4269 - val_accuracy: 0.8419\n",
      "Epoch 14/20\n",
      "229/229 [==============================] - 1s 6ms/step - loss: 0.2010 - accuracy: 0.9227 - val_loss: 0.4284 - val_accuracy: 0.8382\n",
      "Epoch 15/20\n",
      "229/229 [==============================] - 1s 6ms/step - loss: 0.1936 - accuracy: 0.9265 - val_loss: 0.4515 - val_accuracy: 0.8401\n",
      "Epoch 16/20\n",
      "229/229 [==============================] - 1s 5ms/step - loss: 0.1873 - accuracy: 0.9292 - val_loss: 0.4528 - val_accuracy: 0.8357\n",
      "Epoch 17/20\n",
      "229/229 [==============================] - 1s 5ms/step - loss: 0.1814 - accuracy: 0.9317 - val_loss: 0.4815 - val_accuracy: 0.8355\n",
      "Epoch 18/20\n",
      "229/229 [==============================] - 1s 5ms/step - loss: 0.1746 - accuracy: 0.9354 - val_loss: 0.4893 - val_accuracy: 0.8339\n",
      "Epoch 19/20\n",
      "229/229 [==============================] - 1s 5ms/step - loss: 0.1685 - accuracy: 0.9383 - val_loss: 0.5015 - val_accuracy: 0.8350\n",
      "Epoch 20/20\n",
      "229/229 [==============================] - 1s 5ms/step - loss: 0.1636 - accuracy: 0.9402 - val_loss: 0.5010 - val_accuracy: 0.8334\n"
     ]
    }
   ],
   "source": [
    "model_RNN.compile(optimizer='adam',\n",
    "              loss='binary_crossentropy',\n",
    "              metrics=['accuracy'])\n",
    "              \n",
    "epochs=20\n",
    "\n",
    "history_RNN = model_RNN.fit(train_input,\n",
    "                    test_input,\n",
    "                    epochs=epochs,\n",
    "                    batch_size=512,\n",
    "                    validation_data=(train_target, test_target),\n",
    "                    verbose=1)"
   ]
  },
  {
   "cell_type": "code",
   "execution_count": 16,
   "id": "c0b1012e",
   "metadata": {},
   "outputs": [
    {
     "name": "stdout",
     "output_type": "stream",
     "text": [
      "1537/1537 - 3s - loss: 0.4950 - accuracy: 0.8340\n",
      "[0.49504607915878296, 0.8339605927467346]\n"
     ]
    }
   ],
   "source": [
    "results_RNN = model_RNN.evaluate(X_test, y_test, verbose=2)\n",
    "\n",
    "print(results_RNN)"
   ]
  },
  {
   "cell_type": "code",
   "execution_count": 17,
   "id": "0a657d4a",
   "metadata": {},
   "outputs": [
    {
     "name": "stdout",
     "output_type": "stream",
     "text": [
      "Epoch 1/20\n",
      "229/229 [==============================] - 3s 6ms/step - loss: 0.4864 - accuracy: 0.7545 - val_loss: 0.3641 - val_accuracy: 0.8385\n",
      "Epoch 2/20\n",
      "229/229 [==============================] - 1s 5ms/step - loss: 0.3273 - accuracy: 0.8611 - val_loss: 0.3481 - val_accuracy: 0.8475\n",
      "Epoch 3/20\n",
      "229/229 [==============================] - 1s 5ms/step - loss: 0.2933 - accuracy: 0.8783 - val_loss: 0.3523 - val_accuracy: 0.8460\n",
      "Epoch 4/20\n",
      "229/229 [==============================] - 1s 5ms/step - loss: 0.2671 - accuracy: 0.8920 - val_loss: 0.3532 - val_accuracy: 0.8474\n",
      "Epoch 5/20\n",
      "229/229 [==============================] - 1s 5ms/step - loss: 0.2385 - accuracy: 0.9059 - val_loss: 0.3638 - val_accuracy: 0.8478\n",
      "Epoch 6/20\n",
      "229/229 [==============================] - 1s 5ms/step - loss: 0.2080 - accuracy: 0.9204 - val_loss: 0.3852 - val_accuracy: 0.8454\n",
      "Epoch 7/20\n",
      "229/229 [==============================] - 1s 5ms/step - loss: 0.1768 - accuracy: 0.9359 - val_loss: 0.4093 - val_accuracy: 0.8415\n",
      "Epoch 8/20\n",
      "229/229 [==============================] - 1s 5ms/step - loss: 0.1473 - accuracy: 0.9491 - val_loss: 0.4496 - val_accuracy: 0.8387\n",
      "Epoch 9/20\n",
      "229/229 [==============================] - 1s 5ms/step - loss: 0.1228 - accuracy: 0.9590 - val_loss: 0.4925 - val_accuracy: 0.8367\n",
      "Epoch 10/20\n",
      "229/229 [==============================] - 1s 5ms/step - loss: 0.1019 - accuracy: 0.9673 - val_loss: 0.5345 - val_accuracy: 0.8341\n",
      "Epoch 11/20\n",
      "229/229 [==============================] - 1s 5ms/step - loss: 0.0861 - accuracy: 0.9728 - val_loss: 0.5934 - val_accuracy: 0.8319\n",
      "Epoch 12/20\n",
      "229/229 [==============================] - 1s 5ms/step - loss: 0.0739 - accuracy: 0.9775 - val_loss: 0.6525 - val_accuracy: 0.8306\n",
      "Epoch 13/20\n",
      "229/229 [==============================] - 1s 5ms/step - loss: 0.0644 - accuracy: 0.9800 - val_loss: 0.7012 - val_accuracy: 0.8245\n",
      "Epoch 14/20\n",
      "229/229 [==============================] - 1s 5ms/step - loss: 0.0561 - accuracy: 0.9834 - val_loss: 0.7326 - val_accuracy: 0.8252\n",
      "Epoch 15/20\n",
      "229/229 [==============================] - 1s 5ms/step - loss: 0.0492 - accuracy: 0.9853 - val_loss: 0.7888 - val_accuracy: 0.8239\n",
      "Epoch 16/20\n",
      "229/229 [==============================] - 1s 5ms/step - loss: 0.0439 - accuracy: 0.9871 - val_loss: 0.8324 - val_accuracy: 0.8245\n",
      "Epoch 17/20\n",
      "229/229 [==============================] - 1s 5ms/step - loss: 0.0405 - accuracy: 0.9880 - val_loss: 0.8724 - val_accuracy: 0.8191\n",
      "Epoch 18/20\n",
      "229/229 [==============================] - 1s 5ms/step - loss: 0.0382 - accuracy: 0.9885 - val_loss: 0.9053 - val_accuracy: 0.8198\n",
      "Epoch 19/20\n",
      "229/229 [==============================] - 1s 5ms/step - loss: 0.0362 - accuracy: 0.9893 - val_loss: 0.9647 - val_accuracy: 0.8176\n",
      "Epoch 20/20\n",
      "229/229 [==============================] - 1s 5ms/step - loss: 0.0360 - accuracy: 0.9885 - val_loss: 0.9787 - val_accuracy: 0.8195\n"
     ]
    }
   ],
   "source": [
    "model_CNN.compile(optimizer='adam',\n",
    "              loss='binary_crossentropy',\n",
    "              metrics=['accuracy'])\n",
    "              \n",
    "epochs=20\n",
    "\n",
    "history_CNN = model_CNN.fit(train_input,\n",
    "                    test_input,\n",
    "                    epochs=epochs,\n",
    "                    batch_size=512,\n",
    "                    validation_data=(train_target, test_target),\n",
    "                    verbose=1)"
   ]
  },
  {
   "cell_type": "code",
   "execution_count": 18,
   "id": "5d0f19f7",
   "metadata": {},
   "outputs": [
    {
     "name": "stdout",
     "output_type": "stream",
     "text": [
      "1537/1537 - 3s - loss: 0.9948 - accuracy: 0.8159\n",
      "[0.9947693347930908, 0.8158756494522095]\n"
     ]
    }
   ],
   "source": [
    "results_CNN = model_CNN.evaluate(X_test, y_test, verbose=2)\n",
    "\n",
    "print(results_CNN)"
   ]
  },
  {
   "cell_type": "code",
   "execution_count": 19,
   "id": "91e1f471",
   "metadata": {},
   "outputs": [
    {
     "name": "stdout",
     "output_type": "stream",
     "text": [
      "Epoch 1/20\n",
      "229/229 [==============================] - 1s 4ms/step - loss: 0.5906 - accuracy: 0.7591 - val_loss: 0.4477 - val_accuracy: 0.8119\n",
      "Epoch 2/20\n",
      "229/229 [==============================] - 1s 4ms/step - loss: 0.3861 - accuracy: 0.8353 - val_loss: 0.3755 - val_accuracy: 0.8346\n",
      "Epoch 3/20\n",
      "229/229 [==============================] - 1s 3ms/step - loss: 0.3312 - accuracy: 0.8600 - val_loss: 0.3639 - val_accuracy: 0.8390\n",
      "Epoch 4/20\n",
      "229/229 [==============================] - 1s 4ms/step - loss: 0.3024 - accuracy: 0.8742 - val_loss: 0.3634 - val_accuracy: 0.8422\n",
      "Epoch 5/20\n",
      "229/229 [==============================] - 1s 4ms/step - loss: 0.2817 - accuracy: 0.8847 - val_loss: 0.3675 - val_accuracy: 0.8416\n",
      "Epoch 6/20\n",
      "229/229 [==============================] - 1s 3ms/step - loss: 0.2649 - accuracy: 0.8925 - val_loss: 0.3747 - val_accuracy: 0.8412\n",
      "Epoch 7/20\n",
      "229/229 [==============================] - 1s 3ms/step - loss: 0.2507 - accuracy: 0.8996 - val_loss: 0.3839 - val_accuracy: 0.8401\n",
      "Epoch 8/20\n",
      "229/229 [==============================] - 1s 3ms/step - loss: 0.2386 - accuracy: 0.9054 - val_loss: 0.3922 - val_accuracy: 0.8389\n",
      "Epoch 9/20\n",
      "229/229 [==============================] - 1s 4ms/step - loss: 0.2274 - accuracy: 0.9106 - val_loss: 0.4035 - val_accuracy: 0.8376\n",
      "Epoch 10/20\n",
      "229/229 [==============================] - 1s 3ms/step - loss: 0.2177 - accuracy: 0.9158 - val_loss: 0.4150 - val_accuracy: 0.8374\n",
      "Epoch 11/20\n",
      "229/229 [==============================] - 1s 3ms/step - loss: 0.2089 - accuracy: 0.9195 - val_loss: 0.4272 - val_accuracy: 0.8345\n",
      "Epoch 12/20\n",
      "229/229 [==============================] - 1s 3ms/step - loss: 0.2011 - accuracy: 0.9242 - val_loss: 0.4382 - val_accuracy: 0.8337\n",
      "Epoch 13/20\n",
      "229/229 [==============================] - 1s 3ms/step - loss: 0.1938 - accuracy: 0.9271 - val_loss: 0.4495 - val_accuracy: 0.8330\n",
      "Epoch 14/20\n",
      "229/229 [==============================] - 1s 4ms/step - loss: 0.1873 - accuracy: 0.9302 - val_loss: 0.4630 - val_accuracy: 0.8308\n",
      "Epoch 15/20\n",
      "229/229 [==============================] - 1s 3ms/step - loss: 0.1813 - accuracy: 0.9328 - val_loss: 0.4772 - val_accuracy: 0.8293\n",
      "Epoch 16/20\n",
      "229/229 [==============================] - 1s 3ms/step - loss: 0.1758 - accuracy: 0.9357 - val_loss: 0.4877 - val_accuracy: 0.8290\n",
      "Epoch 17/20\n",
      "229/229 [==============================] - 1s 4ms/step - loss: 0.1706 - accuracy: 0.9380 - val_loss: 0.4983 - val_accuracy: 0.8284\n",
      "Epoch 18/20\n",
      "229/229 [==============================] - 1s 4ms/step - loss: 0.1658 - accuracy: 0.9401 - val_loss: 0.5099 - val_accuracy: 0.8269\n",
      "Epoch 19/20\n",
      "229/229 [==============================] - 1s 3ms/step - loss: 0.1614 - accuracy: 0.9421 - val_loss: 0.5222 - val_accuracy: 0.8248\n",
      "Epoch 20/20\n",
      "229/229 [==============================] - 1s 3ms/step - loss: 0.1573 - accuracy: 0.9447 - val_loss: 0.5339 - val_accuracy: 0.8234\n"
     ]
    }
   ],
   "source": [
    "model_GMP.compile(optimizer='adam',\n",
    "              loss='binary_crossentropy',\n",
    "              metrics=['accuracy'])\n",
    "              \n",
    "epochs=20\n",
    "\n",
    "history_GMP = model_GMP.fit(train_input,\n",
    "                    test_input,\n",
    "                    epochs=epochs,\n",
    "                    batch_size=512,\n",
    "                    validation_data=(train_target, test_target),\n",
    "                    verbose=1)"
   ]
  },
  {
   "cell_type": "code",
   "execution_count": 20,
   "id": "dde219c1",
   "metadata": {},
   "outputs": [
    {
     "name": "stdout",
     "output_type": "stream",
     "text": [
      "1537/1537 - 2s - loss: 0.5262 - accuracy: 0.8227\n",
      "[0.5262476205825806, 0.8227109313011169]\n"
     ]
    }
   ],
   "source": [
    "results_GMP = model_GMP.evaluate(X_test, y_test, verbose=2)\n",
    "\n",
    "print(results_GMP)"
   ]
  },
  {
   "cell_type": "code",
   "execution_count": 21,
   "id": "3a90f8a7",
   "metadata": {},
   "outputs": [
    {
     "name": "stdout",
     "output_type": "stream",
     "text": [
      "dict_keys(['loss', 'accuracy', 'val_loss', 'val_accuracy'])\n",
      "dict_keys(['loss', 'accuracy', 'val_loss', 'val_accuracy'])\n",
      "dict_keys(['loss', 'accuracy', 'val_loss', 'val_accuracy'])\n"
     ]
    }
   ],
   "source": [
    "print(history_RNN.history.keys())\n",
    "print(history_CNN.history.keys())\n",
    "print(history_GMP.history.keys())"
   ]
  },
  {
   "cell_type": "markdown",
   "id": "4fb9a5ec",
   "metadata": {},
   "source": [
    "## Loss, Accuracy 결과 시각화"
   ]
  },
  {
   "cell_type": "code",
   "execution_count": 22,
   "id": "50fe68b2",
   "metadata": {},
   "outputs": [],
   "source": [
    "def plot_result(history_model):\n",
    "    h = history_model\n",
    "    plt.subplot(2, 1, 1)\n",
    "    plt.plot(h.history['loss'])\n",
    "    plt.plot(h.history['val_loss'])\n",
    "\n",
    "    plt.xlabel('epoch')\n",
    "    plt.ylabel('loss')\n",
    "    plt.legend(['train', 'val'])\n",
    "\n",
    "    plt.subplot(2, 1, 2)\n",
    "    plt.plot(h.history['accuracy'])\n",
    "    plt.plot(h.history['val_accuracy'])\n",
    "\n",
    "    plt.xlabel('epoch')\n",
    "    plt.ylabel('accuracy')\n",
    "    plt.legend(['train', 'val'])\n",
    "\n",
    "    plt.show()"
   ]
  },
  {
   "cell_type": "code",
   "execution_count": 23,
   "id": "31a55292",
   "metadata": {},
   "outputs": [
    {
     "data": {
      "image/png": "[encoded data removed]",
      "text/plain": [
       "<Figure size 432x288 with 2 Axes>"
      ]
     },
     "metadata": {
      "needs_background": "light"
     },
     "output_type": "display_data"
    }
   ],
   "source": [
    "plot_result(history_RNN)"
   ]
  },
  {
   "cell_type": "code",
   "execution_count": 24,
   "id": "3f4831aa",
   "metadata": {},
   "outputs": [
    {
     "data": {
      "image/png": "[encoded data removed]",
      "text/plain": [
       "<Figure size 432x288 with 2 Axes>"
      ]
     },
     "metadata": {
      "needs_background": "light"
     },
     "output_type": "display_data"
    }
   ],
   "source": [
    "plot_result(history_CNN)"
   ]
  },
  {
   "cell_type": "code",
   "execution_count": 25,
   "id": "2176d63d",
   "metadata": {},
   "outputs": [
    {
     "data": {
      "image/png": "[encoded data removed]",
      "text/plain": [
       "<Figure size 432x288 with 2 Axes>"
      ]
     },
     "metadata": {
      "needs_background": "light"
     },
     "output_type": "display_data"
    }
   ],
   "source": [
    "plot_result(history_GMP)"
   ]
  },
  {
   "cell_type": "markdown",
   "id": "4c3af899",
   "metadata": {},
   "source": [
    "세 모델 다 1~2 에포크만에 loss값이 올라간다. 오버피팅이 심하게 되어있다. dropout같은 규제 레이어를 추가해서 오버피팅을 막는게 좋아보인다."
   ]
  },
  {
   "cell_type": "markdown",
   "id": "16a8296d",
   "metadata": {},
   "source": [
    "## Embedding 레이어 분석\n",
    "accuracy가 가장 높은 `model_RNN` 레이어를 분석해보자"
   ]
  },
  {
   "cell_type": "code",
   "execution_count": 26,
   "id": "2876479c",
   "metadata": {},
   "outputs": [
    {
     "name": "stdout",
     "output_type": "stream",
     "text": [
      "(10000, 16)\n"
     ]
    }
   ],
   "source": [
    "embedding_layer = model_RNN.layers[0]\n",
    "weights = embedding_layer.get_weights()[0]\n",
    "print(weights.shape)    # shape: (vocab_size, embedding_dim)"
   ]
  },
  {
   "cell_type": "code",
   "execution_count": 27,
   "id": "8cc66775",
   "metadata": {},
   "outputs": [],
   "source": [
    "# 학습한 Embedding 파라미터를 파일에 저장 \n",
    "word2vec_file_path = os.getenv('HOME')+'/aiffel/sentiment_classification/data/word2vec_ex.txt'\n",
    "f = open(word2vec_file_path, 'w')\n",
    "f.write('{} {}\\n'.format(vocab_size-4, word_vector_dim))  # 몇개의 벡터를 얼마 사이즈로 기재할지 타이틀을 씁니다.\n",
    "\n",
    "# 단어 개수(에서 특수문자 4개는 제외하고)만큼의 워드 벡터를 파일에 기록한다 \n",
    "vectors = model_RNN.get_weights()[0]\n",
    "for i in range(4,vocab_size):\n",
    "    f.write('{} {}\\n'.format(index_to_word[i], ' '.join(map(str, list(vectors[i, :])))))\n",
    "f.close()"
   ]
  },
  {
   "cell_type": "code",
   "execution_count": 28,
   "id": "aa220cf3",
   "metadata": {},
   "outputs": [
    {
     "data": {
      "text/plain": [
       "array([ 0.06486569, -0.06353135, -0.08920244,  0.11366632, -0.09610826,\n",
       "       -0.18458545, -0.26318592,  0.15577292,  0.13546157,  0.18338549,\n",
       "        0.01881039,  0.12702996, -0.12138679,  0.10721421,  0.09283147,\n",
       "        0.0597663 ], dtype=float32)"
      ]
     },
     "execution_count": 28,
     "metadata": {},
     "output_type": "execute_result"
    }
   ],
   "source": [
    "from gensim.models.keyedvectors import Word2VecKeyedVectors\n",
    "\n",
    "word_vectors = Word2VecKeyedVectors.load_word2vec_format(word2vec_file_path, binary=False)\n",
    "vector = word_vectors['행복']\n",
    "vector"
   ]
  },
  {
   "cell_type": "markdown",
   "id": "a322ed1a",
   "metadata": {},
   "source": [
    "'행복'이라는 단어가 백터로 저장되어 있음을 볼 수 있다."
   ]
  },
  {
   "cell_type": "code",
   "execution_count": 29,
   "id": "7137303a",
   "metadata": {},
   "outputs": [
    {
     "data": {
      "text/plain": [
       "[('부드러운', 0.9584612846374512),\n",
       " ('공존', 0.9582409858703613),\n",
       " ('활약', 0.9556751251220703),\n",
       " ('so', 0.9549586772918701),\n",
       " ('푹', 0.949424147605896),\n",
       " ('걸작', 0.9478148221969604),\n",
       " ('달달', 0.9467953443527222),\n",
       " ('일품', 0.9451296329498291),\n",
       " ('넴', 0.9423137307167053),\n",
       " ('대인', 0.9413356781005859)]"
      ]
     },
     "execution_count": 29,
     "metadata": {},
     "output_type": "execute_result"
    }
   ],
   "source": [
    "word_vectors.similar_by_word('행복')"
   ]
  },
  {
   "cell_type": "markdown",
   "id": "b3345488",
   "metadata": {},
   "source": [
    "'행복' 단어와 similar한 결과값을 가진 근처 벡터들을 보여주는 함수다. 그런데 결과가 연관성이 없다. 그래서 한국어가 많이 임베딩된 Word2Vec을 가져와서 테스트해보자."
   ]
  },
  {
   "cell_type": "markdown",
   "id": "c02a842b",
   "metadata": {},
   "source": [
    "## 한국어 Word2Vec 임베딩 활용해서 성능 개선해보기\n",
    "[Pre-trained word vectors of 30+ languages](https://github.com/Kyubyong/wordvectors)   \n",
    "`ko.bin` 이용하기, `gensim` 버전을 3.x.x으로 낮춰야 오류 발생하지 않음"
   ]
  },
  {
   "cell_type": "code",
   "execution_count": 30,
   "id": "0d21c6ef",
   "metadata": {},
   "outputs": [
    {
     "name": "stdout",
     "output_type": "stream",
     "text": [
      "gensim                        3.8.1\r\n"
     ]
    }
   ],
   "source": [
    "!pip list | grep gensim"
   ]
  },
  {
   "cell_type": "code",
   "execution_count": 31,
   "id": "7040b886",
   "metadata": {},
   "outputs": [
    {
     "name": "stdout",
     "output_type": "stream",
     "text": [
      "Requirement already satisfied: gensim==3.8.1 in /opt/conda/lib/python3.9/site-packages (3.8.1)\n",
      "Requirement already satisfied: smart-open>=1.8.1 in /opt/conda/lib/python3.9/site-packages (from gensim==3.8.1) (5.2.1)\n",
      "Requirement already satisfied: numpy>=1.11.3 in /opt/conda/lib/python3.9/site-packages (from gensim==3.8.1) (1.21.4)\n",
      "Requirement already satisfied: six>=1.5.0 in /opt/conda/lib/python3.9/site-packages (from gensim==3.8.1) (1.16.0)\n",
      "Requirement already satisfied: scipy>=0.18.1 in /opt/conda/lib/python3.9/site-packages (from gensim==3.8.1) (1.7.1)\n",
      "\u001b[33mWARNING: Running pip as the 'root' user can result in broken permissions and conflicting behaviour with the system package manager. It is recommended to use a virtual environment instead: https://pip.pypa.io/warnings/venv\u001b[0m\n"
     ]
    }
   ],
   "source": [
    "!pip install --upgrade gensim==3.8.1"
   ]
  },
  {
   "cell_type": "code",
   "execution_count": 32,
   "id": "32a255e7",
   "metadata": {},
   "outputs": [
    {
     "name": "stdout",
     "output_type": "stream",
     "text": [
      "gensim                        3.8.1\r\n"
     ]
    }
   ],
   "source": [
    "!pip list | grep gensim"
   ]
  },
  {
   "cell_type": "code",
   "execution_count": 33,
   "id": "58fa620d",
   "metadata": {},
   "outputs": [],
   "source": [
    "import gensim"
   ]
  },
  {
   "cell_type": "code",
   "execution_count": 34,
   "id": "e2dc29bf",
   "metadata": {},
   "outputs": [
    {
     "name": "stderr",
     "output_type": "stream",
     "text": [
      "/tmp/ipykernel_2057/2872938653.py:4: DeprecationWarning: Call to deprecated `__getitem__` (Method will be removed in 4.0.0, use self.wv.__getitem__() instead).\n",
      "  vector = word2vec['행복']\n"
     ]
    },
    {
     "data": {
      "text/plain": [
       "array([-9.37647521e-01,  3.84321630e-01,  2.66711020e+00, -4.90441829e-01,\n",
       "       -1.87378454e+00,  7.46136725e-01,  2.06848055e-01,  1.17018402e+00,\n",
       "        1.76071718e-01,  3.52754295e-01,  3.27339917e-01,  6.24713361e-01,\n",
       "        4.98253882e-01, -2.54079252e-01,  1.86370641e-01,  5.02261400e-01,\n",
       "        5.70066161e-02,  1.03963447e+00,  4.08005528e-02,  8.49552810e-01,\n",
       "       -1.51971027e-01,  1.52919903e-01,  4.23378617e-01,  1.98788300e-01,\n",
       "        1.94235623e+00, -2.86525309e-01,  4.72732335e-01, -2.14849854e+00,\n",
       "       -1.26080573e+00, -1.48370254e+00, -7.26968274e-02, -5.65377235e-01,\n",
       "       -1.09561288e+00, -8.93630147e-01,  8.22069585e-01, -4.43008691e-01,\n",
       "        6.42822444e-01, -1.16659820e+00,  1.46968305e+00,  3.69109273e+00,\n",
       "       -3.84803802e-01,  1.05108881e+00,  2.13611469e-01, -1.45143092e+00,\n",
       "        5.02505243e-01,  7.05544576e-02,  1.83592427e+00, -6.79975271e-01,\n",
       "        3.81043881e-01,  2.86220014e-01, -3.55438769e-01,  4.01191115e-02,\n",
       "       -2.18128219e-01,  3.57237577e-01, -1.05672097e+00, -8.56383026e-01,\n",
       "        5.01443893e-02, -2.10841298e+00, -6.82635069e-01,  1.37372768e+00,\n",
       "        1.74011505e+00,  1.65592742e+00,  7.43449867e-01,  4.73941445e-01,\n",
       "       -2.09605321e-01,  5.07387042e-01, -2.66904473e-01,  2.30762553e+00,\n",
       "        9.43911314e-01, -1.79484308e-01, -4.74636853e-01,  7.43123651e-01,\n",
       "       -9.69141006e-01,  1.07185638e+00,  3.04059267e-01, -1.41069520e+00,\n",
       "        1.43436384e+00, -2.18488291e-01,  6.40276611e-01, -3.76534551e-01,\n",
       "       -6.39843464e-01, -2.19815850e+00,  8.00515041e-02,  2.39617094e-01,\n",
       "       -1.59744668e+00, -8.24819148e-01, -7.78260410e-01, -6.11576736e-01,\n",
       "       -1.71091521e+00, -7.09024251e-01, -7.56663457e-02, -2.93283558e+00,\n",
       "        1.12008333e+00, -8.73616338e-01, -7.98623204e-01,  1.20740056e+00,\n",
       "       -1.33505988e+00, -5.31908154e-01,  7.32603371e-01, -2.94772536e-01,\n",
       "       -7.41957307e-01,  2.66695172e-01, -2.54117668e-01, -3.16498488e-01,\n",
       "       -2.53271103e+00,  1.23276532e+00, -4.65467095e-01,  1.95745409e-01,\n",
       "       -3.06052828e+00, -1.72411609e+00, -8.69291723e-02, -1.01631391e+00,\n",
       "        1.35540202e-01, -4.10389930e-01,  5.17696977e-01, -9.21352744e-01,\n",
       "       -1.43972948e-01,  7.12622166e-01, -4.84758556e-01, -7.36877918e-01,\n",
       "        1.28522015e+00,  5.96004665e-01, -6.96237683e-01, -2.06515026e+00,\n",
       "        2.99054921e-01,  2.57981348e+00,  1.24758929e-01, -1.16612986e-01,\n",
       "        1.17532516e+00,  6.59984529e-01,  8.64598632e-01, -9.77743983e-01,\n",
       "        1.24154842e+00,  1.51769269e+00,  1.87096596e+00, -1.69182909e+00,\n",
       "        3.77366602e-01, -3.15761328e-01,  1.07878089e+00, -8.38944614e-01,\n",
       "        1.57406020e+00,  1.26247287e+00,  1.60818672e+00,  4.89655405e-01,\n",
       "       -9.56196666e-01, -1.16354994e-01, -1.04483902e+00, -1.01968300e+00,\n",
       "        4.62032884e-01,  2.91770607e-01, -1.56372988e+00, -2.25391793e+00,\n",
       "       -1.67305291e+00,  6.22754216e-01, -4.63402152e-01, -1.44247961e+00,\n",
       "        7.61960328e-01,  1.52420437e+00, -1.10674810e+00,  1.06103754e+00,\n",
       "        1.15935969e+00, -6.28344715e-02, -6.44562304e-01, -1.30466968e-01,\n",
       "        7.17003405e-01, -9.34351981e-01,  1.57684311e-01,  1.39414191e+00,\n",
       "       -1.55128384e+00,  1.29093862e+00, -1.00338387e+00, -3.34369874e+00,\n",
       "        9.63430882e-01,  3.26154470e-01, -3.66838351e-02, -1.54386711e+00,\n",
       "        6.11291051e-01, -3.62257898e-01,  1.09795833e+00,  1.64526093e+00,\n",
       "        2.73817778e-03, -3.38081606e-02,  1.24219441e+00, -2.27695346e+00,\n",
       "       -5.41662872e-01, -2.55753994e-01,  8.37883353e-01,  5.52775204e-01,\n",
       "        4.60804224e-01,  5.69246531e-01,  6.04159832e-01,  2.69762248e-01,\n",
       "        5.95691264e-01, -1.32518134e-03,  6.06130838e-01, -5.87025225e-01,\n",
       "        7.52696276e-01, -9.91011381e-01,  7.38178864e-02, -4.04879102e-04],\n",
       "      dtype=float32)"
      ]
     },
     "execution_count": 34,
     "metadata": {},
     "output_type": "execute_result"
    }
   ],
   "source": [
    "word2vec_path = os.getenv('HOME')+'/aiffel/sentiment_classification/data/ko.bin'\n",
    "word2vec = gensim.models.Word2Vec.load(word2vec_path)\n",
    "# word2vec = KeyedVectors.load_word2vec_format(word2vec_path, binary=True, limit=1000000)\n",
    "vector = word2vec['행복']\n",
    "vector"
   ]
  },
  {
   "cell_type": "code",
   "execution_count": 35,
   "id": "30680be2",
   "metadata": {},
   "outputs": [
    {
     "name": "stderr",
     "output_type": "stream",
     "text": [
      "/tmp/ipykernel_2057/898241355.py:1: DeprecationWarning: Call to deprecated `similar_by_word` (Method will be removed in 4.0.0, use self.wv.similar_by_word() instead).\n",
      "  word2vec.similar_by_word(\"행복\")\n"
     ]
    },
    {
     "data": {
      "text/plain": [
       "[('사랑', 0.6759077310562134),\n",
       " ('기쁨', 0.6493781805038452),\n",
       " ('즐거움', 0.6396492719650269),\n",
       " ('삶', 0.6299898028373718),\n",
       " ('젊음', 0.6187379360198975),\n",
       " ('즐겁', 0.6027448177337646),\n",
       " ('인생', 0.6002243161201477),\n",
       " ('존엄', 0.5952589511871338),\n",
       " ('고독', 0.5938762426376343),\n",
       " ('불행', 0.5894461870193481)]"
      ]
     },
     "execution_count": 35,
     "metadata": {},
     "output_type": "execute_result"
    }
   ],
   "source": [
    "word2vec.similar_by_word(\"행복\")"
   ]
  },
  {
   "cell_type": "markdown",
   "id": "4bba76f8",
   "metadata": {},
   "source": [
    "similar한 데이터들만 나와서 단어 데이터셋의 가공 및 학습의 중요성을 다시 한번 느꼈다."
   ]
  },
  {
   "cell_type": "code",
   "execution_count": 36,
   "id": "0fca68d7",
   "metadata": {},
   "outputs": [
    {
     "data": {
      "text/plain": [
       "(200,)"
      ]
     },
     "execution_count": 36,
     "metadata": {},
     "output_type": "execute_result"
    }
   ],
   "source": [
    "vector.shape"
   ]
  },
  {
   "cell_type": "code",
   "execution_count": 37,
   "id": "38bc55b5",
   "metadata": {},
   "outputs": [
    {
     "name": "stderr",
     "output_type": "stream",
     "text": [
      "/tmp/ipykernel_2057/330436182.py:7: DeprecationWarning: Call to deprecated `__contains__` (Method will be removed in 4.0.0, use self.wv.__contains__() instead).\n",
      "  if index_to_word[i] in word2vec:\n",
      "/tmp/ipykernel_2057/330436182.py:8: DeprecationWarning: Call to deprecated `__getitem__` (Method will be removed in 4.0.0, use self.wv.__getitem__() instead).\n",
      "  embedding_matrix[i] = word2vec[index_to_word[i]]\n"
     ]
    }
   ],
   "source": [
    "vocab_size = 10000    # 어휘 사전 크기\n",
    "word_vector_dim = 200  # 워드 벡터의 차원수\n",
    "embedding_matrix = np.random.rand(vocab_size, word_vector_dim)\n",
    "\n",
    "# embedding_matrix에 Word2Vec 워드 벡터를 단어 하나씩마다 차례차례 카피한다.\n",
    "for i in range(4,vocab_size):\n",
    "    if index_to_word[i] in word2vec:\n",
    "        embedding_matrix[i] = word2vec[index_to_word[i]]"
   ]
  },
  {
   "cell_type": "code",
   "execution_count": 38,
   "id": "4fcd9123",
   "metadata": {},
   "outputs": [
    {
     "data": {
      "text/plain": [
       "(10000, 200)"
      ]
     },
     "execution_count": 38,
     "metadata": {},
     "output_type": "execute_result"
    }
   ],
   "source": [
    "embedding_matrix.shape"
   ]
  },
  {
   "cell_type": "markdown",
   "id": "a5518e64",
   "metadata": {},
   "source": [
    "# 새로운 임베딩 데이터로 모델 학습 및 결과\n",
    "\n",
    "임베딩의 차이를 보기 위해 레이어를 전에 진행했던 `model_RNN`, `model_CNN`, `model_GMP`와 동일하게 구성해서 학습해보고 결과를 봐보자"
   ]
  },
  {
   "cell_type": "code",
   "execution_count": 39,
   "id": "6457498c",
   "metadata": {},
   "outputs": [],
   "source": [
    "from tensorflow.keras.initializers import Constant\n",
    "\n",
    "\n",
    "vocab_size = 10000\n",
    "word_vector_dim = 200  # 단어 하나를 표현하는 임베딩 벡터의 차원수이다."
   ]
  },
  {
   "cell_type": "code",
   "execution_count": 40,
   "id": "bdd6340c",
   "metadata": {},
   "outputs": [
    {
     "name": "stdout",
     "output_type": "stream",
     "text": [
      "Model: \"sequential_3\"\n",
      "_________________________________________________________________\n",
      "Layer (type)                 Output Shape              Param #   \n",
      "=================================================================\n",
      "embedding_3 (Embedding)      (None, 41, 200)           2000000   \n",
      "_________________________________________________________________\n",
      "lstm_1 (LSTM)                (None, 8)                 6688      \n",
      "_________________________________________________________________\n",
      "dense_6 (Dense)              (None, 8)                 72        \n",
      "_________________________________________________________________\n",
      "dense_7 (Dense)              (None, 1)                 9         \n",
      "=================================================================\n",
      "Total params: 2,006,769\n",
      "Trainable params: 2,006,769\n",
      "Non-trainable params: 0\n",
      "_________________________________________________________________\n"
     ]
    }
   ],
   "source": [
    "# new embedding RNN\n",
    "model_new_RNN = tf.keras.Sequential()\n",
    "model_new_RNN.add(tf.keras.layers.Embedding(vocab_size, \n",
    "                                 word_vector_dim, \n",
    "                                 embeddings_initializer=Constant(embedding_matrix),  # 카피한 임베딩을 여기서 활용\n",
    "                                 input_length=maxlen, \n",
    "                                 trainable=True))   # trainable을 True로 주면 Fine-tuning\n",
    "model_new_RNN.add(tf.keras.layers.LSTM(8))   # 가장 널리 쓰이는 RNN인 LSTM 레이어를 사용했다.\n",
    "model_new_RNN.add(tf.keras.layers.Dense(8, activation='relu'))\n",
    "model_new_RNN.add(tf.keras.layers.Dense(1, activation='sigmoid'))  # 최종 출력은 긍정/부정을 1dim이다.\n",
    "\n",
    "model_new_RNN.summary()"
   ]
  },
  {
   "cell_type": "code",
   "execution_count": 41,
   "id": "9e56b055",
   "metadata": {},
   "outputs": [
    {
     "name": "stdout",
     "output_type": "stream",
     "text": [
      "Model: \"sequential_4\"\n",
      "_________________________________________________________________\n",
      "Layer (type)                 Output Shape              Param #   \n",
      "=================================================================\n",
      "embedding_4 (Embedding)      (None, 41, 200)           2000000   \n",
      "_________________________________________________________________\n",
      "conv1d_2 (Conv1D)            (None, 35, 16)            22416     \n",
      "_________________________________________________________________\n",
      "max_pooling1d_1 (MaxPooling1 (None, 7, 16)             0         \n",
      "_________________________________________________________________\n",
      "conv1d_3 (Conv1D)            (None, 1, 16)             1808      \n",
      "_________________________________________________________________\n",
      "global_max_pooling1d_2 (Glob (None, 16)                0         \n",
      "_________________________________________________________________\n",
      "dense_8 (Dense)              (None, 8)                 136       \n",
      "_________________________________________________________________\n",
      "dense_9 (Dense)              (None, 1)                 9         \n",
      "=================================================================\n",
      "Total params: 2,024,369\n",
      "Trainable params: 2,024,369\n",
      "Non-trainable params: 0\n",
      "_________________________________________________________________\n"
     ]
    }
   ],
   "source": [
    "# new embedding CNN\n",
    "model_new_CNN = tf.keras.Sequential()\n",
    "model_new_CNN.add(tf.keras.layers.Embedding(vocab_size, \n",
    "                                 word_vector_dim, \n",
    "                                 embeddings_initializer=Constant(embedding_matrix),  # 카피한 임베딩을 여기서 활용\n",
    "                                 input_length=maxlen, \n",
    "                                 trainable=True))   # trainable을 True로 주면 Fine-tuning\n",
    "model_new_CNN.add(tf.keras.layers.Conv1D(16, 7, activation='relu'))\n",
    "model_new_CNN.add(tf.keras.layers.MaxPooling1D(5))\n",
    "model_new_CNN.add(tf.keras.layers.Conv1D(16, 7, activation='relu'))\n",
    "model_new_CNN.add(tf.keras.layers.GlobalMaxPooling1D())\n",
    "model_new_CNN.add(tf.keras.layers.Dense(8, activation='relu'))\n",
    "model_new_CNN.add(tf.keras.layers.Dense(1, activation='sigmoid'))  # 최종 출력은 긍정/부정을 1dim이다.\n",
    "\n",
    "model_new_CNN.summary()"
   ]
  },
  {
   "cell_type": "code",
   "execution_count": 42,
   "id": "6d4a11b4",
   "metadata": {},
   "outputs": [
    {
     "name": "stdout",
     "output_type": "stream",
     "text": [
      "Model: \"sequential_5\"\n",
      "_________________________________________________________________\n",
      "Layer (type)                 Output Shape              Param #   \n",
      "=================================================================\n",
      "embedding_5 (Embedding)      (None, 41, 200)           2000000   \n",
      "_________________________________________________________________\n",
      "global_max_pooling1d_3 (Glob (None, 200)               0         \n",
      "_________________________________________________________________\n",
      "dense_10 (Dense)             (None, 8)                 1608      \n",
      "_________________________________________________________________\n",
      "dense_11 (Dense)             (None, 1)                 9         \n",
      "=================================================================\n",
      "Total params: 2,001,617\n",
      "Trainable params: 2,001,617\n",
      "Non-trainable params: 0\n",
      "_________________________________________________________________\n"
     ]
    }
   ],
   "source": [
    "# new embedding GMP\n",
    "model_new_GMP = tf.keras.Sequential()\n",
    "model_new_GMP.add(tf.keras.layers.Embedding(vocab_size, \n",
    "                                 word_vector_dim, \n",
    "                                 embeddings_initializer=Constant(embedding_matrix),  # 카피한 임베딩을 여기서 활용\n",
    "                                 input_length=maxlen, \n",
    "                                 trainable=True))   # trainable을 True로 주면 Fine-tuning\n",
    "model_new_GMP.add(tf.keras.layers.GlobalMaxPooling1D())\n",
    "model_new_GMP.add(tf.keras.layers.Dense(8, activation='relu'))\n",
    "model_new_GMP.add(tf.keras.layers.Dense(1, activation='sigmoid'))  # 최종 출력은 긍정/부정을 1dim이다.\n",
    "\n",
    "model_new_GMP.summary()"
   ]
  },
  {
   "cell_type": "code",
   "execution_count": 43,
   "id": "5f943504",
   "metadata": {},
   "outputs": [
    {
     "name": "stdout",
     "output_type": "stream",
     "text": [
      "Epoch 1/20\n",
      "229/229 [==============================] - 3s 8ms/step - loss: 0.5264 - accuracy: 0.7320 - val_loss: 0.4057 - val_accuracy: 0.8198\n",
      "Epoch 2/20\n",
      "229/229 [==============================] - 1s 7ms/step - loss: 0.3610 - accuracy: 0.8451 - val_loss: 0.3634 - val_accuracy: 0.8403\n",
      "Epoch 3/20\n",
      "229/229 [==============================] - 2s 7ms/step - loss: 0.3175 - accuracy: 0.8673 - val_loss: 0.3513 - val_accuracy: 0.8477\n",
      "Epoch 4/20\n",
      "229/229 [==============================] - 1s 7ms/step - loss: 0.2930 - accuracy: 0.8800 - val_loss: 0.3502 - val_accuracy: 0.8502\n",
      "Epoch 5/20\n",
      "229/229 [==============================] - 2s 7ms/step - loss: 0.2751 - accuracy: 0.8890 - val_loss: 0.3513 - val_accuracy: 0.8501\n",
      "Epoch 6/20\n",
      "229/229 [==============================] - 1s 7ms/step - loss: 0.2606 - accuracy: 0.8958 - val_loss: 0.3540 - val_accuracy: 0.8502\n",
      "Epoch 7/20\n",
      "229/229 [==============================] - 2s 7ms/step - loss: 0.2464 - accuracy: 0.9026 - val_loss: 0.3621 - val_accuracy: 0.8474\n"
     ]
    }
   ],
   "source": [
    "model_new_RNN.compile(optimizer='adam',\n",
    "              loss='binary_crossentropy',\n",
    "              metrics=['accuracy'])\n",
    "early_stopping_cb = keras.callbacks.EarlyStopping(patience=3, restore_best_weights=True)\n",
    "\n",
    "epochs=20\n",
    "\n",
    "history_new_RNN = model_new_RNN.fit(train_input,\n",
    "                    test_input,\n",
    "                    epochs=epochs,\n",
    "                    batch_size=512,\n",
    "                    validation_data=(train_target, test_target),\n",
    "                    verbose=1,\n",
    "                    callbacks=[early_stopping_cb])"
   ]
  },
  {
   "cell_type": "code",
   "execution_count": 44,
   "id": "3d638876",
   "metadata": {},
   "outputs": [
    {
     "name": "stdout",
     "output_type": "stream",
     "text": [
      "1537/1537 - 3s - loss: 0.3543 - accuracy: 0.8496\n",
      "[0.35427749156951904, 0.8496450185775757]\n"
     ]
    }
   ],
   "source": [
    "results_new_RNN = model_new_RNN.evaluate(X_test, y_test, verbose=2)\n",
    "\n",
    "print(results_new_RNN)"
   ]
  },
  {
   "cell_type": "code",
   "execution_count": 45,
   "id": "e8d98803",
   "metadata": {},
   "outputs": [
    {
     "name": "stdout",
     "output_type": "stream",
     "text": [
      "Epoch 1/20\n",
      "229/229 [==============================] - 3s 8ms/step - loss: 0.5338 - accuracy: 0.7220 - val_loss: 0.4407 - val_accuracy: 0.7968\n",
      "Epoch 2/20\n",
      "229/229 [==============================] - 1s 6ms/step - loss: 0.3858 - accuracy: 0.8273 - val_loss: 0.3872 - val_accuracy: 0.8272\n",
      "Epoch 3/20\n",
      "229/229 [==============================] - 1s 6ms/step - loss: 0.3280 - accuracy: 0.8588 - val_loss: 0.3663 - val_accuracy: 0.8375\n",
      "Epoch 4/20\n",
      "229/229 [==============================] - 1s 6ms/step - loss: 0.2930 - accuracy: 0.8770 - val_loss: 0.3645 - val_accuracy: 0.8426\n",
      "Epoch 5/20\n",
      "229/229 [==============================] - 1s 6ms/step - loss: 0.2653 - accuracy: 0.8905 - val_loss: 0.3708 - val_accuracy: 0.8428\n",
      "Epoch 6/20\n",
      "229/229 [==============================] - 1s 6ms/step - loss: 0.2428 - accuracy: 0.9021 - val_loss: 0.3820 - val_accuracy: 0.8434\n",
      "Epoch 7/20\n",
      "229/229 [==============================] - 1s 6ms/step - loss: 0.2195 - accuracy: 0.9136 - val_loss: 0.3958 - val_accuracy: 0.8398\n"
     ]
    }
   ],
   "source": [
    "model_new_CNN.compile(optimizer='adam',\n",
    "              loss='binary_crossentropy',\n",
    "              metrics=['accuracy'])\n",
    "early_stopping_cb = keras.callbacks.EarlyStopping(patience=3, restore_best_weights=True)\n",
    "              \n",
    "epochs=20\n",
    "\n",
    "history_new_CNN = model_new_CNN.fit(train_input,\n",
    "                    test_input,\n",
    "                    epochs=epochs,\n",
    "                    batch_size=512,\n",
    "                    validation_data=(train_target, test_target),\n",
    "                    verbose=1,\n",
    "                    callbacks=[early_stopping_cb])"
   ]
  },
  {
   "cell_type": "code",
   "execution_count": 46,
   "id": "25486bea",
   "metadata": {},
   "outputs": [
    {
     "name": "stdout",
     "output_type": "stream",
     "text": [
      "1537/1537 - 3s - loss: 0.3652 - accuracy: 0.8438\n",
      "[0.36517786979675293, 0.8437862396240234]\n"
     ]
    }
   ],
   "source": [
    "results_new_CNN = model_new_CNN.evaluate(X_test, y_test, verbose=2)\n",
    "\n",
    "print(results_new_CNN)"
   ]
  },
  {
   "cell_type": "code",
   "execution_count": 47,
   "id": "f702c2f0",
   "metadata": {},
   "outputs": [
    {
     "name": "stdout",
     "output_type": "stream",
     "text": [
      "Epoch 1/20\n",
      "229/229 [==============================] - 1s 6ms/step - loss: 0.1581 - accuracy: 0.9426 - val_loss: 0.5267 - val_accuracy: 0.8308\n",
      "Epoch 2/20\n",
      "229/229 [==============================] - 1s 5ms/step - loss: 0.1507 - accuracy: 0.9466 - val_loss: 0.5453 - val_accuracy: 0.8305\n",
      "Epoch 3/20\n",
      "229/229 [==============================] - 1s 6ms/step - loss: 0.1475 - accuracy: 0.9476 - val_loss: 0.5537 - val_accuracy: 0.8295\n",
      "Epoch 4/20\n",
      "229/229 [==============================] - 1s 6ms/step - loss: 0.1421 - accuracy: 0.9501 - val_loss: 0.5691 - val_accuracy: 0.8317\n"
     ]
    }
   ],
   "source": [
    "model_new_GMP.compile(optimizer='adam',\n",
    "              loss='binary_crossentropy',\n",
    "              metrics=['accuracy'])\n",
    "early_stopping_cb = keras.callbacks.EarlyStopping(patience=3, restore_best_weights=True)\n",
    "\n",
    "\n",
    "epochs=20\n",
    "\n",
    "history_new_GMP = model_RNN.fit(train_input,\n",
    "                    test_input,\n",
    "                    epochs=epochs,\n",
    "                    batch_size=512,\n",
    "                    validation_data=(train_target, test_target),\n",
    "                    verbose=1,\n",
    "                    callbacks=[early_stopping_cb])"
   ]
  },
  {
   "cell_type": "code",
   "execution_count": 48,
   "id": "ef1d6e3c",
   "metadata": {},
   "outputs": [
    {
     "name": "stdout",
     "output_type": "stream",
     "text": [
      "1537/1537 - 2s - loss: 0.8639 - accuracy: 0.4970\n",
      "[0.8638647794723511, 0.4970400929450989]\n"
     ]
    }
   ],
   "source": [
    "results_new_GMP = model_new_GMP.evaluate(X_test, y_test, verbose=2)\n",
    "\n",
    "print(results_new_GMP)"
   ]
  },
  {
   "cell_type": "markdown",
   "id": "29be5663",
   "metadata": {},
   "source": [
    "# 하이퍼 파라미터 세팅하기\n",
    "정확도가 85% 이상이 되는게 목표이므로 `model_new_RNN`의 하이퍼 파라미터를 튜닝해보자"
   ]
  },
  {
   "cell_type": "code",
   "execution_count": 49,
   "id": "b84276a6",
   "metadata": {},
   "outputs": [
    {
     "name": "stdout",
     "output_type": "stream",
     "text": [
      "Model: \"sequential_6\"\n",
      "_________________________________________________________________\n",
      "Layer (type)                 Output Shape              Param #   \n",
      "=================================================================\n",
      "embedding_6 (Embedding)      (None, 41, 200)           2000000   \n",
      "_________________________________________________________________\n",
      "lstm_2 (LSTM)                (None, 64)                67840     \n",
      "_________________________________________________________________\n",
      "dropout (Dropout)            (None, 64)                0         \n",
      "_________________________________________________________________\n",
      "dense_12 (Dense)             (None, 8)                 520       \n",
      "_________________________________________________________________\n",
      "dense_13 (Dense)             (None, 1)                 9         \n",
      "=================================================================\n",
      "Total params: 2,068,369\n",
      "Trainable params: 2,068,369\n",
      "Non-trainable params: 0\n",
      "_________________________________________________________________\n"
     ]
    }
   ],
   "source": [
    "# new embedding RNN\n",
    "model_new_RNN = tf.keras.Sequential()\n",
    "model_new_RNN.add(tf.keras.layers.Embedding(vocab_size, \n",
    "                                 word_vector_dim, \n",
    "                                 embeddings_initializer=Constant(embedding_matrix),  # 카피한 임베딩을 여기서 활용\n",
    "                                 input_length=maxlen, \n",
    "                                 trainable=True))   # trainable을 True로 주면 Fine-tuning\n",
    "model_new_RNN.add(tf.keras.layers.LSTM(64))   # 가장 널리 쓰이는 RNN인 LSTM 레이어를 사용했다.\n",
    "model_new_RNN.add(tf.keras.layers.Dropout(0.3))\n",
    "model_new_RNN.add(tf.keras.layers.Dense(8, activation='relu'))\n",
    "model_new_RNN.add(tf.keras.layers.Dense(1, activation='sigmoid'))  # 최종 출력은 긍정/부정을 1dim이다.\n",
    "\n",
    "\n",
    "model_new_RNN.summary()"
   ]
  },
  {
   "cell_type": "code",
   "execution_count": 50,
   "id": "b5e7dc39",
   "metadata": {},
   "outputs": [
    {
     "name": "stdout",
     "output_type": "stream",
     "text": [
      "Epoch 1/20\n",
      "229/229 [==============================] - 4s 10ms/step - loss: 0.4838 - accuracy: 0.7614 - val_loss: 0.3990 - val_accuracy: 0.8181\n",
      "Epoch 2/20\n",
      "229/229 [==============================] - 2s 9ms/step - loss: 0.3475 - accuracy: 0.8486 - val_loss: 0.3409 - val_accuracy: 0.8509\n",
      "Epoch 3/20\n",
      "229/229 [==============================] - 2s 9ms/step - loss: 0.3050 - accuracy: 0.8705 - val_loss: 0.3330 - val_accuracy: 0.8536\n",
      "Epoch 4/20\n",
      "229/229 [==============================] - 2s 9ms/step - loss: 0.2780 - accuracy: 0.8847 - val_loss: 0.3363 - val_accuracy: 0.8583\n",
      "Epoch 5/20\n",
      "229/229 [==============================] - 2s 9ms/step - loss: 0.2569 - accuracy: 0.8941 - val_loss: 0.3332 - val_accuracy: 0.8597\n",
      "Epoch 6/20\n",
      "229/229 [==============================] - 2s 9ms/step - loss: 0.2390 - accuracy: 0.9020 - val_loss: 0.3446 - val_accuracy: 0.8613\n"
     ]
    }
   ],
   "source": [
    "model_new_RNN.compile(optimizer='adam',\n",
    "              loss='binary_crossentropy',\n",
    "              metrics=['accuracy'])\n",
    "early_stopping_cb = keras.callbacks.EarlyStopping(patience=3, restore_best_weights=True)\n",
    "\n",
    "epochs=20\n",
    "\n",
    "history_new_RNN = model_new_RNN.fit(train_input,\n",
    "                    test_input,\n",
    "                    epochs=epochs,\n",
    "                    batch_size=512,\n",
    "                    validation_data=(train_target, test_target),\n",
    "                    verbose=1,\n",
    "                    callbacks=[early_stopping_cb])"
   ]
  },
  {
   "cell_type": "code",
   "execution_count": 51,
   "id": "847dbf9f",
   "metadata": {},
   "outputs": [
    {
     "name": "stdout",
     "output_type": "stream",
     "text": [
      "1537/1537 - 3s - loss: 0.3341 - accuracy: 0.8533\n",
      "[0.3340892791748047, 0.8532660603523254]\n"
     ]
    }
   ],
   "source": [
    "results_new_RNN = model_new_RNN.evaluate(X_test, y_test, verbose=2)\n",
    "\n",
    "print(results_new_RNN)"
   ]
  },
  {
   "cell_type": "markdown",
   "id": "7facfc66",
   "metadata": {},
   "source": [
    "### dropout 추가, LSTM(8) -> LSTM(64)로 목표치  accuracy 0.85 이상 달성했다!"
   ]
  },
  {
   "cell_type": "markdown",
   "id": "d091fbc1",
   "metadata": {},
   "source": [
    "# 회고\n"
   ]
  },
  {
   "cell_type": "markdown",
   "id": "17166ee1",
   "metadata": {},
   "source": [
    "텍스트 데이터 토큰화랑 벡터로 정의하기, 전처리 과정이 꽤나 복잡하고 어려웠다.   \n",
    "특히 load_data 클래스를 선언하는 과정에서 `vocab = ['<PAD>', '<BOS>', '<UNK>', '']` 이부분이 아이펠 코드 예시를 보면 아예 다 `''` 만 있고 빈칸으로 4번이던데, 이렇게 선언해도 괜찮을지 모르겠다.   \n",
    "\n",
    "그리고 직접 임베딩한 결과물로 모델을 학습시킨것과 깃헙으로 공유된 임베딩이 크게 다른걸 보면 NLP는 임베딩 과정의 중요도가 5할정도는 되는거 같다.   \n",
    "> 데이터 받아오기 -> ⭐️전처리(토큰화, 데이터 가공)⭐️ -> 모델 훈련, 학습 -> 결과 과정\n",
    "\n",
    "한글이 영어보다 전처리 과정이 많이 불편했다. 왜냐하면 영어는 단어가 크게 바뀌지 않는데, 한글은 같은 단어더라도 앞뒤 상황에 따라, 띄어쓰기에 따라 의미가 달라지는 경우가 많았고, 학습시킬 데이터가 비교적 많지 않았다. 그래서 찾아보니 한글의 뜻을 영문으로 바꾸는 Pos Tag같은것도 있었는데 나중에 더 찾아보는게 좋아보인다.   \n",
    "\n",
    "gensim 버전을 다운그레이드할때 애를 많이먹었다. 깃헙에서 받은 임베딩 데이터셋을 적용할때 꼭 필요했는데, 불러오는 과정에서 버전 때문에 오류가 생겼다. 예시 코드는 영문어 불어올때 쓰는 함수였고 나는 `word2vec = gensim.models.Word2Vec.load(word2vec_path)`로 불러왔다. 불러오기 전에 gensim uninstall과 낮은 버전으로 새로 인스톨을 진행했다. 그런데 빨간색으로 `DeprecationWarning`이 떠서 진행하면 안되나 싶었지만 그래도 결과물은 나와서 진행했다.   \n",
    "\n",
    "~~하이퍼파라미터 세팅할 때 혼공머신에서 배운 early stopping과 dropout을 추가했는데 배운걸 토대로 써먹어서 학습에 흥미가 더 붙었다.~~   \n"
   ]
  }
 ],
 "metadata": {
  "kernelspec": {
   "display_name": "Python 3 (ipykernel)",
   "language": "python",
   "name": "python3"
  },
  "language_info": {
   "codemirror_mode": {
    "name": "ipython",
    "version": 3
   },
   "file_extension": ".py",
   "mimetype": "text/x-python",
   "name": "python",
   "nbconvert_exporter": "python",
   "pygments_lexer": "ipython3",
   "version": "3.9.7"
  }
 },
 "nbformat": 4,
 "nbformat_minor": 5
}
