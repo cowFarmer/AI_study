{
 "cells": [
  {
   "cell_type": "markdown",
   "id": "66abc2e3",
   "metadata": {},
   "source": [
    "# 16. 다음에 볼 영화 예측하기"
   ]
  },
  {
   "cell_type": "markdown",
   "id": "054b7dac",
   "metadata": {},
   "source": [
    "session based recommendation은 말 그대로 세션 데이터를 기반으로 유저가 다음에 클릭할 아이템은 예측하는 추천 시스템을 말한다.   \n",
    "세션은 접근하기 쉬운 쿠키에 귀중한 데이터를 맡기기 어려워 서버에 저장하는것이다. 이 정보로 개개인을 구별할 수 있다.   \n",
    "로그인으로 비유하면 로그인 시도할 때 입력한 정보를 세션에 보내고, 만약 성공했으면 서버에서 쿠키를 보내 개인의 브라우저에 정보를 담는다. 그리고 다른 페이지를 넘어다닐 때 쿠키를 확인하고 로그인을 유지한다. 만약 쿠키를 지우면 사용자의 로그인 정보를 서버에서 세션의 형태로 갖고는 있지만, 해당 브라우저에서 로그인한 사람이 맞는지 파악이 안되어 로그아웃이 된다.   \n",
    "\n",
    "이를 기반으로 다음에 볼 영화를 예측해보자. 데이터셋은 `MovieLens 1M Dataset`을 이용하자."
   ]
  },
  {
   "cell_type": "markdown",
   "id": "6f9cbe03",
   "metadata": {},
   "source": [
    "# 1. 데이터 불러오기"
   ]
  },
  {
   "cell_type": "code",
   "execution_count": 1,
   "id": "04dde06d",
   "metadata": {},
   "outputs": [
    {
     "name": "stdout",
     "output_type": "stream",
     "text": [
      "1.3.3\n",
      "2.6.0\n"
     ]
    }
   ],
   "source": [
    "import pandas\n",
    "import tensorflow\n",
    "from datetime import datetime\n",
    "import datetime as dt\n",
    "from pathlib import Path\n",
    "import os\n",
    "import matplotlib.pyplot as plt\n",
    "\n",
    "import numpy as np\n",
    "import pandas as pd\n",
    "\n",
    "print(pandas.__version__)\n",
    "print(tensorflow.__version__)"
   ]
  },
  {
   "cell_type": "code",
   "execution_count": 2,
   "id": "16736d12",
   "metadata": {},
   "outputs": [
    {
     "name": "stderr",
     "output_type": "stream",
     "text": [
      "/opt/conda/lib/python3.9/site-packages/pandas/util/_decorators.py:311: ParserWarning: Falling back to the 'python' engine because the 'c' engine does not support regex separators (separators > 1 char and different from '\\s+' are interpreted as regex); you can avoid this warning by specifying engine='python'.\n",
      "  return func(*args, **kwargs)\n"
     ]
    },
    {
     "data": {
      "text/html": [
       "<div>\n",
       "<style scoped>\n",
       "    .dataframe tbody tr th:only-of-type {\n",
       "        vertical-align: middle;\n",
       "    }\n",
       "\n",
       "    .dataframe tbody tr th {\n",
       "        vertical-align: top;\n",
       "    }\n",
       "\n",
       "    .dataframe thead th {\n",
       "        text-align: right;\n",
       "    }\n",
       "</style>\n",
       "<table border=\"1\" class=\"dataframe\">\n",
       "  <thead>\n",
       "    <tr style=\"text-align: right;\">\n",
       "      <th></th>\n",
       "      <th>UserId</th>\n",
       "      <th>ItemId</th>\n",
       "      <th>Rating</th>\n",
       "      <th>Time</th>\n",
       "    </tr>\n",
       "  </thead>\n",
       "  <tbody>\n",
       "    <tr>\n",
       "      <th>0</th>\n",
       "      <td>1</td>\n",
       "      <td>1193</td>\n",
       "      <td>5</td>\n",
       "      <td>978300760</td>\n",
       "    </tr>\n",
       "    <tr>\n",
       "      <th>1</th>\n",
       "      <td>1</td>\n",
       "      <td>661</td>\n",
       "      <td>3</td>\n",
       "      <td>978302109</td>\n",
       "    </tr>\n",
       "    <tr>\n",
       "      <th>2</th>\n",
       "      <td>1</td>\n",
       "      <td>914</td>\n",
       "      <td>3</td>\n",
       "      <td>978301968</td>\n",
       "    </tr>\n",
       "    <tr>\n",
       "      <th>3</th>\n",
       "      <td>1</td>\n",
       "      <td>3408</td>\n",
       "      <td>4</td>\n",
       "      <td>978300275</td>\n",
       "    </tr>\n",
       "    <tr>\n",
       "      <th>4</th>\n",
       "      <td>1</td>\n",
       "      <td>2355</td>\n",
       "      <td>5</td>\n",
       "      <td>978824291</td>\n",
       "    </tr>\n",
       "    <tr>\n",
       "      <th>...</th>\n",
       "      <td>...</td>\n",
       "      <td>...</td>\n",
       "      <td>...</td>\n",
       "      <td>...</td>\n",
       "    </tr>\n",
       "    <tr>\n",
       "      <th>1000204</th>\n",
       "      <td>6040</td>\n",
       "      <td>1091</td>\n",
       "      <td>1</td>\n",
       "      <td>956716541</td>\n",
       "    </tr>\n",
       "    <tr>\n",
       "      <th>1000205</th>\n",
       "      <td>6040</td>\n",
       "      <td>1094</td>\n",
       "      <td>5</td>\n",
       "      <td>956704887</td>\n",
       "    </tr>\n",
       "    <tr>\n",
       "      <th>1000206</th>\n",
       "      <td>6040</td>\n",
       "      <td>562</td>\n",
       "      <td>5</td>\n",
       "      <td>956704746</td>\n",
       "    </tr>\n",
       "    <tr>\n",
       "      <th>1000207</th>\n",
       "      <td>6040</td>\n",
       "      <td>1096</td>\n",
       "      <td>4</td>\n",
       "      <td>956715648</td>\n",
       "    </tr>\n",
       "    <tr>\n",
       "      <th>1000208</th>\n",
       "      <td>6040</td>\n",
       "      <td>1097</td>\n",
       "      <td>4</td>\n",
       "      <td>956715569</td>\n",
       "    </tr>\n",
       "  </tbody>\n",
       "</table>\n",
       "<p>1000209 rows × 4 columns</p>\n",
       "</div>"
      ],
      "text/plain": [
       "         UserId  ItemId  Rating       Time\n",
       "0             1    1193       5  978300760\n",
       "1             1     661       3  978302109\n",
       "2             1     914       3  978301968\n",
       "3             1    3408       4  978300275\n",
       "4             1    2355       5  978824291\n",
       "...         ...     ...     ...        ...\n",
       "1000204    6040    1091       1  956716541\n",
       "1000205    6040    1094       5  956704887\n",
       "1000206    6040     562       5  956704746\n",
       "1000207    6040    1096       4  956715648\n",
       "1000208    6040    1097       4  956715569\n",
       "\n",
       "[1000209 rows x 4 columns]"
      ]
     },
     "execution_count": 2,
     "metadata": {},
     "output_type": "execute_result"
    }
   ],
   "source": [
    "data_path = Path(os.getenv('HOME')+'/aiffel/yoochoose/data/') \n",
    "train_path = data_path / 'ratings.dat'\n",
    "\n",
    "def load_data(data_path: Path, nrows=None):\n",
    "    data = pd.read_csv(data_path, sep='::', header=None, usecols=[0, 1, 2, 3], dtype={0: np.int32, 1: np.int32, 2: np.int32}, nrows=nrows)\n",
    "    data.columns = ['UserId', 'ItemId', 'Rating', 'Time']\n",
    "    return data\n",
    "\n",
    "data = load_data(train_path, None)\n",
    "data"
   ]
  },
  {
   "cell_type": "markdown",
   "id": "ccc815cf",
   "metadata": {},
   "source": [
    "데이터프레임을 정렬해보자."
   ]
  },
  {
   "cell_type": "code",
   "execution_count": 3,
   "id": "db921809",
   "metadata": {},
   "outputs": [
    {
     "data": {
      "text/html": [
       "<div>\n",
       "<style scoped>\n",
       "    .dataframe tbody tr th:only-of-type {\n",
       "        vertical-align: middle;\n",
       "    }\n",
       "\n",
       "    .dataframe tbody tr th {\n",
       "        vertical-align: top;\n",
       "    }\n",
       "\n",
       "    .dataframe thead th {\n",
       "        text-align: right;\n",
       "    }\n",
       "</style>\n",
       "<table border=\"1\" class=\"dataframe\">\n",
       "  <thead>\n",
       "    <tr style=\"text-align: right;\">\n",
       "      <th></th>\n",
       "      <th>UserId</th>\n",
       "      <th>ItemId</th>\n",
       "      <th>Rating</th>\n",
       "      <th>Time</th>\n",
       "    </tr>\n",
       "  </thead>\n",
       "  <tbody>\n",
       "    <tr>\n",
       "      <th>31</th>\n",
       "      <td>1</td>\n",
       "      <td>3186</td>\n",
       "      <td>4</td>\n",
       "      <td>978300019</td>\n",
       "    </tr>\n",
       "    <tr>\n",
       "      <th>22</th>\n",
       "      <td>1</td>\n",
       "      <td>1270</td>\n",
       "      <td>5</td>\n",
       "      <td>978300055</td>\n",
       "    </tr>\n",
       "    <tr>\n",
       "      <th>27</th>\n",
       "      <td>1</td>\n",
       "      <td>1721</td>\n",
       "      <td>4</td>\n",
       "      <td>978300055</td>\n",
       "    </tr>\n",
       "    <tr>\n",
       "      <th>37</th>\n",
       "      <td>1</td>\n",
       "      <td>1022</td>\n",
       "      <td>5</td>\n",
       "      <td>978300055</td>\n",
       "    </tr>\n",
       "    <tr>\n",
       "      <th>24</th>\n",
       "      <td>1</td>\n",
       "      <td>2340</td>\n",
       "      <td>3</td>\n",
       "      <td>978300103</td>\n",
       "    </tr>\n",
       "    <tr>\n",
       "      <th>...</th>\n",
       "      <td>...</td>\n",
       "      <td>...</td>\n",
       "      <td>...</td>\n",
       "      <td>...</td>\n",
       "    </tr>\n",
       "    <tr>\n",
       "      <th>1000019</th>\n",
       "      <td>6040</td>\n",
       "      <td>2917</td>\n",
       "      <td>4</td>\n",
       "      <td>997454429</td>\n",
       "    </tr>\n",
       "    <tr>\n",
       "      <th>999988</th>\n",
       "      <td>6040</td>\n",
       "      <td>1921</td>\n",
       "      <td>4</td>\n",
       "      <td>997454464</td>\n",
       "    </tr>\n",
       "    <tr>\n",
       "      <th>1000172</th>\n",
       "      <td>6040</td>\n",
       "      <td>1784</td>\n",
       "      <td>3</td>\n",
       "      <td>997454464</td>\n",
       "    </tr>\n",
       "    <tr>\n",
       "      <th>1000167</th>\n",
       "      <td>6040</td>\n",
       "      <td>161</td>\n",
       "      <td>3</td>\n",
       "      <td>997454486</td>\n",
       "    </tr>\n",
       "    <tr>\n",
       "      <th>1000042</th>\n",
       "      <td>6040</td>\n",
       "      <td>1221</td>\n",
       "      <td>4</td>\n",
       "      <td>998315055</td>\n",
       "    </tr>\n",
       "  </tbody>\n",
       "</table>\n",
       "<p>1000209 rows × 4 columns</p>\n",
       "</div>"
      ],
      "text/plain": [
       "         UserId  ItemId  Rating       Time\n",
       "31            1    3186       4  978300019\n",
       "22            1    1270       5  978300055\n",
       "27            1    1721       4  978300055\n",
       "37            1    1022       5  978300055\n",
       "24            1    2340       3  978300103\n",
       "...         ...     ...     ...        ...\n",
       "1000019    6040    2917       4  997454429\n",
       "999988     6040    1921       4  997454464\n",
       "1000172    6040    1784       3  997454464\n",
       "1000167    6040     161       3  997454486\n",
       "1000042    6040    1221       4  998315055\n",
       "\n",
       "[1000209 rows x 4 columns]"
      ]
     },
     "execution_count": 3,
     "metadata": {},
     "output_type": "execute_result"
    }
   ],
   "source": [
    "data.sort_values(['UserId', 'Time'], inplace=True)  # data를 id와 시간 순서로 정렬해준다.\n",
    "data"
   ]
  },
  {
   "cell_type": "markdown",
   "id": "358ce761",
   "metadata": {},
   "source": [
    "유저 식별이 가능한 `UserId`, 영화 식별이 가능한 `ItemId`, 영화의 평점 `Rating`, timestamp의 `Time`이 있다. "
   ]
  },
  {
   "cell_type": "markdown",
   "id": "4ac4737b",
   "metadata": {},
   "source": [
    "# 2. 전처리"
   ]
  },
  {
   "cell_type": "markdown",
   "id": "d4ff28bd",
   "metadata": {},
   "source": [
    "### Session Length"
   ]
  },
  {
   "cell_type": "markdown",
   "id": "cf2f4b14",
   "metadata": {},
   "source": [
    "먼저 유저의 수와 영화 아이템 수를 파악해보자."
   ]
  },
  {
   "cell_type": "code",
   "execution_count": 4,
   "id": "90acd3c5",
   "metadata": {},
   "outputs": [
    {
     "data": {
      "text/plain": [
       "(6040, 3706)"
      ]
     },
     "execution_count": 4,
     "metadata": {},
     "output_type": "execute_result"
    }
   ],
   "source": [
    "data['UserId'].nunique(), data['ItemId'].nunique()"
   ]
  },
  {
   "cell_type": "markdown",
   "id": "df7147e7",
   "metadata": {},
   "source": [
    "유저당 몇 개의 영화를 평가했는지 파악해보자."
   ]
  },
  {
   "cell_type": "code",
   "execution_count": 5,
   "id": "8d4fd6d0",
   "metadata": {},
   "outputs": [
    {
     "data": {
      "text/plain": [
       "UserId\n",
       "1        53\n",
       "2       129\n",
       "3        51\n",
       "4        21\n",
       "5       198\n",
       "       ... \n",
       "6036    888\n",
       "6037    202\n",
       "6038     20\n",
       "6039    123\n",
       "6040    341\n",
       "Length: 6040, dtype: int64"
      ]
     },
     "execution_count": 5,
     "metadata": {},
     "output_type": "execute_result"
    }
   ],
   "source": [
    "session_length = data.groupby('UserId').size()\n",
    "session_length"
   ]
  },
  {
   "cell_type": "markdown",
   "id": "261a02dd",
   "metadata": {},
   "source": [
    "session을 통해 데이터셋의 특징을 알아보자."
   ]
  },
  {
   "cell_type": "code",
   "execution_count": 6,
   "id": "8086a5ad",
   "metadata": {},
   "outputs": [
    {
     "data": {
      "text/plain": [
       "(96.0, 165.5975165562914)"
      ]
     },
     "execution_count": 6,
     "metadata": {},
     "output_type": "execute_result"
    }
   ],
   "source": [
    "session_length.median(), session_length.mean() # 중앙값과 평균"
   ]
  },
  {
   "cell_type": "code",
   "execution_count": 7,
   "id": "af1e11b6",
   "metadata": {},
   "outputs": [
    {
     "data": {
      "text/plain": [
       "(20, 2314)"
      ]
     },
     "execution_count": 7,
     "metadata": {},
     "output_type": "execute_result"
    }
   ],
   "source": [
    "session_length.min(), session_length.max() # 최소값, 최대값"
   ]
  },
  {
   "cell_type": "code",
   "execution_count": 8,
   "id": "2d823f61",
   "metadata": {},
   "outputs": [
    {
     "data": {
      "text/plain": [
       "1343.181000000005"
      ]
     },
     "execution_count": 8,
     "metadata": {},
     "output_type": "execute_result"
    }
   ],
   "source": [
    "session_length.quantile(0.999) # 백분위 수"
   ]
  },
  {
   "cell_type": "markdown",
   "id": "afe8dd92",
   "metadata": {},
   "source": [
    "세션의 길이 99.9%를 살펴보면 1343이란 수가 나오지만 max값은 2314란 값이 나왔다. 이를 한번 살펴보자."
   ]
  },
  {
   "cell_type": "code",
   "execution_count": 9,
   "id": "8dd938d6",
   "metadata": {},
   "outputs": [
    {
     "data": {
      "text/html": [
       "<div>\n",
       "<style scoped>\n",
       "    .dataframe tbody tr th:only-of-type {\n",
       "        vertical-align: middle;\n",
       "    }\n",
       "\n",
       "    .dataframe tbody tr th {\n",
       "        vertical-align: top;\n",
       "    }\n",
       "\n",
       "    .dataframe thead th {\n",
       "        text-align: right;\n",
       "    }\n",
       "</style>\n",
       "<table border=\"1\" class=\"dataframe\">\n",
       "  <thead>\n",
       "    <tr style=\"text-align: right;\">\n",
       "      <th></th>\n",
       "      <th>UserId</th>\n",
       "      <th>ItemId</th>\n",
       "      <th>Rating</th>\n",
       "      <th>Time</th>\n",
       "    </tr>\n",
       "  </thead>\n",
       "  <tbody>\n",
       "    <tr>\n",
       "      <th>696969</th>\n",
       "      <td>4169</td>\n",
       "      <td>1268</td>\n",
       "      <td>5</td>\n",
       "      <td>965333392</td>\n",
       "    </tr>\n",
       "    <tr>\n",
       "      <th>697168</th>\n",
       "      <td>4169</td>\n",
       "      <td>2617</td>\n",
       "      <td>4</td>\n",
       "      <td>965333392</td>\n",
       "    </tr>\n",
       "    <tr>\n",
       "      <th>697185</th>\n",
       "      <td>4169</td>\n",
       "      <td>2628</td>\n",
       "      <td>4</td>\n",
       "      <td>965333392</td>\n",
       "    </tr>\n",
       "    <tr>\n",
       "      <th>697219</th>\n",
       "      <td>4169</td>\n",
       "      <td>2653</td>\n",
       "      <td>4</td>\n",
       "      <td>965333392</td>\n",
       "    </tr>\n",
       "    <tr>\n",
       "      <th>697275</th>\n",
       "      <td>4169</td>\n",
       "      <td>423</td>\n",
       "      <td>3</td>\n",
       "      <td>965333392</td>\n",
       "    </tr>\n",
       "    <tr>\n",
       "      <th>...</th>\n",
       "      <td>...</td>\n",
       "      <td>...</td>\n",
       "      <td>...</td>\n",
       "      <td>...</td>\n",
       "    </tr>\n",
       "    <tr>\n",
       "      <th>697882</th>\n",
       "      <td>4169</td>\n",
       "      <td>3754</td>\n",
       "      <td>2</td>\n",
       "      <td>1024174347</td>\n",
       "    </tr>\n",
       "    <tr>\n",
       "      <th>695702</th>\n",
       "      <td>4169</td>\n",
       "      <td>1413</td>\n",
       "      <td>3</td>\n",
       "      <td>1024175031</td>\n",
       "    </tr>\n",
       "    <tr>\n",
       "      <th>697358</th>\n",
       "      <td>4169</td>\n",
       "      <td>494</td>\n",
       "      <td>4</td>\n",
       "      <td>1024175760</td>\n",
       "    </tr>\n",
       "    <tr>\n",
       "      <th>695945</th>\n",
       "      <td>4169</td>\n",
       "      <td>1804</td>\n",
       "      <td>2</td>\n",
       "      <td>1024175783</td>\n",
       "    </tr>\n",
       "    <tr>\n",
       "      <th>696446</th>\n",
       "      <td>4169</td>\n",
       "      <td>1548</td>\n",
       "      <td>3</td>\n",
       "      <td>1024176337</td>\n",
       "    </tr>\n",
       "  </tbody>\n",
       "</table>\n",
       "<p>2314 rows × 4 columns</p>\n",
       "</div>"
      ],
      "text/plain": [
       "        UserId  ItemId  Rating        Time\n",
       "696969    4169    1268       5   965333392\n",
       "697168    4169    2617       4   965333392\n",
       "697185    4169    2628       4   965333392\n",
       "697219    4169    2653       4   965333392\n",
       "697275    4169     423       3   965333392\n",
       "...        ...     ...     ...         ...\n",
       "697882    4169    3754       2  1024174347\n",
       "695702    4169    1413       3  1024175031\n",
       "697358    4169     494       4  1024175760\n",
       "695945    4169    1804       2  1024175783\n",
       "696446    4169    1548       3  1024176337\n",
       "\n",
       "[2314 rows x 4 columns]"
      ]
     },
     "execution_count": 9,
     "metadata": {},
     "output_type": "execute_result"
    }
   ],
   "source": [
    "long_session = session_length[session_length==2314].index[0]\n",
    "data[data['UserId']==long_session]"
   ]
  },
  {
   "cell_type": "code",
   "execution_count": 10,
   "id": "bd90f9a5",
   "metadata": {},
   "outputs": [
    {
     "data": {
      "text/html": [
       "<div>\n",
       "<style scoped>\n",
       "    .dataframe tbody tr th:only-of-type {\n",
       "        vertical-align: middle;\n",
       "    }\n",
       "\n",
       "    .dataframe tbody tr th {\n",
       "        vertical-align: top;\n",
       "    }\n",
       "\n",
       "    .dataframe thead th {\n",
       "        text-align: right;\n",
       "    }\n",
       "</style>\n",
       "<table border=\"1\" class=\"dataframe\">\n",
       "  <thead>\n",
       "    <tr style=\"text-align: right;\">\n",
       "      <th></th>\n",
       "      <th>UserId</th>\n",
       "      <th>ItemId</th>\n",
       "      <th>Rating</th>\n",
       "      <th>Time</th>\n",
       "    </tr>\n",
       "  </thead>\n",
       "  <tbody>\n",
       "    <tr>\n",
       "      <th>696969</th>\n",
       "      <td>4169</td>\n",
       "      <td>1268</td>\n",
       "      <td>5</td>\n",
       "      <td>965333392</td>\n",
       "    </tr>\n",
       "    <tr>\n",
       "      <th>697168</th>\n",
       "      <td>4169</td>\n",
       "      <td>2617</td>\n",
       "      <td>4</td>\n",
       "      <td>965333392</td>\n",
       "    </tr>\n",
       "    <tr>\n",
       "      <th>697185</th>\n",
       "      <td>4169</td>\n",
       "      <td>2628</td>\n",
       "      <td>4</td>\n",
       "      <td>965333392</td>\n",
       "    </tr>\n",
       "    <tr>\n",
       "      <th>697219</th>\n",
       "      <td>4169</td>\n",
       "      <td>2653</td>\n",
       "      <td>4</td>\n",
       "      <td>965333392</td>\n",
       "    </tr>\n",
       "    <tr>\n",
       "      <th>697275</th>\n",
       "      <td>4169</td>\n",
       "      <td>423</td>\n",
       "      <td>3</td>\n",
       "      <td>965333392</td>\n",
       "    </tr>\n",
       "    <tr>\n",
       "      <th>...</th>\n",
       "      <td>...</td>\n",
       "      <td>...</td>\n",
       "      <td>...</td>\n",
       "      <td>...</td>\n",
       "    </tr>\n",
       "    <tr>\n",
       "      <th>697882</th>\n",
       "      <td>4169</td>\n",
       "      <td>3754</td>\n",
       "      <td>2</td>\n",
       "      <td>1024174347</td>\n",
       "    </tr>\n",
       "    <tr>\n",
       "      <th>695702</th>\n",
       "      <td>4169</td>\n",
       "      <td>1413</td>\n",
       "      <td>3</td>\n",
       "      <td>1024175031</td>\n",
       "    </tr>\n",
       "    <tr>\n",
       "      <th>697358</th>\n",
       "      <td>4169</td>\n",
       "      <td>494</td>\n",
       "      <td>4</td>\n",
       "      <td>1024175760</td>\n",
       "    </tr>\n",
       "    <tr>\n",
       "      <th>695945</th>\n",
       "      <td>4169</td>\n",
       "      <td>1804</td>\n",
       "      <td>2</td>\n",
       "      <td>1024175783</td>\n",
       "    </tr>\n",
       "    <tr>\n",
       "      <th>696446</th>\n",
       "      <td>4169</td>\n",
       "      <td>1548</td>\n",
       "      <td>3</td>\n",
       "      <td>1024176337</td>\n",
       "    </tr>\n",
       "  </tbody>\n",
       "</table>\n",
       "<p>2314 rows × 4 columns</p>\n",
       "</div>"
      ],
      "text/plain": [
       "        UserId  ItemId  Rating        Time\n",
       "696969    4169    1268       5   965333392\n",
       "697168    4169    2617       4   965333392\n",
       "697185    4169    2628       4   965333392\n",
       "697219    4169    2653       4   965333392\n",
       "697275    4169     423       3   965333392\n",
       "...        ...     ...     ...         ...\n",
       "697882    4169    3754       2  1024174347\n",
       "695702    4169    1413       3  1024175031\n",
       "697358    4169     494       4  1024175760\n",
       "695945    4169    1804       2  1024175783\n",
       "696446    4169    1548       3  1024176337\n",
       "\n",
       "[2314 rows x 4 columns]"
      ]
     },
     "execution_count": 10,
     "metadata": {},
     "output_type": "execute_result"
    }
   ],
   "source": [
    "# 주석을 해제하고 실행하면 모든 row가 출력되어 결과물 확인이 가능하다.\n",
    "# pd.set_option('display.max_row', None) \n",
    "check_df = data[data['UserId']==long_session]\n",
    "check_df"
   ]
  },
  {
   "cell_type": "markdown",
   "id": "db685021",
   "metadata": {},
   "source": [
    "꾸준히 평점을 매기고 있는 모습을 확인할 수 있다. 한 가지 의문이 드는점은 동일한 Time 인데, 여러 개의 평점을 매기고 있다.   \n",
    "\n",
    "데이터프레임의 Time column은 초 단위인데, 이렇게 빨리 체크한걸 보면 이는 조사를 대충한게 아닐까? 일단 이를 인지하고 넘어가자.   \n",
    "\n",
    "session_length의 size를 파악해보자."
   ]
  },
  {
   "cell_type": "code",
   "execution_count": 11,
   "id": "fac11ac4",
   "metadata": {},
   "outputs": [
    {
     "data": {
      "text/plain": [
       "20      0.014238\n",
       "21      0.029305\n",
       "22      0.042053\n",
       "23      0.055464\n",
       "24      0.068874\n",
       "          ...   \n",
       "1271    0.998179\n",
       "1277    0.998344\n",
       "1286    0.998510\n",
       "1302    0.998675\n",
       "1323    0.998841\n",
       "Length: 736, dtype: float64"
      ]
     },
     "execution_count": 11,
     "metadata": {},
     "output_type": "execute_result"
    }
   ],
   "source": [
    "length_count = session_length.groupby(session_length).size()\n",
    "length_percent_cumsum = length_count.cumsum() / length_count.sum()\n",
    "length_percent_cumsum_999 = length_percent_cumsum[length_percent_cumsum < 0.999]\n",
    "\n",
    "length_percent_cumsum_999"
   ]
  },
  {
   "cell_type": "code",
   "execution_count": 12,
   "id": "e02544e4",
   "metadata": {},
   "outputs": [
    {
     "data": {
      "image/png": "[encoded data removed]",
      "text/plain": [
       "<Figure size 720x360 with 1 Axes>"
      ]
     },
     "metadata": {
      "needs_background": "light"
     },
     "output_type": "display_data"
    }
   ],
   "source": [
    "plt.figure(figsize=(10, 5))\n",
    "plt.bar(x=length_percent_cumsum_999.index,\n",
    "        height=length_percent_cumsum_999, color='red')\n",
    "plt.xticks(length_percent_cumsum_999.index[::100], size=10)\n",
    "plt.yticks(np.arange(0, 1.01, 0.05))\n",
    "plt.title('Cumsum Percentage Until 0.999', size=20)\n",
    "plt.show()"
   ]
  },
  {
   "cell_type": "markdown",
   "id": "47903c51",
   "metadata": {},
   "source": [
    "길이 기준 하위 99.9%까지 분포 누적합을 시각화한 결과물이다. "
   ]
  },
  {
   "cell_type": "markdown",
   "id": "49a315f3",
   "metadata": {},
   "source": [
    "### Session Time"
   ]
  },
  {
   "cell_type": "markdown",
   "id": "beec11af",
   "metadata": {},
   "source": [
    "시간 관련 데이터를 이해해보자. Time column은 UTC, 1970년 1월 1일부터 초 단위의 시간이 기재되어 있다."
   ]
  },
  {
   "cell_type": "code",
   "execution_count": 13,
   "id": "ad12f03b",
   "metadata": {},
   "outputs": [
    {
     "name": "stdout",
     "output_type": "stream",
     "text": [
      "956703932\n",
      "1046454590\n"
     ]
    }
   ],
   "source": [
    "oldest, latest = data['Time'].min(), data['Time'].max()\n",
    "print(oldest) \n",
    "print(latest)"
   ]
  },
  {
   "cell_type": "code",
   "execution_count": 14,
   "id": "3b45d597",
   "metadata": {},
   "outputs": [
    {
     "name": "stdout",
     "output_type": "stream",
     "text": [
      "2000-04-25 23:05:32\n",
      "2003-02-28 17:49:50\n"
     ]
    }
   ],
   "source": [
    "print(datetime.fromtimestamp(oldest).strftime(\"%Y-%m-%d %H:%M:%S\"))\n",
    "print(datetime.fromtimestamp(latest).strftime(\"%Y-%m-%d %H:%M:%S\"))"
   ]
  },
  {
   "cell_type": "markdown",
   "id": "80dbbe8e",
   "metadata": {},
   "source": [
    "__Session Based Recommendation__ 특징상 최근에 얻은 데이터를 토대로 유저들에게 추천을 해줘야 한다. 사용자들의 소비 패턴이 시간에 따라 쉽고 빠르게 달라지기 때문이다. 하지만 영화의 경우 IT 기계같은 사이클이 빠른 애들보다 비교적 많이 느리므로 lastest로부터 365일 기준으로 얻은 데이터만 사용하자."
   ]
  },
  {
   "cell_type": "code",
   "execution_count": 15,
   "id": "ad6c340e",
   "metadata": {},
   "outputs": [
    {
     "data": {
      "text/html": [
       "<div>\n",
       "<style scoped>\n",
       "    .dataframe tbody tr th:only-of-type {\n",
       "        vertical-align: middle;\n",
       "    }\n",
       "\n",
       "    .dataframe tbody tr th {\n",
       "        vertical-align: top;\n",
       "    }\n",
       "\n",
       "    .dataframe thead th {\n",
       "        text-align: right;\n",
       "    }\n",
       "</style>\n",
       "<table border=\"1\" class=\"dataframe\">\n",
       "  <thead>\n",
       "    <tr style=\"text-align: right;\">\n",
       "      <th></th>\n",
       "      <th>UserId</th>\n",
       "      <th>ItemId</th>\n",
       "      <th>Rating</th>\n",
       "      <th>Time</th>\n",
       "    </tr>\n",
       "  </thead>\n",
       "  <tbody>\n",
       "    <tr>\n",
       "      <th>1000138</th>\n",
       "      <td>6040</td>\n",
       "      <td>858</td>\n",
       "      <td>4</td>\n",
       "      <td>956703932</td>\n",
       "    </tr>\n",
       "    <tr>\n",
       "      <th>999873</th>\n",
       "      <td>6040</td>\n",
       "      <td>593</td>\n",
       "      <td>5</td>\n",
       "      <td>956703954</td>\n",
       "    </tr>\n",
       "    <tr>\n",
       "      <th>1000153</th>\n",
       "      <td>6040</td>\n",
       "      <td>2384</td>\n",
       "      <td>4</td>\n",
       "      <td>956703954</td>\n",
       "    </tr>\n",
       "    <tr>\n",
       "      <th>1000007</th>\n",
       "      <td>6040</td>\n",
       "      <td>1961</td>\n",
       "      <td>4</td>\n",
       "      <td>956703977</td>\n",
       "    </tr>\n",
       "    <tr>\n",
       "      <th>1000192</th>\n",
       "      <td>6040</td>\n",
       "      <td>2019</td>\n",
       "      <td>5</td>\n",
       "      <td>956703977</td>\n",
       "    </tr>\n",
       "    <tr>\n",
       "      <th>...</th>\n",
       "      <td>...</td>\n",
       "      <td>...</td>\n",
       "      <td>...</td>\n",
       "      <td>...</td>\n",
       "    </tr>\n",
       "    <tr>\n",
       "      <th>825793</th>\n",
       "      <td>4958</td>\n",
       "      <td>2399</td>\n",
       "      <td>1</td>\n",
       "      <td>1046454338</td>\n",
       "    </tr>\n",
       "    <tr>\n",
       "      <th>825438</th>\n",
       "      <td>4958</td>\n",
       "      <td>1407</td>\n",
       "      <td>5</td>\n",
       "      <td>1046454443</td>\n",
       "    </tr>\n",
       "    <tr>\n",
       "      <th>825724</th>\n",
       "      <td>4958</td>\n",
       "      <td>3264</td>\n",
       "      <td>4</td>\n",
       "      <td>1046454548</td>\n",
       "    </tr>\n",
       "    <tr>\n",
       "      <th>825731</th>\n",
       "      <td>4958</td>\n",
       "      <td>2634</td>\n",
       "      <td>3</td>\n",
       "      <td>1046454548</td>\n",
       "    </tr>\n",
       "    <tr>\n",
       "      <th>825603</th>\n",
       "      <td>4958</td>\n",
       "      <td>1924</td>\n",
       "      <td>4</td>\n",
       "      <td>1046454590</td>\n",
       "    </tr>\n",
       "  </tbody>\n",
       "</table>\n",
       "<p>1000209 rows × 4 columns</p>\n",
       "</div>"
      ],
      "text/plain": [
       "         UserId  ItemId  Rating        Time\n",
       "1000138    6040     858       4   956703932\n",
       "999873     6040     593       5   956703954\n",
       "1000153    6040    2384       4   956703954\n",
       "1000007    6040    1961       4   956703977\n",
       "1000192    6040    2019       5   956703977\n",
       "...         ...     ...     ...         ...\n",
       "825793     4958    2399       1  1046454338\n",
       "825438     4958    1407       5  1046454443\n",
       "825724     4958    3264       4  1046454548\n",
       "825731     4958    2634       3  1046454548\n",
       "825603     4958    1924       4  1046454590\n",
       "\n",
       "[1000209 rows x 4 columns]"
      ]
     },
     "execution_count": 15,
     "metadata": {},
     "output_type": "execute_result"
    }
   ],
   "source": [
    "data = data.sort_values(['Time','UserId'])\n",
    "data"
   ]
  },
  {
   "cell_type": "code",
   "execution_count": 16,
   "id": "3f9e6157",
   "metadata": {
    "scrolled": false
   },
   "outputs": [
    {
     "data": {
      "text/html": [
       "<div>\n",
       "<style scoped>\n",
       "    .dataframe tbody tr th:only-of-type {\n",
       "        vertical-align: middle;\n",
       "    }\n",
       "\n",
       "    .dataframe tbody tr th {\n",
       "        vertical-align: top;\n",
       "    }\n",
       "\n",
       "    .dataframe thead th {\n",
       "        text-align: right;\n",
       "    }\n",
       "</style>\n",
       "<table border=\"1\" class=\"dataframe\">\n",
       "  <thead>\n",
       "    <tr style=\"text-align: right;\">\n",
       "      <th></th>\n",
       "      <th>UserId</th>\n",
       "      <th>ItemId</th>\n",
       "      <th>Rating</th>\n",
       "      <th>Time</th>\n",
       "    </tr>\n",
       "  </thead>\n",
       "  <tbody>\n",
       "    <tr>\n",
       "      <th>1000138</th>\n",
       "      <td>6040</td>\n",
       "      <td>858</td>\n",
       "      <td>4</td>\n",
       "      <td>956703932</td>\n",
       "    </tr>\n",
       "    <tr>\n",
       "      <th>999873</th>\n",
       "      <td>6040</td>\n",
       "      <td>593</td>\n",
       "      <td>5</td>\n",
       "      <td>956703954</td>\n",
       "    </tr>\n",
       "    <tr>\n",
       "      <th>1000153</th>\n",
       "      <td>6040</td>\n",
       "      <td>2384</td>\n",
       "      <td>4</td>\n",
       "      <td>956703954</td>\n",
       "    </tr>\n",
       "    <tr>\n",
       "      <th>1000007</th>\n",
       "      <td>6040</td>\n",
       "      <td>1961</td>\n",
       "      <td>4</td>\n",
       "      <td>956703977</td>\n",
       "    </tr>\n",
       "    <tr>\n",
       "      <th>1000192</th>\n",
       "      <td>6040</td>\n",
       "      <td>2019</td>\n",
       "      <td>5</td>\n",
       "      <td>956703977</td>\n",
       "    </tr>\n",
       "    <tr>\n",
       "      <th>...</th>\n",
       "      <td>...</td>\n",
       "      <td>...</td>\n",
       "      <td>...</td>\n",
       "      <td>...</td>\n",
       "    </tr>\n",
       "    <tr>\n",
       "      <th>825793</th>\n",
       "      <td>4958</td>\n",
       "      <td>2399</td>\n",
       "      <td>1</td>\n",
       "      <td>1046454338</td>\n",
       "    </tr>\n",
       "    <tr>\n",
       "      <th>825438</th>\n",
       "      <td>4958</td>\n",
       "      <td>1407</td>\n",
       "      <td>5</td>\n",
       "      <td>1046454443</td>\n",
       "    </tr>\n",
       "    <tr>\n",
       "      <th>825724</th>\n",
       "      <td>4958</td>\n",
       "      <td>3264</td>\n",
       "      <td>4</td>\n",
       "      <td>1046454548</td>\n",
       "    </tr>\n",
       "    <tr>\n",
       "      <th>825731</th>\n",
       "      <td>4958</td>\n",
       "      <td>2634</td>\n",
       "      <td>3</td>\n",
       "      <td>1046454548</td>\n",
       "    </tr>\n",
       "    <tr>\n",
       "      <th>825603</th>\n",
       "      <td>4958</td>\n",
       "      <td>1924</td>\n",
       "      <td>4</td>\n",
       "      <td>1046454590</td>\n",
       "    </tr>\n",
       "  </tbody>\n",
       "</table>\n",
       "<p>1000209 rows × 4 columns</p>\n",
       "</div>"
      ],
      "text/plain": [
       "         UserId  ItemId  Rating        Time\n",
       "1000138    6040     858       4   956703932\n",
       "999873     6040     593       5   956703954\n",
       "1000153    6040    2384       4   956703954\n",
       "1000007    6040    1961       4   956703977\n",
       "1000192    6040    2019       5   956703977\n",
       "...         ...     ...     ...         ...\n",
       "825793     4958    2399       1  1046454338\n",
       "825438     4958    1407       5  1046454443\n",
       "825724     4958    3264       4  1046454548\n",
       "825731     4958    2634       3  1046454548\n",
       "825603     4958    1924       4  1046454590\n",
       "\n",
       "[1000209 rows x 4 columns]"
      ]
     },
     "execution_count": 16,
     "metadata": {},
     "output_type": "execute_result"
    }
   ],
   "source": [
    "data = data[['UserId','ItemId','Rating','Time']]\n",
    "data"
   ]
  },
  {
   "cell_type": "code",
   "execution_count": 17,
   "id": "44dc8bd1",
   "metadata": {},
   "outputs": [
    {
     "name": "stdout",
     "output_type": "stream",
     "text": [
      "2002-02-28 17:49:50\n"
     ]
    },
    {
     "data": {
      "text/html": [
       "<div>\n",
       "<style scoped>\n",
       "    .dataframe tbody tr th:only-of-type {\n",
       "        vertical-align: middle;\n",
       "    }\n",
       "\n",
       "    .dataframe tbody tr th {\n",
       "        vertical-align: top;\n",
       "    }\n",
       "\n",
       "    .dataframe thead th {\n",
       "        text-align: right;\n",
       "    }\n",
       "</style>\n",
       "<table border=\"1\" class=\"dataframe\">\n",
       "  <thead>\n",
       "    <tr style=\"text-align: right;\">\n",
       "      <th></th>\n",
       "      <th>UserId</th>\n",
       "      <th>ItemId</th>\n",
       "      <th>Rating</th>\n",
       "      <th>Time</th>\n",
       "    </tr>\n",
       "  </thead>\n",
       "  <tbody>\n",
       "    <tr>\n",
       "      <th>348285</th>\n",
       "      <td>2041</td>\n",
       "      <td>1213</td>\n",
       "      <td>4</td>\n",
       "      <td>1014923199</td>\n",
       "    </tr>\n",
       "    <tr>\n",
       "      <th>348057</th>\n",
       "      <td>2041</td>\n",
       "      <td>2300</td>\n",
       "      <td>4</td>\n",
       "      <td>1014923242</td>\n",
       "    </tr>\n",
       "    <tr>\n",
       "      <th>347973</th>\n",
       "      <td>2041</td>\n",
       "      <td>2692</td>\n",
       "      <td>5</td>\n",
       "      <td>1014923314</td>\n",
       "    </tr>\n",
       "    <tr>\n",
       "      <th>347787</th>\n",
       "      <td>2041</td>\n",
       "      <td>2208</td>\n",
       "      <td>5</td>\n",
       "      <td>1014923499</td>\n",
       "    </tr>\n",
       "    <tr>\n",
       "      <th>348165</th>\n",
       "      <td>2041</td>\n",
       "      <td>1923</td>\n",
       "      <td>3</td>\n",
       "      <td>1014923681</td>\n",
       "    </tr>\n",
       "    <tr>\n",
       "      <th>...</th>\n",
       "      <td>...</td>\n",
       "      <td>...</td>\n",
       "      <td>...</td>\n",
       "      <td>...</td>\n",
       "    </tr>\n",
       "    <tr>\n",
       "      <th>825793</th>\n",
       "      <td>4958</td>\n",
       "      <td>2399</td>\n",
       "      <td>1</td>\n",
       "      <td>1046454338</td>\n",
       "    </tr>\n",
       "    <tr>\n",
       "      <th>825438</th>\n",
       "      <td>4958</td>\n",
       "      <td>1407</td>\n",
       "      <td>5</td>\n",
       "      <td>1046454443</td>\n",
       "    </tr>\n",
       "    <tr>\n",
       "      <th>825724</th>\n",
       "      <td>4958</td>\n",
       "      <td>3264</td>\n",
       "      <td>4</td>\n",
       "      <td>1046454548</td>\n",
       "    </tr>\n",
       "    <tr>\n",
       "      <th>825731</th>\n",
       "      <td>4958</td>\n",
       "      <td>2634</td>\n",
       "      <td>3</td>\n",
       "      <td>1046454548</td>\n",
       "    </tr>\n",
       "    <tr>\n",
       "      <th>825603</th>\n",
       "      <td>4958</td>\n",
       "      <td>1924</td>\n",
       "      <td>4</td>\n",
       "      <td>1046454590</td>\n",
       "    </tr>\n",
       "  </tbody>\n",
       "</table>\n",
       "<p>21704 rows × 4 columns</p>\n",
       "</div>"
      ],
      "text/plain": [
       "        UserId  ItemId  Rating        Time\n",
       "348285    2041    1213       4  1014923199\n",
       "348057    2041    2300       4  1014923242\n",
       "347973    2041    2692       5  1014923314\n",
       "347787    2041    2208       5  1014923499\n",
       "348165    2041    1923       3  1014923681\n",
       "...        ...     ...     ...         ...\n",
       "825793    4958    2399       1  1046454338\n",
       "825438    4958    1407       5  1046454443\n",
       "825724    4958    3264       4  1046454548\n",
       "825731    4958    2634       3  1046454548\n",
       "825603    4958    1924       4  1046454590\n",
       "\n",
       "[21704 rows x 4 columns]"
      ]
     },
     "execution_count": 17,
     "metadata": {},
     "output_type": "execute_result"
    }
   ],
   "source": [
    "temp = 60*60*24*365 # 초*분*시간*일\n",
    "month_ago = latest - temp\n",
    "print(datetime.fromtimestamp(month_ago).strftime(\"%Y-%m-%d %H:%M:%S\"))\n",
    "data = data[data['Time'] > month_ago]   # 방금 구한 날짜 이후의 데이터만 모은다. \n",
    "data"
   ]
  },
  {
   "cell_type": "markdown",
   "id": "4d0e134a",
   "metadata": {},
   "source": [
    "### Cleaning"
   ]
  },
  {
   "cell_type": "markdown",
   "id": "df449931",
   "metadata": {},
   "source": [
    "영화의 선호도를 체크하는 Rating을 보고 보통 이상인 3점 이상만 남기고 나머지는 버리자."
   ]
  },
  {
   "cell_type": "code",
   "execution_count": 18,
   "id": "f92ae781",
   "metadata": {},
   "outputs": [
    {
     "data": {
      "text/html": [
       "<div>\n",
       "<style scoped>\n",
       "    .dataframe tbody tr th:only-of-type {\n",
       "        vertical-align: middle;\n",
       "    }\n",
       "\n",
       "    .dataframe tbody tr th {\n",
       "        vertical-align: top;\n",
       "    }\n",
       "\n",
       "    .dataframe thead th {\n",
       "        text-align: right;\n",
       "    }\n",
       "</style>\n",
       "<table border=\"1\" class=\"dataframe\">\n",
       "  <thead>\n",
       "    <tr style=\"text-align: right;\">\n",
       "      <th></th>\n",
       "      <th>UserId</th>\n",
       "      <th>ItemId</th>\n",
       "      <th>Rating</th>\n",
       "      <th>Time</th>\n",
       "    </tr>\n",
       "  </thead>\n",
       "  <tbody>\n",
       "    <tr>\n",
       "      <th>348285</th>\n",
       "      <td>2041</td>\n",
       "      <td>1213</td>\n",
       "      <td>4</td>\n",
       "      <td>1014923199</td>\n",
       "    </tr>\n",
       "    <tr>\n",
       "      <th>348057</th>\n",
       "      <td>2041</td>\n",
       "      <td>2300</td>\n",
       "      <td>4</td>\n",
       "      <td>1014923242</td>\n",
       "    </tr>\n",
       "    <tr>\n",
       "      <th>347973</th>\n",
       "      <td>2041</td>\n",
       "      <td>2692</td>\n",
       "      <td>5</td>\n",
       "      <td>1014923314</td>\n",
       "    </tr>\n",
       "    <tr>\n",
       "      <th>347787</th>\n",
       "      <td>2041</td>\n",
       "      <td>2208</td>\n",
       "      <td>5</td>\n",
       "      <td>1014923499</td>\n",
       "    </tr>\n",
       "    <tr>\n",
       "      <th>348165</th>\n",
       "      <td>2041</td>\n",
       "      <td>1923</td>\n",
       "      <td>3</td>\n",
       "      <td>1014923681</td>\n",
       "    </tr>\n",
       "    <tr>\n",
       "      <th>...</th>\n",
       "      <td>...</td>\n",
       "      <td>...</td>\n",
       "      <td>...</td>\n",
       "      <td>...</td>\n",
       "    </tr>\n",
       "    <tr>\n",
       "      <th>825526</th>\n",
       "      <td>4958</td>\n",
       "      <td>3489</td>\n",
       "      <td>4</td>\n",
       "      <td>1046454320</td>\n",
       "    </tr>\n",
       "    <tr>\n",
       "      <th>825438</th>\n",
       "      <td>4958</td>\n",
       "      <td>1407</td>\n",
       "      <td>5</td>\n",
       "      <td>1046454443</td>\n",
       "    </tr>\n",
       "    <tr>\n",
       "      <th>825724</th>\n",
       "      <td>4958</td>\n",
       "      <td>3264</td>\n",
       "      <td>4</td>\n",
       "      <td>1046454548</td>\n",
       "    </tr>\n",
       "    <tr>\n",
       "      <th>825731</th>\n",
       "      <td>4958</td>\n",
       "      <td>2634</td>\n",
       "      <td>3</td>\n",
       "      <td>1046454548</td>\n",
       "    </tr>\n",
       "    <tr>\n",
       "      <th>825603</th>\n",
       "      <td>4958</td>\n",
       "      <td>1924</td>\n",
       "      <td>4</td>\n",
       "      <td>1046454590</td>\n",
       "    </tr>\n",
       "  </tbody>\n",
       "</table>\n",
       "<p>17567 rows × 4 columns</p>\n",
       "</div>"
      ],
      "text/plain": [
       "        UserId  ItemId  Rating        Time\n",
       "348285    2041    1213       4  1014923199\n",
       "348057    2041    2300       4  1014923242\n",
       "347973    2041    2692       5  1014923314\n",
       "347787    2041    2208       5  1014923499\n",
       "348165    2041    1923       3  1014923681\n",
       "...        ...     ...     ...         ...\n",
       "825526    4958    3489       4  1046454320\n",
       "825438    4958    1407       5  1046454443\n",
       "825724    4958    3264       4  1046454548\n",
       "825731    4958    2634       3  1046454548\n",
       "825603    4958    1924       4  1046454590\n",
       "\n",
       "[17567 rows x 4 columns]"
      ]
     },
     "execution_count": 18,
     "metadata": {},
     "output_type": "execute_result"
    }
   ],
   "source": [
    "ratings_filtering_df = data[data['Rating']>=3]\n",
    "ratings_filtering_df"
   ]
  },
  {
   "cell_type": "code",
   "execution_count": 19,
   "id": "477fdb0c",
   "metadata": {},
   "outputs": [
    {
     "data": {
      "text/html": [
       "<div>\n",
       "<style scoped>\n",
       "    .dataframe tbody tr th:only-of-type {\n",
       "        vertical-align: middle;\n",
       "    }\n",
       "\n",
       "    .dataframe tbody tr th {\n",
       "        vertical-align: top;\n",
       "    }\n",
       "\n",
       "    .dataframe thead th {\n",
       "        text-align: right;\n",
       "    }\n",
       "</style>\n",
       "<table border=\"1\" class=\"dataframe\">\n",
       "  <thead>\n",
       "    <tr style=\"text-align: right;\">\n",
       "      <th></th>\n",
       "      <th>UserId</th>\n",
       "      <th>ItemId</th>\n",
       "      <th>Rating</th>\n",
       "      <th>Time</th>\n",
       "    </tr>\n",
       "  </thead>\n",
       "  <tbody>\n",
       "    <tr>\n",
       "      <th>5200</th>\n",
       "      <td>36</td>\n",
       "      <td>2269</td>\n",
       "      <td>5</td>\n",
       "      <td>1040544350</td>\n",
       "    </tr>\n",
       "    <tr>\n",
       "      <th>5076</th>\n",
       "      <td>36</td>\n",
       "      <td>595</td>\n",
       "      <td>4</td>\n",
       "      <td>1040545109</td>\n",
       "    </tr>\n",
       "    <tr>\n",
       "      <th>5126</th>\n",
       "      <td>36</td>\n",
       "      <td>1295</td>\n",
       "      <td>4</td>\n",
       "      <td>1040545109</td>\n",
       "    </tr>\n",
       "    <tr>\n",
       "      <th>5180</th>\n",
       "      <td>36</td>\n",
       "      <td>3639</td>\n",
       "      <td>4</td>\n",
       "      <td>1040545125</td>\n",
       "    </tr>\n",
       "    <tr>\n",
       "      <th>5211</th>\n",
       "      <td>36</td>\n",
       "      <td>2774</td>\n",
       "      <td>4</td>\n",
       "      <td>1016224902</td>\n",
       "    </tr>\n",
       "    <tr>\n",
       "      <th>...</th>\n",
       "      <td>...</td>\n",
       "      <td>...</td>\n",
       "      <td>...</td>\n",
       "      <td>...</td>\n",
       "    </tr>\n",
       "    <tr>\n",
       "      <th>992522</th>\n",
       "      <td>5996</td>\n",
       "      <td>2989</td>\n",
       "      <td>4</td>\n",
       "      <td>1020110717</td>\n",
       "    </tr>\n",
       "    <tr>\n",
       "      <th>992571</th>\n",
       "      <td>5996</td>\n",
       "      <td>3247</td>\n",
       "      <td>4</td>\n",
       "      <td>1020110717</td>\n",
       "    </tr>\n",
       "    <tr>\n",
       "      <th>992787</th>\n",
       "      <td>5996</td>\n",
       "      <td>1091</td>\n",
       "      <td>3</td>\n",
       "      <td>1020110814</td>\n",
       "    </tr>\n",
       "    <tr>\n",
       "      <th>992283</th>\n",
       "      <td>5996</td>\n",
       "      <td>3086</td>\n",
       "      <td>5</td>\n",
       "      <td>1020108866</td>\n",
       "    </tr>\n",
       "    <tr>\n",
       "      <th>992553</th>\n",
       "      <td>5996</td>\n",
       "      <td>781</td>\n",
       "      <td>5</td>\n",
       "      <td>1020111524</td>\n",
       "    </tr>\n",
       "  </tbody>\n",
       "</table>\n",
       "<p>17567 rows × 4 columns</p>\n",
       "</div>"
      ],
      "text/plain": [
       "        UserId  ItemId  Rating        Time\n",
       "5200        36    2269       5  1040544350\n",
       "5076        36     595       4  1040545109\n",
       "5126        36    1295       4  1040545109\n",
       "5180        36    3639       4  1040545125\n",
       "5211        36    2774       4  1016224902\n",
       "...        ...     ...     ...         ...\n",
       "992522    5996    2989       4  1020110717\n",
       "992571    5996    3247       4  1020110717\n",
       "992787    5996    1091       3  1020110814\n",
       "992283    5996    3086       5  1020108866\n",
       "992553    5996     781       5  1020111524\n",
       "\n",
       "[17567 rows x 4 columns]"
      ]
     },
     "execution_count": 19,
     "metadata": {},
     "output_type": "execute_result"
    }
   ],
   "source": [
    "ratings_filtering_df = ratings_filtering_df.sort_values(['UserId'])\n",
    "ratings_filtering_df"
   ]
  },
  {
   "cell_type": "markdown",
   "id": "cc2108c9",
   "metadata": {},
   "source": [
    "### Train, Valid, Test split"
   ]
  },
  {
   "cell_type": "markdown",
   "id": "4fdf07dd",
   "metadata": {},
   "source": [
    "추천 시스템은 지금을 잘 예측하는게 중요하다. __Session time__ 에서 말한것처럼 사용자들의 소비 패턴이 시간에 따라 쉽고 빠르게 달라지기 때문이다. 그래서 sesstion based recommendation에서 기간에 따라 train, valid, test set을 나누기도 한다.   \n",
    "\n",
    "이번 자료에서는 총 365일의 데이터셋에서 train을 305일, valid 30일, test 30일로 나눈다음 진행해보자."
   ]
  },
  {
   "cell_type": "code",
   "execution_count": 20,
   "id": "a5e221fd",
   "metadata": {},
   "outputs": [
    {
     "data": {
      "text/plain": [
       "(1014923199, 1046454590)"
      ]
     },
     "execution_count": 20,
     "metadata": {},
     "output_type": "execute_result"
    }
   ],
   "source": [
    "ratings_filtering_df['Time'].min(), ratings_filtering_df['Time'].max()"
   ]
  },
  {
   "cell_type": "code",
   "execution_count": 21,
   "id": "16c2083d",
   "metadata": {},
   "outputs": [
    {
     "data": {
      "text/plain": [
       "('min time is 2002-02-28 19:06:39', 'max time is 2003-02-28 17:49:50')"
      ]
     },
     "execution_count": 21,
     "metadata": {},
     "output_type": "execute_result"
    }
   ],
   "source": [
    "datetime.fromtimestamp(ratings_filtering_df['Time'].min()).strftime(\"min time is %Y-%m-%d %H:%M:%S\"), datetime.fromtimestamp(ratings_filtering_df['Time'].max()).strftime(\"max time is %Y-%m-%d %H:%M:%S\")"
   ]
  },
  {
   "cell_type": "code",
   "execution_count": 22,
   "id": "ed453778",
   "metadata": {},
   "outputs": [],
   "source": [
    "data = data[data['Time'] > month_ago]"
   ]
  },
  {
   "cell_type": "code",
   "execution_count": 23,
   "id": "6565730b",
   "metadata": {},
   "outputs": [
    {
     "data": {
      "text/plain": [
       "(21704, 4)"
      ]
     },
     "execution_count": 23,
     "metadata": {},
     "output_type": "execute_result"
    }
   ],
   "source": [
    "data.shape"
   ]
  },
  {
   "cell_type": "code",
   "execution_count": 24,
   "id": "eb4ff83a",
   "metadata": {},
   "outputs": [
    {
     "data": {
      "text/plain": [
       "1046454590"
      ]
     },
     "execution_count": 24,
     "metadata": {},
     "output_type": "execute_result"
    }
   ],
   "source": [
    "data['Time'].max()"
   ]
  },
  {
   "cell_type": "code",
   "execution_count": 25,
   "id": "a5b1629d",
   "metadata": {},
   "outputs": [
    {
     "data": {
      "text/plain": [
       "UserId\n",
       "36      1040545125\n",
       "59      1041968335\n",
       "65      1041090068\n",
       "102     1043799175\n",
       "104     1016055781\n",
       "           ...    \n",
       "5948    1046437932\n",
       "5949    1027297425\n",
       "5950    1046369858\n",
       "5956    1033358097\n",
       "5996    1036428955\n",
       "Name: Time, Length: 498, dtype: int64"
      ]
     },
     "execution_count": 25,
     "metadata": {},
     "output_type": "execute_result"
    }
   ],
   "source": [
    "data.groupby('UserId')['Time'].max()"
   ]
  },
  {
   "cell_type": "code",
   "execution_count": 26,
   "id": "1b16bc62",
   "metadata": {},
   "outputs": [],
   "source": [
    "def split_by_date(data: pd.DataFrame, n_days: int):\n",
    "    final_time = data['Time'].max()\n",
    "    session_last_time = data.groupby('Time')['Time'].max()\n",
    "    temp = 60*60*24*n_days # dt.timedelta(n_days)\n",
    "    \n",
    "#     session_in_train = session_last_time[session_last_time < final_time - dt.timedelta(n_days)].index\n",
    "#     session_in_test = session_last_time[session_last_time >= final_time - dt.timedelta(n_days)].index\n",
    "    session_in_train = session_last_time[session_last_time < final_time - temp].index\n",
    "    session_in_test = session_last_time[session_last_time >= final_time - temp].index\n",
    "\n",
    "    before_date = data[data['Time'].isin(session_in_train)]\n",
    "    after_date = data[data['Time'].isin(session_in_test)]\n",
    "#     after_date = after_date[after_date['ItemId'].isin(before_date['ItemId'])]\n",
    "    return before_date, after_date"
   ]
  },
  {
   "cell_type": "code",
   "execution_count": 27,
   "id": "7f90bb22",
   "metadata": {},
   "outputs": [],
   "source": [
    "tr, test = split_by_date(ratings_filtering_df, n_days=30)\n",
    "tr, val = split_by_date(tr, n_days=30)"
   ]
  },
  {
   "cell_type": "code",
   "execution_count": 28,
   "id": "2ad47fd0",
   "metadata": {
    "scrolled": false
   },
   "outputs": [
    {
     "name": "stdout",
     "output_type": "stream",
     "text": [
      "1041267244\n",
      "1014923199\n",
      "tr min time is 2002-02-28 19:06:39\n",
      "tr max time is 2002-12-30 16:54:04\n",
      "1043859613\n",
      "1041272462\n",
      "val min time is 2002-12-30 18:21:02\n",
      "val max time is 2003-01-29 17:00:13\n",
      "1046454590\n",
      "1043869051\n",
      "test min time is 2003-01-29 19:37:31\n",
      "test max time is 2003-02-28 17:49:50\n"
     ]
    }
   ],
   "source": [
    "print(tr['Time'].max()), print(tr['Time'].min())\n",
    "print(datetime.fromtimestamp(tr['Time'].min()).strftime(\"tr min time is %Y-%m-%d %H:%M:%S\"))\n",
    "print(datetime.fromtimestamp(tr['Time'].max()).strftime(\"tr max time is %Y-%m-%d %H:%M:%S\"))\n",
    "\n",
    "print(val['Time'].max()), print(val['Time'].min())\n",
    "print(datetime.fromtimestamp(val['Time'].min()).strftime(\"val min time is %Y-%m-%d %H:%M:%S\"))\n",
    "print(datetime.fromtimestamp(val['Time'].max()).strftime(\"val max time is %Y-%m-%d %H:%M:%S\"))\n",
    "print(test['Time'].max()), print(test['Time'].min())\n",
    "print(datetime.fromtimestamp(test['Time'].min()).strftime(\"test min time is %Y-%m-%d %H:%M:%S\"))\n",
    "print(datetime.fromtimestamp(test['Time'].max()).strftime(\"test max time is %Y-%m-%d %H:%M:%S\"))"
   ]
  },
  {
   "cell_type": "code",
   "execution_count": 29,
   "id": "40a2f839",
   "metadata": {},
   "outputs": [],
   "source": [
    "def min_to_day(data: pd.DataFrame):\n",
    "    temp_b = datetime.fromtimestamp(data['Time'].min()).strftime(\"\\n min time is %Y-%m-%d %H:%M:%S\")\n",
    "    return temp_b\n",
    "\n",
    "def max_to_day(data: pd.DataFrame):\n",
    "    temp_a = datetime.fromtimestamp(data['Time'].max()).strftime(\"\\n max time is %Y-%m-%d %H:%M:%S\")\n",
    "    return temp_a\n",
    "\n",
    "def stats_info(data: pd.DataFrame, status: str):\n",
    "    print(f'* {status} Set Stats Info\\n'\n",
    "          f'\\t Events: {len(data)}\\n'\n",
    "          f'\\t Sessions: {data[\"UserId\"].nunique()}\\n'\n",
    "          f'\\t Items: {data[\"ItemId\"].nunique()}\\n'\n",
    "          f'\\t First Time : {data[\"Time\"].min()}\\n'\n",
    "          f'\\t Last Time : {data[\"Time\"].max()}\\n'\n",
    "          f'\\t min time to day : {min_to_day(data)}\\n'\n",
    "          f'\\t max time to day : {max_to_day(data)}\\n')"
   ]
  },
  {
   "cell_type": "code",
   "execution_count": 30,
   "id": "e7a2919f",
   "metadata": {},
   "outputs": [
    {
     "name": "stdout",
     "output_type": "stream",
     "text": [
      "* train Set Stats Info\n",
      "\t Events: 14833\n",
      "\t Sessions: 467\n",
      "\t Items: 2606\n",
      "\t First Time : 1014923199\n",
      "\t Last Time : 1041267244\n",
      "\t min time to day : \n",
      " min time is 2002-02-28 19:06:39\n",
      "\t max time to day : \n",
      " max time is 2002-12-30 16:54:04\n",
      "\n",
      "* valid Set Stats Info\n",
      "\t Events: 1496\n",
      "\t Sessions: 132\n",
      "\t Items: 976\n",
      "\t First Time : 1041272462\n",
      "\t Last Time : 1043859613\n",
      "\t min time to day : \n",
      " min time is 2002-12-30 18:21:02\n",
      "\t max time to day : \n",
      " max time is 2003-01-29 17:00:13\n",
      "\n",
      "* test Set Stats Info\n",
      "\t Events: 1238\n",
      "\t Sessions: 98\n",
      "\t Items: 845\n",
      "\t First Time : 1043869051\n",
      "\t Last Time : 1046454590\n",
      "\t min time to day : \n",
      " min time is 2003-01-29 19:37:31\n",
      "\t max time to day : \n",
      " max time is 2003-02-28 17:49:50\n",
      "\n"
     ]
    }
   ],
   "source": [
    "stats_info(tr, 'train')\n",
    "stats_info(val, 'valid')\n",
    "stats_info(test, 'test')"
   ]
  },
  {
   "cell_type": "markdown",
   "id": "3a6b92a8",
   "metadata": {},
   "source": [
    "```\n",
    "tr min time is 2002-02-28 19:06:39\n",
    "tr max time is 2002-12-30 02:26:14\n",
    "\n",
    "val min time is 2002-02-28 23:32:05\n",
    "val max time is 2003-01-29 03:00:40\n",
    "\n",
    "test min time is 2002-03-01 04:03:30\n",
    "test max time is 2003-02-28 17:49:50\n",
    "```\n",
    "~~결과를 보면 min time이 이상하다. 해결하려고 이런 저런 시도를 했지만 불가능했다. sesstions, items를 보면 예상대로 나눠진거같아 일단 진행했다.~~   \n",
    "UserID를 기준으로 session을 나누듯이 나눠서 생긴 일이다. Time을 기준으로 나누니 해결했다."
   ]
  },
  {
   "cell_type": "code",
   "execution_count": 31,
   "id": "d848f32b",
   "metadata": {},
   "outputs": [
    {
     "name": "stderr",
     "output_type": "stream",
     "text": [
      "/tmp/ipykernel_96483/703867482.py:5: SettingWithCopyWarning: \n",
      "A value is trying to be set on a copy of a slice from a DataFrame.\n",
      "Try using .loc[row_indexer,col_indexer] = value instead\n",
      "\n",
      "See the caveats in the documentation: https://pandas.pydata.org/pandas-docs/stable/user_guide/indexing.html#returning-a-view-versus-a-copy\n",
      "  df['item_idx'] = df['ItemId'].map(lambda x: id2idx.get(x, -1))  # id2idx에 없는 아이템은 모르는 값(-1) 처리 해줍니다.\n"
     ]
    }
   ],
   "source": [
    "# train set에 없는 아이템이 val, test기간에 생길 수 있으므로 train data를 기준으로 인덱싱합니다.\n",
    "id2idx = {item_id : index for index, item_id in enumerate(tr['ItemId'].unique())}\n",
    "\n",
    "def indexing(df, id2idx):\n",
    "    df['item_idx'] = df['ItemId'].map(lambda x: id2idx.get(x, -1))  # id2idx에 없는 아이템은 모르는 값(-1) 처리 해줍니다.\n",
    "    return df\n",
    "\n",
    "tr = indexing(tr, id2idx)\n",
    "val = indexing(val, id2idx)\n",
    "test = indexing(test, id2idx)"
   ]
  },
  {
   "cell_type": "code",
   "execution_count": 32,
   "id": "d21735ec",
   "metadata": {},
   "outputs": [],
   "source": [
    "save_path = data_path / 'ex'\n",
    "save_path.mkdir(parents=True, exist_ok=True)\n",
    "\n",
    "tr.to_pickle(save_path / 'train.pkl')\n",
    "val.to_pickle(save_path / 'valid.pkl')\n",
    "test.to_pickle(save_path / 'test.pkl')"
   ]
  },
  {
   "cell_type": "markdown",
   "id": "14bfc519",
   "metadata": {},
   "source": [
    "데이터를 준비하고 저장하는 과정까지 마쳤다."
   ]
  },
  {
   "cell_type": "markdown",
   "id": "1a8936ae",
   "metadata": {},
   "source": [
    "# 3. 미니 배치 구성"
   ]
  },
  {
   "cell_type": "markdown",
   "id": "c85aee15",
   "metadata": {},
   "source": [
    "[SESSION-BASED RECOMMENDATIONS WITH RECURRENT NEURAL NETWORKS](https://arxiv.org/pdf/1511.06939v4.pdf)을 활용해서 모델을 만들자. GRU4REC이라고 하고 Sesstion data에 처음으로 RNN 계열 모델을 적용했다.   \n",
    "큰 특징으로는 RNN 계열의 모델에서 Embedding layer를 사용하지 않았을 때 가장 성능이 좋았다고 한다. 그래서 이번에도 원-핫 인코딩을 사용해보자.\n",
    "![](https://recbole.io/docs/_images/gru4rec.png)"
   ]
  },
  {
   "cell_type": "markdown",
   "id": "e23e8f75",
   "metadata": {},
   "source": [
    "### Session parallel mini batches\n",
    "Session을 보면 길이가 제각각이다. 이들은 한 세션이 끝날때까지 대기하는 특징을 갖고 있다. 그래서 병렬적으로 계산하자고 적용한게 session parallel mini batches이다.   \n",
    "\n",
    "__Ranking Loss__   \n",
    "session based recommendation Task를 여러 아이템 중 다음 아이템이 무엇인지 classification하는 task로 생각할 수도 있다.   \n",
    "여러 아이템을 관련도 순으로 랭킹을 매겨 높은 랭킹의 아이템을 추천하는 task로 생각할 수도 있다.   \n",
    "추천 시스템 연구 분야에서는 이렇게 Ranking을 맞추는 objective function에 대한 연구가 있었고 논문의 저자도 이런 Loss를 사용했다.   \n",
    "이번 자료에서는 Classification Task를 보고 Cross-Entropy Loss를 사용했다. "
   ]
  },
  {
   "cell_type": "code",
   "execution_count": 33,
   "id": "d68dd9f0",
   "metadata": {},
   "outputs": [],
   "source": [
    "class SessionDataset:\n",
    "    \"\"\"Credit to yhs-968/pyGRU4REC.\"\"\"\n",
    "\n",
    "    def __init__(self, data):\n",
    "        self.df = data\n",
    "        self.click_offsets = self.get_click_offsets()\n",
    "        self.session_idx = np.arange(self.df['UserId'].nunique())  # indexing to ItemId\n",
    "\n",
    "    def get_click_offsets(self):\n",
    "        \"\"\"\n",
    "        Return the indexes of the first click of each session IDs,\n",
    "        \"\"\"\n",
    "        offsets = np.zeros(self.df['UserId'].nunique() + 1, dtype=np.int32)\n",
    "        offsets[1:] = self.df.groupby('UserId').size().cumsum()\n",
    "        return offsets"
   ]
  },
  {
   "cell_type": "code",
   "execution_count": 34,
   "id": "8b5583ab",
   "metadata": {},
   "outputs": [
    {
     "data": {
      "text/html": [
       "<div>\n",
       "<style scoped>\n",
       "    .dataframe tbody tr th:only-of-type {\n",
       "        vertical-align: middle;\n",
       "    }\n",
       "\n",
       "    .dataframe tbody tr th {\n",
       "        vertical-align: top;\n",
       "    }\n",
       "\n",
       "    .dataframe thead th {\n",
       "        text-align: right;\n",
       "    }\n",
       "</style>\n",
       "<table border=\"1\" class=\"dataframe\">\n",
       "  <thead>\n",
       "    <tr style=\"text-align: right;\">\n",
       "      <th></th>\n",
       "      <th>UserId</th>\n",
       "      <th>ItemId</th>\n",
       "      <th>Rating</th>\n",
       "      <th>Time</th>\n",
       "      <th>item_idx</th>\n",
       "    </tr>\n",
       "  </thead>\n",
       "  <tbody>\n",
       "    <tr>\n",
       "      <th>5200</th>\n",
       "      <td>36</td>\n",
       "      <td>2269</td>\n",
       "      <td>5</td>\n",
       "      <td>1040544350</td>\n",
       "      <td>0</td>\n",
       "    </tr>\n",
       "    <tr>\n",
       "      <th>5076</th>\n",
       "      <td>36</td>\n",
       "      <td>595</td>\n",
       "      <td>4</td>\n",
       "      <td>1040545109</td>\n",
       "      <td>1</td>\n",
       "    </tr>\n",
       "    <tr>\n",
       "      <th>5126</th>\n",
       "      <td>36</td>\n",
       "      <td>1295</td>\n",
       "      <td>4</td>\n",
       "      <td>1040545109</td>\n",
       "      <td>2</td>\n",
       "    </tr>\n",
       "    <tr>\n",
       "      <th>5180</th>\n",
       "      <td>36</td>\n",
       "      <td>3639</td>\n",
       "      <td>4</td>\n",
       "      <td>1040545125</td>\n",
       "      <td>3</td>\n",
       "    </tr>\n",
       "    <tr>\n",
       "      <th>5211</th>\n",
       "      <td>36</td>\n",
       "      <td>2774</td>\n",
       "      <td>4</td>\n",
       "      <td>1016224902</td>\n",
       "      <td>4</td>\n",
       "    </tr>\n",
       "    <tr>\n",
       "      <th>5222</th>\n",
       "      <td>36</td>\n",
       "      <td>296</td>\n",
       "      <td>5</td>\n",
       "      <td>1040545019</td>\n",
       "      <td>5</td>\n",
       "    </tr>\n",
       "    <tr>\n",
       "      <th>5256</th>\n",
       "      <td>36</td>\n",
       "      <td>1701</td>\n",
       "      <td>4</td>\n",
       "      <td>1040544350</td>\n",
       "      <td>6</td>\n",
       "    </tr>\n",
       "    <tr>\n",
       "      <th>5184</th>\n",
       "      <td>36</td>\n",
       "      <td>2694</td>\n",
       "      <td>3</td>\n",
       "      <td>1040544494</td>\n",
       "      <td>7</td>\n",
       "    </tr>\n",
       "    <tr>\n",
       "      <th>5364</th>\n",
       "      <td>36</td>\n",
       "      <td>3786</td>\n",
       "      <td>4</td>\n",
       "      <td>1040544521</td>\n",
       "      <td>8</td>\n",
       "    </tr>\n",
       "    <tr>\n",
       "      <th>5280</th>\n",
       "      <td>36</td>\n",
       "      <td>3174</td>\n",
       "      <td>4</td>\n",
       "      <td>1040544685</td>\n",
       "      <td>9</td>\n",
       "    </tr>\n",
       "  </tbody>\n",
       "</table>\n",
       "</div>"
      ],
      "text/plain": [
       "      UserId  ItemId  Rating        Time  item_idx\n",
       "5200      36    2269       5  1040544350         0\n",
       "5076      36     595       4  1040545109         1\n",
       "5126      36    1295       4  1040545109         2\n",
       "5180      36    3639       4  1040545125         3\n",
       "5211      36    2774       4  1016224902         4\n",
       "5222      36     296       5  1040545019         5\n",
       "5256      36    1701       4  1040544350         6\n",
       "5184      36    2694       3  1040544494         7\n",
       "5364      36    3786       4  1040544521         8\n",
       "5280      36    3174       4  1040544685         9"
      ]
     },
     "execution_count": 34,
     "metadata": {},
     "output_type": "execute_result"
    }
   ],
   "source": [
    "tr_dataset = SessionDataset(tr)\n",
    "tr_dataset.df.head(10)"
   ]
  },
  {
   "cell_type": "code",
   "execution_count": 35,
   "id": "53378e0a",
   "metadata": {},
   "outputs": [
    {
     "data": {
      "text/plain": [
       "array([    0,    33,    39,    92,   102,   107,   108,   109,   146,\n",
       "         147,   149,   174,   180,   199,   210,   231,   281,   350,\n",
       "         363,   445,   546,   649,   690,   732,   736,   739,   759,\n",
       "         767,   775,   779,   782,   870,   933,   935,   938,   973,\n",
       "         985,  1582,  1587,  1607,  1660,  1661,  1662,  1670,  1704,\n",
       "        1718,  1734,  1742,  1797,  1800,  1848,  1920,  1926,  1955,\n",
       "        1959,  1961,  2079,  2085,  2091,  2126,  2137,  2256,  2268,\n",
       "        2310,  2312,  2319,  2322,  2323,  2324,  2326,  2339,  2406,\n",
       "        2409,  2438,  2473,  2487,  2490,  2491,  2512,  2520,  2521,\n",
       "        2530,  2861,  2919,  2955,  2956,  2994,  3116,  3159,  3167,\n",
       "        3180,  3186,  3330,  3346,  3356,  3359,  3364,  3816,  3835,\n",
       "        3868,  3881,  3882,  3887,  3933,  3936,  3961,  3964,  3972,\n",
       "        3980,  4041,  4049,  4052,  4091,  4099,  4193,  4226,  4227,\n",
       "        4230,  4245,  4300,  4326,  4356,  4453,  4511,  4540,  4541,\n",
       "        4586,  4595,  4735,  4739,  4783,  4900,  4902,  4912,  4921,\n",
       "        4922,  4939,  4949,  5013,  5063,  5073,  5086,  5100,  5102,\n",
       "        5113,  5262,  5339,  5370,  5382,  5555,  5560,  5614,  5821,\n",
       "        5842,  5853,  5912,  5913,  5978,  5993,  6022,  6127,  6217,\n",
       "        6320,  6423,  6473,  6494,  6500,  6544,  6546,  6547,  6601,\n",
       "        6652,  6685,  6713,  6775,  6798,  6802,  6821,  6822,  6827,\n",
       "        6845,  6857,  6859,  6881,  6883,  6890,  6891,  6902,  6904,\n",
       "        6905,  6919,  6926,  6936,  6995,  7031,  7039,  7102,  7119,\n",
       "        7125,  7147,  7149,  7164,  7191,  7193,  7195,  7208,  7229,\n",
       "        7319,  7323,  7356,  7367,  7425,  7444,  7474,  7484,  7535,\n",
       "        7561,  7616,  7621,  7757,  7784,  7841,  7848,  7920,  7937,\n",
       "        7941,  7947,  7956,  7962,  7970,  7977,  8000,  8050,  8053,\n",
       "        8055,  8057,  8086,  8224,  8245,  8253,  8254,  8256,  8261,\n",
       "        8333,  8334,  8343,  8406,  8410,  8522,  8532,  8547,  8668,\n",
       "        8698,  8836,  8890,  8939,  8945,  8955,  9018,  9022,  9050,\n",
       "        9053,  9063,  9123,  9162,  9200,  9202,  9207,  9217,  9223,\n",
       "        9274,  9277,  9278,  9295,  9303,  9307,  9318,  9326,  9338,\n",
       "        9339,  9352,  9353,  9366,  9486,  9489,  9505,  9526,  9536,\n",
       "        9538,  9539,  9542,  9553,  9587,  9646,  9656,  9663,  9721,\n",
       "        9782,  9795,  9796,  9829,  9853,  9924,  9943,  9984, 10064,\n",
       "       10087, 10089, 10094, 10104, 10146, 10150, 10159, 10189, 10254,\n",
       "       10268, 10273, 10283, 10290, 10299, 10305, 10311, 10342, 10357,\n",
       "       10359, 10373, 10401, 10425, 10444, 10496, 10512, 10515, 10587,\n",
       "       10747, 10780, 10783, 10796, 10798, 10838, 10845, 10866, 10869,\n",
       "       10883, 10908, 10951, 10997, 11012, 11222, 11261, 11293, 11342,\n",
       "       11348, 11386, 11390, 11398, 11409, 11571, 11582, 11595, 11744,\n",
       "       11755, 11759, 11824, 11826, 11854, 11903, 11922, 11923, 11933,\n",
       "       11997, 12004, 12017, 12031, 12074, 12101, 12102, 12103, 12121,\n",
       "       12309, 12365, 12381, 12383, 12399, 12401, 12405, 12429, 12433,\n",
       "       12449, 12478, 12486, 12550, 12562, 12573, 12578, 12599, 12601,\n",
       "       12618, 12840, 12860, 12914, 13091, 13124, 13137, 13177, 13274,\n",
       "       13297, 13324, 13335, 13346, 13347, 13395, 13425, 13440, 13457,\n",
       "       13458, 13462, 13465, 13485, 13491, 13511, 13575, 13608, 13620,\n",
       "       13641, 13646, 13651, 13667, 13695, 13702, 13705, 13763, 13798,\n",
       "       13806, 13812, 13815, 13817, 13819, 13897, 13975, 13991, 14006,\n",
       "       14008, 14012, 14043, 14050, 14055, 14093, 14101, 14110, 14111,\n",
       "       14145, 14190, 14204, 14463, 14470, 14492, 14500, 14597, 14603,\n",
       "       14607, 14659, 14666, 14684, 14685, 14695, 14698, 14717, 14833],\n",
       "      dtype=int32)"
      ]
     },
     "execution_count": 35,
     "metadata": {},
     "output_type": "execute_result"
    }
   ],
   "source": [
    "tr_dataset.click_offsets"
   ]
  },
  {
   "cell_type": "code",
   "execution_count": 36,
   "id": "57c726b9",
   "metadata": {},
   "outputs": [
    {
     "data": {
      "text/plain": [
       "array([  0,   1,   2,   3,   4,   5,   6,   7,   8,   9,  10,  11,  12,\n",
       "        13,  14,  15,  16,  17,  18,  19,  20,  21,  22,  23,  24,  25,\n",
       "        26,  27,  28,  29,  30,  31,  32,  33,  34,  35,  36,  37,  38,\n",
       "        39,  40,  41,  42,  43,  44,  45,  46,  47,  48,  49,  50,  51,\n",
       "        52,  53,  54,  55,  56,  57,  58,  59,  60,  61,  62,  63,  64,\n",
       "        65,  66,  67,  68,  69,  70,  71,  72,  73,  74,  75,  76,  77,\n",
       "        78,  79,  80,  81,  82,  83,  84,  85,  86,  87,  88,  89,  90,\n",
       "        91,  92,  93,  94,  95,  96,  97,  98,  99, 100, 101, 102, 103,\n",
       "       104, 105, 106, 107, 108, 109, 110, 111, 112, 113, 114, 115, 116,\n",
       "       117, 118, 119, 120, 121, 122, 123, 124, 125, 126, 127, 128, 129,\n",
       "       130, 131, 132, 133, 134, 135, 136, 137, 138, 139, 140, 141, 142,\n",
       "       143, 144, 145, 146, 147, 148, 149, 150, 151, 152, 153, 154, 155,\n",
       "       156, 157, 158, 159, 160, 161, 162, 163, 164, 165, 166, 167, 168,\n",
       "       169, 170, 171, 172, 173, 174, 175, 176, 177, 178, 179, 180, 181,\n",
       "       182, 183, 184, 185, 186, 187, 188, 189, 190, 191, 192, 193, 194,\n",
       "       195, 196, 197, 198, 199, 200, 201, 202, 203, 204, 205, 206, 207,\n",
       "       208, 209, 210, 211, 212, 213, 214, 215, 216, 217, 218, 219, 220,\n",
       "       221, 222, 223, 224, 225, 226, 227, 228, 229, 230, 231, 232, 233,\n",
       "       234, 235, 236, 237, 238, 239, 240, 241, 242, 243, 244, 245, 246,\n",
       "       247, 248, 249, 250, 251, 252, 253, 254, 255, 256, 257, 258, 259,\n",
       "       260, 261, 262, 263, 264, 265, 266, 267, 268, 269, 270, 271, 272,\n",
       "       273, 274, 275, 276, 277, 278, 279, 280, 281, 282, 283, 284, 285,\n",
       "       286, 287, 288, 289, 290, 291, 292, 293, 294, 295, 296, 297, 298,\n",
       "       299, 300, 301, 302, 303, 304, 305, 306, 307, 308, 309, 310, 311,\n",
       "       312, 313, 314, 315, 316, 317, 318, 319, 320, 321, 322, 323, 324,\n",
       "       325, 326, 327, 328, 329, 330, 331, 332, 333, 334, 335, 336, 337,\n",
       "       338, 339, 340, 341, 342, 343, 344, 345, 346, 347, 348, 349, 350,\n",
       "       351, 352, 353, 354, 355, 356, 357, 358, 359, 360, 361, 362, 363,\n",
       "       364, 365, 366, 367, 368, 369, 370, 371, 372, 373, 374, 375, 376,\n",
       "       377, 378, 379, 380, 381, 382, 383, 384, 385, 386, 387, 388, 389,\n",
       "       390, 391, 392, 393, 394, 395, 396, 397, 398, 399, 400, 401, 402,\n",
       "       403, 404, 405, 406, 407, 408, 409, 410, 411, 412, 413, 414, 415,\n",
       "       416, 417, 418, 419, 420, 421, 422, 423, 424, 425, 426, 427, 428,\n",
       "       429, 430, 431, 432, 433, 434, 435, 436, 437, 438, 439, 440, 441,\n",
       "       442, 443, 444, 445, 446, 447, 448, 449, 450, 451, 452, 453, 454,\n",
       "       455, 456, 457, 458, 459, 460, 461, 462, 463, 464, 465, 466])"
      ]
     },
     "execution_count": 36,
     "metadata": {},
     "output_type": "execute_result"
    }
   ],
   "source": [
    "tr_dataset.session_idx"
   ]
  },
  {
   "cell_type": "markdown",
   "id": "500fe0b7",
   "metadata": {},
   "source": [
    "train 데이터로 `SessionDataset` 객체를 만들고 인스턴스 변수들을 살펴보자. `click_offsets` 변수는 각 세션이 시작된 인덱스를 담고 있다. `session_idx` 변수는 각 세션을 인덱싱한 `np.array`이다."
   ]
  },
  {
   "cell_type": "markdown",
   "id": "40b972df",
   "metadata": {},
   "source": [
    "### SessionDataLoader   \n",
    "`SessionDataset` 객체를 받아 Session Parallel mini batch를 만드는 클래스를 만들자.   \n",
    "`__iter__` 메서드는 모델 인풋, 라벨, 세션이 끝나는 곳의 위치를 `yield`한다. mask는 후에 RNN Cell State를 초기화하는데 사용할 것이다."
   ]
  },
  {
   "cell_type": "code",
   "execution_count": 37,
   "id": "16032eb2",
   "metadata": {},
   "outputs": [],
   "source": [
    "class SessionDataLoader:\n",
    "    \"\"\"Credit to yhs-968/pyGRU4REC.\"\"\"\n",
    "\n",
    "    def __init__(self, dataset: SessionDataset, batch_size=50):\n",
    "        self.dataset = dataset\n",
    "        self.batch_size = batch_size\n",
    "\n",
    "    def __iter__(self):\n",
    "        \"\"\" Returns the iterator for producing session-parallel training mini-batches.\n",
    "        Yields:\n",
    "            input (B,):  Item indices that will be encoded as one-hot vectors later.\n",
    "            target (B,): a Variable that stores the target item indices\n",
    "            masks: Numpy array indicating the positions of the sessions to be terminated\n",
    "        \"\"\"\n",
    "\n",
    "        start, end, mask, last_session, finished = self.initialize()  # initialize 메소드에서 확인해주세요.\n",
    "        \"\"\"\n",
    "        start : Index Where Session Start\n",
    "        end : Index Where Session End\n",
    "        mask : indicator for the sessions to be terminated\n",
    "        \"\"\"\n",
    "\n",
    "        while not finished:\n",
    "            min_len = (end - start).min() - 1  # Shortest Length Among Sessions\n",
    "            for i in range(min_len):\n",
    "                # Build inputs & targets\n",
    "                inp = self.dataset.df['item_idx'].values[start + i]\n",
    "                target = self.dataset.df['item_idx'].values[start + i + 1]\n",
    "                yield inp, target, mask\n",
    "\n",
    "            start, end, mask, last_session, finished = self.update_status(start, end, min_len, last_session, finished)\n",
    "\n",
    "    def initialize(self):\n",
    "        first_iters = np.arange(self.batch_size)    # 첫 배치에 사용할 세션 Index를 가져옵니다.\n",
    "        last_session = self.batch_size - 1    # 마지막으로 다루고 있는 세션 Index를 저장해둡니다.\n",
    "        start = self.dataset.click_offsets[self.dataset.session_idx[first_iters]]       # data 상에서 session이 시작된 위치를 가져옵니다.\n",
    "        end = self.dataset.click_offsets[self.dataset.session_idx[first_iters] + 1]  # session이 끝난 위치 바로 다음 위치를 가져옵니다.\n",
    "        mask = np.array([])   # session의 모든 아이템을 다 돌은 경우 mask에 추가해줄 것입니다.\n",
    "        finished = False         # data를 전부 돌았는지 기록하기 위한 변수입니다.\n",
    "        return start, end, mask, last_session, finished\n",
    "\n",
    "    def update_status(self, start: np.ndarray, end: np.ndarray, min_len: int, last_session: int, finished: bool):  \n",
    "        # 다음 배치 데이터를 생성하기 위해 상태를 update합니다.\n",
    "        \n",
    "        start += min_len   # __iter__에서 min_len 만큼 for문을 돌았으므로 start를 min_len 만큼 더해줍니다.\n",
    "        mask = np.arange(self.batch_size)[(end - start) == 1]  \n",
    "        # end는 다음 세션이 시작되는 위치인데 start와 한 칸 차이난다는 것은 session이 끝났다는 뜻입니다. mask에 기록해줍니다.\n",
    "\n",
    "        for i, idx in enumerate(mask, start=1):  # mask에 추가된 세션 개수만큼 새로운 세션을 돌것입니다.\n",
    "            new_session = last_session + i  \n",
    "            if new_session > self.dataset.session_idx[-1]:  # 만약 새로운 세션이 마지막 세션 index보다 크다면 모든 학습데이터를 돈 것입니다.\n",
    "                finished = True\n",
    "                break\n",
    "            # update the next starting/ending point\n",
    "            start[idx] = self.dataset.click_offsets[self.dataset.session_idx[new_session]]     # 종료된 세션 대신 새로운 세션의 시작점을 기록합니다.\n",
    "            end[idx] = self.dataset.click_offsets[self.dataset.session_idx[new_session] + 1]\n",
    "\n",
    "        last_session += len(mask)  # 마지막 세션의 위치를 기록해둡니다.\n",
    "        return start, end, mask, last_session, finished"
   ]
  },
  {
   "cell_type": "code",
   "execution_count": 38,
   "id": "79e9f8d4",
   "metadata": {},
   "outputs": [
    {
     "data": {
      "text/html": [
       "<div>\n",
       "<style scoped>\n",
       "    .dataframe tbody tr th:only-of-type {\n",
       "        vertical-align: middle;\n",
       "    }\n",
       "\n",
       "    .dataframe tbody tr th {\n",
       "        vertical-align: top;\n",
       "    }\n",
       "\n",
       "    .dataframe thead th {\n",
       "        text-align: right;\n",
       "    }\n",
       "</style>\n",
       "<table border=\"1\" class=\"dataframe\">\n",
       "  <thead>\n",
       "    <tr style=\"text-align: right;\">\n",
       "      <th></th>\n",
       "      <th>UserId</th>\n",
       "      <th>ItemId</th>\n",
       "      <th>Rating</th>\n",
       "      <th>Time</th>\n",
       "      <th>item_idx</th>\n",
       "    </tr>\n",
       "  </thead>\n",
       "  <tbody>\n",
       "    <tr>\n",
       "      <th>5200</th>\n",
       "      <td>36</td>\n",
       "      <td>2269</td>\n",
       "      <td>5</td>\n",
       "      <td>1040544350</td>\n",
       "      <td>0</td>\n",
       "    </tr>\n",
       "    <tr>\n",
       "      <th>5076</th>\n",
       "      <td>36</td>\n",
       "      <td>595</td>\n",
       "      <td>4</td>\n",
       "      <td>1040545109</td>\n",
       "      <td>1</td>\n",
       "    </tr>\n",
       "    <tr>\n",
       "      <th>5126</th>\n",
       "      <td>36</td>\n",
       "      <td>1295</td>\n",
       "      <td>4</td>\n",
       "      <td>1040545109</td>\n",
       "      <td>2</td>\n",
       "    </tr>\n",
       "    <tr>\n",
       "      <th>5180</th>\n",
       "      <td>36</td>\n",
       "      <td>3639</td>\n",
       "      <td>4</td>\n",
       "      <td>1040545125</td>\n",
       "      <td>3</td>\n",
       "    </tr>\n",
       "    <tr>\n",
       "      <th>5211</th>\n",
       "      <td>36</td>\n",
       "      <td>2774</td>\n",
       "      <td>4</td>\n",
       "      <td>1016224902</td>\n",
       "      <td>4</td>\n",
       "    </tr>\n",
       "    <tr>\n",
       "      <th>5222</th>\n",
       "      <td>36</td>\n",
       "      <td>296</td>\n",
       "      <td>5</td>\n",
       "      <td>1040545019</td>\n",
       "      <td>5</td>\n",
       "    </tr>\n",
       "    <tr>\n",
       "      <th>5256</th>\n",
       "      <td>36</td>\n",
       "      <td>1701</td>\n",
       "      <td>4</td>\n",
       "      <td>1040544350</td>\n",
       "      <td>6</td>\n",
       "    </tr>\n",
       "    <tr>\n",
       "      <th>5184</th>\n",
       "      <td>36</td>\n",
       "      <td>2694</td>\n",
       "      <td>3</td>\n",
       "      <td>1040544494</td>\n",
       "      <td>7</td>\n",
       "    </tr>\n",
       "    <tr>\n",
       "      <th>5364</th>\n",
       "      <td>36</td>\n",
       "      <td>3786</td>\n",
       "      <td>4</td>\n",
       "      <td>1040544521</td>\n",
       "      <td>8</td>\n",
       "    </tr>\n",
       "    <tr>\n",
       "      <th>5280</th>\n",
       "      <td>36</td>\n",
       "      <td>3174</td>\n",
       "      <td>4</td>\n",
       "      <td>1040544685</td>\n",
       "      <td>9</td>\n",
       "    </tr>\n",
       "    <tr>\n",
       "      <th>5262</th>\n",
       "      <td>36</td>\n",
       "      <td>2369</td>\n",
       "      <td>4</td>\n",
       "      <td>1040544564</td>\n",
       "      <td>10</td>\n",
       "    </tr>\n",
       "    <tr>\n",
       "      <th>5291</th>\n",
       "      <td>36</td>\n",
       "      <td>3827</td>\n",
       "      <td>4</td>\n",
       "      <td>1015963458</td>\n",
       "      <td>11</td>\n",
       "    </tr>\n",
       "    <tr>\n",
       "      <th>5104</th>\n",
       "      <td>36</td>\n",
       "      <td>247</td>\n",
       "      <td>4</td>\n",
       "      <td>1040545068</td>\n",
       "      <td>12</td>\n",
       "    </tr>\n",
       "    <tr>\n",
       "      <th>5325</th>\n",
       "      <td>36</td>\n",
       "      <td>553</td>\n",
       "      <td>4</td>\n",
       "      <td>1015905626</td>\n",
       "      <td>13</td>\n",
       "    </tr>\n",
       "    <tr>\n",
       "      <th>5025</th>\n",
       "      <td>36</td>\n",
       "      <td>3359</td>\n",
       "      <td>5</td>\n",
       "      <td>1015905485</td>\n",
       "      <td>14</td>\n",
       "    </tr>\n",
       "  </tbody>\n",
       "</table>\n",
       "</div>"
      ],
      "text/plain": [
       "      UserId  ItemId  Rating        Time  item_idx\n",
       "5200      36    2269       5  1040544350         0\n",
       "5076      36     595       4  1040545109         1\n",
       "5126      36    1295       4  1040545109         2\n",
       "5180      36    3639       4  1040545125         3\n",
       "5211      36    2774       4  1016224902         4\n",
       "5222      36     296       5  1040545019         5\n",
       "5256      36    1701       4  1040544350         6\n",
       "5184      36    2694       3  1040544494         7\n",
       "5364      36    3786       4  1040544521         8\n",
       "5280      36    3174       4  1040544685         9\n",
       "5262      36    2369       4  1040544564        10\n",
       "5291      36    3827       4  1015963458        11\n",
       "5104      36     247       4  1040545068        12\n",
       "5325      36     553       4  1015905626        13\n",
       "5025      36    3359       5  1015905485        14"
      ]
     },
     "execution_count": 38,
     "metadata": {},
     "output_type": "execute_result"
    }
   ],
   "source": [
    "tr_data_loader = SessionDataLoader(tr_dataset, batch_size=4)\n",
    "tr_dataset.df.head(15)"
   ]
  },
  {
   "cell_type": "code",
   "execution_count": 39,
   "id": "7cf73058",
   "metadata": {},
   "outputs": [],
   "source": [
    "iter_ex = iter(tr_data_loader)"
   ]
  },
  {
   "cell_type": "code",
   "execution_count": 40,
   "id": "a3b3f9a5",
   "metadata": {
    "scrolled": true
   },
   "outputs": [
    {
     "name": "stdout",
     "output_type": "stream",
     "text": [
      "Model Input Item Idx are : [ 0 33 39 89]\n",
      "Label Item Idx are :       [ 1 34 40 87]\n",
      "Previous Masked Input Idx are []\n"
     ]
    }
   ],
   "source": [
    "inputs, labels, mask =  next(iter_ex)\n",
    "print(f'Model Input Item Idx are : {inputs}')\n",
    "print(f'Label Item Idx are : {\"\":5} {labels}')\n",
    "print(f'Previous Masked Input Idx are {mask}')"
   ]
  },
  {
   "cell_type": "markdown",
   "id": "a77b52be",
   "metadata": {},
   "source": [
    "반복 실행하면 `next`가 계속 다음 데이터를 만든다."
   ]
  },
  {
   "cell_type": "markdown",
   "id": "147bc923",
   "metadata": {},
   "source": [
    "# 4. 모델 구성"
   ]
  },
  {
   "cell_type": "markdown",
   "id": "60c1d79c",
   "metadata": {},
   "source": [
    "__Evaluation Metric__   \n",
    "모델 성능에 대한 지표로 precision이나 recall이 있다.   \n",
    "sesstion based recommendation task의 예를들어 모델이 k개의 아이템을 제시했을 때, 유저가 클릭, 구매한 n개의 아이템이 많아야 좋다. 이 때문에 recall의 개념을 확장한 `recall@k` 지표, precision의 개념을 확장한 `Mean Average Precision@k` 지표 등을 사용한다.   \n",
    "추천에서는 몇 번째로 맞추느냐도 중요하다. 예를들어 구글에서 검색했을 때 원하는 결과가 1페이지 말고 2페이지에 나온다면 유저의 반응이 크게 떨어진다. 따라서 순서에 민감한 `MRR`, `NDCG` 같은 지표도 사용한다.   \n",
    "이번 자료에서는 `MRR`, `Recall@k`를 사용하자. `MRR`은 정답 아이템이 나온 순번의 역수 값이다. 이는 정답 아이템이 추천 결과 앞쪽 순번에 나오면 지표가 높아지고 뒤쪽에 나오거나 안나오면 지표가 낮아짐을 의미한다."
   ]
  },
  {
   "cell_type": "code",
   "execution_count": 41,
   "id": "08d43b5f",
   "metadata": {},
   "outputs": [],
   "source": [
    "def mrr_k(pred, truth: int, k: int):\n",
    "    indexing = np.where(pred[:k] == truth)[0]\n",
    "    if len(indexing) > 0:\n",
    "        return 1 / (indexing[0] + 1)\n",
    "    else:\n",
    "        return 0\n",
    "\n",
    "\n",
    "def recall_k(pred, truth: int, k: int) -> int:\n",
    "    answer = truth in pred[:k]\n",
    "    return int(answer)"
   ]
  },
  {
   "cell_type": "markdown",
   "id": "ba007b02",
   "metadata": {},
   "source": [
    "__Model Architecture__   \n",
    "모델 구조 설계하기"
   ]
  },
  {
   "cell_type": "code",
   "execution_count": 42,
   "id": "7602a94a",
   "metadata": {},
   "outputs": [],
   "source": [
    "import numpy as np\n",
    "import tensorflow as tf\n",
    "from tensorflow.keras.layers import Input, Dense, Dropout, GRU\n",
    "from tensorflow.keras.losses import categorical_crossentropy\n",
    "from tensorflow.keras.models import Model\n",
    "from tensorflow.keras.optimizers import Adam\n",
    "from tensorflow.keras.utils import to_categorical\n",
    "from tqdm import tqdm"
   ]
  },
  {
   "cell_type": "code",
   "execution_count": 43,
   "id": "5e4ebbbe",
   "metadata": {},
   "outputs": [],
   "source": [
    "def create_model(args):\n",
    "    inputs = Input(batch_shape=(args.batch_size, 1, args.num_items))\n",
    "    gru, _ = GRU(args.hsz, stateful=True, return_state=True, name='GRU')(inputs)\n",
    "    dropout = Dropout(args.drop_rate)(gru)\n",
    "    predictions = Dense(args.num_items, activation='softmax')(dropout)\n",
    "    model = Model(inputs=inputs, outputs=[predictions])\n",
    "    model.compile(loss=categorical_crossentropy, optimizer=Adam(args.lr), metrics=['accuracy'])\n",
    "    model.summary()\n",
    "    return model"
   ]
  },
  {
   "cell_type": "code",
   "execution_count": 44,
   "id": "49d333fd",
   "metadata": {},
   "outputs": [],
   "source": [
    "class Args:\n",
    "    def __init__(self, tr, val, test, batch_size, hsz, drop_rate, lr, epochs, k):\n",
    "        self.tr = tr\n",
    "        self.val = val\n",
    "        self.test = test\n",
    "        self.num_items = tr['ItemId'].nunique()\n",
    "        self.num_sessions = tr['UserId'].nunique()\n",
    "        self.batch_size = batch_size\n",
    "        self.hsz = hsz\n",
    "        self.drop_rate = drop_rate\n",
    "        self.lr = lr\n",
    "        self.epochs = epochs\n",
    "        self.k = k"
   ]
  },
  {
   "cell_type": "markdown",
   "id": "58d97efe",
   "metadata": {},
   "source": [
    "# 5. 모델 학습"
   ]
  },
  {
   "cell_type": "code",
   "execution_count": 45,
   "id": "af6ad172",
   "metadata": {},
   "outputs": [],
   "source": [
    "# train 셋으로 학습하면서 valid 셋으로 검증합니다.\n",
    "def train_model(model, args):\n",
    "    train_dataset = SessionDataset(args.tr)\n",
    "    train_loader = SessionDataLoader(train_dataset, batch_size=args.batch_size)\n",
    "\n",
    "    for epoch in range(1, args.epochs + 1):\n",
    "        total_step = len(args.tr) - args.tr['UserId'].nunique()\n",
    "        tr_loader = tqdm(train_loader, total=total_step // args.batch_size, desc='Train', mininterval=1)\n",
    "        for feat, target, mask in tr_loader:\n",
    "            reset_hidden_states(model, mask)  # 종료된 session은 hidden_state를 초기화합니다. 아래 메서드에서 확인해주세요.\n",
    "\n",
    "            input_ohe = to_categorical(feat, num_classes=args.num_items)\n",
    "            input_ohe = np.expand_dims(input_ohe, axis=1)\n",
    "            target_ohe = to_categorical(target, num_classes=args.num_items)\n",
    "\n",
    "            result = model.train_on_batch(input_ohe, target_ohe)\n",
    "            tr_loader.set_postfix(train_loss=result[0], accuracy = result[1])\n",
    "\n",
    "        val_recall, val_mrr = get_metrics(args.val, model, args, args.k)  # valid set에 대해 검증합니다.\n",
    "\n",
    "        print(f\"\\t - Recall@{args.k} epoch {epoch}: {val_recall:3f}\")\n",
    "        print(f\"\\t - MRR@{args.k}    epoch {epoch}: {val_mrr:3f}\\n\")\n",
    "\n",
    "\n",
    "def reset_hidden_states(model, mask):\n",
    "    gru_layer = model.get_layer(name='GRU')  # model에서 gru layer를 가져옵니다.\n",
    "    hidden_states = gru_layer.states[0].numpy()  # gru_layer의 parameter를 가져옵니다.\n",
    "    for elt in mask:  # mask된 인덱스 즉, 종료된 세션의 인덱스를 돌면서\n",
    "        hidden_states[elt, :] = 0  # parameter를 초기화 합니다.\n",
    "    gru_layer.reset_states(states=hidden_states)\n",
    "\n",
    "\n",
    "def get_metrics(data, model, args, k: int):  # valid셋과 test셋을 평가하는 코드입니다. \n",
    "                                             # train과 거의 같지만 mrr, recall을 구하는 라인이 있습니다.\n",
    "    dataset = SessionDataset(data)\n",
    "    loader = SessionDataLoader(dataset, batch_size=args.batch_size)\n",
    "    recall_list, mrr_list = [], []\n",
    "\n",
    "    total_step = len(data) - data['UserId'].nunique()\n",
    "    for inputs, label, mask in tqdm(loader, total=total_step // args.batch_size, desc='Evaluation', mininterval=1):\n",
    "        reset_hidden_states(model, mask)\n",
    "        input_ohe = to_categorical(inputs, num_classes=args.num_items)\n",
    "        input_ohe = np.expand_dims(input_ohe, axis=1)\n",
    "\n",
    "        pred = model.predict(input_ohe, batch_size=args.batch_size)\n",
    "        pred_arg = tf.argsort(pred, direction='DESCENDING')  # softmax 값이 큰 순서대로 sorting 합니다.\n",
    "\n",
    "        length = len(inputs)\n",
    "        recall_list.extend([recall_k(pred_arg[i], label[i], k) for i in range(length)])\n",
    "        mrr_list.extend([mrr_k(pred_arg[i], label[i], k) for i in range(length)])\n",
    "\n",
    "    recall, mrr = np.mean(recall_list), np.mean(mrr_list)\n",
    "    return recall, mrr"
   ]
  },
  {
   "cell_type": "code",
   "execution_count": 46,
   "id": "f99ab6d4",
   "metadata": {
    "scrolled": true
   },
   "outputs": [
    {
     "name": "stdout",
     "output_type": "stream",
     "text": [
      "Model: \"model\"\n",
      "_________________________________________________________________\n",
      "Layer (type)                 Output Shape              Param #   \n",
      "=================================================================\n",
      "input_1 (InputLayer)         [(64, 1, 2606)]           0         \n",
      "_________________________________________________________________\n",
      "GRU (GRU)                    [(64, 50), (64, 50)]      398700    \n",
      "_________________________________________________________________\n",
      "dropout (Dropout)            (64, 50)                  0         \n",
      "_________________________________________________________________\n",
      "dense (Dense)                (64, 2606)                132906    \n",
      "=================================================================\n",
      "Total params: 531,606\n",
      "Trainable params: 531,606\n",
      "Non-trainable params: 0\n",
      "_________________________________________________________________\n"
     ]
    },
    {
     "name": "stderr",
     "output_type": "stream",
     "text": [
      "Train:  77%|███████▋  | 173/224 [00:04<00:01, 38.56it/s, accuracy=0, train_loss=7.59]    \n",
      "Evaluation:  14%|█▍        | 3/21 [00:01<00:07,  2.55it/s]\n"
     ]
    },
    {
     "name": "stdout",
     "output_type": "stream",
     "text": [
      "\t - Recall@20 epoch 1: 0.041667\n",
      "\t - MRR@20    epoch 1: 0.004193\n",
      "\n"
     ]
    },
    {
     "name": "stderr",
     "output_type": "stream",
     "text": [
      "Train:  77%|███████▋  | 173/224 [00:01<00:00, 95.87it/s, accuracy=0, train_loss=7.48]    \n",
      "Evaluation:  14%|█▍        | 3/21 [00:00<00:05,  3.22it/s]\n"
     ]
    },
    {
     "name": "stdout",
     "output_type": "stream",
     "text": [
      "\t - Recall@20 epoch 2: 0.072917\n",
      "\t - MRR@20    epoch 2: 0.012191\n",
      "\n"
     ]
    },
    {
     "name": "stderr",
     "output_type": "stream",
     "text": [
      "Train:  77%|███████▋  | 173/224 [00:01<00:00, 96.34it/s, accuracy=0, train_loss=7.39]    \n",
      "Evaluation:  14%|█▍        | 3/21 [00:00<00:05,  3.34it/s]\n"
     ]
    },
    {
     "name": "stdout",
     "output_type": "stream",
     "text": [
      "\t - Recall@20 epoch 3: 0.046875\n",
      "\t - MRR@20    epoch 3: 0.009084\n",
      "\n"
     ]
    },
    {
     "name": "stderr",
     "output_type": "stream",
     "text": [
      "Train:  77%|███████▋  | 173/224 [00:01<00:00, 92.82it/s, accuracy=0, train_loss=7.36]    \n",
      "Evaluation:  14%|█▍        | 3/21 [00:00<00:05,  3.32it/s]\n"
     ]
    },
    {
     "name": "stdout",
     "output_type": "stream",
     "text": [
      "\t - Recall@20 epoch 4: 0.052083\n",
      "\t - MRR@20    epoch 4: 0.012220\n",
      "\n"
     ]
    },
    {
     "name": "stderr",
     "output_type": "stream",
     "text": [
      "Train:  77%|███████▋  | 173/224 [00:01<00:00, 93.92it/s, accuracy=0.0156, train_loss=7.34]\n",
      "Evaluation:  14%|█▍        | 3/21 [00:00<00:05,  3.34it/s]"
     ]
    },
    {
     "name": "stdout",
     "output_type": "stream",
     "text": [
      "\t - Recall@20 epoch 5: 0.057292\n",
      "\t - MRR@20    epoch 5: 0.010136\n",
      "\n"
     ]
    },
    {
     "name": "stderr",
     "output_type": "stream",
     "text": [
      "\n"
     ]
    }
   ],
   "source": [
    "args = Args(tr, val, test, batch_size=64, hsz=50, drop_rate=0.1, lr=0.001, epochs=5, k=20)\n",
    "model = create_model(args)\n",
    "train_model(model, args)"
   ]
  },
  {
   "cell_type": "markdown",
   "id": "f4abf5dc",
   "metadata": {},
   "source": [
    "# 6. 모델 테스트"
   ]
  },
  {
   "cell_type": "code",
   "execution_count": 47,
   "id": "5a8c6745",
   "metadata": {},
   "outputs": [
    {
     "name": "stderr",
     "output_type": "stream",
     "text": [
      "Evaluation:   6%|▌         | 1/17 [00:00<00:04,  3.22it/s]"
     ]
    },
    {
     "name": "stdout",
     "output_type": "stream",
     "text": [
      "\t - Recall@20: 0.015625\n",
      "\t - MRR@20: 0.005208\n",
      "\n"
     ]
    },
    {
     "name": "stderr",
     "output_type": "stream",
     "text": [
      "\n"
     ]
    }
   ],
   "source": [
    "def test_model(model, args, test):\n",
    "    test_recall, test_mrr = get_metrics(test, model, args, 20)\n",
    "    print(f\"\\t - Recall@{args.k}: {test_recall:3f}\")\n",
    "    print(f\"\\t - MRR@{args.k}: {test_mrr:3f}\\n\")\n",
    "\n",
    "test_model(model, args, test)"
   ]
  },
  {
   "cell_type": "markdown",
   "id": "bd8c989f",
   "metadata": {},
   "source": [
    "---"
   ]
  },
  {
   "cell_type": "markdown",
   "id": "5728c643",
   "metadata": {},
   "source": [
    "### drop_rate, lr 값 수정"
   ]
  },
  {
   "cell_type": "code",
   "execution_count": 48,
   "id": "1405d7e2",
   "metadata": {},
   "outputs": [
    {
     "name": "stdout",
     "output_type": "stream",
     "text": [
      "Model: \"model_1\"\n",
      "_________________________________________________________________\n",
      "Layer (type)                 Output Shape              Param #   \n",
      "=================================================================\n",
      "input_2 (InputLayer)         [(64, 1, 2606)]           0         \n",
      "_________________________________________________________________\n",
      "GRU (GRU)                    [(64, 50), (64, 50)]      398700    \n",
      "_________________________________________________________________\n",
      "dropout_1 (Dropout)          (64, 50)                  0         \n",
      "_________________________________________________________________\n",
      "dense_1 (Dense)              (64, 2606)                132906    \n",
      "=================================================================\n",
      "Total params: 531,606\n",
      "Trainable params: 531,606\n",
      "Non-trainable params: 0\n",
      "_________________________________________________________________\n"
     ]
    },
    {
     "name": "stderr",
     "output_type": "stream",
     "text": [
      "Train:  77%|███████▋  | 173/224 [00:02<00:00, 63.21it/s, accuracy=0, train_loss=7.58]     \n",
      "Evaluation:  14%|█▍        | 3/21 [00:01<00:06,  2.67it/s]\n"
     ]
    },
    {
     "name": "stdout",
     "output_type": "stream",
     "text": [
      "\t - Recall@20 epoch 1: 0.041667\n",
      "\t - MRR@20    epoch 1: 0.003748\n",
      "\n"
     ]
    },
    {
     "name": "stderr",
     "output_type": "stream",
     "text": [
      "Train:  77%|███████▋  | 173/224 [00:01<00:00, 95.81it/s, accuracy=0, train_loss=7.47]    \n",
      "Evaluation:  14%|█▍        | 3/21 [00:00<00:05,  3.03it/s]\n"
     ]
    },
    {
     "name": "stdout",
     "output_type": "stream",
     "text": [
      "\t - Recall@20 epoch 2: 0.057292\n",
      "\t - MRR@20    epoch 2: 0.006549\n",
      "\n"
     ]
    },
    {
     "name": "stderr",
     "output_type": "stream",
     "text": [
      "Train:  77%|███████▋  | 173/224 [00:01<00:00, 95.90it/s, accuracy=0, train_loss=7.41]    \n",
      "Evaluation:  14%|█▍        | 3/21 [00:00<00:05,  3.31it/s]\n"
     ]
    },
    {
     "name": "stdout",
     "output_type": "stream",
     "text": [
      "\t - Recall@20 epoch 3: 0.046875\n",
      "\t - MRR@20    epoch 3: 0.008154\n",
      "\n"
     ]
    },
    {
     "name": "stderr",
     "output_type": "stream",
     "text": [
      "Train:  77%|███████▋  | 173/224 [00:01<00:00, 96.64it/s, accuracy=0, train_loss=7.4]     \n",
      "Evaluation:  14%|█▍        | 3/21 [00:00<00:05,  3.26it/s]\n"
     ]
    },
    {
     "name": "stdout",
     "output_type": "stream",
     "text": [
      "\t - Recall@20 epoch 4: 0.052083\n",
      "\t - MRR@20    epoch 4: 0.008402\n",
      "\n"
     ]
    },
    {
     "name": "stderr",
     "output_type": "stream",
     "text": [
      "Train:  77%|███████▋  | 173/224 [00:01<00:00, 96.70it/s, accuracy=0, train_loss=7.37]    \n",
      "Evaluation:  14%|█▍        | 3/21 [00:00<00:05,  3.30it/s]"
     ]
    },
    {
     "name": "stdout",
     "output_type": "stream",
     "text": [
      "\t - Recall@20 epoch 5: 0.057292\n",
      "\t - MRR@20    epoch 5: 0.009022\n",
      "\n"
     ]
    },
    {
     "name": "stderr",
     "output_type": "stream",
     "text": [
      "\n"
     ]
    }
   ],
   "source": [
    "args2 = Args(tr, val, test, batch_size=64, hsz=50, drop_rate=0.3, lr=0.001, epochs=5, k=20)\n",
    "model2 = create_model(args2)\n",
    "train_model(model2, args2)"
   ]
  },
  {
   "cell_type": "code",
   "execution_count": 49,
   "id": "e95875e2",
   "metadata": {},
   "outputs": [
    {
     "name": "stderr",
     "output_type": "stream",
     "text": [
      "Evaluation:   6%|▌         | 1/17 [00:00<00:04,  3.32it/s]"
     ]
    },
    {
     "name": "stdout",
     "output_type": "stream",
     "text": [
      "\t - Recall@20: 0.046875\n",
      "\t - MRR@20: 0.008247\n",
      "\n"
     ]
    },
    {
     "name": "stderr",
     "output_type": "stream",
     "text": [
      "\n"
     ]
    }
   ],
   "source": [
    "test_model(model2, args2, test)"
   ]
  },
  {
   "cell_type": "markdown",
   "id": "fc822644",
   "metadata": {},
   "source": [
    "---"
   ]
  },
  {
   "cell_type": "markdown",
   "id": "9d6a0300",
   "metadata": {},
   "source": [
    "### drop_rate, epochs 값 수정(1)"
   ]
  },
  {
   "cell_type": "code",
   "execution_count": 50,
   "id": "8e221d98",
   "metadata": {},
   "outputs": [
    {
     "name": "stdout",
     "output_type": "stream",
     "text": [
      "Model: \"model_2\"\n",
      "_________________________________________________________________\n",
      "Layer (type)                 Output Shape              Param #   \n",
      "=================================================================\n",
      "input_3 (InputLayer)         [(64, 1, 2606)]           0         \n",
      "_________________________________________________________________\n",
      "GRU (GRU)                    [(64, 50), (64, 50)]      398700    \n",
      "_________________________________________________________________\n",
      "dropout_2 (Dropout)          (64, 50)                  0         \n",
      "_________________________________________________________________\n",
      "dense_2 (Dense)              (64, 2606)                132906    \n",
      "=================================================================\n",
      "Total params: 531,606\n",
      "Trainable params: 531,606\n",
      "Non-trainable params: 0\n",
      "_________________________________________________________________\n"
     ]
    },
    {
     "name": "stderr",
     "output_type": "stream",
     "text": [
      "Train:  77%|███████▋  | 173/224 [00:02<00:00, 61.99it/s, accuracy=0, train_loss=7.58]    \n",
      "Evaluation:  14%|█▍        | 3/21 [00:01<00:06,  2.67it/s]\n"
     ]
    },
    {
     "name": "stdout",
     "output_type": "stream",
     "text": [
      "\t - Recall@20 epoch 1: 0.031250\n",
      "\t - MRR@20    epoch 1: 0.007163\n",
      "\n"
     ]
    },
    {
     "name": "stderr",
     "output_type": "stream",
     "text": [
      "Train:  77%|███████▋  | 173/224 [00:01<00:00, 97.02it/s, accuracy=0, train_loss=7.48]    \n",
      "Evaluation:  14%|█▍        | 3/21 [00:00<00:05,  3.25it/s]\n"
     ]
    },
    {
     "name": "stdout",
     "output_type": "stream",
     "text": [
      "\t - Recall@20 epoch 2: 0.046875\n",
      "\t - MRR@20    epoch 2: 0.007797\n",
      "\n"
     ]
    },
    {
     "name": "stderr",
     "output_type": "stream",
     "text": [
      "Train:  77%|███████▋  | 173/224 [00:01<00:00, 95.58it/s, accuracy=0, train_loss=7.44]    \n",
      "Evaluation:  14%|█▍        | 3/21 [00:00<00:05,  3.25it/s]\n"
     ]
    },
    {
     "name": "stdout",
     "output_type": "stream",
     "text": [
      "\t - Recall@20 epoch 3: 0.062500\n",
      "\t - MRR@20    epoch 3: 0.008776\n",
      "\n"
     ]
    },
    {
     "name": "stderr",
     "output_type": "stream",
     "text": [
      "Train:  77%|███████▋  | 173/224 [00:01<00:00, 96.64it/s, accuracy=0, train_loss=7.39]    \n",
      "Evaluation:  14%|█▍        | 3/21 [00:00<00:05,  3.25it/s]\n"
     ]
    },
    {
     "name": "stdout",
     "output_type": "stream",
     "text": [
      "\t - Recall@20 epoch 4: 0.052083\n",
      "\t - MRR@20    epoch 4: 0.008354\n",
      "\n"
     ]
    },
    {
     "name": "stderr",
     "output_type": "stream",
     "text": [
      "Train:  77%|███████▋  | 173/224 [00:01<00:00, 94.24it/s, accuracy=0, train_loss=7.35]    \n",
      "Evaluation:  14%|█▍        | 3/21 [00:00<00:05,  3.24it/s]\n"
     ]
    },
    {
     "name": "stdout",
     "output_type": "stream",
     "text": [
      "\t - Recall@20 epoch 5: 0.041667\n",
      "\t - MRR@20    epoch 5: 0.008321\n",
      "\n"
     ]
    },
    {
     "name": "stderr",
     "output_type": "stream",
     "text": [
      "Train:  77%|███████▋  | 173/224 [00:01<00:00, 97.35it/s, accuracy=0, train_loss=7.37]    \n",
      "Evaluation:  14%|█▍        | 3/21 [00:00<00:05,  3.23it/s]\n"
     ]
    },
    {
     "name": "stdout",
     "output_type": "stream",
     "text": [
      "\t - Recall@20 epoch 6: 0.046875\n",
      "\t - MRR@20    epoch 6: 0.009597\n",
      "\n"
     ]
    },
    {
     "name": "stderr",
     "output_type": "stream",
     "text": [
      "Train:  77%|███████▋  | 173/224 [00:01<00:00, 96.52it/s, accuracy=0, train_loss=7.32]    \n",
      "Evaluation:  14%|█▍        | 3/21 [00:00<00:05,  3.20it/s]\n"
     ]
    },
    {
     "name": "stdout",
     "output_type": "stream",
     "text": [
      "\t - Recall@20 epoch 7: 0.046875\n",
      "\t - MRR@20    epoch 7: 0.008578\n",
      "\n"
     ]
    },
    {
     "name": "stderr",
     "output_type": "stream",
     "text": [
      "Train:  77%|███████▋  | 173/224 [00:01<00:00, 94.38it/s, accuracy=0, train_loss=7.35]    \n",
      "Evaluation:  14%|█▍        | 3/21 [00:00<00:05,  3.05it/s]\n"
     ]
    },
    {
     "name": "stdout",
     "output_type": "stream",
     "text": [
      "\t - Recall@20 epoch 8: 0.041667\n",
      "\t - MRR@20    epoch 8: 0.009822\n",
      "\n"
     ]
    },
    {
     "name": "stderr",
     "output_type": "stream",
     "text": [
      "Train:  77%|███████▋  | 173/224 [00:01<00:00, 96.95it/s, accuracy=0, train_loss=7.25]    \n",
      "Evaluation:  14%|█▍        | 3/21 [00:00<00:05,  3.23it/s]\n"
     ]
    },
    {
     "name": "stdout",
     "output_type": "stream",
     "text": [
      "\t - Recall@20 epoch 9: 0.036458\n",
      "\t - MRR@20    epoch 9: 0.005725\n",
      "\n"
     ]
    },
    {
     "name": "stderr",
     "output_type": "stream",
     "text": [
      "Train:  77%|███████▋  | 173/224 [00:01<00:00, 93.46it/s, accuracy=0.0156, train_loss=7.25]\n",
      "Evaluation:  14%|█▍        | 3/21 [00:00<00:05,  3.13it/s]"
     ]
    },
    {
     "name": "stdout",
     "output_type": "stream",
     "text": [
      "\t - Recall@20 epoch 10: 0.031250\n",
      "\t - MRR@20    epoch 10: 0.005489\n",
      "\n"
     ]
    },
    {
     "name": "stderr",
     "output_type": "stream",
     "text": [
      "\n"
     ]
    }
   ],
   "source": [
    "args3 = Args(tr, val, test, batch_size=64, hsz=50, drop_rate=0.5, lr=0.001, epochs=10, k=20)\n",
    "model3 = create_model(args3)\n",
    "train_model(model3, args3)"
   ]
  },
  {
   "cell_type": "code",
   "execution_count": 51,
   "id": "0e3aa828",
   "metadata": {
    "scrolled": true
   },
   "outputs": [
    {
     "name": "stderr",
     "output_type": "stream",
     "text": [
      "Evaluation:   6%|▌         | 1/17 [00:00<00:05,  3.06it/s]"
     ]
    },
    {
     "name": "stdout",
     "output_type": "stream",
     "text": [
      "\t - Recall@20: 0.015625\n",
      "\t - MRR@20: 0.007812\n",
      "\n"
     ]
    },
    {
     "name": "stderr",
     "output_type": "stream",
     "text": [
      "\n"
     ]
    }
   ],
   "source": [
    "test_model(model3, args3, test)"
   ]
  },
  {
   "cell_type": "markdown",
   "id": "36ae298b",
   "metadata": {},
   "source": [
    "---"
   ]
  },
  {
   "cell_type": "markdown",
   "id": "c5b0451e",
   "metadata": {},
   "source": [
    "### drop_rate, epochs 값 수정(2)"
   ]
  },
  {
   "cell_type": "code",
   "execution_count": 52,
   "id": "82a69d75",
   "metadata": {},
   "outputs": [
    {
     "name": "stdout",
     "output_type": "stream",
     "text": [
      "Model: \"model_3\"\n",
      "_________________________________________________________________\n",
      "Layer (type)                 Output Shape              Param #   \n",
      "=================================================================\n",
      "input_4 (InputLayer)         [(64, 1, 2606)]           0         \n",
      "_________________________________________________________________\n",
      "GRU (GRU)                    [(64, 50), (64, 50)]      398700    \n",
      "_________________________________________________________________\n",
      "dropout_3 (Dropout)          (64, 50)                  0         \n",
      "_________________________________________________________________\n",
      "dense_3 (Dense)              (64, 2606)                132906    \n",
      "=================================================================\n",
      "Total params: 531,606\n",
      "Trainable params: 531,606\n",
      "Non-trainable params: 0\n",
      "_________________________________________________________________\n"
     ]
    },
    {
     "name": "stderr",
     "output_type": "stream",
     "text": [
      "Train:  77%|███████▋  | 173/224 [00:02<00:00, 61.59it/s, accuracy=0, train_loss=7.58]    \n",
      "Evaluation:  14%|█▍        | 3/21 [00:01<00:06,  2.63it/s]\n"
     ]
    },
    {
     "name": "stdout",
     "output_type": "stream",
     "text": [
      "\t - Recall@20 epoch 1: 0.036458\n",
      "\t - MRR@20    epoch 1: 0.003716\n",
      "\n"
     ]
    },
    {
     "name": "stderr",
     "output_type": "stream",
     "text": [
      "Train:  77%|███████▋  | 173/224 [00:01<00:00, 95.63it/s, accuracy=0, train_loss=7.47]    \n",
      "Evaluation:  14%|█▍        | 3/21 [00:00<00:05,  3.16it/s]\n"
     ]
    },
    {
     "name": "stdout",
     "output_type": "stream",
     "text": [
      "\t - Recall@20 epoch 2: 0.057292\n",
      "\t - MRR@20    epoch 2: 0.006839\n",
      "\n"
     ]
    },
    {
     "name": "stderr",
     "output_type": "stream",
     "text": [
      "Train:  77%|███████▋  | 173/224 [00:01<00:00, 94.33it/s, accuracy=0, train_loss=7.42]    \n",
      "Evaluation:  14%|█▍        | 3/21 [00:00<00:05,  3.19it/s]\n"
     ]
    },
    {
     "name": "stdout",
     "output_type": "stream",
     "text": [
      "\t - Recall@20 epoch 3: 0.057292\n",
      "\t - MRR@20    epoch 3: 0.007078\n",
      "\n"
     ]
    },
    {
     "name": "stderr",
     "output_type": "stream",
     "text": [
      "Train:  77%|███████▋  | 173/224 [00:01<00:00, 94.42it/s, accuracy=0, train_loss=7.37]    \n",
      "Evaluation:  14%|█▍        | 3/21 [00:00<00:05,  3.17it/s]\n"
     ]
    },
    {
     "name": "stdout",
     "output_type": "stream",
     "text": [
      "\t - Recall@20 epoch 4: 0.057292\n",
      "\t - MRR@20    epoch 4: 0.008707\n",
      "\n"
     ]
    },
    {
     "name": "stderr",
     "output_type": "stream",
     "text": [
      "Train:  77%|███████▋  | 173/224 [00:01<00:00, 96.89it/s, accuracy=0, train_loss=7.38]    \n",
      "Evaluation:  14%|█▍        | 3/21 [00:00<00:05,  3.18it/s]\n"
     ]
    },
    {
     "name": "stdout",
     "output_type": "stream",
     "text": [
      "\t - Recall@20 epoch 5: 0.057292\n",
      "\t - MRR@20    epoch 5: 0.007831\n",
      "\n"
     ]
    },
    {
     "name": "stderr",
     "output_type": "stream",
     "text": [
      "Train:  77%|███████▋  | 173/224 [00:01<00:00, 94.91it/s, accuracy=0, train_loss=7.35]    \n",
      "Evaluation:  14%|█▍        | 3/21 [00:00<00:05,  3.11it/s]\n"
     ]
    },
    {
     "name": "stdout",
     "output_type": "stream",
     "text": [
      "\t - Recall@20 epoch 6: 0.052083\n",
      "\t - MRR@20    epoch 6: 0.008455\n",
      "\n"
     ]
    },
    {
     "name": "stderr",
     "output_type": "stream",
     "text": [
      "Train:  77%|███████▋  | 173/224 [00:01<00:00, 95.26it/s, accuracy=0, train_loss=7.31]    \n",
      "Evaluation:  14%|█▍        | 3/21 [00:00<00:05,  3.20it/s]\n"
     ]
    },
    {
     "name": "stdout",
     "output_type": "stream",
     "text": [
      "\t - Recall@20 epoch 7: 0.052083\n",
      "\t - MRR@20    epoch 7: 0.008411\n",
      "\n"
     ]
    },
    {
     "name": "stderr",
     "output_type": "stream",
     "text": [
      "Train:  77%|███████▋  | 173/224 [00:01<00:00, 95.37it/s, accuracy=0, train_loss=7.25]    \n",
      "Evaluation:  14%|█▍        | 3/21 [00:00<00:05,  3.08it/s]\n"
     ]
    },
    {
     "name": "stdout",
     "output_type": "stream",
     "text": [
      "\t - Recall@20 epoch 8: 0.052083\n",
      "\t - MRR@20    epoch 8: 0.008561\n",
      "\n"
     ]
    },
    {
     "name": "stderr",
     "output_type": "stream",
     "text": [
      "Train:  77%|███████▋  | 173/224 [00:01<00:00, 96.12it/s, accuracy=0, train_loss=7.24]    \n",
      "Evaluation:  14%|█▍        | 3/21 [00:00<00:05,  3.21it/s]\n"
     ]
    },
    {
     "name": "stdout",
     "output_type": "stream",
     "text": [
      "\t - Recall@20 epoch 9: 0.052083\n",
      "\t - MRR@20    epoch 9: 0.011185\n",
      "\n"
     ]
    },
    {
     "name": "stderr",
     "output_type": "stream",
     "text": [
      "Train:  77%|███████▋  | 173/224 [00:01<00:00, 93.05it/s, accuracy=0, train_loss=7.2]     \n",
      "Evaluation:  14%|█▍        | 3/21 [00:00<00:05,  3.09it/s]"
     ]
    },
    {
     "name": "stdout",
     "output_type": "stream",
     "text": [
      "\t - Recall@20 epoch 10: 0.046875\n",
      "\t - MRR@20    epoch 10: 0.010782\n",
      "\n"
     ]
    },
    {
     "name": "stderr",
     "output_type": "stream",
     "text": [
      "\n"
     ]
    }
   ],
   "source": [
    "args4 = Args(tr, val, test, batch_size=64, hsz=50, drop_rate=0.3, lr=0.001, epochs=10, k=20)\n",
    "model4 = create_model(args4)\n",
    "train_model(model4, args4)"
   ]
  },
  {
   "cell_type": "code",
   "execution_count": 53,
   "id": "dbd792fd",
   "metadata": {},
   "outputs": [
    {
     "name": "stderr",
     "output_type": "stream",
     "text": [
      "Evaluation:   6%|▌         | 1/17 [00:00<00:04,  3.22it/s]"
     ]
    },
    {
     "name": "stdout",
     "output_type": "stream",
     "text": [
      "\t - Recall@20: 0.031250\n",
      "\t - MRR@20: 0.018750\n",
      "\n"
     ]
    },
    {
     "name": "stderr",
     "output_type": "stream",
     "text": [
      "\n"
     ]
    }
   ],
   "source": [
    "test_model(model4, args4, test)"
   ]
  },
  {
   "cell_type": "markdown",
   "id": "7e2cd1b7",
   "metadata": {},
   "source": [
    "# 총 정리"
   ]
  },
  {
   "cell_type": "markdown",
   "id": "20fce8e8",
   "metadata": {},
   "source": [
    "`Args(tr, val, test, batch_size=64, hsz=50, drop_rate=0.1, lr=0.001, epochs=5, k=20)`\n",
    "```\n",
    "- Recall@20: 0.015625\n",
    "- MRR@20: 0.005208\n",
    "```\n",
    "> 학습 과정을 보니 결과값이 높아졌다가 다시 낮아지는 경향이 보인다. 그래서 오버피팅의 경향을 줄이기 위해 drop_rate 값을 올렸다.\n",
    "\n",
    "`Args(tr, val, test, batch_size=64, hsz=50, drop_rate=0.3, lr=0.001, epochs=5, k=20)`\n",
    "```\n",
    "- Recall@20: 0.046875\n",
    "- MRR@20: 0.008247\n",
    "```\n",
    "> 학습 경과가 좋게 나왔고, 더 극적인 상황을 확인하기 위해 drop_rate 값과 epochs를 올렸다.\n",
    "\n",
    "`Args(tr, val, test, batch_size=64, hsz=50, drop_rate=0.5, lr=0.001, epochs=10, k=20)`\n",
    "```\n",
    "- Recall@20: 0.015625\n",
    "- MRR@20: 0.007812\n",
    "```\n",
    "> drop_rate 값을 너무 올렸다보다, 학습 과정도 값이 좋아졌다가 급격하게 안좋아지는 모습을 확인할 수 있다.\n",
    "\n",
    "`Args(tr, val, test, batch_size=64, hsz=50, drop_rate=0.3, lr=0.001, epochs=10, k=20)`\n",
    "```\n",
    "- Recall@20: 0.031250\n",
    "- MRR@20: 0.018750\n",
    "```\n",
    "> 가장 값이 좋았던 2번째와 비교하면 drop_rate는 다시 되돌리고 epochs만 늘렸다. 하지만 학습 과정에서는 epochs가 진행됨에 따라 MRR@20의 값은 증가했지만 Recall@20의 값은 감소했다. 왜 이렇게 나왔을까? 최종 test도 비슷한 양상을 보인다."
   ]
  },
  {
   "cell_type": "markdown",
   "id": "5336233d",
   "metadata": {},
   "source": [
    "# 회고"
   ]
  },
  {
   "attachments": {
    "%E1%84%89%E1%85%B3%E1%84%8F%E1%85%B3%E1%84%85%E1%85%B5%E1%86%AB%E1%84%89%E1%85%A3%E1%86%BA%202022-03-16%20%E1%84%8B%E1%85%A9%E1%84%92%E1%85%AE%2011.33.14.png": {
     "image/png": "[encoded data removed]"
    }
   },
   "cell_type": "markdown",
   "id": "41af6d6c",
   "metadata": {},
   "source": [
    "![%E1%84%89%E1%85%B3%E1%84%8F%E1%85%B3%E1%84%85%E1%85%B5%E1%86%AB%E1%84%89%E1%85%A3%E1%86%BA%202022-03-16%20%E1%84%8B%E1%85%A9%E1%84%92%E1%85%AE%2011.33.14.png](attachment:%E1%84%89%E1%85%B3%E1%84%8F%E1%85%B3%E1%84%85%E1%85%B5%E1%86%AB%E1%84%89%E1%85%A3%E1%86%BA%202022-03-16%20%E1%84%8B%E1%85%A9%E1%84%92%E1%85%AE%2011.33.14.png)"
   ]
  },
  {
   "cell_type": "markdown",
   "id": "964d28db",
   "metadata": {},
   "source": [
    "~~`IndexError: index 467 is out of bounds for axis 0 with size 467` 오류가 나왔는데 이는 `train`의 `Sessions`와 같은 값임을 확인했다.~~   \n",
    "버그를 찾았다. defalut batch_size 값이 너무 커서 해당 파라미터를 64로 줄이니 학습이 됐다. 하지만 다른 버그가 생겼다. "
   ]
  },
  {
   "cell_type": "markdown",
   "id": "5629d001",
   "metadata": {},
   "source": [
    "`split_by_date`로 데이터를 나누는 과정에서 조금 더 합리적인 방안이 있었으면 어땠을까 싶다. tr, test, val을 나눈 일년, 한달, 한달이라는 기간이 그렇게 크게 의미있어 보이지 않다. "
   ]
  },
  {
   "cell_type": "markdown",
   "id": "8cab0f2e",
   "metadata": {},
   "source": [
    "train하는 과정에서 끝까지 안가고 77%에서 멈춘다. 심지어 test의 `Evaluation:   6%` 에서 멈춘다. 이는 뭔가 잘못됨을 직감할 수 있었지만 어떻게 해결할 방안이 떠오르지 않아 이런 저런 시도를 해봤는데 결국 이 값은 해결하지 못했다."
   ]
  },
  {
   "cell_type": "markdown",
   "id": "4ff09533",
   "metadata": {},
   "source": [
    "아쉬운게 많고 부족함도 뼈저리게 느낀 프로젝트였다. 아직도 데이터프레임을 핸들링에 미숙하고, 학습도 합리적인 방향으로 못하고 있다. 프로젝트 마감 때문에 급하게 마무리를 진행했지만, 기회가 된다면 비슷한 유형의 session based recommendation이 아니더라도 추천 시스템을 한번 더 진행해보고싶다. ~~그래서 이번에 해커톤에 OCR + 추천 시스템 프로젝트 기획서를 생각중인데 잘 할수있을지 모르겠다.~~"
   ]
  }
 ],
 "metadata": {
  "kernelspec": {
   "display_name": "Python 3 (ipykernel)",
   "language": "python",
   "name": "python3"
  },
  "language_info": {
   "codemirror_mode": {
    "name": "ipython",
    "version": 3
   },
   "file_extension": ".py",
   "mimetype": "text/x-python",
   "name": "python",
   "nbconvert_exporter": "python",
   "pygments_lexer": "ipython3",
   "version": "3.9.7"
  }
 },
 "nbformat": 4,
 "nbformat_minor": 5
}
