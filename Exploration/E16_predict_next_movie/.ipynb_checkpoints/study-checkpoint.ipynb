{
 "cells": [
  {
   "cell_type": "markdown",
   "id": "30e2cc5a",
   "metadata": {},
   "source": [
    "# 16. 다음에 볼 영화 예측하기"
   ]
  },
  {
   "cell_type": "markdown",
   "id": "4924456f",
   "metadata": {},
   "source": [
    "인터넷 쇼핑몰에 개인 정보를 남기고 싶지 않아 시크릿 모드를 열고 로그인 하지 않은 상태로 돌아다녔다. 하지만 어느새 탐색 내역이 기록되어 있었고, 이를 바탕으로 한 추천을 해주고 있다.   \n",
    "\n",
    "__Session-Based Recommendation__   \n",
    "전자상거래 플랫폼에서 많이 사용되는 Session Based Recommendation에 대해 알아보자.   \n",
    "A고객에게 B고객이 좋아하는 상품을 추천해주는 전략은 언제나 유효할까? 이러한 추천 시스템은 A고객의 선호가 고정된 것이라 봐야한다. 하지만 선택 폭은 넓고 마음은 변덕스럽기 마련이다. 그래서 전자상거래 플랫폼은 바로 지금 이 고객이 좋아할 만한 상품을 추천해주고 싶어 한다. 그렇다면 이러한 단서는 어디에 있을까?   \n",
    "\n",
    "session based recommendation은 말 그대로 세션 데이터를 기반으로 유저가 다음에 클릭할 아이템은 예측하는 추천 시스템을 말한다.   \n",
    "\n",
    "[쿠키, 세션, 캐시란? 영상](https://youtu.be/OpoVuwxGRDI)   \n",
    "쿠키는 브라우저를 사용하면서 쌓인 정보들을 사용자가 RAM에 저장하는것이다.   \n",
    "세션은 접근하기 쉬운 쿠키에 귀중한 데이터를 맡기기 어려워 서버에 저장하는것이다. 이 정보로 개개인을 구별할 수 있다.   \n",
    "로그인으로 비유하면 로그인 시도할 때 입력한 정보를 세션에 보내고, 만약 성공했으면 서버에서 쿠키를 보내 개인의 브라우저에 정보를 담는다. 그리고 다른 페이지를 넘어다닐 때 쿠키를 확인하고 로그인을 유지한다. 만약 쿠키를 지우면 사용자의 로그인 정보를 서버에서 세션의 형태로 갖고는 있지만, 해당 브라우저에서 로그인한 사람이 맞는지 파악이 안되어 로그아웃이 된다.   \n",
    "캐시는 시간이나 데이터 사용량이 발생하는 데이터를 불러올 때 임시 방편으로 저장하는 것을 말한다.   \n",
    "\n",
    "쿠키는 중요하지 않은 데이터들을 flag 세울 때 사용하고, 세션은 민감하고 중요한 자료들을 서버 내에서 처리한다.   \n",
    "\n",
    "추천 시스템을 주로 다루는 학회 RecSys에서 매년 추천을 주제로 대회를 개최한다. 2015년도에는 YOOCHOSSE라는 추천 엔진 솔루션 회사에서 E-Commerce 데이터를 공개했다. 이 데이터를 활용해보자.   \n",
    "```\n",
    "$ mkdir -p ~/aiffel/yoochoose/data\n",
    "$ ln -s ~/data/* ~/aiffel/yoochoose/data\n",
    "```"
   ]
  },
  {
   "cell_type": "code",
   "execution_count": 1,
   "id": "ba5ab816",
   "metadata": {},
   "outputs": [
    {
     "name": "stdout",
     "output_type": "stream",
     "text": [
      "﻿SUMMARY\n",
      "\n",
      "================================================================================\n",
      "\n",
      "\n",
      "\n",
      "This dataset was constructed by YOOCHOOSE GmbH to support participants in the RecSys Challenge 2015.\n",
      "\n",
      "See  http://recsys.yoochoose.net for details about the challenge.\n",
      "\n",
      "\n",
      "\n",
      "The YOOCHOOSE dataset contain a collection of sessions from a retailer, where each session\n",
      "\n",
      "is encapsulating the click events that the user performed in the session.\n",
      "\n",
      "For some of the sessions, there are also buy events; means that the session ended\n",
      "\n",
      "with the user bought something from the web shop. The data was collected during several\n",
      "\n",
      "months in the year of 2014, reflecting the clicks and purchases performed by the users\n",
      "\n",
      "of an on-line retailer in Europe.  To protect end users privacy, as well as the retailer,\n",
      "\n",
      "all numbers have been modified. Do not try to reveal the identity of the retailer.\n",
      "\n",
      "\n",
      "\n",
      "LICENSE\n",
      "\n",
      "================================================================================\n",
      "\n",
      "This dataset is licensed under the Creative Commons Attribution-NonCommercial-NoDerivatives 4.0\n",
      "\n",
      "International License. To view a copy of this license, visit http://creativecommons.org/licenses/by-nc-nd/4.0/.\n",
      "\n",
      "YOOCHOOSE cannot guarantee the completeness and correctness of the data or the validity\n",
      "\n",
      "of results based on the use of the dataset as it was collected by implicit tracking of a website. \n",
      "\n",
      "If you have any further questions or comments, please contact YooChoose <support@YooChoose.com>. \n",
      "\n",
      "The data is provided \"as it is\" and there is no obligation of YOOCHOOSE to correct it,\n",
      "\n",
      "improve it or to provide additional information about it.\n",
      "\n",
      "\n",
      "\n",
      "CLICKS DATASET FILE DESCRIPTION\n",
      "\n",
      "================================================================================\n",
      "\n",
      "The file yoochoose-clicks.dat comprising the clicks of the users over the items.\n",
      "\n",
      "Each record/line in the file has the following fields/format: Session ID, Timestamp, Item ID, Category\n",
      "\n",
      "-Session ID – the id of the session. In one session there are one or many clicks. Could be represented as an integer number.\n",
      "\n",
      "-Timestamp – the time when the click occurred. Format of YYYY-MM-DDThh:mm:ss.SSSZ\n",
      "\n",
      "-Item ID – the unique identifier of the item that has been clicked. Could be represented as an integer number.\n",
      "\n",
      "-Category – the context of the click. The value \"S\" indicates a special offer, \"0\" indicates  a missing value, a number between 1 to 12 indicates a real category identifier,\n",
      "\n",
      " any other number indicates a brand. E.g. if an item has been clicked in the context of a promotion or special offer then the value will be \"S\", if the context was a brand i.e BOSCH,\n",
      "\n",
      " then the value will be an 8-10 digits number. If the item has been clicked under regular category, i.e. sport, then the value will be a number between 1 to 12. \n",
      "\n",
      " \n",
      "\n",
      "BUYS DATSET FILE DESCRIPTION\n",
      "\n",
      "================================================================================\n",
      "\n",
      "The file yoochoose-buys.dat comprising the buy events of the users over the items.\n",
      "\n",
      "Each record/line in the file has the following fields: Session ID, Timestamp, Item ID, Price, Quantity\n",
      "\n",
      "\n",
      "\n",
      "-Session ID - the id of the session. In one session there are one or many buying events. Could be represented as an integer number.\n",
      "\n",
      "-Timestamp - the time when the buy occurred. Format of YYYY-MM-DDThh:mm:ss.SSSZ\n",
      "\n",
      "-Item ID – the unique identifier of item that has been bought. Could be represented as an integer number.\n",
      "\n",
      "-Price – the price of the item. Could be represented as an integer number.\n",
      "\n",
      "-Quantity – the quantity in this buying.  Could be represented as an integer number.\n",
      "\n",
      "\n",
      "\n",
      "TEST DATASET FILE DESCRIPTION\n",
      "\n",
      "================================================================================\n",
      "\n",
      "The file yoochoose-test.dat comprising only clicks of users over items.\n",
      "\n",
      "This file served as a test file in the RecSys challenge 2015. \n",
      "\n",
      "The structure is identical to the file yoochoose-clicks.dat but you will not find the\n",
      "\n",
      "corresponding buying events to these sessions in the yoochoose-buys.dat file.\n",
      "\n"
     ]
    }
   ],
   "source": [
    "# 데이터 설명(README)를 읽어 봅니다. \n",
    "import os\n",
    "f = open(os.getenv('HOME')+'/aiffel/yoochoose/data/dataset-README.txt', 'r')\n",
    "while True:\n",
    "    line = f.readline()\n",
    "    if not line: break\n",
    "    print(line)\n",
    "f.close()"
   ]
  },
  {
   "cell_type": "markdown",
   "id": "303f9140",
   "metadata": {},
   "source": [
    "`CLICKS DATASET FILE DESCRIPTION` 확인해보면 유저에 대한 정보를 전혀 알 수 없다. 그리고 아이템에 대한 정보도 전혀 알 수 없다.   \n",
    "유저에 대한 정보를 알 수 있는 경우는 보통 __sequential recommendation__ 이라고 부르기도 한다. 그리고 유저와 아이템의 추가 정보를 sequential recommendation 모델에 적용하는 분야는 __Context_Aware__ 라는 키워드로 연구되고 있다.   \n",
    "\n",
    "E-Commerce 데이터는 다음과 같은 특징을 갖고 있다.   \n",
    "- 비로그인 상태로 탐색하는 유저가 많다.\n",
    "- 로그인 상태로 탐색해도 접속할 때마다 탐색하는 의도가 뚜렷하게 다르다."
   ]
  },
  {
   "cell_type": "markdown",
   "id": "a6d50328",
   "metadata": {},
   "source": [
    "# 16-2. Data Preprocess"
   ]
  },
  {
   "cell_type": "markdown",
   "id": "4c7d7e51",
   "metadata": {},
   "source": [
    "데이터의 주요 통계치들을 살펴보자.   \n",
    "Click 데이터에 있는 Session ID, TimeStamp, ItemID column만 사용해서 살펴볼 예정이다."
   ]
  },
  {
   "cell_type": "markdown",
   "id": "d32fc1dc",
   "metadata": {},
   "source": [
    "__Data Load__"
   ]
  },
  {
   "cell_type": "code",
   "execution_count": 2,
   "id": "75b1cbe0",
   "metadata": {},
   "outputs": [],
   "source": [
    "import datetime as dt\n",
    "from pathlib import Path\n",
    "import os\n",
    "\n",
    "import numpy as np\n",
    "import pandas as pd\n",
    "import warnings\n",
    "warnings.filterwarnings('ignore')"
   ]
  },
  {
   "cell_type": "code",
   "execution_count": 3,
   "id": "413fd85e",
   "metadata": {},
   "outputs": [
    {
     "data": {
      "text/plain": [
       "PosixPath('/aiffel/aiffel/yoochoose/data/yoochoose-clicks.dat')"
      ]
     },
     "execution_count": 3,
     "metadata": {},
     "output_type": "execute_result"
    }
   ],
   "source": [
    "data_path = Path(os.getenv('HOME')+'/aiffel/yoochoose/data') \n",
    "train_path = data_path / 'yoochoose-clicks.dat'\n",
    "train_path"
   ]
  },
  {
   "cell_type": "code",
   "execution_count": 4,
   "id": "76aa626c",
   "metadata": {},
   "outputs": [],
   "source": [
    "def load_data(data_path: Path, nrows=None):\n",
    "    data = pd.read_csv(data_path, sep=',', header=None, usecols=[0, 1, 2],\n",
    "                       parse_dates=[1], dtype={0: np.int32, 2: np.int32}, nrows=nrows)\n",
    "    data.columns = ['SessionId', 'Time', 'ItemId']\n",
    "    return data"
   ]
  },
  {
   "cell_type": "code",
   "execution_count": 5,
   "id": "c6da188a",
   "metadata": {},
   "outputs": [
    {
     "data": {
      "text/html": [
       "<div>\n",
       "<style scoped>\n",
       "    .dataframe tbody tr th:only-of-type {\n",
       "        vertical-align: middle;\n",
       "    }\n",
       "\n",
       "    .dataframe tbody tr th {\n",
       "        vertical-align: top;\n",
       "    }\n",
       "\n",
       "    .dataframe thead th {\n",
       "        text-align: right;\n",
       "    }\n",
       "</style>\n",
       "<table border=\"1\" class=\"dataframe\">\n",
       "  <thead>\n",
       "    <tr style=\"text-align: right;\">\n",
       "      <th></th>\n",
       "      <th>SessionId</th>\n",
       "      <th>Time</th>\n",
       "      <th>ItemId</th>\n",
       "    </tr>\n",
       "  </thead>\n",
       "  <tbody>\n",
       "    <tr>\n",
       "      <th>0</th>\n",
       "      <td>1</td>\n",
       "      <td>2014-04-07 10:51:09.277000+00:00</td>\n",
       "      <td>214536502</td>\n",
       "    </tr>\n",
       "    <tr>\n",
       "      <th>1</th>\n",
       "      <td>1</td>\n",
       "      <td>2014-04-07 10:54:09.868000+00:00</td>\n",
       "      <td>214536500</td>\n",
       "    </tr>\n",
       "    <tr>\n",
       "      <th>2</th>\n",
       "      <td>1</td>\n",
       "      <td>2014-04-07 10:54:46.998000+00:00</td>\n",
       "      <td>214536506</td>\n",
       "    </tr>\n",
       "    <tr>\n",
       "      <th>3</th>\n",
       "      <td>1</td>\n",
       "      <td>2014-04-07 10:57:00.306000+00:00</td>\n",
       "      <td>214577561</td>\n",
       "    </tr>\n",
       "    <tr>\n",
       "      <th>4</th>\n",
       "      <td>2</td>\n",
       "      <td>2014-04-07 13:56:37.614000+00:00</td>\n",
       "      <td>214662742</td>\n",
       "    </tr>\n",
       "    <tr>\n",
       "      <th>...</th>\n",
       "      <td>...</td>\n",
       "      <td>...</td>\n",
       "      <td>...</td>\n",
       "    </tr>\n",
       "    <tr>\n",
       "      <th>32230487</th>\n",
       "      <td>11562158</td>\n",
       "      <td>2014-09-26 04:50:29.172000+00:00</td>\n",
       "      <td>214849132</td>\n",
       "    </tr>\n",
       "    <tr>\n",
       "      <th>32230488</th>\n",
       "      <td>11562158</td>\n",
       "      <td>2014-09-26 04:52:21.900000+00:00</td>\n",
       "      <td>214854774</td>\n",
       "    </tr>\n",
       "    <tr>\n",
       "      <th>32230489</th>\n",
       "      <td>11562158</td>\n",
       "      <td>2014-09-26 05:16:32.904000+00:00</td>\n",
       "      <td>214849132</td>\n",
       "    </tr>\n",
       "    <tr>\n",
       "      <th>32230490</th>\n",
       "      <td>11562159</td>\n",
       "      <td>2014-09-26 19:16:28.897000+00:00</td>\n",
       "      <td>214849132</td>\n",
       "    </tr>\n",
       "    <tr>\n",
       "      <th>32230477</th>\n",
       "      <td>11562161</td>\n",
       "      <td>2014-09-26 20:45:42.791000+00:00</td>\n",
       "      <td>214546022</td>\n",
       "    </tr>\n",
       "  </tbody>\n",
       "</table>\n",
       "<p>33003944 rows × 3 columns</p>\n",
       "</div>"
      ],
      "text/plain": [
       "          SessionId                             Time     ItemId\n",
       "0                 1 2014-04-07 10:51:09.277000+00:00  214536502\n",
       "1                 1 2014-04-07 10:54:09.868000+00:00  214536500\n",
       "2                 1 2014-04-07 10:54:46.998000+00:00  214536506\n",
       "3                 1 2014-04-07 10:57:00.306000+00:00  214577561\n",
       "4                 2 2014-04-07 13:56:37.614000+00:00  214662742\n",
       "...             ...                              ...        ...\n",
       "32230487   11562158 2014-09-26 04:50:29.172000+00:00  214849132\n",
       "32230488   11562158 2014-09-26 04:52:21.900000+00:00  214854774\n",
       "32230489   11562158 2014-09-26 05:16:32.904000+00:00  214849132\n",
       "32230490   11562159 2014-09-26 19:16:28.897000+00:00  214849132\n",
       "32230477   11562161 2014-09-26 20:45:42.791000+00:00  214546022\n",
       "\n",
       "[33003944 rows x 3 columns]"
      ]
     },
     "execution_count": 5,
     "metadata": {},
     "output_type": "execute_result"
    }
   ],
   "source": [
    "# 시간이 좀 걸릴 수 있습니다. 메모리도 10GB 가까이 소요될 수 있으니 메모리 상태에 주의해 주세요.  \n",
    "\n",
    "data = load_data(train_path, None)\n",
    "data.sort_values(['SessionId', 'Time'], inplace=True)  # data를 id와 시간 순서로 정렬해줍니다.\n",
    "data"
   ]
  },
  {
   "cell_type": "markdown",
   "id": "d8cf887b",
   "metadata": {},
   "source": [
    "먼저 세션 수와 아이템 수를 확인해보자."
   ]
  },
  {
   "cell_type": "code",
   "execution_count": 6,
   "id": "2dded242",
   "metadata": {},
   "outputs": [
    {
     "data": {
      "text/plain": [
       "(9249729, 52739)"
      ]
     },
     "execution_count": 6,
     "metadata": {},
     "output_type": "execute_result"
    }
   ],
   "source": [
    "data['SessionId'].nunique(), data['ItemId'].nunique()"
   ]
  },
  {
   "cell_type": "markdown",
   "id": "83bc179f",
   "metadata": {},
   "source": [
    "__Session Length__"
   ]
  },
  {
   "cell_type": "code",
   "execution_count": 7,
   "id": "2978f80b",
   "metadata": {},
   "outputs": [
    {
     "data": {
      "text/plain": [
       "SessionId\n",
       "1           4\n",
       "2           6\n",
       "3           3\n",
       "4           2\n",
       "6           2\n",
       "           ..\n",
       "11562156    2\n",
       "11562157    2\n",
       "11562158    3\n",
       "11562159    1\n",
       "11562161    1\n",
       "Length: 9249729, dtype: int64"
      ]
     },
     "execution_count": 7,
     "metadata": {},
     "output_type": "execute_result"
    }
   ],
   "source": [
    "session_length = data.groupby('SessionId').size()\n",
    "session_length"
   ]
  },
  {
   "cell_type": "markdown",
   "id": "939463af",
   "metadata": {},
   "source": [
    "동일한 `SessionId`가 몇 개의 data row를 구성하고 있는지 확인할 수 있다. 로그인을 하지 않았지만 SessionId를 확인하면 유저를 구분하고 특정 행동을 SessionId 기준으로 분류할 수 있다. `session_length`로 해당 유저가 몇 개의 item에 접속했는지 확인할 수 있다."
   ]
  },
  {
   "cell_type": "code",
   "execution_count": 8,
   "id": "a038f595",
   "metadata": {},
   "outputs": [
    {
     "data": {
      "text/plain": [
       "(2.0, 3.568098481587947)"
      ]
     },
     "execution_count": 8,
     "metadata": {},
     "output_type": "execute_result"
    }
   ],
   "source": [
    "session_length.median(), session_length.mean() # 중앙값과 평균"
   ]
  },
  {
   "cell_type": "code",
   "execution_count": 9,
   "id": "1c09e862",
   "metadata": {},
   "outputs": [
    {
     "data": {
      "text/plain": [
       "(1, 200)"
      ]
     },
     "execution_count": 9,
     "metadata": {},
     "output_type": "execute_result"
    }
   ],
   "source": [
    "session_length.min(), session_length.max()"
   ]
  },
  {
   "cell_type": "code",
   "execution_count": 10,
   "id": "7bfd2d6d",
   "metadata": {},
   "outputs": [
    {
     "data": {
      "text/plain": [
       "41.0"
      ]
     },
     "execution_count": 10,
     "metadata": {},
     "output_type": "execute_result"
    }
   ],
   "source": [
    "session_length.quantile(0.999) # 백분위 수"
   ]
  },
  {
   "cell_type": "markdown",
   "id": "8ab8cfa8",
   "metadata": {},
   "source": [
    "세션의 길이는 보통 2~3이 나온다. 하지만 99.9% 세션의 길이는 41 이하가 나오지만 `max()`를 봤을 때 200이 나온다. 이를 살펴보자."
   ]
  },
  {
   "cell_type": "code",
   "execution_count": 11,
   "id": "49d76c7f",
   "metadata": {},
   "outputs": [
    {
     "data": {
      "text/html": [
       "<div>\n",
       "<style scoped>\n",
       "    .dataframe tbody tr th:only-of-type {\n",
       "        vertical-align: middle;\n",
       "    }\n",
       "\n",
       "    .dataframe tbody tr th {\n",
       "        vertical-align: top;\n",
       "    }\n",
       "\n",
       "    .dataframe thead th {\n",
       "        text-align: right;\n",
       "    }\n",
       "</style>\n",
       "<table border=\"1\" class=\"dataframe\">\n",
       "  <thead>\n",
       "    <tr style=\"text-align: right;\">\n",
       "      <th></th>\n",
       "      <th>SessionId</th>\n",
       "      <th>Time</th>\n",
       "      <th>ItemId</th>\n",
       "    </tr>\n",
       "  </thead>\n",
       "  <tbody>\n",
       "    <tr>\n",
       "      <th>580293</th>\n",
       "      <td>189448</td>\n",
       "      <td>2014-04-01 08:56:28.983000+00:00</td>\n",
       "      <td>214830392</td>\n",
       "    </tr>\n",
       "    <tr>\n",
       "      <th>580294</th>\n",
       "      <td>189448</td>\n",
       "      <td>2014-04-01 08:56:31.815000+00:00</td>\n",
       "      <td>214830392</td>\n",
       "    </tr>\n",
       "    <tr>\n",
       "      <th>580295</th>\n",
       "      <td>189448</td>\n",
       "      <td>2014-04-01 08:57:08.301000+00:00</td>\n",
       "      <td>214830392</td>\n",
       "    </tr>\n",
       "    <tr>\n",
       "      <th>580296</th>\n",
       "      <td>189448</td>\n",
       "      <td>2014-04-01 08:57:10.338000+00:00</td>\n",
       "      <td>214830392</td>\n",
       "    </tr>\n",
       "    <tr>\n",
       "      <th>580297</th>\n",
       "      <td>189448</td>\n",
       "      <td>2014-04-01 08:58:01.728000+00:00</td>\n",
       "      <td>214830390</td>\n",
       "    </tr>\n",
       "    <tr>\n",
       "      <th>...</th>\n",
       "      <td>...</td>\n",
       "      <td>...</td>\n",
       "      <td>...</td>\n",
       "    </tr>\n",
       "    <tr>\n",
       "      <th>580488</th>\n",
       "      <td>189448</td>\n",
       "      <td>2014-04-01 10:35:52.400000+00:00</td>\n",
       "      <td>214830137</td>\n",
       "    </tr>\n",
       "    <tr>\n",
       "      <th>580489</th>\n",
       "      <td>189448</td>\n",
       "      <td>2014-04-01 10:37:15.094000+00:00</td>\n",
       "      <td>214830118</td>\n",
       "    </tr>\n",
       "    <tr>\n",
       "      <th>580490</th>\n",
       "      <td>189448</td>\n",
       "      <td>2014-04-01 10:37:35.955000+00:00</td>\n",
       "      <td>214830118</td>\n",
       "    </tr>\n",
       "    <tr>\n",
       "      <th>580491</th>\n",
       "      <td>189448</td>\n",
       "      <td>2014-04-01 10:37:37.098000+00:00</td>\n",
       "      <td>214830118</td>\n",
       "    </tr>\n",
       "    <tr>\n",
       "      <th>580492</th>\n",
       "      <td>189448</td>\n",
       "      <td>2014-04-01 10:37:46.557000+00:00</td>\n",
       "      <td>214830116</td>\n",
       "    </tr>\n",
       "  </tbody>\n",
       "</table>\n",
       "<p>200 rows × 3 columns</p>\n",
       "</div>"
      ],
      "text/plain": [
       "        SessionId                             Time     ItemId\n",
       "580293     189448 2014-04-01 08:56:28.983000+00:00  214830392\n",
       "580294     189448 2014-04-01 08:56:31.815000+00:00  214830392\n",
       "580295     189448 2014-04-01 08:57:08.301000+00:00  214830392\n",
       "580296     189448 2014-04-01 08:57:10.338000+00:00  214830392\n",
       "580297     189448 2014-04-01 08:58:01.728000+00:00  214830390\n",
       "...           ...                              ...        ...\n",
       "580488     189448 2014-04-01 10:35:52.400000+00:00  214830137\n",
       "580489     189448 2014-04-01 10:37:15.094000+00:00  214830118\n",
       "580490     189448 2014-04-01 10:37:35.955000+00:00  214830118\n",
       "580491     189448 2014-04-01 10:37:37.098000+00:00  214830118\n",
       "580492     189448 2014-04-01 10:37:46.557000+00:00  214830116\n",
       "\n",
       "[200 rows x 3 columns]"
      ]
     },
     "execution_count": 11,
     "metadata": {},
     "output_type": "execute_result"
    }
   ],
   "source": [
    "long_session = session_length[session_length==200].index[0]\n",
    "data[data['SessionId']==long_session]"
   ]
  },
  {
   "cell_type": "markdown",
   "id": "519e8643",
   "metadata": {},
   "source": [
    "짧은 간격으로 1시간 30분가량 지속적으로 클릭하고 있다. 유저들의 서비스 이용 방식은 다양하기 때문에 데이터 전처리를 어떻게 할지는 모델 만드는 사람이 판단해야 한다.   \n",
    "\n",
    "예를들어 음악 데이터의 경우 어떤 사람은 하루 종일 랜덤 재생을 할 수도 있다. 이 유저의 데이터는 사용하는게 좋을까?, 어떤 상품의 경우 1분에 20명이 10점을 주고 나갔다. 해당 상품을 띄우기 위해 조작하고 있는 건 아닐까?   \n",
    "\n",
    "긴 세션을 제거할 수도 있고, 포함시킬 수도 있다. 어떻게 하면 좋을까?   \n",
    "\n",
    "세션 길이에 대한 감을 파악하기 위해 시각화해보자."
   ]
  },
  {
   "cell_type": "code",
   "execution_count": 12,
   "id": "3091e851",
   "metadata": {},
   "outputs": [
    {
     "data": {
      "text/plain": [
       "1     0.136189\n",
       "2     0.520858\n",
       "3     0.695280\n",
       "4     0.796461\n",
       "5     0.855125\n",
       "6     0.894389\n",
       "7     0.920036\n",
       "8     0.938321\n",
       "9     0.951293\n",
       "10    0.961084\n",
       "11    0.968267\n",
       "12    0.973959\n",
       "13    0.978320\n",
       "14    0.981815\n",
       "15    0.984587\n",
       "16    0.986837\n",
       "17    0.988673\n",
       "18    0.990201\n",
       "19    0.991460\n",
       "20    0.992520\n",
       "21    0.993436\n",
       "22    0.994207\n",
       "23    0.994871\n",
       "24    0.995444\n",
       "25    0.995920\n",
       "26    0.996342\n",
       "27    0.996714\n",
       "28    0.997042\n",
       "29    0.997330\n",
       "30    0.997577\n",
       "31    0.997796\n",
       "32    0.998001\n",
       "33    0.998177\n",
       "34    0.998327\n",
       "35    0.998461\n",
       "36    0.998590\n",
       "37    0.998706\n",
       "38    0.998805\n",
       "39    0.998896\n",
       "40    0.998981\n",
       "dtype: float64"
      ]
     },
     "execution_count": 12,
     "metadata": {},
     "output_type": "execute_result"
    }
   ],
   "source": [
    "length_count = session_length.groupby(session_length).size()\n",
    "length_percent_cumsum = length_count.cumsum() / length_count.sum()\n",
    "length_percent_cumsum_999 = length_percent_cumsum[length_percent_cumsum < 0.999]\n",
    "\n",
    "length_percent_cumsum_999"
   ]
  },
  {
   "cell_type": "code",
   "execution_count": 13,
   "id": "90b27643",
   "metadata": {},
   "outputs": [
    {
     "data": {
      "image/png": "[encoded data removed]",
      "text/plain": [
       "<Figure size 864x720 with 1 Axes>"
      ]
     },
     "metadata": {
      "needs_background": "light"
     },
     "output_type": "display_data"
    }
   ],
   "source": [
    "import matplotlib.pyplot as plt\n",
    "\n",
    "plt.figure(figsize=(12, 10))\n",
    "plt.bar(x=length_percent_cumsum_999.index,\n",
    "        height=length_percent_cumsum_999, color='red')\n",
    "plt.xticks(length_percent_cumsum_999.index)\n",
    "plt.yticks(np.arange(0, 1.01, 0.05))\n",
    "plt.title('Cumsum Percentage Until 0.999', size=20)\n",
    "plt.show()"
   ]
  },
  {
   "cell_type": "markdown",
   "id": "84532302",
   "metadata": {},
   "source": [
    "세션 길이 기준 하위 99.9%까지 분포 누적합을 시각화한 것이다."
   ]
  },
  {
   "cell_type": "markdown",
   "id": "2de32dbf",
   "metadata": {},
   "source": [
    "추천 시스템은 유저와 상품 관계 매트릭스를 유저 행렬과 상품 행렬의 곱으로 표현하는 Matrix Factorization 모델을 많이 사용한다. E-Commerce 데이터셋에 유저와 클릭한 상품정보 관계에 적용하면 어떨까?   \n",
    "\n",
    "E-Commerce 데이터셋의 특징을 보면 한 사람이 여러 세션을 만들 수도 있고, 유저와 상품의 정보를 갖고 있지 않아 클릭한 빈도로 파악해야하는데, 탐색하는 의도가 뚜렷해서 분석한 정보를 다른 상황에 대입하기 어려워 보인다. 그리고 item의 분포도 커서 모델이 제대로 학습되지 않을 가능성이 있다."
   ]
  },
  {
   "cell_type": "markdown",
   "id": "461e44ff",
   "metadata": {},
   "source": [
    "__Session Time__   \n",
    "시간 관련 데이터를 이해해보자.   \n",
    "- 이번에 출시한 아이폰 12를 구매하기 위한 사람들이 많을 것이다.\n",
    "- 하지만 신 상품 아이폰 13이 나오면 12는 구매량이 급격하게 떨어지고 13은 급증할 것이다.\n",
    "- 이러한 이유 때문에 추천 시스템을 구축할 때는 최근 소비 트렌드를 학습하는 것이 중요하다.\n",
    "\n",
    "추천 시스템에서 시간 관련 데이터는 다양한 측면이 있다. 접속한 시간 및 요일, 접속 유지한 시간, 재방문 시간, 마지막 접속 시간, 장바구니에 넣고 지난 시간, 계절 등 다양한 시간을 고려해서 데이터를 분석할 수 있다."
   ]
  },
  {
   "cell_type": "code",
   "execution_count": 14,
   "id": "6ad2267e",
   "metadata": {},
   "outputs": [
    {
     "name": "stdout",
     "output_type": "stream",
     "text": [
      "2014-04-01 03:00:00.124000+00:00\n",
      "2014-09-30 02:59:59.430000+00:00\n"
     ]
    }
   ],
   "source": [
    "oldest, latest = data['Time'].min(), data['Time'].max()\n",
    "print(oldest) \n",
    "print(latest)"
   ]
  },
  {
   "cell_type": "code",
   "execution_count": 15,
   "id": "ebf55e7b",
   "metadata": {},
   "outputs": [
    {
     "data": {
      "text/plain": [
       "pandas._libs.tslibs.timestamps.Timestamp"
      ]
     },
     "execution_count": 15,
     "metadata": {},
     "output_type": "execute_result"
    }
   ],
   "source": [
    "type(latest)"
   ]
  },
  {
   "cell_type": "markdown",
   "id": "3d61d7dd",
   "metadata": {},
   "source": [
    "`latest`는 Timestamp 객체여서 int 객체와 사칙연산을 지원하지 않는다. 그래서 날짜끼리 차이를 구하고 싶을 때 datetime 라이브러리의 timedelta 객체를 사용해야한다."
   ]
  },
  {
   "cell_type": "code",
   "execution_count": 16,
   "id": "48d3fb0b",
   "metadata": {},
   "outputs": [
    {
     "data": {
      "text/html": [
       "<div>\n",
       "<style scoped>\n",
       "    .dataframe tbody tr th:only-of-type {\n",
       "        vertical-align: middle;\n",
       "    }\n",
       "\n",
       "    .dataframe tbody tr th {\n",
       "        vertical-align: top;\n",
       "    }\n",
       "\n",
       "    .dataframe thead th {\n",
       "        text-align: right;\n",
       "    }\n",
       "</style>\n",
       "<table border=\"1\" class=\"dataframe\">\n",
       "  <thead>\n",
       "    <tr style=\"text-align: right;\">\n",
       "      <th></th>\n",
       "      <th>SessionId</th>\n",
       "      <th>Time</th>\n",
       "      <th>ItemId</th>\n",
       "    </tr>\n",
       "  </thead>\n",
       "  <tbody>\n",
       "    <tr>\n",
       "      <th>26837834</th>\n",
       "      <td>9194111</td>\n",
       "      <td>2014-08-31 17:40:46.805000+00:00</td>\n",
       "      <td>214853420</td>\n",
       "    </tr>\n",
       "    <tr>\n",
       "      <th>26837835</th>\n",
       "      <td>9194111</td>\n",
       "      <td>2014-08-31 17:42:26.089000+00:00</td>\n",
       "      <td>214850942</td>\n",
       "    </tr>\n",
       "    <tr>\n",
       "      <th>26837836</th>\n",
       "      <td>9194111</td>\n",
       "      <td>2014-08-31 17:44:06.583000+00:00</td>\n",
       "      <td>214829878</td>\n",
       "    </tr>\n",
       "    <tr>\n",
       "      <th>26837837</th>\n",
       "      <td>9194111</td>\n",
       "      <td>2014-08-31 17:48:49.873000+00:00</td>\n",
       "      <td>214853420</td>\n",
       "    </tr>\n",
       "    <tr>\n",
       "      <th>26838214</th>\n",
       "      <td>9194112</td>\n",
       "      <td>2014-09-01 13:26:36.292000+00:00</td>\n",
       "      <td>214853422</td>\n",
       "    </tr>\n",
       "    <tr>\n",
       "      <th>...</th>\n",
       "      <td>...</td>\n",
       "      <td>...</td>\n",
       "      <td>...</td>\n",
       "    </tr>\n",
       "    <tr>\n",
       "      <th>32230487</th>\n",
       "      <td>11562158</td>\n",
       "      <td>2014-09-26 04:50:29.172000+00:00</td>\n",
       "      <td>214849132</td>\n",
       "    </tr>\n",
       "    <tr>\n",
       "      <th>32230488</th>\n",
       "      <td>11562158</td>\n",
       "      <td>2014-09-26 04:52:21.900000+00:00</td>\n",
       "      <td>214854774</td>\n",
       "    </tr>\n",
       "    <tr>\n",
       "      <th>32230489</th>\n",
       "      <td>11562158</td>\n",
       "      <td>2014-09-26 05:16:32.904000+00:00</td>\n",
       "      <td>214849132</td>\n",
       "    </tr>\n",
       "    <tr>\n",
       "      <th>32230490</th>\n",
       "      <td>11562159</td>\n",
       "      <td>2014-09-26 19:16:28.897000+00:00</td>\n",
       "      <td>214849132</td>\n",
       "    </tr>\n",
       "    <tr>\n",
       "      <th>32230477</th>\n",
       "      <td>11562161</td>\n",
       "      <td>2014-09-26 20:45:42.791000+00:00</td>\n",
       "      <td>214546022</td>\n",
       "    </tr>\n",
       "  </tbody>\n",
       "</table>\n",
       "<p>5641401 rows × 3 columns</p>\n",
       "</div>"
      ],
      "text/plain": [
       "          SessionId                             Time     ItemId\n",
       "26837834    9194111 2014-08-31 17:40:46.805000+00:00  214853420\n",
       "26837835    9194111 2014-08-31 17:42:26.089000+00:00  214850942\n",
       "26837836    9194111 2014-08-31 17:44:06.583000+00:00  214829878\n",
       "26837837    9194111 2014-08-31 17:48:49.873000+00:00  214853420\n",
       "26838214    9194112 2014-09-01 13:26:36.292000+00:00  214853422\n",
       "...             ...                              ...        ...\n",
       "32230487   11562158 2014-09-26 04:50:29.172000+00:00  214849132\n",
       "32230488   11562158 2014-09-26 04:52:21.900000+00:00  214854774\n",
       "32230489   11562158 2014-09-26 05:16:32.904000+00:00  214849132\n",
       "32230490   11562159 2014-09-26 19:16:28.897000+00:00  214849132\n",
       "32230477   11562161 2014-09-26 20:45:42.791000+00:00  214546022\n",
       "\n",
       "[5641401 rows x 3 columns]"
      ]
     },
     "execution_count": 16,
     "metadata": {},
     "output_type": "execute_result"
    }
   ],
   "source": [
    "month_ago = latest - dt.timedelta(30)     # 최종 날짜로부터 30일 이전 날짜를 구한다.  \n",
    "data = data[data['Time'] > month_ago]   # 방금 구한 날짜 이후의 데이터만 모은다. \n",
    "data"
   ]
  },
  {
   "cell_type": "markdown",
   "id": "d16403d0",
   "metadata": {},
   "source": [
    "lateset로부터 30일 이전 날짜들만 모으자."
   ]
  },
  {
   "cell_type": "markdown",
   "id": "4605df67",
   "metadata": {},
   "source": [
    "__Data Cleansing__   \n",
    "길이가 1인 세션도 많이 있는데, 우리의 목적은 유저가 최소 1개 이상 클릭했을 때 다음 클릭을 예측하는 것으로 길이 1인 세션을 제거해주자. 너무 적게 클릭된 아이템도 이상한 아이템일 가능성이 있으므로 제거해주자."
   ]
  },
  {
   "cell_type": "code",
   "execution_count": 17,
   "id": "738b8821",
   "metadata": {},
   "outputs": [],
   "source": [
    "# short_session을 제거한 다음 unpopular item을 제거하면 다시 길이가 1인 session이 생길 수 있습니다.\n",
    "# 이를 위해 반복문을 통해 지속적으로 제거 합니다.\n",
    "def cleanse_recursive(data: pd.DataFrame, shortest, least_click) -> pd.DataFrame:\n",
    "    while True:\n",
    "        before_len = len(data)\n",
    "        data = cleanse_short_session(data, shortest)\n",
    "        data = cleanse_unpopular_item(data, least_click)\n",
    "        after_len = len(data)\n",
    "        if before_len == after_len:\n",
    "            break\n",
    "    return data\n",
    "\n",
    "\n",
    "def cleanse_short_session(data: pd.DataFrame, shortest):\n",
    "    session_len = data.groupby('SessionId').size()\n",
    "    session_use = session_len[session_len >= shortest].index\n",
    "    data = data[data['SessionId'].isin(session_use)]\n",
    "    return data\n",
    "\n",
    "\n",
    "def cleanse_unpopular_item(data: pd.DataFrame, least_click):\n",
    "    item_popular = data.groupby('ItemId').size()\n",
    "    item_use = item_popular[item_popular >= least_click].index\n",
    "    data = data[data['ItemId'].isin(item_use)]\n",
    "    return data"
   ]
  },
  {
   "cell_type": "code",
   "execution_count": 18,
   "id": "c46ab4c4",
   "metadata": {},
   "outputs": [
    {
     "data": {
      "text/html": [
       "<div>\n",
       "<style scoped>\n",
       "    .dataframe tbody tr th:only-of-type {\n",
       "        vertical-align: middle;\n",
       "    }\n",
       "\n",
       "    .dataframe tbody tr th {\n",
       "        vertical-align: top;\n",
       "    }\n",
       "\n",
       "    .dataframe thead th {\n",
       "        text-align: right;\n",
       "    }\n",
       "</style>\n",
       "<table border=\"1\" class=\"dataframe\">\n",
       "  <thead>\n",
       "    <tr style=\"text-align: right;\">\n",
       "      <th></th>\n",
       "      <th>SessionId</th>\n",
       "      <th>Time</th>\n",
       "      <th>ItemId</th>\n",
       "    </tr>\n",
       "  </thead>\n",
       "  <tbody>\n",
       "    <tr>\n",
       "      <th>26837834</th>\n",
       "      <td>9194111</td>\n",
       "      <td>2014-08-31 17:40:46.805000+00:00</td>\n",
       "      <td>214853420</td>\n",
       "    </tr>\n",
       "    <tr>\n",
       "      <th>26837835</th>\n",
       "      <td>9194111</td>\n",
       "      <td>2014-08-31 17:42:26.089000+00:00</td>\n",
       "      <td>214850942</td>\n",
       "    </tr>\n",
       "    <tr>\n",
       "      <th>26837836</th>\n",
       "      <td>9194111</td>\n",
       "      <td>2014-08-31 17:44:06.583000+00:00</td>\n",
       "      <td>214829878</td>\n",
       "    </tr>\n",
       "    <tr>\n",
       "      <th>26837837</th>\n",
       "      <td>9194111</td>\n",
       "      <td>2014-08-31 17:48:49.873000+00:00</td>\n",
       "      <td>214853420</td>\n",
       "    </tr>\n",
       "    <tr>\n",
       "      <th>26838202</th>\n",
       "      <td>9194123</td>\n",
       "      <td>2014-08-31 19:26:57.386000+00:00</td>\n",
       "      <td>214601207</td>\n",
       "    </tr>\n",
       "    <tr>\n",
       "      <th>...</th>\n",
       "      <td>...</td>\n",
       "      <td>...</td>\n",
       "      <td>...</td>\n",
       "    </tr>\n",
       "    <tr>\n",
       "      <th>32230485</th>\n",
       "      <td>11562157</td>\n",
       "      <td>2014-09-25 12:31:10.391000+00:00</td>\n",
       "      <td>214580372</td>\n",
       "    </tr>\n",
       "    <tr>\n",
       "      <th>32230486</th>\n",
       "      <td>11562157</td>\n",
       "      <td>2014-09-25 12:31:29.679000+00:00</td>\n",
       "      <td>214516012</td>\n",
       "    </tr>\n",
       "    <tr>\n",
       "      <th>32230487</th>\n",
       "      <td>11562158</td>\n",
       "      <td>2014-09-26 04:50:29.172000+00:00</td>\n",
       "      <td>214849132</td>\n",
       "    </tr>\n",
       "    <tr>\n",
       "      <th>32230488</th>\n",
       "      <td>11562158</td>\n",
       "      <td>2014-09-26 04:52:21.900000+00:00</td>\n",
       "      <td>214854774</td>\n",
       "    </tr>\n",
       "    <tr>\n",
       "      <th>32230489</th>\n",
       "      <td>11562158</td>\n",
       "      <td>2014-09-26 05:16:32.904000+00:00</td>\n",
       "      <td>214849132</td>\n",
       "    </tr>\n",
       "  </tbody>\n",
       "</table>\n",
       "<p>5254242 rows × 3 columns</p>\n",
       "</div>"
      ],
      "text/plain": [
       "          SessionId                             Time     ItemId\n",
       "26837834    9194111 2014-08-31 17:40:46.805000+00:00  214853420\n",
       "26837835    9194111 2014-08-31 17:42:26.089000+00:00  214850942\n",
       "26837836    9194111 2014-08-31 17:44:06.583000+00:00  214829878\n",
       "26837837    9194111 2014-08-31 17:48:49.873000+00:00  214853420\n",
       "26838202    9194123 2014-08-31 19:26:57.386000+00:00  214601207\n",
       "...             ...                              ...        ...\n",
       "32230485   11562157 2014-09-25 12:31:10.391000+00:00  214580372\n",
       "32230486   11562157 2014-09-25 12:31:29.679000+00:00  214516012\n",
       "32230487   11562158 2014-09-26 04:50:29.172000+00:00  214849132\n",
       "32230488   11562158 2014-09-26 04:52:21.900000+00:00  214854774\n",
       "32230489   11562158 2014-09-26 05:16:32.904000+00:00  214849132\n",
       "\n",
       "[5254242 rows x 3 columns]"
      ]
     },
     "execution_count": 18,
     "metadata": {},
     "output_type": "execute_result"
    }
   ],
   "source": [
    "data = cleanse_recursive(data, shortest=2, least_click=5)\n",
    "data"
   ]
  },
  {
   "cell_type": "markdown",
   "id": "7231bf8c",
   "metadata": {},
   "source": [
    "__Train, Valid, Test split__   \n",
    "모델 평가를 위해 valid set, test set을 만들자. 대회에서 test set을 제공해 주고 있으므로 살펴보자."
   ]
  },
  {
   "cell_type": "code",
   "execution_count": 19,
   "id": "de1c8912",
   "metadata": {},
   "outputs": [
    {
     "data": {
      "text/plain": [
       "(Timestamp('2014-04-01 03:00:08.250000+0000', tz='UTC'),\n",
       " Timestamp('2014-09-30 02:59:23.866000+0000', tz='UTC'))"
      ]
     },
     "execution_count": 19,
     "metadata": {},
     "output_type": "execute_result"
    }
   ],
   "source": [
    "test_path = data_path / 'yoochoose-test.dat'\n",
    "test= load_data(test_path)\n",
    "test['Time'].min(), test['Time'].max()"
   ]
  },
  {
   "cell_type": "markdown",
   "id": "51a238aa",
   "metadata": {},
   "source": [
    "test set의 기간이 training set과 겹친다. 추천 시스템은 지금을 잘 예측하는게 중요하다. __Session time__ 에서 말한것처럼 사용자들의 소비 패턴이 시간에 따라 쉽고 빠르게 달라지기 때문이다. 그래서 sesstion based recommendation에서 기간에 따라 train, valid, test set을 나누기도 한다.   \n",
    "\n",
    "이번 자료에서는 총 30일의 데이터셋에서 train을 1~28일, valid 1일, test 1일로 나눈다음 진행해보자."
   ]
  },
  {
   "cell_type": "code",
   "execution_count": 20,
   "id": "16817221",
   "metadata": {},
   "outputs": [],
   "source": [
    "def split_by_date(data: pd.DataFrame, n_days: int):\n",
    "    final_time = data['Time'].max()\n",
    "    session_last_time = data.groupby('SessionId')['Time'].max()\n",
    "    session_in_train = session_last_time[session_last_time < final_time - dt.timedelta(n_days)].index\n",
    "    session_in_test = session_last_time[session_last_time >= final_time - dt.timedelta(n_days)].index\n",
    "\n",
    "    before_date = data[data['SessionId'].isin(session_in_train)]\n",
    "    after_date = data[data['SessionId'].isin(session_in_test)]\n",
    "    after_date = after_date[after_date['ItemId'].isin(before_date['ItemId'])]\n",
    "    return before_date, after_date"
   ]
  },
  {
   "cell_type": "code",
   "execution_count": 21,
   "id": "b92d0512",
   "metadata": {},
   "outputs": [],
   "source": [
    "tr, test = split_by_date(data, n_days=1)\n",
    "tr, val = split_by_date(tr, n_days=1)"
   ]
  },
  {
   "cell_type": "code",
   "execution_count": 22,
   "id": "6edd7151",
   "metadata": {},
   "outputs": [],
   "source": [
    "# data에 대한 정보를 살펴봅니다.\n",
    "def stats_info(data: pd.DataFrame, status: str):\n",
    "    print(f'* {status} Set Stats Info\\n'\n",
    "          f'\\t Events: {len(data)}\\n'\n",
    "          f'\\t Sessions: {data[\"SessionId\"].nunique()}\\n'\n",
    "          f'\\t Items: {data[\"ItemId\"].nunique()}\\n'\n",
    "          f'\\t First Time : {data[\"Time\"].min()}\\n'\n",
    "          f'\\t Last Time : {data[\"Time\"].max()}\\n')"
   ]
  },
  {
   "cell_type": "code",
   "execution_count": 23,
   "id": "256a97b6",
   "metadata": {},
   "outputs": [
    {
     "name": "stdout",
     "output_type": "stream",
     "text": [
      "* train Set Stats Info\n",
      "\t Events: 5125100\n",
      "\t Sessions: 1243431\n",
      "\t Items: 20153\n",
      "\t First Time : 2014-08-31 03:00:01.111000+00:00\n",
      "\t Last Time : 2014-09-28 02:57:34.348000+00:00\n",
      "\n",
      "* valid Set Stats Info\n",
      "\t Events: 58074\n",
      "\t Sessions: 12350\n",
      "\t Items: 6232\n",
      "\t First Time : 2014-09-28 03:00:25.298000+00:00\n",
      "\t Last Time : 2014-09-29 02:58:27.660000+00:00\n",
      "\n",
      "* test Set Stats Info\n",
      "\t Events: 71009\n",
      "\t Sessions: 15289\n",
      "\t Items: 6580\n",
      "\t First Time : 2014-09-29 02:37:20.695000+00:00\n",
      "\t Last Time : 2014-09-30 02:59:59.430000+00:00\n",
      "\n"
     ]
    }
   ],
   "source": [
    "stats_info(tr, 'train')\n",
    "stats_info(val, 'valid')\n",
    "stats_info(test, 'test')"
   ]
  },
  {
   "cell_type": "code",
   "execution_count": 24,
   "id": "d7c4bb6f",
   "metadata": {},
   "outputs": [],
   "source": [
    "# train set에 없는 아이템이 val, test기간에 생길 수 있으므로 train data를 기준으로 인덱싱합니다.\n",
    "id2idx = {item_id : index for index, item_id in enumerate(tr['ItemId'].unique())}\n",
    "\n",
    "def indexing(df, id2idx):\n",
    "    df['item_idx'] = df['ItemId'].map(lambda x: id2idx.get(x, -1))  # id2idx에 없는 아이템은 모르는 값(-1) 처리 해줍니다.\n",
    "    return df\n",
    "\n",
    "tr = indexing(tr, id2idx)\n",
    "val = indexing(val, id2idx)\n",
    "test = indexing(test, id2idx)"
   ]
  },
  {
   "cell_type": "code",
   "execution_count": 25,
   "id": "a5edb8cc",
   "metadata": {},
   "outputs": [],
   "source": [
    "save_path = data_path / 'processed'\n",
    "save_path.mkdir(parents=True, exist_ok=True)\n",
    "\n",
    "tr.to_pickle(save_path / 'train.pkl')\n",
    "val.to_pickle(save_path / 'valid.pkl')\n",
    "test.to_pickle(save_path / 'test.pkl')"
   ]
  },
  {
   "cell_type": "markdown",
   "id": "3e5d5479",
   "metadata": {},
   "source": [
    "데이터를 준비하고 저장하는 과정까지 마쳤다."
   ]
  },
  {
   "cell_type": "markdown",
   "id": "1f417d14",
   "metadata": {},
   "source": [
    "# 16-3. GRU4REC"
   ]
  },
  {
   "cell_type": "markdown",
   "id": "ac5643ca",
   "metadata": {},
   "source": [
    "이번에 사용할 모델은 2016년 ICLR에 공개된 [SESSION-BASED RECOMMENDATIONS WITH RECURRENT NEURAL NETWORKS](https://arxiv.org/pdf/1511.06939v4.pdf)이다. Session Data에 처음으로 RNN 계열 모델을 적용하여 발표했다.   \n",
    "\n",
    "![](https://d3s0tskafalll9.cloudfront.net/media/images/model.max-800x600.png)"
   ]
  },
  {
   "cell_type": "markdown",
   "id": "b210b762",
   "metadata": {},
   "source": [
    "모델의 구조는 다음과 같고, 여러 RNN 계열의 모델(예를들어 LSTM)에서 저자가 실험한 결과 GRU의 성능이 제일 좋았다고 한다. 그리고 Embedding Layer를 사용하지 않았을 때가 사용했을 때보다 성능이 좋았다고 한다.   \n",
    "그래서 이번 자료에서 Embedding Layer를 사용하지 않고 One-hot Encoding만 사용해보자."
   ]
  },
  {
   "cell_type": "markdown",
   "id": "8288d3fd",
   "metadata": {},
   "source": [
    "추천 데이터의 특징 몇 가지를 살려 모델링해보자.   \n",
    "\n",
    "__Session-Parallel Mini-Batches__   \n",
    "Session의 길이는 매우 짧은 것들이 대부분이다. 그러나 매우 긴 것들도 있다. 이 세션들을 데이터 샘플 하나로 보고 mini-batch를 구성하여 input으로 넣으면 길이가 제일 긴 세션의 연산이 끝날 때까지 짧은 세션들이 기다려야 한다.   \n",
    "![](https://d3s0tskafalll9.cloudfront.net/media/images/input1.max-800x600.png)"
   ]
  },
  {
   "cell_type": "markdown",
   "id": "d1bd2bde",
   "metadata": {},
   "source": [
    "위 그림에서 session 1, 2, 3이 하나의 mini-batch로 들어갔으면, 연산은 session 3이 끝나야 다음 batch로 넘어가는 식이다. 논문의 저자는 대신 Session Parallel Mini Batches를 제안한다. 말 그대로 Session이 끝날 때 까지 기다리지 않고 병렬적으로 계산하자는 뜻이다.   \n",
    "Session2가 끝나면 Session4가 시작하는 바식이다. 이렇게 구성했을 때 Mini Batch의 shape는 (3, 1, 1)이 되고 RNN cell의 state가 1개로만 이루어진다.   \n",
    "Tensorflow 기준으로 RNN을 만들 때 stateful=True 옵션을 사용하고 해당 세션이 끝나면 state를 0으로 만들어 준다. [tf.keras.layers.RNN](https://www.tensorflow.org/api_docs/python/tf/keras/layers/RNN)   \n",
    "![](https://d3s0tskafalll9.cloudfront.net/media/images/input2.max-800x600.png)"
   ]
  },
  {
   "cell_type": "markdown",
   "id": "41f02a49",
   "metadata": {},
   "source": [
    "__SAMPLING ON THE OUTPUT__   \n",
    "Negative sampling과 같은 개념이다. item 수가 많아 loss를 계산할 때 모든 아이템을 비교하지 않고 인기도를 고려하여 sampling한다. 이번에는 구현하지 않았다.   \n",
    "\n",
    "__Ranking Loss__   \n",
    "session based recommendation Task를 여러 아이템 중 다음 아이템이 무엇인지 classification하는 task로 생각할 수도 있다.   \n",
    "여러 아이템을 관련도 순으로 랭킹을 매겨 높은 랭킹의 아이템을 추천하는 task로 생각할 수도 있다.   \n",
    "추천 시스템 연구 분야에서는 이렇게 Ranking을 맞추는 objective function에 대한 연구가 있었고 논문의 저자도 이런 Loss를 사용했다.   \n",
    "이번 자료에서는 Classification Task를 보고 Cross-Entropy Loss를 사용했다. "
   ]
  },
  {
   "cell_type": "markdown",
   "id": "1833c877",
   "metadata": {},
   "source": [
    "# 16-4. Data Pipeline"
   ]
  },
  {
   "cell_type": "markdown",
   "id": "eabd9ff3",
   "metadata": {},
   "source": [
    "위에서 설명한 Session Parallel Mini Batch를 구현해보자.\n",
    "\n",
    "__SessionDataset__   \n",
    "데이터가 주어지면 세션이 시작되는 이덱스를 담는 값과 세션을 새로 인덱싱한 값을 찾는 클래스를 만든다."
   ]
  },
  {
   "cell_type": "code",
   "execution_count": 26,
   "id": "d2f5d48a",
   "metadata": {},
   "outputs": [],
   "source": [
    "class SessionDataset:\n",
    "    \"\"\"Credit to yhs-968/pyGRU4REC.\"\"\"\n",
    "\n",
    "    def __init__(self, data):\n",
    "        self.df = data\n",
    "        self.click_offsets = self.get_click_offsets()\n",
    "        self.session_idx = np.arange(self.df['SessionId'].nunique())  # indexing to SessionId\n",
    "\n",
    "    def get_click_offsets(self):\n",
    "        \"\"\"\n",
    "        Return the indexes of the first click of each session IDs,\n",
    "        \"\"\"\n",
    "        offsets = np.zeros(self.df['SessionId'].nunique() + 1, dtype=np.int32)\n",
    "        offsets[1:] = self.df.groupby('SessionId').size().cumsum()\n",
    "        return offsets"
   ]
  },
  {
   "cell_type": "code",
   "execution_count": 27,
   "id": "9122efd3",
   "metadata": {},
   "outputs": [
    {
     "data": {
      "text/html": [
       "<div>\n",
       "<style scoped>\n",
       "    .dataframe tbody tr th:only-of-type {\n",
       "        vertical-align: middle;\n",
       "    }\n",
       "\n",
       "    .dataframe tbody tr th {\n",
       "        vertical-align: top;\n",
       "    }\n",
       "\n",
       "    .dataframe thead th {\n",
       "        text-align: right;\n",
       "    }\n",
       "</style>\n",
       "<table border=\"1\" class=\"dataframe\">\n",
       "  <thead>\n",
       "    <tr style=\"text-align: right;\">\n",
       "      <th></th>\n",
       "      <th>SessionId</th>\n",
       "      <th>Time</th>\n",
       "      <th>ItemId</th>\n",
       "      <th>item_idx</th>\n",
       "    </tr>\n",
       "  </thead>\n",
       "  <tbody>\n",
       "    <tr>\n",
       "      <th>26837834</th>\n",
       "      <td>9194111</td>\n",
       "      <td>2014-08-31 17:40:46.805000+00:00</td>\n",
       "      <td>214853420</td>\n",
       "      <td>0</td>\n",
       "    </tr>\n",
       "    <tr>\n",
       "      <th>26837835</th>\n",
       "      <td>9194111</td>\n",
       "      <td>2014-08-31 17:42:26.089000+00:00</td>\n",
       "      <td>214850942</td>\n",
       "      <td>1</td>\n",
       "    </tr>\n",
       "    <tr>\n",
       "      <th>26837836</th>\n",
       "      <td>9194111</td>\n",
       "      <td>2014-08-31 17:44:06.583000+00:00</td>\n",
       "      <td>214829878</td>\n",
       "      <td>2</td>\n",
       "    </tr>\n",
       "    <tr>\n",
       "      <th>26837837</th>\n",
       "      <td>9194111</td>\n",
       "      <td>2014-08-31 17:48:49.873000+00:00</td>\n",
       "      <td>214853420</td>\n",
       "      <td>0</td>\n",
       "    </tr>\n",
       "    <tr>\n",
       "      <th>26838202</th>\n",
       "      <td>9194123</td>\n",
       "      <td>2014-08-31 19:26:57.386000+00:00</td>\n",
       "      <td>214601207</td>\n",
       "      <td>3</td>\n",
       "    </tr>\n",
       "    <tr>\n",
       "      <th>26838203</th>\n",
       "      <td>9194123</td>\n",
       "      <td>2014-08-31 19:34:37.068000+00:00</td>\n",
       "      <td>214510689</td>\n",
       "      <td>4</td>\n",
       "    </tr>\n",
       "    <tr>\n",
       "      <th>26838193</th>\n",
       "      <td>9194124</td>\n",
       "      <td>2014-08-31 19:14:28.308000+00:00</td>\n",
       "      <td>214849327</td>\n",
       "      <td>5</td>\n",
       "    </tr>\n",
       "    <tr>\n",
       "      <th>26838194</th>\n",
       "      <td>9194124</td>\n",
       "      <td>2014-08-31 19:16:31.114000+00:00</td>\n",
       "      <td>214828970</td>\n",
       "      <td>6</td>\n",
       "    </tr>\n",
       "    <tr>\n",
       "      <th>26838196</th>\n",
       "      <td>9194127</td>\n",
       "      <td>2014-09-01 15:36:11.651000+00:00</td>\n",
       "      <td>214845997</td>\n",
       "      <td>7</td>\n",
       "    </tr>\n",
       "    <tr>\n",
       "      <th>26838197</th>\n",
       "      <td>9194127</td>\n",
       "      <td>2014-09-01 15:38:00.222000+00:00</td>\n",
       "      <td>214845997</td>\n",
       "      <td>7</td>\n",
       "    </tr>\n",
       "  </tbody>\n",
       "</table>\n",
       "</div>"
      ],
      "text/plain": [
       "          SessionId                             Time     ItemId  item_idx\n",
       "26837834    9194111 2014-08-31 17:40:46.805000+00:00  214853420         0\n",
       "26837835    9194111 2014-08-31 17:42:26.089000+00:00  214850942         1\n",
       "26837836    9194111 2014-08-31 17:44:06.583000+00:00  214829878         2\n",
       "26837837    9194111 2014-08-31 17:48:49.873000+00:00  214853420         0\n",
       "26838202    9194123 2014-08-31 19:26:57.386000+00:00  214601207         3\n",
       "26838203    9194123 2014-08-31 19:34:37.068000+00:00  214510689         4\n",
       "26838193    9194124 2014-08-31 19:14:28.308000+00:00  214849327         5\n",
       "26838194    9194124 2014-08-31 19:16:31.114000+00:00  214828970         6\n",
       "26838196    9194127 2014-09-01 15:36:11.651000+00:00  214845997         7\n",
       "26838197    9194127 2014-09-01 15:38:00.222000+00:00  214845997         7"
      ]
     },
     "execution_count": 27,
     "metadata": {},
     "output_type": "execute_result"
    }
   ],
   "source": [
    "tr_dataset = SessionDataset(tr)\n",
    "tr_dataset.df.head(10)"
   ]
  },
  {
   "cell_type": "code",
   "execution_count": 28,
   "id": "f907ab6d",
   "metadata": {},
   "outputs": [
    {
     "data": {
      "text/plain": [
       "array([      0,       4,       6, ..., 5125095, 5125097, 5125100],\n",
       "      dtype=int32)"
      ]
     },
     "execution_count": 28,
     "metadata": {},
     "output_type": "execute_result"
    }
   ],
   "source": [
    "tr_dataset.click_offsets"
   ]
  },
  {
   "cell_type": "code",
   "execution_count": 29,
   "id": "c380c177",
   "metadata": {},
   "outputs": [
    {
     "data": {
      "text/plain": [
       "array([      0,       1,       2, ..., 1243428, 1243429, 1243430])"
      ]
     },
     "execution_count": 29,
     "metadata": {},
     "output_type": "execute_result"
    }
   ],
   "source": [
    "tr_dataset.session_idx"
   ]
  },
  {
   "cell_type": "markdown",
   "id": "ee9ccb90",
   "metadata": {},
   "source": [
    "train 데이터로 `SessionDataset` 객체를 만들고 인스턴스 변수들을 살펴보자. `click_offsets` 변수는 각 세션이 시작된 인덱스를 담고 있다. `session_idx` 변수는 각 세션을 인덱싱한 `np.array`이다."
   ]
  },
  {
   "cell_type": "markdown",
   "id": "bc0da307",
   "metadata": {},
   "source": [
    "__SessionDataLoader__   \n",
    "`SessionDataset` 객체를 받아 Session Parallel mini batch를 만드는 클래스를 만들자.   \n",
    "`__iter__` 메서드는 모델 인풋, 라벨, 세션이 끝나는 곳의 위치를 `yield`한다. mask는 후에 RNN Cell State를 초기화하는데 사용할 것이다."
   ]
  },
  {
   "cell_type": "code",
   "execution_count": 30,
   "id": "ac6d3185",
   "metadata": {},
   "outputs": [],
   "source": [
    "class SessionDataLoader:\n",
    "    \"\"\"Credit to yhs-968/pyGRU4REC.\"\"\"\n",
    "\n",
    "    def __init__(self, dataset: SessionDataset, batch_size=50):\n",
    "        self.dataset = dataset\n",
    "        self.batch_size = batch_size\n",
    "\n",
    "    def __iter__(self):\n",
    "        \"\"\" Returns the iterator for producing session-parallel training mini-batches.\n",
    "        Yields:\n",
    "            input (B,):  Item indices that will be encoded as one-hot vectors later.\n",
    "            target (B,): a Variable that stores the target item indices\n",
    "            masks: Numpy array indicating the positions of the sessions to be terminated\n",
    "        \"\"\"\n",
    "\n",
    "        start, end, mask, last_session, finished = self.initialize()  # initialize 메소드에서 확인해주세요.\n",
    "        \"\"\"\n",
    "        start : Index Where Session Start\n",
    "        end : Index Where Session End\n",
    "        mask : indicator for the sessions to be terminated\n",
    "        \"\"\"\n",
    "\n",
    "        while not finished:\n",
    "            min_len = (end - start).min() - 1  # Shortest Length Among Sessions\n",
    "            for i in range(min_len):\n",
    "                # Build inputs & targets\n",
    "                inp = self.dataset.df['item_idx'].values[start + i]\n",
    "                target = self.dataset.df['item_idx'].values[start + i + 1]\n",
    "                yield inp, target, mask\n",
    "\n",
    "            start, end, mask, last_session, finished = self.update_status(start, end, min_len, last_session, finished)\n",
    "\n",
    "    def initialize(self):\n",
    "        first_iters = np.arange(self.batch_size)    # 첫 배치에 사용할 세션 Index를 가져옵니다.\n",
    "        last_session = self.batch_size - 1    # 마지막으로 다루고 있는 세션 Index를 저장해둡니다.\n",
    "        start = self.dataset.click_offsets[self.dataset.session_idx[first_iters]]       # data 상에서 session이 시작된 위치를 가져옵니다.\n",
    "        end = self.dataset.click_offsets[self.dataset.session_idx[first_iters] + 1]  # session이 끝난 위치 바로 다음 위치를 가져옵니다.\n",
    "        mask = np.array([])   # session의 모든 아이템을 다 돌은 경우 mask에 추가해줄 것입니다.\n",
    "        finished = False         # data를 전부 돌았는지 기록하기 위한 변수입니다.\n",
    "        return start, end, mask, last_session, finished\n",
    "\n",
    "    def update_status(self, start: np.ndarray, end: np.ndarray, min_len: int, last_session: int, finished: bool):  \n",
    "        # 다음 배치 데이터를 생성하기 위해 상태를 update합니다.\n",
    "        \n",
    "        start += min_len   # __iter__에서 min_len 만큼 for문을 돌았으므로 start를 min_len 만큼 더해줍니다.\n",
    "        mask = np.arange(self.batch_size)[(end - start) == 1]  \n",
    "        # end는 다음 세션이 시작되는 위치인데 start와 한 칸 차이난다는 것은 session이 끝났다는 뜻입니다. mask에 기록해줍니다.\n",
    "\n",
    "        for i, idx in enumerate(mask, start=1):  # mask에 추가된 세션 개수만큼 새로운 세션을 돌것입니다.\n",
    "            new_session = last_session + i  \n",
    "            if new_session > self.dataset.session_idx[-1]:  # 만약 새로운 세션이 마지막 세션 index보다 크다면 모든 학습데이터를 돈 것입니다.\n",
    "                finished = True\n",
    "                break\n",
    "            # update the next starting/ending point\n",
    "            start[idx] = self.dataset.click_offsets[self.dataset.session_idx[new_session]]     # 종료된 세션 대신 새로운 세션의 시작점을 기록합니다.\n",
    "            end[idx] = self.dataset.click_offsets[self.dataset.session_idx[new_session] + 1]\n",
    "\n",
    "        last_session += len(mask)  # 마지막 세션의 위치를 기록해둡니다.\n",
    "        return start, end, mask, last_session, finished"
   ]
  },
  {
   "cell_type": "code",
   "execution_count": 31,
   "id": "fc859a3d",
   "metadata": {},
   "outputs": [
    {
     "data": {
      "text/html": [
       "<div>\n",
       "<style scoped>\n",
       "    .dataframe tbody tr th:only-of-type {\n",
       "        vertical-align: middle;\n",
       "    }\n",
       "\n",
       "    .dataframe tbody tr th {\n",
       "        vertical-align: top;\n",
       "    }\n",
       "\n",
       "    .dataframe thead th {\n",
       "        text-align: right;\n",
       "    }\n",
       "</style>\n",
       "<table border=\"1\" class=\"dataframe\">\n",
       "  <thead>\n",
       "    <tr style=\"text-align: right;\">\n",
       "      <th></th>\n",
       "      <th>SessionId</th>\n",
       "      <th>Time</th>\n",
       "      <th>ItemId</th>\n",
       "      <th>item_idx</th>\n",
       "    </tr>\n",
       "  </thead>\n",
       "  <tbody>\n",
       "    <tr>\n",
       "      <th>26837834</th>\n",
       "      <td>9194111</td>\n",
       "      <td>2014-08-31 17:40:46.805000+00:00</td>\n",
       "      <td>214853420</td>\n",
       "      <td>0</td>\n",
       "    </tr>\n",
       "    <tr>\n",
       "      <th>26837835</th>\n",
       "      <td>9194111</td>\n",
       "      <td>2014-08-31 17:42:26.089000+00:00</td>\n",
       "      <td>214850942</td>\n",
       "      <td>1</td>\n",
       "    </tr>\n",
       "    <tr>\n",
       "      <th>26837836</th>\n",
       "      <td>9194111</td>\n",
       "      <td>2014-08-31 17:44:06.583000+00:00</td>\n",
       "      <td>214829878</td>\n",
       "      <td>2</td>\n",
       "    </tr>\n",
       "    <tr>\n",
       "      <th>26837837</th>\n",
       "      <td>9194111</td>\n",
       "      <td>2014-08-31 17:48:49.873000+00:00</td>\n",
       "      <td>214853420</td>\n",
       "      <td>0</td>\n",
       "    </tr>\n",
       "    <tr>\n",
       "      <th>26838202</th>\n",
       "      <td>9194123</td>\n",
       "      <td>2014-08-31 19:26:57.386000+00:00</td>\n",
       "      <td>214601207</td>\n",
       "      <td>3</td>\n",
       "    </tr>\n",
       "    <tr>\n",
       "      <th>26838203</th>\n",
       "      <td>9194123</td>\n",
       "      <td>2014-08-31 19:34:37.068000+00:00</td>\n",
       "      <td>214510689</td>\n",
       "      <td>4</td>\n",
       "    </tr>\n",
       "    <tr>\n",
       "      <th>26838193</th>\n",
       "      <td>9194124</td>\n",
       "      <td>2014-08-31 19:14:28.308000+00:00</td>\n",
       "      <td>214849327</td>\n",
       "      <td>5</td>\n",
       "    </tr>\n",
       "    <tr>\n",
       "      <th>26838194</th>\n",
       "      <td>9194124</td>\n",
       "      <td>2014-08-31 19:16:31.114000+00:00</td>\n",
       "      <td>214828970</td>\n",
       "      <td>6</td>\n",
       "    </tr>\n",
       "    <tr>\n",
       "      <th>26838196</th>\n",
       "      <td>9194127</td>\n",
       "      <td>2014-09-01 15:36:11.651000+00:00</td>\n",
       "      <td>214845997</td>\n",
       "      <td>7</td>\n",
       "    </tr>\n",
       "    <tr>\n",
       "      <th>26838197</th>\n",
       "      <td>9194127</td>\n",
       "      <td>2014-09-01 15:38:00.222000+00:00</td>\n",
       "      <td>214845997</td>\n",
       "      <td>7</td>\n",
       "    </tr>\n",
       "    <tr>\n",
       "      <th>26838198</th>\n",
       "      <td>9194127</td>\n",
       "      <td>2014-09-01 15:38:56.867000+00:00</td>\n",
       "      <td>214845997</td>\n",
       "      <td>7</td>\n",
       "    </tr>\n",
       "    <tr>\n",
       "      <th>26838259</th>\n",
       "      <td>9194128</td>\n",
       "      <td>2014-08-31 19:09:27.360000+00:00</td>\n",
       "      <td>214581830</td>\n",
       "      <td>8</td>\n",
       "    </tr>\n",
       "    <tr>\n",
       "      <th>26838260</th>\n",
       "      <td>9194128</td>\n",
       "      <td>2014-08-31 19:10:04.641000+00:00</td>\n",
       "      <td>214574135</td>\n",
       "      <td>9</td>\n",
       "    </tr>\n",
       "    <tr>\n",
       "      <th>26838261</th>\n",
       "      <td>9194128</td>\n",
       "      <td>2014-08-31 19:10:57+00:00</td>\n",
       "      <td>214857795</td>\n",
       "      <td>10</td>\n",
       "    </tr>\n",
       "    <tr>\n",
       "      <th>26838262</th>\n",
       "      <td>9194128</td>\n",
       "      <td>2014-08-31 19:11:31.797000+00:00</td>\n",
       "      <td>214574139</td>\n",
       "      <td>11</td>\n",
       "    </tr>\n",
       "  </tbody>\n",
       "</table>\n",
       "</div>"
      ],
      "text/plain": [
       "          SessionId                             Time     ItemId  item_idx\n",
       "26837834    9194111 2014-08-31 17:40:46.805000+00:00  214853420         0\n",
       "26837835    9194111 2014-08-31 17:42:26.089000+00:00  214850942         1\n",
       "26837836    9194111 2014-08-31 17:44:06.583000+00:00  214829878         2\n",
       "26837837    9194111 2014-08-31 17:48:49.873000+00:00  214853420         0\n",
       "26838202    9194123 2014-08-31 19:26:57.386000+00:00  214601207         3\n",
       "26838203    9194123 2014-08-31 19:34:37.068000+00:00  214510689         4\n",
       "26838193    9194124 2014-08-31 19:14:28.308000+00:00  214849327         5\n",
       "26838194    9194124 2014-08-31 19:16:31.114000+00:00  214828970         6\n",
       "26838196    9194127 2014-09-01 15:36:11.651000+00:00  214845997         7\n",
       "26838197    9194127 2014-09-01 15:38:00.222000+00:00  214845997         7\n",
       "26838198    9194127 2014-09-01 15:38:56.867000+00:00  214845997         7\n",
       "26838259    9194128 2014-08-31 19:09:27.360000+00:00  214581830         8\n",
       "26838260    9194128 2014-08-31 19:10:04.641000+00:00  214574135         9\n",
       "26838261    9194128        2014-08-31 19:10:57+00:00  214857795        10\n",
       "26838262    9194128 2014-08-31 19:11:31.797000+00:00  214574139        11"
      ]
     },
     "execution_count": 31,
     "metadata": {},
     "output_type": "execute_result"
    }
   ],
   "source": [
    "tr_data_loader = SessionDataLoader(tr_dataset, batch_size=4)\n",
    "tr_dataset.df.head(15)"
   ]
  },
  {
   "cell_type": "code",
   "execution_count": 32,
   "id": "8ebc8e03",
   "metadata": {},
   "outputs": [],
   "source": [
    "iter_ex = iter(tr_data_loader)"
   ]
  },
  {
   "cell_type": "code",
   "execution_count": 33,
   "id": "3db71045",
   "metadata": {},
   "outputs": [
    {
     "name": "stdout",
     "output_type": "stream",
     "text": [
      "Model Input Item Idx are : [0 3 5 7]\n",
      "Label Item Idx are :       [1 4 6 7]\n",
      "Previous Masked Input Idx are []\n"
     ]
    }
   ],
   "source": [
    "inputs, labels, mask =  next(iter_ex)\n",
    "print(f'Model Input Item Idx are : {inputs}')\n",
    "print(f'Label Item Idx are : {\"\":5} {labels}')\n",
    "print(f'Previous Masked Input Idx are {mask}')"
   ]
  },
  {
   "cell_type": "markdown",
   "id": "2b0cc126",
   "metadata": {},
   "source": [
    "반복 실행하면 `next`가 계속 다음 데이터를 만든다."
   ]
  },
  {
   "cell_type": "markdown",
   "id": "20899cdc",
   "metadata": {},
   "source": [
    "# 16-5. Modeling"
   ]
  },
  {
   "cell_type": "markdown",
   "id": "e30eadc3",
   "metadata": {},
   "source": [
    "__Evaluation Metric__   \n",
    "모델 성능에 대한 지표로 precision이나 recall이 있다.   \n",
    "sesstion based recommendation task에는 모델이 k개의 아이템을 제시했을 때, 유저가 클릭, 구매한 n개의 아이템이 많아야 좋다. 이 때문에 recall의 개념을 확장한 `recall@k` 지표, precision의 개념을 확장한 `Mean Average Precision@k` 지표 등을 사용한다.   \n",
    "추천에서는 몇 번째로 맞추느냐도 중요하다. 예를들어 구글에서 검색했을 때 원하는 결과가 1페이지 말고 2페이지에 나온다면 유저의 반응이 크게 떨어진다. 따라서 순서에 민감한 `MRR`, `NDCG` 같은 지표도 사용한다.   \n",
    "이번 자료에서는 `MRR`, `Recall@k`를 사용하자. `MRR`은 정답 아이템이 나온 순번의 역수 값이다. 이는 정답 아이템이 추천 결과 앞쪽 순번에 나오면 지표가 높아지고 뒤쪽에 나오거나 안나오면 지표가 낮아짐을 의미한다."
   ]
  },
  {
   "cell_type": "code",
   "execution_count": 34,
   "id": "01d2291a",
   "metadata": {},
   "outputs": [],
   "source": [
    "def mrr_k(pred, truth: int, k: int):\n",
    "    indexing = np.where(pred[:k] == truth)[0]\n",
    "    if len(indexing) > 0:\n",
    "        return 1 / (indexing[0] + 1)\n",
    "    else:\n",
    "        return 0\n",
    "\n",
    "\n",
    "def recall_k(pred, truth: int, k: int) -> int:\n",
    "    answer = truth in pred[:k]\n",
    "    return int(answer)"
   ]
  },
  {
   "cell_type": "markdown",
   "id": "27a90b92",
   "metadata": {},
   "source": [
    "__Model Architecture__   \n",
    "모델 구조 설계하기"
   ]
  },
  {
   "cell_type": "code",
   "execution_count": 35,
   "id": "14dbfabc",
   "metadata": {},
   "outputs": [],
   "source": [
    "import numpy as np\n",
    "import tensorflow as tf\n",
    "from tensorflow.keras.layers import Input, Dense, Dropout, GRU\n",
    "from tensorflow.keras.losses import categorical_crossentropy\n",
    "from tensorflow.keras.models import Model\n",
    "from tensorflow.keras.optimizers import Adam\n",
    "from tensorflow.keras.utils import to_categorical\n",
    "from tqdm import tqdm"
   ]
  },
  {
   "cell_type": "code",
   "execution_count": 36,
   "id": "c4e43171",
   "metadata": {},
   "outputs": [],
   "source": [
    "def create_model(args):\n",
    "    inputs = Input(batch_shape=(args.batch_size, 1, args.num_items))\n",
    "    gru, _ = GRU(args.hsz, stateful=True, return_state=True, name='GRU')(inputs)\n",
    "    dropout = Dropout(args.drop_rate)(gru)\n",
    "    predictions = Dense(args.num_items, activation='softmax')(dropout)\n",
    "    model = Model(inputs=inputs, outputs=[predictions])\n",
    "    model.compile(loss=categorical_crossentropy, optimizer=Adam(args.lr), metrics=['accuracy'])\n",
    "    model.summary()\n",
    "    return model"
   ]
  },
  {
   "cell_type": "code",
   "execution_count": 37,
   "id": "f61dfb12",
   "metadata": {},
   "outputs": [],
   "source": [
    "class Args:\n",
    "    def __init__(self, tr, val, test, batch_size, hsz, drop_rate, lr, epochs, k):\n",
    "        self.tr = tr\n",
    "        self.val = val\n",
    "        self.test = test\n",
    "        self.num_items = tr['ItemId'].nunique()\n",
    "        self.num_sessions = tr['SessionId'].nunique()\n",
    "        self.batch_size = batch_size\n",
    "        self.hsz = hsz\n",
    "        self.drop_rate = drop_rate\n",
    "        self.lr = lr\n",
    "        self.epochs = epochs\n",
    "        self.k = k\n",
    "\n",
    "args = Args(tr, val, test, batch_size=2048, hsz=50, drop_rate=0.1, lr=0.001, epochs=3, k=20)"
   ]
  },
  {
   "cell_type": "code",
   "execution_count": 38,
   "id": "ebcaeaf9",
   "metadata": {},
   "outputs": [
    {
     "name": "stdout",
     "output_type": "stream",
     "text": [
      "Model: \"model\"\n",
      "_________________________________________________________________\n",
      "Layer (type)                 Output Shape              Param #   \n",
      "=================================================================\n",
      "input_1 (InputLayer)         [(2048, 1, 20153)]        0         \n",
      "_________________________________________________________________\n",
      "GRU (GRU)                    [(2048, 50), (2048, 50)]  3030750   \n",
      "_________________________________________________________________\n",
      "dropout (Dropout)            (2048, 50)                0         \n",
      "_________________________________________________________________\n",
      "dense (Dense)                (2048, 20153)             1027803   \n",
      "=================================================================\n",
      "Total params: 4,058,553\n",
      "Trainable params: 4,058,553\n",
      "Non-trainable params: 0\n",
      "_________________________________________________________________\n"
     ]
    }
   ],
   "source": [
    "model = create_model(args)"
   ]
  },
  {
   "cell_type": "markdown",
   "id": "201e3f7c",
   "metadata": {},
   "source": [
    "__Model Training__   \n",
    "지금까지 준비한 데이터셋과 모델을 통해 학습을 진행해보자.   \n",
    "모델 학습에 걸리는 시간은 epoch당 30분이 걸리므로 모델 학습 직전까지만 작성해보자."
   ]
  },
  {
   "cell_type": "code",
   "execution_count": 39,
   "id": "c24422a8",
   "metadata": {},
   "outputs": [],
   "source": [
    "# train 셋으로 학습하면서 valid 셋으로 검증합니다.\n",
    "def train_model(model, args):\n",
    "    train_dataset = SessionDataset(args.tr)\n",
    "    train_loader = SessionDataLoader(train_dataset, batch_size=args.batch_size)\n",
    "\n",
    "    for epoch in range(1, args.epochs + 1):\n",
    "        total_step = len(args.tr) - args.tr['SessionId'].nunique()\n",
    "        tr_loader = tqdm(train_loader, total=total_step // args.batch_size, desc='Train', mininterval=1)\n",
    "        for feat, target, mask in tr_loader:\n",
    "            reset_hidden_states(model, mask)  # 종료된 session은 hidden_state를 초기화합니다. 아래 메서드에서 확인해주세요.\n",
    "\n",
    "            input_ohe = to_categorical(feat, num_classes=args.num_items)\n",
    "            input_ohe = np.expand_dims(input_ohe, axis=1)\n",
    "            target_ohe = to_categorical(target, num_classes=args.num_items)\n",
    "\n",
    "            result = model.train_on_batch(input_ohe, target_ohe)\n",
    "            tr_loader.set_postfix(train_loss=result[0], accuracy = result[1])\n",
    "\n",
    "        val_recall, val_mrr = get_metrics(args.val, model, args, args.k)  # valid set에 대해 검증합니다.\n",
    "\n",
    "        print(f\"\\t - Recall@{args.k} epoch {epoch}: {val_recall:3f}\")\n",
    "        print(f\"\\t - MRR@{args.k}    epoch {epoch}: {val_mrr:3f}\\n\")\n",
    "\n",
    "\n",
    "def reset_hidden_states(model, mask):\n",
    "    gru_layer = model.get_layer(name='GRU')  # model에서 gru layer를 가져옵니다.\n",
    "    hidden_states = gru_layer.states[0].numpy()  # gru_layer의 parameter를 가져옵니다.\n",
    "    for elt in mask:  # mask된 인덱스 즉, 종료된 세션의 인덱스를 돌면서\n",
    "        hidden_states[elt, :] = 0  # parameter를 초기화 합니다.\n",
    "    gru_layer.reset_states(states=hidden_states)\n",
    "\n",
    "\n",
    "def get_metrics(data, model, args, k: int):  # valid셋과 test셋을 평가하는 코드입니다. \n",
    "                                             # train과 거의 같지만 mrr, recall을 구하는 라인이 있습니다.\n",
    "    dataset = SessionDataset(data)\n",
    "    loader = SessionDataLoader(dataset, batch_size=args.batch_size)\n",
    "    recall_list, mrr_list = [], []\n",
    "\n",
    "    total_step = len(data) - data['SessionId'].nunique()\n",
    "    for inputs, label, mask in tqdm(loader, total=total_step // args.batch_size, desc='Evaluation', mininterval=1):\n",
    "        reset_hidden_states(model, mask)\n",
    "        input_ohe = to_categorical(inputs, num_classes=args.num_items)\n",
    "        input_ohe = np.expand_dims(input_ohe, axis=1)\n",
    "\n",
    "        pred = model.predict(input_ohe, batch_size=args.batch_size)\n",
    "        pred_arg = tf.argsort(pred, direction='DESCENDING')  # softmax 값이 큰 순서대로 sorting 합니다.\n",
    "\n",
    "        length = len(inputs)\n",
    "        recall_list.extend([recall_k(pred_arg[i], label[i], k) for i in range(length)])\n",
    "        mrr_list.extend([mrr_k(pred_arg[i], label[i], k) for i in range(length)])\n",
    "\n",
    "    recall, mrr = np.mean(recall_list), np.mean(mrr_list)\n",
    "    return recall, mrr"
   ]
  },
  {
   "cell_type": "code",
   "execution_count": 40,
   "id": "63751ac3",
   "metadata": {},
   "outputs": [],
   "source": [
    "# 학습 시간이 다소 오래 소요됩니다. 아래 주석을 풀지 마세요.\n",
    "# train_model(model, args)\n",
    "\n",
    "# 학습된 모델을 불러옵니다.\n",
    "model = tf.keras.models.load_model(data_path / 'trained_model')"
   ]
  },
  {
   "cell_type": "markdown",
   "id": "00e35716",
   "metadata": {},
   "source": [
    "__Inference__   \n",
    "지금까지 작성한 모델이 테스트셋에 어느정도 성능을 내는지 검증해보자."
   ]
  },
  {
   "cell_type": "code",
   "execution_count": 41,
   "id": "62b60acf",
   "metadata": {},
   "outputs": [
    {
     "name": "stderr",
     "output_type": "stream",
     "text": [
      "Evaluation:  81%|████████▏ | 22/27 [02:14<00:30,  6.14s/it]"
     ]
    },
    {
     "name": "stdout",
     "output_type": "stream",
     "text": [
      "\t - Recall@20: 0.711270\n",
      "\t - MRR@20: 0.309212\n",
      "\n"
     ]
    },
    {
     "name": "stderr",
     "output_type": "stream",
     "text": [
      "\n"
     ]
    }
   ],
   "source": [
    "def test_model(model, args, test):\n",
    "    test_recall, test_mrr = get_metrics(test, model, args, 20)\n",
    "    print(f\"\\t - Recall@{args.k}: {test_recall:3f}\")\n",
    "    print(f\"\\t - MRR@{args.k}: {test_mrr:3f}\\n\")\n",
    "\n",
    "test_model(model, args, test)"
   ]
  },
  {
   "cell_type": "markdown",
   "id": "784626b3",
   "metadata": {},
   "source": [
    "# 16-6. 프로젝트-Movielens 영화 SBR"
   ]
  },
  {
   "cell_type": "markdown",
   "id": "b16e4063",
   "metadata": {},
   "source": [
    "`MovieLens 1M Dataset`을 기반으로 Session based Recommendation 시스템을 제작해보자."
   ]
  },
  {
   "cell_type": "code",
   "execution_count": 42,
   "id": "e3bdeb4f",
   "metadata": {},
   "outputs": [
    {
     "name": "stdout",
     "output_type": "stream",
     "text": [
      "1.3.3\n",
      "2.6.0\n"
     ]
    }
   ],
   "source": [
    "import pandas\n",
    "import tensorflow\n",
    "\n",
    "print(pandas.__version__)\n",
    "print(tensorflow.__version__)"
   ]
  },
  {
   "cell_type": "markdown",
   "id": "10f88292",
   "metadata": {},
   "source": [
    "```\n",
    "1) 데이터 확인\n",
    "$ ls -l ~/data\n",
    "\n",
    "2) 프로젝트 폴더 생성\n",
    "$ mkdir -p ~/aiffel/yoochoose\n",
    "\n",
    "3) 프로젝트 폴더로 데이터 폴더 링크 연결\n",
    "$ ln -s ~/data/* ~/aiffel/yoochoose/data\n",
    "```"
   ]
  },
  {
   "cell_type": "code",
   "execution_count": 43,
   "id": "f6b6c5e3",
   "metadata": {},
   "outputs": [
    {
     "data": {
      "text/html": [
       "<div>\n",
       "<style scoped>\n",
       "    .dataframe tbody tr th:only-of-type {\n",
       "        vertical-align: middle;\n",
       "    }\n",
       "\n",
       "    .dataframe tbody tr th {\n",
       "        vertical-align: top;\n",
       "    }\n",
       "\n",
       "    .dataframe thead th {\n",
       "        text-align: right;\n",
       "    }\n",
       "</style>\n",
       "<table border=\"1\" class=\"dataframe\">\n",
       "  <thead>\n",
       "    <tr style=\"text-align: right;\">\n",
       "      <th></th>\n",
       "      <th>UserId</th>\n",
       "      <th>ItemId</th>\n",
       "      <th>Rating</th>\n",
       "      <th>Time</th>\n",
       "    </tr>\n",
       "  </thead>\n",
       "  <tbody>\n",
       "    <tr>\n",
       "      <th>31</th>\n",
       "      <td>1</td>\n",
       "      <td>3186</td>\n",
       "      <td>4</td>\n",
       "      <td>978300019</td>\n",
       "    </tr>\n",
       "    <tr>\n",
       "      <th>22</th>\n",
       "      <td>1</td>\n",
       "      <td>1270</td>\n",
       "      <td>5</td>\n",
       "      <td>978300055</td>\n",
       "    </tr>\n",
       "    <tr>\n",
       "      <th>27</th>\n",
       "      <td>1</td>\n",
       "      <td>1721</td>\n",
       "      <td>4</td>\n",
       "      <td>978300055</td>\n",
       "    </tr>\n",
       "    <tr>\n",
       "      <th>37</th>\n",
       "      <td>1</td>\n",
       "      <td>1022</td>\n",
       "      <td>5</td>\n",
       "      <td>978300055</td>\n",
       "    </tr>\n",
       "    <tr>\n",
       "      <th>24</th>\n",
       "      <td>1</td>\n",
       "      <td>2340</td>\n",
       "      <td>3</td>\n",
       "      <td>978300103</td>\n",
       "    </tr>\n",
       "    <tr>\n",
       "      <th>...</th>\n",
       "      <td>...</td>\n",
       "      <td>...</td>\n",
       "      <td>...</td>\n",
       "      <td>...</td>\n",
       "    </tr>\n",
       "    <tr>\n",
       "      <th>1000019</th>\n",
       "      <td>6040</td>\n",
       "      <td>2917</td>\n",
       "      <td>4</td>\n",
       "      <td>997454429</td>\n",
       "    </tr>\n",
       "    <tr>\n",
       "      <th>999988</th>\n",
       "      <td>6040</td>\n",
       "      <td>1921</td>\n",
       "      <td>4</td>\n",
       "      <td>997454464</td>\n",
       "    </tr>\n",
       "    <tr>\n",
       "      <th>1000172</th>\n",
       "      <td>6040</td>\n",
       "      <td>1784</td>\n",
       "      <td>3</td>\n",
       "      <td>997454464</td>\n",
       "    </tr>\n",
       "    <tr>\n",
       "      <th>1000167</th>\n",
       "      <td>6040</td>\n",
       "      <td>161</td>\n",
       "      <td>3</td>\n",
       "      <td>997454486</td>\n",
       "    </tr>\n",
       "    <tr>\n",
       "      <th>1000042</th>\n",
       "      <td>6040</td>\n",
       "      <td>1221</td>\n",
       "      <td>4</td>\n",
       "      <td>998315055</td>\n",
       "    </tr>\n",
       "  </tbody>\n",
       "</table>\n",
       "<p>1000209 rows × 4 columns</p>\n",
       "</div>"
      ],
      "text/plain": [
       "         UserId  ItemId  Rating       Time\n",
       "31            1    3186       4  978300019\n",
       "22            1    1270       5  978300055\n",
       "27            1    1721       4  978300055\n",
       "37            1    1022       5  978300055\n",
       "24            1    2340       3  978300103\n",
       "...         ...     ...     ...        ...\n",
       "1000019    6040    2917       4  997454429\n",
       "999988     6040    1921       4  997454464\n",
       "1000172    6040    1784       3  997454464\n",
       "1000167    6040     161       3  997454486\n",
       "1000042    6040    1221       4  998315055\n",
       "\n",
       "[1000209 rows x 4 columns]"
      ]
     },
     "execution_count": 43,
     "metadata": {},
     "output_type": "execute_result"
    }
   ],
   "source": [
    "data_path = Path(os.getenv('HOME')+'/aiffel/yoochoose/data/') \n",
    "train_path = data_path / 'ratings.dat'\n",
    "\n",
    "def load_data(data_path: Path, nrows=None):\n",
    "    data = pd.read_csv(data_path, sep='::', header=None, usecols=[0, 1, 2, 3], dtype={0: np.int32, 1: np.int32, 2: np.int32}, nrows=nrows)\n",
    "    data.columns = ['UserId', 'ItemId', 'Rating', 'Time']\n",
    "    return data\n",
    "\n",
    "data = load_data(train_path, None)\n",
    "data.sort_values(['UserId', 'Time'], inplace=True)  # data를 id와 시간 순서로 정렬해줍니다.\n",
    "data"
   ]
  },
  {
   "cell_type": "markdown",
   "id": "5f86036b",
   "metadata": {},
   "source": [
    "- study와 가장 크게 다른 부분은 SessionID 대신 UserID 항목이 들어갔다. \n",
    "- Rating 정보가 포함되어 있다. 실습은 무시하고 제외했는데 직전에 봤던 영화가 마음에 들어 비슷한 영화를 더 고르게 할 수도 있다. Rating이 낮은 데이터를 어떻게 처리할지도 고민할 수 있다.\n",
    "- Time은 UTC time이 포함되어 있고, 1970년 1월 1일부터 경과된 초 단위 시간이 기재되어 있다."
   ]
  },
  {
   "cell_type": "markdown",
   "id": "b3478290",
   "metadata": {},
   "source": [
    "### 1. 데이터 전처리\n",
    "데이터셋을 꼼꼼하게 살펴보면서 전처리 과정을 진행해보자.\n",
    "\n",
    "### 2. 미니 배치 구성\n",
    "데이터셋과 미니 배치를 구성해보자. Session parallel mini batch 개념에 따라 학습 속도 저하가 최소화될 수 있도록 구성해보자. 단, 전처리 과정에서 단위를 어떻게 정의했느냐에 따라 굳이 필요하지 않을 수도 있다.\n",
    "\n",
    "### 3. 모델 구성\n",
    "study 코드를 참고해서 시도해보자.\n",
    "\n",
    "### 4. 모델 학습\n",
    "하이퍼파라미터를 변경하며 검증해보자. \n",
    "\n",
    "### 5. 모델 테스트\n",
    "구성한 테스트셋을 바탕으로 Recall, MRR을 확인해보자."
   ]
  }
 ],
 "metadata": {
  "kernelspec": {
   "display_name": "Python 3 (ipykernel)",
   "language": "python",
   "name": "python3"
  },
  "language_info": {
   "codemirror_mode": {
    "name": "ipython",
    "version": 3
   },
   "file_extension": ".py",
   "mimetype": "text/x-python",
   "name": "python",
   "nbconvert_exporter": "python",
   "pygments_lexer": "ipython3",
   "version": "3.9.7"
  }
 },
 "nbformat": 4,
 "nbformat_minor": 5
}
