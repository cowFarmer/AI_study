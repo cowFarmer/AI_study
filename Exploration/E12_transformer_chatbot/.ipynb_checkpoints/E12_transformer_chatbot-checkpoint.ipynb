{
 "cells": [
  {
   "cell_type": "markdown",
   "id": "6435a976",
   "metadata": {},
   "source": [
    "# 한국어 대화형 챗봇 만들기"
   ]
  },
  {
   "cell_type": "markdown",
   "id": "25ce2971",
   "metadata": {},
   "source": [
    "# 1. 데이터 가져오기"
   ]
  },
  {
   "cell_type": "markdown",
   "id": "c2beeef5",
   "metadata": {},
   "source": [
    "한국어 챗봇 데이터는 송영숙님이 공개한 데이터를 사용해보자. [songys/Chatbot_data](https://github.com/songys/Chatbot_data/blob/master/ChatbotData.csv)   \n",
    "```\n",
    "$ mkdir -p ~/aiffel/transformer_chatbot/data/\n",
    "$ ln -s ~/data/* ~/aiffel/transformer_chatbot/data/\n",
    "```  "
   ]
  },
  {
   "cell_type": "code",
   "execution_count": 1,
   "id": "511100ed",
   "metadata": {},
   "outputs": [],
   "source": [
    "import tensorflow as tf\n",
    "import tensorflow_datasets as tfds\n",
    "import os\n",
    "import re\n",
    "import numpy as np\n",
    "import matplotlib.pyplot as plt\n",
    "import pandas as pd\n",
    "from tensorflow.keras.callbacks import EarlyStopping"
   ]
  },
  {
   "cell_type": "code",
   "execution_count": 2,
   "id": "40b7a1b1",
   "metadata": {},
   "outputs": [
    {
     "data": {
      "text/html": [
       "<div>\n",
       "<style scoped>\n",
       "    .dataframe tbody tr th:only-of-type {\n",
       "        vertical-align: middle;\n",
       "    }\n",
       "\n",
       "    .dataframe tbody tr th {\n",
       "        vertical-align: top;\n",
       "    }\n",
       "\n",
       "    .dataframe thead th {\n",
       "        text-align: right;\n",
       "    }\n",
       "</style>\n",
       "<table border=\"1\" class=\"dataframe\">\n",
       "  <thead>\n",
       "    <tr style=\"text-align: right;\">\n",
       "      <th></th>\n",
       "      <th>Q</th>\n",
       "      <th>A</th>\n",
       "      <th>label</th>\n",
       "    </tr>\n",
       "  </thead>\n",
       "  <tbody>\n",
       "    <tr>\n",
       "      <th>2816</th>\n",
       "      <td>쌍커풀 해볼까</td>\n",
       "      <td>눈은 기본이죠.</td>\n",
       "      <td>0</td>\n",
       "    </tr>\n",
       "    <tr>\n",
       "      <th>4496</th>\n",
       "      <td>쳇바퀴 도는 하루</td>\n",
       "      <td>그 속에서 가치와 의미를 찾아보세요.</td>\n",
       "      <td>0</td>\n",
       "    </tr>\n",
       "    <tr>\n",
       "      <th>2259</th>\n",
       "      <td>사는 게 허무해요</td>\n",
       "      <td>뜻대로 되는게 많지 않죠.</td>\n",
       "      <td>0</td>\n",
       "    </tr>\n",
       "    <tr>\n",
       "      <th>2059</th>\n",
       "      <td>베터리 15%야</td>\n",
       "      <td>미리 충전하세요.</td>\n",
       "      <td>0</td>\n",
       "    </tr>\n",
       "    <tr>\n",
       "      <th>7416</th>\n",
       "      <td>이별 괜찮타.</td>\n",
       "      <td>그렇게 생각하다 보면 정말 괜찮아질 거예요.</td>\n",
       "      <td>1</td>\n",
       "    </tr>\n",
       "    <tr>\n",
       "      <th>3901</th>\n",
       "      <td>자꾸 나약하게 느껴져</td>\n",
       "      <td>절대 그렇지 않아요.</td>\n",
       "      <td>0</td>\n",
       "    </tr>\n",
       "    <tr>\n",
       "      <th>289</th>\n",
       "      <td>군대 기다리면 부담스러워할까</td>\n",
       "      <td>너무 걱정하지 마세요.</td>\n",
       "      <td>0</td>\n",
       "    </tr>\n",
       "    <tr>\n",
       "      <th>10102</th>\n",
       "      <td>스킨십 언제부터 할까?</td>\n",
       "      <td>두 사람이 준비가 되었을 때요.</td>\n",
       "      <td>2</td>\n",
       "    </tr>\n",
       "    <tr>\n",
       "      <th>1705</th>\n",
       "      <td>모르는 번호로 전화왔어</td>\n",
       "      <td>받지마세요.</td>\n",
       "      <td>0</td>\n",
       "    </tr>\n",
       "    <tr>\n",
       "      <th>11583</th>\n",
       "      <td>짝사랑 하는 사람이 날 좋아할리는 없겠지?</td>\n",
       "      <td>나를 비하하지 마세요.</td>\n",
       "      <td>2</td>\n",
       "    </tr>\n",
       "  </tbody>\n",
       "</table>\n",
       "</div>"
      ],
      "text/plain": [
       "                             Q                         A  label\n",
       "2816                   쌍커풀 해볼까                  눈은 기본이죠.      0\n",
       "4496                 쳇바퀴 도는 하루      그 속에서 가치와 의미를 찾아보세요.      0\n",
       "2259                 사는 게 허무해요            뜻대로 되는게 많지 않죠.      0\n",
       "2059                  베터리 15%야                 미리 충전하세요.      0\n",
       "7416                   이별 괜찮타.  그렇게 생각하다 보면 정말 괜찮아질 거예요.      1\n",
       "3901               자꾸 나약하게 느껴져               절대 그렇지 않아요.      0\n",
       "289            군대 기다리면 부담스러워할까              너무 걱정하지 마세요.      0\n",
       "10102             스킨십 언제부터 할까?         두 사람이 준비가 되었을 때요.      2\n",
       "1705              모르는 번호로 전화왔어                    받지마세요.      0\n",
       "11583  짝사랑 하는 사람이 날 좋아할리는 없겠지?              나를 비하하지 마세요.      2"
      ]
     },
     "execution_count": 2,
     "metadata": {},
     "output_type": "execute_result"
    }
   ],
   "source": [
    "data = pd.read_csv('~/aiffel/transformer_chatbot/data/ChatbotData .csv')\n",
    "data.sample(10)"
   ]
  },
  {
   "cell_type": "markdown",
   "id": "2318fd28",
   "metadata": {},
   "source": [
    "# 2. 데이터 전처리하기"
   ]
  },
  {
   "cell_type": "code",
   "execution_count": 3,
   "id": "6bb79d5e",
   "metadata": {
    "scrolled": true
   },
   "outputs": [
    {
     "name": "stdout",
     "output_type": "stream",
     "text": [
      "11823\n",
      "11662\n",
      "7779\n",
      "Q        0\n",
      "A        0\n",
      "label    0\n",
      "dtype: int64\n"
     ]
    }
   ],
   "source": [
    "print(len(data))\n",
    "print(data['Q'].nunique())\n",
    "print(data['A'].nunique())\n",
    "print(data.isnull().sum())"
   ]
  },
  {
   "cell_type": "markdown",
   "id": "8a4aba40",
   "metadata": {},
   "source": [
    "> 데이터셋의 중복 데이터는 제거하면 안될거 같다. 이는 비슷한 유형의 대답이 있을때 똑같은 대답을 많이 함을 유추할 수 있다."
   ]
  },
  {
   "cell_type": "markdown",
   "id": "4a3fd569",
   "metadata": {},
   "source": [
    "### 데이터 정리하기"
   ]
  },
  {
   "cell_type": "code",
   "execution_count": 4,
   "id": "77a86693",
   "metadata": {},
   "outputs": [],
   "source": [
    "# 전처리 함수\n",
    "def preprocess_sentence(sentence):\n",
    "    sentence = sentence.lower().strip()\n",
    "\n",
    "    # 단어와 구두점 사이에 space를 만든다.\n",
    "    sentence = re.sub(r\"([?.!,])\", r\" \\1 \", sentence)\n",
    "    sentence = re.sub(r'[\" \"]+', \" \", sentence)\n",
    "    sentence = sentence.strip()\n",
    "    \n",
    "    # (a-z, A-Z, 가-힣, \"?\", \".\", \"!\", \",\")를 제외한 모든 문자를 공백인 ' '로 대체한다.\n",
    "    sentence = re.sub(r\"[^a-zA-Z가-힣?.!,]+\", \" \", sentence)\n",
    "  \n",
    "    return sentence"
   ]
  },
  {
   "cell_type": "code",
   "execution_count": 5,
   "id": "937c4cd0",
   "metadata": {},
   "outputs": [],
   "source": [
    "def load_conversations():\n",
    "    inputs, outputs = [], []\n",
    "    for i in data['Q']:\n",
    "        inputs.append(preprocess_sentence(i))\n",
    "    for i in data['A']:\n",
    "        outputs.append(preprocess_sentence(i))\n",
    "    return inputs, outputs"
   ]
  },
  {
   "cell_type": "code",
   "execution_count": 6,
   "id": "06654488",
   "metadata": {
    "scrolled": true
   },
   "outputs": [
    {
     "name": "stdout",
     "output_type": "stream",
     "text": [
      "전체 샘플 수 : 11823\n",
      "전체 샘플 수 : 11823\n"
     ]
    }
   ],
   "source": [
    "questions, answers = load_conversations()\n",
    "print('전체 샘플 수 :', len(questions))\n",
    "print('전체 샘플 수 :', len(answers))"
   ]
  },
  {
   "cell_type": "code",
   "execution_count": 7,
   "id": "c7211a95",
   "metadata": {},
   "outputs": [
    {
     "name": "stdout",
     "output_type": "stream",
     "text": [
      "전처리 후의 22번째 질문 샘플: 가스비 장난 아님\n",
      "전처리 후의 22번째 답변 샘플: 다음 달에는 더 절약해봐요 .\n"
     ]
    }
   ],
   "source": [
    "print('전처리 후의 22번째 질문 샘플: {}'.format(questions[21]))\n",
    "print('전처리 후의 22번째 답변 샘플: {}'.format(answers[21]))"
   ]
  },
  {
   "cell_type": "markdown",
   "id": "6e387ca1",
   "metadata": {},
   "source": [
    "# 3. SubwordTextEncoder 사용하기"
   ]
  },
  {
   "cell_type": "markdown",
   "id": "971bacab",
   "metadata": {},
   "source": [
    "### 단어장 만들기"
   ]
  },
  {
   "cell_type": "markdown",
   "id": "f2a336ad",
   "metadata": {},
   "source": [
    "__SubwordTextEncoder__를 사용해서 단어장(Vocabulary) 만들기."
   ]
  },
  {
   "cell_type": "code",
   "execution_count": 8,
   "id": "e2d5ea82",
   "metadata": {},
   "outputs": [],
   "source": [
    "tokenizer = tfds.deprecated.text.SubwordTextEncoder.build_from_corpus(questions + answers, target_vocab_size=2**13)"
   ]
  },
  {
   "cell_type": "code",
   "execution_count": 9,
   "id": "c8382424",
   "metadata": {},
   "outputs": [],
   "source": [
    "# 시작 토큰과 종료 토큰에 정수를 부여한다.\n",
    "START_TOKEN, END_TOKEN = [tokenizer.vocab_size], [tokenizer.vocab_size + 1]"
   ]
  },
  {
   "cell_type": "code",
   "execution_count": 10,
   "id": "ddf9bfcf",
   "metadata": {},
   "outputs": [
    {
     "name": "stdout",
     "output_type": "stream",
     "text": [
      "START_TOKEN의 번호 : [8139]\n",
      "END_TOKEN의 번호 : [8140]\n"
     ]
    }
   ],
   "source": [
    "print('START_TOKEN의 번호 :' ,[tokenizer.vocab_size])\n",
    "print('END_TOKEN의 번호 :' ,[tokenizer.vocab_size + 1])"
   ]
  },
  {
   "cell_type": "code",
   "execution_count": 11,
   "id": "8d4437d9",
   "metadata": {},
   "outputs": [
    {
     "name": "stdout",
     "output_type": "stream",
     "text": [
      "8141\n"
     ]
    }
   ],
   "source": [
    "# 시작 토큰과 종료 토큰을 고려하여 단어장의 크기를 +2 한다.\n",
    "VOCAB_SIZE = tokenizer.vocab_size + 2\n",
    "print(VOCAB_SIZE)"
   ]
  },
  {
   "cell_type": "code",
   "execution_count": 12,
   "id": "6cb1015b",
   "metadata": {
    "scrolled": false
   },
   "outputs": [
    {
     "name": "stdout",
     "output_type": "stream",
     "text": [
      "정수 인코딩 후의 21번째 질문 샘플: [5746, 611, 2485, 4152]\n",
      "정수 인코딩 후의 21번째 답변 샘플: [2353, 7490, 7, 6255, 97, 1]\n"
     ]
    }
   ],
   "source": [
    "# 토큰을 고유한 정수로 변환하는 인코딩 작업\n",
    "print('정수 인코딩 후의 21번째 질문 샘플: {}'.format(tokenizer.encode(questions[21])))\n",
    "print('정수 인코딩 후의 21번째 답변 샘플: {}'.format(tokenizer.encode(answers[21])))"
   ]
  },
  {
   "cell_type": "markdown",
   "id": "667b2220",
   "metadata": {},
   "source": [
    "### 패딩, 토큰화"
   ]
  },
  {
   "cell_type": "markdown",
   "id": "9f006af2",
   "metadata": {},
   "source": [
    "패딩 작업을 진행하기 전에 문장의 최대 길이를 정해야한다. 데이터의 분포를 시각적으로 확인하고 정하자."
   ]
  },
  {
   "cell_type": "code",
   "execution_count": 13,
   "id": "cc48067e",
   "metadata": {},
   "outputs": [],
   "source": [
    "qna = questions + answers"
   ]
  },
  {
   "cell_type": "code",
   "execution_count": 14,
   "id": "5f7aee8a",
   "metadata": {
    "scrolled": true
   },
   "outputs": [
    {
     "name": "stdout",
     "output_type": "stream",
     "text": [
      "최소 길이 : 1\n",
      "최대 길이 : 24\n",
      "평균 길이 : 4.3276241224731455\n"
     ]
    },
    {
     "data": {
      "image/png": "[encoded data removed]",
      "text/plain": [
       "<Figure size 432x288 with 1 Axes>"
      ]
     },
     "metadata": {
      "needs_background": "light"
     },
     "output_type": "display_data"
    },
    {
     "data": {
      "image/png": "[encoded data removed]",
      "text/plain": [
       "<Figure size 432x288 with 1 Axes>"
      ]
     },
     "metadata": {
      "needs_background": "light"
     },
     "output_type": "display_data"
    }
   ],
   "source": [
    "qna_len = [len(s.split()) for s in qna]\n",
    "\n",
    "print('최소 길이 : {}'.format(np.min(qna_len)))\n",
    "print('최대 길이 : {}'.format(np.max(qna_len)))\n",
    "print('평균 길이 : {}'.format(np.mean(qna_len)))\n",
    "\n",
    "plt.subplot(1,2,1)\n",
    "plt.boxplot(qna_len)\n",
    "plt.title('QnA')\n",
    "plt.tight_layout()\n",
    "plt.show()\n",
    "\n",
    "plt.title('QnA')\n",
    "plt.hist(qna_len, bins = 40)\n",
    "plt.xlabel('length of samples')\n",
    "plt.ylabel('number of samples')\n",
    "plt.show()"
   ]
  },
  {
   "cell_type": "code",
   "execution_count": 15,
   "id": "32b3ccee",
   "metadata": {},
   "outputs": [
    {
     "name": "stdout",
     "output_type": "stream",
     "text": [
      "12\n"
     ]
    }
   ],
   "source": [
    "# 문장의 최대 길이 정하기\n",
    "MAX_LENGTH = 12\n",
    "print(MAX_LENGTH)"
   ]
  },
  {
   "cell_type": "code",
   "execution_count": 16,
   "id": "bd0958e4",
   "metadata": {},
   "outputs": [
    {
     "name": "stdout",
     "output_type": "stream",
     "text": [
      "필터링 후의 질문 샘플 개수: 11823\n",
      "필터링 후의 답변 샘플 개수: 11823\n"
     ]
    }
   ],
   "source": [
    "print('필터링 후의 질문 샘플 개수: {}'.format(len(questions)))\n",
    "print('필터링 후의 답변 샘플 개수: {}'.format(len(answers)))"
   ]
  },
  {
   "cell_type": "code",
   "execution_count": 17,
   "id": "5a052795",
   "metadata": {},
   "outputs": [],
   "source": [
    "# 정수 인코딩, 최대 길이를 초과하는 샘플 제거, 패딩\n",
    "def tokenize_and_filter(inputs, outputs):\n",
    "    tokenized_inputs, tokenized_outputs = [], []\n",
    "\n",
    "    # 정수 인코딩 과정에서 시작 토큰과 종료 토큰을 추가\n",
    "    for (sentence1, sentence2) in zip(inputs, outputs):\n",
    "        sentence1 = START_TOKEN + tokenizer.encode(sentence1) + END_TOKEN\n",
    "        sentence2 = START_TOKEN + tokenizer.encode(sentence2) + END_TOKEN\n",
    "\n",
    "        # 최대 길이 12 이하인 경우에만 데이터셋으로 허용\n",
    "        if len(sentence1) <= MAX_LENGTH and len(sentence2) <= MAX_LENGTH:\n",
    "            tokenized_inputs.append(sentence1)\n",
    "            tokenized_outputs.append(sentence2)\n",
    "  \n",
    "    # 최대 길이 12으로 모든 데이터셋을 패딩\n",
    "    tokenized_inputs = tf.keras.preprocessing.sequence.pad_sequences(\n",
    "        tokenized_inputs, maxlen=MAX_LENGTH, padding='post')\n",
    "    tokenized_outputs = tf.keras.preprocessing.sequence.pad_sequences(\n",
    "        tokenized_outputs, maxlen=MAX_LENGTH, padding='post')\n",
    "  \n",
    "    return tokenized_inputs, tokenized_outputs"
   ]
  },
  {
   "cell_type": "code",
   "execution_count": 18,
   "id": "840fb4f5",
   "metadata": {
    "scrolled": false
   },
   "outputs": [
    {
     "name": "stdout",
     "output_type": "stream",
     "text": [
      "단어장의 크기 : 8141\n",
      "필터링 후의 질문 샘플 개수: 10747\n",
      "필터링 후의 답변 샘플 개수: 10747\n"
     ]
    }
   ],
   "source": [
    "questions, answers = tokenize_and_filter(questions, answers)\n",
    "print('단어장의 크기 :',(VOCAB_SIZE))\n",
    "print('필터링 후의 질문 샘플 개수: {}'.format(len(questions)))\n",
    "print('필터링 후의 답변 샘플 개수: {}'.format(len(answers)))"
   ]
  },
  {
   "cell_type": "markdown",
   "id": "c4987888",
   "metadata": {},
   "source": [
    "전체 샘플 수 : 11823 -> 필터링 후의 질문 샘플 개수: 10747"
   ]
  },
  {
   "cell_type": "markdown",
   "id": "8d266acb",
   "metadata": {},
   "source": [
    "### Teacher Forcing"
   ]
  },
  {
   "cell_type": "markdown",
   "id": "f704d769",
   "metadata": {},
   "source": [
    "__tf.data.Dataset API__ 훈련 프로세스의 속도가 빨라지도록 입력 파이프라인을 구축하는 API를 사용한다. 질문과 답변의 쌍을 입력으로 넣어주는데, 디코더의 입력과 실제 값을 정의해주기 위해 teacher forcing을 사용한다."
   ]
  },
  {
   "cell_type": "code",
   "execution_count": 19,
   "id": "c8e02dd9",
   "metadata": {},
   "outputs": [],
   "source": [
    "BATCH_SIZE = 64\n",
    "BUFFER_SIZE = 20000\n",
    "\n",
    "# 디코더는 이전의 target을 다음의 input으로 사용한다.\n",
    "# 그래서 outputs의 START_TOKEN을 제거한다.\n",
    "dataset = tf.data.Dataset.from_tensor_slices((\n",
    "    {\n",
    "        'inputs': questions,\n",
    "        'dec_inputs': answers[:, :-1]\n",
    "    },\n",
    "    {\n",
    "        'outputs': answers[:, 1:]\n",
    "    },\n",
    "))\n",
    "\n",
    "dataset = dataset.cache()\n",
    "dataset = dataset.shuffle(BUFFER_SIZE)\n",
    "dataset = dataset.batch(BATCH_SIZE)\n",
    "dataset = dataset.prefetch(tf.data.experimental.AUTOTUNE)"
   ]
  },
  {
   "cell_type": "markdown",
   "id": "5cc486d9",
   "metadata": {},
   "source": [
    "# 4. 모델 구성하기"
   ]
  },
  {
   "cell_type": "markdown",
   "id": "3bf226f9",
   "metadata": {},
   "source": [
    "### Transformer 모델 구현하기"
   ]
  },
  {
   "cell_type": "markdown",
   "id": "aaff4cd4",
   "metadata": {},
   "source": [
    "입력 위치 정보를 갖고 있는 __positinal encoding layer__ 선언하기."
   ]
  },
  {
   "cell_type": "code",
   "execution_count": 20,
   "id": "be595c95",
   "metadata": {},
   "outputs": [],
   "source": [
    "# 포지셔널 인코딩 레이어\n",
    "class PositionalEncoding(tf.keras.layers.Layer):\n",
    "\n",
    "  def __init__(self, position, d_model):\n",
    "    super(PositionalEncoding, self).__init__()\n",
    "    self.pos_encoding = self.positional_encoding(position, d_model)\n",
    "\n",
    "  def get_angles(self, position, i, d_model):\n",
    "    angles = 1 / tf.pow(10000, (2 * (i // 2)) / tf.cast(d_model, tf.float32))\n",
    "    return position * angles\n",
    "\n",
    "  def positional_encoding(self, position, d_model):\n",
    "    # 각도 배열 생성\n",
    "    angle_rads = self.get_angles(\n",
    "        position=tf.range(position, dtype=tf.float32)[:, tf.newaxis],\n",
    "        i=tf.range(d_model, dtype=tf.float32)[tf.newaxis, :],\n",
    "        d_model=d_model)\n",
    "\n",
    "    # 배열의 짝수 인덱스에는 sin 함수 적용\n",
    "    sines = tf.math.sin(angle_rads[:, 0::2])\n",
    "    # 배열의 홀수 인덱스에는 cosine 함수 적용\n",
    "    cosines = tf.math.cos(angle_rads[:, 1::2])\n",
    "\n",
    "    # sin과 cosine이 교차되도록 재배열\n",
    "    pos_encoding = tf.stack([sines, cosines], axis=0)\n",
    "    pos_encoding = tf.transpose(pos_encoding,[1, 2, 0]) \n",
    "    pos_encoding = tf.reshape(pos_encoding, [position, d_model])\n",
    "\n",
    "    pos_encoding = pos_encoding[tf.newaxis, ...]\n",
    "    return tf.cast(pos_encoding, tf.float32)\n",
    "\n",
    "  def call(self, inputs):\n",
    "    return inputs + self.pos_encoding[:, :tf.shape(inputs)[1], :]"
   ]
  },
  {
   "cell_type": "markdown",
   "id": "7fda482e",
   "metadata": {},
   "source": [
    "### Attention"
   ]
  },
  {
   "cell_type": "markdown",
   "id": "d7a16146",
   "metadata": {},
   "source": [
    "단어들의 유사도를 구하기 위해 __scaled dot product attention__ 선언하기."
   ]
  },
  {
   "cell_type": "code",
   "execution_count": 21,
   "id": "7dea0c71",
   "metadata": {},
   "outputs": [],
   "source": [
    "# 스케일드 닷 프로덕트 어텐션 함수\n",
    "def scaled_dot_product_attention(query, key, value, mask):\n",
    "  # 어텐션 가중치는 Q와 K의 닷 프로덕트\n",
    "  matmul_qk = tf.matmul(query, key, transpose_b=True)\n",
    "\n",
    "  # 가중치를 정규화\n",
    "  depth = tf.cast(tf.shape(key)[-1], tf.float32)\n",
    "  logits = matmul_qk / tf.math.sqrt(depth)\n",
    "\n",
    "  # 패딩에 마스크 추가\n",
    "  if mask is not None:\n",
    "    logits += (mask * -1e9)\n",
    "\n",
    "  # softmax적용\n",
    "  attention_weights = tf.nn.softmax(logits, axis=-1)\n",
    "\n",
    "  # 최종 어텐션은 가중치와 V의 닷 프로덕트\n",
    "  output = tf.matmul(attention_weights, value)\n",
    "  return output"
   ]
  },
  {
   "cell_type": "markdown",
   "id": "5748c828",
   "metadata": {},
   "source": [
    "병렬로 어텐션을 수행하기 위해 __멀티 헤드 어텐션__ 선언하기."
   ]
  },
  {
   "cell_type": "code",
   "execution_count": 22,
   "id": "bc779709",
   "metadata": {},
   "outputs": [],
   "source": [
    "class MultiHeadAttention(tf.keras.layers.Layer):\n",
    "\n",
    "  def __init__(self, d_model, num_heads, name=\"multi_head_attention\"):\n",
    "    super(MultiHeadAttention, self).__init__(name=name)\n",
    "    self.num_heads = num_heads\n",
    "    self.d_model = d_model\n",
    "\n",
    "    assert d_model % self.num_heads == 0\n",
    "\n",
    "    self.depth = d_model // self.num_heads\n",
    "\n",
    "    self.query_dense = tf.keras.layers.Dense(units=d_model)\n",
    "    self.key_dense = tf.keras.layers.Dense(units=d_model)\n",
    "    self.value_dense = tf.keras.layers.Dense(units=d_model)\n",
    "\n",
    "    self.dense = tf.keras.layers.Dense(units=d_model)\n",
    "\n",
    "  def split_heads(self, inputs, batch_size):\n",
    "    inputs = tf.reshape(\n",
    "        inputs, shape=(batch_size, -1, self.num_heads, self.depth))\n",
    "    return tf.transpose(inputs, perm=[0, 2, 1, 3])\n",
    "\n",
    "  def call(self, inputs):\n",
    "    query, key, value, mask = inputs['query'], inputs['key'], inputs[\n",
    "        'value'], inputs['mask']\n",
    "    batch_size = tf.shape(query)[0]\n",
    "\n",
    "    # Q, K, V에 각각 Dense를 적용한다\n",
    "    query = self.query_dense(query)\n",
    "    key = self.key_dense(key)\n",
    "    value = self.value_dense(value)\n",
    "\n",
    "    # 병렬 연산을 위한 머리를 여러 개 만든다\n",
    "    query = self.split_heads(query, batch_size)\n",
    "    key = self.split_heads(key, batch_size)\n",
    "    value = self.split_heads(value, batch_size)\n",
    "\n",
    "    # 스케일드 닷 프로덕트 어텐션 함수\n",
    "    scaled_attention = scaled_dot_product_attention(query, key, value, mask)\n",
    "\n",
    "    scaled_attention = tf.transpose(scaled_attention, perm=[0, 2, 1, 3])\n",
    "\n",
    "    # 어텐션 연산 후에 각 결과를 다시 연결(concatenate)한다\n",
    "    concat_attention = tf.reshape(scaled_attention,\n",
    "                                  (batch_size, -1, self.d_model))\n",
    "\n",
    "    # 최종 결과에도 Dense를 한 번 더 적용한다\n",
    "    outputs = self.dense(concat_attention)\n",
    "\n",
    "    return outputs"
   ]
  },
  {
   "cell_type": "markdown",
   "id": "fe1a6a4a",
   "metadata": {},
   "source": [
    "### 마스킹"
   ]
  },
  {
   "cell_type": "markdown",
   "id": "98586eaf",
   "metadata": {},
   "source": [
    "패딩을 마스킹 처리해주는 __padding masking__ 그리고 트랜스포머의 특성상 문장을 불러오는데 RNN 구조로 단어를 학습하는 __look ahead masking__ 선언하기."
   ]
  },
  {
   "cell_type": "code",
   "execution_count": 23,
   "id": "235a58d3",
   "metadata": {},
   "outputs": [],
   "source": [
    "def create_padding_mask(x):\n",
    "  mask = tf.cast(tf.math.equal(x, 0), tf.float32)\n",
    "  # (batch_size, 1, 1, sequence length)\n",
    "  return mask[:, tf.newaxis, tf.newaxis, :]"
   ]
  },
  {
   "cell_type": "code",
   "execution_count": 24,
   "id": "aa1a8c04",
   "metadata": {},
   "outputs": [],
   "source": [
    "def create_look_ahead_mask(x):\n",
    "  seq_len = tf.shape(x)[1]\n",
    "  look_ahead_mask = 1 - tf.linalg.band_part(tf.ones((seq_len, seq_len)), -1, 0)\n",
    "  padding_mask = create_padding_mask(x)\n",
    "  return tf.maximum(look_ahead_mask, padding_mask)"
   ]
  },
  {
   "cell_type": "markdown",
   "id": "a4a9cca9",
   "metadata": {},
   "source": [
    "### 인코더"
   ]
  },
  {
   "cell_type": "markdown",
   "id": "d3bc5f1d",
   "metadata": {},
   "source": [
    "인코더 층은 2개의 sublayer로 나누어져 있다. __self attention__, __feed forward__.   \n",
    "\n",
    "self attention은 `multiheadattention()`으로 병렬적으로 이루어진다."
   ]
  },
  {
   "cell_type": "code",
   "execution_count": 25,
   "id": "2ac96e5b",
   "metadata": {},
   "outputs": [],
   "source": [
    "# 인코더 하나의 레이어를 함수로 구현.\n",
    "def encoder_layer(units, d_model, num_heads, dropout, name=\"encoder_layer\"):\n",
    "  inputs = tf.keras.Input(shape=(None, d_model), name=\"inputs\")\n",
    "\n",
    "  # 패딩 마스크 사용\n",
    "  padding_mask = tf.keras.Input(shape=(1, 1, None), name=\"padding_mask\")\n",
    "\n",
    "  # 첫 번째 레이어 : 멀티 헤드 어텐션 (셀프 어텐션)\n",
    "  attention = MultiHeadAttention(\n",
    "      d_model, num_heads, name=\"attention\")({\n",
    "          'query': inputs,\n",
    "          'key': inputs,\n",
    "          'value': inputs,\n",
    "          'mask': padding_mask\n",
    "      })\n",
    "\n",
    "  # 어텐션의 결과는 Dropout과 Layer Normalization이라는 훈련을 돕는 테크닉을 수행한다.\n",
    "  attention = tf.keras.layers.Dropout(rate=dropout)(attention)\n",
    "  attention = tf.keras.layers.LayerNormalization(\n",
    "      epsilon=1e-6)(inputs + attention)\n",
    "\n",
    "  # 두 번째 레이어 : 2개의 완전연결층\n",
    "  outputs = tf.keras.layers.Dense(units=units, activation='relu')(attention)\n",
    "  outputs = tf.keras.layers.Dense(units=d_model)(outputs)\n",
    "\n",
    "  # 완전연결층의 결과는 Dropout과 LayerNormalization이라는 훈련을 돕는 테크닉을 수행한다.\n",
    "  outputs = tf.keras.layers.Dropout(rate=dropout)(outputs)\n",
    "  outputs = tf.keras.layers.LayerNormalization(\n",
    "      epsilon=1e-6)(attention + outputs)\n",
    "\n",
    "  return tf.keras.Model(\n",
    "      inputs=[inputs, padding_mask], outputs=outputs, name=name)"
   ]
  },
  {
   "cell_type": "markdown",
   "id": "d9cd7e4f",
   "metadata": {},
   "source": [
    "위에서 선언한 encoder_layer를 __embedding layer__, __positional encoding__을 연결하고, 인코더 층(num_layers)을 쌓으면 트랜스포머의 인코더가 완성된다."
   ]
  },
  {
   "cell_type": "code",
   "execution_count": 26,
   "id": "56327b8e",
   "metadata": {},
   "outputs": [],
   "source": [
    "def encoder(vocab_size,\n",
    "            num_layers,\n",
    "            units,\n",
    "            d_model,\n",
    "            num_heads,\n",
    "            dropout,\n",
    "            name=\"encoder\"):\n",
    "  inputs = tf.keras.Input(shape=(None,), name=\"inputs\")\n",
    "\n",
    "  # 패딩 마스크 사용\n",
    "  padding_mask = tf.keras.Input(shape=(1, 1, None), name=\"padding_mask\")\n",
    "\n",
    "  # 임베딩 레이어\n",
    "  embeddings = tf.keras.layers.Embedding(vocab_size, d_model)(inputs)\n",
    "  embeddings *= tf.math.sqrt(tf.cast(d_model, tf.float32))\n",
    "\n",
    "  # 포지셔널 인코딩\n",
    "  embeddings = PositionalEncoding(vocab_size, d_model)(embeddings)\n",
    "\n",
    "  outputs = tf.keras.layers.Dropout(rate=dropout)(embeddings)\n",
    "\n",
    "  # num_layers만큼 쌓아올린 인코더의 층.\n",
    "  for i in range(num_layers):\n",
    "    outputs = encoder_layer(\n",
    "        units=units,\n",
    "        d_model=d_model,\n",
    "        num_heads=num_heads,\n",
    "        dropout=dropout,\n",
    "        name=\"encoder_layer_{}\".format(i),\n",
    "    )([outputs, padding_mask])\n",
    "\n",
    "  return tf.keras.Model(\n",
    "      inputs=[inputs, padding_mask], outputs=outputs, name=name)"
   ]
  },
  {
   "cell_type": "markdown",
   "id": "43614e9b",
   "metadata": {},
   "source": [
    "### 디코더"
   ]
  },
  {
   "cell_type": "markdown",
   "id": "605cb3c2",
   "metadata": {},
   "source": [
    "__self attention__, __encoder-decoder attention__의 __scaled dot product attention__ 처리를 `MultiHeadAttention()`으로 병렬적으로 이루어진다. "
   ]
  },
  {
   "cell_type": "code",
   "execution_count": 27,
   "id": "60c4f518",
   "metadata": {},
   "outputs": [],
   "source": [
    "# 디코더 하나의 레이어를 함수로 구현.\n",
    "# 이 하나의 레이어 안에는 세 개의 서브 레이어가 존재한다.\n",
    "def decoder_layer(units, d_model, num_heads, dropout, name=\"decoder_layer\"):\n",
    "  inputs = tf.keras.Input(shape=(None, d_model), name=\"inputs\")\n",
    "  enc_outputs = tf.keras.Input(shape=(None, d_model), name=\"encoder_outputs\")\n",
    "  look_ahead_mask = tf.keras.Input(\n",
    "      shape=(1, None, None), name=\"look_ahead_mask\")\n",
    "  padding_mask = tf.keras.Input(shape=(1, 1, None), name='padding_mask')\n",
    "\n",
    "  # 첫 번째 서브 레이어 : 멀티 헤드 어텐션 수행 (셀프 어텐션)\n",
    "  attention1 = MultiHeadAttention(\n",
    "      d_model, num_heads, name=\"attention_1\")(inputs={\n",
    "          'query': inputs,\n",
    "          'key': inputs,\n",
    "          'value': inputs,\n",
    "          'mask': look_ahead_mask\n",
    "      })\n",
    "\n",
    "  # 멀티 헤드 어텐션의 결과는 LayerNormalization이라는 훈련을 돕는 테크닉을 수행\n",
    "  attention1 = tf.keras.layers.LayerNormalization(\n",
    "      epsilon=1e-6)(attention1 + inputs)\n",
    "\n",
    "  # 두 번째 서브 레이어 : 마스크드 멀티 헤드 어텐션 수행 (인코더-디코더 어텐션)\n",
    "  attention2 = MultiHeadAttention(\n",
    "      d_model, num_heads, name=\"attention_2\")(inputs={\n",
    "          'query': attention1,\n",
    "          'key': enc_outputs,\n",
    "          'value': enc_outputs,\n",
    "          'mask': padding_mask\n",
    "      })\n",
    "\n",
    "  # 마스크드 멀티 헤드 어텐션의 결과는\n",
    "  # Dropout과 LayerNormalization이라는 훈련을 돕는 테크닉을 수행\n",
    "  attention2 = tf.keras.layers.Dropout(rate=dropout)(attention2)\n",
    "  attention2 = tf.keras.layers.LayerNormalization(\n",
    "      epsilon=1e-6)(attention2 + attention1)\n",
    "\n",
    "  # 세 번째 서브 레이어 : 2개의 완전연결층\n",
    "  outputs = tf.keras.layers.Dense(units=units, activation='relu')(attention2)\n",
    "  outputs = tf.keras.layers.Dense(units=d_model)(outputs)\n",
    "\n",
    "  # 완전연결층의 결과는 Dropout과 LayerNormalization 수행\n",
    "  outputs = tf.keras.layers.Dropout(rate=dropout)(outputs)\n",
    "  outputs = tf.keras.layers.LayerNormalization(\n",
    "      epsilon=1e-6)(outputs + attention2)\n",
    "\n",
    "  return tf.keras.Model(\n",
    "      inputs=[inputs, enc_outputs, look_ahead_mask, padding_mask],\n",
    "      outputs=outputs,\n",
    "      name=name)"
   ]
  },
  {
   "cell_type": "markdown",
   "id": "59e858de",
   "metadata": {},
   "source": [
    "인코더 층과 동일하게 __embedding layer__, __positional encoding__을 연결하고, 인코더 층(num_layers)을 쌓으면 트랜스포머의 디코더가 완성된다."
   ]
  },
  {
   "cell_type": "code",
   "execution_count": 28,
   "id": "f82c41c6",
   "metadata": {},
   "outputs": [],
   "source": [
    "def decoder(vocab_size,\n",
    "            num_layers,\n",
    "            units,\n",
    "            d_model,\n",
    "            num_heads,\n",
    "            dropout,\n",
    "            name='decoder'):\n",
    "  inputs = tf.keras.Input(shape=(None,), name='inputs')\n",
    "  enc_outputs = tf.keras.Input(shape=(None, d_model), name='encoder_outputs')\n",
    "  look_ahead_mask = tf.keras.Input(\n",
    "      shape=(1, None, None), name='look_ahead_mask')\n",
    "\n",
    "  # 패딩 마스크\n",
    "  padding_mask = tf.keras.Input(shape=(1, 1, None), name='padding_mask')\n",
    "  \n",
    "  # 임베딩 레이어\n",
    "  embeddings = tf.keras.layers.Embedding(vocab_size, d_model)(inputs)\n",
    "  embeddings *= tf.math.sqrt(tf.cast(d_model, tf.float32))\n",
    "\n",
    "  # 포지셔널 인코딩\n",
    "  embeddings = PositionalEncoding(vocab_size, d_model)(embeddings)\n",
    "\n",
    "  # Dropout이라는 훈련을 돕는 테크닉을 수행\n",
    "  outputs = tf.keras.layers.Dropout(rate=dropout)(embeddings)\n",
    "\n",
    "  for i in range(num_layers):\n",
    "    outputs = decoder_layer(\n",
    "        units=units,\n",
    "        d_model=d_model,\n",
    "        num_heads=num_heads,\n",
    "        dropout=dropout,\n",
    "        name='decoder_layer_{}'.format(i),\n",
    "    )(inputs=[outputs, enc_outputs, look_ahead_mask, padding_mask])\n",
    "\n",
    "  return tf.keras.Model(\n",
    "      inputs=[inputs, enc_outputs, look_ahead_mask, padding_mask],\n",
    "      outputs=outputs,\n",
    "      name=name)"
   ]
  },
  {
   "cell_type": "markdown",
   "id": "55f376a4",
   "metadata": {},
   "source": [
    "### transformer로 앞서 선언한 함수들 정의하기"
   ]
  },
  {
   "cell_type": "code",
   "execution_count": 29,
   "id": "15fd6786",
   "metadata": {},
   "outputs": [],
   "source": [
    "def transformer(vocab_size,\n",
    "                num_layers,\n",
    "                units,\n",
    "                d_model,\n",
    "                num_heads,\n",
    "                dropout,\n",
    "                name=\"transformer\"):\n",
    "  inputs = tf.keras.Input(shape=(None,), name=\"inputs\")\n",
    "  dec_inputs = tf.keras.Input(shape=(None,), name=\"dec_inputs\")\n",
    "\n",
    "  # 인코더에서 패딩을 위한 마스크\n",
    "  enc_padding_mask = tf.keras.layers.Lambda(\n",
    "      create_padding_mask, output_shape=(1, 1, None),\n",
    "      name='enc_padding_mask')(inputs)\n",
    "\n",
    "  # 디코더에서 미래의 토큰을 마스크 하기 위해서 사용한다.\n",
    "  # 내부적으로 패딩 마스크도 포함되어져 있다.\n",
    "  look_ahead_mask = tf.keras.layers.Lambda(\n",
    "      create_look_ahead_mask,\n",
    "      output_shape=(1, None, None),\n",
    "      name='look_ahead_mask')(dec_inputs)\n",
    "\n",
    "  # 두 번째 어텐션 블록에서 인코더의 벡터들을 마스킹\n",
    "  # 디코더에서 패딩을 위한 마스크\n",
    "  dec_padding_mask = tf.keras.layers.Lambda(\n",
    "      create_padding_mask, output_shape=(1, 1, None),\n",
    "      name='dec_padding_mask')(inputs)\n",
    "\n",
    "  # 인코더\n",
    "  enc_outputs = encoder(\n",
    "      vocab_size=vocab_size,\n",
    "      num_layers=num_layers,\n",
    "      units=units,\n",
    "      d_model=d_model,\n",
    "      num_heads=num_heads,\n",
    "      dropout=dropout,\n",
    "  )(inputs=[inputs, enc_padding_mask])\n",
    "\n",
    "  # 디코더\n",
    "  dec_outputs = decoder(\n",
    "      vocab_size=vocab_size,\n",
    "      num_layers=num_layers,\n",
    "      units=units,\n",
    "      d_model=d_model,\n",
    "      num_heads=num_heads,\n",
    "      dropout=dropout,\n",
    "  )(inputs=[dec_inputs, enc_outputs, look_ahead_mask, dec_padding_mask])\n",
    "\n",
    "  # 완전연결층\n",
    "  outputs = tf.keras.layers.Dense(units=vocab_size, name=\"outputs\")(dec_outputs)\n",
    "\n",
    "  return tf.keras.Model(inputs=[inputs, dec_inputs], outputs=outputs, name=name)"
   ]
  },
  {
   "cell_type": "markdown",
   "id": "f21f8f62",
   "metadata": {},
   "source": [
    "---"
   ]
  },
  {
   "cell_type": "markdown",
   "id": "8b81ff0d",
   "metadata": {},
   "source": [
    "### 모델 생성"
   ]
  },
  {
   "cell_type": "code",
   "execution_count": 30,
   "id": "618f14e4",
   "metadata": {},
   "outputs": [
    {
     "name": "stdout",
     "output_type": "stream",
     "text": [
      "Model: \"transformer\"\n",
      "__________________________________________________________________________________________________\n",
      "Layer (type)                    Output Shape         Param #     Connected to                     \n",
      "==================================================================================================\n",
      "inputs (InputLayer)             [(None, None)]       0                                            \n",
      "__________________________________________________________________________________________________\n",
      "dec_inputs (InputLayer)         [(None, None)]       0                                            \n",
      "__________________________________________________________________________________________________\n",
      "enc_padding_mask (Lambda)       (None, 1, 1, None)   0           inputs[0][0]                     \n",
      "__________________________________________________________________________________________________\n",
      "encoder (Functional)            (None, None, 256)    3138304     inputs[0][0]                     \n",
      "                                                                 enc_padding_mask[0][0]           \n",
      "__________________________________________________________________________________________________\n",
      "look_ahead_mask (Lambda)        (None, 1, None, None 0           dec_inputs[0][0]                 \n",
      "__________________________________________________________________________________________________\n",
      "dec_padding_mask (Lambda)       (None, 1, 1, None)   0           inputs[0][0]                     \n",
      "__________________________________________________________________________________________________\n",
      "decoder (Functional)            (None, None, 256)    3665664     dec_inputs[0][0]                 \n",
      "                                                                 encoder[0][0]                    \n",
      "                                                                 look_ahead_mask[0][0]            \n",
      "                                                                 dec_padding_mask[0][0]           \n",
      "__________________________________________________________________________________________________\n",
      "outputs (Dense)                 (None, None, 8141)   2092237     decoder[0][0]                    \n",
      "==================================================================================================\n",
      "Total params: 8,896,205\n",
      "Trainable params: 8,896,205\n",
      "Non-trainable params: 0\n",
      "__________________________________________________________________________________________________\n"
     ]
    }
   ],
   "source": [
    "tf.keras.backend.clear_session()\n",
    "\n",
    "# 하이퍼파라미터\n",
    "NUM_LAYERS = 2 # 인코더와 디코더의 층의 개수, 논문은 6\n",
    "D_MODEL = 256 # 인코더와 디코더 내부의 입, 출력의 고정 차원, 논문은 512\n",
    "NUM_HEADS = 8 # 멀티 헤드 어텐션에서의 헤드 수 \n",
    "UNITS = 512 # 피드 포워드 신경망의 은닉층의 크기\n",
    "DROPOUT = 0.1 # 드롭아웃의 비율\n",
    "\n",
    "model = transformer(\n",
    "    vocab_size=VOCAB_SIZE,\n",
    "    num_layers=NUM_LAYERS,\n",
    "    units=UNITS,\n",
    "    d_model=D_MODEL,\n",
    "    num_heads=NUM_HEADS,\n",
    "    dropout=DROPOUT)\n",
    "\n",
    "model.summary()"
   ]
  },
  {
   "cell_type": "markdown",
   "id": "401a3ac6",
   "metadata": {},
   "source": [
    "### Loss function"
   ]
  },
  {
   "cell_type": "code",
   "execution_count": 31,
   "id": "d5ecfdcf",
   "metadata": {},
   "outputs": [],
   "source": [
    "def loss_function(y_true, y_pred):\n",
    "  y_true = tf.reshape(y_true, shape=(-1, MAX_LENGTH - 1))\n",
    "  \n",
    "  loss = tf.keras.losses.SparseCategoricalCrossentropy(\n",
    "      from_logits=True, reduction='none')(y_true, y_pred)\n",
    "\n",
    "  mask = tf.cast(tf.not_equal(y_true, 0), tf.float32)\n",
    "  loss = tf.multiply(loss, mask)\n",
    "\n",
    "  return tf.reduce_mean(loss)"
   ]
  },
  {
   "cell_type": "markdown",
   "id": "16fe1763",
   "metadata": {},
   "source": [
    "### custom Learning rate"
   ]
  },
  {
   "cell_type": "markdown",
   "id": "464ca71f",
   "metadata": {},
   "source": [
    "학습 초기에 learning rate를 높였다가 train step이 진행되면서 낮추는 __custom learning rate scheduling__을 사용하자."
   ]
  },
  {
   "cell_type": "code",
   "execution_count": 32,
   "id": "f5cf96e2",
   "metadata": {},
   "outputs": [],
   "source": [
    "class CustomSchedule(tf.keras.optimizers.schedules.LearningRateSchedule):\n",
    "\n",
    "  def __init__(self, d_model, warmup_steps=4000):\n",
    "    super(CustomSchedule, self).__init__()\n",
    "\n",
    "    self.d_model = d_model\n",
    "    self.d_model = tf.cast(self.d_model, tf.float32)\n",
    "\n",
    "    self.warmup_steps = warmup_steps\n",
    "\n",
    "  def __call__(self, step):\n",
    "    arg1 = tf.math.rsqrt(step)\n",
    "    arg2 = step * (self.warmup_steps**-1.5)\n",
    "\n",
    "    return tf.math.rsqrt(self.d_model) * tf.math.minimum(arg1, arg2)"
   ]
  },
  {
   "cell_type": "code",
   "execution_count": 33,
   "id": "4dfa9986",
   "metadata": {},
   "outputs": [
    {
     "data": {
      "text/plain": [
       "Text(0.5, 0, 'Train Step')"
      ]
     },
     "execution_count": 33,
     "metadata": {},
     "output_type": "execute_result"
    },
    {
     "data": {
      "image/png": "[encoded data removed]",
      "text/plain": [
       "<Figure size 432x288 with 1 Axes>"
      ]
     },
     "metadata": {
      "needs_background": "light"
     },
     "output_type": "display_data"
    }
   ],
   "source": [
    "sample_learning_rate = CustomSchedule(d_model=128)\n",
    "\n",
    "plt.plot(sample_learning_rate(tf.range(200000, dtype=tf.float32)))\n",
    "plt.ylabel(\"Learning Rate\")\n",
    "plt.xlabel(\"Train Step\")"
   ]
  },
  {
   "cell_type": "markdown",
   "id": "111650aa",
   "metadata": {},
   "source": [
    "### 모델 컴파일"
   ]
  },
  {
   "cell_type": "code",
   "execution_count": 34,
   "id": "4d4bb3ea",
   "metadata": {},
   "outputs": [],
   "source": [
    "learning_rate = CustomSchedule(D_MODEL)\n",
    "\n",
    "optimizer = tf.keras.optimizers.Adam(\n",
    "    learning_rate, beta_1=0.9, beta_2=0.98, epsilon=1e-9)\n",
    "\n",
    "def accuracy(y_true, y_pred):\n",
    "  y_true = tf.reshape(y_true, shape=(-1, MAX_LENGTH - 1))\n",
    "  return tf.keras.metrics.sparse_categorical_accuracy(y_true, y_pred)\n",
    "\n",
    "model.compile(optimizer=optimizer, loss=loss_function, metrics=[accuracy])"
   ]
  },
  {
   "cell_type": "markdown",
   "id": "41dc0081",
   "metadata": {},
   "source": [
    "### 훈련하기"
   ]
  },
  {
   "cell_type": "code",
   "execution_count": 35,
   "id": "b219fa5c",
   "metadata": {},
   "outputs": [
    {
     "name": "stdout",
     "output_type": "stream",
     "text": [
      "Epoch 1/50\n",
      "168/168 [==============================] - 11s 30ms/step - loss: 4.8373 - accuracy: 0.0695\n",
      "Epoch 2/50\n",
      "168/168 [==============================] - 5s 30ms/step - loss: 3.9629 - accuracy: 0.1663\n",
      "Epoch 3/50\n",
      "168/168 [==============================] - 5s 30ms/step - loss: 3.3228 - accuracy: 0.1783\n",
      "Epoch 4/50\n",
      "168/168 [==============================] - 5s 29ms/step - loss: 3.0381 - accuracy: 0.1879\n",
      "Epoch 5/50\n",
      "168/168 [==============================] - 5s 30ms/step - loss: 2.8501 - accuracy: 0.1984\n",
      "Epoch 6/50\n",
      "168/168 [==============================] - 5s 30ms/step - loss: 2.6670 - accuracy: 0.2104\n",
      "Epoch 7/50\n",
      "168/168 [==============================] - 5s 30ms/step - loss: 2.4671 - accuracy: 0.2294\n",
      "Epoch 8/50\n",
      "168/168 [==============================] - 5s 30ms/step - loss: 2.2474 - accuracy: 0.2525\n",
      "Epoch 9/50\n",
      "168/168 [==============================] - 5s 30ms/step - loss: 2.0065 - accuracy: 0.2790\n",
      "Epoch 10/50\n",
      "168/168 [==============================] - 5s 30ms/step - loss: 1.7514 - accuracy: 0.3089\n",
      "Epoch 11/50\n",
      "168/168 [==============================] - 5s 30ms/step - loss: 1.4887 - accuracy: 0.3411\n",
      "Epoch 12/50\n",
      "168/168 [==============================] - 5s 30ms/step - loss: 1.2300 - accuracy: 0.3745\n",
      "Epoch 13/50\n",
      "168/168 [==============================] - 5s 30ms/step - loss: 0.9814 - accuracy: 0.4103\n",
      "Epoch 14/50\n",
      "168/168 [==============================] - 5s 29ms/step - loss: 0.7570 - accuracy: 0.4444\n",
      "Epoch 15/50\n",
      "168/168 [==============================] - 5s 30ms/step - loss: 0.5681 - accuracy: 0.4753\n",
      "Epoch 16/50\n",
      "168/168 [==============================] - 5s 29ms/step - loss: 0.4124 - accuracy: 0.5023\n",
      "Epoch 17/50\n",
      "168/168 [==============================] - 5s 30ms/step - loss: 0.2953 - accuracy: 0.5249\n",
      "Epoch 18/50\n",
      "168/168 [==============================] - 5s 30ms/step - loss: 0.2153 - accuracy: 0.5376\n",
      "Epoch 19/50\n",
      "168/168 [==============================] - 5s 30ms/step - loss: 0.1661 - accuracy: 0.5465\n",
      "Epoch 20/50\n",
      "168/168 [==============================] - 5s 29ms/step - loss: 0.1392 - accuracy: 0.5509\n",
      "Epoch 21/50\n",
      "168/168 [==============================] - 5s 30ms/step - loss: 0.1244 - accuracy: 0.5530\n",
      "Epoch 22/50\n",
      "168/168 [==============================] - 5s 30ms/step - loss: 0.1170 - accuracy: 0.5541\n",
      "Epoch 23/50\n",
      "168/168 [==============================] - 5s 30ms/step - loss: 0.1110 - accuracy: 0.5543\n",
      "Epoch 24/50\n",
      "168/168 [==============================] - 5s 30ms/step - loss: 0.1099 - accuracy: 0.5538\n",
      "Epoch 25/50\n",
      "168/168 [==============================] - 5s 30ms/step - loss: 0.1001 - accuracy: 0.5569\n",
      "Epoch 26/50\n",
      "168/168 [==============================] - 5s 30ms/step - loss: 0.0886 - accuracy: 0.5589\n",
      "Epoch 27/50\n",
      "168/168 [==============================] - 5s 30ms/step - loss: 0.0778 - accuracy: 0.5618\n",
      "Epoch 28/50\n",
      "168/168 [==============================] - 5s 29ms/step - loss: 0.0682 - accuracy: 0.5643\n",
      "Epoch 29/50\n",
      "168/168 [==============================] - 5s 30ms/step - loss: 0.0643 - accuracy: 0.5653\n",
      "Epoch 30/50\n",
      "168/168 [==============================] - 5s 30ms/step - loss: 0.0588 - accuracy: 0.5666\n",
      "Epoch 31/50\n",
      "168/168 [==============================] - 5s 30ms/step - loss: 0.0527 - accuracy: 0.5683\n",
      "Epoch 32/50\n",
      "168/168 [==============================] - 5s 30ms/step - loss: 0.0502 - accuracy: 0.5686\n",
      "Epoch 33/50\n",
      "168/168 [==============================] - 5s 30ms/step - loss: 0.0433 - accuracy: 0.5702\n",
      "Epoch 34/50\n",
      "168/168 [==============================] - 5s 30ms/step - loss: 0.0413 - accuracy: 0.5711\n",
      "Epoch 35/50\n",
      "168/168 [==============================] - 5s 30ms/step - loss: 0.0404 - accuracy: 0.5714\n",
      "Epoch 36/50\n",
      "168/168 [==============================] - 5s 30ms/step - loss: 0.0364 - accuracy: 0.5722\n",
      "Epoch 37/50\n",
      "168/168 [==============================] - 5s 30ms/step - loss: 0.0330 - accuracy: 0.5732\n",
      "Epoch 38/50\n",
      "168/168 [==============================] - 5s 30ms/step - loss: 0.0328 - accuracy: 0.5733\n",
      "Epoch 39/50\n",
      "168/168 [==============================] - 5s 30ms/step - loss: 0.0316 - accuracy: 0.5735\n",
      "Epoch 40/50\n",
      "168/168 [==============================] - 5s 30ms/step - loss: 0.0296 - accuracy: 0.5738\n",
      "Epoch 41/50\n",
      "168/168 [==============================] - 5s 30ms/step - loss: 0.0270 - accuracy: 0.5745\n",
      "Epoch 42/50\n",
      "168/168 [==============================] - 5s 30ms/step - loss: 0.0275 - accuracy: 0.5745\n",
      "Epoch 43/50\n",
      "168/168 [==============================] - 5s 30ms/step - loss: 0.0249 - accuracy: 0.5750\n",
      "Epoch 44/50\n",
      "168/168 [==============================] - 5s 30ms/step - loss: 0.0247 - accuracy: 0.5754\n",
      "Epoch 45/50\n",
      "168/168 [==============================] - 5s 30ms/step - loss: 0.0230 - accuracy: 0.5755\n",
      "Epoch 46/50\n",
      "168/168 [==============================] - 5s 30ms/step - loss: 0.0226 - accuracy: 0.5757\n",
      "Epoch 47/50\n",
      "168/168 [==============================] - 5s 30ms/step - loss: 0.0222 - accuracy: 0.5758\n",
      "Epoch 48/50\n",
      "168/168 [==============================] - 5s 30ms/step - loss: 0.0206 - accuracy: 0.5762\n",
      "Epoch 49/50\n",
      "168/168 [==============================] - 5s 30ms/step - loss: 0.0183 - accuracy: 0.5764\n",
      "Epoch 50/50\n",
      "168/168 [==============================] - 5s 30ms/step - loss: 0.0192 - accuracy: 0.5766\n"
     ]
    }
   ],
   "source": [
    "EPOCHS = 50\n",
    "es = EarlyStopping(monitor='accuracy', patience=2, verbose=1)\n",
    "history = model.fit(dataset, epochs=EPOCHS, verbose=1, callbacks=[es])"
   ]
  },
  {
   "cell_type": "code",
   "execution_count": 36,
   "id": "03150f87",
   "metadata": {},
   "outputs": [
    {
     "data": {
      "image/png": "[encoded data removed]",
      "text/plain": [
       "<Figure size 432x288 with 1 Axes>"
      ]
     },
     "metadata": {
      "needs_background": "light"
     },
     "output_type": "display_data"
    }
   ],
   "source": [
    "plt.plot(history.history['loss'], label='loss')\n",
    "plt.plot(history.history['accuracy'], label='accuracy')\n",
    "plt.legend()\n",
    "plt.show()"
   ]
  },
  {
   "cell_type": "markdown",
   "id": "deb49455",
   "metadata": {},
   "source": [
    "# 5. 모델 평가하기"
   ]
  },
  {
   "cell_type": "markdown",
   "id": "d9168880",
   "metadata": {},
   "source": [
    "모델을 평가하기 위해 주어진 문장을 보고 예측을 하게 되는데 다음과 같은 과정을 거친다.   \n",
    "- 입력된 문장을 전처리를 거쳐 정수로 바꾸고 시작 토큰과 종료 토큰을 추가한다.\n",
    "- 마스킹을 계산한다.\n",
    "- 디코더는 입력 시퀀스를 받으면 다음 단어를 예측한다.\n",
    "- 예측한 단어를 입력 시퀀스에 추가하여 새로운 입력으로 사용한다.\n",
    "- `END_TOKEN`이 나오거나 최대 길이에 도달하면 멈춘다."
   ]
  },
  {
   "cell_type": "code",
   "execution_count": 37,
   "id": "38e5b269",
   "metadata": {},
   "outputs": [],
   "source": [
    "def decoder_inference(sentence):\n",
    "    sentence = preprocess_sentence(sentence)\n",
    "\n",
    "    # 토큰 추가\n",
    "    sentence = tf.expand_dims(\n",
    "        START_TOKEN + tokenizer.encode(sentence) + END_TOKEN, axis=0)\n",
    "\n",
    "    # 디코더의 예측한 출력 시퀀스를 저장하는 변수, 초기 값은 시작 토큰으로 저장\n",
    "    output_sequence = tf.expand_dims(START_TOKEN, 0)\n",
    "\n",
    "    # 디코더의 인퍼런스 단계\n",
    "    for i in range(MAX_LENGTH):\n",
    "        predictions = model(inputs=[sentence, output_sequence], training=False)\n",
    "        predictions = predictions[:, -1:, :]\n",
    "\n",
    "        # 현재 예측한 단어의 정수\n",
    "        predicted_id = tf.cast(tf.argmax(predictions, axis=-1), tf.int32)\n",
    "\n",
    "        # 종료 토큰이 나오면 반복문 종료\n",
    "        if tf.equal(predicted_id, END_TOKEN[0]):\n",
    "            break\n",
    "\n",
    "        # 예측한 단어들을 output_sequence에 추가하고 추가된 단어들은 다시 디코더의 입력으로 할당\n",
    "        output_sequence = tf.concat([output_sequence, predicted_id], axis=-1)\n",
    "\n",
    "    return tf.squeeze(output_sequence, axis=0)"
   ]
  },
  {
   "cell_type": "markdown",
   "id": "971e3d6e",
   "metadata": {},
   "source": [
    "`decoder_inference()`를 받아 대답을 얻는 함수"
   ]
  },
  {
   "cell_type": "code",
   "execution_count": 38,
   "id": "b2e8b1c4",
   "metadata": {},
   "outputs": [],
   "source": [
    "def sentence_generation(sentence):\n",
    "    # 입력 문장에 대해서 디코더를 동작 시켜 예측된 정수 시퀀스를 리턴받습니다.\n",
    "    prediction = decoder_inference(sentence)\n",
    "\n",
    "    # 정수 시퀀스를 다시 텍스트 시퀀스로 변환합니다.\n",
    "    predicted_sentence = tokenizer.decode(\n",
    "        [i for i in prediction if i < tokenizer.vocab_size])\n",
    "\n",
    "    print('입력 : {}'.format(sentence))\n",
    "    print('출력 : {}'.format(predicted_sentence))\n",
    "\n",
    "    return predicted_sentence"
   ]
  },
  {
   "cell_type": "code",
   "execution_count": 39,
   "id": "6a75b28c",
   "metadata": {},
   "outputs": [
    {
     "name": "stdout",
     "output_type": "stream",
     "text": [
      "입력 : 안녕하세요?\n",
      "출력 : 안녕하세요 .\n"
     ]
    },
    {
     "data": {
      "text/plain": [
       "'안녕하세요 .'"
      ]
     },
     "execution_count": 39,
     "metadata": {},
     "output_type": "execute_result"
    }
   ],
   "source": [
    "sentence_generation('안녕하세요?')"
   ]
  },
  {
   "cell_type": "code",
   "execution_count": 40,
   "id": "763a756b",
   "metadata": {},
   "outputs": [
    {
     "name": "stdout",
     "output_type": "stream",
     "text": [
      "입력 : 너도 감정이 있을까?\n",
      "출력 : 가만히 있어도 생각나는 거 아닐까요 .\n"
     ]
    },
    {
     "data": {
      "text/plain": [
       "'가만히 있어도 생각나는 거 아닐까요 .'"
      ]
     },
     "execution_count": 40,
     "metadata": {},
     "output_type": "execute_result"
    }
   ],
   "source": [
    "sentence_generation('너도 감정이 있을까?')"
   ]
  },
  {
   "cell_type": "code",
   "execution_count": 41,
   "id": "98912893",
   "metadata": {},
   "outputs": [
    {
     "name": "stdout",
     "output_type": "stream",
     "text": [
      "입력 : 삶이란 무엇일까?\n",
      "출력 : 지칠 때는 쉬어도 돼요 .\n"
     ]
    },
    {
     "data": {
      "text/plain": [
       "'지칠 때는 쉬어도 돼요 .'"
      ]
     },
     "execution_count": 41,
     "metadata": {},
     "output_type": "execute_result"
    }
   ],
   "source": [
    "sentence_generation('삶이란 무엇일까?')"
   ]
  },
  {
   "cell_type": "code",
   "execution_count": 42,
   "id": "64f35eb1",
   "metadata": {},
   "outputs": [
    {
     "name": "stdout",
     "output_type": "stream",
     "text": [
      "입력 : 취업할 수 있을까?\n",
      "출력 : 간절한 만큼 할 수 있을 거예요 .\n"
     ]
    },
    {
     "data": {
      "text/plain": [
       "'간절한 만큼 할 수 있을 거예요 .'"
      ]
     },
     "execution_count": 42,
     "metadata": {},
     "output_type": "execute_result"
    }
   ],
   "source": [
    "sentence_generation('취업할 수 있을까?')"
   ]
  },
  {
   "cell_type": "code",
   "execution_count": 43,
   "id": "b72c7301",
   "metadata": {},
   "outputs": [
    {
     "name": "stdout",
     "output_type": "stream",
     "text": [
      "입력 : 저녁 먹을 시간이야\n",
      "출력 : 맛 있는거 드세요 .\n"
     ]
    },
    {
     "data": {
      "text/plain": [
       "'맛 있는거 드세요 .'"
      ]
     },
     "execution_count": 43,
     "metadata": {},
     "output_type": "execute_result"
    }
   ],
   "source": [
    "sentence_generation('저녁 먹을 시간이야')"
   ]
  },
  {
   "cell_type": "code",
   "execution_count": 44,
   "id": "621d34b2",
   "metadata": {},
   "outputs": [
    {
     "name": "stdout",
     "output_type": "stream",
     "text": [
      "입력 : 헤어스타일 좀 바꿔볼까?\n",
      "출력 : 기분 전환해보세요 .\n"
     ]
    },
    {
     "data": {
      "text/plain": [
       "'기분 전환해보세요 .'"
      ]
     },
     "execution_count": 44,
     "metadata": {},
     "output_type": "execute_result"
    }
   ],
   "source": [
    "sentence_generation('헤어스타일 좀 바꿔볼까?')"
   ]
  },
  {
   "cell_type": "markdown",
   "id": "5db88c96",
   "metadata": {},
   "source": [
    "# 회고"
   ]
  },
  {
   "cell_type": "markdown",
   "id": "25ee10fb",
   "metadata": {},
   "source": [
    "- ~~패딩하는 과정에서 max_lenth를 짧게 정해주면 데이터셋이 없어지는 문제가 생겼다.~~ __해결했다.__    \n",
    "for문 안에 if문을 써야하는데 코드를 수정하면서 for문 밖에 선언하면서 생긴 버그였다. __버그찾기 어렵다!__\n",
    "- 그 전까지는 모델을 조금만 수정해도 결과물이 크게 바뀌어 수정을 팍팍 할 수 있었는데, 이번에 진행하면서 잘 짜여진 모델을 수정하려니 손을 대기 어려웠다. 데이터셋이 적은 척박한 환경이었는데, 결과물을 보면 추상적인 얘기도 잘 받아주고 있다. 수정한 부분은 딱히 없고 한국어 전처리와 train 단계에서 accuracy가 계속 늘어나는 추세를 보고 epoch를 50으로 잡았다. \n",
    "- 똑같은 코드를 갖고 데이터를 새롭게 학습할때마다 `accuracy`가 가끔 튈 때가 있다. 그래서 `earlystopping`이 epoch 50을 다 안돌고 멈춰 있을 때가 있다. 왜 이럴까?\n",
    "- 데이터셋의 padding을 추가하는 과정에서 `pre`로 앞 부분에 dummy data를 넣도록 추가했다. 하지만 결과물을 봤을때 뒷부분이 2번씩 나와서 다시 `post`로 바꿨다. transformer는 다른 NLP와 다르게 dummy 데이터를 앞에 추가하면 흐름이 이상해질까? 아니면 다른 버그때문에 생긴걸까?"
   ]
  },
  {
   "cell_type": "markdown",
   "id": "5621a8fd",
   "metadata": {},
   "source": [
    "# 후기"
   ]
  },
  {
   "cell_type": "markdown",
   "id": "7107f1de",
   "metadata": {},
   "source": [
    "transformer 모델이 갖고 있는 데이터 튜닝하는 방법을 이해하려고 시간을 많이 소비했다. cs231n lecture 10을 스터디하면서 NLP 부분에 대한 이해도가 많이 늘었다고 생각했는데, 아직도 갈길이 멀다. 그래도 하나하나 배워가는게 재미있다.   \n",
    "그 전까지는 NLP는 NLP만의 기술을 쓰고, CV는 CV만의 기술을 독자적으로 써서 서로 연관이 없을거라고 생각 했는데, cs231n과 익스 12번을 진행하면서 생각이 바뀌었다. 원하는 결과물에 따라 디테일한 부분은 다르지만 데이터의 흐름을 가져갈 때 비슷한 부분이 많이 있다. 예를들어서 저번 익스에 시계열을 통해 주식 가격을 예측하는 프로젝트를 진행했다. 이를 CV에서 응용해 시계열을 통해 image의 변화를 감지하는 방향으로 사용할 수 있다고 생각했다.   \n",
    "위에서 말한거처럼 transformer를 NLP에서만 쓰는게 아닌 CV에서도 사용할 수 있을거라고 생각했다. 그래서 예시를 찾다가 정리가 잘 되어있는 깃허브를 발견했는데, 다양한 연구가 활발하게 이루어지고 있음을 확인했다. 한쪽만 깊게 공부해야지 라는 생각보다 모델을 구축하고 데이터를 다루는 다양한 방법에 폭넓은 지식을 갖고있는게 중요하다고 느꼈다.   \n",
    "깃허브 링크는 여기를 참고하자. __[Awesome-tranformer-in-CV](https://github.com/Yutong-Zhou-cv/Awesome-Transformer-in-CV)__"
   ]
  }
 ],
 "metadata": {
  "kernelspec": {
   "display_name": "Python 3 (ipykernel)",
   "language": "python",
   "name": "python3"
  },
  "language_info": {
   "codemirror_mode": {
    "name": "ipython",
    "version": 3
   },
   "file_extension": ".py",
   "mimetype": "text/x-python",
   "name": "python",
   "nbconvert_exporter": "python",
   "pygments_lexer": "ipython3",
   "version": "3.9.7"
  }
 },
 "nbformat": 4,
 "nbformat_minor": 5
}
