{
 "cells": [
  {
   "cell_type": "markdown",
   "id": "e034efdc",
   "metadata": {},
   "source": [
    "# 8. 뉴스 요약 봇 만들기"
   ]
  },
  {
   "cell_type": "markdown",
   "id": "95b663c0",
   "metadata": {},
   "source": [
    "텍스트 요약의 핵심은 정보를 압축한 후에 정보 손실 발생이 최소화되어야한다. 요약 문장을 만들어 내는 방법은 크게 추출적 요약(Extractive Summarization), 추상적 요약(Abstactive Summarization) 두 가지 접근으로 나눌 수 있다."
   ]
  },
  {
   "cell_type": "markdown",
   "id": "b647a4b6",
   "metadata": {},
   "source": [
    "- 추출적 요약(Extractive Summarization)   \n",
    "원문의 문장들을 추출해서 요약하는 방식이다. 예를들어 10개의 문장으로 구성된 문단에서 핵심 문장 3개를 꺼내 요악문을 만드는 방식이다. 하지만 이들이 자연스럽지 않을 수 있다. 딥러닝보다 머신러닝 방식에 속하는 텍스트 랭크같은 알고리즘을 사용해서 이 방법을 사용한다. 예를들어 네이버 뉴스의 요약봇이 이에 해당한다."
   ]
  },
  {
   "cell_type": "markdown",
   "id": "c6f88805",
   "metadata": {},
   "source": [
    "- 추상적 요약(Abstacktive Summarization)   \n",
    "원문에서 새로운 문장을 생성해내는 방식이다. 자연어 생성(Natural Language Generation, NLG)의 영역이다. 문단에서 핵심문장을 판단하는 점에서 문장 분류 문제로 볼 수 있다.   \n",
    "RNN을 이용해서 전에 문장 만들기를 해봤는데 앞에 있는 정보보다 뒤로 갈수록 중요도가 올라가는 장기 의존성 문제 때문에 이를 사용하긴 어려워 보인다.   \n",
    "[구글 인공지능이 만든 해드라인 기사](https://zdnet.co.kr/view/?no=20160905114833&from=Mobile)를 보면 이런 문제를 해결했는데 추상적 요약이라 불리는 '시퀀스 투 시퀀스' 방식을 사용했다. "
   ]
  },
  {
   "cell_type": "markdown",
   "id": "2512e3a9",
   "metadata": {},
   "source": [
    "# seq2seq\n",
    "![](https://miro.medium.com/max/1360/1*Cu49wPEpWJPoI0a5AV9Q1Q.png)"
   ]
  },
  {
   "cell_type": "markdown",
   "id": "07d6ac9b",
   "metadata": {},
   "source": [
    "첫번째 RNN인 인코더를 문맥 정보를 갖고있는 컨텍스트 벡터로 변환하고 고정한다. 두번째 RNN 디코더부터 컨텍스트 벡터를 입력받아 한 단어씩 생성해 요약 문장을 완성하는 과정이다.   \n",
    "seq2seq를 구현할 때 바닐라 RNN이 아닌 LSTM을 사용해보자. 특징은 time step의 셀에 hidden state, cell state가 같이 전달한다.   \n",
    "seq2seq 구조에서 디코더는 시작 토큰 SOS가 입력되면 종료 토큰 EOS를 예측하는 순간까지 멈추지 않고 진행한다.    "
   ]
  },
  {
   "cell_type": "markdown",
   "id": "b9b2c8c0",
   "metadata": {},
   "source": [
    "![](https://wikidocs.net/images/page/22893/dotproductattention1_final.PNG)"
   ]
  },
  {
   "cell_type": "markdown",
   "id": "e3a5b144",
   "metadata": {},
   "source": [
    "seq2seq 인코더의 마지막 time step의 hidden state를 컨텍스트 벡터로 사용했다. 하지만 RNN 계열의 한계로 많은 정보가 손실된 상태이다. 그래서 __어텐션 메커니즘을__ 사용해서 인코더의 모든 step이 hidden state의 컨텍스트 벡터에 반영되도록 하자.   \n",
    "주의할점은 디코더의 스텝에 따라 인코더의 hidden state의 가중치 값이 달라진다. 기본적인 seq2seq 모델의 컨텍스트 벡터는 위치와 무관하게 한번 계산되면 고정값을 가진다."
   ]
  },
  {
   "cell_type": "markdown",
   "id": "653e04f6",
   "metadata": {},
   "source": [
    "# 데이터 준비하기"
   ]
  },
  {
   "cell_type": "markdown",
   "id": "e45231c9",
   "metadata": {},
   "source": [
    "Kaggle에 제공된 아마존 리뷰 데이터셋을 사용할 예정이다. 또한 NLTK의 stopwords를 사용할 것이다."
   ]
  },
  {
   "cell_type": "code",
   "execution_count": 1,
   "id": "8e68ece7",
   "metadata": {},
   "outputs": [
    {
     "name": "stderr",
     "output_type": "stream",
     "text": [
      "[nltk_data] Downloading package stopwords to /aiffel/nltk_data...\n",
      "[nltk_data]   Package stopwords is already up-to-date!\n"
     ]
    },
    {
     "name": "stdout",
     "output_type": "stream",
     "text": [
      "=3\n"
     ]
    }
   ],
   "source": [
    "import nltk\n",
    "nltk.download('stopwords')\n",
    "\n",
    "import numpy as np\n",
    "import pandas as pd\n",
    "import os\n",
    "import re\n",
    "import matplotlib.pyplot as plt\n",
    "from nltk.corpus import stopwords\n",
    "from bs4 import BeautifulSoup \n",
    "from tensorflow.keras.preprocessing.text import Tokenizer \n",
    "from tensorflow.keras.preprocessing.sequence import pad_sequences\n",
    "import urllib.request\n",
    "import warnings\n",
    "warnings.filterwarnings(\"ignore\", category=UserWarning, module='bs4')\n",
    "\n",
    "print('=3')"
   ]
  },
  {
   "cell_type": "code",
   "execution_count": 2,
   "id": "c91c0134",
   "metadata": {},
   "outputs": [
    {
     "name": "stdout",
     "output_type": "stream",
     "text": [
      "전체 샘플수 : 100000\n"
     ]
    }
   ],
   "source": [
    "# Reviews.csv의 총 568,454개중 10만개만 사용\n",
    "data = pd.read_csv(os.getenv(\"HOME\")+\"/aiffel/news_summarization/data/Reviews.csv\", nrows=100000)\n",
    "print('전체 샘플수 :', (len(data)))"
   ]
  },
  {
   "cell_type": "code",
   "execution_count": 3,
   "id": "e5d5485c",
   "metadata": {},
   "outputs": [
    {
     "data": {
      "text/html": [
       "<div>\n",
       "<style scoped>\n",
       "    .dataframe tbody tr th:only-of-type {\n",
       "        vertical-align: middle;\n",
       "    }\n",
       "\n",
       "    .dataframe tbody tr th {\n",
       "        vertical-align: top;\n",
       "    }\n",
       "\n",
       "    .dataframe thead th {\n",
       "        text-align: right;\n",
       "    }\n",
       "</style>\n",
       "<table border=\"1\" class=\"dataframe\">\n",
       "  <thead>\n",
       "    <tr style=\"text-align: right;\">\n",
       "      <th></th>\n",
       "      <th>Id</th>\n",
       "      <th>ProductId</th>\n",
       "      <th>UserId</th>\n",
       "      <th>ProfileName</th>\n",
       "      <th>HelpfulnessNumerator</th>\n",
       "      <th>HelpfulnessDenominator</th>\n",
       "      <th>Score</th>\n",
       "      <th>Time</th>\n",
       "      <th>Summary</th>\n",
       "      <th>Text</th>\n",
       "    </tr>\n",
       "  </thead>\n",
       "  <tbody>\n",
       "    <tr>\n",
       "      <th>0</th>\n",
       "      <td>1</td>\n",
       "      <td>B001E4KFG0</td>\n",
       "      <td>A3SGXH7AUHU8GW</td>\n",
       "      <td>delmartian</td>\n",
       "      <td>1</td>\n",
       "      <td>1</td>\n",
       "      <td>5</td>\n",
       "      <td>1303862400</td>\n",
       "      <td>Good Quality Dog Food</td>\n",
       "      <td>I have bought several of the Vitality canned d...</td>\n",
       "    </tr>\n",
       "    <tr>\n",
       "      <th>1</th>\n",
       "      <td>2</td>\n",
       "      <td>B00813GRG4</td>\n",
       "      <td>A1D87F6ZCVE5NK</td>\n",
       "      <td>dll pa</td>\n",
       "      <td>0</td>\n",
       "      <td>0</td>\n",
       "      <td>1</td>\n",
       "      <td>1346976000</td>\n",
       "      <td>Not as Advertised</td>\n",
       "      <td>Product arrived labeled as Jumbo Salted Peanut...</td>\n",
       "    </tr>\n",
       "    <tr>\n",
       "      <th>2</th>\n",
       "      <td>3</td>\n",
       "      <td>B000LQOCH0</td>\n",
       "      <td>ABXLMWJIXXAIN</td>\n",
       "      <td>Natalia Corres \"Natalia Corres\"</td>\n",
       "      <td>1</td>\n",
       "      <td>1</td>\n",
       "      <td>4</td>\n",
       "      <td>1219017600</td>\n",
       "      <td>\"Delight\" says it all</td>\n",
       "      <td>This is a confection that has been around a fe...</td>\n",
       "    </tr>\n",
       "    <tr>\n",
       "      <th>3</th>\n",
       "      <td>4</td>\n",
       "      <td>B000UA0QIQ</td>\n",
       "      <td>A395BORC6FGVXV</td>\n",
       "      <td>Karl</td>\n",
       "      <td>3</td>\n",
       "      <td>3</td>\n",
       "      <td>2</td>\n",
       "      <td>1307923200</td>\n",
       "      <td>Cough Medicine</td>\n",
       "      <td>If you are looking for the secret ingredient i...</td>\n",
       "    </tr>\n",
       "    <tr>\n",
       "      <th>4</th>\n",
       "      <td>5</td>\n",
       "      <td>B006K2ZZ7K</td>\n",
       "      <td>A1UQRSCLF8GW1T</td>\n",
       "      <td>Michael D. Bigham \"M. Wassir\"</td>\n",
       "      <td>0</td>\n",
       "      <td>0</td>\n",
       "      <td>5</td>\n",
       "      <td>1350777600</td>\n",
       "      <td>Great taffy</td>\n",
       "      <td>Great taffy at a great price.  There was a wid...</td>\n",
       "    </tr>\n",
       "  </tbody>\n",
       "</table>\n",
       "</div>"
      ],
      "text/plain": [
       "   Id   ProductId          UserId                      ProfileName  \\\n",
       "0   1  B001E4KFG0  A3SGXH7AUHU8GW                       delmartian   \n",
       "1   2  B00813GRG4  A1D87F6ZCVE5NK                           dll pa   \n",
       "2   3  B000LQOCH0   ABXLMWJIXXAIN  Natalia Corres \"Natalia Corres\"   \n",
       "3   4  B000UA0QIQ  A395BORC6FGVXV                             Karl   \n",
       "4   5  B006K2ZZ7K  A1UQRSCLF8GW1T    Michael D. Bigham \"M. Wassir\"   \n",
       "\n",
       "   HelpfulnessNumerator  HelpfulnessDenominator  Score        Time  \\\n",
       "0                     1                       1      5  1303862400   \n",
       "1                     0                       0      1  1346976000   \n",
       "2                     1                       1      4  1219017600   \n",
       "3                     3                       3      2  1307923200   \n",
       "4                     0                       0      5  1350777600   \n",
       "\n",
       "                 Summary                                               Text  \n",
       "0  Good Quality Dog Food  I have bought several of the Vitality canned d...  \n",
       "1      Not as Advertised  Product arrived labeled as Jumbo Salted Peanut...  \n",
       "2  \"Delight\" says it all  This is a confection that has been around a fe...  \n",
       "3         Cough Medicine  If you are looking for the secret ingredient i...  \n",
       "4            Great taffy  Great taffy at a great price.  There was a wid...  "
      ]
     },
     "execution_count": 3,
     "metadata": {},
     "output_type": "execute_result"
    }
   ],
   "source": [
    "data.head()"
   ]
  },
  {
   "cell_type": "code",
   "execution_count": 4,
   "id": "8a230a0c",
   "metadata": {},
   "outputs": [
    {
     "data": {
      "text/html": [
       "<div>\n",
       "<style scoped>\n",
       "    .dataframe tbody tr th:only-of-type {\n",
       "        vertical-align: middle;\n",
       "    }\n",
       "\n",
       "    .dataframe tbody tr th {\n",
       "        vertical-align: top;\n",
       "    }\n",
       "\n",
       "    .dataframe thead th {\n",
       "        text-align: right;\n",
       "    }\n",
       "</style>\n",
       "<table border=\"1\" class=\"dataframe\">\n",
       "  <thead>\n",
       "    <tr style=\"text-align: right;\">\n",
       "      <th></th>\n",
       "      <th>Text</th>\n",
       "      <th>Summary</th>\n",
       "    </tr>\n",
       "  </thead>\n",
       "  <tbody>\n",
       "    <tr>\n",
       "      <th>32179</th>\n",
       "      <td>Pops well with air popper. Decent flavor (thou...</td>\n",
       "      <td>Solid choice for popcorn</td>\n",
       "    </tr>\n",
       "    <tr>\n",
       "      <th>10883</th>\n",
       "      <td>So the hottest-hot-off-the-press recommendatio...</td>\n",
       "      <td>wow  really</td>\n",
       "    </tr>\n",
       "    <tr>\n",
       "      <th>44265</th>\n",
       "      <td>When I was opening the boxes I noticed there w...</td>\n",
       "      <td>Not All French Roast KCups</td>\n",
       "    </tr>\n",
       "    <tr>\n",
       "      <th>36653</th>\n",
       "      <td>I am currently on a No Carb diet and bought th...</td>\n",
       "      <td>GREAT AFTER A FEW RINSES!</td>\n",
       "    </tr>\n",
       "    <tr>\n",
       "      <th>82951</th>\n",
       "      <td>San Francisco Bay Coffee OneCup for Keurig K-C...</td>\n",
       "      <td>San Francisco Bay Coffee for Keurig Brewer</td>\n",
       "    </tr>\n",
       "    <tr>\n",
       "      <th>60228</th>\n",
       "      <td>I enjoy these wintergreen flavored lifesavers....</td>\n",
       "      <td>Minty fresh breath</td>\n",
       "    </tr>\n",
       "    <tr>\n",
       "      <th>48940</th>\n",
       "      <td>I've been using this product for the last thre...</td>\n",
       "      <td>Amazing Seeds</td>\n",
       "    </tr>\n",
       "    <tr>\n",
       "      <th>45180</th>\n",
       "      <td>&lt;a href=\"http://www.amazon.com/gp/product/B000...</td>\n",
       "      <td>a hope full wish</td>\n",
       "    </tr>\n",
       "    <tr>\n",
       "      <th>1676</th>\n",
       "      <td>Great low cal snack... satisfies the crunchy, ...</td>\n",
       "      <td>Love these!</td>\n",
       "    </tr>\n",
       "    <tr>\n",
       "      <th>19362</th>\n",
       "      <td>Bought a small SmartBones chicken dog chew for...</td>\n",
       "      <td>Made in China!!!</td>\n",
       "    </tr>\n",
       "    <tr>\n",
       "      <th>34514</th>\n",
       "      <td>I really enjoyed this coffee. I am new to the ...</td>\n",
       "      <td>Caribou Coffee Is Amazing</td>\n",
       "    </tr>\n",
       "    <tr>\n",
       "      <th>90368</th>\n",
       "      <td>TASTES KIND OF CHALKY AND LEAVES A VERY FUNNY ...</td>\n",
       "      <td>HORRIBLE AFTERTASTE</td>\n",
       "    </tr>\n",
       "    <tr>\n",
       "      <th>74463</th>\n",
       "      <td>I have always loved these chips and buy them o...</td>\n",
       "      <td>Disappointed</td>\n",
       "    </tr>\n",
       "    <tr>\n",
       "      <th>35502</th>\n",
       "      <td>This seasoning is great with ground Turkey (or...</td>\n",
       "      <td>Spicy and loaded with Sabor</td>\n",
       "    </tr>\n",
       "    <tr>\n",
       "      <th>37652</th>\n",
       "      <td>bought these at costco for a few cents less an...</td>\n",
       "      <td>very tasty</td>\n",
       "    </tr>\n",
       "  </tbody>\n",
       "</table>\n",
       "</div>"
      ],
      "text/plain": [
       "                                                    Text  \\\n",
       "32179  Pops well with air popper. Decent flavor (thou...   \n",
       "10883  So the hottest-hot-off-the-press recommendatio...   \n",
       "44265  When I was opening the boxes I noticed there w...   \n",
       "36653  I am currently on a No Carb diet and bought th...   \n",
       "82951  San Francisco Bay Coffee OneCup for Keurig K-C...   \n",
       "60228  I enjoy these wintergreen flavored lifesavers....   \n",
       "48940  I've been using this product for the last thre...   \n",
       "45180  <a href=\"http://www.amazon.com/gp/product/B000...   \n",
       "1676   Great low cal snack... satisfies the crunchy, ...   \n",
       "19362  Bought a small SmartBones chicken dog chew for...   \n",
       "34514  I really enjoyed this coffee. I am new to the ...   \n",
       "90368  TASTES KIND OF CHALKY AND LEAVES A VERY FUNNY ...   \n",
       "74463  I have always loved these chips and buy them o...   \n",
       "35502  This seasoning is great with ground Turkey (or...   \n",
       "37652  bought these at costco for a few cents less an...   \n",
       "\n",
       "                                          Summary  \n",
       "32179                    Solid choice for popcorn  \n",
       "10883                                 wow  really  \n",
       "44265                  Not All French Roast KCups  \n",
       "36653                   GREAT AFTER A FEW RINSES!  \n",
       "82951  San Francisco Bay Coffee for Keurig Brewer  \n",
       "60228                          Minty fresh breath  \n",
       "48940                               Amazing Seeds  \n",
       "45180                            a hope full wish  \n",
       "1676                                  Love these!  \n",
       "19362                            Made in China!!!  \n",
       "34514                   Caribou Coffee Is Amazing  \n",
       "90368                         HORRIBLE AFTERTASTE  \n",
       "74463                                Disappointed  \n",
       "35502                 Spicy and loaded with Sabor  \n",
       "37652                                  very tasty  "
      ]
     },
     "execution_count": 4,
     "metadata": {},
     "output_type": "execute_result"
    }
   ],
   "source": [
    "data = data[['Text','Summary']]\n",
    "data.head()\n",
    "\n",
    "#랜덤한 15개 샘플 출력\n",
    "data.sample(15)"
   ]
  },
  {
   "cell_type": "markdown",
   "id": "6d736428",
   "metadata": {},
   "source": [
    "# 데이터 전처리하기"
   ]
  },
  {
   "cell_type": "markdown",
   "id": "2e8106fa",
   "metadata": {},
   "source": [
    "## 데이터 정리"
   ]
  },
  {
   "cell_type": "code",
   "execution_count": 5,
   "id": "ac00fdeb",
   "metadata": {},
   "outputs": [
    {
     "name": "stdout",
     "output_type": "stream",
     "text": [
      "Text 열에서 중복을 배제한 유일한 샘플의 수 : 88426\n",
      "Summary 열에서 중복을 배제한 유일한 샘플의 수 : 72348\n"
     ]
    }
   ],
   "source": [
    "print('Text 열에서 중복을 배제한 유일한 샘플의 수 :', data['Text'].nunique())\n",
    "print('Summary 열에서 중복을 배제한 유일한 샘플의 수 :', data['Summary'].nunique())"
   ]
  },
  {
   "cell_type": "markdown",
   "id": "69a5221c",
   "metadata": {},
   "source": [
    "중복을 제외하면 Text는 88426개 Summary는 72348개가 나온다.   \n",
    "`drop_duplicates()`를 사용해서 중복 샘플 제거하기, `dropna()`를 사용해서 Null 제거하기"
   ]
  },
  {
   "cell_type": "code",
   "execution_count": 6,
   "id": "1ff42d8e",
   "metadata": {},
   "outputs": [
    {
     "name": "stdout",
     "output_type": "stream",
     "text": [
      "전체 샘플수 : 88426\n"
     ]
    }
   ],
   "source": [
    "# inplace=True 를 설정하면 DataFrame 타입 값을 return 하지 않고 data 내부를 직접적으로 바꾼다\n",
    "data.drop_duplicates(subset = ['Text'], inplace=True)\n",
    "print('전체 샘플수 :', (len(data)))"
   ]
  },
  {
   "cell_type": "code",
   "execution_count": 7,
   "id": "b190f6e1",
   "metadata": {},
   "outputs": [
    {
     "name": "stdout",
     "output_type": "stream",
     "text": [
      "Text       0\n",
      "Summary    1\n",
      "dtype: int64\n"
     ]
    }
   ],
   "source": [
    "# null값 확인하기\n",
    "print(data.isnull().sum())"
   ]
  },
  {
   "cell_type": "code",
   "execution_count": 8,
   "id": "20034ac2",
   "metadata": {},
   "outputs": [
    {
     "name": "stdout",
     "output_type": "stream",
     "text": [
      "전체 샘플수 : 88425\n"
     ]
    }
   ],
   "source": [
    "data.dropna(axis=0, inplace=True)\n",
    "print('전체 샘플수 :', (len(data)))"
   ]
  },
  {
   "cell_type": "markdown",
   "id": "f4e396e7",
   "metadata": {},
   "source": [
    "## 텍스트 정규화(text normalization)   \n",
    "- 같은 의미인데 다른 단어 정규화   \n",
    "사전은 [정규화 사전 출저](https://stackoverflow.com/questions/19790188/expanding-english-language-contractions-in-python) 참고\n",
    "- 자주 등장하지만 도움이 되지 않는 불용어 제거"
   ]
  },
  {
   "cell_type": "code",
   "execution_count": 9,
   "id": "1ebb5457",
   "metadata": {},
   "outputs": [
    {
     "name": "stdout",
     "output_type": "stream",
     "text": [
      "정규화 사전의 수:  120\n"
     ]
    }
   ],
   "source": [
    "contractions = {\"ain't\": \"is not\", \"aren't\": \"are not\",\"can't\": \"cannot\", \"'cause\": \"because\", \"could've\": \"could have\", \"couldn't\": \"could not\",\n",
    "                           \"didn't\": \"did not\",  \"doesn't\": \"does not\", \"don't\": \"do not\", \"hadn't\": \"had not\", \"hasn't\": \"has not\", \"haven't\": \"have not\",\n",
    "                           \"he'd\": \"he would\",\"he'll\": \"he will\", \"he's\": \"he is\", \"how'd\": \"how did\", \"how'd'y\": \"how do you\", \"how'll\": \"how will\", \"how's\": \"how is\",\n",
    "                           \"I'd\": \"I would\", \"I'd've\": \"I would have\", \"I'll\": \"I will\", \"I'll've\": \"I will have\",\"I'm\": \"I am\", \"I've\": \"I have\", \"i'd\": \"i would\",\n",
    "                           \"i'd've\": \"i would have\", \"i'll\": \"i will\",  \"i'll've\": \"i will have\",\"i'm\": \"i am\", \"i've\": \"i have\", \"isn't\": \"is not\", \"it'd\": \"it would\",\n",
    "                           \"it'd've\": \"it would have\", \"it'll\": \"it will\", \"it'll've\": \"it will have\",\"it's\": \"it is\", \"let's\": \"let us\", \"ma'am\": \"madam\",\n",
    "                           \"mayn't\": \"may not\", \"might've\": \"might have\",\"mightn't\": \"might not\",\"mightn't've\": \"might not have\", \"must've\": \"must have\",\n",
    "                           \"mustn't\": \"must not\", \"mustn't've\": \"must not have\", \"needn't\": \"need not\", \"needn't've\": \"need not have\",\"o'clock\": \"of the clock\",\n",
    "                           \"oughtn't\": \"ought not\", \"oughtn't've\": \"ought not have\", \"shan't\": \"shall not\", \"sha'n't\": \"shall not\", \"shan't've\": \"shall not have\",\n",
    "                           \"she'd\": \"she would\", \"she'd've\": \"she would have\", \"she'll\": \"she will\", \"she'll've\": \"she will have\", \"she's\": \"she is\",\n",
    "                           \"should've\": \"should have\", \"shouldn't\": \"should not\", \"shouldn't've\": \"should not have\", \"so've\": \"so have\",\"so's\": \"so as\",\n",
    "                           \"this's\": \"this is\",\"that'd\": \"that would\", \"that'd've\": \"that would have\", \"that's\": \"that is\", \"there'd\": \"there would\",\n",
    "                           \"there'd've\": \"there would have\", \"there's\": \"there is\", \"here's\": \"here is\",\"they'd\": \"they would\", \"they'd've\": \"they would have\",\n",
    "                           \"they'll\": \"they will\", \"they'll've\": \"they will have\", \"they're\": \"they are\", \"they've\": \"they have\", \"to've\": \"to have\",\n",
    "                           \"wasn't\": \"was not\", \"we'd\": \"we would\", \"we'd've\": \"we would have\", \"we'll\": \"we will\", \"we'll've\": \"we will have\", \"we're\": \"we are\",\n",
    "                           \"we've\": \"we have\", \"weren't\": \"were not\", \"what'll\": \"what will\", \"what'll've\": \"what will have\", \"what're\": \"what are\",\n",
    "                           \"what's\": \"what is\", \"what've\": \"what have\", \"when's\": \"when is\", \"when've\": \"when have\", \"where'd\": \"where did\", \"where's\": \"where is\",\n",
    "                           \"where've\": \"where have\", \"who'll\": \"who will\", \"who'll've\": \"who will have\", \"who's\": \"who is\", \"who've\": \"who have\",\n",
    "                           \"why's\": \"why is\", \"why've\": \"why have\", \"will've\": \"will have\", \"won't\": \"will not\", \"won't've\": \"will not have\",\n",
    "                           \"would've\": \"would have\", \"wouldn't\": \"would not\", \"wouldn't've\": \"would not have\", \"y'all\": \"you all\",\n",
    "                           \"y'all'd\": \"you all would\",\"y'all'd've\": \"you all would have\",\"y'all're\": \"you all are\",\"y'all've\": \"you all have\",\n",
    "                           \"you'd\": \"you would\", \"you'd've\": \"you would have\", \"you'll\": \"you will\", \"you'll've\": \"you will have\",\n",
    "                           \"you're\": \"you are\", \"you've\": \"you have\"}\n",
    "\n",
    "print(\"정규화 사전의 수: \", len(contractions))"
   ]
  },
  {
   "cell_type": "markdown",
   "id": "fd4ec30b",
   "metadata": {},
   "source": [
    "print('불용어 개수 :', len(stopwords.words('english') ))\n",
    "print(stopwords.words('english'))"
   ]
  },
  {
   "cell_type": "code",
   "execution_count": 10,
   "id": "04bd29be",
   "metadata": {},
   "outputs": [
    {
     "name": "stdout",
     "output_type": "stream",
     "text": [
      "=3\n"
     ]
    }
   ],
   "source": [
    "# 데이터 전처리 함수\n",
    "def preprocess_sentence(sentence, remove_stopwords=True):\n",
    "    sentence = sentence.lower() # 텍스트 소문자화\n",
    "    sentence = BeautifulSoup(sentence, \"lxml\").text # <br />, <a href = ...> 등의 html 태그 제거\n",
    "    sentence = re.sub(r'\\([^)]*\\)', '', sentence) # 괄호로 닫힌 문자열 (...) 제거 Ex) my husband (and myself!) for => my husband for\n",
    "    sentence = re.sub('\"','', sentence) # 쌍따옴표 \" 제거\n",
    "    sentence = ' '.join([contractions[t] if t in contractions else t for t in sentence.split(\" \")]) # 약어 정규화\n",
    "    sentence = re.sub(r\"'s\\b\",\"\", sentence) # 소유격 제거. Ex) roland's -> roland\n",
    "    sentence = re.sub(\"[^a-zA-Z]\", \" \", sentence) # 영어 외 문자(숫자, 특수문자 등) 공백으로 변환\n",
    "    sentence = re.sub('[m]{2,}', 'mm', sentence) # m이 3개 이상이면 2개로 변경. Ex) ummmmmmm yeah -> umm yeah\n",
    "    \n",
    "    # 불용어 제거 (Text)\n",
    "    if remove_stopwords:\n",
    "        tokens = ' '.join(word for word in sentence.split() if not word in stopwords.words('english') if len(word) > 1)\n",
    "    # 불용어 미제거 (Summary)\n",
    "    else:\n",
    "        tokens = ' '.join(word for word in sentence.split() if len(word) > 1)\n",
    "    return tokens\n",
    "print('=3')"
   ]
  },
  {
   "cell_type": "code",
   "execution_count": 11,
   "id": "bfaa0a86",
   "metadata": {},
   "outputs": [
    {
     "name": "stdout",
     "output_type": "stream",
     "text": [
      "text:  everything bought great infact ordered twice third ordered wasfor mother father\n",
      "summary: great way to start the day\n"
     ]
    }
   ],
   "source": [
    "# 임의의 예시를 만들어서 확인해보기\n",
    "temp_text = 'Everything I bought was great, infact I ordered twice and the third ordered was<br />for my mother and father.'\n",
    "temp_summary = 'Great way to start (or finish) the day!!!'\n",
    "\n",
    "print(\"text: \", preprocess_sentence(temp_text))\n",
    "print(\"summary:\", preprocess_sentence(temp_summary, False))  # 불용어를 제거하지 않습니다."
   ]
  },
  {
   "cell_type": "code",
   "execution_count": 12,
   "id": "8af26444",
   "metadata": {},
   "outputs": [
    {
     "name": "stdout",
     "output_type": "stream",
     "text": [
      "Text 전처리 후 결과:  ['bought several vitality canned dog food products found good quality product looks like stew processed meat smells better labrador finicky appreciates product better', 'product arrived labeled jumbo salted peanuts peanuts actually small sized unsalted sure error vendor intended represent product jumbo', 'confection around centuries light pillowy citrus gelatin nuts case filberts cut tiny squares liberally coated powdered sugar tiny mouthful heaven chewy flavorful highly recommend yummy treat familiar story lewis lion witch wardrobe treat seduces edmund selling brother sisters witch', 'looking secret ingredient robitussin believe found got addition root beer extract ordered made cherry soda flavor medicinal', 'great taffy great price wide assortment yummy taffy delivery quick taffy lover deal']\n"
     ]
    }
   ],
   "source": [
    "clean_text = []\n",
    "# 전체 Text 데이터에 대한 전처리 : 10분 이상 시간이 걸릴 수 있다\n",
    "for s in data['Text']:\n",
    "    clean_text.append(preprocess_sentence(s))\n",
    "\n",
    "# 전처리 후 출력\n",
    "print(\"Text 전처리 후 결과: \", clean_text[:5])"
   ]
  },
  {
   "cell_type": "markdown",
   "id": "82ffe3d8",
   "metadata": {},
   "source": [
    "Summary에 전처리를 할때는 불용어 제거를 하지 않는다는 뜻에서 두번째 인자로 False 넣어주기"
   ]
  },
  {
   "cell_type": "code",
   "execution_count": 13,
   "id": "42f6d18b",
   "metadata": {},
   "outputs": [
    {
     "name": "stdout",
     "output_type": "stream",
     "text": [
      "Summary 전처리 후 결과:  ['good quality dog food', 'not as advertised', 'delight says it all', 'cough medicine', 'great taffy']\n"
     ]
    }
   ],
   "source": [
    "clean_summary = []\n",
    "# 전체 Summary 데이터에 대한 전처리 : 5분 이상 시간이 걸릴 수 있습니다. \n",
    "for s in data['Summary']:\n",
    "    clean_summary.append(preprocess_sentence(s, False))\n",
    "\n",
    "print(\"Summary 전처리 후 결과: \", clean_summary[:5])"
   ]
  },
  {
   "cell_type": "code",
   "execution_count": 14,
   "id": "20fd1974",
   "metadata": {},
   "outputs": [
    {
     "name": "stdout",
     "output_type": "stream",
     "text": [
      "=3\n"
     ]
    }
   ],
   "source": [
    "# 전처리하고 empty 샘플들 확인 후 Null 값 넣기\n",
    "data['Text'] = clean_text\n",
    "data['Summary'] = clean_summary\n",
    "\n",
    "# 빈 값을 Null 값으로 변환\n",
    "data.replace('', np.nan, inplace=True)\n",
    "print('=3')"
   ]
  },
  {
   "cell_type": "code",
   "execution_count": 15,
   "id": "4584f8cd",
   "metadata": {},
   "outputs": [
    {
     "data": {
      "text/plain": [
       "Text        0\n",
       "Summary    70\n",
       "dtype: int64"
      ]
     },
     "execution_count": 15,
     "metadata": {},
     "output_type": "execute_result"
    }
   ],
   "source": [
    "data.isnull().sum()"
   ]
  },
  {
   "cell_type": "code",
   "execution_count": 16,
   "id": "a5b5cb6a",
   "metadata": {},
   "outputs": [
    {
     "name": "stdout",
     "output_type": "stream",
     "text": [
      "전체 샘플수 : 88355\n"
     ]
    }
   ],
   "source": [
    "# 생긴 Null값들 제거\n",
    "data.dropna(axis=0, inplace=True)\n",
    "print('전체 샘플수 :', (len(data)))"
   ]
  },
  {
   "cell_type": "markdown",
   "id": "c95663a2",
   "metadata": {},
   "source": [
    "## 샘플의 최대 길이 정하기"
   ]
  },
  {
   "cell_type": "code",
   "execution_count": 17,
   "id": "c2ac9a3a",
   "metadata": {},
   "outputs": [
    {
     "name": "stdout",
     "output_type": "stream",
     "text": [
      "텍스트의 최소 길이 : 2\n",
      "텍스트의 최대 길이 : 1235\n",
      "텍스트의 평균 길이 : 38.792428272310566\n",
      "요약의 최소 길이 : 1\n",
      "요약의 최대 길이 : 28\n",
      "요약의 평균 길이 : 4.010729443721352\n"
     ]
    },
    {
     "data": {
      "image/png": "[encoded data removed]",
      "text/plain": [
       "<Figure size 432x288 with 2 Axes>"
      ]
     },
     "metadata": {
      "needs_background": "light"
     },
     "output_type": "display_data"
    },
    {
     "data": {
      "image/png": "[encoded data removed]",
      "text/plain": [
       "<Figure size 432x288 with 1 Axes>"
      ]
     },
     "metadata": {
      "needs_background": "light"
     },
     "output_type": "display_data"
    },
    {
     "data": {
      "image/png": "[encoded data removed]",
      "text/plain": [
       "<Figure size 432x288 with 1 Axes>"
      ]
     },
     "metadata": {
      "needs_background": "light"
     },
     "output_type": "display_data"
    }
   ],
   "source": [
    "# 길이 분포 출력\n",
    "import matplotlib.pyplot as plt\n",
    "\n",
    "text_len = [len(s.split()) for s in data['Text']]\n",
    "summary_len = [len(s.split()) for s in data['Summary']]\n",
    "\n",
    "print('텍스트의 최소 길이 : {}'.format(np.min(text_len)))\n",
    "print('텍스트의 최대 길이 : {}'.format(np.max(text_len)))\n",
    "print('텍스트의 평균 길이 : {}'.format(np.mean(text_len)))\n",
    "print('요약의 최소 길이 : {}'.format(np.min(summary_len)))\n",
    "print('요약의 최대 길이 : {}'.format(np.max(summary_len)))\n",
    "print('요약의 평균 길이 : {}'.format(np.mean(summary_len)))\n",
    "\n",
    "plt.subplot(1,2,1)\n",
    "plt.boxplot(text_len)\n",
    "plt.title('Text')\n",
    "plt.subplot(1,2,2)\n",
    "plt.boxplot(summary_len)\n",
    "plt.title('Summary')\n",
    "plt.tight_layout()\n",
    "plt.show()\n",
    "\n",
    "plt.title('Text')\n",
    "plt.hist(text_len, bins = 40)\n",
    "plt.xlabel('length of samples')\n",
    "plt.ylabel('number of samples')\n",
    "plt.show()\n",
    "\n",
    "plt.title('Summary')\n",
    "plt.hist(summary_len, bins = 40)\n",
    "plt.xlabel('length of samples')\n",
    "plt.ylabel('number of samples')\n",
    "plt.show()"
   ]
  },
  {
   "cell_type": "markdown",
   "id": "63483d63",
   "metadata": {},
   "source": [
    "Text의 최소 길이는 2 최대 길이는 1235로 차이가 크다 평균 길이는 38이고 대체적으로 100내외의 길이를 가진다.   \n",
    "Summary의 경우 최소는 1, 최대 28 평균이 4로 상대적으로 많이 짧고 대체적으로 10 이하의 길이를 갖고 있다.   \n",
    "최대 길이를 임의로 정한 후 데이터의 몇 퍼센트에 해당하는지 확인해보고 괜찮으면 정제하자"
   ]
  },
  {
   "cell_type": "code",
   "execution_count": 18,
   "id": "eb2c2b79",
   "metadata": {},
   "outputs": [
    {
     "name": "stdout",
     "output_type": "stream",
     "text": [
      "=3\n"
     ]
    }
   ],
   "source": [
    "text_max_len = 50\n",
    "summary_max_len = 8\n",
    "print('=3')"
   ]
  },
  {
   "cell_type": "code",
   "execution_count": 19,
   "id": "e22c1a72",
   "metadata": {},
   "outputs": [
    {
     "name": "stdout",
     "output_type": "stream",
     "text": [
      "=3\n"
     ]
    }
   ],
   "source": [
    "def below_threshold_len(max_len, nested_list):\n",
    "  cnt = 0\n",
    "  for s in nested_list:\n",
    "    if(len(s.split()) <= max_len):\n",
    "        cnt = cnt + 1\n",
    "  print('전체 샘플 중 길이가 %s 이하인 샘플의 비율: %s'%(max_len, (cnt / len(nested_list))))\n",
    "print('=3')"
   ]
  },
  {
   "cell_type": "code",
   "execution_count": 20,
   "id": "e6c62c48",
   "metadata": {},
   "outputs": [
    {
     "name": "stdout",
     "output_type": "stream",
     "text": [
      "전체 샘플 중 길이가 50 이하인 샘플의 비율: 0.7745119121724859\n",
      "전체 샘플 중 길이가 8 이하인 샘플의 비율: 0.9424593967517402\n"
     ]
    }
   ],
   "source": [
    "below_threshold_len(text_max_len, data['Text'])\n",
    "below_threshold_len(summary_max_len,  data['Summary'])"
   ]
  },
  {
   "cell_type": "code",
   "execution_count": 21,
   "id": "52e60dad",
   "metadata": {},
   "outputs": [
    {
     "name": "stdout",
     "output_type": "stream",
     "text": [
      "전체 샘플수 : 65818\n"
     ]
    }
   ],
   "source": [
    "data = data[data['Text'].apply(lambda x: len(x.split()) <= text_max_len)]\n",
    "data = data[data['Summary'].apply(lambda x: len(x.split()) <= summary_max_len)]\n",
    "print('전체 샘플수 :', (len(data)))"
   ]
  },
  {
   "cell_type": "markdown",
   "id": "dcc41a5a",
   "metadata": {},
   "source": [
    "## 시작 토큰, 종료 토큰 추가하기\n",
    "앞서 말한것처럼 seq2seq 훈련을 위해 디코더의 시작과 종료 토큰을 추가해줘야한다. 시작 토큰 `SOS, sostoken`, 종료 토큰 `EOS, eostoken`라 명명하고 추가해주자. "
   ]
  },
  {
   "cell_type": "code",
   "execution_count": 22,
   "id": "e07a3356",
   "metadata": {},
   "outputs": [
    {
     "data": {
      "text/html": [
       "<div>\n",
       "<style scoped>\n",
       "    .dataframe tbody tr th:only-of-type {\n",
       "        vertical-align: middle;\n",
       "    }\n",
       "\n",
       "    .dataframe tbody tr th {\n",
       "        vertical-align: top;\n",
       "    }\n",
       "\n",
       "    .dataframe thead th {\n",
       "        text-align: right;\n",
       "    }\n",
       "</style>\n",
       "<table border=\"1\" class=\"dataframe\">\n",
       "  <thead>\n",
       "    <tr style=\"text-align: right;\">\n",
       "      <th></th>\n",
       "      <th>Text</th>\n",
       "      <th>Summary</th>\n",
       "      <th>decoder_input</th>\n",
       "      <th>decoder_target</th>\n",
       "    </tr>\n",
       "  </thead>\n",
       "  <tbody>\n",
       "    <tr>\n",
       "      <th>0</th>\n",
       "      <td>bought several vitality canned dog food produc...</td>\n",
       "      <td>good quality dog food</td>\n",
       "      <td>sostoken good quality dog food</td>\n",
       "      <td>good quality dog food eostoken</td>\n",
       "    </tr>\n",
       "    <tr>\n",
       "      <th>1</th>\n",
       "      <td>product arrived labeled jumbo salted peanuts p...</td>\n",
       "      <td>not as advertised</td>\n",
       "      <td>sostoken not as advertised</td>\n",
       "      <td>not as advertised eostoken</td>\n",
       "    </tr>\n",
       "    <tr>\n",
       "      <th>2</th>\n",
       "      <td>confection around centuries light pillowy citr...</td>\n",
       "      <td>delight says it all</td>\n",
       "      <td>sostoken delight says it all</td>\n",
       "      <td>delight says it all eostoken</td>\n",
       "    </tr>\n",
       "    <tr>\n",
       "      <th>3</th>\n",
       "      <td>looking secret ingredient robitussin believe f...</td>\n",
       "      <td>cough medicine</td>\n",
       "      <td>sostoken cough medicine</td>\n",
       "      <td>cough medicine eostoken</td>\n",
       "    </tr>\n",
       "    <tr>\n",
       "      <th>4</th>\n",
       "      <td>great taffy great price wide assortment yummy ...</td>\n",
       "      <td>great taffy</td>\n",
       "      <td>sostoken great taffy</td>\n",
       "      <td>great taffy eostoken</td>\n",
       "    </tr>\n",
       "  </tbody>\n",
       "</table>\n",
       "</div>"
      ],
      "text/plain": [
       "                                                Text                Summary  \\\n",
       "0  bought several vitality canned dog food produc...  good quality dog food   \n",
       "1  product arrived labeled jumbo salted peanuts p...      not as advertised   \n",
       "2  confection around centuries light pillowy citr...    delight says it all   \n",
       "3  looking secret ingredient robitussin believe f...         cough medicine   \n",
       "4  great taffy great price wide assortment yummy ...            great taffy   \n",
       "\n",
       "                    decoder_input                  decoder_target  \n",
       "0  sostoken good quality dog food  good quality dog food eostoken  \n",
       "1      sostoken not as advertised      not as advertised eostoken  \n",
       "2    sostoken delight says it all    delight says it all eostoken  \n",
       "3         sostoken cough medicine         cough medicine eostoken  \n",
       "4            sostoken great taffy            great taffy eostoken  "
      ]
     },
     "execution_count": 22,
     "metadata": {},
     "output_type": "execute_result"
    }
   ],
   "source": [
    "# Summary에 시작 토큰과 종료 토큰을 추가한다.\n",
    "data['decoder_input'] = data['Summary'].apply(lambda x : 'sostoken '+ x)\n",
    "data['decoder_target'] = data['Summary'].apply(lambda x : x + ' eostoken')\n",
    "data.head()"
   ]
  },
  {
   "cell_type": "code",
   "execution_count": 23,
   "id": "7a2ba8f4",
   "metadata": {},
   "outputs": [
    {
     "name": "stdout",
     "output_type": "stream",
     "text": [
      "=3\n"
     ]
    }
   ],
   "source": [
    "# Numpy 타입으로 저장\n",
    "encoder_input = np.array(data['Text']) # 인코더의 입력\n",
    "decoder_input = np.array(data['decoder_input']) # 디코더의 입력\n",
    "decoder_target = np.array(data['decoder_target']) # 디코더의 레이블\n",
    "print('=3')"
   ]
  },
  {
   "cell_type": "markdown",
   "id": "49bfe0f2",
   "metadata": {},
   "source": [
    "## 훈련 데이터와 테스트 데이터 분리"
   ]
  },
  {
   "cell_type": "code",
   "execution_count": 24,
   "id": "d591cd3b",
   "metadata": {},
   "outputs": [
    {
     "name": "stdout",
     "output_type": "stream",
     "text": [
      "[  418 24742 38672 ... 18953 55607 14944]\n"
     ]
    }
   ],
   "source": [
    "indices = np.arange(encoder_input.shape[0])\n",
    "np.random.shuffle(indices)\n",
    "print(indices)"
   ]
  },
  {
   "cell_type": "code",
   "execution_count": 25,
   "id": "e39dbecc",
   "metadata": {},
   "outputs": [
    {
     "name": "stdout",
     "output_type": "stream",
     "text": [
      "=3\n"
     ]
    }
   ],
   "source": [
    "encoder_input = encoder_input[indices]\n",
    "decoder_input = decoder_input[indices]\n",
    "decoder_target = decoder_target[indices]\n",
    "print('=3')"
   ]
  },
  {
   "cell_type": "code",
   "execution_count": 26,
   "id": "fac9f912",
   "metadata": {},
   "outputs": [
    {
     "name": "stdout",
     "output_type": "stream",
     "text": [
      "테스트 데이터의 수 : 13163\n"
     ]
    }
   ],
   "source": [
    "n_of_val = int(len(encoder_input)*0.2)\n",
    "print('테스트 데이터의 수 :', n_of_val)"
   ]
  },
  {
   "cell_type": "code",
   "execution_count": 27,
   "id": "9afd3887",
   "metadata": {},
   "outputs": [
    {
     "name": "stdout",
     "output_type": "stream",
     "text": [
      "훈련 데이터의 개수 : 52655\n",
      "훈련 레이블의 개수 : 52655\n",
      "테스트 데이터의 개수 : 13163\n",
      "테스트 레이블의 개수 : 13163\n"
     ]
    }
   ],
   "source": [
    "encoder_input_train = encoder_input[:-n_of_val]\n",
    "decoder_input_train = decoder_input[:-n_of_val]\n",
    "decoder_target_train = decoder_target[:-n_of_val]\n",
    "\n",
    "encoder_input_test = encoder_input[-n_of_val:]\n",
    "decoder_input_test = decoder_input[-n_of_val:]\n",
    "decoder_target_test = decoder_target[-n_of_val:]\n",
    "\n",
    "print('훈련 데이터의 개수 :', len(encoder_input_train))\n",
    "print('훈련 레이블의 개수 :', len(decoder_input_train))\n",
    "print('테스트 데이터의 개수 :', len(encoder_input_test))\n",
    "print('테스트 레이블의 개수 :', len(decoder_input_test))"
   ]
  },
  {
   "cell_type": "markdown",
   "id": "6b66be33",
   "metadata": {},
   "source": [
    "## 정수 인코딩"
   ]
  },
  {
   "cell_type": "markdown",
   "id": "63144838",
   "metadata": {},
   "source": [
    "단어들을 정수로 바꿔주는 맵핑 작업이 필요하다. 이를 단어 집합(vocabulary)을 만든다고 표현한다.   \n",
    "Keras의 tokenizer를 이용하면 단어 집합을 만들 수 있다."
   ]
  },
  {
   "cell_type": "code",
   "execution_count": 28,
   "id": "bb9c1de5",
   "metadata": {},
   "outputs": [
    {
     "name": "stdout",
     "output_type": "stream",
     "text": [
      "=3\n"
     ]
    }
   ],
   "source": [
    "src_tokenizer = Tokenizer() # 토크나이저 정의\n",
    "src_tokenizer.fit_on_texts(encoder_input_train) # 입력된 데이터로부터 단어 집합 생성\n",
    "print('=3')"
   ]
  },
  {
   "cell_type": "markdown",
   "id": "2a1f8f80",
   "metadata": {},
   "source": [
    "등장 빈도수가 7회 미마인 데이터들의 비중을 확인하기   \n",
    "`src_tokenizer.word_counts.items()`를 확인하면 등장 빈도수가 저장되어 있다."
   ]
  },
  {
   "cell_type": "code",
   "execution_count": 29,
   "id": "6734f4f3",
   "metadata": {},
   "outputs": [
    {
     "name": "stdout",
     "output_type": "stream",
     "text": [
      "단어 집합(vocabulary)의 크기 : 32061\n",
      "등장 빈도가 6번 이하인 희귀 단어의 수: 23823\n",
      "단어 집합에서 희귀 단어를 제외시킬 경우의 단어 집합의 크기 8238\n",
      "단어 집합에서 희귀 단어의 비율: 74.3052306540657\n",
      "전체 등장 빈도에서 희귀 단어 등장 빈도 비율: 3.4066122840085984\n"
     ]
    }
   ],
   "source": [
    "threshold = 7\n",
    "total_cnt = len(src_tokenizer.word_index) # 단어의 수\n",
    "rare_cnt = 0 # 등장 빈도수가 threshold보다 작은 단어의 개수를 카운트\n",
    "total_freq = 0 # 훈련 데이터의 전체 단어 빈도수 총 합\n",
    "rare_freq = 0 # 등장 빈도수가 threshold보다 작은 단어의 등장 빈도수의 총 합\n",
    "\n",
    "# 단어와 빈도수의 쌍(pair)을 key와 value로 받는다.\n",
    "for key, value in src_tokenizer.word_counts.items():\n",
    "    total_freq = total_freq + value\n",
    "\n",
    "    # 단어의 등장 빈도수가 threshold보다 작으면\n",
    "    if(value < threshold):\n",
    "        rare_cnt = rare_cnt + 1\n",
    "        rare_freq = rare_freq + value\n",
    "\n",
    "print('단어 집합(vocabulary)의 크기 :', total_cnt)\n",
    "print('등장 빈도가 %s번 이하인 희귀 단어의 수: %s'%(threshold - 1, rare_cnt))\n",
    "print('단어 집합에서 희귀 단어를 제외시킬 경우의 단어 집합의 크기 %s'%(total_cnt - rare_cnt))\n",
    "print(\"단어 집합에서 희귀 단어의 비율:\", (rare_cnt / total_cnt)*100)\n",
    "print(\"전체 등장 빈도에서 희귀 단어 등장 빈도 비율:\", (rare_freq / total_freq)*100)"
   ]
  },
  {
   "cell_type": "markdown",
   "id": "319c1f46",
   "metadata": {},
   "source": [
    "32086개의 단어로 6회 이하 등장한 단어들은 74%나 된다. 하지만 훈련 데이터에서 등장 빈도로 차지하는 비율은 3.39%밖에 되지 않는다. 그래서 6회 이하의 단어들은 인코딩 과정에서 빼고 훈련 데이터에서 제거하고 진행해보자."
   ]
  },
  {
   "cell_type": "code",
   "execution_count": 30,
   "id": "a7e42606",
   "metadata": {},
   "outputs": [
    {
     "name": "stdout",
     "output_type": "stream",
     "text": [
      "=3\n"
     ]
    }
   ],
   "source": [
    "src_vocab = 8000 # 단어 집합의 크기를 8,000으로 제한\n",
    "src_tokenizer = Tokenizer(num_words=src_vocab) \n",
    "src_tokenizer.fit_on_texts(encoder_input_train) # 단어 집합 재생성\n",
    "print('=3')"
   ]
  },
  {
   "cell_type": "code",
   "execution_count": 31,
   "id": "dff26cc3",
   "metadata": {},
   "outputs": [
    {
     "name": "stdout",
     "output_type": "stream",
     "text": [
      "[[5681, 864, 1248, 111, 3, 219, 6449, 3739, 53, 513, 127, 47, 1248, 111, 163, 50, 1107, 5895, 7, 151, 507, 159, 89, 3910, 111, 14, 163, 3, 9, 185], [407, 194, 26, 38, 165, 2, 891, 356, 440, 168, 4500, 1791, 2649, 99, 165, 91, 203, 2650, 107, 12, 67, 1776], [47, 957, 936, 189, 161, 47, 807, 344, 3541, 1108, 39, 1620, 76, 1207, 47, 12, 189, 957, 47, 2]]\n"
     ]
    }
   ],
   "source": [
    "# 텍스트 시퀀스를 정수 시퀀스로 변환\n",
    "encoder_input_train = src_tokenizer.texts_to_sequences(encoder_input_train) \n",
    "encoder_input_test = src_tokenizer.texts_to_sequences(encoder_input_test)\n",
    "\n",
    "# 잘 진행되었는지 샘플 출력\n",
    "print(encoder_input_train[:3])"
   ]
  },
  {
   "cell_type": "code",
   "execution_count": 32,
   "id": "99d30170",
   "metadata": {},
   "outputs": [
    {
     "name": "stdout",
     "output_type": "stream",
     "text": [
      "=3\n"
     ]
    }
   ],
   "source": [
    "# Summary 데이터에도 적용\n",
    "tar_tokenizer = Tokenizer()\n",
    "tar_tokenizer.fit_on_texts(decoder_input_train)\n",
    "print('=3')"
   ]
  },
  {
   "cell_type": "code",
   "execution_count": 33,
   "id": "0921017d",
   "metadata": {},
   "outputs": [
    {
     "name": "stdout",
     "output_type": "stream",
     "text": [
      "단어 집합(vocabulary)의 크기 : 10541\n",
      "등장 빈도가 5번 이하인 희귀 단어의 수: 8167\n",
      "단어 집합에서 희귀 단어를 제외시킬 경우의 단어 집합의 크기 2374\n",
      "단어 집합에서 희귀 단어의 비율: 77.47841760743762\n",
      "전체 등장 빈도에서 희귀 단어 등장 빈도 비율: 5.911211229750742\n"
     ]
    }
   ],
   "source": [
    "threshold = 6\n",
    "total_cnt = len(tar_tokenizer.word_index) # 단어의 수\n",
    "rare_cnt = 0 # 등장 빈도수가 threshold보다 작은 단어의 개수를 카운트\n",
    "total_freq = 0 # 훈련 데이터의 전체 단어 빈도수 총 합\n",
    "rare_freq = 0 # 등장 빈도수가 threshold보다 작은 단어의 등장 빈도수의 총 합\n",
    "\n",
    "# 단어와 빈도수의 쌍(pair)을 key와 value로 받는다.\n",
    "for key, value in tar_tokenizer.word_counts.items():\n",
    "    total_freq = total_freq + value\n",
    "\n",
    "    # 단어의 등장 빈도수가 threshold보다 작으면\n",
    "    if(value < threshold):\n",
    "        rare_cnt = rare_cnt + 1\n",
    "        rare_freq = rare_freq + value\n",
    "\n",
    "print('단어 집합(vocabulary)의 크기 :', total_cnt)\n",
    "print('등장 빈도가 %s번 이하인 희귀 단어의 수: %s'%(threshold - 1, rare_cnt))\n",
    "print('단어 집합에서 희귀 단어를 제외시킬 경우의 단어 집합의 크기 %s'%(total_cnt - rare_cnt))\n",
    "print(\"단어 집합에서 희귀 단어의 비율:\", (rare_cnt / total_cnt)*100)\n",
    "print(\"전체 등장 빈도에서 희귀 단어 등장 빈도 비율:\", (rare_freq / total_freq)*100)"
   ]
  },
  {
   "cell_type": "markdown",
   "id": "377761f4",
   "metadata": {},
   "source": [
    "5회 이하인 단어들은 8077개인데 실제 훈련 데이터에서 등장 빈도의 비중은 5.87%밖에 되지 않는다. 그래서 어림잡아 2000개만 집합의 크기로 잡아 진행하자."
   ]
  },
  {
   "cell_type": "code",
   "execution_count": 34,
   "id": "baca657e",
   "metadata": {},
   "outputs": [
    {
     "name": "stdout",
     "output_type": "stream",
     "text": [
      "input\n",
      "input  [[1, 3, 98], [1], [1, 498], [1, 80, 6, 1055, 5, 112], [1, 3, 136, 1962, 75]]\n",
      "target\n",
      "decoder  [[3, 98, 2], [2], [498, 2], [80, 6, 1055, 5, 112, 2], [3, 136, 1962, 75, 2]]\n"
     ]
    }
   ],
   "source": [
    "tar_vocab = 2000\n",
    "tar_tokenizer = Tokenizer(num_words=tar_vocab) \n",
    "tar_tokenizer.fit_on_texts(decoder_input_train)\n",
    "tar_tokenizer.fit_on_texts(decoder_target_train)\n",
    "\n",
    "# 텍스트 시퀀스를 정수 시퀀스로 변환\n",
    "decoder_input_train = tar_tokenizer.texts_to_sequences(decoder_input_train) \n",
    "decoder_target_train = tar_tokenizer.texts_to_sequences(decoder_target_train)\n",
    "decoder_input_test = tar_tokenizer.texts_to_sequences(decoder_input_test)\n",
    "decoder_target_test = tar_tokenizer.texts_to_sequences(decoder_target_test)\n",
    "\n",
    "# 잘 변환되었는지 확인\n",
    "print('input')\n",
    "print('input ',decoder_input_train[:5])\n",
    "print('target')\n",
    "print('decoder ',decoder_target_train[:5])"
   ]
  },
  {
   "cell_type": "markdown",
   "id": "babead8a",
   "metadata": {},
   "source": [
    "정수 인코딩 작업이 끝났다. 하지만 체크해야할 점이 있다. 빈도수가 낮은 단어로만 구성된 샘플들은 empty 샘플이 되었을 가능성이 있으므로 확인해보자.   \n",
    "decoder_input에는 sostoken, decoder_target에는 eostoken이 추가된 상태이므로 이를 주의하자"
   ]
  },
  {
   "cell_type": "code",
   "execution_count": 35,
   "id": "018a7cfc",
   "metadata": {},
   "outputs": [
    {
     "name": "stdout",
     "output_type": "stream",
     "text": [
      "삭제할 훈련 데이터의 개수 : 1283\n",
      "삭제할 테스트 데이터의 개수 : 325\n",
      "훈련 데이터의 개수 : 51372\n",
      "훈련 레이블의 개수 : 51372\n",
      "테스트 데이터의 개수 : 12838\n",
      "테스트 레이블의 개수 : 12838\n"
     ]
    }
   ],
   "source": [
    "drop_train = [index for index, sentence in enumerate(decoder_input_train) if len(sentence) == 1]\n",
    "drop_test = [index for index, sentence in enumerate(decoder_input_test) if len(sentence) == 1]\n",
    "\n",
    "print('삭제할 훈련 데이터의 개수 :', len(drop_train))\n",
    "print('삭제할 테스트 데이터의 개수 :', len(drop_test))\n",
    "\n",
    "encoder_input_train = [sentence for index, sentence in enumerate(encoder_input_train) if index not in drop_train]\n",
    "decoder_input_train = [sentence for index, sentence in enumerate(decoder_input_train) if index not in drop_train]\n",
    "decoder_target_train = [sentence for index, sentence in enumerate(decoder_target_train) if index not in drop_train]\n",
    "\n",
    "encoder_input_test = [sentence for index, sentence in enumerate(encoder_input_test) if index not in drop_test]\n",
    "decoder_input_test = [sentence for index, sentence in enumerate(decoder_input_test) if index not in drop_test]\n",
    "decoder_target_test = [sentence for index, sentence in enumerate(decoder_target_test) if index not in drop_test]\n",
    "\n",
    "print('훈련 데이터의 개수 :', len(encoder_input_train))\n",
    "print('훈련 레이블의 개수 :', len(decoder_input_train))\n",
    "print('테스트 데이터의 개수 :', len(encoder_input_test))\n",
    "print('테스트 레이블의 개수 :', len(decoder_input_test))"
   ]
  },
  {
   "cell_type": "markdown",
   "id": "483b2e9a",
   "metadata": {},
   "source": [
    "## 패딩하기"
   ]
  },
  {
   "cell_type": "code",
   "execution_count": 36,
   "id": "b2e8d028",
   "metadata": {},
   "outputs": [
    {
     "name": "stdout",
     "output_type": "stream",
     "text": [
      "=3\n"
     ]
    }
   ],
   "source": [
    "encoder_input_train = pad_sequences(encoder_input_train, maxlen=text_max_len, padding='post')\n",
    "encoder_input_test = pad_sequences(encoder_input_test, maxlen=text_max_len, padding='post')\n",
    "decoder_input_train = pad_sequences(decoder_input_train, maxlen=summary_max_len, padding='post')\n",
    "decoder_target_train = pad_sequences(decoder_target_train, maxlen=summary_max_len, padding='post')\n",
    "decoder_input_test = pad_sequences(decoder_input_test, maxlen=summary_max_len, padding='post')\n",
    "decoder_target_test = pad_sequences(decoder_target_test, maxlen=summary_max_len, padding='post')\n",
    "print('=3')"
   ]
  },
  {
   "cell_type": "markdown",
   "id": "60eba7c2",
   "metadata": {},
   "source": [
    "# 모델 설계하기"
   ]
  },
  {
   "cell_type": "code",
   "execution_count": 37,
   "id": "c79d8b6d",
   "metadata": {},
   "outputs": [
    {
     "name": "stdout",
     "output_type": "stream",
     "text": [
      "WARNING:tensorflow:Layer lstm will not use cuDNN kernels since it doesn't meet the criteria. It will use a generic GPU kernel as fallback when running on GPU.\n",
      "WARNING:tensorflow:Layer lstm_1 will not use cuDNN kernels since it doesn't meet the criteria. It will use a generic GPU kernel as fallback when running on GPU.\n",
      "WARNING:tensorflow:Layer lstm_2 will not use cuDNN kernels since it doesn't meet the criteria. It will use a generic GPU kernel as fallback when running on GPU.\n"
     ]
    }
   ],
   "source": [
    "from tensorflow.keras.layers import Input, LSTM, Embedding, Dense, Concatenate, TimeDistributed\n",
    "from tensorflow.keras.models import Model\n",
    "from tensorflow.keras.callbacks import EarlyStopping, ModelCheckpoint\n",
    "\n",
    "\n",
    "# 인코더 설계 시작\n",
    "embedding_dim = 128\n",
    "hidden_size = 256\n",
    "\n",
    "# 인코더\n",
    "encoder_inputs = Input(shape=(text_max_len,))\n",
    "\n",
    "# 인코더의 임베딩 층\n",
    "enc_emb = Embedding(src_vocab, embedding_dim)(encoder_inputs)\n",
    "\n",
    "# 인코더의 LSTM 1\n",
    "encoder_lstm1 = LSTM(hidden_size, return_sequences=True, return_state=True ,dropout = 0.4, recurrent_dropout = 0.4)\n",
    "encoder_output1, state_h1, state_c1 = encoder_lstm1(enc_emb)\n",
    "\n",
    "# 인코더의 LSTM 2\n",
    "encoder_lstm2 = LSTM(hidden_size, return_sequences=True, return_state=True, dropout=0.4, recurrent_dropout=0.4)\n",
    "encoder_output2, state_h2, state_c2 = encoder_lstm2(encoder_output1)\n",
    "\n",
    "# 인코더의 LSTM 3\n",
    "encoder_lstm3 = LSTM(hidden_size, return_state=True, return_sequences=True, dropout=0.4, recurrent_dropout=0.4)\n",
    "encoder_outputs, state_h, state_c= encoder_lstm3(encoder_output2)"
   ]
  },
  {
   "cell_type": "markdown",
   "id": "c9206a51",
   "metadata": {},
   "source": [
    "임베딩 벡터의 차원은 128로 hidden state는 256으로 정했다. hidden state는 LSTM에서 capacity를 정하는 파라미터이다. 3개의 층을 지나서 인코더로부터 나온 벡터는 디코더로 보내줘야한다.   \n",
    "LSTM은 dropout뿐만 아니라 recurrent dropout까지 사용한다. 일반적인 dropout은 레이어의 weight를 랜덤으로 생각하여 overfitting을 저지해주지만 이는 레이어가 아닌 time step마다 해주는 방식이다. 그래서 regularization 효과와 overfitting을 방지할 수 있다.   "
   ]
  },
  {
   "cell_type": "code",
   "execution_count": 38,
   "id": "351d7cd6",
   "metadata": {},
   "outputs": [
    {
     "name": "stdout",
     "output_type": "stream",
     "text": [
      "WARNING:tensorflow:Layer lstm_3 will not use cuDNN kernels since it doesn't meet the criteria. It will use a generic GPU kernel as fallback when running on GPU.\n"
     ]
    }
   ],
   "source": [
    "# 디코더 설계\n",
    "decoder_inputs = Input(shape=(None,))\n",
    "\n",
    "# 디코더의 임베딩 층\n",
    "dec_emb_layer = Embedding(tar_vocab, embedding_dim)\n",
    "dec_emb = dec_emb_layer(decoder_inputs)\n",
    "\n",
    "# 디코더의 LSTM\n",
    "decoder_lstm = LSTM(hidden_size, return_sequences=True, return_state=True, dropout=0.4, recurrent_dropout=0.2)\n",
    "decoder_outputs, _, _ = decoder_lstm(dec_emb, initial_state=[state_h, state_c]) # initial_state에 hidden state, cell state값 넣어주기"
   ]
  },
  {
   "cell_type": "code",
   "execution_count": 39,
   "id": "a7edce3c",
   "metadata": {},
   "outputs": [
    {
     "name": "stdout",
     "output_type": "stream",
     "text": [
      "Model: \"model\"\n",
      "__________________________________________________________________________________________________\n",
      "Layer (type)                    Output Shape         Param #     Connected to                     \n",
      "==================================================================================================\n",
      "input_1 (InputLayer)            [(None, 50)]         0                                            \n",
      "__________________________________________________________________________________________________\n",
      "embedding (Embedding)           (None, 50, 128)      1024000     input_1[0][0]                    \n",
      "__________________________________________________________________________________________________\n",
      "lstm (LSTM)                     [(None, 50, 256), (N 394240      embedding[0][0]                  \n",
      "__________________________________________________________________________________________________\n",
      "input_2 (InputLayer)            [(None, None)]       0                                            \n",
      "__________________________________________________________________________________________________\n",
      "lstm_1 (LSTM)                   [(None, 50, 256), (N 525312      lstm[0][0]                       \n",
      "__________________________________________________________________________________________________\n",
      "embedding_1 (Embedding)         (None, None, 128)    256000      input_2[0][0]                    \n",
      "__________________________________________________________________________________________________\n",
      "lstm_2 (LSTM)                   [(None, 50, 256), (N 525312      lstm_1[0][0]                     \n",
      "__________________________________________________________________________________________________\n",
      "lstm_3 (LSTM)                   [(None, None, 256),  394240      embedding_1[0][0]                \n",
      "                                                                 lstm_2[0][1]                     \n",
      "                                                                 lstm_2[0][2]                     \n",
      "__________________________________________________________________________________________________\n",
      "dense (Dense)                   (None, None, 2000)   514000      lstm_3[0][0]                     \n",
      "==================================================================================================\n",
      "Total params: 3,633,104\n",
      "Trainable params: 3,633,104\n",
      "Non-trainable params: 0\n",
      "__________________________________________________________________________________________________\n"
     ]
    }
   ],
   "source": [
    "# 디코더의 출력층\n",
    "decoder_softmax_layer = Dense(tar_vocab, activation='softmax')\n",
    "decoder_softmax_outputs = decoder_softmax_layer(decoder_outputs) \n",
    "\n",
    "# 모델 정의\n",
    "model = Model([encoder_inputs, decoder_inputs], decoder_softmax_outputs)\n",
    "model.summary()"
   ]
  },
  {
   "cell_type": "markdown",
   "id": "d85ba96d",
   "metadata": {},
   "source": [
    "# 어텐션 메커니즘\n",
    "텐서플로우에 이미 구현된 Bahdanau 스타일 어텐션을 가져와서 적용해보자. [텐서플로우 bahdanau docs](https://www.tensorflow.org/api_docs/python/tf/keras/layers/AdditiveAttention)"
   ]
  },
  {
   "cell_type": "code",
   "execution_count": 40,
   "id": "d55ed330",
   "metadata": {},
   "outputs": [
    {
     "name": "stdout",
     "output_type": "stream",
     "text": [
      "Model: \"model_1\"\n",
      "__________________________________________________________________________________________________\n",
      "Layer (type)                    Output Shape         Param #     Connected to                     \n",
      "==================================================================================================\n",
      "input_1 (InputLayer)            [(None, 50)]         0                                            \n",
      "__________________________________________________________________________________________________\n",
      "embedding (Embedding)           (None, 50, 128)      1024000     input_1[0][0]                    \n",
      "__________________________________________________________________________________________________\n",
      "lstm (LSTM)                     [(None, 50, 256), (N 394240      embedding[0][0]                  \n",
      "__________________________________________________________________________________________________\n",
      "input_2 (InputLayer)            [(None, None)]       0                                            \n",
      "__________________________________________________________________________________________________\n",
      "lstm_1 (LSTM)                   [(None, 50, 256), (N 525312      lstm[0][0]                       \n",
      "__________________________________________________________________________________________________\n",
      "embedding_1 (Embedding)         (None, None, 128)    256000      input_2[0][0]                    \n",
      "__________________________________________________________________________________________________\n",
      "lstm_2 (LSTM)                   [(None, 50, 256), (N 525312      lstm_1[0][0]                     \n",
      "__________________________________________________________________________________________________\n",
      "lstm_3 (LSTM)                   [(None, None, 256),  394240      embedding_1[0][0]                \n",
      "                                                                 lstm_2[0][1]                     \n",
      "                                                                 lstm_2[0][2]                     \n",
      "__________________________________________________________________________________________________\n",
      "attention_layer (AdditiveAttent (None, None, 256)    256         lstm_3[0][0]                     \n",
      "                                                                 lstm_2[0][0]                     \n",
      "__________________________________________________________________________________________________\n",
      "concat_layer (Concatenate)      (None, None, 512)    0           lstm_3[0][0]                     \n",
      "                                                                 attention_layer[0][0]            \n",
      "__________________________________________________________________________________________________\n",
      "dense_1 (Dense)                 (None, None, 2000)   1026000     concat_layer[0][0]               \n",
      "==================================================================================================\n",
      "Total params: 4,145,360\n",
      "Trainable params: 4,145,360\n",
      "Non-trainable params: 0\n",
      "__________________________________________________________________________________________________\n"
     ]
    }
   ],
   "source": [
    "from tensorflow.keras.layers import AdditiveAttention\n",
    "\n",
    "# 어텐션 층(어텐션 함수)\n",
    "attn_layer = AdditiveAttention(name='attention_layer')\n",
    "\n",
    "# 인코더와 디코더의 모든 time step의 hidden state를 어텐션 층에 전달하고 결과를 리턴\n",
    "attn_out = attn_layer([decoder_outputs, encoder_outputs])\n",
    "\n",
    "\n",
    "# 어텐션의 결과와 디코더의 hidden state들을 연결\n",
    "decoder_concat_input = Concatenate(axis=-1, name='concat_layer')([decoder_outputs, attn_out])\n",
    "\n",
    "# 디코더의 출력층\n",
    "decoder_softmax_layer = Dense(tar_vocab, activation='softmax')\n",
    "decoder_softmax_outputs = decoder_softmax_layer(decoder_concat_input)\n",
    "\n",
    "# 모델 정의\n",
    "model = Model([encoder_inputs, decoder_inputs], decoder_softmax_outputs)\n",
    "model.summary()"
   ]
  },
  {
   "cell_type": "markdown",
   "id": "f74a0501",
   "metadata": {},
   "source": [
    "# 모델 훈련"
   ]
  },
  {
   "cell_type": "code",
   "execution_count": 41,
   "id": "25613aab",
   "metadata": {},
   "outputs": [
    {
     "name": "stdout",
     "output_type": "stream",
     "text": [
      "Epoch 1/50\n",
      "201/201 [==============================] - 138s 643ms/step - loss: 2.7051 - val_loss: 2.4177\n",
      "Epoch 2/50\n",
      "201/201 [==============================] - 126s 629ms/step - loss: 2.3806 - val_loss: 2.2797\n",
      "Epoch 3/50\n",
      "201/201 [==============================] - 128s 636ms/step - loss: 2.2338 - val_loss: 2.1535\n",
      "Epoch 4/50\n",
      "201/201 [==============================] - 129s 642ms/step - loss: 2.1121 - val_loss: 2.0645\n",
      "Epoch 5/50\n",
      "201/201 [==============================] - 130s 645ms/step - loss: 2.0293 - val_loss: 2.0142\n",
      "Epoch 6/50\n",
      "201/201 [==============================] - 127s 633ms/step - loss: 1.9672 - val_loss: 1.9766\n",
      "Epoch 7/50\n",
      "201/201 [==============================] - 128s 637ms/step - loss: 1.9143 - val_loss: 1.9438\n",
      "Epoch 8/50\n",
      "201/201 [==============================] - 127s 634ms/step - loss: 1.8677 - val_loss: 1.9177\n",
      "Epoch 9/50\n",
      "201/201 [==============================] - 129s 644ms/step - loss: 1.8289 - val_loss: 1.8971\n",
      "Epoch 10/50\n",
      "201/201 [==============================] - 128s 636ms/step - loss: 1.7916 - val_loss: 1.8866\n",
      "Epoch 11/50\n",
      "201/201 [==============================] - 128s 639ms/step - loss: 1.7584 - val_loss: 1.8736\n",
      "Epoch 12/50\n",
      "201/201 [==============================] - 127s 633ms/step - loss: 1.7273 - val_loss: 1.8631\n",
      "Epoch 13/50\n",
      "201/201 [==============================] - 127s 633ms/step - loss: 1.6979 - val_loss: 1.8567\n",
      "Epoch 14/50\n",
      "201/201 [==============================] - 128s 635ms/step - loss: 1.6712 - val_loss: 1.8581\n",
      "Epoch 15/50\n",
      "201/201 [==============================] - 128s 635ms/step - loss: 1.6446 - val_loss: 1.8517\n",
      "Epoch 16/50\n",
      "201/201 [==============================] - 127s 633ms/step - loss: 1.6202 - val_loss: 1.8519\n",
      "Epoch 17/50\n",
      "201/201 [==============================] - 128s 637ms/step - loss: 1.5969 - val_loss: 1.8470\n",
      "Epoch 18/50\n",
      "201/201 [==============================] - 127s 631ms/step - loss: 1.5744 - val_loss: 1.8492\n",
      "Epoch 19/50\n",
      "201/201 [==============================] - 127s 634ms/step - loss: 1.5540 - val_loss: 1.8482\n",
      "Epoch 00019: early stopping\n"
     ]
    }
   ],
   "source": [
    "model.compile(optimizer='rmsprop', loss='sparse_categorical_crossentropy')\n",
    "es = EarlyStopping(monitor='val_loss', patience=2, verbose=1)\n",
    "history = model.fit(x=[encoder_input_train, decoder_input_train], y=decoder_target_train, \\\n",
    "          validation_data=([encoder_input_test, decoder_input_test], decoder_target_test), \\\n",
    "          batch_size=256, callbacks=[es], epochs=50)"
   ]
  },
  {
   "cell_type": "code",
   "execution_count": 42,
   "id": "471836f5",
   "metadata": {},
   "outputs": [
    {
     "data": {
      "image/png": "[encoded data removed]",
      "text/plain": [
       "<Figure size 432x288 with 1 Axes>"
      ]
     },
     "metadata": {
      "needs_background": "light"
     },
     "output_type": "display_data"
    }
   ],
   "source": [
    "plt.plot(history.history['loss'], label='train')\n",
    "plt.plot(history.history['val_loss'], label='test')\n",
    "plt.legend()\n",
    "plt.show()"
   ]
  },
  {
   "cell_type": "markdown",
   "id": "6fc8b93a",
   "metadata": {},
   "source": [
    "# 인퍼런스 모델 구현하기"
   ]
  },
  {
   "cell_type": "code",
   "execution_count": 43,
   "id": "f574ee8d",
   "metadata": {},
   "outputs": [
    {
     "name": "stdout",
     "output_type": "stream",
     "text": [
      "=3\n"
     ]
    }
   ],
   "source": [
    "src_index_to_word = src_tokenizer.index_word # 원문 단어 집합에서 정수 -> 단어를 얻음\n",
    "tar_word_to_index = tar_tokenizer.word_index # 요약 단어 집합에서 단어 -> 정수를 얻음\n",
    "tar_index_to_word = tar_tokenizer.index_word # 요약 단어 집합에서 정수 -> 단어를 얻음\n",
    "\n",
    "print('=3')"
   ]
  },
  {
   "cell_type": "markdown",
   "id": "6b934d55",
   "metadata": {},
   "source": [
    "seq2seq는 훈련할 때와 실제 동작하는 인퍼런스 단계의 방식이 다르므로 그에 맞게 모델 설계를 별개로 진행해야 한다."
   ]
  },
  {
   "cell_type": "code",
   "execution_count": 44,
   "id": "35fd58f2",
   "metadata": {},
   "outputs": [
    {
     "name": "stdout",
     "output_type": "stream",
     "text": [
      "=3\n"
     ]
    }
   ],
   "source": [
    "# 인코더 설계\n",
    "encoder_model = Model(inputs=encoder_inputs, outputs=[encoder_outputs, state_h, state_c])\n",
    "\n",
    "# 이전 시점의 상태들을 저장하는 텐서\n",
    "decoder_state_input_h = Input(shape=(hidden_size,))\n",
    "decoder_state_input_c = Input(shape=(hidden_size,))\n",
    "\n",
    "dec_emb2 = dec_emb_layer(decoder_inputs)\n",
    "\n",
    "# 문장의 다음 단어를 예측하기 위해서 초기 상태(initial_state)를 이전 시점의 상태로 사용. 이는 뒤의 함수 decode_sequence()에 구현\n",
    "# 훈련 과정에서와 달리 LSTM의 리턴하는 은닉 상태와 셀 상태인 state_h와 state_c를 버리지 않음.\n",
    "decoder_outputs2, state_h2, state_c2 = decoder_lstm(dec_emb2, initial_state=[decoder_state_input_h, decoder_state_input_c])\n",
    "\n",
    "print('=3')"
   ]
  },
  {
   "cell_type": "code",
   "execution_count": 45,
   "id": "20f2df97",
   "metadata": {},
   "outputs": [
    {
     "name": "stdout",
     "output_type": "stream",
     "text": [
      "=3\n"
     ]
    }
   ],
   "source": [
    "# 어텐션 함수\n",
    "decoder_hidden_state_input = Input(shape=(text_max_len, hidden_size))\n",
    "attn_out_inf = attn_layer([decoder_outputs2, decoder_hidden_state_input])\n",
    "decoder_inf_concat = Concatenate(axis=-1, name='concat')([decoder_outputs2, attn_out_inf])\n",
    "\n",
    "# 디코더의 출력층\n",
    "decoder_outputs2 = decoder_softmax_layer(decoder_inf_concat) \n",
    "\n",
    "# 최종 디코더 모델\n",
    "decoder_model = Model(\n",
    "    [decoder_inputs] + [decoder_hidden_state_input,decoder_state_input_h, decoder_state_input_c],\n",
    "    [decoder_outputs2] + [state_h2, state_c2])\n",
    "\n",
    "print('=3')"
   ]
  },
  {
   "cell_type": "code",
   "execution_count": 46,
   "id": "7057f5a6",
   "metadata": {},
   "outputs": [
    {
     "name": "stdout",
     "output_type": "stream",
     "text": [
      "=3\n"
     ]
    }
   ],
   "source": [
    "# 인퍼런스 단계에서 단어 시퀀스를 완성하는 함수\n",
    "def decode_sequence(input_seq):\n",
    "    # 입력으로부터 인코더의 상태를 얻음\n",
    "    e_out, e_h, e_c = encoder_model.predict(input_seq)\n",
    "\n",
    "     # <SOS>에 해당하는 토큰 생성\n",
    "    target_seq = np.zeros((1,1))\n",
    "    target_seq[0, 0] = tar_word_to_index['sostoken']\n",
    "\n",
    "    stop_condition = False\n",
    "    decoded_sentence = ''\n",
    "    while not stop_condition: # stop_condition이 True가 될 때까지 루프 반복\n",
    "\n",
    "        output_tokens, h, c = decoder_model.predict([target_seq] + [e_out, e_h, e_c])\n",
    "        sampled_token_index = np.argmax(output_tokens[0, -1, :])\n",
    "        sampled_token = tar_index_to_word[sampled_token_index]\n",
    "\n",
    "        if (sampled_token!='eostoken'):\n",
    "            decoded_sentence += ' '+sampled_token\n",
    "\n",
    "        #  <eos>에 도달하거나 최대 길이를 넘으면 중단.\n",
    "        if (sampled_token == 'eostoken'  or len(decoded_sentence.split()) >= (summary_max_len-1)):\n",
    "            stop_condition = True\n",
    "\n",
    "        # 길이가 1인 타겟 시퀀스를 업데이트\n",
    "        target_seq = np.zeros((1,1))\n",
    "        target_seq[0, 0] = sampled_token_index\n",
    "\n",
    "        # 상태를 업데이트 합니다.\n",
    "        e_h, e_c = h, c\n",
    "\n",
    "    return decoded_sentence\n",
    "print('=3')"
   ]
  },
  {
   "cell_type": "markdown",
   "id": "bb9a04e5",
   "metadata": {},
   "source": [
    "# 모델 테스트"
   ]
  },
  {
   "cell_type": "markdown",
   "id": "fab210d6",
   "metadata": {},
   "source": [
    "주어진 정수 시퀀스를 텍스트 시퀀스로 변환하여 결과를 확인하는 함수 만들기   \n",
    "Text의 정수 시퀀스에서 패딩을 위해 사용한 숫자 0 제외하고 Summary의 정수 시퀀스에서는 숫자 0, 시작, 종료 토큰 인덱스를 출력에서 제외하기"
   ]
  },
  {
   "cell_type": "code",
   "execution_count": 47,
   "id": "bd8c3706",
   "metadata": {},
   "outputs": [
    {
     "name": "stdout",
     "output_type": "stream",
     "text": [
      "=3\n"
     ]
    }
   ],
   "source": [
    "# 원문의 정수 시퀀스를 텍스트 시퀀스로 변환\n",
    "def seq2text(input_seq):\n",
    "    temp=''\n",
    "    for i in input_seq:\n",
    "        if (i!=0):\n",
    "            temp = temp + src_index_to_word[i]+' '\n",
    "    return temp\n",
    "\n",
    "# 요약문의 정수 시퀀스를 텍스트 시퀀스로 변환\n",
    "def seq2summary(input_seq):\n",
    "    temp=''\n",
    "    for i in input_seq:\n",
    "        if ((i!=0 and i!=tar_word_to_index['sostoken']) and i!=tar_word_to_index['eostoken']):\n",
    "            temp = temp + tar_index_to_word[i] + ' '\n",
    "    return temp\n",
    "\n",
    "print('=3')"
   ]
  },
  {
   "cell_type": "code",
   "execution_count": 48,
   "id": "67a0babb",
   "metadata": {},
   "outputs": [
    {
     "name": "stdout",
     "output_type": "stream",
     "text": [
      "원문 : lot reviews say stuff works traveling long boring staying clear head writing book reading boring stuff keeps activity hand seems get past big lunch sleepy time follows give try keep \n",
      "실제 요약 : it works \n",
      "예측 요약 :  great for breakfast\n",
      "\n",
      "\n",
      "원문 : stuff awful tasted like water soaked except better flavor mud coffee aroma flavor stomach still really dont know low acid decaf unexpected bonus also got terrible headache bunch crap \n",
      "실제 요약 : terrible stuff \n",
      "예측 요약 :  tastes like plastic\n",
      "\n",
      "\n",
      "원문 : perfect brand familiar good source \n",
      "실제 요약 : getting to find \n",
      "예측 요약 :  great taste\n",
      "\n",
      "\n",
      "원문 : great grain free dog food dogs love great tummies buying food months dogs happy coats shiny know getting nutritious meal \n",
      "실제 요약 : perfect for my dogs \n",
      "예측 요약 :  great dog food\n",
      "\n",
      "\n",
      "원문 : sauce great almost everything love eggs chicken etc far sellers see charging way much money shipping one buying shipping handling reasonable cost way high stores around add shipping really robbery \n",
      "실제 요약 : great spicy sauce \n",
      "예측 요약 :  great product\n",
      "\n",
      "\n",
      "원문 : fan coconut water say product good fresh coconut water get india good among options us feel expensive still love \n",
      "실제 요약 : simply love it \n",
      "예측 요약 :  great taste\n",
      "\n",
      "\n",
      "원문 : love pulp inexpensive delicious easy way get fruit kids diets concern added sugar overall quite high sugar since mix plain lowfat yogurt milk believe whole pretty healthful \n",
      "실제 요약 : great for making drinks \n",
      "예측 요약 :  great taste\n",
      "\n",
      "\n",
      "원문 : great quality amazing taste habit disappearing quickly already ordered shipments love wine gums would highly recommend anyone texture right slightly varied making interesting experience \n",
      "실제 요약 : cannot get enough of them \n",
      "예측 요약 :  best ever\n",
      "\n",
      "\n",
      "원문 : rat terrier sensitive stomach treat upset loves highly recommended \n",
      "실제 요약 : great for dogs with sensitive \n",
      "예측 요약 :  my dog loves these\n",
      "\n",
      "\n",
      "원문 : pack order amazon plus shipping local supermarket sells \n",
      "실제 요약 : high amazon price \n",
      "예측 요약 :  great price\n",
      "\n",
      "\n",
      "원문 : basket arrived promptly recipients said really enjoyed contents arrangement pretty food tasty plan order item \n",
      "실제 요약 : loved it \n",
      "예측 요약 :  great gift\n",
      "\n",
      "\n",
      "원문 : hard believe buy strawberry jam market tastes like mother homemade southern strawberry preserves delicious best part sugar added sweetness comes fruit awesome \n",
      "실제 요약 : best strawberry jam on the market \n",
      "예측 요약 :  best pancakes ever\n",
      "\n",
      "\n",
      "원문 : great coffee cannot think drinking another cup domestic brand jitters teeth even three cups looking forward product order oh arrives fast anyone loves coffee give try thanks \n",
      "실제 요약 : great coffee \n",
      "예측 요약 :  great coffee\n",
      "\n",
      "\n",
      "원문 : purchase sampler pack tried riceselect products market tasty grains always highest quality prefer rice little drier use cup less water suggested love product \n",
      "실제 요약 : select indeed \n",
      "예측 요약 :  great product\n",
      "\n",
      "\n",
      "원문 : good make great gluten free dairy free snack always looking snacks like normal snack taste good one works great \n",
      "실제 요약 : delish \n",
      "예측 요약 :  great gluten free snack\n",
      "\n",
      "\n",
      "원문 : daughter favorite gum hard time buying bulk thanks \n",
      "실제 요약 : fine \n",
      "예측 요약 :  great gum\n",
      "\n",
      "\n",
      "원문 : got package review amazon vine program normally big fan add water drinks one really good much green tea mango pineapple tea lover might like much fruity like fact artificially sweetened even though contain artificial sweetener least honey would definitely buy could keep away daughters wife \n",
      "실제 요약 : better than expected \n",
      "예측 요약 :  refreshing\n",
      "\n",
      "\n",
      "원문 : first go havanese puppy years ago breeder suggested liver treats using training dog anything treats even use name brand pet hotel use careful give much dog got anxiety started routine asking kiss giving treat leaving wants treat beg kiss \n",
      "실제 요약 : dogs go nuts for these liver treats \n",
      "예측 요약 :  great treats\n",
      "\n",
      "\n",
      "원문 : love cereal get soggy mushy milk love fruit nut bits perfect muesli \n",
      "실제 요약 : best cereal ever \n",
      "예측 요약 :  great snack\n",
      "\n",
      "\n",
      "원문 : add tablespoons pancake batter drops banana extract found manna heaven counting calories dip apples pb yummy add enough taste hot chocolate beverage would loved \n",
      "실제 요약 : pb heaven \n",
      "예측 요약 :  delicious\n",
      "\n",
      "\n",
      "원문 : nantucket blend favorite strong yet satisfying flavor tasted blend head start fine quality \n",
      "실제 요약 : just right \n",
      "예측 요약 :  great coffee\n",
      "\n",
      "\n",
      "원문 : item came exactly described shipped time important christmas thanks reliable easy shopping experience \n",
      "실제 요약 : item as described shipped on time thanks \n",
      "예측 요약 :  great\n",
      "\n",
      "\n",
      "원문 : ordered enjoy however wish much sodium \n",
      "실제 요약 : beef jerky \n",
      "예측 요약 :  good\n",
      "\n",
      "\n",
      "원문 : candies excellent exact ones local greek complaint took long time arrive \n",
      "실제 요약 : candies \n",
      "예측 요약 :  great candy\n",
      "\n",
      "\n",
      "원문 : chips great snack dinner cup cocoa coffe chips wonderful seller comes highly fast delivery transaction back \n",
      "실제 요약 : delicious treat \n",
      "예측 요약 :  great chips\n",
      "\n",
      "\n",
      "원문 : good morning cup coffee bold enough good flavor top kups like variety \n",
      "실제 요약 : good coffee \n",
      "예측 요약 :  great coffee\n",
      "\n",
      "\n",
      "원문 : chocolate special night time treat always hungry go sleep night come depend special chocolate delight actually become treat whenever looking something crunchy sweet try calories much different favorite cereal \n",
      "실제 요약 : special delightful as dessert \n",
      "예측 요약 :  yummy\n",
      "\n",
      "\n",
      "원문 : purchased container local drug store taste like cheap curry \n",
      "실제 요약 : worst food ever \n",
      "예측 요약 :  not as good as the name\n",
      "\n",
      "\n",
      "원문 : bought box morning roast coffee either porch notified company quick trace stating delivered call see company would happy tell sent another box tassimo morning roast thank much strong ethical response situation sincerely bill \n",
      "실제 요약 : service \n",
      "예측 요약 :  great coffee\n",
      "\n",
      "\n",
      "원문 : super hard time finding anyone chewies stock alot stock shipped asap thanks definitely purchase \n",
      "실제 요약 : hard to find \n",
      "예측 요약 :  great gift\n",
      "\n",
      "\n",
      "원문 : chocolate belgian waffle mix everything advertised enjoyed waffles light airy sweet one would expect buy product chips mix may want add white dark chips sweet tooth \n",
      "실제 요약 : chocolate belgian waffles \n",
      "예측 요약 :  not the best\n",
      "\n",
      "\n",
      "원문 : husband love product smaller size boxes goes fast ordering pack works well plus significantly cheaper local grocery stores transaction quick \n",
      "실제 요약 : organic fruit nut granola cereal \n",
      "예측 요약 :  great product\n",
      "\n",
      "\n",
      "원문 : illy coffee drink taste like espresso feels aftertaste perhaps beet sugar minimal ingredients long time spends way glad tried least tastes like coffee product compared cappuccino replace iced coffee want coffee hot day \n",
      "실제 요약 : coffee taste \n",
      "예측 요약 :  illy issimo coffee drink\n",
      "\n",
      "\n",
      "원문 : coffee gets stars unless roasted ground within last half hour additionally problems acid reflux given like light roast fan french roast anything starbucks given first french roast ever liked found mild smooth drinkable surprised especially given low expectations acid coffee bothers think worth try \n",
      "실제 요약 : smooth \n",
      "예측 요약 :  not for me\n",
      "\n",
      "\n",
      "원문 : generally dislike healthy bars mainly taste particularly good like bars different truly tasty well least cranberry almond almond cashew flax bars tried amazing happy snack rather chocolate bar snack good \n",
      "실제 요약 : tasty \n",
      "예측 요약 :  not very tasty\n",
      "\n",
      "\n",
      "원문 : love tabasco products one pretty nasty actually chunky like salsa like bbq sauce pass one \n",
      "실제 요약 : not good \n",
      "예측 요약 :  great taste\n",
      "\n",
      "\n",
      "원문 : olive oil buy anymore good price quick shipping great taste tin keeps fresh long time continue buy product \n",
      "실제 요약 : my favorite \n",
      "예측 요약 :  great product\n",
      "\n",
      "\n",
      "원문 : perfect home go gold kili ginger drink enjoyed us years wonderful companion traveling honey sweetness beverage may adjusted easily increasing per cup serving note price comparison quantity product varies greatly site \n",
      "실제 요약 : gold ginger drink \n",
      "예측 요약 :  love this ginger\n",
      "\n",
      "\n",
      "원문 : tried iced tea flavors buy far like one best could touch stronger load alot ice sure help either cup setting pick also way better scoop mix brand iced tea mix \n",
      "실제 요약 : best taste yet \n",
      "예측 요약 :  great tea\n",
      "\n",
      "\n",
      "원문 : added adult children easter baskets truly enjoyed taste light crisp totally delicious plan using rest tea party hostess gifts \n",
      "실제 요약 : perfect for every \n",
      "예측 요약 :  great tea\n",
      "\n",
      "\n",
      "원문 : disappointed product especially considering exceptional salmon oil make pass rescue dog test turned noses dogs tiny well buy extra bottle salmon oil instead \n",
      "실제 요약 : was not impressed \n",
      "예측 요약 :  great product\n",
      "\n",
      "\n",
      "원문 : bought party guest favorite cookie every cookie packages broken wanted put nicely forget thrown box fresh broken pieces ended using pie crust \n",
      "실제 요약 : broken cookies \n"
     ]
    },
    {
     "name": "stdout",
     "output_type": "stream",
     "text": [
      "예측 요약 :  cookies\n",
      "\n",
      "\n",
      "원문 : stopped drinking soda months ago saw product since splenda sweetner decided try love first sip pink lemonade flavor ordered two also promotion like fact fills gms protein also fiber huge plus book deal amazon really good costs whole lot live stocked summer promotion health try may like \n",
      "실제 요약 : am addicted to this healthy soda alternative \n",
      "예측 요약 :  best ever\n",
      "\n",
      "\n",
      "원문 : usually find local health food store great tasty product think people would enjoy great entertaining family friends \n",
      "실제 요약 : excellent product \n",
      "예측 요약 :  great product\n",
      "\n",
      "\n",
      "원문 : great tasting healthy rice cooks well rice cooker brown rice option \n",
      "실제 요약 : excellent rice \n",
      "예측 요약 :  great rice\n",
      "\n",
      "\n",
      "원문 : simply best bacon ever eaten fries nice delicious think well worth price \n",
      "실제 요약 : best bacon ever \n",
      "예측 요약 :  amazing\n",
      "\n",
      "\n",
      "원문 : bought christmas gift arrived well packaged gift well received hershey chocolate kisses wrapping christmas like \n",
      "실제 요약 : always good \n",
      "예측 요약 :  great gift\n",
      "\n",
      "\n",
      "원문 : filler ingredients could dryer water content really big enough problem star \n",
      "실제 요약 : our dog loves it \n",
      "예측 요약 :  not as good as the picture\n",
      "\n",
      "\n",
      "원문 : anything portable easy great thing parent son happily eat pouches real food even though way past age needing pureed food come real handy want give messy snack unhealthy well downside inconsistent baby food allowance sometimes allowed problems days either opened tested agree full body search \n",
      "실제 요약 : good for baby and easy for you \n",
      "예측 요약 :  great for snack\n",
      "\n",
      "\n",
      "원문 : detox tea good helping cleanse body world fast living good price fast delivery would buy \n",
      "실제 요약 : tea \n",
      "예측 요약 :  great tea\n",
      "\n",
      "\n"
     ]
    }
   ],
   "source": [
    "for i in range(50, 100):\n",
    "    print(\"원문 :\", seq2text(encoder_input_test[i]))\n",
    "    print(\"실제 요약 :\", seq2summary(decoder_input_test[i]))\n",
    "    print(\"예측 요약 :\", decode_sequence(encoder_input_test[i].reshape(1, text_max_len)))\n",
    "    print(\"\\n\")"
   ]
  },
  {
   "cell_type": "markdown",
   "id": "2b6bd45f",
   "metadata": {},
   "source": [
    "테스트 데이터에서 50개의 샘플의 결과를 확인하자 기존 요약과는 다른 요약을 출력하면서 원문의 내용을 담고 있는 의미 있는 요약들이 보인다. 워드 임베딩과 RNN의 조합으로 이뤄냈다.   \n",
    "그러나 좋지 않은 요약의 예도 있다. 성능 개선하기 위해 어텐션 조합을 수정하거나, 빔 서치(beam search), 사전 훈련된 워드 임베딩, 인코더와 디코더 자체의 구조를 변경하는 트랜스포머같은 개선 방안들이 존재한다."
   ]
  },
  {
   "cell_type": "markdown",
   "id": "2dc9dbcd",
   "metadata": {},
   "source": [
    "# 추출적 요약 해보기"
   ]
  },
  {
   "cell_type": "markdown",
   "id": "5475c472",
   "metadata": {},
   "source": [
    "패키지 `Summa`에선 추출적 요약 모듈인 summarize를 제공해서 이를 이용해보자.   \n",
    "> $ pip list | grep summa"
   ]
  },
  {
   "cell_type": "code",
   "execution_count": 49,
   "id": "a1a51010",
   "metadata": {},
   "outputs": [],
   "source": [
    "import requests\n",
    "from summa.summarizer import summarize"
   ]
  },
  {
   "cell_type": "code",
   "execution_count": 50,
   "id": "fffa0bf3",
   "metadata": {},
   "outputs": [],
   "source": [
    "# 매트릭스 시놉시스 다운하기\n",
    "text = requests.get('http://rare-technologies.com/the_matrix_synopsis.txt').text"
   ]
  },
  {
   "cell_type": "code",
   "execution_count": 51,
   "id": "c6ddff9f",
   "metadata": {},
   "outputs": [
    {
     "name": "stdout",
     "output_type": "stream",
     "text": [
      "The screen is filled with green, cascading code which gives way to the title, The Matrix.\r\n",
      "\r\n",
      "A phone rings and text appears on the screen: \"Call trans opt: received. 2-19-98 13:24:18 REC: Log>\" As a conversation takes place between Trinity (Carrie-Anne Moss) and Cypher (Joe Pantoliano), two free humans, a table of random green numbers are being scanned and individual numbers selected, creating a series of digits not unlike an ordinary phone number, as if a code is being deciphered or a call is being traced.\r\n",
      "\r\n",
      "Trinity discusses some unknown person. Cypher taunts Trinity, suggesting she enjoys watching him. Trinity counters that \"Morpheus (Laurence Fishburne) says he may be 'the One',\" just as the sound of a number being selected alerts Trinity that someone may be tracing their call. She ends the call.\r\n",
      "\r\n",
      "Armed policemen move down a darkened, decrepit hallway in the Heart O' the City Hotel, their flashlight beam bouncing just ahead of them. They come to room 303, kick down the door and find a woman dressed in black, facing away from them. It's Trinity. She brings her hands up from the laptop she's working on at their command.\r\n",
      "\r\n",
      "Outside the hotel a car drives up and three agents appear in neatly pressed black suits. They are Agent Smith (Hugo Weaving), Agent Brown (Paul Goddard), and Agent Jones (Robert Taylor). Agent Smith and the presiding police lieutenant argue. Agent Smith admonishes the policeman that they were given specific orders to contact the agents first, for their\n"
     ]
    }
   ],
   "source": [
    "print(text[:1500])"
   ]
  },
  {
   "cell_type": "markdown",
   "id": "2155314d",
   "metadata": {},
   "source": [
    "## summarize 사용하기"
   ]
  },
  {
   "cell_type": "markdown",
   "id": "cbb78bf4",
   "metadata": {},
   "source": [
    "summarize()의 인자로 사용되는 값들을 알아보자\n",
    "> text(str): 요약할 테스트   \n",
    "ratio(float, optional): 요약문에서 원본으로 선택되는 문장 비율 0~1   \n",
    "words(int or None, optional): 출력에 포함할 단어 수, 만약 ratio와 함께 두 파라미터가 모두 제공되면 ratio는 무시한다.   \n",
    "split(bool, optional): True면 문장 list/False는 join된 문자열 반환한다   \n",
    "\n",
    "summarize는 문장 토큰화를 별도로 진행하지 않아도 내부적으로 문장 토큰화를 수행한다."
   ]
  },
  {
   "cell_type": "code",
   "execution_count": 52,
   "id": "fb5ad6fb",
   "metadata": {},
   "outputs": [
    {
     "name": "stdout",
     "output_type": "stream",
     "text": [
      "Summary:\n",
      "Morpheus, Trinity, Neo, Apoc, Switch, Mouse and Cypher are jacked into the Matrix.\n",
      "Trinity brings the helicopter down to the floor that Morpheus is on and Neo opens fire on the three Agents.\n"
     ]
    }
   ],
   "source": [
    "print('Summary:')\n",
    "print(summarize(text, ratio=0.005)) # 원문의 0.005% 출력하기"
   ]
  },
  {
   "cell_type": "code",
   "execution_count": 53,
   "id": "9ddb1faa",
   "metadata": {},
   "outputs": [
    {
     "name": "stdout",
     "output_type": "stream",
     "text": [
      "Summary:\n",
      "['Morpheus, Trinity, Neo, Apoc, Switch, Mouse and Cypher are jacked into the Matrix.', 'Trinity brings the helicopter down to the floor that Morpheus is on and Neo opens fire on the three Agents.']\n"
     ]
    }
   ],
   "source": [
    "print('Summary:')\n",
    "print(summarize(text, ratio=0.005, split=True)) # 리스트로 받기위해 split=True"
   ]
  },
  {
   "cell_type": "code",
   "execution_count": 54,
   "id": "720adee9",
   "metadata": {},
   "outputs": [
    {
     "name": "stdout",
     "output_type": "stream",
     "text": [
      "Summary:\n",
      "Trinity takes Neo to Morpheus.\n",
      "Morpheus, Trinity, Neo, Apoc, Switch, Mouse and Cypher are jacked into the Matrix.\n",
      "Trinity brings the helicopter down to the floor that Morpheus is on and Neo opens fire on the three Agents.\n"
     ]
    }
   ],
   "source": [
    "print('Summary:')\n",
    "print(summarize(text, words=50)) # 단어의 수로 요약문의 크기 조절하기"
   ]
  },
  {
   "cell_type": "markdown",
   "id": "2cd01aa3",
   "metadata": {},
   "source": [
    "# 뉴스 기사 요약해보기"
   ]
  },
  {
   "cell_type": "markdown",
   "id": "495ae5d8",
   "metadata": {},
   "source": [
    "[News_Summary 사용하기](https://github.com/sunnysai12345/News_Summary)"
   ]
  },
  {
   "cell_type": "code",
   "execution_count": 55,
   "id": "f0657376",
   "metadata": {},
   "outputs": [
    {
     "data": {
      "text/html": [
       "<div>\n",
       "<style scoped>\n",
       "    .dataframe tbody tr th:only-of-type {\n",
       "        vertical-align: middle;\n",
       "    }\n",
       "\n",
       "    .dataframe tbody tr th {\n",
       "        vertical-align: top;\n",
       "    }\n",
       "\n",
       "    .dataframe thead th {\n",
       "        text-align: right;\n",
       "    }\n",
       "</style>\n",
       "<table border=\"1\" class=\"dataframe\">\n",
       "  <thead>\n",
       "    <tr style=\"text-align: right;\">\n",
       "      <th></th>\n",
       "      <th>headlines</th>\n",
       "      <th>text</th>\n",
       "    </tr>\n",
       "  </thead>\n",
       "  <tbody>\n",
       "    <tr>\n",
       "      <th>36678</th>\n",
       "      <td>This is all imagination: Videocon chief on loo...</td>\n",
       "      <td>Denying the news of a look out circular agains...</td>\n",
       "    </tr>\n",
       "    <tr>\n",
       "      <th>10050</th>\n",
       "      <td>In 10 years, Jet Airways lost 3 times of what ...</td>\n",
       "      <td>India's largest full-service carrier Jet Airwa...</td>\n",
       "    </tr>\n",
       "    <tr>\n",
       "      <th>46207</th>\n",
       "      <td>My sorrow is there may be no afterlife: Sridev...</td>\n",
       "      <td>Late actress Sridevi, in an old interview with...</td>\n",
       "    </tr>\n",
       "    <tr>\n",
       "      <th>34261</th>\n",
       "      <td>US couple with 13 boys welcomes 14th son</td>\n",
       "      <td>An American woman, who already has 13 sons wit...</td>\n",
       "    </tr>\n",
       "    <tr>\n",
       "      <th>38658</th>\n",
       "      <td>K'taka HC scraps panel comprising Sachin Bansa...</td>\n",
       "      <td>The Karnataka High Court has scrapped the Beng...</td>\n",
       "    </tr>\n",
       "    <tr>\n",
       "      <th>1000</th>\n",
       "      <td>Never experienced it in my life: Kohli on suns...</td>\n",
       "      <td>On being asked about sunstrike break in the fi...</td>\n",
       "    </tr>\n",
       "    <tr>\n",
       "      <th>59531</th>\n",
       "      <td>Reality too bitter to be shown: Mahira on her ...</td>\n",
       "      <td>Pakistani actress Mahira Khan tweeted a discla...</td>\n",
       "    </tr>\n",
       "    <tr>\n",
       "      <th>36391</th>\n",
       "      <td>Swiss Aviation Consulting denies bid for Air I...</td>\n",
       "      <td>Aviation advisory firm Swiss Aviation Consulti...</td>\n",
       "    </tr>\n",
       "    <tr>\n",
       "      <th>43158</th>\n",
       "      <td>SL fans celebrating India win one of the best ...</td>\n",
       "      <td>Rohit Sharma took to Twitter to share a pictur...</td>\n",
       "    </tr>\n",
       "    <tr>\n",
       "      <th>87187</th>\n",
       "      <td>Egypt blocks financial newspaper, widening med...</td>\n",
       "      <td>Egypt has blocked the website of one of its mo...</td>\n",
       "    </tr>\n",
       "  </tbody>\n",
       "</table>\n",
       "</div>"
      ],
      "text/plain": [
       "                                               headlines  \\\n",
       "36678  This is all imagination: Videocon chief on loo...   \n",
       "10050  In 10 years, Jet Airways lost 3 times of what ...   \n",
       "46207  My sorrow is there may be no afterlife: Sridev...   \n",
       "34261           US couple with 13 boys welcomes 14th son   \n",
       "38658  K'taka HC scraps panel comprising Sachin Bansa...   \n",
       "1000   Never experienced it in my life: Kohli on suns...   \n",
       "59531  Reality too bitter to be shown: Mahira on her ...   \n",
       "36391  Swiss Aviation Consulting denies bid for Air I...   \n",
       "43158  SL fans celebrating India win one of the best ...   \n",
       "87187  Egypt blocks financial newspaper, widening med...   \n",
       "\n",
       "                                                    text  \n",
       "36678  Denying the news of a look out circular agains...  \n",
       "10050  India's largest full-service carrier Jet Airwa...  \n",
       "46207  Late actress Sridevi, in an old interview with...  \n",
       "34261  An American woman, who already has 13 sons wit...  \n",
       "38658  The Karnataka High Court has scrapped the Beng...  \n",
       "1000   On being asked about sunstrike break in the fi...  \n",
       "59531  Pakistani actress Mahira Khan tweeted a discla...  \n",
       "36391  Aviation advisory firm Swiss Aviation Consulti...  \n",
       "43158  Rohit Sharma took to Twitter to share a pictur...  \n",
       "87187  Egypt has blocked the website of one of its mo...  "
      ]
     },
     "execution_count": 55,
     "metadata": {},
     "output_type": "execute_result"
    }
   ],
   "source": [
    "import urllib.request\n",
    "urllib.request.urlretrieve(\"https://raw.githubusercontent.com/sunnysai12345/News_Summary/master/news_summary_more.csv\", filename=\"news_summary_more.csv\")\n",
    "data = pd.read_csv('news_summary_more.csv', encoding='iso-8859-1')\n",
    "\n",
    "data.sample(10)"
   ]
  },
  {
   "cell_type": "markdown",
   "id": "1194fd00",
   "metadata": {},
   "source": [
    "text와 headlines 두 가지 열로 구성되어 있다. 추상적 요약을 하는 경우에 text를 본문, headlines를 요약된 데이터로 삼아 모델을 학습할 수 있다. 추출적 요약을 사용하면 text열만 사용하면 된다."
   ]
  },
  {
   "cell_type": "markdown",
   "id": "eff469f4",
   "metadata": {},
   "source": [
    "- Step 2. 데이터 전처리하기(추상적 요약하기)\n",
    "- Step 3. 어텐션 메커니즘 사용하기(추상적 요약)\n",
    "- Step 4. 실제 결과와 요약문 비교하기(추상적 요약)\n",
    "- Step 5. Summa를 이용한 추출적 요약 해보기"
   ]
  }
 ],
 "metadata": {
  "kernelspec": {
   "display_name": "Python 3 (ipykernel)",
   "language": "python",
   "name": "python3"
  },
  "language_info": {
   "codemirror_mode": {
    "name": "ipython",
    "version": 3
   },
   "file_extension": ".py",
   "mimetype": "text/x-python",
   "name": "python",
   "nbconvert_exporter": "python",
   "pygments_lexer": "ipython3",
   "version": "3.9.7"
  }
 },
 "nbformat": 4,
 "nbformat_minor": 5
}
