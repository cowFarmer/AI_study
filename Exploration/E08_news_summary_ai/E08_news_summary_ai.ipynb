{
 "cells": [
  {
   "cell_type": "markdown",
   "id": "a6582454",
   "metadata": {},
   "source": [
    "# 8. 뉴스 요약 봇 만들기"
   ]
  },
  {
   "cell_type": "markdown",
   "id": "9be781a1",
   "metadata": {},
   "source": [
    "# 데이터 가져오기"
   ]
  },
  {
   "cell_type": "markdown",
   "id": "f6d3d5f6",
   "metadata": {},
   "source": [
    "[News_Summary 사용하기](https://github.com/sunnysai12345/News_Summary)   "
   ]
  },
  {
   "cell_type": "code",
   "execution_count": 1,
   "id": "71d3f5ce",
   "metadata": {},
   "outputs": [
    {
     "name": "stderr",
     "output_type": "stream",
     "text": [
      "[nltk_data] Downloading package stopwords to /aiffel/nltk_data...\n",
      "[nltk_data]   Unzipping corpora/stopwords.zip.\n"
     ]
    }
   ],
   "source": [
    "import nltk\n",
    "nltk.download('stopwords')\n",
    "import numpy as np\n",
    "import pandas as pd\n",
    "import os\n",
    "import re\n",
    "import matplotlib.pyplot as plt\n",
    "from nltk.corpus import stopwords\n",
    "from bs4 import BeautifulSoup \n",
    "from tensorflow.keras.preprocessing.text import Tokenizer\n",
    "from tensorflow.keras.preprocessing.sequence import pad_sequences\n",
    "import urllib.request\n",
    "import warnings\n",
    "warnings.filterwarnings(\"ignore\", category=UserWarning, module='bs4')"
   ]
  },
  {
   "cell_type": "code",
   "execution_count": 2,
   "id": "759b672c",
   "metadata": {},
   "outputs": [
    {
     "data": {
      "text/html": [
       "<div>\n",
       "<style scoped>\n",
       "    .dataframe tbody tr th:only-of-type {\n",
       "        vertical-align: middle;\n",
       "    }\n",
       "\n",
       "    .dataframe tbody tr th {\n",
       "        vertical-align: top;\n",
       "    }\n",
       "\n",
       "    .dataframe thead th {\n",
       "        text-align: right;\n",
       "    }\n",
       "</style>\n",
       "<table border=\"1\" class=\"dataframe\">\n",
       "  <thead>\n",
       "    <tr style=\"text-align: right;\">\n",
       "      <th></th>\n",
       "      <th>headlines</th>\n",
       "      <th>text</th>\n",
       "    </tr>\n",
       "  </thead>\n",
       "  <tbody>\n",
       "    <tr>\n",
       "      <th>51428</th>\n",
       "      <td>What does US government shutdown mean?</td>\n",
       "      <td>A shutdown of US government services is trigge...</td>\n",
       "    </tr>\n",
       "    <tr>\n",
       "      <th>76268</th>\n",
       "      <td>US bombers conduct air drills near North Korea</td>\n",
       "      <td>US supersonic bombers and Japanese jets on Tue...</td>\n",
       "    </tr>\n",
       "    <tr>\n",
       "      <th>21751</th>\n",
       "      <td>Hotel asks Google engineer to leave after his ...</td>\n",
       "      <td>The Caesars Palace hotel in the US, which host...</td>\n",
       "    </tr>\n",
       "    <tr>\n",
       "      <th>96456</th>\n",
       "      <td>Indian-origin lady convicted over fake clothin...</td>\n",
       "      <td>The Birmingham Crown Court has convicted an In...</td>\n",
       "    </tr>\n",
       "    <tr>\n",
       "      <th>56959</th>\n",
       "      <td>Faulty parts caused fire in missing Argentinia...</td>\n",
       "      <td>Faulty parts may have caused a fire in the mis...</td>\n",
       "    </tr>\n",
       "    <tr>\n",
       "      <th>16404</th>\n",
       "      <td>Nobody does it better, tweets user as Dhoni pl...</td>\n",
       "      <td>Reacting to ex-India captain MS Dhoni plotting...</td>\n",
       "    </tr>\n",
       "    <tr>\n",
       "      <th>45054</th>\n",
       "      <td>CPM claims BJP-IPFT coordinated attacks on Lef...</td>\n",
       "      <td>The CPM on Tuesday tweeted photos of violence ...</td>\n",
       "    </tr>\n",
       "    <tr>\n",
       "      <th>69709</th>\n",
       "      <td>Garbage arranged at India Gate for union minis...</td>\n",
       "      <td>Garbage was reportedly arranged by volunteers ...</td>\n",
       "    </tr>\n",
       "    <tr>\n",
       "      <th>44488</th>\n",
       "      <td>Alicia Vikander starrer 'Tomb Raider' hits the...</td>\n",
       "      <td>Alicia Vikander starrer 'Tomb Raider', which r...</td>\n",
       "    </tr>\n",
       "    <tr>\n",
       "      <th>78967</th>\n",
       "      <td>Gurugram engineering student jumps to death fr...</td>\n",
       "      <td>A 22-year-old engineering student allegedly co...</td>\n",
       "    </tr>\n",
       "  </tbody>\n",
       "</table>\n",
       "</div>"
      ],
      "text/plain": [
       "                                               headlines  \\\n",
       "51428             What does US government shutdown mean?   \n",
       "76268     US bombers conduct air drills near North Korea   \n",
       "21751  Hotel asks Google engineer to leave after his ...   \n",
       "96456  Indian-origin lady convicted over fake clothin...   \n",
       "56959  Faulty parts caused fire in missing Argentinia...   \n",
       "16404  Nobody does it better, tweets user as Dhoni pl...   \n",
       "45054  CPM claims BJP-IPFT coordinated attacks on Lef...   \n",
       "69709  Garbage arranged at India Gate for union minis...   \n",
       "44488  Alicia Vikander starrer 'Tomb Raider' hits the...   \n",
       "78967  Gurugram engineering student jumps to death fr...   \n",
       "\n",
       "                                                    text  \n",
       "51428  A shutdown of US government services is trigge...  \n",
       "76268  US supersonic bombers and Japanese jets on Tue...  \n",
       "21751  The Caesars Palace hotel in the US, which host...  \n",
       "96456  The Birmingham Crown Court has convicted an In...  \n",
       "56959  Faulty parts may have caused a fire in the mis...  \n",
       "16404  Reacting to ex-India captain MS Dhoni plotting...  \n",
       "45054  The CPM on Tuesday tweeted photos of violence ...  \n",
       "69709  Garbage was reportedly arranged by volunteers ...  \n",
       "44488  Alicia Vikander starrer 'Tomb Raider', which r...  \n",
       "78967  A 22-year-old engineering student allegedly co...  "
      ]
     },
     "execution_count": 2,
     "metadata": {},
     "output_type": "execute_result"
    }
   ],
   "source": [
    "import urllib.request\n",
    "urllib.request.urlretrieve(\"https://raw.githubusercontent.com/sunnysai12345/News_Summary/master/news_summary_more.csv\", filename=\"news_summary_more.csv\")\n",
    "data = pd.read_csv('news_summary_more.csv', encoding='iso-8859-1')\n",
    "\n",
    "data.sample(10)"
   ]
  },
  {
   "cell_type": "markdown",
   "id": "4d8849a4",
   "metadata": {},
   "source": [
    "text와 headlines 두 가지 열로 구성되어 있다. 이들을 추상적 요약과 추출적 요약을 해보자. \n",
    "- 추상적 요약: 원문에서 새로운 문장을 생성해내는 방식이다.   \n",
    "text를 본문, headlines를 요약된 데이터로 잡아서 모델을 학습해보자.\n",
    "- 추출적 요약: 원문의 문장에서 핵심 문장을 추출해서 요약하는 방식이다.   \n",
    "text를 사용해서 모델 학습해보자."
   ]
  },
  {
   "cell_type": "markdown",
   "id": "183212ee",
   "metadata": {},
   "source": [
    "# 추상적 요약"
   ]
  },
  {
   "cell_type": "markdown",
   "id": "b97ae538",
   "metadata": {},
   "source": [
    "# 데이터 전처리하기"
   ]
  },
  {
   "cell_type": "markdown",
   "id": "742a69d5",
   "metadata": {},
   "source": [
    "### 데이터 정리하기"
   ]
  },
  {
   "cell_type": "markdown",
   "id": "cca6e989",
   "metadata": {},
   "source": [
    "중복 샘플과 NULL 값을 제거해보자"
   ]
  },
  {
   "cell_type": "code",
   "execution_count": 3,
   "id": "98acde1a",
   "metadata": {},
   "outputs": [
    {
     "name": "stdout",
     "output_type": "stream",
     "text": [
      "전체 샘플수 : 98401\n"
     ]
    }
   ],
   "source": [
    "print('전체 샘플수 :', (len(data)))"
   ]
  },
  {
   "cell_type": "code",
   "execution_count": 4,
   "id": "1ba5d792",
   "metadata": {},
   "outputs": [
    {
     "name": "stdout",
     "output_type": "stream",
     "text": [
      "text 열에서 중복을 배제한 유일한 샘플의 수 : 98360\n",
      "headlines 열에서 중복을 배제한 유일한 샘플의 수 : 98280\n"
     ]
    }
   ],
   "source": [
    "print('text 열에서 중복을 배제한 유일한 샘플의 수 :', data['text'].nunique())\n",
    "print('headlines 열에서 중복을 배제한 유일한 샘플의 수 :', data['headlines'].nunique())"
   ]
  },
  {
   "cell_type": "code",
   "execution_count": 5,
   "id": "cf0ac138",
   "metadata": {},
   "outputs": [
    {
     "name": "stdout",
     "output_type": "stream",
     "text": [
      "전체 샘플수 : 98360\n"
     ]
    }
   ],
   "source": [
    "data.drop_duplicates(subset = ['text'], inplace=True)\n",
    "print('전체 샘플수 :', (len(data)))"
   ]
  },
  {
   "cell_type": "code",
   "execution_count": 6,
   "id": "75557f1e",
   "metadata": {},
   "outputs": [
    {
     "name": "stdout",
     "output_type": "stream",
     "text": [
      "headlines    0\n",
      "text         0\n",
      "dtype: int64\n"
     ]
    }
   ],
   "source": [
    "print(data.isnull().sum())"
   ]
  },
  {
   "cell_type": "markdown",
   "id": "904924f2",
   "metadata": {},
   "source": [
    "### 텍스트 정규화와 불용어 제거하기"
   ]
  },
  {
   "cell_type": "markdown",
   "id": "cb94bda4",
   "metadata": {},
   "source": [
    "[정규화 사전 출처](https://stackoverflow.com/questions/19790188/expanding-english-language-contractions-in-python)를 참고해서 텍스트 정규화를 진행해보자"
   ]
  },
  {
   "cell_type": "code",
   "execution_count": 7,
   "id": "34f107d7",
   "metadata": {},
   "outputs": [
    {
     "name": "stdout",
     "output_type": "stream",
     "text": [
      "정규화 사전의 수:  120\n"
     ]
    }
   ],
   "source": [
    "contractions = {\"ain't\": \"is not\", \"aren't\": \"are not\",\"can't\": \"cannot\", \"'cause\": \"because\", \"could've\": \"could have\", \"couldn't\": \"could not\",\n",
    "                           \"didn't\": \"did not\",  \"doesn't\": \"does not\", \"don't\": \"do not\", \"hadn't\": \"had not\", \"hasn't\": \"has not\", \"haven't\": \"have not\",\n",
    "                           \"he'd\": \"he would\",\"he'll\": \"he will\", \"he's\": \"he is\", \"how'd\": \"how did\", \"how'd'y\": \"how do you\", \"how'll\": \"how will\", \"how's\": \"how is\",\n",
    "                           \"I'd\": \"I would\", \"I'd've\": \"I would have\", \"I'll\": \"I will\", \"I'll've\": \"I will have\",\"I'm\": \"I am\", \"I've\": \"I have\", \"i'd\": \"i would\",\n",
    "                           \"i'd've\": \"i would have\", \"i'll\": \"i will\",  \"i'll've\": \"i will have\",\"i'm\": \"i am\", \"i've\": \"i have\", \"isn't\": \"is not\", \"it'd\": \"it would\",\n",
    "                           \"it'd've\": \"it would have\", \"it'll\": \"it will\", \"it'll've\": \"it will have\",\"it's\": \"it is\", \"let's\": \"let us\", \"ma'am\": \"madam\",\n",
    "                           \"mayn't\": \"may not\", \"might've\": \"might have\",\"mightn't\": \"might not\",\"mightn't've\": \"might not have\", \"must've\": \"must have\",\n",
    "                           \"mustn't\": \"must not\", \"mustn't've\": \"must not have\", \"needn't\": \"need not\", \"needn't've\": \"need not have\",\"o'clock\": \"of the clock\",\n",
    "                           \"oughtn't\": \"ought not\", \"oughtn't've\": \"ought not have\", \"shan't\": \"shall not\", \"sha'n't\": \"shall not\", \"shan't've\": \"shall not have\",\n",
    "                           \"she'd\": \"she would\", \"she'd've\": \"she would have\", \"she'll\": \"she will\", \"she'll've\": \"she will have\", \"she's\": \"she is\",\n",
    "                           \"should've\": \"should have\", \"shouldn't\": \"should not\", \"shouldn't've\": \"should not have\", \"so've\": \"so have\",\"so's\": \"so as\",\n",
    "                           \"this's\": \"this is\",\"that'd\": \"that would\", \"that'd've\": \"that would have\", \"that's\": \"that is\", \"there'd\": \"there would\",\n",
    "                           \"there'd've\": \"there would have\", \"there's\": \"there is\", \"here's\": \"here is\",\"they'd\": \"they would\", \"they'd've\": \"they would have\",\n",
    "                           \"they'll\": \"they will\", \"they'll've\": \"they will have\", \"they're\": \"they are\", \"they've\": \"they have\", \"to've\": \"to have\",\n",
    "                           \"wasn't\": \"was not\", \"we'd\": \"we would\", \"we'd've\": \"we would have\", \"we'll\": \"we will\", \"we'll've\": \"we will have\", \"we're\": \"we are\",\n",
    "                           \"we've\": \"we have\", \"weren't\": \"were not\", \"what'll\": \"what will\", \"what'll've\": \"what will have\", \"what're\": \"what are\",\n",
    "                           \"what's\": \"what is\", \"what've\": \"what have\", \"when's\": \"when is\", \"when've\": \"when have\", \"where'd\": \"where did\", \"where's\": \"where is\",\n",
    "                           \"where've\": \"where have\", \"who'll\": \"who will\", \"who'll've\": \"who will have\", \"who's\": \"who is\", \"who've\": \"who have\",\n",
    "                           \"why's\": \"why is\", \"why've\": \"why have\", \"will've\": \"will have\", \"won't\": \"will not\", \"won't've\": \"will not have\",\n",
    "                           \"would've\": \"would have\", \"wouldn't\": \"would not\", \"wouldn't've\": \"would not have\", \"y'all\": \"you all\",\n",
    "                           \"y'all'd\": \"you all would\",\"y'all'd've\": \"you all would have\",\"y'all're\": \"you all are\",\"y'all've\": \"you all have\",\n",
    "                           \"you'd\": \"you would\", \"you'd've\": \"you would have\", \"you'll\": \"you will\", \"you'll've\": \"you will have\",\n",
    "                           \"you're\": \"you are\", \"you've\": \"you have\"}\n",
    "\n",
    "print(\"정규화 사전의 수: \", len(contractions))"
   ]
  },
  {
   "cell_type": "markdown",
   "id": "dbb58f50",
   "metadata": {},
   "source": [
    "nltk.corpus에서 import한 stopwords의 불용어를 참고해서 제거해보자.   \n",
    "모든 영문을 소문자로 만들고 섞여있는 html 태그도 제거와 특수문자도 제거하자.   \n",
    "그리고 이미 요약된 headlines는 자연스러운 문장을 결과값으로 받아야 하기 때문에 불용어 제거를 하지 않고 진행하자."
   ]
  },
  {
   "cell_type": "code",
   "execution_count": 8,
   "id": "6b083770",
   "metadata": {},
   "outputs": [
    {
     "name": "stdout",
     "output_type": "stream",
     "text": [
      "불용어 개수 : 179\n",
      "['i', 'me', 'my', 'myself', 'we', 'our', 'ours', 'ourselves', 'you', \"you're\", \"you've\", \"you'll\", \"you'd\", 'your', 'yours', 'yourself', 'yourselves', 'he', 'him', 'his', 'himself', 'she', \"she's\", 'her', 'hers', 'herself', 'it', \"it's\", 'its', 'itself', 'they', 'them', 'their', 'theirs', 'themselves', 'what', 'which', 'who', 'whom', 'this', 'that', \"that'll\", 'these', 'those', 'am', 'is', 'are', 'was', 'were', 'be', 'been', 'being', 'have', 'has', 'had', 'having', 'do', 'does', 'did', 'doing', 'a', 'an', 'the', 'and', 'but', 'if', 'or', 'because', 'as', 'until', 'while', 'of', 'at', 'by', 'for', 'with', 'about', 'against', 'between', 'into', 'through', 'during', 'before', 'after', 'above', 'below', 'to', 'from', 'up', 'down', 'in', 'out', 'on', 'off', 'over', 'under', 'again', 'further', 'then', 'once', 'here', 'there', 'when', 'where', 'why', 'how', 'all', 'any', 'both', 'each', 'few', 'more', 'most', 'other', 'some', 'such', 'no', 'nor', 'not', 'only', 'own', 'same', 'so', 'than', 'too', 'very', 's', 't', 'can', 'will', 'just', 'don', \"don't\", 'should', \"should've\", 'now', 'd', 'll', 'm', 'o', 're', 've', 'y', 'ain', 'aren', \"aren't\", 'couldn', \"couldn't\", 'didn', \"didn't\", 'doesn', \"doesn't\", 'hadn', \"hadn't\", 'hasn', \"hasn't\", 'haven', \"haven't\", 'isn', \"isn't\", 'ma', 'mightn', \"mightn't\", 'mustn', \"mustn't\", 'needn', \"needn't\", 'shan', \"shan't\", 'shouldn', \"shouldn't\", 'wasn', \"wasn't\", 'weren', \"weren't\", 'won', \"won't\", 'wouldn', \"wouldn't\"]\n"
     ]
    }
   ],
   "source": [
    "print('불용어 개수 :', len(stopwords.words('english') ))\n",
    "print(stopwords.words('english'))"
   ]
  },
  {
   "cell_type": "code",
   "execution_count": 9,
   "id": "0e5323a4",
   "metadata": {},
   "outputs": [],
   "source": [
    "# 데이터 전처리 함수\n",
    "def preprocess_sentence(sentence, remove_stopwords=True):\n",
    "    sentence = sentence.lower() # 텍스트 소문자화\n",
    "    sentence = BeautifulSoup(sentence, \"lxml\").text # <br />, <a href = ...> 등의 html 태그 제거\n",
    "    sentence = re.sub(r'\\([^)]*\\)', '', sentence) # 괄호로 닫힌 문자열 (...) 제거 Ex) my husband (and myself!) for => my husband for\n",
    "    sentence = re.sub('\"','', sentence) # 쌍따옴표 \" 제거\n",
    "    sentence = ' '.join([contractions[t] if t in contractions else t for t in sentence.split(\" \")]) # 약어 정규화\n",
    "    sentence = re.sub(r\"'s\\b\",\"\", sentence) # 소유격 제거. Ex) roland's -> roland\n",
    "    sentence = re.sub(\"[^a-zA-Z]\", \" \", sentence) # 영어 외 문자(숫자, 특수문자 등) 공백으로 변환\n",
    "    sentence = re.sub('[m]{2,}', 'mm', sentence) # m이 3개 이상이면 2개로 변경. Ex) ummmmmmm yeah -> umm yeah\n",
    "    \n",
    "    # 불용어 제거 (text)\n",
    "    if remove_stopwords:\n",
    "        tokens = ' '.join(word for word in sentence.split() if not word in stopwords.words('english') if len(word) > 1)\n",
    "    # 불용어 미제거 (headlines)\n",
    "    else:\n",
    "        tokens = ' '.join(word for word in sentence.split() if len(word) > 1)\n",
    "    return tokens"
   ]
  },
  {
   "cell_type": "code",
   "execution_count": 10,
   "id": "eae5a1a3",
   "metadata": {},
   "outputs": [
    {
     "name": "stdout",
     "output_type": "stream",
     "text": [
      "text 전처리 후 결과:  ['saurav kant alumnus upgrad iiit pg program machine learning artificial intelligence sr systems engineer infosys almost years work experience program upgrad degree career support helped transition data scientist tech mahindra salary hike upgrad online power learning powered lakh careers', 'kunal shah credit card bill payment platform cred gave users chance win free food swiggy one year pranav kaushik delhi techie bagged reward spending cred coins users get one cred coin per rupee bill paid used avail rewards brands like ixigo bookmyshow ubereats cult fit', 'new zealand defeated india wickets fourth odi hamilton thursday win first match five match odi series india lost international match rohit sharma captaincy consecutive victories dating back march match witnessed india getting seventh lowest total odi cricket history', 'aegon life iterm insurance plan customers enjoy tax benefits premiums paid save taxes plan provides life cover age years also customers options insure critical illnesses disability accidental death benefit rider life cover age years', 'speaking sexual harassment allegations rajkumar hirani sonam kapoor said known hirani many years true metoo movement get derailed metoo movement always believe woman case need reserve judgment added hirani accused assistant worked sanju']\n"
     ]
    }
   ],
   "source": [
    "clean_text = []\n",
    "# 전체 text 데이터에 대한 전처리\n",
    "for s in data['text']:\n",
    "    clean_text.append(preprocess_sentence(s))\n",
    "\n",
    "print(\"text 전처리 후 결과: \", clean_text[:5])"
   ]
  },
  {
   "cell_type": "code",
   "execution_count": 11,
   "id": "86c0ccd1",
   "metadata": {},
   "outputs": [
    {
     "name": "stdout",
     "output_type": "stream",
     "text": [
      "headlines 전처리 후 결과:  ['upgrad learner switches to career in ml al with salary hike', 'delhi techie wins free food from swiggy for one year on cred', 'new zealand end rohit sharma led india match winning streak', 'aegon life iterm insurance plan helps customers save tax', 'have known hirani for yrs what if metoo claims are not true sonam']\n"
     ]
    }
   ],
   "source": [
    "clean_headlines = []\n",
    "# 전체 headlines 데이터에 대한 전처리\n",
    "for s in data['headlines']:\n",
    "    clean_headlines.append(preprocess_sentence(s, False))\n",
    "\n",
    "print(\"headlines 전처리 후 결과: \", clean_headlines[:5])"
   ]
  },
  {
   "cell_type": "code",
   "execution_count": 12,
   "id": "d26de994",
   "metadata": {},
   "outputs": [
    {
     "name": "stdout",
     "output_type": "stream",
     "text": [
      "98360\n",
      "98360\n"
     ]
    }
   ],
   "source": [
    "print(len(clean_text))\n",
    "print(len(clean_headlines))"
   ]
  },
  {
   "cell_type": "markdown",
   "id": "2f1dabc2",
   "metadata": {},
   "source": [
    "텍스트 정제 후 빈 샘플이 있는지 확인한 후 Null값으로 바꾸고 제거해주자."
   ]
  },
  {
   "cell_type": "code",
   "execution_count": 13,
   "id": "6e86bf6e",
   "metadata": {},
   "outputs": [],
   "source": [
    "data['text'] = clean_text\n",
    "data['headlines'] = clean_headlines\n",
    "\n",
    "# 빈 값을 Null 값으로 변환\n",
    "data.replace('', np.nan, inplace=True)"
   ]
  },
  {
   "cell_type": "code",
   "execution_count": 14,
   "id": "65ead236",
   "metadata": {},
   "outputs": [
    {
     "data": {
      "text/plain": [
       "headlines    0\n",
       "text         0\n",
       "dtype: int64"
      ]
     },
     "execution_count": 14,
     "metadata": {},
     "output_type": "execute_result"
    }
   ],
   "source": [
    "# Null값 확인\n",
    "data.isnull().sum()"
   ]
  },
  {
   "cell_type": "code",
   "execution_count": 15,
   "id": "dd9a98c5",
   "metadata": {},
   "outputs": [
    {
     "name": "stdout",
     "output_type": "stream",
     "text": [
      "전체 샘플수 : 98360\n"
     ]
    }
   ],
   "source": [
    "data.dropna(axis=0, inplace=True)\n",
    "print('전체 샘플수 :', (len(data)))"
   ]
  },
  {
   "cell_type": "markdown",
   "id": "0fc1aa3b",
   "metadata": {},
   "source": [
    "### 훈련에 사용할 샘플의 최대 길이 정하기"
   ]
  },
  {
   "cell_type": "code",
   "execution_count": 16,
   "id": "14361658",
   "metadata": {},
   "outputs": [
    {
     "name": "stdout",
     "output_type": "stream",
     "text": [
      "텍스트의 최소 길이 : 1\n",
      "텍스트의 최대 길이 : 60\n",
      "텍스트의 평균 길이 : 35.09968483123221\n",
      "요약의 최소 길이 : 1\n",
      "요약의 최대 길이 : 16\n",
      "요약의 평균 길이 : 9.299532330215534\n"
     ]
    },
    {
     "data": {
      "image/png": "[encoded data removed]",
      "text/plain": [
       "<Figure size 432x288 with 2 Axes>"
      ]
     },
     "metadata": {
      "needs_background": "light"
     },
     "output_type": "display_data"
    },
    {
     "data": {
      "image/png": "[encoded data removed]",
      "text/plain": [
       "<Figure size 432x288 with 1 Axes>"
      ]
     },
     "metadata": {
      "needs_background": "light"
     },
     "output_type": "display_data"
    },
    {
     "data": {
      "image/png": "[encoded data removed]",
      "text/plain": [
       "<Figure size 432x288 with 1 Axes>"
      ]
     },
     "metadata": {
      "needs_background": "light"
     },
     "output_type": "display_data"
    }
   ],
   "source": [
    "# 길이 분포 출력\n",
    "import matplotlib.pyplot as plt\n",
    "\n",
    "text_len = [len(s.split()) for s in data['text']]\n",
    "headlines_len = [len(s.split()) for s in data['headlines']]\n",
    "\n",
    "print('텍스트의 최소 길이 : {}'.format(np.min(text_len)))\n",
    "print('텍스트의 최대 길이 : {}'.format(np.max(text_len)))\n",
    "print('텍스트의 평균 길이 : {}'.format(np.mean(text_len)))\n",
    "print('요약의 최소 길이 : {}'.format(np.min(headlines_len)))\n",
    "print('요약의 최대 길이 : {}'.format(np.max(headlines_len)))\n",
    "print('요약의 평균 길이 : {}'.format(np.mean(headlines_len)))\n",
    "\n",
    "plt.subplot(1,2,1)\n",
    "plt.boxplot(text_len)\n",
    "plt.title('text')\n",
    "plt.subplot(1,2,2)\n",
    "plt.boxplot(headlines_len)\n",
    "plt.title('headlines')\n",
    "plt.tight_layout()\n",
    "plt.show()\n",
    "\n",
    "plt.title('text')\n",
    "plt.hist(text_len, bins = 40)\n",
    "plt.xlabel('length of samples')\n",
    "plt.ylabel('number of samples')\n",
    "plt.show()\n",
    "\n",
    "plt.title('headlines')\n",
    "plt.hist(headlines_len, bins = 40)\n",
    "plt.xlabel('length of samples')\n",
    "plt.ylabel('number of samples')\n",
    "plt.show()"
   ]
  },
  {
   "cell_type": "markdown",
   "id": "a23277c3",
   "metadata": {},
   "source": [
    "위에 결과를 보고 적절한 최대 길이를 임의로 정해서 데이터의 몇 퍼센트를 자를지 확인해보자"
   ]
  },
  {
   "cell_type": "code",
   "execution_count": 17,
   "id": "c4d70ef4",
   "metadata": {},
   "outputs": [],
   "source": [
    "text_max_len = 40\n",
    "headlines_max_len = 11\n",
    "\n",
    "def below_threshold_len(max_len, nested_list):\n",
    "  cnt = 0\n",
    "  for s in nested_list:\n",
    "    if(len(s.split()) <= max_len):\n",
    "        cnt = cnt + 1\n",
    "  print('전체 샘플 중 길이가 %s 이하인 샘플의 비율: %s'%(max_len, (cnt / len(nested_list))))"
   ]
  },
  {
   "cell_type": "code",
   "execution_count": 18,
   "id": "9eb51076",
   "metadata": {},
   "outputs": [
    {
     "name": "stdout",
     "output_type": "stream",
     "text": [
      "전체 샘플 중 길이가 40 이하인 샘플의 비율: 0.9238714924766165\n",
      "전체 샘플 중 길이가 11 이하인 샘플의 비율: 0.9449877999186661\n"
     ]
    }
   ],
   "source": [
    "below_threshold_len(text_max_len, data['text'])\n",
    "below_threshold_len(headlines_max_len,  data['headlines'])"
   ]
  },
  {
   "cell_type": "markdown",
   "id": "bd236fa1",
   "metadata": {},
   "source": [
    "퍼센트가 괜찮은거 같아 임의로 정한 길이보다 길면 제거하여 정제하자."
   ]
  },
  {
   "cell_type": "code",
   "execution_count": 19,
   "id": "aec53208",
   "metadata": {},
   "outputs": [
    {
     "name": "stdout",
     "output_type": "stream",
     "text": [
      "전체 샘플수 : 85843\n"
     ]
    }
   ],
   "source": [
    "data = data[data['text'].apply(lambda x: len(x.split()) <= text_max_len)]\n",
    "data = data[data['headlines'].apply(lambda x: len(x.split()) <= headlines_max_len)]\n",
    "print('전체 샘플수 :', (len(data)))"
   ]
  },
  {
   "cell_type": "markdown",
   "id": "27f322da",
   "metadata": {},
   "source": [
    "### 시작, 종료 토큰 추가하기"
   ]
  },
  {
   "cell_type": "markdown",
   "id": "a85a0285",
   "metadata": {},
   "source": [
    "seq2seq 구조를 사용할건데 이는 시작토큰 SOS가 주어지면 종료토큰 EOS가 나올때까지 멈추지 않고 진행하므로 추가해주자."
   ]
  },
  {
   "cell_type": "code",
   "execution_count": 20,
   "id": "aafffb22",
   "metadata": {},
   "outputs": [
    {
     "data": {
      "text/html": [
       "<div>\n",
       "<style scoped>\n",
       "    .dataframe tbody tr th:only-of-type {\n",
       "        vertical-align: middle;\n",
       "    }\n",
       "\n",
       "    .dataframe tbody tr th {\n",
       "        vertical-align: top;\n",
       "    }\n",
       "\n",
       "    .dataframe thead th {\n",
       "        text-align: right;\n",
       "    }\n",
       "</style>\n",
       "<table border=\"1\" class=\"dataframe\">\n",
       "  <thead>\n",
       "    <tr style=\"text-align: right;\">\n",
       "      <th></th>\n",
       "      <th>headlines</th>\n",
       "      <th>text</th>\n",
       "      <th>decoder_input</th>\n",
       "      <th>decoder_target</th>\n",
       "    </tr>\n",
       "  </thead>\n",
       "  <tbody>\n",
       "    <tr>\n",
       "      <th>0</th>\n",
       "      <td>upgrad learner switches to career in ml al wit...</td>\n",
       "      <td>saurav kant alumnus upgrad iiit pg program mac...</td>\n",
       "      <td>sostoken upgrad learner switches to career in ...</td>\n",
       "      <td>upgrad learner switches to career in ml al wit...</td>\n",
       "    </tr>\n",
       "    <tr>\n",
       "      <th>2</th>\n",
       "      <td>new zealand end rohit sharma led india match w...</td>\n",
       "      <td>new zealand defeated india wickets fourth odi ...</td>\n",
       "      <td>sostoken new zealand end rohit sharma led indi...</td>\n",
       "      <td>new zealand end rohit sharma led india match w...</td>\n",
       "    </tr>\n",
       "    <tr>\n",
       "      <th>3</th>\n",
       "      <td>aegon life iterm insurance plan helps customer...</td>\n",
       "      <td>aegon life iterm insurance plan customers enjo...</td>\n",
       "      <td>sostoken aegon life iterm insurance plan helps...</td>\n",
       "      <td>aegon life iterm insurance plan helps customer...</td>\n",
       "    </tr>\n",
       "    <tr>\n",
       "      <th>5</th>\n",
       "      <td>rahat fateh ali khan denies getting notice for...</td>\n",
       "      <td>pakistani singer rahat fateh ali khan denied r...</td>\n",
       "      <td>sostoken rahat fateh ali khan denies getting n...</td>\n",
       "      <td>rahat fateh ali khan denies getting notice for...</td>\n",
       "    </tr>\n",
       "    <tr>\n",
       "      <th>7</th>\n",
       "      <td>govt directs alok verma to join work day befor...</td>\n",
       "      <td>weeks ex cbi director alok verma told departme...</td>\n",
       "      <td>sostoken govt directs alok verma to join work ...</td>\n",
       "      <td>govt directs alok verma to join work day befor...</td>\n",
       "    </tr>\n",
       "  </tbody>\n",
       "</table>\n",
       "</div>"
      ],
      "text/plain": [
       "                                           headlines  \\\n",
       "0  upgrad learner switches to career in ml al wit...   \n",
       "2  new zealand end rohit sharma led india match w...   \n",
       "3  aegon life iterm insurance plan helps customer...   \n",
       "5  rahat fateh ali khan denies getting notice for...   \n",
       "7  govt directs alok verma to join work day befor...   \n",
       "\n",
       "                                                text  \\\n",
       "0  saurav kant alumnus upgrad iiit pg program mac...   \n",
       "2  new zealand defeated india wickets fourth odi ...   \n",
       "3  aegon life iterm insurance plan customers enjo...   \n",
       "5  pakistani singer rahat fateh ali khan denied r...   \n",
       "7  weeks ex cbi director alok verma told departme...   \n",
       "\n",
       "                                       decoder_input  \\\n",
       "0  sostoken upgrad learner switches to career in ...   \n",
       "2  sostoken new zealand end rohit sharma led indi...   \n",
       "3  sostoken aegon life iterm insurance plan helps...   \n",
       "5  sostoken rahat fateh ali khan denies getting n...   \n",
       "7  sostoken govt directs alok verma to join work ...   \n",
       "\n",
       "                                      decoder_target  \n",
       "0  upgrad learner switches to career in ml al wit...  \n",
       "2  new zealand end rohit sharma led india match w...  \n",
       "3  aegon life iterm insurance plan helps customer...  \n",
       "5  rahat fateh ali khan denies getting notice for...  \n",
       "7  govt directs alok verma to join work day befor...  "
      ]
     },
     "execution_count": 20,
     "metadata": {},
     "output_type": "execute_result"
    }
   ],
   "source": [
    "# 요약 데이터 headlines에 시작 토큰과 종료 토큰 추가하기\n",
    "data['decoder_input'] = data['headlines'].apply(lambda x : 'sostoken '+ x)\n",
    "data['decoder_target'] = data['headlines'].apply(lambda x : x + ' eostoken')\n",
    "data.head()"
   ]
  },
  {
   "cell_type": "code",
   "execution_count": 21,
   "id": "ea614b69",
   "metadata": {},
   "outputs": [],
   "source": [
    "# Numpy 타입으로 저장히기\n",
    "encoder_input = np.array(data['text']) # 인코더의 입력\n",
    "decoder_input = np.array(data['decoder_input']) # 디코더의 입력\n",
    "decoder_target = np.array(data['decoder_target']) # 디코더의 레이블"
   ]
  },
  {
   "cell_type": "markdown",
   "id": "87346c25",
   "metadata": {},
   "source": [
    "### 훈련 데이터와 테스트 데이터 분리하기"
   ]
  },
  {
   "cell_type": "markdown",
   "id": "d7a7dcfb",
   "metadata": {},
   "source": [
    "랜덤으로 번호를 만들고 이들을 데이터에 붙여 섞어주고 8:2 비율로 나누기"
   ]
  },
  {
   "cell_type": "code",
   "execution_count": 22,
   "id": "2f0569bb",
   "metadata": {},
   "outputs": [
    {
     "name": "stdout",
     "output_type": "stream",
     "text": [
      "[76510 29668 59462 ... 71343 36185 69089]\n"
     ]
    }
   ],
   "source": [
    "indices = np.arange(encoder_input.shape[0])\n",
    "np.random.shuffle(indices)\n",
    "print(indices)"
   ]
  },
  {
   "cell_type": "code",
   "execution_count": 23,
   "id": "2b759618",
   "metadata": {},
   "outputs": [],
   "source": [
    "encoder_input = encoder_input[indices]\n",
    "decoder_input = decoder_input[indices]\n",
    "decoder_target = decoder_target[indices]"
   ]
  },
  {
   "cell_type": "code",
   "execution_count": 24,
   "id": "794dc013",
   "metadata": {},
   "outputs": [
    {
     "name": "stdout",
     "output_type": "stream",
     "text": [
      "테스트 데이터의 수 : 17168\n"
     ]
    }
   ],
   "source": [
    "n_of_val = int(len(encoder_input)*0.2)\n",
    "print('테스트 데이터의 수 :', n_of_val)"
   ]
  },
  {
   "cell_type": "code",
   "execution_count": 25,
   "id": "fc5d5803",
   "metadata": {},
   "outputs": [
    {
     "name": "stdout",
     "output_type": "stream",
     "text": [
      "훈련 데이터의 개수 : 68675\n",
      "훈련 레이블의 개수 : 68675\n",
      "테스트 데이터의 개수 : 17168\n",
      "테스트 레이블의 개수 : 17168\n"
     ]
    }
   ],
   "source": [
    "encoder_input_train = encoder_input[:-n_of_val]\n",
    "decoder_input_train = decoder_input[:-n_of_val]\n",
    "decoder_target_train = decoder_target[:-n_of_val]\n",
    "\n",
    "encoder_input_test = encoder_input[-n_of_val:]\n",
    "decoder_input_test = decoder_input[-n_of_val:]\n",
    "decoder_target_test = decoder_target[-n_of_val:]\n",
    "\n",
    "print('훈련 데이터의 개수 :', len(encoder_input_train))\n",
    "print('훈련 레이블의 개수 :', len(decoder_input_train))\n",
    "print('테스트 데이터의 개수 :', len(encoder_input_test))\n",
    "print('테스트 레이블의 개수 :', len(decoder_input_test))"
   ]
  },
  {
   "cell_type": "markdown",
   "id": "b4c54dc3",
   "metadata": {},
   "source": [
    "### 정수 인코딩"
   ]
  },
  {
   "cell_type": "markdown",
   "id": "62d0dfa3",
   "metadata": {},
   "source": [
    "라이브러리로 가져온 `Tokenizer()`를 이용해서 단어 토큰화하기. 먼저 원문인 text(encoder_input_train)를 진행해보자. 그리고 등장 빈도수가 낮은 데이터들을 확인해보자."
   ]
  },
  {
   "cell_type": "code",
   "execution_count": 26,
   "id": "d045e324",
   "metadata": {},
   "outputs": [],
   "source": [
    "src_tokenizer = Tokenizer() # 토크나이저 정의\n",
    "src_tokenizer.fit_on_texts(encoder_input_train) # 입력된 데이터로부터 단어 집합 생성\n",
    "# print(src_tokenizer.word_index) 로 토큰화된 단어들을 볼 수 있다."
   ]
  },
  {
   "cell_type": "code",
   "execution_count": 27,
   "id": "2051afa4",
   "metadata": {},
   "outputs": [
    {
     "name": "stdout",
     "output_type": "stream",
     "text": [
      "단어 집합(vocabulary)의 크기 : 64727\n",
      "등장 빈도가 6번 이하인 희귀 단어의 수: 44133\n",
      "단어 집합에서 희귀 단어를 제외시킬 경우의 단어 집합의 크기 20594\n",
      "단어 집합에서 희귀 단어의 비율: 68.18329290713304\n",
      "전체 등장 빈도에서 희귀 단어 등장 빈도 비율: 3.779785251545193\n"
     ]
    }
   ],
   "source": [
    "threshold = 7\n",
    "total_cnt = len(src_tokenizer.word_index) # 단어의 수\n",
    "rare_cnt = 0 # 등장 빈도수가 threshold보다 작은 단어의 개수를 카운트\n",
    "total_freq = 0 # 훈련 데이터의 전체 단어 빈도수 총 합\n",
    "rare_freq = 0 # 등장 빈도수가 threshold보다 작은 단어의 등장 빈도수의 총 합\n",
    "\n",
    "# 단어와 빈도수의 쌍(pair)을 key와 value로 받는다.\n",
    "for key, value in src_tokenizer.word_counts.items():\n",
    "    total_freq = total_freq + value\n",
    "\n",
    "    # 단어의 등장 빈도수가 threshold보다 작으면\n",
    "    if(value < threshold):\n",
    "        rare_cnt = rare_cnt + 1\n",
    "        rare_freq = rare_freq + value\n",
    "\n",
    "print('단어 집합(vocabulary)의 크기 :', total_cnt)\n",
    "print('등장 빈도가 %s번 이하인 희귀 단어의 수: %s'%(threshold - 1, rare_cnt))\n",
    "print('단어 집합에서 희귀 단어를 제외시킬 경우의 단어 집합의 크기 %s'%(total_cnt - rare_cnt))\n",
    "print(\"단어 집합에서 희귀 단어의 비율:\", (rare_cnt / total_cnt)*100)\n",
    "print(\"전체 등장 빈도에서 희귀 단어 등장 빈도 비율:\", (rare_freq / total_freq)*100)"
   ]
  },
  {
   "cell_type": "markdown",
   "id": "b2ea9a7f",
   "metadata": {},
   "source": [
    "위의 결과를 해석해보면 `encoder_input_train`에는 약 6만5천개의 단어들이 있고 등장이 6번 이하인 단어의 수가 약 4만4천개에 달한다. 그리고 68%의 데이터가 실제 훈련 데이터에서 등장 빈도는 3.8%밖에 되지 않으므로 정수 인코딩 과정에서 과감하게 제한하고 텍스트 데이터들을 정수로 변환해보자."
   ]
  },
  {
   "cell_type": "code",
   "execution_count": 28,
   "id": "d819e6a5",
   "metadata": {},
   "outputs": [],
   "source": [
    "src_vocab = 20461\n",
    "src_tokenizer = Tokenizer(num_words=src_vocab) # 단어 집합의 크기 제한\n",
    "src_tokenizer.fit_on_texts(encoder_input_train) # 단어 집합 재생성"
   ]
  },
  {
   "cell_type": "code",
   "execution_count": 29,
   "id": "962a1760",
   "metadata": {},
   "outputs": [
    {
     "name": "stdout",
     "output_type": "stream",
     "text": [
      "[[1324, 14145, 1953, 13615, 402, 5960, 5960, 5960, 5960, 337, 1440, 1146, 147, 2411, 51, 1880, 3318, 4936, 520, 9193, 4747, 1367, 3251, 9399, 51, 3712, 17994, 760, 12685, 2932, 11883, 9193, 361, 187, 350], [561, 1111, 5240, 10, 230, 4019, 974, 171, 627, 289, 178, 12269, 260, 4611, 4653, 974, 664, 528, 2073, 13, 433, 260, 7398, 974, 171, 17995, 1885, 268, 47, 754, 561, 3173, 2559], [198, 147, 10, 530, 1419, 2086, 77, 770, 1214, 153, 4440, 598, 210, 86, 770, 2086, 1297, 530, 179, 2652, 3875, 1515, 4441, 373, 161, 210, 96, 700, 17030, 6831, 3638, 17996, 10074, 404, 770]]\n"
     ]
    }
   ],
   "source": [
    "# 텍스트 시퀀스를 정수 시퀀스로 변환\n",
    "encoder_input_train = src_tokenizer.texts_to_sequences(encoder_input_train) \n",
    "encoder_input_test = src_tokenizer.texts_to_sequences(encoder_input_test)\n",
    "\n",
    "# 잘 진행되었는지 샘플 출력\n",
    "print(encoder_input_train[:3])"
   ]
  },
  {
   "cell_type": "markdown",
   "id": "6d1a6f72",
   "metadata": {},
   "source": [
    "동일하게 headlines 데이터 `decoder_input_train`에 적용하자."
   ]
  },
  {
   "cell_type": "code",
   "execution_count": 30,
   "id": "d20f29be",
   "metadata": {},
   "outputs": [],
   "source": [
    "tar_tokenizer = Tokenizer() # 토크나이저 정의\n",
    "tar_tokenizer.fit_on_texts(decoder_input_train) # 입력된 데이터로부터 단어 집합 생성\n",
    "# print(tar_tokenizer.word_index) 로 토큰화된 단어들을 볼 수 있다."
   ]
  },
  {
   "cell_type": "code",
   "execution_count": 31,
   "id": "c4bad200",
   "metadata": {},
   "outputs": [
    {
     "name": "stdout",
     "output_type": "stream",
     "text": [
      "단어 집합(vocabulary)의 크기 : 28497\n",
      "등장 빈도가 4번 이하인 희귀 단어의 수: 17640\n",
      "단어 집합에서 희귀 단어를 제외시킬 경우의 단어 집합의 크기 10857\n",
      "단어 집합에서 희귀 단어의 비율: 61.90125276344879\n",
      "전체 등장 빈도에서 희귀 단어 등장 빈도 비율: 4.361362652596642\n"
     ]
    }
   ],
   "source": [
    "threshold = 5\n",
    "total_cnt = len(tar_tokenizer.word_index) # 단어의 수\n",
    "rare_cnt = 0 # 등장 빈도수가 threshold보다 작은 단어의 개수를 카운트\n",
    "total_freq = 0 # 훈련 데이터의 전체 단어 빈도수 총 합\n",
    "rare_freq = 0 # 등장 빈도수가 threshold보다 작은 단어의 등장 빈도수의 총 합\n",
    "\n",
    "# 단어와 빈도수의 쌍(pair)을 key와 value로 받는다.\n",
    "for key, value in tar_tokenizer.word_counts.items():\n",
    "    total_freq = total_freq + value\n",
    "\n",
    "    # 단어의 등장 빈도수가 threshold보다 작으면\n",
    "    if(value < threshold):\n",
    "        rare_cnt = rare_cnt + 1\n",
    "        rare_freq = rare_freq + value\n",
    "\n",
    "print('단어 집합(vocabulary)의 크기 :', total_cnt)\n",
    "print('등장 빈도가 %s번 이하인 희귀 단어의 수: %s'%(threshold - 1, rare_cnt))\n",
    "print('단어 집합에서 희귀 단어를 제외시킬 경우의 단어 집합의 크기 %s'%(total_cnt - rare_cnt))\n",
    "print(\"단어 집합에서 희귀 단어의 비율:\", (rare_cnt / total_cnt)*100)\n",
    "print(\"전체 등장 빈도에서 희귀 단어 등장 빈도 비율:\", (rare_freq / total_freq)*100)"
   ]
  },
  {
   "cell_type": "code",
   "execution_count": 32,
   "id": "f603f8d6",
   "metadata": {},
   "outputs": [
    {
     "name": "stdout",
     "output_type": "stream",
     "text": [
      "input\n",
      "input  [[1, 2160, 9752, 1235, 379, 13, 1236, 2048, 6285, 53], [1, 250, 1125, 2161, 76, 40, 220, 905, 600], [1, 150, 1052, 3, 321, 8197, 4, 915], [1, 2049, 568, 4571, 106, 194, 7], [1, 7611, 3519, 344, 4572, 1027, 1443, 128]]\n",
      "target\n",
      "decoder  [[2160, 9752, 1235, 379, 13, 1236, 2048, 6285, 53, 2], [250, 1125, 2161, 76, 40, 220, 905, 600, 2], [150, 1052, 3, 321, 8197, 4, 915, 2], [2049, 568, 4571, 106, 194, 7, 2], [7611, 3519, 344, 4572, 1027, 1443, 128, 2]]\n"
     ]
    }
   ],
   "source": [
    "tar_vocab = 10840\n",
    "tar_tokenizer = Tokenizer(num_words=tar_vocab) \n",
    "tar_tokenizer.fit_on_texts(decoder_input_train)\n",
    "tar_tokenizer.fit_on_texts(decoder_target_train)\n",
    "\n",
    "# 텍스트 시퀀스를 정수 시퀀스로 변환\n",
    "decoder_input_train = tar_tokenizer.texts_to_sequences(decoder_input_train) \n",
    "decoder_target_train = tar_tokenizer.texts_to_sequences(decoder_target_train)\n",
    "decoder_input_test = tar_tokenizer.texts_to_sequences(decoder_input_test)\n",
    "decoder_target_test = tar_tokenizer.texts_to_sequences(decoder_target_test)\n",
    "\n",
    "# 잘 변환되었는지 확인\n",
    "print('input')\n",
    "print('input ',decoder_input_train[:5])\n",
    "print('target')\n",
    "print('decoder ',decoder_target_train[:5])"
   ]
  },
  {
   "cell_type": "markdown",
   "id": "77a78858",
   "metadata": {},
   "source": [
    "빈도수가 낮은 데이터로 구성된 빈 샘플들이 생겼을 가능성이 있으므로 확인해보자. 상대적으로 길이가 긴 text보다 짧은 headlines 데이터들이 그럴 가능성이 높다.   \n",
    "또한 decoder_input과 decoder_target에는 토큰이 추가되었으므로 이들도 따로 체크해서 빈 샘플들이 있을 경우 삭제해주자."
   ]
  },
  {
   "cell_type": "code",
   "execution_count": 33,
   "id": "7b6ed9a6",
   "metadata": {},
   "outputs": [
    {
     "name": "stdout",
     "output_type": "stream",
     "text": [
      "삭제할 훈련 데이터의 개수 : 0\n",
      "삭제할 테스트 데이터의 개수 : 0\n",
      "훈련 데이터의 개수 : 68675\n",
      "훈련 레이블의 개수 : 68675\n",
      "테스트 데이터의 개수 : 17168\n",
      "테스트 레이블의 개수 : 17168\n"
     ]
    }
   ],
   "source": [
    "drop_train = [index for index, sentence in enumerate(decoder_input_train) if len(sentence) == 1]\n",
    "drop_test = [index for index, sentence in enumerate(decoder_input_test) if len(sentence) == 1]\n",
    "\n",
    "print('삭제할 훈련 데이터의 개수 :', len(drop_train))\n",
    "print('삭제할 테스트 데이터의 개수 :', len(drop_test))\n",
    "\n",
    "encoder_input_train = [sentence for index, sentence in enumerate(encoder_input_train) if index not in drop_train]\n",
    "decoder_input_train = [sentence for index, sentence in enumerate(decoder_input_train) if index not in drop_train]\n",
    "decoder_target_train = [sentence for index, sentence in enumerate(decoder_target_train) if index not in drop_train]\n",
    "\n",
    "encoder_input_test = [sentence for index, sentence in enumerate(encoder_input_test) if index not in drop_test]\n",
    "decoder_input_test = [sentence for index, sentence in enumerate(decoder_input_test) if index not in drop_test]\n",
    "decoder_target_test = [sentence for index, sentence in enumerate(decoder_target_test) if index not in drop_test]\n",
    "\n",
    "print('훈련 데이터의 개수 :', len(encoder_input_train))\n",
    "print('훈련 레이블의 개수 :', len(decoder_input_train))\n",
    "print('테스트 데이터의 개수 :', len(encoder_input_test))\n",
    "print('테스트 레이블의 개수 :', len(decoder_input_test))"
   ]
  },
  {
   "cell_type": "markdown",
   "id": "7b56bbd4",
   "metadata": {},
   "source": [
    "### 패딩하기"
   ]
  },
  {
   "cell_type": "code",
   "execution_count": 34,
   "id": "7cd218e4",
   "metadata": {},
   "outputs": [],
   "source": [
    "encoder_input_train = pad_sequences(encoder_input_train, maxlen=text_max_len, padding='post')\n",
    "encoder_input_test = pad_sequences(encoder_input_test, maxlen=text_max_len, padding='post')\n",
    "decoder_input_train = pad_sequences(decoder_input_train, maxlen=headlines_max_len, padding='post')\n",
    "decoder_target_train = pad_sequences(decoder_target_train, maxlen=headlines_max_len, padding='post')\n",
    "decoder_input_test = pad_sequences(decoder_input_test, maxlen=headlines_max_len, padding='post')\n",
    "decoder_target_test = pad_sequences(decoder_target_test, maxlen=headlines_max_len, padding='post')"
   ]
  },
  {
   "cell_type": "markdown",
   "id": "bd304b4c",
   "metadata": {},
   "source": [
    "# 모델 설계하기"
   ]
  },
  {
   "cell_type": "code",
   "execution_count": 35,
   "id": "91ac0c62",
   "metadata": {},
   "outputs": [
    {
     "name": "stdout",
     "output_type": "stream",
     "text": [
      "WARNING:tensorflow:Layer lstm will not use cuDNN kernels since it doesn't meet the criteria. It will use a generic GPU kernel as fallback when running on GPU.\n",
      "WARNING:tensorflow:Layer lstm_1 will not use cuDNN kernels since it doesn't meet the criteria. It will use a generic GPU kernel as fallback when running on GPU.\n",
      "WARNING:tensorflow:Layer lstm_2 will not use cuDNN kernels since it doesn't meet the criteria. It will use a generic GPU kernel as fallback when running on GPU.\n"
     ]
    }
   ],
   "source": [
    "from tensorflow.keras.layers import Input, LSTM, Embedding, Dense, Concatenate, TimeDistributed\n",
    "from tensorflow.keras.models import Model\n",
    "from tensorflow.keras.callbacks import EarlyStopping, ModelCheckpoint\n",
    "\n",
    "\n",
    "# 인코더 설계 시작\n",
    "embedding_dim = 128\n",
    "hidden_size = 256\n",
    "\n",
    "# 인코더\n",
    "encoder_inputs = Input(shape=(text_max_len,))\n",
    "\n",
    "# 인코더의 임베딩 층\n",
    "enc_emb = Embedding(src_vocab, embedding_dim)(encoder_inputs)\n",
    "\n",
    "# 인코더의 LSTM 1\n",
    "encoder_lstm1 = LSTM(hidden_size, return_sequences=True, return_state=True ,dropout = 0.4, recurrent_dropout = 0.4)\n",
    "encoder_output1, state_h1, state_c1 = encoder_lstm1(enc_emb)\n",
    "\n",
    "# 인코더의 LSTM 2\n",
    "encoder_lstm2 = LSTM(hidden_size, return_sequences=True, return_state=True, dropout=0.4, recurrent_dropout=0.4)\n",
    "encoder_output2, state_h2, state_c2 = encoder_lstm2(encoder_output1)\n",
    "\n",
    "# 인코더의 LSTM 3\n",
    "encoder_lstm3 = LSTM(hidden_size, return_state=True, return_sequences=True, dropout=0.4, recurrent_dropout=0.4)\n",
    "encoder_outputs, state_h, state_c= encoder_lstm3(encoder_output2)"
   ]
  },
  {
   "cell_type": "markdown",
   "id": "ca260f3d",
   "metadata": {},
   "source": [
    "> WARNING이 나온다. 이는 recurrent dropout을 사용할때 cuDNN을 사용할 수 없어서 학습 시간이 오래 걸린다는 뜻이다.\n",
    "\n",
    "LSTM은 dropout과 recurrent dropout을 사용한다. dropout은 과적합을 저지해주는 역할이고 recurrent dropout은 dropout을 레이어가 아닌 time step마다 해주는 방식으로 regularization와 과적합 저지 효과가 있다."
   ]
  },
  {
   "cell_type": "code",
   "execution_count": 36,
   "id": "dcaa8dd8",
   "metadata": {},
   "outputs": [
    {
     "name": "stdout",
     "output_type": "stream",
     "text": [
      "WARNING:tensorflow:Layer lstm_3 will not use cuDNN kernels since it doesn't meet the criteria. It will use a generic GPU kernel as fallback when running on GPU.\n"
     ]
    }
   ],
   "source": [
    "# 디코더 설계\n",
    "decoder_inputs = Input(shape=(None,))\n",
    "\n",
    "# 디코더의 임베딩 층\n",
    "dec_emb_layer = Embedding(tar_vocab, embedding_dim)\n",
    "dec_emb = dec_emb_layer(decoder_inputs)\n",
    "\n",
    "# 디코더의 LSTM\n",
    "decoder_lstm = LSTM(hidden_size, return_sequences=True, return_state=True, dropout=0.4, recurrent_dropout=0.2)\n",
    "decoder_outputs, _, _ = decoder_lstm(dec_emb, initial_state=[state_h, state_c]) # initial_state에 hidden state, cell state값 넣어주기"
   ]
  },
  {
   "cell_type": "code",
   "execution_count": 37,
   "id": "0c009608",
   "metadata": {},
   "outputs": [
    {
     "name": "stdout",
     "output_type": "stream",
     "text": [
      "Model: \"model\"\n",
      "__________________________________________________________________________________________________\n",
      "Layer (type)                    Output Shape         Param #     Connected to                     \n",
      "==================================================================================================\n",
      "input_1 (InputLayer)            [(None, 40)]         0                                            \n",
      "__________________________________________________________________________________________________\n",
      "embedding (Embedding)           (None, 40, 128)      2619008     input_1[0][0]                    \n",
      "__________________________________________________________________________________________________\n",
      "lstm (LSTM)                     [(None, 40, 256), (N 394240      embedding[0][0]                  \n",
      "__________________________________________________________________________________________________\n",
      "input_2 (InputLayer)            [(None, None)]       0                                            \n",
      "__________________________________________________________________________________________________\n",
      "lstm_1 (LSTM)                   [(None, 40, 256), (N 525312      lstm[0][0]                       \n",
      "__________________________________________________________________________________________________\n",
      "embedding_1 (Embedding)         (None, None, 128)    1387520     input_2[0][0]                    \n",
      "__________________________________________________________________________________________________\n",
      "lstm_2 (LSTM)                   [(None, 40, 256), (N 525312      lstm_1[0][0]                     \n",
      "__________________________________________________________________________________________________\n",
      "lstm_3 (LSTM)                   [(None, None, 256),  394240      embedding_1[0][0]                \n",
      "                                                                 lstm_2[0][1]                     \n",
      "                                                                 lstm_2[0][2]                     \n",
      "__________________________________________________________________________________________________\n",
      "dense (Dense)                   (None, None, 10840)  2785880     lstm_3[0][0]                     \n",
      "==================================================================================================\n",
      "Total params: 8,631,512\n",
      "Trainable params: 8,631,512\n",
      "Non-trainable params: 0\n",
      "__________________________________________________________________________________________________\n"
     ]
    }
   ],
   "source": [
    "# 디코더의 출력층\n",
    "decoder_softmax_layer = Dense(tar_vocab, activation='softmax')\n",
    "decoder_softmax_outputs = decoder_softmax_layer(decoder_outputs) \n",
    "\n",
    "# 모델 정의\n",
    "model = Model([encoder_inputs, decoder_inputs], decoder_softmax_outputs)\n",
    "model.summary()"
   ]
  },
  {
   "cell_type": "markdown",
   "id": "afa8b1e5",
   "metadata": {},
   "source": [
    "## 어텐션 메커니즘 사용하기"
   ]
  },
  {
   "cell_type": "markdown",
   "id": "b7dc14ac",
   "metadata": {},
   "source": [
    "텐서플로우에 이미 구현된 Bahdanau 스타일 어텐션을 가져와서 적용해보자. [텐서플로우 bahdanau docs](https://www.tensorflow.org/api_docs/python/tf/keras/layers/AdditiveAttention)"
   ]
  },
  {
   "cell_type": "code",
   "execution_count": 38,
   "id": "00d08b7a",
   "metadata": {},
   "outputs": [
    {
     "name": "stdout",
     "output_type": "stream",
     "text": [
      "Model: \"model_1\"\n",
      "__________________________________________________________________________________________________\n",
      "Layer (type)                    Output Shape         Param #     Connected to                     \n",
      "==================================================================================================\n",
      "input_1 (InputLayer)            [(None, 40)]         0                                            \n",
      "__________________________________________________________________________________________________\n",
      "embedding (Embedding)           (None, 40, 128)      2619008     input_1[0][0]                    \n",
      "__________________________________________________________________________________________________\n",
      "lstm (LSTM)                     [(None, 40, 256), (N 394240      embedding[0][0]                  \n",
      "__________________________________________________________________________________________________\n",
      "input_2 (InputLayer)            [(None, None)]       0                                            \n",
      "__________________________________________________________________________________________________\n",
      "lstm_1 (LSTM)                   [(None, 40, 256), (N 525312      lstm[0][0]                       \n",
      "__________________________________________________________________________________________________\n",
      "embedding_1 (Embedding)         (None, None, 128)    1387520     input_2[0][0]                    \n",
      "__________________________________________________________________________________________________\n",
      "lstm_2 (LSTM)                   [(None, 40, 256), (N 525312      lstm_1[0][0]                     \n",
      "__________________________________________________________________________________________________\n",
      "lstm_3 (LSTM)                   [(None, None, 256),  394240      embedding_1[0][0]                \n",
      "                                                                 lstm_2[0][1]                     \n",
      "                                                                 lstm_2[0][2]                     \n",
      "__________________________________________________________________________________________________\n",
      "attention_layer (AdditiveAttent (None, None, 256)    256         lstm_3[0][0]                     \n",
      "                                                                 lstm_2[0][0]                     \n",
      "__________________________________________________________________________________________________\n",
      "concat_layer (Concatenate)      (None, None, 512)    0           lstm_3[0][0]                     \n",
      "                                                                 attention_layer[0][0]            \n",
      "__________________________________________________________________________________________________\n",
      "dense_1 (Dense)                 (None, None, 10840)  5560920     concat_layer[0][0]               \n",
      "==================================================================================================\n",
      "Total params: 11,406,808\n",
      "Trainable params: 11,406,808\n",
      "Non-trainable params: 0\n",
      "__________________________________________________________________________________________________\n"
     ]
    }
   ],
   "source": [
    "from tensorflow.keras.layers import AdditiveAttention\n",
    "\n",
    "# 어텐션 층(어텐션 함수)\n",
    "attn_layer = AdditiveAttention(name='attention_layer')\n",
    "\n",
    "# 인코더와 디코더의 모든 time step의 hidden state를 어텐션 층에 전달하고 결과를 리턴\n",
    "attn_out = attn_layer([decoder_outputs, encoder_outputs])\n",
    "\n",
    "\n",
    "# 어텐션의 결과와 디코더의 hidden state들을 연결\n",
    "decoder_concat_input = Concatenate(axis=-1, name='concat_layer')([decoder_outputs, attn_out])\n",
    "\n",
    "# 디코더의 출력층\n",
    "decoder_softmax_layer = Dense(tar_vocab, activation='softmax')\n",
    "decoder_softmax_outputs = decoder_softmax_layer(decoder_concat_input)\n",
    "\n",
    "# 모델 정의\n",
    "model = Model([encoder_inputs, decoder_inputs], decoder_softmax_outputs)\n",
    "model.summary()"
   ]
  },
  {
   "cell_type": "markdown",
   "id": "9fe88fbc",
   "metadata": {},
   "source": [
    "# 모델 훈련하기"
   ]
  },
  {
   "cell_type": "code",
   "execution_count": 39,
   "id": "addb4179",
   "metadata": {},
   "outputs": [
    {
     "name": "stdout",
     "output_type": "stream",
     "text": [
      "Epoch 1/50\n",
      "269/269 [==============================] - 160s 564ms/step - loss: 6.1162 - val_loss: 5.6957\n",
      "Epoch 2/50\n",
      "269/269 [==============================] - 152s 566ms/step - loss: 5.5461 - val_loss: 5.3379\n",
      "Epoch 3/50\n",
      "269/269 [==============================] - 152s 564ms/step - loss: 5.2059 - val_loss: 5.0692\n",
      "Epoch 4/50\n",
      "269/269 [==============================] - 151s 561ms/step - loss: 4.9267 - val_loss: 4.8333\n",
      "Epoch 5/50\n",
      "269/269 [==============================] - 152s 566ms/step - loss: 4.7037 - val_loss: 4.6967\n",
      "Epoch 6/50\n",
      "269/269 [==============================] - 152s 565ms/step - loss: 4.5190 - val_loss: 4.5736\n",
      "Epoch 7/50\n",
      "269/269 [==============================] - 151s 561ms/step - loss: 4.3620 - val_loss: 4.4684\n",
      "Epoch 8/50\n",
      "269/269 [==============================] - 150s 556ms/step - loss: 4.2225 - val_loss: 4.3858\n",
      "Epoch 9/50\n",
      "269/269 [==============================] - 150s 558ms/step - loss: 4.0968 - val_loss: 4.3256\n",
      "Epoch 10/50\n",
      "269/269 [==============================] - 151s 563ms/step - loss: 3.9877 - val_loss: 4.2609\n",
      "Epoch 11/50\n",
      "269/269 [==============================] - 152s 565ms/step - loss: 3.8857 - val_loss: 4.2328\n",
      "Epoch 12/50\n",
      "269/269 [==============================] - 152s 566ms/step - loss: 3.7945 - val_loss: 4.1862\n",
      "Epoch 13/50\n",
      "269/269 [==============================] - 150s 557ms/step - loss: 3.7137 - val_loss: 4.1552\n",
      "Epoch 14/50\n",
      "269/269 [==============================] - 150s 557ms/step - loss: 3.6368 - val_loss: 4.1258\n",
      "Epoch 15/50\n",
      "269/269 [==============================] - 150s 558ms/step - loss: 3.5657 - val_loss: 4.0989\n",
      "Epoch 16/50\n",
      "269/269 [==============================] - 150s 558ms/step - loss: 3.5018 - val_loss: 4.0799\n",
      "Epoch 17/50\n",
      "269/269 [==============================] - 150s 557ms/step - loss: 3.4400 - val_loss: 4.0627\n",
      "Epoch 18/50\n",
      "269/269 [==============================] - 150s 557ms/step - loss: 3.3798 - val_loss: 4.0455\n",
      "Epoch 19/50\n",
      "269/269 [==============================] - 149s 555ms/step - loss: 3.3249 - val_loss: 4.0507\n",
      "Epoch 20/50\n",
      "269/269 [==============================] - 150s 558ms/step - loss: 3.2783 - val_loss: 4.0495\n",
      "Epoch 00020: early stopping\n"
     ]
    }
   ],
   "source": [
    "model.compile(optimizer='rmsprop', loss='sparse_categorical_crossentropy')\n",
    "es = EarlyStopping(monitor='val_loss', patience=2, verbose=1)\n",
    "history = model.fit(x=[encoder_input_train, decoder_input_train], y=decoder_target_train, \\\n",
    "          validation_data=([encoder_input_test, decoder_input_test], decoder_target_test), \\\n",
    "          batch_size=256, callbacks=[es], epochs=50)"
   ]
  },
  {
   "cell_type": "code",
   "execution_count": 40,
   "id": "4305ffd9",
   "metadata": {},
   "outputs": [
    {
     "data": {
      "image/png": "[encoded data removed]",
      "text/plain": [
       "<Figure size 432x288 with 1 Axes>"
      ]
     },
     "metadata": {
      "needs_background": "light"
     },
     "output_type": "display_data"
    }
   ],
   "source": [
    "plt.plot(history.history['loss'], label='train')\n",
    "plt.plot(history.history['val_loss'], label='test')\n",
    "plt.legend()\n",
    "plt.show()"
   ]
  },
  {
   "cell_type": "markdown",
   "id": "45062f4e",
   "metadata": {},
   "source": [
    "# 실제 결과와 요약문 비교하기"
   ]
  },
  {
   "cell_type": "markdown",
   "id": "9edd5dc2",
   "metadata": {},
   "source": [
    "## 인퍼러스 모델 구현하기 \n",
    "인퍼러스란 학습을 마친 모델로 실제 과제를 수행하는것을 말한다.   "
   ]
  },
  {
   "cell_type": "markdown",
   "id": "58181220",
   "metadata": {},
   "source": [
    "seq2seq에 맞는 모델 설계를 진행하자.   \n",
    "훈련 단계에서는 디코더의 입력부에 정답이 되는 문장 전체를 넣고 디코더의 출력과 한번에 비교할 수 있으므로 이를 엮은 모델 하나만 준비했다. 하지만 정답 문장이 없는 인퍼러스 단계에서는 만든 문장의 길이만큼 코더가 반복 구조로 동작해주어야 한다."
   ]
  },
  {
   "cell_type": "code",
   "execution_count": 41,
   "id": "2648e100",
   "metadata": {},
   "outputs": [],
   "source": [
    "src_index_to_word = src_tokenizer.index_word # 원문 단어 집합에서 정수 -> 단어를 얻음\n",
    "tar_word_to_index = tar_tokenizer.word_index # 요약 단어 집합에서 단어 -> 정수를 얻음\n",
    "tar_index_to_word = tar_tokenizer.index_word # 요약 단어 집합에서 정수 -> 단어를 얻음"
   ]
  },
  {
   "cell_type": "code",
   "execution_count": 42,
   "id": "335de669",
   "metadata": {},
   "outputs": [],
   "source": [
    "# 인코더 설계\n",
    "encoder_model = Model(inputs=encoder_inputs, outputs=[encoder_outputs, state_h, state_c])\n",
    "\n",
    "# 이전 시점의 상태들을 저장하는 텐서\n",
    "decoder_state_input_h = Input(shape=(hidden_size,))\n",
    "decoder_state_input_c = Input(shape=(hidden_size,))\n",
    "\n",
    "dec_emb2 = dec_emb_layer(decoder_inputs)\n",
    "\n",
    "# 문장의 다음 단어를 예측하기 위해서 초기 상태(initial_state)를 이전 시점의 상태로 사용. 이는 뒤의 함수 decode_sequence()에 구현\n",
    "# 훈련 과정에서와 달리 LSTM의 리턴하는 은닉 상태와 셀 상태인 state_h와 state_c를 버리지 않음.\n",
    "decoder_outputs2, state_h2, state_c2 = decoder_lstm(dec_emb2, initial_state=[decoder_state_input_h, decoder_state_input_c])"
   ]
  },
  {
   "cell_type": "code",
   "execution_count": 43,
   "id": "f00bb39c",
   "metadata": {},
   "outputs": [],
   "source": [
    "# 출력층\n",
    "# 어텐션 함수\n",
    "decoder_hidden_state_input = Input(shape=(text_max_len, hidden_size))\n",
    "attn_out_inf = attn_layer([decoder_outputs2, decoder_hidden_state_input])\n",
    "decoder_inf_concat = Concatenate(axis=-1, name='concat')([decoder_outputs2, attn_out_inf])\n",
    "\n",
    "# 디코더의 출력층\n",
    "decoder_outputs2 = decoder_softmax_layer(decoder_inf_concat) \n",
    "\n",
    "# 최종 디코더 모델\n",
    "decoder_model = Model(\n",
    "    [decoder_inputs] + [decoder_hidden_state_input,decoder_state_input_h, decoder_state_input_c],\n",
    "    [decoder_outputs2] + [state_h2, state_c2])"
   ]
  },
  {
   "cell_type": "code",
   "execution_count": 44,
   "id": "c85d49cb",
   "metadata": {},
   "outputs": [],
   "source": [
    "# 인퍼러스 상태에서 단어 시퀀스를 완성하는 함수\n",
    "def decode_sequence(input_seq):\n",
    "    # 입력으로부터 인코더의 상태를 얻음\n",
    "    e_out, e_h, e_c = encoder_model.predict(input_seq)\n",
    "\n",
    "     # <SOS>에 해당하는 토큰 생성\n",
    "    target_seq = np.zeros((1,1))\n",
    "    target_seq[0, 0] = tar_word_to_index['sostoken']\n",
    "\n",
    "    stop_condition = False\n",
    "    decoded_sentence = ''\n",
    "    while not stop_condition: # stop_condition이 True가 될 때까지 루프 반복\n",
    "\n",
    "        output_tokens, h, c = decoder_model.predict([target_seq] + [e_out, e_h, e_c])\n",
    "        sampled_token_index = np.argmax(output_tokens[0, -1, :])\n",
    "        sampled_token = tar_index_to_word[sampled_token_index]\n",
    "\n",
    "        if (sampled_token!='eostoken'):\n",
    "            decoded_sentence += ' '+sampled_token\n",
    "\n",
    "        #  <eos>에 도달하거나 최대 길이를 넘으면 중단.\n",
    "        if (sampled_token == 'eostoken'  or len(decoded_sentence.split()) >= (headlines_max_len-1)):\n",
    "            stop_condition = True\n",
    "\n",
    "        # 길이가 1인 타겟 시퀀스를 업데이트\n",
    "        target_seq = np.zeros((1,1))\n",
    "        target_seq[0, 0] = sampled_token_index\n",
    "\n",
    "        # 상태를 업데이트 합니다.\n",
    "        e_h, e_c = h, c\n",
    "\n",
    "    return decoded_sentence"
   ]
  },
  {
   "cell_type": "markdown",
   "id": "d6854d55",
   "metadata": {},
   "source": [
    "## 모델 테스트하기\n",
    "정수 시퀀스를 텍스트 시퀀스로 변환하여 결과를 하기위해 이를 하는 함수를 만들자. text의 정수 시퀀스에서 패딩을 위해 사용한 숫자 0을 제외하고, headlines의 정수 시퀀스는 숫자 0, 시작 종료 토큰을 제외하도록 만들자."
   ]
  },
  {
   "cell_type": "code",
   "execution_count": 45,
   "id": "35d02e5c",
   "metadata": {},
   "outputs": [],
   "source": [
    "# 원문의 정수 시퀀스를 텍스트 시퀀스로 변환\n",
    "def seq2text(input_seq):\n",
    "    temp=''\n",
    "    for i in input_seq:\n",
    "        if (i!=0):\n",
    "            temp = temp + src_index_to_word[i]+' '\n",
    "    return temp\n",
    "\n",
    "# 요약문의 정수 시퀀스를 텍스트 시퀀스로 변환\n",
    "def seq2summary(input_seq):\n",
    "    temp=''\n",
    "    for i in input_seq:\n",
    "        if ((i!=0 and i!=tar_word_to_index['sostoken']) and i!=tar_word_to_index['eostoken']):\n",
    "            temp = temp + tar_index_to_word[i] + ' '\n",
    "    return temp"
   ]
  },
  {
   "cell_type": "code",
   "execution_count": 46,
   "id": "e83d20e7",
   "metadata": {},
   "outputs": [
    {
     "name": "stdout",
     "output_type": "stream",
     "text": [
      "원문 : talking wife mira rajput second pregnancy actor shahid kapoor said looking forward new member family feeling really good amazing feeling still time added shahid said second time feel new first time felt new \n",
      "실제 요약 : for new family member shahid on mira nd pregnancy \n",
      "예측 요약 :  am not to be karisma on rumoured boyfriend\n",
      "\n",
      "\n",
      "원문 : actress aishwarya rai bachchan shared old pic late pm atal bihari vajpayee alongside caption respect rest peace late actress sridevi also seen picture actor anil kapoor although seen pictures shared aishwarya also present meet former pm \n",
      "실제 요약 : respect aishwarya shares old pic with late pm vajpayee \n",
      "예측 요약 :  aishwarya shares pic with late pm atal bihari vajpayee\n",
      "\n",
      "\n",
      "원문 : ghaziabad municipal corporation sunday started work crore project aimed repairing restructuring nearly roads road patches surface completely top priority ghaziabad municipal commissioner cp singh said projects worth crore including construction roads boundary walls inaugurated \n",
      "실제 요약 : crore project in ghaziabad aims to repair roads \n",
      "예측 요약 :  gujarat civic body to invest crore in gurugram\n",
      "\n",
      "\n",
      "원문 : former finance minister congress leader chidambaram said indian economy bomb jobless growth calling farm output jobs infant mortality literacy exports real indicators health economy said afraid indicators good \n",
      "실제 요약 : jobless growth is bomb says chidambaram \n",
      "예측 요약 :  india has lost crore in chidambaram\n",
      "\n",
      "\n",
      "원문 : man haryana jhajjar arrested allegedly beating two policemen baseball bat crashing car barricade electricity pole pataudi police said accused drunk wanted escape driving police barricade man friend also thrashed policemen stick \n",
      "실제 요약 : man rams car into barricade beats up policemen with baseball bat \n",
      "예측 요약 :  man arrested for trying to stop driving car in mumbai\n",
      "\n",
      "\n",
      "원문 : bjp ally national people party president friday said jd chief nitish kumar person could bjp power centre congress president rahul gandhi telling may nitish kumar prime minister mark words added \n",
      "실제 요약 : only nitish kumar can bjp at centre not rahul \n",
      "예측 요약 :  bjp alliance with alliance with bjp alliance with bjp alliance\n",
      "\n",
      "\n",
      "원문 : congress mp chidambaram alleged government paying crore per rafale jet union minister smriti irani said use rafale issue political ends yeh public hai hai supreme court issued statement defence minister spoken cag access files added \n",
      "실제 요약 : yeh public hai hai smriti on chidambaram rafale charges \n",
      "예측 요약 :  truth is not political thing chidambaram on rafale scam\n",
      "\n",
      "\n",
      "원문 : talking starting days car rental startup zoomcar co founder greg said day away shutting everything also said put savings zoomcar suddenly make break situation greg added startup faced initial lack trust local vendors \n",
      "실제 요약 : was day away from shutting everything zoomcar co founder \n",
      "예측 요약 :  startup co founder buys stake in electric startup\n",
      "\n",
      "\n",
      "원문 : north delhi municipal corporation listed public toilets one six zones google maps pilot project officials visited toilet complexes obtain exact uploaded information three days following implementation project karol bagh department list remaining zones google maps \n",
      "실제 요약 : public toilets in delhi listed on google maps \n",
      "예측 요약 :  delhi to launch its first ever train system\n",
      "\n",
      "\n",
      "원문 : sheep world first mammal cloned adult cell die due early onset uk based study found researchers said wear tear joints similar naturally conceived sheep age result cloning perceived many \n",
      "실제 요약 : the sheep did not die early because of study \n",
      "예측 요약 :  scientists identify world largest human cells\n",
      "\n",
      "\n"
     ]
    }
   ],
   "source": [
    "for i in range(90, 100):\n",
    "    print(\"원문 :\", seq2text(encoder_input_test[i]))\n",
    "    print(\"실제 요약 :\", seq2summary(decoder_input_test[i]))\n",
    "    print(\"예측 요약 :\", decode_sequence(encoder_input_test[i].reshape(1, text_max_len)))\n",
    "    print(\"\\n\")"
   ]
  },
  {
   "cell_type": "markdown",
   "id": "3aebe1bc",
   "metadata": {},
   "source": [
    "# 추상적 요약 결과 살펴보기"
   ]
  },
  {
   "cell_type": "markdown",
   "id": "1c142258",
   "metadata": {},
   "source": [
    "문법 완성도 측면과 핵심 단어 포함 측면 그리고 내가 느꼈을때 요약이 제대로 되었는지으로 세가지 평가 항목으로 결과를 5개 정도 확인해보자.   \n",
    "\n",
    "원문 : bjp ally national people party president friday said jd chief nitish kumar person could bjp power centre congress president rahul gandhi telling may nitish kumar prime minister mark words added   \n",
    "실제 요약 : only nitish kumar can bjp at centre not rahul   \n",
    "예측 요약 :  bjp alliance with alliance with bjp alliance with bjp alliance   \n",
    "- 문법 완성도: X\n",
    "- 핵심 단어 포함: X\n",
    "- 내가 느낀 요약 결과: 1/5\n",
    "\n",
    "원문 : congress mp chidambaram alleged government paying crore per rafale jet union minister smriti irani said use rafale issue political ends yeh public hai hai supreme court issued statement defence minister spoken cag access files added   \n",
    "실제 요약 : yeh public hai hai smriti on chidambaram rafale charges   \n",
    "예측 요약 :  truth is not political thing chidambaram on rafale scam   \n",
    "- 문법 완성도: X\n",
    "- 핵심 단어 포함: O(political가 들어갔음)\n",
    "- 내가 느낀 요약 결과: 2/5\n",
    "\n",
    "원문 : talking starting days car rental startup zoomcar co founder greg said day away shutting everything also said put savings zoomcar suddenly make break situation greg added startup faced initial lack trust local vendors   \n",
    "실제 요약 : was day away from shutting everything zoomcar co founder   \n",
    "예측 요약 :  startup co founder buys stake in electric startup   \n",
    "- 문법 완성도: O\n",
    "- 핵심 단어 포함: X(car rental, zoomcar)\n",
    "- 내가 느낀 요약 결과: 1/5\n",
    "예측이 어느정도 말은 맞는거 같은데 아예 다른 얘기가 나왔다.\n",
    "\n",
    "원문 : north delhi municipal corporation listed public toilets one six zones google maps pilot project officials visited toilet complexes obtain exact uploaded information three days following implementation project karol bagh department list remaining zones google maps   \n",
    "실제 요약 : public toilets in delhi listed on google maps   \n",
    "예측 요약 :  delhi to launch its first ever train system   \n",
    "- 문법 완성도: X\n",
    "- 핵심 단어 포함: X\n",
    "- 내가 느낀 요약 결과: 1/5\n",
    "\n",
    "원문 : sheep world first mammal cloned adult cell die due early onset uk based study found researchers said wear tear joints similar naturally conceived sheep age result cloning perceived many   \n",
    "실제 요약 : the sheep did not die early because of study   \n",
    "예측 요약 :  scientists identify world largest human cells   \n",
    "- 문법 완성도: O\n",
    "- 핵심 단어 포함: X\n",
    "- 내가 느낀 요약 결과: 1/5\n",
    "\n",
    "__총 정리__   \n",
    "문법 완성도 2/5, 핵심 단어 포함 1/5, 내가 느낀 결과: 1/5 4개, 2/5 1개   \n",
    "처참한 결과가 나왔다. 성능을 개선하기 위해 seq2seq와 어텐선 조합 수정, 빔 서치, 사전 훈련된 워드 임베딩, 트랜스포머 등의 개선 방안들이 존재한다."
   ]
  },
  {
   "cell_type": "markdown",
   "id": "fa344985",
   "metadata": {},
   "source": [
    "# 추출적 요약"
   ]
  },
  {
   "cell_type": "markdown",
   "id": "5aa89a3b",
   "metadata": {},
   "source": [
    "## Summa를 이용하기"
   ]
  },
  {
   "cell_type": "code",
   "execution_count": 47,
   "id": "0db7d14c",
   "metadata": {},
   "outputs": [],
   "source": [
    "import requests\n",
    "from summa.summarizer import summarize"
   ]
  },
  {
   "cell_type": "code",
   "execution_count": 48,
   "id": "9a6474a1",
   "metadata": {},
   "outputs": [],
   "source": [
    "# urllib.request.urlretrieve(\"https://raw.githubusercontent.com/sunnysai12345/News_Summary/master/news_summary_more.csv\", filename=\"news_summary_more.csv\")\n",
    "data = pd.read_csv('news_summary_more.csv', encoding='iso-8859-1')"
   ]
  },
  {
   "cell_type": "code",
   "execution_count": 49,
   "id": "53515287",
   "metadata": {},
   "outputs": [
    {
     "data": {
      "text/html": [
       "<div>\n",
       "<style scoped>\n",
       "    .dataframe tbody tr th:only-of-type {\n",
       "        vertical-align: middle;\n",
       "    }\n",
       "\n",
       "    .dataframe tbody tr th {\n",
       "        vertical-align: top;\n",
       "    }\n",
       "\n",
       "    .dataframe thead th {\n",
       "        text-align: right;\n",
       "    }\n",
       "</style>\n",
       "<table border=\"1\" class=\"dataframe\">\n",
       "  <thead>\n",
       "    <tr style=\"text-align: right;\">\n",
       "      <th></th>\n",
       "      <th>headlines</th>\n",
       "      <th>text</th>\n",
       "    </tr>\n",
       "  </thead>\n",
       "  <tbody>\n",
       "    <tr>\n",
       "      <th>76109</th>\n",
       "      <td>Insecurity, unease growing among Muslims in In...</td>\n",
       "      <td>A feeling of unease and insecurity is creeping...</td>\n",
       "    </tr>\n",
       "    <tr>\n",
       "      <th>41084</th>\n",
       "      <td>How are India's fuel prices compared to its ne...</td>\n",
       "      <td>Indians pay more for petrol and diesel compare...</td>\n",
       "    </tr>\n",
       "    <tr>\n",
       "      <th>35992</th>\n",
       "      <td>Pregnant Pakistani singer shot dead while perf...</td>\n",
       "      <td>A man shot dead pregnant Pakistani artist Sami...</td>\n",
       "    </tr>\n",
       "    <tr>\n",
       "      <th>34494</th>\n",
       "      <td>Why is Sachin's 143-run Sharjah knock called D...</td>\n",
       "      <td>On April 22, 1998, Sachin Tendulkar scored 143...</td>\n",
       "    </tr>\n",
       "    <tr>\n",
       "      <th>36911</th>\n",
       "      <td>Paw prints of pet dog help trace missing US to...</td>\n",
       "      <td>The paw prints of a pet dog helped a US family...</td>\n",
       "    </tr>\n",
       "    <tr>\n",
       "      <th>86256</th>\n",
       "      <td>NIT Srinagar site hacked, hackers demand 'Free...</td>\n",
       "      <td>The website of National Institute of Technolog...</td>\n",
       "    </tr>\n",
       "    <tr>\n",
       "      <th>49224</th>\n",
       "      <td>Railways to create employee database to check ...</td>\n",
       "      <td>The Railway Board has passed a proposal to cre...</td>\n",
       "    </tr>\n",
       "    <tr>\n",
       "      <th>66426</th>\n",
       "      <td>E-commerce firms must settle seller payments i...</td>\n",
       "      <td>The Reserve Bank of India (RBI) has mandated e...</td>\n",
       "    </tr>\n",
       "    <tr>\n",
       "      <th>2119</th>\n",
       "      <td>BJP flies K'taka MLAs to Gurugram resort amid ...</td>\n",
       "      <td>Karnataka BJP has flown over 100 MLAs to a res...</td>\n",
       "    </tr>\n",
       "    <tr>\n",
       "      <th>95470</th>\n",
       "      <td>Sachin, Sehwag tweet about India's 2011 World ...</td>\n",
       "      <td>India's 2011 World Cup-winning team members Sa...</td>\n",
       "    </tr>\n",
       "  </tbody>\n",
       "</table>\n",
       "</div>"
      ],
      "text/plain": [
       "                                               headlines  \\\n",
       "76109  Insecurity, unease growing among Muslims in In...   \n",
       "41084  How are India's fuel prices compared to its ne...   \n",
       "35992  Pregnant Pakistani singer shot dead while perf...   \n",
       "34494  Why is Sachin's 143-run Sharjah knock called D...   \n",
       "36911  Paw prints of pet dog help trace missing US to...   \n",
       "86256  NIT Srinagar site hacked, hackers demand 'Free...   \n",
       "49224  Railways to create employee database to check ...   \n",
       "66426  E-commerce firms must settle seller payments i...   \n",
       "2119   BJP flies K'taka MLAs to Gurugram resort amid ...   \n",
       "95470  Sachin, Sehwag tweet about India's 2011 World ...   \n",
       "\n",
       "                                                    text  \n",
       "76109  A feeling of unease and insecurity is creeping...  \n",
       "41084  Indians pay more for petrol and diesel compare...  \n",
       "35992  A man shot dead pregnant Pakistani artist Sami...  \n",
       "34494  On April 22, 1998, Sachin Tendulkar scored 143...  \n",
       "36911  The paw prints of a pet dog helped a US family...  \n",
       "86256  The website of National Institute of Technolog...  \n",
       "49224  The Railway Board has passed a proposal to cre...  \n",
       "66426  The Reserve Bank of India (RBI) has mandated e...  \n",
       "2119   Karnataka BJP has flown over 100 MLAs to a res...  \n",
       "95470  India's 2011 World Cup-winning team members Sa...  "
      ]
     },
     "execution_count": 49,
     "metadata": {},
     "output_type": "execute_result"
    }
   ],
   "source": [
    "data.sample(10)"
   ]
  },
  {
   "cell_type": "markdown",
   "id": "ac5dbca4",
   "metadata": {},
   "source": [
    "data의 text를 이용해서 summarize 하고 나온 값을 headlines와 비교해보자."
   ]
  },
  {
   "cell_type": "code",
   "execution_count": 50,
   "id": "9a6d8e40",
   "metadata": {},
   "outputs": [
    {
     "data": {
      "text/plain": [
       "0    Saurav Kant, an alumnus of upGrad and IIIT-B's...\n",
       "1    Kunal Shah's credit card bill payment platform...\n",
       "2    New Zealand defeated India by 8 wickets in the...\n",
       "3    With Aegon Life iTerm Insurance plan, customer...\n",
       "4    Speaking about the sexual harassment allegatio...\n",
       "Name: text, dtype: object"
      ]
     },
     "execution_count": 50,
     "metadata": {},
     "output_type": "execute_result"
    }
   ],
   "source": [
    "data['text'].head()"
   ]
  },
  {
   "cell_type": "code",
   "execution_count": 51,
   "id": "8513eafc",
   "metadata": {},
   "outputs": [
    {
     "data": {
      "text/plain": [
       "\"Saurav Kant, an alumnus of upGrad and IIIT-B's PG Program in Machine learning and Artificial Intelligence, was a Sr Systems Engineer at Infosys with almost 5 years of work experience. The program and upGrad's 360-degree career support helped him transition to a Data Scientist at Tech Mahindra with 90% salary hike. upGrad's Online Power Learning has powered 3 lakh+ careers.\""
      ]
     },
     "execution_count": 51,
     "metadata": {},
     "output_type": "execute_result"
    }
   ],
   "source": [
    "data['text'][0]"
   ]
  },
  {
   "cell_type": "markdown",
   "id": "3ac9012e",
   "metadata": {},
   "source": [
    "## summarize 사용하기"
   ]
  },
  {
   "cell_type": "markdown",
   "id": "a54d3035",
   "metadata": {},
   "source": [
    "summarize()의 인자로 사용되는 값들을 알아보자\n",
    "> text(str): 요약할 테스트   \n",
    "ratio(float, optional): 요약문에서 원본으로 선택되는 문장 비율 0~1   \n",
    "words(int or None, optional): 출력에 포함할 단어 수, 만약 ratio와 함께 두 파라미터가 모두 제공되면 ratio는 무시한다.   \n",
    "split(bool, optional): True면 문장 list/False는 join된 문자열 반환한다   \n",
    "\n",
    "summarize는 문장 토큰화를 별도로 진행하지 않아도 내부적으로 문장 토큰화를 수행한다."
   ]
  },
  {
   "cell_type": "code",
   "execution_count": 52,
   "id": "7e565941",
   "metadata": {},
   "outputs": [
    {
     "name": "stdout",
     "output_type": "stream",
     "text": [
      "text: \n",
      "Saurav Kant, an alumnus of upGrad and IIIT-B's PG Program in Machine learning and Artificial Intelligence, was a Sr Systems Engineer at Infosys with almost 5 years of work experience. The program and upGrad's 360-degree career support helped him transition to a Data Scientist at Tech Mahindra with 90% salary hike. upGrad's Online Power Learning has powered 3 lakh+ careers.\n",
      "\n",
      "headlines: \n",
      "upGrad learner switches to career in ML & Al with 90% salary hike\n",
      "\n",
      "summarize: \n",
      "upGrad's Online Power Learning has powered 3 lakh+ careers.\n",
      "\n"
     ]
    }
   ],
   "source": [
    "i = 0\n",
    "print('text: \\n{}\\n'.format(data['text'][i]))\n",
    "print('headlines: \\n{}\\n'.format(data['headlines'][i]))\n",
    "print('summarize: \\n{}\\n'.format(summarize(data['text'][i], ratio=0.5)))"
   ]
  },
  {
   "cell_type": "markdown",
   "id": "6196bf8e",
   "metadata": {},
   "source": [
    "꽤 괜찮게 나왔다. words를 조절해보자."
   ]
  },
  {
   "cell_type": "code",
   "execution_count": 53,
   "id": "8f9a2026",
   "metadata": {},
   "outputs": [
    {
     "name": "stdout",
     "output_type": "stream",
     "text": [
      "text: \n",
      "Saurav Kant, an alumnus of upGrad and IIIT-B's PG Program in Machine learning and Artificial Intelligence, was a Sr Systems Engineer at Infosys with almost 5 years of work experience. The program and upGrad's 360-degree career support helped him transition to a Data Scientist at Tech Mahindra with 90% salary hike. upGrad's Online Power Learning has powered 3 lakh+ careers.\n",
      "\n",
      "headlines: \n",
      "upGrad learner switches to career in ML & Al with 90% salary hike\n",
      "\n",
      "summarize: \n",
      "The program and upGrad's 360-degree career support helped him transition to a Data Scientist at Tech Mahindra with 90% salary hike.\n",
      "upGrad's Online Power Learning has powered 3 lakh+ careers.\n",
      "\n"
     ]
    }
   ],
   "source": [
    "i = 0\n",
    "print('text: \\n{}\\n'.format(data['text'][i]))\n",
    "print('headlines: \\n{}\\n'.format(data['headlines'][i]))\n",
    "print('summarize: \\n{}\\n'.format(summarize(data['text'][i], words=20)))"
   ]
  },
  {
   "cell_type": "markdown",
   "id": "e86c9302",
   "metadata": {},
   "source": [
    "words를 작게하면 ratio를 조절한 결과값과 똑같이 나와서 키웠는데 너무 길어진다. 같이 사용하면 ratio로 결과값이 안나왔을 때 words가 대체해준다. 그래서 같이 사용한거로 5개 정도 분석해보자."
   ]
  },
  {
   "cell_type": "code",
   "execution_count": 54,
   "id": "5815d502",
   "metadata": {},
   "outputs": [
    {
     "name": "stdout",
     "output_type": "stream",
     "text": [
      "text: \n",
      "Actress Mishti, who has featured in 'Manikarnika: The Queen of Jhansi', has said the film's co-director Kangana Ranaut made false promises to the cast. \"Kangana had said, 'I want dates because all characters look jumbled up...I'm trying my best to give everybody a prominent space on screen.' After watching the movie, there is no scope for other characters,\" Mishti added. \n",
      "headlines: \n",
      "Kangana made fake promises to cast: 'Manikarnika' actress Mishti\n",
      "summarize: \n",
      "Actress Mishti, who has featured in 'Manikarnika: The Queen of Jhansi', has said the film's co-director Kangana Ranaut made false promises to the cast.\n",
      "\n",
      "text: \n",
      "The high-powered committee led by PM Narendra Modi to select the next CBI Director will meet again on February 1, Congress leader Mallikarjun Kharge has said. The panel consisting of Kharge and Chief Justice of India Ranjan Gogoi met on January 24, but the meeting ended \"inconclusively\" after Kharge cited lack of details in the list of 80 IPS officers. \n",
      "headlines: \n",
      "PM-led panel to meet on Friday to pick new CBI chief: Kharge\n",
      "summarize: \n",
      "The high-powered committee led by PM Narendra Modi to select the next CBI Director will meet again on February 1, Congress leader Mallikarjun Kharge has said.\n",
      "\n",
      "text: \n",
      "Nevada State Athletic Commission has banned MMA fighters Conor McGregor and Khabib Nurmagomedov for six months and nine months respectively over their roles in the mass brawl that occurred after their fight at UFC 229 last October. McGregor and Khabib have been fined $50,000 (Ã¢ÂÂ¹35 lakh) and $500,000 (Ã¢ÂÂ¹3.5 crore) respectively. The brawl occurred after Nurmagomedov confronted McGregor's teammate.\n",
      "headlines: \n",
      "McGregor fined Ã¢ÂÂ¹35 lakh, Khabib Ã¢ÂÂ¹3.5 crore for brawl; both banned\n",
      "summarize: \n",
      "Nevada State Athletic Commission has banned MMA fighters Conor McGregor and Khabib Nurmagomedov for six months and nine months respectively over their roles in the mass brawl that occurred after their fight at UFC 229 last October.\n",
      "\n",
      "text: \n",
      "Pakistan captain Sarfaraz Ahmed, who has been banned for four matches over racist remarks, took an apparent dig at his critics by sharing a video of a child reciting 'log hai na' poem on Twitter. \"Pyaar karna hai to khud se kar...dushmani karne ke liye log hai na,\" the poem read. \"This is how the world is,\" Sarfaraz wrote.\n",
      "headlines: \n",
      "Banned for 4 matches, Sarfaraz shares 'log hai na' poem for critics\n",
      "summarize: \n",
      "Pakistan captain Sarfaraz Ahmed, who has been banned for four matches over racist remarks, took an apparent dig at his critics by sharing a video of a child reciting 'log hai na' poem on Twitter.\n",
      "\n",
      "text: \n",
      "Banned cricketer Sreesanth has told Supreme Court he initially confessed to Delhi Police about his alleged involvement in 2013 IPL spot-fixing scandal to escape continuous police torture. Sreesanth further said the bookie tried dragging him into spot-fixing but he didn't fall for it. Citing Sreesanth not informing BCCI about fixing approach, the apex court said Sreesanth's conduct \"wasn't good\".\n",
      "headlines: \n",
      "Confessed to spot-fixing to escape police torture: Sreesanth to SC\n",
      "summarize: \n",
      "Sreesanth further said the bookie tried dragging him into spot-fixing but he didn't fall for it.\n",
      "\n"
     ]
    }
   ],
   "source": [
    "for i in range(55, 60):\n",
    "    print('text: \\n{}'.format(data['text'][i]))\n",
    "    print('headlines: \\n{}'.format(data['headlines'][i]))\n",
    "    print('summarize: \\n{}\\n'.format(summarize(data['text'][i], ratio=0.5, words=20)))"
   ]
  },
  {
   "cell_type": "markdown",
   "id": "01c95d8b",
   "metadata": {},
   "source": [
    "# 추출적 요약 분석 "
   ]
  },
  {
   "cell_type": "markdown",
   "id": "82390ec9",
   "metadata": {},
   "source": [
    "추상적 요약과 동일하게 문법 완성도 측면과 핵심 단어 포함 측면 그리고 내가 느꼈을때 요약이 제대로 되었는지으로 세가지 평가 항목으로 5개의 결과를 확인해보자.   \n",
    "\n",
    "text: \n",
    "Actress Mishti, who has featured in 'Manikarnika: The Queen of Jhansi', has said the film's co-director Kangana Ranaut made false promises to the cast. \"Kangana had said, 'I want dates because all characters look jumbled up...I'm trying my best to give everybody a prominent space on screen.' After watching the movie, there is no scope for other characters,\" Mishti added.   \n",
    "headlines: \n",
    "Kangana made fake promises to cast: 'Manikarnika' actress Mishti   \n",
    "summarize: \n",
    "Actress Mishti, who has featured in 'Manikarnika: The Queen of Jhansi', has said the film's co-director Kangana Ranaut made false promises to the cast.   \n",
    "- 문법 완성도: X\n",
    "- 핵심 단어 포함: O\n",
    "- 내가 느낀 요약 결과: 3/5\n",
    "요약된 결과의 맨 앞 문장이 없었으면 깔끔해보였을거같은데 아쉽다. text 문단의 앞 문장을 그대로 가져온것이지만 뒷부분의 부가설명이 없으니 이상해보인다.\n",
    "\n",
    "text: \n",
    "The high-powered committee led by PM Narendra Modi to select the next CBI Director will meet again on February 1, Congress leader Mallikarjun Kharge has said. The panel consisting of Kharge and Chief Justice of India Ranjan Gogoi met on January 24, but the meeting ended \"inconclusively\" after Kharge cited lack of details in the list of 80 IPS officers.   \n",
    "headlines: \n",
    "PM-led panel to meet on Friday to pick new CBI chief: Kharge   \n",
    "summarize: \n",
    "The high-powered committee led by PM Narendra Modi to select the next CBI Director will meet again on February 1, Congress leader Mallikarjun Kharge has said.   \n",
    "- 문법 완성도: O\n",
    "- 핵심 단어 포함: O\n",
    "- 내가 느낀 요약 결과: 4/5\n",
    "해드라인과 내용이 전혀 다르지만 꽤 괜찮아보인다.\n",
    "\n",
    "text: \n",
    "Nevada State Athletic Commission has banned MMA fighters Conor McGregor and Khabib Nurmagomedov for six months and nine months respectively over their roles in the mass brawl that occurred after their fight at UFC 229 last October. McGregor and Khabib have been fined $50,000 (Ã¢ÂÂ¹35 lakh) and $500,000 (Ã¢ÂÂ¹3.5 crore) respectively. The brawl occurred after Nurmagomedov confronted McGregor's teammate.   \n",
    "headlines: \n",
    "McGregor fined Ã¢ÂÂ¹35 lakh, Khabib Ã¢ÂÂ¹3.5 crore for brawl; both banned   \n",
    "summarize: \n",
    "Nevada State Athletic Commission has banned MMA fighters Conor McGregor and Khabib Nurmagomedov for six months and nine months respectively over their roles in the mass brawl that occurred after their fight at UFC 229 last October.   \n",
    "- 문법 완성도: O\n",
    "- 핵심 단어 포함: O\n",
    "- 내가 느낀 요약 결과: 3/5\n",
    "요약이라기엔 많이 아쉬운 문장이다.\n",
    "\n",
    "text: \n",
    "Pakistan captain Sarfaraz Ahmed, who has been banned for four matches over racist remarks, took an apparent dig at his critics by sharing a video of a child reciting 'log hai na' poem on Twitter. \"Pyaar karna hai to khud se kar...dushmani karne ke liye log hai na,\" the poem read. \"This is how the world is,\" Sarfaraz wrote.   \n",
    "headlines: \n",
    "Banned for 4 matches, Sarfaraz shares 'log hai na' poem for critics   \n",
    "summarize: \n",
    "Pakistan captain Sarfaraz Ahmed, who has been banned for four matches over racist remarks, took an apparent dig at his critics by sharing a video of a child reciting 'log hai na' poem on Twitter.   \n",
    "- 문법 완성도: O\n",
    "- 핵심 단어 포함: O\n",
    "- 내가 느낀 요약 결과: 4/5 \n",
    "꽤 괜찮게 나왔다.\n",
    "\n",
    "text: \n",
    "Banned cricketer Sreesanth has told Supreme Court he initially confessed to Delhi Police about his alleged involvement in 2013 IPL spot-fixing scandal to escape continuous police torture. Sreesanth further said the bookie tried dragging him into spot-fixing but he didn't fall for it. Citing Sreesanth not informing BCCI about fixing approach, the apex court said Sreesanth's conduct \"wasn't good\".   \n",
    "headlines: \n",
    "Confessed to spot-fixing to escape police torture: Sreesanth to SC   \n",
    "summarize: \n",
    "Sreesanth further said the bookie tried dragging him into spot-fixing but he didn't fall for it.   \n",
    "- 문법 완성도: O\n",
    "- 핵심 단어 포함: X\n",
    "- 내가 느낀 요약 결과: 1/5\n",
    "\n",
    "__총 정리__   \n",
    "문법 완성도 4/5, 핵심 단어 포함 4/5, 내가 느낀 결과: 1/5 1개, 3/5 2개, 4/5 2개   \n",
    "추상적 요약과 비교하면 훨씬 좋은 결과가 나왔다."
   ]
  },
  {
   "cell_type": "markdown",
   "id": "68fced9f",
   "metadata": {},
   "source": [
    "# 회고"
   ]
  },
  {
   "cell_type": "markdown",
   "id": "2cb92351",
   "metadata": {},
   "source": [
    "결과를 확인할 때 구글 번역기와 파파고를 돌려서 제대로 된 결과를 확인한건지 아직도 찜찜하다. 그래도 총 정리를 다시 보자면   \n",
    "__추상적 요약__   \n",
    "문법 완성도 2/5, 핵심 단어 포함 1/5, 내가 느낀 결과: 1/5 4개, 2/5 1개   \n",
    "__추출적 요약__   \n",
    "문법 완성도 4/5, 핵심 단어 포함 4/5, 내가 느낀 결과: 1/5 1개, 3/5 2개, 4/5 2개   \n",
    "\n",
    "성능이 애매한 모델로 추상적 요약하기보다 추출적으로 요약하는게 결과물이 훨씬 좋게 나왔다.   \n",
    "\n",
    "정수 인코딩 하는 과정에서 LMS는 희귀 단어를 제외한 단어들의 집합이 8238 이렇게 나왔는데 갑자기 8000으로 뚝 잘라서 계산을 했다. 이 부분에 중요한 단어들이 잘렸으면 어떡하지? 라는 의문점이 생겨 나는 진행할 때 나온 그대로 넣어서 인코딩을 진행했다.   \n",
    "과거 익스 진행하면서 RNN의 뒤로 갈수록 중요해지는 특성때문에 pre로 넣어 문장 앞에 더미 데이터를 넣는게 좋다고 들었다. 하지만 이번에는 max_len까지 패딩하는 과정에서 post로 넣어줬는데, pre로 바꿔주면 결과가 많이 달랐을까? 이러한 과정이 seq2seq나 어텐션 메커니즘과의 상관관계도 궁금하다.   \n",
    "\n",
    "결과물이 만족스럽지 않아서 아쉬움이 많이 남는 익스였다. 그리고 여전히 NLP하는 과정은 익숙하지 않다. 계속해서 작업 노트북의 길이가 길어지고 있는데 전에 선언했던 함수를 다시 쓰려니 복잡하고 헷갈리기 시작했다. 규모가 커질수록 함수와 변수가 엄청 많이 선언될탠데 현업에 종사하시는 분들은 어떤식으로 관리할까? 그리고 변수와 함수명을 어떻게 선언해야 효율적인지 모르겠다. [변수명을 잘 짓기 위한 몸부림 블로그](https://brunch.co.kr/@wapj2000/29) 블로그를 확인해보니 IDE 사용과 변수명 선언 관련 룰을 정했는데 사람마다 다 다르게 정의하고 있어서 어지럽지만 도움이 될거같다."
   ]
  }
 ],
 "metadata": {
  "kernelspec": {
   "display_name": "Python 3 (ipykernel)",
   "language": "python",
   "name": "python3"
  },
  "language_info": {
   "codemirror_mode": {
    "name": "ipython",
    "version": 3
   },
   "file_extension": ".py",
   "mimetype": "text/x-python",
   "name": "python",
   "nbconvert_exporter": "python",
   "pygments_lexer": "ipython3",
   "version": "3.9.7"
  }
 },
 "nbformat": 4,
 "nbformat_minor": 5
}
