{
 "cells": [
  {
   "cell_type": "markdown",
   "id": "9e4e0347",
   "metadata": {},
   "source": [
    "### EXP4. 작사가 인공지능 만들기"
   ]
  },
  {
   "cell_type": "code",
   "execution_count": 6,
   "id": "7f1793b1",
   "metadata": {
    "scrolled": true
   },
   "outputs": [
    {
     "name": "stdout",
     "output_type": "stream",
     "text": [
      "데이터 크기: 187088\n",
      "Examples:\n",
      " [\"I'll undress you, 'cause you're tired\", 'Cover you as you desire', 'When you fall asleep inside my arms']\n"
     ]
    }
   ],
   "source": [
    "import os, re \n",
    "import numpy as np\n",
    "import tensorflow as tf\n",
    "\n",
    "txt_file_path = os.getenv('HOME')+'/aiffel/AI_study/lyricist/data/lyrics/*'\n",
    "\n",
    "txt_list = glob.glob(txt_file_path)\n",
    "\n",
    "raw_corpus = []\n",
    "\n",
    "# 여러개의 txt 파일을 모두 읽어서 raw_corpus 에 담습니다.\n",
    "for txt_file in txt_list:\n",
    "    with open(txt_file, \"r\") as f:\n",
    "        raw = f.read().splitlines()\n",
    "        raw_corpus.extend(raw)\n",
    "\n",
    "print(\"데이터 크기:\", len(raw_corpus))\n",
    "print(\"Examples:\\n\", raw_corpus[:3])"
   ]
  },
  {
   "cell_type": "markdown",
   "id": "9bf820bb",
   "metadata": {},
   "source": [
    "### 데이터 전처리하기\n",
    "지나치게 긴 문장은 다른 데이터들이 과도한 Padding을 갖게 하므로,   \n",
    "문장을 토큰화 했을 때 토큰의 개수가 15개 넘어가면 데이터에서 제외하기"
   ]
  },
  {
   "cell_type": "code",
   "execution_count": 36,
   "id": "f21a684a",
   "metadata": {},
   "outputs": [
    {
     "name": "stdout",
     "output_type": "stream",
     "text": [
      "I'll undress you, 'cause you're tired\n",
      "Cover you as you desire\n",
      "When you fall asleep inside my arms\n",
      "May not have the fancy things\n",
      "But I'll give you everything\n",
      "You could ever want, it's in my arms So baby tell me yes\n",
      "And I will give you everything\n",
      "So baby tell me yes\n",
      "And I will be all yours tonight\n",
      "So baby tell me yes\n"
     ]
    }
   ],
   "source": [
    "for idx, sentence in enumerate(raw_corpus):\n",
    "    if len(sentence) == 0: continue   # 길이가 0인 문장은 건너뜁니다.\n",
    "    if sentence[-1] == \":\": continue  # 문장의 끝이 : 인 문장은 건너뜁니다.\n",
    "\n",
    "    if idx > 9: break   # 일단 문장 10개만 확인해 볼 겁니다.\n",
    "        \n",
    "    print(sentence)"
   ]
  },
  {
   "cell_type": "code",
   "execution_count": 87,
   "id": "4746d878",
   "metadata": {},
   "outputs": [
    {
     "name": "stdout",
     "output_type": "stream",
     "text": [
      "<start> this is sample sentence . <end>\n"
     ]
    }
   ],
   "source": [
    "# 입력된 문장을\n",
    "#     1. 소문자로 바꾸고, 양쪽 공백을 지웁니다\n",
    "#     2. 특수문자 양쪽에 공백을 넣고\n",
    "#     3. 여러개의 공백은 하나의 공백으로 바꿉니다\n",
    "#     4. a-zA-Z?.!,¿가 아닌 모든 문자를 하나의 공백으로 바꿉니다\n",
    "#     5. 다시 양쪽 공백을 지웁니다\n",
    "#     6. 문장 시작에는 <start>, 끝에는 <end>를 추가합니다\n",
    "# 이 순서로 처리해주면 문제가 되는 상황을 방지할 수 있겠네요!\n",
    "def preprocess_sentence(sentence):\n",
    "    sentence = sentence.lower().strip() # 1\n",
    "    sentence = re.sub(r\"([?.!,¿])\", r\" \\1 \", sentence) # 2\n",
    "    sentence = re.sub(r'[\" \"]+', \" \", sentence) # 3\n",
    "    sentence = re.sub(r\"[^a-zA-Z?.!,¿]+\", \" \", sentence) # 4\n",
    "    sentence = sentence.strip() # 5\n",
    "    sentence = '<start> ' + sentence + ' <end>' # 6\n",
    "    return sentence\n",
    "\n",
    "# 이 문장이 어떻게 필터링되는지 확인해 보세요.\n",
    "print(preprocess_sentence(\"This @_is ;;;sample        sentence.\"))"
   ]
  },
  {
   "cell_type": "code",
   "execution_count": 143,
   "id": "ed1b6495",
   "metadata": {},
   "outputs": [
    {
     "name": "stdout",
     "output_type": "stream",
     "text": [
      "175749\n"
     ]
    },
    {
     "data": {
      "text/plain": [
       "['<start> i ll undress you , cause you re tired <end>',\n",
       " '<start> cover you as you desire <end>',\n",
       " '<start> when you fall asleep inside my arms <end>',\n",
       " '<start> may not have the fancy things <end>',\n",
       " '<start> but i ll give you everything <end>',\n",
       " '<start> you could ever want , it s in my arms so baby tell me yes <end>',\n",
       " '<start> and i will give you everything <end>',\n",
       " '<start> so baby tell me yes <end>',\n",
       " '<start> and i will be all yours tonight <end>',\n",
       " '<start> so baby tell me yes <end>']"
      ]
     },
     "execution_count": 143,
     "metadata": {},
     "output_type": "execute_result"
    }
   ],
   "source": [
    "# 여기에 정제된 문장을 모을겁니다\n",
    "corpus = []\n",
    "\n",
    "for sentence in raw_corpus:\n",
    "    # 우리가 원하지 않는 문장은 건너뜁니다\n",
    "    if len(sentence) == 0: continue\n",
    "    if sentence[-1] == \":\": continue\n",
    "    \n",
    "    \n",
    "    # 정제를 하고 담아주세요\n",
    "    preprocessed_sentence = preprocess_sentence(sentence)\n",
    "    corpus.append(preprocessed_sentence)\n",
    "\n",
    "# 정제된 결과를 10개만 확인해보죠\n",
    "print(len(corpus))\n",
    "corpus[:10]"
   ]
  },
  {
   "cell_type": "code",
   "execution_count": 145,
   "id": "2ad271c2",
   "metadata": {},
   "outputs": [
    {
     "name": "stdout",
     "output_type": "stream",
     "text": [
      "175749\n",
      "[[   2    5   61 ...    0    0    0]\n",
      " [   2 1169    7 ...    0    0    0]\n",
      " [   2   46    7 ...    0    0    0]\n",
      " ...\n",
      " [   2    7  458 ...    0    0    0]\n",
      " [   2   31  124 ...    0    0    0]\n",
      " [   2    5  342 ...    0    0    0]] <keras_preprocessing.text.Tokenizer object at 0x7fdfc62c1d60>\n"
     ]
    }
   ],
   "source": [
    "# 토큰화 할 때 텐서플로우의 Tokenizer와 pad_sequences를 사용합니다\n",
    "# 더 잘 알기 위해 아래 문서들을 참고하면 좋습니다\n",
    "# https://www.tensorflow.org/api_docs/python/tf/keras/preprocessing/text/Tokenizer\n",
    "# https://www.tensorflow.org/api_docs/python/tf/keras/preprocessing/sequence/pad_sequences\n",
    "def tokenize(corpus):\n",
    "    # 12000단어를 기억할 수 있는 tokenizer를 만들겁니다\n",
    "    # 우리는 이미 문장을 정제했으니 filters가 필요없어요\n",
    "    # 12000단어에 포함되지 못한 단어는 '<unk>'로 바꿀거에요\n",
    "    tokenizer = tf.keras.preprocessing.text.Tokenizer(\n",
    "        num_words=12000, \n",
    "        filters=' ',\n",
    "        oov_token=\"<unk>\"\n",
    "    )\n",
    "    # corpus를 이용해 tokenizer 내부의 단어장을 완성합니다\n",
    "    tokenizer.fit_on_texts(corpus)\n",
    "    # 준비한 tokenizer를 이용해 corpus를 Tensor로 변환합니다\n",
    "    tensor = tokenizer.texts_to_sequences(corpus)\n",
    "    # 입력 데이터의 시퀀스 길이를 일정하게 맞춰줍니다\n",
    "    # 만약 시퀀스가 짧다면 문장 뒤에 패딩을 붙여 길이를 맞춰줍니다.\n",
    "    # 문장 앞에 패딩을 붙여 길이를 맞추고 싶다면 padding='pre'를 사용합니다\n",
    "    tensor = tf.keras.preprocessing.sequence.pad_sequences(tensor, padding='post', maxlen=15)  \n",
    "    print(len(tensor))\n",
    "    print(tensor,tokenizer)\n",
    "    return tensor, tokenizer\n",
    "\n",
    "tensor, tokenizer = tokenize(corpus)"
   ]
  },
  {
   "cell_type": "code",
   "execution_count": 126,
   "id": "a883fe23",
   "metadata": {
    "scrolled": true
   },
   "outputs": [
    {
     "name": "stdout",
     "output_type": "stream",
     "text": [
      "[[   2    5   61 3121    7    4   67    7   54  617    3    0    0    0\n",
      "     0]\n",
      " [   2 1169    7   81    7 1255    3    0    0    0    0    0    0    0\n",
      "     0]\n",
      " [   2   46    7  292 1599  294   13  465    3    0    0    0    0    0\n",
      "     0]]\n"
     ]
    }
   ],
   "source": [
    "print(tensor[:3, :])"
   ]
  },
  {
   "cell_type": "code",
   "execution_count": 127,
   "id": "c9531d9e",
   "metadata": {},
   "outputs": [
    {
     "name": "stdout",
     "output_type": "stream",
     "text": [
      "1 : <unk>\n",
      "2 : <start>\n",
      "3 : <end>\n",
      "4 : ,\n",
      "5 : i\n",
      "6 : the\n",
      "7 : you\n",
      "8 : and\n",
      "9 : a\n",
      "10 : to\n"
     ]
    }
   ],
   "source": [
    "for idx in tokenizer.index_word:\n",
    "    print(idx, \":\", tokenizer.index_word[idx])\n",
    "\n",
    "    if idx >= 10: break"
   ]
  },
  {
   "cell_type": "code",
   "execution_count": 128,
   "id": "3d52a14c",
   "metadata": {},
   "outputs": [
    {
     "name": "stdout",
     "output_type": "stream",
     "text": [
      "[   2    5   61 3121    7    4   67    7   54  617    3    0    0    0]\n",
      "[   5   61 3121    7    4   67    7   54  617    3    0    0    0    0]\n"
     ]
    }
   ],
   "source": [
    "# tensor에서 마지막 토큰을 잘라내서 소스 문장을 생성합니다\n",
    "# 마지막 토큰은 <end>가 아니라 <pad>일 가능성이 높습니다.\n",
    "src_input = tensor[:, :-1]  \n",
    "# tensor에서 <start>를 잘라내서 타겟 문장을 생성합니다.\n",
    "tgt_input = tensor[:, 1:]    \n",
    "\n",
    "print(src_input[0])\n",
    "print(tgt_input[0])"
   ]
  },
  {
   "cell_type": "code",
   "execution_count": 129,
   "id": "abb6d2b8",
   "metadata": {},
   "outputs": [
    {
     "name": "stdout",
     "output_type": "stream",
     "text": [
      "686\n"
     ]
    },
    {
     "data": {
      "text/plain": [
       "<BatchDataset shapes: ((256, 14), (256, 14)), types: (tf.int32, tf.int32)>"
      ]
     },
     "execution_count": 129,
     "metadata": {},
     "output_type": "execute_result"
    }
   ],
   "source": [
    "BUFFER_SIZE = len(src_input)\n",
    "BATCH_SIZE = 256\n",
    "steps_per_epoch = len(src_input) // BATCH_SIZE\n",
    "\n",
    " # tokenizer가 구축한 단어사전 내 7000개와, 여기 포함되지 않은 0:<pad>를 포함하여 7001개\n",
    "VOCAB_SIZE = tokenizer.num_words + 1   \n",
    "\n",
    "# 준비한 데이터 소스로부터 데이터셋을 만듭니다\n",
    "# 데이터셋에 대해서는 아래 문서를 참고하세요\n",
    "# 자세히 알아둘수록 도움이 많이 되는 중요한 문서입니다\n",
    "# https://www.tensorflow.org/api_docs/python/tf/data/Dataset\n",
    "dataset = tf.data.Dataset.from_tensor_slices((src_input, tgt_input))\n",
    "dataset = dataset.shuffle(BUFFER_SIZE)\n",
    "dataset = dataset.batch(BATCH_SIZE, drop_remainder=True)\n",
    "print(len(dataset))\n",
    "dataset"
   ]
  },
  {
   "cell_type": "markdown",
   "id": "3e1e0318",
   "metadata": {},
   "source": [
    "### 데이터셋 분리하기\n",
    "사이킷런의 train_test_split() 이용해서 훈련 데이터와 평가 데이터 분리하기   \n",
    "단어장의 크기는 12,000 이상, 총 데이터의 20%를 평가 데이터로 하기"
   ]
  },
  {
   "cell_type": "code",
   "execution_count": 132,
   "id": "d32eba3b",
   "metadata": {},
   "outputs": [
    {
     "name": "stdout",
     "output_type": "stream",
     "text": [
      "Source Train: (140599, 14)\n",
      "Source val: (35150, 14)\n",
      "Target Train: (140599, 14)\n",
      "Target val: (35150, 14)\n"
     ]
    }
   ],
   "source": [
    "from sklearn.model_selection import train_test_split\n",
    "# BUFFER_SIZE = len(src_input)\n",
    "# BATCH_SIZE = 256\n",
    "# steps_per_epoch = len(src_input) // BATCH_SIZE\n",
    "\n",
    "# tokenizer가 구축한 단어사전 내 7000개와, 여기 포함되지 않은 0:<pad>를 포함하여 12001개\n",
    "# VOCAB_SIZE = tokenizer.num_words + 1   \n",
    "\n",
    "enc_train, enc_val, dec_train, dec_val = train_test_split(src_input, tgt_input, test_size=0.2, random_state=7)\n",
    "\n",
    "print(\"Source Train:\", enc_train.shape)\n",
    "print(\"Source val:\", enc_val.shape)\n",
    "print(\"Target Train:\", dec_train.shape)\n",
    "print(\"Target val:\", dec_val.shape)"
   ]
  },
  {
   "cell_type": "markdown",
   "id": "060f926a",
   "metadata": {},
   "source": [
    "### 인공지능 만들기\n",
    "Embedding size와 Hidden size를 조절하여   \n",
    "10 Epoch안에 val_loss 값을 2.2 수준을 목표로 모델 설계하기"
   ]
  },
  {
   "cell_type": "code",
   "execution_count": 133,
   "id": "5c42ab77",
   "metadata": {},
   "outputs": [],
   "source": [
    "class TextGenerator(tf.keras.Model):\n",
    "    def __init__(self, vocab_size, embedding_size, hidden_size):\n",
    "        super().__init__()\n",
    "        \n",
    "        self.embedding = tf.keras.layers.Embedding(vocab_size, embedding_size)\n",
    "        self.rnn_1 = tf.keras.layers.LSTM(hidden_size, return_sequences=True)\n",
    "        self.rnn_2 = tf.keras.layers.LSTM(hidden_size, return_sequences=True)\n",
    "        self.linear = tf.keras.layers.Dense(vocab_size)\n",
    "\n",
    "    def call(self, x):\n",
    "        out = self.embedding(x)\n",
    "        out = self.rnn_1(out)\n",
    "        out = self.rnn_2(out)\n",
    "        out = self.linear(out)\n",
    "\n",
    "        return out\n",
    "\n",
    "embedding_size = 256\n",
    "hidden_size = 1024\n",
    "model = TextGenerator(tokenizer.num_words + 1, embedding_size , hidden_size)"
   ]
  },
  {
   "cell_type": "code",
   "execution_count": 134,
   "id": "a7a4a621",
   "metadata": {},
   "outputs": [
    {
     "data": {
      "text/plain": [
       "<tf.Tensor: shape=(256, 14, 12001), dtype=float32, numpy=\n",
       "array([[[ 1.41607423e-04,  1.00563935e-04, -1.75176465e-04, ...,\n",
       "         -9.91665147e-05,  2.76435545e-04,  2.87898820e-05],\n",
       "        [ 5.48106211e-04, -3.19365863e-05, -1.16718969e-04, ...,\n",
       "         -5.99206942e-05,  4.64462675e-04,  1.62384313e-04],\n",
       "        [ 8.93274788e-04,  1.05369923e-04,  5.18503402e-05, ...,\n",
       "         -2.56434490e-04,  2.27616780e-04,  3.18754959e-04],\n",
       "        ...,\n",
       "        [-5.71206328e-05, -4.52983950e-04, -4.16810391e-04, ...,\n",
       "         -4.37878887e-04,  5.56102197e-04, -9.12036456e-04],\n",
       "        [-3.30552284e-04, -2.54284038e-04, -5.16637170e-04, ...,\n",
       "         -3.44679807e-04,  5.73818746e-04, -1.42266834e-03],\n",
       "        [-6.22230931e-04, -7.70870465e-05, -6.11551513e-04, ...,\n",
       "         -2.09575242e-04,  5.63389272e-04, -1.86600222e-03]],\n",
       "\n",
       "       [[ 1.41607423e-04,  1.00563935e-04, -1.75176465e-04, ...,\n",
       "         -9.91665147e-05,  2.76435545e-04,  2.87898820e-05],\n",
       "        [ 1.85627316e-04,  2.70743913e-04, -2.50014418e-04, ...,\n",
       "         -3.94813542e-04,  6.23084663e-04, -3.01477441e-04],\n",
       "        [ 2.71148718e-04,  7.29290885e-04, -2.39001034e-04, ...,\n",
       "         -3.30711016e-04,  8.60265049e-04, -5.40316745e-04],\n",
       "        ...,\n",
       "        [-7.25018734e-04, -8.79209256e-06, -1.03800592e-03, ...,\n",
       "          2.57915206e-04,  9.09333467e-04, -2.12507695e-03],\n",
       "        [-9.64202278e-04,  8.83817702e-05, -9.96571733e-04, ...,\n",
       "          2.60608533e-04,  7.46582227e-04, -2.48397933e-03],\n",
       "        [-1.20071787e-03,  1.81176918e-04, -9.74279945e-04, ...,\n",
       "          3.07715323e-04,  6.08570583e-04, -2.77242600e-03]],\n",
       "\n",
       "       [[ 1.41607423e-04,  1.00563935e-04, -1.75176465e-04, ...,\n",
       "         -9.91665147e-05,  2.76435545e-04,  2.87898820e-05],\n",
       "        [ 1.20582103e-04,  3.74717667e-04, -2.19808062e-04, ...,\n",
       "         -4.47339145e-04,  1.56149588e-04,  1.77133479e-04],\n",
       "        [-1.00366575e-04,  4.10700712e-04, -2.34595020e-04, ...,\n",
       "         -3.11330252e-04, -2.42851020e-04,  3.22526641e-04],\n",
       "        ...,\n",
       "        [-4.03912964e-05, -9.07847192e-04,  5.55909995e-04, ...,\n",
       "          6.26208028e-04, -3.48779868e-04,  4.00404766e-04],\n",
       "        [ 2.05519420e-04, -7.27604376e-04,  4.18501353e-04, ...,\n",
       "          6.83926861e-04, -5.12683706e-04,  4.40107426e-04],\n",
       "        [ 4.67002945e-04, -9.63892147e-04,  7.80007322e-05, ...,\n",
       "          7.88489764e-04, -3.36038123e-04,  6.42758270e-04]],\n",
       "\n",
       "       ...,\n",
       "\n",
       "       [[ 1.41607423e-04,  1.00563935e-04, -1.75176465e-04, ...,\n",
       "         -9.91665147e-05,  2.76435545e-04,  2.87898820e-05],\n",
       "        [ 3.97245603e-04,  1.92410531e-04, -2.03629228e-04, ...,\n",
       "         -4.02304548e-04,  5.11489867e-04, -1.54139034e-05],\n",
       "        [ 5.30322548e-04,  7.98216424e-05, -4.19946213e-04, ...,\n",
       "         -5.46526280e-04,  8.51886056e-04,  6.06351932e-05],\n",
       "        ...,\n",
       "        [ 9.41785402e-04, -1.09669447e-04, -2.27634024e-04, ...,\n",
       "          4.19452525e-04,  4.17303207e-04,  1.27893616e-03],\n",
       "        [ 7.98750028e-04,  2.15406792e-04, -2.48075230e-04, ...,\n",
       "          8.47972347e-04,  4.82340169e-04,  1.56425289e-03],\n",
       "        [ 8.63876718e-04, -1.53927135e-06, -5.09742706e-04, ...,\n",
       "          1.13963091e-03,  7.31318200e-04,  1.87036174e-03]],\n",
       "\n",
       "       [[ 1.41607423e-04,  1.00563935e-04, -1.75176465e-04, ...,\n",
       "         -9.91665147e-05,  2.76435545e-04,  2.87898820e-05],\n",
       "        [ 3.45129985e-04,  2.07740726e-04, -9.73255301e-05, ...,\n",
       "         -7.04774648e-05,  3.64158710e-04, -1.30142333e-04],\n",
       "        [ 3.24996945e-04,  4.15317365e-04,  1.60183161e-04, ...,\n",
       "          3.44243199e-05,  2.09408463e-04, -3.78679106e-04],\n",
       "        ...,\n",
       "        [ 4.49676794e-04, -8.30720310e-05, -8.10298545e-04, ...,\n",
       "         -4.43178549e-04, -2.01646442e-04, -1.16703066e-03],\n",
       "        [ 9.84254948e-05,  1.29446053e-05, -8.01108021e-04, ...,\n",
       "         -4.24364174e-04, -1.68440776e-04, -1.65177789e-03],\n",
       "        [-2.61803012e-04,  1.07199172e-04, -8.01810645e-04, ...,\n",
       "         -3.41446779e-04, -1.42411809e-04, -2.07313849e-03]],\n",
       "\n",
       "       [[ 1.41607423e-04,  1.00563935e-04, -1.75176465e-04, ...,\n",
       "         -9.91665147e-05,  2.76435545e-04,  2.87898820e-05],\n",
       "        [ 1.32004716e-04, -6.19670682e-05, -1.67272316e-04, ...,\n",
       "         -1.26849831e-04,  4.34514339e-04, -6.72326642e-05],\n",
       "        [ 5.42395755e-05, -3.31338961e-04,  1.03220678e-04, ...,\n",
       "         -4.27779480e-04,  7.98806315e-04,  8.76684207e-05],\n",
       "        ...,\n",
       "        [-2.17497727e-04, -9.82611440e-04, -3.74794065e-04, ...,\n",
       "         -1.70598760e-05,  1.36674137e-03,  8.32470600e-04],\n",
       "        [-2.23519863e-04, -9.26480687e-04, -5.15280874e-04, ...,\n",
       "         -6.31939547e-05,  1.49622594e-03,  5.26988239e-04],\n",
       "        [-3.02111555e-04, -7.45143392e-04, -5.47930773e-04, ...,\n",
       "         -1.40220654e-04,  1.50636013e-03, -5.23357949e-06]]],\n",
       "      dtype=float32)>"
      ]
     },
     "execution_count": 134,
     "metadata": {},
     "output_type": "execute_result"
    }
   ],
   "source": [
    "# 데이터셋에서 데이터 한 배치만 불러오는 방법입니다.\n",
    "# 지금은 동작 원리에 너무 빠져들지 마세요~\n",
    "for src_sample, tgt_sample in dataset.take(1): break\n",
    "\n",
    "# 한 배치만 불러온 데이터를 모델에 넣어봅니다\n",
    "model(src_sample)"
   ]
  },
  {
   "cell_type": "code",
   "execution_count": 135,
   "id": "1b91e5b1",
   "metadata": {},
   "outputs": [
    {
     "name": "stdout",
     "output_type": "stream",
     "text": [
      "Model: \"text_generator\"\n",
      "_________________________________________________________________\n",
      "Layer (type)                 Output Shape              Param #   \n",
      "=================================================================\n",
      "embedding (Embedding)        multiple                  3072256   \n",
      "_________________________________________________________________\n",
      "lstm (LSTM)                  multiple                  5246976   \n",
      "_________________________________________________________________\n",
      "lstm_1 (LSTM)                multiple                  8392704   \n",
      "_________________________________________________________________\n",
      "dense (Dense)                multiple                  12301025  \n",
      "=================================================================\n",
      "Total params: 29,012,961\n",
      "Trainable params: 29,012,961\n",
      "Non-trainable params: 0\n",
      "_________________________________________________________________\n"
     ]
    }
   ],
   "source": [
    "model.summary()"
   ]
  },
  {
   "cell_type": "code",
   "execution_count": 136,
   "id": "03846aac",
   "metadata": {},
   "outputs": [
    {
     "name": "stdout",
     "output_type": "stream",
     "text": [
      "Epoch 1/10\n",
      "686/686 [==============================] - 127s 182ms/step - loss: 3.6102\n",
      "Epoch 2/10\n",
      "686/686 [==============================] - 125s 182ms/step - loss: 3.1301\n",
      "Epoch 3/10\n",
      "686/686 [==============================] - 125s 182ms/step - loss: 2.9389\n",
      "Epoch 4/10\n",
      "686/686 [==============================] - 125s 182ms/step - loss: 2.7926\n",
      "Epoch 5/10\n",
      "686/686 [==============================] - 125s 182ms/step - loss: 2.6682\n",
      "Epoch 6/10\n",
      "686/686 [==============================] - 125s 182ms/step - loss: 2.5537\n",
      "Epoch 7/10\n",
      "686/686 [==============================] - 125s 182ms/step - loss: 2.4459\n",
      "Epoch 8/10\n",
      "686/686 [==============================] - 125s 182ms/step - loss: 2.3452\n",
      "Epoch 9/10\n",
      "686/686 [==============================] - 125s 182ms/step - loss: 2.2489\n",
      "Epoch 10/10\n",
      "686/686 [==============================] - 125s 182ms/step - loss: 2.1567\n"
     ]
    },
    {
     "data": {
      "text/plain": [
       "<keras.callbacks.History at 0x7fdfca935430>"
      ]
     },
     "execution_count": 136,
     "metadata": {},
     "output_type": "execute_result"
    }
   ],
   "source": [
    "# optimizer와 loss등은 차차 배웁니다\n",
    "# 혹시 미리 알고 싶다면 아래 문서를 참고하세요\n",
    "# https://www.tensorflow.org/api_docs/python/tf/keras/optimizers\n",
    "# https://www.tensorflow.org/api_docs/python/tf/keras/losses\n",
    "# 양이 상당히 많은 편이니 지금 보는 것은 추천하지 않습니다\n",
    "optimizer = tf.keras.optimizers.Adam()\n",
    "loss = tf.keras.losses.SparseCategoricalCrossentropy(\n",
    "    from_logits=True,\n",
    "    reduction='none'\n",
    ")\n",
    "\n",
    "model.compile(loss=loss, optimizer=optimizer)\n",
    "model.fit(dataset, epochs=10)"
   ]
  },
  {
   "cell_type": "code",
   "execution_count": 137,
   "id": "be74b5d5",
   "metadata": {},
   "outputs": [],
   "source": [
    "#Loss\n",
    "loss = tf.keras.losses.SparseCategoricalCrossentropy(\n",
    "    from_logits=True, reduction='none')"
   ]
  },
  {
   "cell_type": "code",
   "execution_count": 138,
   "id": "39f1f224",
   "metadata": {},
   "outputs": [],
   "source": [
    "def generate_text(model, tokenizer, init_sentence=\"<start>\", max_len=20):\n",
    "    # 테스트를 위해서 입력받은 init_sentence도 텐서로 변환합니다\n",
    "    test_input = tokenizer.texts_to_sequences([init_sentence])\n",
    "    test_tensor = tf.convert_to_tensor(test_input, dtype=tf.int64)\n",
    "    end_token = tokenizer.word_index[\"<end>\"]\n",
    "\n",
    "    # 단어 하나씩 예측해 문장을 만듭니다\n",
    "    #    1. 입력받은 문장의 텐서를 입력합니다\n",
    "    #    2. 예측된 값 중 가장 높은 확률인 word index를 뽑아냅니다\n",
    "    #    3. 2에서 예측된 word index를 문장 뒤에 붙입니다\n",
    "    #    4. 모델이 <end>를 예측했거나, max_len에 도달했다면 문장 생성을 마칩니다\n",
    "    while True:\n",
    "        # 1\n",
    "        predict = model(test_tensor) \n",
    "        # 2\n",
    "        predict_word = tf.argmax(tf.nn.softmax(predict, axis=-1), axis=-1)[:, -1] \n",
    "        # 3 \n",
    "        test_tensor = tf.concat([test_tensor, tf.expand_dims(predict_word, axis=0)], axis=-1)\n",
    "        # 4\n",
    "        if predict_word.numpy()[0] == end_token: break\n",
    "        if test_tensor.shape[1] >= max_len: break\n",
    "\n",
    "    generated = \"\"\n",
    "    # tokenizer를 이용해 word index를 단어로 하나씩 변환합니다 \n",
    "    for word_index in test_tensor[0].numpy():\n",
    "        generated += tokenizer.index_word[word_index] + \" \"\n",
    "\n",
    "    return generated"
   ]
  },
  {
   "cell_type": "code",
   "execution_count": 140,
   "id": "f89e068d",
   "metadata": {},
   "outputs": [
    {
     "data": {
      "text/plain": [
       "'<start> i love you , i love you <end> '"
      ]
     },
     "execution_count": 140,
     "metadata": {},
     "output_type": "execute_result"
    }
   ],
   "source": [
    "generate_text(model, tokenizer, init_sentence=\"<start> i love\", max_len=20)"
   ]
  },
  {
   "cell_type": "markdown",
   "id": "0f7b978c",
   "metadata": {},
   "source": [
    "### 최종\n",
    "모델이 생성한 가사 한 줄은?"
   ]
  },
  {
   "cell_type": "code",
   "execution_count": 146,
   "id": "2e1cc34d",
   "metadata": {},
   "outputs": [
    {
     "data": {
      "text/plain": [
       "'<start> i love you , i love you <end> '"
      ]
     },
     "execution_count": 146,
     "metadata": {},
     "output_type": "execute_result"
    }
   ],
   "source": [
    "'<start> i love you , i love you <end> '"
   ]
  }
 ],
 "metadata": {
  "kernelspec": {
   "display_name": "Python 3 (ipykernel)",
   "language": "python",
   "name": "python3"
  },
  "language_info": {
   "codemirror_mode": {
    "name": "ipython",
    "version": 3
   },
   "file_extension": ".py",
   "mimetype": "text/x-python",
   "name": "python",
   "nbconvert_exporter": "python",
   "pygments_lexer": "ipython3",
   "version": "3.9.7"
  }
 },
 "nbformat": 4,
 "nbformat_minor": 5
}
