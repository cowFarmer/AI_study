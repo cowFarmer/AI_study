{
 "cells": [
  {
   "cell_type": "markdown",
   "id": "c81bc6d8",
   "metadata": {},
   "source": [
    "# 순환 신경망으로 IMDB 리뷰 분류하기"
   ]
  },
  {
   "cell_type": "markdown",
   "id": "d7370364",
   "metadata": {},
   "source": [
    "### IMDB 리뷰 데이터셋"
   ]
  },
  {
   "cell_type": "code",
   "execution_count": 1,
   "id": "b57c43c2",
   "metadata": {},
   "outputs": [
    {
     "name": "stdout",
     "output_type": "stream",
     "text": [
      "Downloading data from https://storage.googleapis.com/tensorflow/tf-keras-datasets/imdb.npz\n",
      "17465344/17464789 [==============================] - 0s 0us/step\n",
      "17473536/17464789 [==============================] - 0s 0us/step\n"
     ]
    }
   ],
   "source": [
    "from tensorflow.keras.datasets import imdb\n",
    "\n",
    "(train_input, train_target), (test_input, test_target) = imdb.load_data(\n",
    "    num_words=500)"
   ]
  },
  {
   "cell_type": "code",
   "execution_count": 2,
   "id": "ef79fc06",
   "metadata": {},
   "outputs": [
    {
     "name": "stdout",
     "output_type": "stream",
     "text": [
      "(25000,) (25000,)\n"
     ]
    }
   ],
   "source": [
    "print(train_input.shape, test_input.shape)"
   ]
  },
  {
   "cell_type": "code",
   "execution_count": 3,
   "id": "15b5f1eb",
   "metadata": {},
   "outputs": [
    {
     "name": "stdout",
     "output_type": "stream",
     "text": [
      "218\n"
     ]
    }
   ],
   "source": [
    "print(len(train_input[0]))"
   ]
  },
  {
   "cell_type": "code",
   "execution_count": 4,
   "id": "cb1bec3a",
   "metadata": {},
   "outputs": [
    {
     "name": "stdout",
     "output_type": "stream",
     "text": [
      "189\n"
     ]
    }
   ],
   "source": [
    "print(len(train_input[1]))"
   ]
  },
  {
   "cell_type": "code",
   "execution_count": 5,
   "id": "d38c9d45",
   "metadata": {},
   "outputs": [
    {
     "name": "stdout",
     "output_type": "stream",
     "text": [
      "[1, 14, 22, 16, 43, 2, 2, 2, 2, 65, 458, 2, 66, 2, 4, 173, 36, 256, 5, 25, 100, 43, 2, 112, 50, 2, 2, 9, 35, 480, 284, 5, 150, 4, 172, 112, 167, 2, 336, 385, 39, 4, 172, 2, 2, 17, 2, 38, 13, 447, 4, 192, 50, 16, 6, 147, 2, 19, 14, 22, 4, 2, 2, 469, 4, 22, 71, 87, 12, 16, 43, 2, 38, 76, 15, 13, 2, 4, 22, 17, 2, 17, 12, 16, 2, 18, 2, 5, 62, 386, 12, 8, 316, 8, 106, 5, 4, 2, 2, 16, 480, 66, 2, 33, 4, 130, 12, 16, 38, 2, 5, 25, 124, 51, 36, 135, 48, 25, 2, 33, 6, 22, 12, 215, 28, 77, 52, 5, 14, 407, 16, 82, 2, 8, 4, 107, 117, 2, 15, 256, 4, 2, 7, 2, 5, 2, 36, 71, 43, 2, 476, 26, 400, 317, 46, 7, 4, 2, 2, 13, 104, 88, 4, 381, 15, 297, 98, 32, 2, 56, 26, 141, 6, 194, 2, 18, 4, 226, 22, 21, 134, 476, 26, 480, 5, 144, 30, 2, 18, 51, 36, 28, 224, 92, 25, 104, 4, 226, 65, 16, 38, 2, 88, 12, 16, 283, 5, 16, 2, 113, 103, 32, 15, 16, 2, 19, 178, 32]\n"
     ]
    }
   ],
   "source": [
    "print(train_input[0])"
   ]
  },
  {
   "cell_type": "code",
   "execution_count": 6,
   "id": "3d894506",
   "metadata": {},
   "outputs": [
    {
     "name": "stdout",
     "output_type": "stream",
     "text": [
      "[1 0 0 1 0 0 1 0 1 0 1 0 0 0 0 0 1 1 0 1]\n"
     ]
    }
   ],
   "source": [
    "print(train_target[:20])"
   ]
  },
  {
   "cell_type": "code",
   "execution_count": 7,
   "id": "833b0a59",
   "metadata": {},
   "outputs": [],
   "source": [
    "from sklearn.model_selection import train_test_split\n",
    "\n",
    "train_input, val_input, train_target, val_target = train_test_split(\n",
    "    train_input, train_target, test_size=0.2, random_state=42)"
   ]
  },
  {
   "cell_type": "code",
   "execution_count": 8,
   "id": "9ae697b0",
   "metadata": {},
   "outputs": [],
   "source": [
    "import numpy as np\n",
    "\n",
    "lengths = np.array([len(x) for x in train_input])"
   ]
  },
  {
   "cell_type": "code",
   "execution_count": 9,
   "id": "5b41109c",
   "metadata": {},
   "outputs": [
    {
     "name": "stdout",
     "output_type": "stream",
     "text": [
      "239.00925 178.0\n"
     ]
    }
   ],
   "source": [
    "print(np.mean(lengths), np.median(lengths))"
   ]
  },
  {
   "cell_type": "code",
   "execution_count": 10,
   "id": "39f77ee2",
   "metadata": {},
   "outputs": [
    {
     "data": {
      "image/png": "[encoded data removed]",
      "text/plain": [
       "<Figure size 432x288 with 1 Axes>"
      ]
     },
     "metadata": {
      "needs_background": "light"
     },
     "output_type": "display_data"
    }
   ],
   "source": [
    "import matplotlib.pyplot as plt\n",
    "\n",
    "plt.hist(lengths)\n",
    "plt.xlabel('length')\n",
    "plt.ylabel('frequency')\n",
    "plt.show()"
   ]
  },
  {
   "cell_type": "code",
   "execution_count": 11,
   "id": "95239bff",
   "metadata": {},
   "outputs": [],
   "source": [
    "from tensorflow.keras.preprocessing.sequence import pad_sequences\n",
    "\n",
    "train_seq = pad_sequences(train_input, maxlen=100)"
   ]
  },
  {
   "cell_type": "code",
   "execution_count": 12,
   "id": "3d352d51",
   "metadata": {},
   "outputs": [
    {
     "name": "stdout",
     "output_type": "stream",
     "text": [
      "(20000, 100)\n"
     ]
    }
   ],
   "source": [
    "print(train_seq.shape)"
   ]
  },
  {
   "cell_type": "code",
   "execution_count": 13,
   "id": "61da295d",
   "metadata": {},
   "outputs": [
    {
     "name": "stdout",
     "output_type": "stream",
     "text": [
      "[ 10   4  20   9   2 364 352   5  45   6   2   2  33 269   8   2 142   2\n",
      "   5   2  17  73  17 204   5   2  19  55   2   2  92  66 104  14  20  93\n",
      "  76   2 151  33   4  58  12 188   2 151  12 215  69 224 142  73 237   6\n",
      "   2   7   2   2 188   2 103  14  31  10  10 451   7   2   5   2  80  91\n",
      "   2  30   2  34  14  20 151  50  26 131  49   2  84  46  50  37  80  79\n",
      "   6   2  46   7  14  20  10  10 470 158]\n"
     ]
    }
   ],
   "source": [
    "print(train_seq[0])"
   ]
  },
  {
   "cell_type": "code",
   "execution_count": 14,
   "id": "bb8055f7",
   "metadata": {},
   "outputs": [
    {
     "name": "stdout",
     "output_type": "stream",
     "text": [
      "[6, 2, 46, 7, 14, 20, 10, 10, 470, 158]\n"
     ]
    }
   ],
   "source": [
    "print(train_input[0][-10:])"
   ]
  },
  {
   "cell_type": "code",
   "execution_count": 15,
   "id": "dde678d7",
   "metadata": {},
   "outputs": [
    {
     "name": "stdout",
     "output_type": "stream",
     "text": [
      "[  0   0   0   0   1   2 195  19  49   2   2 190   4   2 352   2 183  10\n",
      "  10  13  82  79   4   2  36  71 269   8   2  25  19  49   7   4   2   2\n",
      "   2   2   2  10  10  48  25  40   2  11   2   2  40   2   2   5   4   2\n",
      "   2  95  14 238  56 129   2  10  10  21   2  94 364 352   2   2  11 190\n",
      "  24 484   2   7  94 205 405  10  10  87   2  34  49   2   7   2   2   2\n",
      "   2   2 290   2  46  48  64  18   4   2]\n"
     ]
    }
   ],
   "source": [
    "print(train_seq[5])"
   ]
  },
  {
   "cell_type": "code",
   "execution_count": 16,
   "id": "959b7a8e",
   "metadata": {},
   "outputs": [],
   "source": [
    "val_seq = pad_sequences(val_input, maxlen=100)"
   ]
  },
  {
   "cell_type": "markdown",
   "id": "37375bfb",
   "metadata": {},
   "source": [
    "### RNN 만들기"
   ]
  },
  {
   "cell_type": "code",
   "execution_count": 17,
   "id": "d3aff8c6",
   "metadata": {},
   "outputs": [],
   "source": [
    "from tensorflow import keras\n",
    "\n",
    "model = keras.Sequential()\n",
    "\n",
    "model.add(keras.layers.SimpleRNN(8, input_shape=(100, 500)))\n",
    "model.add(keras.layers.Dense(1, activation='sigmoid'))"
   ]
  },
  {
   "cell_type": "code",
   "execution_count": 18,
   "id": "9bc1d224",
   "metadata": {},
   "outputs": [],
   "source": [
    "train_oh = keras.utils.to_categorical(train_seq)"
   ]
  },
  {
   "cell_type": "code",
   "execution_count": 19,
   "id": "4cbf4956",
   "metadata": {},
   "outputs": [
    {
     "name": "stdout",
     "output_type": "stream",
     "text": [
      "(20000, 100, 500)\n"
     ]
    }
   ],
   "source": [
    "print(train_oh.shape)"
   ]
  },
  {
   "cell_type": "code",
   "execution_count": 20,
   "id": "703d8bd1",
   "metadata": {},
   "outputs": [
    {
     "name": "stdout",
     "output_type": "stream",
     "text": [
      "[0. 0. 0. 0. 0. 0. 0. 0. 0. 0. 1. 0.]\n"
     ]
    }
   ],
   "source": [
    "print(train_oh[0][0][:12])"
   ]
  },
  {
   "cell_type": "code",
   "execution_count": 21,
   "id": "d769486f",
   "metadata": {},
   "outputs": [
    {
     "name": "stdout",
     "output_type": "stream",
     "text": [
      "1.0\n"
     ]
    }
   ],
   "source": [
    "print(np.sum(train_oh[0][0]))"
   ]
  },
  {
   "cell_type": "code",
   "execution_count": 22,
   "id": "e9820428",
   "metadata": {},
   "outputs": [],
   "source": [
    "val_oh = keras.utils.to_categorical(val_seq)"
   ]
  },
  {
   "cell_type": "code",
   "execution_count": 23,
   "id": "fbebd42f",
   "metadata": {
    "scrolled": true
   },
   "outputs": [
    {
     "name": "stdout",
     "output_type": "stream",
     "text": [
      "Model: \"sequential\"\n",
      "_________________________________________________________________\n",
      "Layer (type)                 Output Shape              Param #   \n",
      "=================================================================\n",
      "simple_rnn (SimpleRNN)       (None, 8)                 4072      \n",
      "_________________________________________________________________\n",
      "dense (Dense)                (None, 1)                 9         \n",
      "=================================================================\n",
      "Total params: 4,081\n",
      "Trainable params: 4,081\n",
      "Non-trainable params: 0\n",
      "_________________________________________________________________\n"
     ]
    }
   ],
   "source": [
    "model.summary()"
   ]
  },
  {
   "cell_type": "markdown",
   "id": "ad7a7c2e",
   "metadata": {},
   "source": [
    "# RNN 훈련하기"
   ]
  },
  {
   "cell_type": "code",
   "execution_count": 24,
   "id": "6540217a",
   "metadata": {},
   "outputs": [
    {
     "name": "stdout",
     "output_type": "stream",
     "text": [
      "Epoch 1/100\n",
      "313/313 [==============================] - 30s 72ms/step - loss: 0.6967 - accuracy: 0.5085 - val_loss: 0.6944 - val_accuracy: 0.5152\n",
      "Epoch 2/100\n",
      "313/313 [==============================] - 20s 65ms/step - loss: 0.6884 - accuracy: 0.5398 - val_loss: 0.6837 - val_accuracy: 0.5616\n",
      "Epoch 3/100\n",
      "313/313 [==============================] - 20s 65ms/step - loss: 0.6727 - accuracy: 0.5987 - val_loss: 0.6666 - val_accuracy: 0.6176\n",
      "Epoch 4/100\n",
      "313/313 [==============================] - 20s 65ms/step - loss: 0.6563 - accuracy: 0.6428 - val_loss: 0.6484 - val_accuracy: 0.6684\n",
      "Epoch 5/100\n",
      "313/313 [==============================] - 20s 65ms/step - loss: 0.6387 - accuracy: 0.6723 - val_loss: 0.6326 - val_accuracy: 0.6880\n",
      "Epoch 6/100\n",
      "313/313 [==============================] - 20s 65ms/step - loss: 0.6236 - accuracy: 0.6933 - val_loss: 0.6212 - val_accuracy: 0.6934\n",
      "Epoch 7/100\n",
      "313/313 [==============================] - 20s 65ms/step - loss: 0.6086 - accuracy: 0.7099 - val_loss: 0.6039 - val_accuracy: 0.7154\n",
      "Epoch 8/100\n",
      "313/313 [==============================] - 20s 64ms/step - loss: 0.5941 - accuracy: 0.7244 - val_loss: 0.5919 - val_accuracy: 0.7250\n",
      "Epoch 9/100\n",
      "313/313 [==============================] - 20s 65ms/step - loss: 0.5795 - accuracy: 0.7369 - val_loss: 0.5801 - val_accuracy: 0.7348\n",
      "Epoch 10/100\n",
      "313/313 [==============================] - 20s 65ms/step - loss: 0.5654 - accuracy: 0.7481 - val_loss: 0.5666 - val_accuracy: 0.7394\n",
      "Epoch 11/100\n",
      "313/313 [==============================] - 20s 65ms/step - loss: 0.5515 - accuracy: 0.7556 - val_loss: 0.5535 - val_accuracy: 0.7464\n",
      "Epoch 12/100\n",
      "313/313 [==============================] - 20s 65ms/step - loss: 0.5393 - accuracy: 0.7633 - val_loss: 0.5414 - val_accuracy: 0.7590\n",
      "Epoch 13/100\n",
      "313/313 [==============================] - 20s 65ms/step - loss: 0.5265 - accuracy: 0.7686 - val_loss: 0.5311 - val_accuracy: 0.7640\n",
      "Epoch 14/100\n",
      "313/313 [==============================] - 20s 65ms/step - loss: 0.5150 - accuracy: 0.7742 - val_loss: 0.5226 - val_accuracy: 0.7668\n",
      "Epoch 15/100\n",
      "313/313 [==============================] - 20s 65ms/step - loss: 0.5050 - accuracy: 0.7787 - val_loss: 0.5109 - val_accuracy: 0.7726\n",
      "Epoch 16/100\n",
      "313/313 [==============================] - 20s 65ms/step - loss: 0.4942 - accuracy: 0.7846 - val_loss: 0.5037 - val_accuracy: 0.7750\n",
      "Epoch 17/100\n",
      "313/313 [==============================] - 20s 64ms/step - loss: 0.4850 - accuracy: 0.7875 - val_loss: 0.4960 - val_accuracy: 0.7772\n",
      "Epoch 18/100\n",
      "313/313 [==============================] - 20s 64ms/step - loss: 0.4767 - accuracy: 0.7915 - val_loss: 0.4906 - val_accuracy: 0.7800\n",
      "Epoch 19/100\n",
      "313/313 [==============================] - 20s 64ms/step - loss: 0.4701 - accuracy: 0.7929 - val_loss: 0.4850 - val_accuracy: 0.7816\n",
      "Epoch 20/100\n",
      "313/313 [==============================] - 20s 64ms/step - loss: 0.4631 - accuracy: 0.7977 - val_loss: 0.4798 - val_accuracy: 0.7840\n",
      "Epoch 21/100\n",
      "313/313 [==============================] - 20s 64ms/step - loss: 0.4576 - accuracy: 0.7983 - val_loss: 0.4779 - val_accuracy: 0.7850\n",
      "Epoch 22/100\n",
      "313/313 [==============================] - 20s 65ms/step - loss: 0.4522 - accuracy: 0.8009 - val_loss: 0.4727 - val_accuracy: 0.7862\n",
      "Epoch 23/100\n",
      "313/313 [==============================] - 20s 65ms/step - loss: 0.4472 - accuracy: 0.8037 - val_loss: 0.4762 - val_accuracy: 0.7786\n",
      "Epoch 24/100\n",
      "313/313 [==============================] - 20s 64ms/step - loss: 0.4427 - accuracy: 0.8050 - val_loss: 0.4698 - val_accuracy: 0.7854\n",
      "Epoch 25/100\n",
      "313/313 [==============================] - 20s 65ms/step - loss: 0.4386 - accuracy: 0.8080 - val_loss: 0.4663 - val_accuracy: 0.7848\n",
      "Epoch 26/100\n",
      "313/313 [==============================] - 20s 64ms/step - loss: 0.4363 - accuracy: 0.8079 - val_loss: 0.4642 - val_accuracy: 0.7912\n",
      "Epoch 27/100\n",
      "313/313 [==============================] - 20s 65ms/step - loss: 0.4328 - accuracy: 0.8090 - val_loss: 0.4631 - val_accuracy: 0.7914\n",
      "Epoch 28/100\n",
      "313/313 [==============================] - 20s 64ms/step - loss: 0.4301 - accuracy: 0.8108 - val_loss: 0.4629 - val_accuracy: 0.7916\n",
      "Epoch 29/100\n",
      "313/313 [==============================] - 21s 66ms/step - loss: 0.4275 - accuracy: 0.8123 - val_loss: 0.4621 - val_accuracy: 0.7886\n",
      "Epoch 30/100\n",
      "313/313 [==============================] - 21s 66ms/step - loss: 0.4247 - accuracy: 0.8134 - val_loss: 0.4604 - val_accuracy: 0.7888\n",
      "Epoch 31/100\n",
      "313/313 [==============================] - 20s 64ms/step - loss: 0.4228 - accuracy: 0.8148 - val_loss: 0.4644 - val_accuracy: 0.7896\n",
      "Epoch 32/100\n",
      "313/313 [==============================] - 20s 64ms/step - loss: 0.4215 - accuracy: 0.8150 - val_loss: 0.4601 - val_accuracy: 0.7872\n",
      "Epoch 33/100\n",
      "313/313 [==============================] - 20s 64ms/step - loss: 0.4194 - accuracy: 0.8161 - val_loss: 0.4609 - val_accuracy: 0.7868\n",
      "Epoch 34/100\n",
      "313/313 [==============================] - 20s 64ms/step - loss: 0.4181 - accuracy: 0.8152 - val_loss: 0.4664 - val_accuracy: 0.7836\n",
      "Epoch 35/100\n",
      "313/313 [==============================] - 20s 64ms/step - loss: 0.4166 - accuracy: 0.8175 - val_loss: 0.4657 - val_accuracy: 0.7830\n"
     ]
    }
   ],
   "source": [
    "rmsprop = keras.optimizers.RMSprop(learning_rate=1e-4)\n",
    "model.compile(optimizer=rmsprop, loss='binary_crossentropy', \n",
    "              metrics=['accuracy'])\n",
    "\n",
    "checkpoint_cb = keras.callbacks.ModelCheckpoint('best-simplernn-model.h5', \n",
    "                                                save_best_only=True)\n",
    "early_stopping_cb = keras.callbacks.EarlyStopping(patience=3,\n",
    "                                                  restore_best_weights=True)\n",
    "\n",
    "history = model.fit(train_oh, train_target, epochs=100, batch_size=64,\n",
    "                    validation_data=(val_oh, val_target),\n",
    "                    callbacks=[checkpoint_cb, early_stopping_cb])"
   ]
  },
  {
   "cell_type": "code",
   "execution_count": 25,
   "id": "bd712f29",
   "metadata": {},
   "outputs": [
    {
     "data": {
      "image/png": "[encoded data removed]",
      "text/plain": [
       "<Figure size 432x288 with 1 Axes>"
      ]
     },
     "metadata": {
      "needs_background": "light"
     },
     "output_type": "display_data"
    }
   ],
   "source": [
    "plt.plot(history.history['loss'])\n",
    "plt.plot(history.history['val_loss'])\n",
    "plt.xlabel('epoch')\n",
    "plt.ylabel('loss')\n",
    "plt.legend(['train', 'val'])\n",
    "plt.show()"
   ]
  },
  {
   "cell_type": "markdown",
   "id": "0ba21037",
   "metadata": {},
   "source": [
    "### 단어 임베딩 사용하기"
   ]
  },
  {
   "cell_type": "code",
   "execution_count": 26,
   "id": "ce053ff0",
   "metadata": {},
   "outputs": [
    {
     "name": "stdout",
     "output_type": "stream",
     "text": [
      "Model: \"sequential_1\"\n",
      "_________________________________________________________________\n",
      "Layer (type)                 Output Shape              Param #   \n",
      "=================================================================\n",
      "embedding (Embedding)        (None, 100, 16)           8000      \n",
      "_________________________________________________________________\n",
      "simple_rnn_1 (SimpleRNN)     (None, 8)                 200       \n",
      "_________________________________________________________________\n",
      "dense_1 (Dense)              (None, 1)                 9         \n",
      "=================================================================\n",
      "Total params: 8,209\n",
      "Trainable params: 8,209\n",
      "Non-trainable params: 0\n",
      "_________________________________________________________________\n"
     ]
    }
   ],
   "source": [
    "model2 = keras.Sequential()\n",
    "\n",
    "model2.add(keras.layers.Embedding(500, 16, input_length=100))\n",
    "model2.add(keras.layers.SimpleRNN(8))\n",
    "model2.add(keras.layers.Dense(1, activation='sigmoid'))\n",
    "\n",
    "model2.summary()"
   ]
  },
  {
   "cell_type": "code",
   "execution_count": 27,
   "id": "bb01995d",
   "metadata": {},
   "outputs": [
    {
     "name": "stdout",
     "output_type": "stream",
     "text": [
      "Epoch 1/100\n",
      "313/313 [==============================] - 26s 78ms/step - loss: 0.6801 - accuracy: 0.5725 - val_loss: 0.6741 - val_accuracy: 0.5912\n",
      "Epoch 2/100\n",
      "313/313 [==============================] - 25s 79ms/step - loss: 0.6481 - accuracy: 0.6624 - val_loss: 0.6405 - val_accuracy: 0.6770\n",
      "Epoch 3/100\n",
      "313/313 [==============================] - 25s 79ms/step - loss: 0.6159 - accuracy: 0.7110 - val_loss: 0.6090 - val_accuracy: 0.7104\n",
      "Epoch 4/100\n",
      "313/313 [==============================] - 25s 78ms/step - loss: 0.5853 - accuracy: 0.7397 - val_loss: 0.5821 - val_accuracy: 0.7364\n",
      "Epoch 5/100\n",
      "313/313 [==============================] - 25s 79ms/step - loss: 0.5584 - accuracy: 0.7586 - val_loss: 0.5582 - val_accuracy: 0.7468\n",
      "Epoch 6/100\n",
      "313/313 [==============================] - 25s 78ms/step - loss: 0.5339 - accuracy: 0.7710 - val_loss: 0.5345 - val_accuracy: 0.7578\n",
      "Epoch 7/100\n",
      "313/313 [==============================] - 24s 78ms/step - loss: 0.5127 - accuracy: 0.7818 - val_loss: 0.5217 - val_accuracy: 0.7634\n",
      "Epoch 8/100\n",
      "313/313 [==============================] - 25s 78ms/step - loss: 0.4945 - accuracy: 0.7888 - val_loss: 0.5054 - val_accuracy: 0.7770\n",
      "Epoch 9/100\n",
      "313/313 [==============================] - 25s 78ms/step - loss: 0.4794 - accuracy: 0.7965 - val_loss: 0.4920 - val_accuracy: 0.7750\n",
      "Epoch 10/100\n",
      "313/313 [==============================] - 25s 78ms/step - loss: 0.4664 - accuracy: 0.8019 - val_loss: 0.4841 - val_accuracy: 0.7760\n",
      "Epoch 11/100\n",
      "313/313 [==============================] - 24s 78ms/step - loss: 0.4557 - accuracy: 0.8052 - val_loss: 0.4909 - val_accuracy: 0.7718\n",
      "Epoch 12/100\n",
      "313/313 [==============================] - 25s 79ms/step - loss: 0.4472 - accuracy: 0.8067 - val_loss: 0.4720 - val_accuracy: 0.7804\n",
      "Epoch 13/100\n",
      "313/313 [==============================] - 24s 78ms/step - loss: 0.4414 - accuracy: 0.8087 - val_loss: 0.4708 - val_accuracy: 0.7798\n",
      "Epoch 14/100\n",
      "313/313 [==============================] - 24s 78ms/step - loss: 0.4363 - accuracy: 0.8092 - val_loss: 0.4666 - val_accuracy: 0.7824\n",
      "Epoch 15/100\n",
      "313/313 [==============================] - 25s 78ms/step - loss: 0.4315 - accuracy: 0.8128 - val_loss: 0.4633 - val_accuracy: 0.7836\n",
      "Epoch 16/100\n",
      "313/313 [==============================] - 24s 78ms/step - loss: 0.4286 - accuracy: 0.8127 - val_loss: 0.4688 - val_accuracy: 0.7818\n",
      "Epoch 17/100\n",
      "313/313 [==============================] - 24s 78ms/step - loss: 0.4261 - accuracy: 0.8138 - val_loss: 0.4644 - val_accuracy: 0.7836\n",
      "Epoch 18/100\n",
      "313/313 [==============================] - 25s 79ms/step - loss: 0.4233 - accuracy: 0.8137 - val_loss: 0.4629 - val_accuracy: 0.7846\n",
      "Epoch 19/100\n",
      "313/313 [==============================] - 25s 78ms/step - loss: 0.4206 - accuracy: 0.8174 - val_loss: 0.4610 - val_accuracy: 0.7812\n",
      "Epoch 20/100\n",
      "313/313 [==============================] - 24s 78ms/step - loss: 0.4195 - accuracy: 0.8170 - val_loss: 0.4602 - val_accuracy: 0.7850\n",
      "Epoch 21/100\n",
      "313/313 [==============================] - 24s 78ms/step - loss: 0.4169 - accuracy: 0.8184 - val_loss: 0.4623 - val_accuracy: 0.7834\n",
      "Epoch 22/100\n",
      "313/313 [==============================] - 24s 78ms/step - loss: 0.4152 - accuracy: 0.8177 - val_loss: 0.4644 - val_accuracy: 0.7824\n",
      "Epoch 23/100\n",
      "313/313 [==============================] - 24s 78ms/step - loss: 0.4141 - accuracy: 0.8191 - val_loss: 0.4594 - val_accuracy: 0.7860\n",
      "Epoch 24/100\n",
      "313/313 [==============================] - 24s 78ms/step - loss: 0.4126 - accuracy: 0.8194 - val_loss: 0.4578 - val_accuracy: 0.7870\n",
      "Epoch 25/100\n",
      "313/313 [==============================] - 24s 78ms/step - loss: 0.4102 - accuracy: 0.8206 - val_loss: 0.4594 - val_accuracy: 0.7860\n",
      "Epoch 26/100\n",
      "313/313 [==============================] - 24s 78ms/step - loss: 0.4092 - accuracy: 0.8227 - val_loss: 0.4566 - val_accuracy: 0.7862\n",
      "Epoch 27/100\n",
      "313/313 [==============================] - 24s 78ms/step - loss: 0.4077 - accuracy: 0.8221 - val_loss: 0.4563 - val_accuracy: 0.7850\n",
      "Epoch 28/100\n",
      "313/313 [==============================] - 24s 78ms/step - loss: 0.4061 - accuracy: 0.8231 - val_loss: 0.4578 - val_accuracy: 0.7868\n",
      "Epoch 29/100\n",
      "313/313 [==============================] - 24s 78ms/step - loss: 0.4051 - accuracy: 0.8236 - val_loss: 0.4575 - val_accuracy: 0.7868\n",
      "Epoch 30/100\n",
      "313/313 [==============================] - 24s 78ms/step - loss: 0.4038 - accuracy: 0.8240 - val_loss: 0.4553 - val_accuracy: 0.7878\n",
      "Epoch 31/100\n",
      "313/313 [==============================] - 25s 79ms/step - loss: 0.4025 - accuracy: 0.8247 - val_loss: 0.4597 - val_accuracy: 0.7874\n",
      "Epoch 32/100\n",
      "313/313 [==============================] - 25s 78ms/step - loss: 0.4005 - accuracy: 0.8274 - val_loss: 0.4574 - val_accuracy: 0.7872\n",
      "Epoch 33/100\n",
      "313/313 [==============================] - 24s 78ms/step - loss: 0.3998 - accuracy: 0.8261 - val_loss: 0.4597 - val_accuracy: 0.7832\n"
     ]
    }
   ],
   "source": [
    "rmsprop = keras.optimizers.RMSprop(learning_rate=1e-4)\n",
    "model2.compile(optimizer=rmsprop, loss='binary_crossentropy', \n",
    "               metrics=['accuracy'])\n",
    "\n",
    "checkpoint_cb = keras.callbacks.ModelCheckpoint('best-embedding-model.h5', \n",
    "                                                save_best_only=True)\n",
    "early_stopping_cb = keras.callbacks.EarlyStopping(patience=3,\n",
    "                                                  restore_best_weights=True)\n",
    "\n",
    "history = model2.fit(train_seq, train_target, epochs=100, batch_size=64,\n",
    "                     validation_data=(val_seq, val_target),\n",
    "                     callbacks=[checkpoint_cb, early_stopping_cb])"
   ]
  },
  {
   "cell_type": "code",
   "execution_count": 28,
   "id": "3833d414",
   "metadata": {},
   "outputs": [
    {
     "data": {
      "image/png": "[encoded data removed]",
      "text/plain": [
       "<Figure size 432x288 with 1 Axes>"
      ]
     },
     "metadata": {
      "needs_background": "light"
     },
     "output_type": "display_data"
    }
   ],
   "source": [
    "plt.plot(history.history['loss'])\n",
    "plt.plot(history.history['val_loss'])\n",
    "plt.xlabel('epoch')\n",
    "plt.ylabel('loss')\n",
    "plt.legend(['train', 'val'])\n",
    "plt.show()"
   ]
  }
 ],
 "metadata": {
  "kernelspec": {
   "display_name": "Python 3 (ipykernel)",
   "language": "python",
   "name": "python3"
  },
  "language_info": {
   "codemirror_mode": {
    "name": "ipython",
    "version": 3
   },
   "file_extension": ".py",
   "mimetype": "text/x-python",
   "name": "python",
   "nbconvert_exporter": "python",
   "pygments_lexer": "ipython3",
   "version": "3.9.7"
  }
 },
 "nbformat": 4,
 "nbformat_minor": 5
}
