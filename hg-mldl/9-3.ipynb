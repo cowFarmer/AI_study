{
 "cells": [
  {
   "cell_type": "markdown",
   "id": "68394396",
   "metadata": {},
   "source": [
    "# LSTM과 GRU 셀"
   ]
  },
  {
   "cell_type": "markdown",
   "id": "3bc28802",
   "metadata": {},
   "source": [
    "### LSTM 신경망 훈련하기"
   ]
  },
  {
   "cell_type": "code",
   "execution_count": 1,
   "id": "f3a0a1a8",
   "metadata": {},
   "outputs": [],
   "source": [
    "from tensorflow.keras.datasets import imdb\n",
    "from sklearn.model_selection import train_test_split\n",
    "\n",
    "(train_input, train_target), (test_input, test_target) = imdb.load_data(\n",
    "    num_words=500)\n",
    "\n",
    "train_input, val_input, train_target, val_target = train_test_split(\n",
    "    train_input, train_target, test_size=0.2, random_state=42)"
   ]
  },
  {
   "cell_type": "code",
   "execution_count": 2,
   "id": "6f619411",
   "metadata": {},
   "outputs": [],
   "source": [
    "from tensorflow.keras.preprocessing.sequence import pad_sequences\n",
    "\n",
    "train_seq = pad_sequences(train_input, maxlen=100)\n",
    "val_seq = pad_sequences(val_input, maxlen=100)"
   ]
  },
  {
   "cell_type": "code",
   "execution_count": 3,
   "id": "888bf447",
   "metadata": {},
   "outputs": [
    {
     "name": "stdout",
     "output_type": "stream",
     "text": [
      "Model: \"sequential\"\n",
      "_________________________________________________________________\n",
      "Layer (type)                 Output Shape              Param #   \n",
      "=================================================================\n",
      "embedding (Embedding)        (None, 100, 16)           8000      \n",
      "_________________________________________________________________\n",
      "lstm (LSTM)                  (None, 8)                 800       \n",
      "_________________________________________________________________\n",
      "dense (Dense)                (None, 1)                 9         \n",
      "=================================================================\n",
      "Total params: 8,809\n",
      "Trainable params: 8,809\n",
      "Non-trainable params: 0\n",
      "_________________________________________________________________\n"
     ]
    }
   ],
   "source": [
    "from tensorflow import keras\n",
    "\n",
    "model = keras.Sequential()\n",
    "\n",
    "model.add(keras.layers.Embedding(500, 16, input_length=100))\n",
    "model.add(keras.layers.LSTM(8))\n",
    "model.add(keras.layers.Dense(1, activation='sigmoid'))\n",
    "\n",
    "model.summary()"
   ]
  },
  {
   "cell_type": "code",
   "execution_count": 4,
   "id": "8628e0b0",
   "metadata": {},
   "outputs": [
    {
     "name": "stdout",
     "output_type": "stream",
     "text": [
      "Epoch 1/100\n",
      "313/313 [==============================] - 15s 8ms/step - loss: 0.6926 - accuracy: 0.5289 - val_loss: 0.6915 - val_accuracy: 0.5748\n",
      "Epoch 2/100\n",
      "313/313 [==============================] - 2s 7ms/step - loss: 0.6890 - accuracy: 0.6084 - val_loss: 0.6846 - val_accuracy: 0.6410\n",
      "Epoch 3/100\n",
      "313/313 [==============================] - 2s 7ms/step - loss: 0.6679 - accuracy: 0.6579 - val_loss: 0.6365 - val_accuracy: 0.6896\n",
      "Epoch 4/100\n",
      "313/313 [==============================] - 2s 6ms/step - loss: 0.6092 - accuracy: 0.7217 - val_loss: 0.5872 - val_accuracy: 0.7412\n",
      "Epoch 5/100\n",
      "313/313 [==============================] - 2s 6ms/step - loss: 0.5754 - accuracy: 0.7466 - val_loss: 0.5700 - val_accuracy: 0.7400\n",
      "Epoch 6/100\n",
      "313/313 [==============================] - 2s 6ms/step - loss: 0.5524 - accuracy: 0.7609 - val_loss: 0.5497 - val_accuracy: 0.7490\n",
      "Epoch 7/100\n",
      "313/313 [==============================] - 2s 7ms/step - loss: 0.5305 - accuracy: 0.7688 - val_loss: 0.5311 - val_accuracy: 0.7548\n",
      "Epoch 8/100\n",
      "313/313 [==============================] - 2s 6ms/step - loss: 0.5103 - accuracy: 0.7765 - val_loss: 0.5113 - val_accuracy: 0.7668\n",
      "Epoch 9/100\n",
      "313/313 [==============================] - 2s 6ms/step - loss: 0.4919 - accuracy: 0.7827 - val_loss: 0.4956 - val_accuracy: 0.7700\n",
      "Epoch 10/100\n",
      "313/313 [==============================] - 2s 6ms/step - loss: 0.4780 - accuracy: 0.7893 - val_loss: 0.4869 - val_accuracy: 0.7760\n",
      "Epoch 11/100\n",
      "313/313 [==============================] - 2s 6ms/step - loss: 0.4673 - accuracy: 0.7927 - val_loss: 0.4773 - val_accuracy: 0.7810\n",
      "Epoch 12/100\n",
      "313/313 [==============================] - 2s 7ms/step - loss: 0.4597 - accuracy: 0.7941 - val_loss: 0.4698 - val_accuracy: 0.7884\n",
      "Epoch 13/100\n",
      "313/313 [==============================] - 2s 6ms/step - loss: 0.4530 - accuracy: 0.7994 - val_loss: 0.4663 - val_accuracy: 0.7862\n",
      "Epoch 14/100\n",
      "313/313 [==============================] - 2s 6ms/step - loss: 0.4481 - accuracy: 0.8004 - val_loss: 0.4624 - val_accuracy: 0.7888\n",
      "Epoch 15/100\n",
      "313/313 [==============================] - 2s 6ms/step - loss: 0.4435 - accuracy: 0.8023 - val_loss: 0.4584 - val_accuracy: 0.7918\n",
      "Epoch 16/100\n",
      "313/313 [==============================] - 2s 6ms/step - loss: 0.4404 - accuracy: 0.8031 - val_loss: 0.4582 - val_accuracy: 0.7902\n",
      "Epoch 17/100\n",
      "313/313 [==============================] - 2s 7ms/step - loss: 0.4372 - accuracy: 0.8047 - val_loss: 0.4545 - val_accuracy: 0.7904\n",
      "Epoch 18/100\n",
      "313/313 [==============================] - 2s 7ms/step - loss: 0.4342 - accuracy: 0.8056 - val_loss: 0.4525 - val_accuracy: 0.7928\n",
      "Epoch 19/100\n",
      "313/313 [==============================] - 2s 6ms/step - loss: 0.4312 - accuracy: 0.8088 - val_loss: 0.4528 - val_accuracy: 0.7924\n",
      "Epoch 20/100\n",
      "313/313 [==============================] - 2s 6ms/step - loss: 0.4297 - accuracy: 0.8082 - val_loss: 0.4486 - val_accuracy: 0.7910\n",
      "Epoch 21/100\n",
      "313/313 [==============================] - 2s 6ms/step - loss: 0.4276 - accuracy: 0.8083 - val_loss: 0.4493 - val_accuracy: 0.7968\n",
      "Epoch 22/100\n",
      "313/313 [==============================] - 2s 7ms/step - loss: 0.4261 - accuracy: 0.8087 - val_loss: 0.4471 - val_accuracy: 0.7932\n",
      "Epoch 23/100\n",
      "313/313 [==============================] - 2s 6ms/step - loss: 0.4243 - accuracy: 0.8087 - val_loss: 0.4449 - val_accuracy: 0.7934\n",
      "Epoch 24/100\n",
      "313/313 [==============================] - 2s 6ms/step - loss: 0.4226 - accuracy: 0.8112 - val_loss: 0.4441 - val_accuracy: 0.7944\n",
      "Epoch 25/100\n",
      "313/313 [==============================] - 2s 6ms/step - loss: 0.4216 - accuracy: 0.8112 - val_loss: 0.4436 - val_accuracy: 0.7922\n",
      "Epoch 26/100\n",
      "313/313 [==============================] - 2s 6ms/step - loss: 0.4199 - accuracy: 0.8118 - val_loss: 0.4430 - val_accuracy: 0.7942\n",
      "Epoch 27/100\n",
      "313/313 [==============================] - 2s 6ms/step - loss: 0.4192 - accuracy: 0.8112 - val_loss: 0.4437 - val_accuracy: 0.8004\n",
      "Epoch 28/100\n",
      "313/313 [==============================] - 2s 6ms/step - loss: 0.4180 - accuracy: 0.8127 - val_loss: 0.4395 - val_accuracy: 0.7992\n",
      "Epoch 29/100\n",
      "313/313 [==============================] - 2s 6ms/step - loss: 0.4172 - accuracy: 0.8115 - val_loss: 0.4405 - val_accuracy: 0.7996\n",
      "Epoch 30/100\n",
      "313/313 [==============================] - 2s 6ms/step - loss: 0.4162 - accuracy: 0.8116 - val_loss: 0.4393 - val_accuracy: 0.7992\n",
      "Epoch 31/100\n",
      "313/313 [==============================] - 2s 6ms/step - loss: 0.4151 - accuracy: 0.8127 - val_loss: 0.4372 - val_accuracy: 0.7988\n",
      "Epoch 32/100\n",
      "313/313 [==============================] - 2s 6ms/step - loss: 0.4140 - accuracy: 0.8137 - val_loss: 0.4378 - val_accuracy: 0.8006\n",
      "Epoch 33/100\n",
      "313/313 [==============================] - 2s 7ms/step - loss: 0.4130 - accuracy: 0.8153 - val_loss: 0.4419 - val_accuracy: 0.8000\n",
      "Epoch 34/100\n",
      "313/313 [==============================] - 2s 6ms/step - loss: 0.4128 - accuracy: 0.8125 - val_loss: 0.4350 - val_accuracy: 0.8006\n",
      "Epoch 35/100\n",
      "313/313 [==============================] - 2s 6ms/step - loss: 0.4117 - accuracy: 0.8135 - val_loss: 0.4342 - val_accuracy: 0.7996\n",
      "Epoch 36/100\n",
      "313/313 [==============================] - 2s 7ms/step - loss: 0.4110 - accuracy: 0.8141 - val_loss: 0.4344 - val_accuracy: 0.7974\n",
      "Epoch 37/100\n",
      "313/313 [==============================] - 2s 6ms/step - loss: 0.4101 - accuracy: 0.8141 - val_loss: 0.4351 - val_accuracy: 0.8012\n",
      "Epoch 38/100\n",
      "313/313 [==============================] - 2s 7ms/step - loss: 0.4092 - accuracy: 0.8158 - val_loss: 0.4337 - val_accuracy: 0.8010\n",
      "Epoch 39/100\n",
      "313/313 [==============================] - 2s 6ms/step - loss: 0.4086 - accuracy: 0.8157 - val_loss: 0.4359 - val_accuracy: 0.8056\n",
      "Epoch 40/100\n",
      "313/313 [==============================] - 2s 6ms/step - loss: 0.4081 - accuracy: 0.8166 - val_loss: 0.4324 - val_accuracy: 0.8012\n",
      "Epoch 41/100\n",
      "313/313 [==============================] - 2s 7ms/step - loss: 0.4072 - accuracy: 0.8169 - val_loss: 0.4380 - val_accuracy: 0.8050\n",
      "Epoch 42/100\n",
      "313/313 [==============================] - 2s 6ms/step - loss: 0.4063 - accuracy: 0.8170 - val_loss: 0.4323 - val_accuracy: 0.8002\n",
      "Epoch 43/100\n",
      "313/313 [==============================] - 2s 7ms/step - loss: 0.4052 - accuracy: 0.8176 - val_loss: 0.4351 - val_accuracy: 0.7978\n",
      "Epoch 44/100\n",
      "313/313 [==============================] - 2s 6ms/step - loss: 0.4049 - accuracy: 0.8158 - val_loss: 0.4301 - val_accuracy: 0.8026\n",
      "Epoch 45/100\n",
      "313/313 [==============================] - 2s 7ms/step - loss: 0.4042 - accuracy: 0.8176 - val_loss: 0.4307 - val_accuracy: 0.7998\n",
      "Epoch 46/100\n",
      "313/313 [==============================] - 2s 6ms/step - loss: 0.4037 - accuracy: 0.8187 - val_loss: 0.4311 - val_accuracy: 0.8054\n",
      "Epoch 47/100\n",
      "313/313 [==============================] - 2s 6ms/step - loss: 0.4031 - accuracy: 0.8172 - val_loss: 0.4313 - val_accuracy: 0.7974\n"
     ]
    }
   ],
   "source": [
    "rmsprop = keras.optimizers.RMSprop(learning_rate=1e-4)\n",
    "model.compile(optimizer=rmsprop, loss='binary_crossentropy', \n",
    "              metrics=['accuracy'])\n",
    "\n",
    "checkpoint_cb = keras.callbacks.ModelCheckpoint('best-lstm-model.h5', \n",
    "                                                save_best_only=True)\n",
    "early_stopping_cb = keras.callbacks.EarlyStopping(patience=3,\n",
    "                                                  restore_best_weights=True)\n",
    "\n",
    "history = model.fit(train_seq, train_target, epochs=100, batch_size=64,\n",
    "                    validation_data=(val_seq, val_target),\n",
    "                    callbacks=[checkpoint_cb, early_stopping_cb])"
   ]
  },
  {
   "cell_type": "code",
   "execution_count": 5,
   "id": "c3de464e",
   "metadata": {},
   "outputs": [
    {
     "data": {
      "image/png": "[encoded data removed]",
      "text/plain": [
       "<Figure size 432x288 with 1 Axes>"
      ]
     },
     "metadata": {
      "needs_background": "light"
     },
     "output_type": "display_data"
    }
   ],
   "source": [
    "import matplotlib.pyplot as plt\n",
    "\n",
    "plt.plot(history.history['loss'])\n",
    "plt.plot(history.history['val_loss'])\n",
    "plt.xlabel('epoch')\n",
    "plt.ylabel('loss')\n",
    "plt.legend(['train', 'val'])\n",
    "plt.show()"
   ]
  },
  {
   "cell_type": "markdown",
   "id": "dade076b",
   "metadata": {},
   "source": [
    "### 순환층에 dropout 적용하기"
   ]
  },
  {
   "cell_type": "code",
   "execution_count": 6,
   "id": "2c987819",
   "metadata": {},
   "outputs": [],
   "source": [
    "model2 = keras.Sequential()\n",
    "\n",
    "model2.add(keras.layers.Embedding(500, 16, input_length=100))\n",
    "model2.add(keras.layers.LSTM(8, dropout=0.3))\n",
    "model2.add(keras.layers.Dense(1, activation='sigmoid'))"
   ]
  },
  {
   "cell_type": "code",
   "execution_count": 7,
   "id": "880edd35",
   "metadata": {},
   "outputs": [
    {
     "name": "stdout",
     "output_type": "stream",
     "text": [
      "Epoch 1/100\n",
      "313/313 [==============================] - 4s 8ms/step - loss: 0.6926 - accuracy: 0.5255 - val_loss: 0.6916 - val_accuracy: 0.5866\n",
      "Epoch 2/100\n",
      "313/313 [==============================] - 2s 7ms/step - loss: 0.6900 - accuracy: 0.6014 - val_loss: 0.6876 - val_accuracy: 0.6514\n",
      "Epoch 3/100\n",
      "313/313 [==============================] - 2s 7ms/step - loss: 0.6823 - accuracy: 0.6330 - val_loss: 0.6726 - val_accuracy: 0.6674\n",
      "Epoch 4/100\n",
      "313/313 [==============================] - 2s 7ms/step - loss: 0.6471 - accuracy: 0.6831 - val_loss: 0.6151 - val_accuracy: 0.7278\n",
      "Epoch 5/100\n",
      "313/313 [==============================] - 2s 6ms/step - loss: 0.6061 - accuracy: 0.7229 - val_loss: 0.5907 - val_accuracy: 0.7362\n",
      "Epoch 6/100\n",
      "313/313 [==============================] - 2s 7ms/step - loss: 0.5866 - accuracy: 0.7371 - val_loss: 0.5733 - val_accuracy: 0.7498\n",
      "Epoch 7/100\n",
      "313/313 [==============================] - 2s 7ms/step - loss: 0.5685 - accuracy: 0.7469 - val_loss: 0.5581 - val_accuracy: 0.7550\n",
      "Epoch 8/100\n",
      "313/313 [==============================] - 2s 6ms/step - loss: 0.5513 - accuracy: 0.7559 - val_loss: 0.5471 - val_accuracy: 0.7506\n",
      "Epoch 9/100\n",
      "313/313 [==============================] - 2s 6ms/step - loss: 0.5353 - accuracy: 0.7631 - val_loss: 0.5316 - val_accuracy: 0.7562\n",
      "Epoch 10/100\n",
      "313/313 [==============================] - 2s 6ms/step - loss: 0.5186 - accuracy: 0.7717 - val_loss: 0.5112 - val_accuracy: 0.7720\n",
      "Epoch 11/100\n",
      "313/313 [==============================] - 2s 7ms/step - loss: 0.5026 - accuracy: 0.7774 - val_loss: 0.4979 - val_accuracy: 0.7728\n",
      "Epoch 12/100\n",
      "313/313 [==============================] - 2s 7ms/step - loss: 0.4892 - accuracy: 0.7832 - val_loss: 0.4847 - val_accuracy: 0.7820\n",
      "Epoch 13/100\n",
      "313/313 [==============================] - 2s 7ms/step - loss: 0.4771 - accuracy: 0.7884 - val_loss: 0.4764 - val_accuracy: 0.7830\n",
      "Epoch 14/100\n",
      "313/313 [==============================] - 2s 7ms/step - loss: 0.4671 - accuracy: 0.7923 - val_loss: 0.4675 - val_accuracy: 0.7894\n",
      "Epoch 15/100\n",
      "313/313 [==============================] - 2s 7ms/step - loss: 0.4601 - accuracy: 0.7942 - val_loss: 0.4637 - val_accuracy: 0.7870\n",
      "Epoch 16/100\n",
      "313/313 [==============================] - 2s 6ms/step - loss: 0.4541 - accuracy: 0.7959 - val_loss: 0.4564 - val_accuracy: 0.7916\n",
      "Epoch 17/100\n",
      "313/313 [==============================] - 2s 7ms/step - loss: 0.4491 - accuracy: 0.7973 - val_loss: 0.4546 - val_accuracy: 0.7932\n",
      "Epoch 18/100\n",
      "313/313 [==============================] - 2s 7ms/step - loss: 0.4453 - accuracy: 0.7975 - val_loss: 0.4509 - val_accuracy: 0.7960\n",
      "Epoch 19/100\n",
      "313/313 [==============================] - 2s 6ms/step - loss: 0.4425 - accuracy: 0.7998 - val_loss: 0.4485 - val_accuracy: 0.7944\n",
      "Epoch 20/100\n",
      "313/313 [==============================] - 2s 6ms/step - loss: 0.4385 - accuracy: 0.8033 - val_loss: 0.4463 - val_accuracy: 0.7936\n",
      "Epoch 21/100\n",
      "313/313 [==============================] - 2s 6ms/step - loss: 0.4368 - accuracy: 0.8026 - val_loss: 0.4453 - val_accuracy: 0.7958\n",
      "Epoch 22/100\n",
      "313/313 [==============================] - 2s 7ms/step - loss: 0.4345 - accuracy: 0.8028 - val_loss: 0.4435 - val_accuracy: 0.7960\n",
      "Epoch 23/100\n",
      "313/313 [==============================] - 2s 6ms/step - loss: 0.4322 - accuracy: 0.8038 - val_loss: 0.4426 - val_accuracy: 0.7950\n",
      "Epoch 24/100\n",
      "313/313 [==============================] - 2s 7ms/step - loss: 0.4311 - accuracy: 0.8038 - val_loss: 0.4397 - val_accuracy: 0.7978\n",
      "Epoch 25/100\n",
      "313/313 [==============================] - 2s 6ms/step - loss: 0.4293 - accuracy: 0.8064 - val_loss: 0.4416 - val_accuracy: 0.7972\n",
      "Epoch 26/100\n",
      "313/313 [==============================] - 2s 7ms/step - loss: 0.4284 - accuracy: 0.8040 - val_loss: 0.4383 - val_accuracy: 0.7968\n",
      "Epoch 27/100\n",
      "313/313 [==============================] - 2s 7ms/step - loss: 0.4245 - accuracy: 0.8084 - val_loss: 0.4387 - val_accuracy: 0.7996\n",
      "Epoch 28/100\n",
      "313/313 [==============================] - 2s 6ms/step - loss: 0.4241 - accuracy: 0.8067 - val_loss: 0.4360 - val_accuracy: 0.8014\n",
      "Epoch 29/100\n",
      "313/313 [==============================] - 2s 7ms/step - loss: 0.4231 - accuracy: 0.8080 - val_loss: 0.4355 - val_accuracy: 0.7988\n",
      "Epoch 30/100\n",
      "313/313 [==============================] - 2s 7ms/step - loss: 0.4233 - accuracy: 0.8068 - val_loss: 0.4345 - val_accuracy: 0.7998\n",
      "Epoch 31/100\n",
      "313/313 [==============================] - 2s 6ms/step - loss: 0.4202 - accuracy: 0.8087 - val_loss: 0.4340 - val_accuracy: 0.8016\n",
      "Epoch 32/100\n",
      "313/313 [==============================] - 2s 7ms/step - loss: 0.4201 - accuracy: 0.8080 - val_loss: 0.4331 - val_accuracy: 0.7994\n",
      "Epoch 33/100\n",
      "313/313 [==============================] - 2s 6ms/step - loss: 0.4211 - accuracy: 0.8075 - val_loss: 0.4324 - val_accuracy: 0.8032\n",
      "Epoch 34/100\n",
      "313/313 [==============================] - 2s 7ms/step - loss: 0.4180 - accuracy: 0.8106 - val_loss: 0.4314 - val_accuracy: 0.7998\n",
      "Epoch 35/100\n",
      "313/313 [==============================] - 2s 7ms/step - loss: 0.4178 - accuracy: 0.8096 - val_loss: 0.4311 - val_accuracy: 0.8024\n",
      "Epoch 36/100\n",
      "313/313 [==============================] - 2s 7ms/step - loss: 0.4165 - accuracy: 0.8112 - val_loss: 0.4310 - val_accuracy: 0.8014\n",
      "Epoch 37/100\n",
      "313/313 [==============================] - 2s 7ms/step - loss: 0.4170 - accuracy: 0.8107 - val_loss: 0.4320 - val_accuracy: 0.8044\n",
      "Epoch 38/100\n",
      "313/313 [==============================] - 2s 6ms/step - loss: 0.4155 - accuracy: 0.8120 - val_loss: 0.4302 - val_accuracy: 0.7994\n",
      "Epoch 39/100\n",
      "313/313 [==============================] - 2s 7ms/step - loss: 0.4161 - accuracy: 0.8075 - val_loss: 0.4309 - val_accuracy: 0.7974\n",
      "Epoch 40/100\n",
      "313/313 [==============================] - 2s 6ms/step - loss: 0.4140 - accuracy: 0.8116 - val_loss: 0.4308 - val_accuracy: 0.8064\n",
      "Epoch 41/100\n",
      "313/313 [==============================] - 2s 6ms/step - loss: 0.4139 - accuracy: 0.8084 - val_loss: 0.4296 - val_accuracy: 0.8008\n",
      "Epoch 42/100\n",
      "313/313 [==============================] - 2s 6ms/step - loss: 0.4120 - accuracy: 0.8088 - val_loss: 0.4289 - val_accuracy: 0.8016\n",
      "Epoch 43/100\n",
      "313/313 [==============================] - 2s 7ms/step - loss: 0.4122 - accuracy: 0.8118 - val_loss: 0.4280 - val_accuracy: 0.8034\n",
      "Epoch 44/100\n",
      "313/313 [==============================] - 2s 7ms/step - loss: 0.4114 - accuracy: 0.8109 - val_loss: 0.4273 - val_accuracy: 0.8038\n",
      "Epoch 45/100\n",
      "313/313 [==============================] - 2s 7ms/step - loss: 0.4123 - accuracy: 0.8109 - val_loss: 0.4273 - val_accuracy: 0.8060\n",
      "Epoch 46/100\n",
      "313/313 [==============================] - 2s 7ms/step - loss: 0.4104 - accuracy: 0.8124 - val_loss: 0.4284 - val_accuracy: 0.8044\n",
      "Epoch 47/100\n",
      "313/313 [==============================] - 2s 7ms/step - loss: 0.4108 - accuracy: 0.8126 - val_loss: 0.4275 - val_accuracy: 0.8048\n",
      "Epoch 48/100\n",
      "313/313 [==============================] - 2s 7ms/step - loss: 0.4104 - accuracy: 0.8128 - val_loss: 0.4262 - val_accuracy: 0.8058\n",
      "Epoch 49/100\n",
      "313/313 [==============================] - 2s 7ms/step - loss: 0.4090 - accuracy: 0.8152 - val_loss: 0.4267 - val_accuracy: 0.8038\n",
      "Epoch 50/100\n",
      "313/313 [==============================] - 2s 7ms/step - loss: 0.4075 - accuracy: 0.8146 - val_loss: 0.4267 - val_accuracy: 0.8022\n",
      "Epoch 51/100\n",
      "313/313 [==============================] - 2s 7ms/step - loss: 0.4099 - accuracy: 0.8123 - val_loss: 0.4285 - val_accuracy: 0.7966\n"
     ]
    }
   ],
   "source": [
    "rmsprop = keras.optimizers.RMSprop(learning_rate=1e-4)\n",
    "model2.compile(optimizer=rmsprop, loss='binary_crossentropy', \n",
    "               metrics=['accuracy'])\n",
    "\n",
    "checkpoint_cb = keras.callbacks.ModelCheckpoint('best-dropout-model.h5', \n",
    "                                                save_best_only=True)\n",
    "early_stopping_cb = keras.callbacks.EarlyStopping(patience=3,\n",
    "                                                  restore_best_weights=True)\n",
    "\n",
    "history = model2.fit(train_seq, train_target, epochs=100, batch_size=64,\n",
    "                     validation_data=(val_seq, val_target),\n",
    "                     callbacks=[checkpoint_cb, early_stopping_cb])"
   ]
  },
  {
   "cell_type": "markdown",
   "id": "a42b2553",
   "metadata": {},
   "source": [
    "### 층 2개 연결하기"
   ]
  },
  {
   "cell_type": "code",
   "execution_count": 8,
   "id": "e3923ea9",
   "metadata": {},
   "outputs": [
    {
     "name": "stdout",
     "output_type": "stream",
     "text": [
      "Model: \"sequential_2\"\n",
      "_________________________________________________________________\n",
      "Layer (type)                 Output Shape              Param #   \n",
      "=================================================================\n",
      "embedding_2 (Embedding)      (None, 100, 16)           8000      \n",
      "_________________________________________________________________\n",
      "lstm_2 (LSTM)                (None, 100, 8)            800       \n",
      "_________________________________________________________________\n",
      "lstm_3 (LSTM)                (None, 8)                 544       \n",
      "_________________________________________________________________\n",
      "dense_2 (Dense)              (None, 1)                 9         \n",
      "=================================================================\n",
      "Total params: 9,353\n",
      "Trainable params: 9,353\n",
      "Non-trainable params: 0\n",
      "_________________________________________________________________\n"
     ]
    }
   ],
   "source": [
    "model3 = keras.Sequential()\n",
    "\n",
    "model3.add(keras.layers.Embedding(500, 16, input_length=100))\n",
    "model3.add(keras.layers.LSTM(8, dropout=0.3, return_sequences=True))\n",
    "model3.add(keras.layers.LSTM(8, dropout=0.3))\n",
    "model3.add(keras.layers.Dense(1, activation='sigmoid'))\n",
    "\n",
    "model3.summary()"
   ]
  },
  {
   "cell_type": "code",
   "execution_count": 9,
   "id": "70a1230f",
   "metadata": {},
   "outputs": [
    {
     "name": "stdout",
     "output_type": "stream",
     "text": [
      "Epoch 1/100\n",
      "313/313 [==============================] - 6s 12ms/step - loss: 0.6928 - accuracy: 0.5177 - val_loss: 0.6925 - val_accuracy: 0.5042\n",
      "Epoch 2/100\n",
      "313/313 [==============================] - 3s 10ms/step - loss: 0.6913 - accuracy: 0.5806 - val_loss: 0.6898 - val_accuracy: 0.5422\n",
      "Epoch 3/100\n",
      "313/313 [==============================] - 3s 10ms/step - loss: 0.6829 - accuracy: 0.5860 - val_loss: 0.6723 - val_accuracy: 0.5432\n",
      "Epoch 4/100\n",
      "313/313 [==============================] - 3s 10ms/step - loss: 0.6388 - accuracy: 0.6590 - val_loss: 0.6077 - val_accuracy: 0.7090\n",
      "Epoch 5/100\n",
      "313/313 [==============================] - 3s 10ms/step - loss: 0.5846 - accuracy: 0.7254 - val_loss: 0.5662 - val_accuracy: 0.7376\n",
      "Epoch 6/100\n",
      "313/313 [==============================] - 3s 10ms/step - loss: 0.5564 - accuracy: 0.7351 - val_loss: 0.5427 - val_accuracy: 0.7414\n",
      "Epoch 7/100\n",
      "313/313 [==============================] - 3s 10ms/step - loss: 0.5379 - accuracy: 0.7458 - val_loss: 0.5287 - val_accuracy: 0.7528\n",
      "Epoch 8/100\n",
      "313/313 [==============================] - 3s 10ms/step - loss: 0.5231 - accuracy: 0.7512 - val_loss: 0.5156 - val_accuracy: 0.7582\n",
      "Epoch 9/100\n",
      "313/313 [==============================] - 3s 10ms/step - loss: 0.5124 - accuracy: 0.7606 - val_loss: 0.5042 - val_accuracy: 0.7626\n",
      "Epoch 10/100\n",
      "313/313 [==============================] - 3s 10ms/step - loss: 0.5064 - accuracy: 0.7621 - val_loss: 0.4960 - val_accuracy: 0.7728\n",
      "Epoch 11/100\n",
      "313/313 [==============================] - 3s 10ms/step - loss: 0.4953 - accuracy: 0.7699 - val_loss: 0.4881 - val_accuracy: 0.7742\n",
      "Epoch 12/100\n",
      "313/313 [==============================] - 3s 10ms/step - loss: 0.4864 - accuracy: 0.7778 - val_loss: 0.4848 - val_accuracy: 0.7776\n",
      "Epoch 13/100\n",
      "313/313 [==============================] - 3s 10ms/step - loss: 0.4839 - accuracy: 0.7760 - val_loss: 0.4806 - val_accuracy: 0.7728\n",
      "Epoch 14/100\n",
      "313/313 [==============================] - 3s 10ms/step - loss: 0.4771 - accuracy: 0.7805 - val_loss: 0.4744 - val_accuracy: 0.7814\n",
      "Epoch 15/100\n",
      "313/313 [==============================] - 3s 10ms/step - loss: 0.4707 - accuracy: 0.7829 - val_loss: 0.4690 - val_accuracy: 0.7814\n",
      "Epoch 16/100\n",
      "313/313 [==============================] - 3s 10ms/step - loss: 0.4681 - accuracy: 0.7824 - val_loss: 0.4690 - val_accuracy: 0.7850\n",
      "Epoch 17/100\n",
      "313/313 [==============================] - 3s 10ms/step - loss: 0.4629 - accuracy: 0.7866 - val_loss: 0.4631 - val_accuracy: 0.7862\n",
      "Epoch 18/100\n",
      "313/313 [==============================] - 3s 10ms/step - loss: 0.4593 - accuracy: 0.7897 - val_loss: 0.4601 - val_accuracy: 0.7854\n",
      "Epoch 19/100\n",
      "313/313 [==============================] - 3s 10ms/step - loss: 0.4547 - accuracy: 0.7921 - val_loss: 0.4615 - val_accuracy: 0.7812\n",
      "Epoch 20/100\n",
      "313/313 [==============================] - 3s 10ms/step - loss: 0.4524 - accuracy: 0.7929 - val_loss: 0.4573 - val_accuracy: 0.7906\n",
      "Epoch 21/100\n",
      "313/313 [==============================] - 3s 10ms/step - loss: 0.4480 - accuracy: 0.7944 - val_loss: 0.4563 - val_accuracy: 0.7856\n",
      "Epoch 22/100\n",
      "313/313 [==============================] - 3s 10ms/step - loss: 0.4481 - accuracy: 0.7962 - val_loss: 0.4553 - val_accuracy: 0.7898\n",
      "Epoch 23/100\n",
      "313/313 [==============================] - 3s 10ms/step - loss: 0.4461 - accuracy: 0.7954 - val_loss: 0.4541 - val_accuracy: 0.7916\n",
      "Epoch 24/100\n",
      "313/313 [==============================] - 3s 10ms/step - loss: 0.4441 - accuracy: 0.7953 - val_loss: 0.4487 - val_accuracy: 0.7914\n",
      "Epoch 25/100\n",
      "313/313 [==============================] - 3s 10ms/step - loss: 0.4432 - accuracy: 0.7955 - val_loss: 0.4514 - val_accuracy: 0.7936\n",
      "Epoch 26/100\n",
      "313/313 [==============================] - 3s 10ms/step - loss: 0.4394 - accuracy: 0.7997 - val_loss: 0.4460 - val_accuracy: 0.7922\n",
      "Epoch 27/100\n",
      "313/313 [==============================] - 3s 10ms/step - loss: 0.4393 - accuracy: 0.7987 - val_loss: 0.4460 - val_accuracy: 0.7922\n",
      "Epoch 28/100\n",
      "313/313 [==============================] - 3s 10ms/step - loss: 0.4342 - accuracy: 0.8005 - val_loss: 0.4441 - val_accuracy: 0.7944\n",
      "Epoch 29/100\n",
      "313/313 [==============================] - 3s 10ms/step - loss: 0.4341 - accuracy: 0.8006 - val_loss: 0.4429 - val_accuracy: 0.7988\n",
      "Epoch 30/100\n",
      "313/313 [==============================] - 3s 10ms/step - loss: 0.4356 - accuracy: 0.8016 - val_loss: 0.4419 - val_accuracy: 0.7980\n",
      "Epoch 31/100\n",
      "313/313 [==============================] - 3s 10ms/step - loss: 0.4334 - accuracy: 0.8029 - val_loss: 0.4428 - val_accuracy: 0.7942\n",
      "Epoch 32/100\n",
      "313/313 [==============================] - 3s 10ms/step - loss: 0.4331 - accuracy: 0.8022 - val_loss: 0.4455 - val_accuracy: 0.7976\n",
      "Epoch 33/100\n",
      "313/313 [==============================] - 3s 10ms/step - loss: 0.4308 - accuracy: 0.8035 - val_loss: 0.4401 - val_accuracy: 0.7982\n",
      "Epoch 34/100\n",
      "313/313 [==============================] - 3s 10ms/step - loss: 0.4291 - accuracy: 0.8034 - val_loss: 0.4402 - val_accuracy: 0.7976\n",
      "Epoch 35/100\n",
      "313/313 [==============================] - 3s 10ms/step - loss: 0.4305 - accuracy: 0.8019 - val_loss: 0.4398 - val_accuracy: 0.7978\n",
      "Epoch 36/100\n",
      "313/313 [==============================] - 3s 10ms/step - loss: 0.4291 - accuracy: 0.8033 - val_loss: 0.4398 - val_accuracy: 0.7962\n",
      "Epoch 37/100\n",
      "313/313 [==============================] - 3s 10ms/step - loss: 0.4275 - accuracy: 0.8047 - val_loss: 0.4502 - val_accuracy: 0.7866\n",
      "Epoch 38/100\n",
      "313/313 [==============================] - 3s 10ms/step - loss: 0.4291 - accuracy: 0.8031 - val_loss: 0.4378 - val_accuracy: 0.7988\n",
      "Epoch 39/100\n",
      "313/313 [==============================] - 3s 10ms/step - loss: 0.4267 - accuracy: 0.8059 - val_loss: 0.4373 - val_accuracy: 0.7990\n",
      "Epoch 40/100\n",
      "313/313 [==============================] - 3s 10ms/step - loss: 0.4251 - accuracy: 0.8037 - val_loss: 0.4368 - val_accuracy: 0.8002\n",
      "Epoch 41/100\n",
      "313/313 [==============================] - 3s 10ms/step - loss: 0.4239 - accuracy: 0.8062 - val_loss: 0.4380 - val_accuracy: 0.8012\n",
      "Epoch 42/100\n",
      "313/313 [==============================] - 3s 10ms/step - loss: 0.4242 - accuracy: 0.8041 - val_loss: 0.4373 - val_accuracy: 0.8020\n",
      "Epoch 43/100\n",
      "313/313 [==============================] - 3s 10ms/step - loss: 0.4236 - accuracy: 0.8062 - val_loss: 0.4372 - val_accuracy: 0.8000\n"
     ]
    }
   ],
   "source": [
    "rmsprop = keras.optimizers.RMSprop(learning_rate=1e-4)\n",
    "model3.compile(optimizer=rmsprop, loss='binary_crossentropy', \n",
    "               metrics=['accuracy'])\n",
    "\n",
    "checkpoint_cb = keras.callbacks.ModelCheckpoint('best-2rnn-model.h5', \n",
    "                                                save_best_only=True)\n",
    "early_stopping_cb = keras.callbacks.EarlyStopping(patience=3,\n",
    "                                                  restore_best_weights=True)\n",
    "\n",
    "history = model3.fit(train_seq, train_target, epochs=100, batch_size=64,\n",
    "                     validation_data=(val_seq, val_target),\n",
    "                     callbacks=[checkpoint_cb, early_stopping_cb])"
   ]
  },
  {
   "cell_type": "code",
   "execution_count": 10,
   "id": "7203a38e",
   "metadata": {},
   "outputs": [
    {
     "data": {
      "image/png": "[encoded data removed]",
      "text/plain": [
       "<Figure size 432x288 with 1 Axes>"
      ]
     },
     "metadata": {
      "needs_background": "light"
     },
     "output_type": "display_data"
    }
   ],
   "source": [
    "plt.plot(history.history['loss'])\n",
    "plt.plot(history.history['val_loss'])\n",
    "plt.xlabel('epoch')\n",
    "plt.ylabel('loss')\n",
    "plt.legend(['train', 'val'])\n",
    "plt.show()"
   ]
  },
  {
   "cell_type": "markdown",
   "id": "4cdd3b22",
   "metadata": {},
   "source": [
    "### GRU 신경망 훈련하기"
   ]
  },
  {
   "cell_type": "code",
   "execution_count": 11,
   "id": "9e552ad3",
   "metadata": {},
   "outputs": [
    {
     "name": "stdout",
     "output_type": "stream",
     "text": [
      "Model: \"sequential_3\"\n",
      "_________________________________________________________________\n",
      "Layer (type)                 Output Shape              Param #   \n",
      "=================================================================\n",
      "embedding_3 (Embedding)      (None, 100, 16)           8000      \n",
      "_________________________________________________________________\n",
      "gru (GRU)                    (None, 8)                 624       \n",
      "_________________________________________________________________\n",
      "dense_3 (Dense)              (None, 1)                 9         \n",
      "=================================================================\n",
      "Total params: 8,633\n",
      "Trainable params: 8,633\n",
      "Non-trainable params: 0\n",
      "_________________________________________________________________\n"
     ]
    }
   ],
   "source": [
    "model4 = keras.Sequential()\n",
    "\n",
    "model4.add(keras.layers.Embedding(500, 16, input_length=100))\n",
    "model4.add(keras.layers.GRU(8))\n",
    "model4.add(keras.layers.Dense(1, activation='sigmoid'))\n",
    "\n",
    "model4.summary()"
   ]
  },
  {
   "cell_type": "code",
   "execution_count": 12,
   "id": "25b682cf",
   "metadata": {},
   "outputs": [
    {
     "name": "stdout",
     "output_type": "stream",
     "text": [
      "Epoch 1/100\n",
      "313/313 [==============================] - 4s 7ms/step - loss: 0.6922 - accuracy: 0.5286 - val_loss: 0.6913 - val_accuracy: 0.5298\n",
      "Epoch 2/100\n",
      "313/313 [==============================] - 2s 6ms/step - loss: 0.6893 - accuracy: 0.5732 - val_loss: 0.6879 - val_accuracy: 0.5682\n",
      "Epoch 3/100\n",
      "313/313 [==============================] - 2s 7ms/step - loss: 0.6842 - accuracy: 0.6033 - val_loss: 0.6819 - val_accuracy: 0.6038\n",
      "Epoch 4/100\n",
      "313/313 [==============================] - 2s 6ms/step - loss: 0.6756 - accuracy: 0.6242 - val_loss: 0.6718 - val_accuracy: 0.6232\n",
      "Epoch 5/100\n",
      "313/313 [==============================] - 2s 6ms/step - loss: 0.6611 - accuracy: 0.6449 - val_loss: 0.6544 - val_accuracy: 0.6406\n",
      "Epoch 6/100\n",
      "313/313 [==============================] - 2s 6ms/step - loss: 0.6365 - accuracy: 0.6653 - val_loss: 0.6249 - val_accuracy: 0.6752\n",
      "Epoch 7/100\n",
      "313/313 [==============================] - 2s 6ms/step - loss: 0.5922 - accuracy: 0.6974 - val_loss: 0.5672 - val_accuracy: 0.7166\n",
      "Epoch 8/100\n",
      "313/313 [==============================] - 2s 7ms/step - loss: 0.5207 - accuracy: 0.7462 - val_loss: 0.5086 - val_accuracy: 0.7508\n",
      "Epoch 9/100\n",
      "313/313 [==============================] - 2s 6ms/step - loss: 0.4880 - accuracy: 0.7643 - val_loss: 0.4907 - val_accuracy: 0.7644\n",
      "Epoch 10/100\n",
      "313/313 [==============================] - 2s 7ms/step - loss: 0.4721 - accuracy: 0.7777 - val_loss: 0.4775 - val_accuracy: 0.7712\n",
      "Epoch 11/100\n",
      "313/313 [==============================] - 2s 6ms/step - loss: 0.4602 - accuracy: 0.7862 - val_loss: 0.4683 - val_accuracy: 0.7762\n",
      "Epoch 12/100\n",
      "313/313 [==============================] - 2s 6ms/step - loss: 0.4512 - accuracy: 0.7947 - val_loss: 0.4651 - val_accuracy: 0.7808\n",
      "Epoch 13/100\n",
      "313/313 [==============================] - 2s 7ms/step - loss: 0.4443 - accuracy: 0.7974 - val_loss: 0.4568 - val_accuracy: 0.7842\n",
      "Epoch 14/100\n",
      "313/313 [==============================] - 2s 6ms/step - loss: 0.4393 - accuracy: 0.8024 - val_loss: 0.4532 - val_accuracy: 0.7862\n",
      "Epoch 15/100\n",
      "313/313 [==============================] - 2s 6ms/step - loss: 0.4351 - accuracy: 0.8048 - val_loss: 0.4528 - val_accuracy: 0.7866\n",
      "Epoch 16/100\n",
      "313/313 [==============================] - 2s 6ms/step - loss: 0.4319 - accuracy: 0.8068 - val_loss: 0.4492 - val_accuracy: 0.7938\n",
      "Epoch 17/100\n",
      "313/313 [==============================] - 2s 6ms/step - loss: 0.4286 - accuracy: 0.8077 - val_loss: 0.4499 - val_accuracy: 0.7938\n",
      "Epoch 18/100\n",
      "313/313 [==============================] - 2s 6ms/step - loss: 0.4266 - accuracy: 0.8096 - val_loss: 0.4469 - val_accuracy: 0.7922\n",
      "Epoch 19/100\n",
      "313/313 [==============================] - 2s 6ms/step - loss: 0.4248 - accuracy: 0.8095 - val_loss: 0.4450 - val_accuracy: 0.7932\n",
      "Epoch 20/100\n",
      "313/313 [==============================] - 2s 6ms/step - loss: 0.4233 - accuracy: 0.8113 - val_loss: 0.4464 - val_accuracy: 0.7944\n",
      "Epoch 21/100\n",
      "313/313 [==============================] - 2s 6ms/step - loss: 0.4217 - accuracy: 0.8114 - val_loss: 0.4451 - val_accuracy: 0.7964\n",
      "Epoch 22/100\n",
      "313/313 [==============================] - 2s 6ms/step - loss: 0.4202 - accuracy: 0.8136 - val_loss: 0.4486 - val_accuracy: 0.7880\n"
     ]
    }
   ],
   "source": [
    "rmsprop = keras.optimizers.RMSprop(learning_rate=1e-4)\n",
    "model4.compile(optimizer=rmsprop, loss='binary_crossentropy', \n",
    "               metrics=['accuracy'])\n",
    "\n",
    "checkpoint_cb = keras.callbacks.ModelCheckpoint('best-gru-model.h5', \n",
    "                                                save_best_only=True)\n",
    "early_stopping_cb = keras.callbacks.EarlyStopping(patience=3,\n",
    "                                                  restore_best_weights=True)\n",
    "\n",
    "history = model4.fit(train_seq, train_target, epochs=100, batch_size=64,\n",
    "                     validation_data=(val_seq, val_target),\n",
    "                     callbacks=[checkpoint_cb, early_stopping_cb])\n"
   ]
  },
  {
   "cell_type": "code",
   "execution_count": 13,
   "id": "5a7e6660",
   "metadata": {},
   "outputs": [
    {
     "data": {
      "image/png": "[encoded data removed]",
      "text/plain": [
       "<Figure size 432x288 with 1 Axes>"
      ]
     },
     "metadata": {
      "needs_background": "light"
     },
     "output_type": "display_data"
    }
   ],
   "source": [
    "plt.plot(history.history['loss'])\n",
    "plt.plot(history.history['val_loss'])\n",
    "plt.xlabel('epoch')\n",
    "plt.ylabel('loss')\n",
    "plt.legend(['train', 'val'])\n",
    "plt.show()"
   ]
  },
  {
   "cell_type": "code",
   "execution_count": 14,
   "id": "7150924e",
   "metadata": {},
   "outputs": [
    {
     "name": "stdout",
     "output_type": "stream",
     "text": [
      "782/782 [==============================] - 4s 4ms/step - loss: 0.4315 - accuracy: 0.7990\n"
     ]
    },
    {
     "data": {
      "text/plain": [
       "[0.4315047264099121, 0.7990400195121765]"
      ]
     },
     "execution_count": 14,
     "metadata": {},
     "output_type": "execute_result"
    }
   ],
   "source": [
    "test_seq = pad_sequences(test_input, maxlen=100)\n",
    "\n",
    "rnn_model = keras.models.load_model('best-2rnn-model.h5')\n",
    "\n",
    "rnn_model.evaluate(test_seq, test_target)"
   ]
  }
 ],
 "metadata": {
  "kernelspec": {
   "display_name": "Python 3 (ipykernel)",
   "language": "python",
   "name": "python3"
  },
  "language_info": {
   "codemirror_mode": {
    "name": "ipython",
    "version": 3
   },
   "file_extension": ".py",
   "mimetype": "text/x-python",
   "name": "python",
   "nbconvert_exporter": "python",
   "pygments_lexer": "ipython3",
   "version": "3.9.7"
  }
 },
 "nbformat": 4,
 "nbformat_minor": 5
}
